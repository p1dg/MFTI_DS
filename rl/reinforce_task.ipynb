{
  "cells": [
    {
      "cell_type": "markdown",
      "metadata": {
        "id": "cMMvaP0-7kcH"
      },
      "source": [
        "## Градиент стратегии: REINFORCE."
      ]
    },
    {
      "cell_type": "markdown",
      "metadata": {
        "id": "1NzGw4q27kcK"
      },
      "source": [
        "Теорема о градиенте стратегии связывает градиент целевой функции  и градиент самой стратегии:\n",
        "\n",
        "$$\\nabla_\\theta J(\\theta) = \\mathbb{E}_\\pi [Q^\\pi(s, a) \\nabla_\\theta \\ln \\pi_\\theta(a \\vert s)]$$\n",
        "\n",
        "Если использовать метод Монте-Карло в качестве несмещенной оценки $Q^\\pi(s, a)$ отдачу $R_t$, то тогда происходит переход к алгоритму REINFORCE и обновление весов будет осуществляться по правилу:\n",
        "\n",
        "$$\\nabla_\\theta J(\\theta) = [R_t \\nabla_\\theta \\ln \\pi_\\theta(A_t \\vert S_t)]$$"
      ]
    },
    {
      "cell_type": "code",
      "execution_count": null,
      "metadata": {
        "id": "YqQKwzVH7kcL"
      },
      "outputs": [],
      "source": [
        "try:\n",
        "    import google.colab\n",
        "    COLAB = True\n",
        "except ModuleNotFoundError:\n",
        "    COLAB = False\n",
        "    pass\n",
        "\n",
        "if COLAB:\n",
        "    !pip -q install \"gymnasium[classic-control, atari, accept-rom-license]\"\n",
        "    !pip -q install piglet\n",
        "    !pip -q install imageio_ffmpeg\n",
        "    !pip -q install moviepy==1.0.3"
      ]
    },
    {
      "cell_type": "code",
      "execution_count": null,
      "metadata": {
        "pycharm": {
          "name": "#%%\n"
        },
        "id": "D93OMQpr7kcM",
        "outputId": "82d7ebd9-4716-4a5a-888d-aeeaff835e0a",
        "colab": {
          "base_uri": "https://localhost:8080/"
        }
      },
      "outputs": [
        {
          "output_type": "execute_result",
          "data": {
            "text/plain": [
              "device(type='cpu')"
            ]
          },
          "metadata": {},
          "execution_count": 2
        }
      ],
      "source": [
        "import torch\n",
        "import torch.nn as nn\n",
        "from torch.distributions import Categorical\n",
        "import gymnasium as gym\n",
        "import numpy as np\n",
        "\n",
        "device = torch.device(\"cuda:0\" if torch.cuda.is_available() else \"cpu\")\n",
        "device"
      ]
    },
    {
      "cell_type": "markdown",
      "metadata": {
        "id": "yCY5rjFR7kcM"
      },
      "source": [
        "### Основной цикл"
      ]
    },
    {
      "cell_type": "code",
      "execution_count": null,
      "metadata": {
        "id": "nfEeYlAx7kcN"
      },
      "outputs": [],
      "source": [
        "def print_mean_reward(step, episode_rewards):\n",
        "    if not episode_rewards:\n",
        "        return\n",
        "\n",
        "    t = min(50, len(episode_rewards))\n",
        "    mean_reward = sum(episode_rewards[-t:]) / t\n",
        "    print(f\"step: {str(step).zfill(6)}, mean reward: {mean_reward:.2f}\")\n",
        "    return mean_reward\n",
        "\n",
        "\n",
        "class Rollout:\n",
        "    def __init__(self):\n",
        "        self.logprobs = []\n",
        "        self.rewards = []\n",
        "        self.is_terminals = []\n",
        "\n",
        "    def append(self, log_prob, reward, done):\n",
        "        self.logprobs.append(log_prob)\n",
        "        self.rewards.append(reward)\n",
        "        self.is_terminals.append(done)\n",
        "\n",
        "\n",
        "def run(env: gym.Env, hidden_size: int, lr: float, gamma: float, max_episodes: int, rollout_size: int):\n",
        "    # Инициализируйте агента `agent`\n",
        "    \"\"\"<codehere>\"\"\"\n",
        "    agent = ReinforceAgent(env.observation_space.shape[0], env.action_space.n, hidden_size, lr, gamma)\n",
        "    \"\"\"</codehere>\"\"\"\n",
        "\n",
        "    step = 0\n",
        "    rollout = Rollout()\n",
        "    episode_rewards = []\n",
        "\n",
        "    for i_episode in range(1, max_episodes + 1):\n",
        "        cumulative_reward = 0\n",
        "        terminated = False\n",
        "        state, _ = env.reset()\n",
        "\n",
        "        while not terminated:\n",
        "            step += 1\n",
        "\n",
        "            action, log_prob = agent.act(state)\n",
        "            state, reward, terminated, truncated, _ = env.step(action)\n",
        "\n",
        "            # сохраняем награды и флаги терминальных состояний:\n",
        "            rollout.append(log_prob, reward, terminated)\n",
        "            cumulative_reward += reward\n",
        "            terminated |= truncated\n",
        "\n",
        "        episode_rewards.append(cumulative_reward)\n",
        "\n",
        "        # выполняем обновление\n",
        "        if len(rollout.rewards) >= rollout_size:\n",
        "            agent.update(rollout)\n",
        "            mean_reward = print_mean_reward(step, episode_rewards)\n",
        "            if mean_reward >= 200:\n",
        "                print('Принято!')\n",
        "                return\n",
        "            rollout = Rollout()\n",
        "            episode_rewards = []"
      ]
    },
    {
      "cell_type": "code",
      "execution_count": null,
      "metadata": {
        "id": "Drecl29k7kcN"
      },
      "outputs": [],
      "source": [
        "# Реализуйте класс, задающий стратегию агента.\n",
        "# Подсказки:\n",
        "#     1) можно воспользоваться базовым классом `torch.nn.Module`,\n",
        "#     2) размер нейронной сети можно выбрать таким: (input_dim, hidden_dim, output_dim),\n",
        "#     3) в качестве функции активации возьмите гиперболический тангенс или ReLU\n",
        "#     4) подумайте, как получить на выходе из нейронной сети вероятности действий,\n",
        "#     5) для выбора действия в соответствии со стратегией, можно воспользоваться `torch.distributions.Categorical`\n",
        "#     6) помните, что помимо самого действия вам позже также пригодится логарифм его вероятности\n",
        "\"\"\"<codehere>\"\"\"\n",
        "class MLPModel(nn.Module):\n",
        "    def __init__(self, state_dim, action_dim, hidden):\n",
        "        super().__init__()\n",
        "        # Определяем сеть для предсказания действий,\n",
        "        # на вход вектор по размеру состояний\n",
        "        # на выходе вектор по размеру действий\n",
        "        self.net =\n",
        "\n",
        "    def forward(self, state):\n",
        "        # Предсказываем действия\n",
        "        state =\n",
        "        action_probs =\n",
        "\n",
        "        dist = Categorical(action_probs)\n",
        "        action = dist.sample()\n",
        "\n",
        "        return action.item(), dist.log_prob(action)\n",
        "\"\"\"</codehere>\"\"\"\n",
        "\n",
        "\n",
        "class ReinforceAgent:\n",
        "    def __init__(self, state_dim, action_dim, n_latent_var, lr, gamma):\n",
        "        self.lr = lr\n",
        "        self.gamma = gamma\n",
        "\n",
        "        # Инициализируйте стратегию агента и SGD оптимизатор (например, `torch.optim.Adam`)\n",
        "        \"\"\"<codehere>\"\"\"\n",
        "\n",
        "        \"\"\"</codehere>\"\"\"\n",
        "\n",
        "    def act(self, state):\n",
        "        # Произведите выбор действия и верните кортеж (действие, логарифм вероятности этого действия)\n",
        "        \"\"\"<codehere>\"\"\"\n",
        "\n",
        "        \"\"\"</codehere>\"\"\"\n",
        "\n",
        "    def update(self, rollout: Rollout):\n",
        "        # Конвертируйте накопленный список вознаграждений в список отдач. Назовем его `rewards`\n",
        "        # Подсказки:\n",
        "        #    1) обход списка стоит делать в обратном порядке,\n",
        "        #    2) не забывайте сбрасывать отдачу при окончании эпизода\n",
        "        # rewards =\n",
        "        \"\"\"<codehere>\"\"\"\n",
        "\n",
        "\n",
        "\n",
        "        \"\"\"</codehere>\"\"\"\n",
        "\n",
        "        # Выполните нормализацию вознаграждений (отдач) через отклонение\n",
        "        # rewards =\n",
        "        \"\"\"<codehere>\"\"\"\n",
        "\n",
        "        \"\"\"</codehere>\"\"\"\n",
        "\n",
        "        # Вычислите ошибку `loss` и произведите шаг обновления градиентным спуском\n",
        "        # Подсказки: используйте `.to(device)`, чтобы разместить тензор на соотв. цпу/гпу\n",
        "        \"\"\"<codehere>\"\"\"\n",
        "\n",
        "        print(f'L: {loss}')\n",
        "\n",
        "        self.optimizer.zero_grad()\n",
        "        loss.backward()\n",
        "        self.optimizer.step()\n",
        "        \"\"\"</codehere>\"\"\""
      ]
    },
    {
      "cell_type": "markdown",
      "metadata": {
        "id": "Gr5pnL5o7kcO"
      },
      "source": [
        "### Определяем гиперпараметры и запускаем обучение"
      ]
    },
    {
      "cell_type": "code",
      "execution_count": null,
      "metadata": {
        "id": "5XTJAeeD7kcO",
        "outputId": "2ceddb01-9ba6-4395-9dae-be786285a6f9"
      },
      "outputs": [
        {
          "name": "stdout",
          "output_type": "stream",
          "text": [
            "L: 0.006624714937061071\n",
            "step: 000501, mean reward: 19.27\n",
            "L: -0.009398132562637329\n",
            "step: 001002, mean reward: 21.78\n",
            "L: -0.014965783804655075\n",
            "step: 001528, mean reward: 32.88\n",
            "L: -0.0019939704798161983\n",
            "step: 002082, mean reward: 55.40\n",
            "L: 0.004818425979465246\n",
            "step: 002623, mean reward: 54.10\n",
            "L: -0.0022677441593259573\n",
            "step: 003144, mean reward: 43.42\n",
            "L: 0.003046266036108136\n",
            "step: 003693, mean reward: 54.90\n",
            "L: -0.003125885734334588\n",
            "step: 004221, mean reward: 58.67\n",
            "L: -0.0093100406229496\n",
            "step: 004723, mean reward: 62.75\n",
            "L: -0.0051866876892745495\n",
            "step: 005306, mean reward: 83.29\n",
            "L: 0.018178287893533707\n",
            "step: 005806, mean reward: 62.50\n",
            "L: 0.0035867877304553986\n",
            "step: 006369, mean reward: 70.38\n",
            "L: 0.0006288680015131831\n",
            "step: 006904, mean reward: 89.17\n",
            "L: 0.006145173218101263\n",
            "step: 007435, mean reward: 106.20\n",
            "L: -0.04876646026968956\n",
            "step: 007988, mean reward: 110.60\n",
            "L: -0.0015780149260535836\n",
            "step: 008596, mean reward: 152.00\n",
            "L: -0.019675662741065025\n",
            "step: 009162, mean reward: 141.50\n",
            "L: -0.028318218886852264\n",
            "step: 009848, mean reward: 228.67\n",
            "Принято!\n"
          ]
        }
      ],
      "source": [
        "from gymnasium.wrappers.time_limit import TimeLimit\n",
        "env_name = \"CartPole-v1\"\n",
        "\n",
        "run(\n",
        "    env = TimeLimit(gym.make(env_name), 1000),\n",
        "    max_episodes = 50000,  # количество эпизодов обучения\n",
        "    hidden_size = 64,  # кол-во переменных в скрытых слоях\n",
        "    rollout_size = 500,  # через столько шагов стратегия будет обновляться\n",
        "    lr = 0.01, # learning rate\n",
        "    gamma = 0.995,  # дисконтирующий множитель,\n",
        ")"
      ]
    },
    {
      "cell_type": "code",
      "execution_count": null,
      "metadata": {
        "id": "5WFTkxhL7kcO",
        "outputId": "33b3b617-c8c1-460a-9610-affa83c0f618"
      },
      "outputs": [
        {
          "name": "stdout",
          "output_type": "stream",
          "text": [
            "Saved in:  render/reinforce.ipynb\n",
            "Saved in:  render/reinforce-solution.ipynb\n"
          ]
        },
        {
          "data": {
            "text/plain": [
              "'</comment>'"
            ]
          },
          "execution_count": 2,
          "metadata": {},
          "output_type": "execute_result"
        }
      ],
      "source": [
        "\"\"\"<comment>\"\"\"\n",
        "from codehere import convert\n",
        "import os\n",
        "\n",
        "os.makedirs('render', exist_ok=True)\n",
        "\n",
        "nb_name = 'reinforce'\n",
        "convert(\n",
        "    file=f'{nb_name}.ipynb',\n",
        "    outfile=f'render/{nb_name}.ipynb',\n",
        "    clear=True, replacement=\" Здесь ваш код \"\n",
        ")\n",
        "convert(\n",
        "    file=f'{nb_name}.ipynb',\n",
        "    outfile=f'render/{nb_name}-solution.ipynb',\n",
        "    clear=True, solution=True, replacement=\" Здесь ваш код \"\n",
        ")\n",
        "\"\"\"</comment>\"\"\""
      ]
    }
  ],
  "metadata": {
    "kernelspec": {
      "display_name": "Python 3 (ipykernel)",
      "language": "python",
      "name": "python3"
    },
    "language_info": {
      "codemirror_mode": {
        "name": "ipython",
        "version": 3
      },
      "file_extension": ".py",
      "mimetype": "text/x-python",
      "name": "python",
      "nbconvert_exporter": "python",
      "pygments_lexer": "ipython3",
      "version": "3.9.16"
    },
    "colab": {
      "provenance": []
    }
  },
  "nbformat": 4,
  "nbformat_minor": 0
}