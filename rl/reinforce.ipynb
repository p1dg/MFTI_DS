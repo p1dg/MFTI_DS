{
  "cells": [
    {
      "cell_type": "markdown",
      "metadata": {
        "id": "cMMvaP0-7kcH"
      },
      "source": [
        "## Градиент стратегии: REINFORCE.\n"
      ]
    },
    {
      "cell_type": "markdown",
      "metadata": {
        "id": "1NzGw4q27kcK"
      },
      "source": [
        "Теорема о градиенте стратегии связывает градиент целевой функции и градиент самой стратегии:\n",
        "\n",
        "$$\\nabla_\\theta J(\\theta) = \\mathbb{E}_\\pi [Q^\\pi(s, a) \\nabla_\\theta \\ln \\pi_\\theta(a \\vert s)]$$\n",
        "\n",
        "Если использовать метод Монте-Карло в качестве несмещенной оценки $Q^\\pi(s, a)$ отдачу $R_t$, то тогда происходит переход к алгоритму REINFORCE и обновление весов будет осуществляться по правилу:\n",
        "\n",
        "$$\\nabla_\\theta J(\\theta) = [R_t \\nabla_\\theta \\ln \\pi_\\theta(A_t \\vert S_t)]$$\n"
      ]
    },
    {
      "cell_type": "code",
      "execution_count": 1,
      "metadata": {
        "colab": {
          "base_uri": "https://localhost:8080/"
        },
        "id": "YqQKwzVH7kcL",
        "outputId": "14ffd754-e87c-49fb-ae43-2f06a8ffa145"
      },
      "outputs": [],
      "source": [
        "try:\n",
        "    import google.colab\n",
        "\n",
        "    COLAB = True\n",
        "except ModuleNotFoundError:\n",
        "    COLAB = False\n",
        "    pass\n",
        "\n",
        "if COLAB:\n",
        "    !pip -q install \"gymnasium[classic-control, atari, accept-rom-license]\"\n",
        "    !pip -q install piglet\n",
        "    !pip -q install imageio_ffmpeg\n",
        "    !pip -q install moviepy==1.0.3"
      ]
    },
    {
      "cell_type": "code",
      "execution_count": 2,
      "metadata": {
        "colab": {
          "base_uri": "https://localhost:8080/"
        },
        "id": "D93OMQpr7kcM",
        "outputId": "c3278be0-b44f-4825-defc-49bce9b96133",
        "pycharm": {
          "name": "#%%\n"
        }
      },
      "outputs": [
        {
          "data": {
            "text/plain": [
              "device(type='cuda', index=0)"
            ]
          },
          "execution_count": 2,
          "metadata": {},
          "output_type": "execute_result"
        }
      ],
      "source": [
        "import torch\n",
        "import torch.nn as nn\n",
        "from torch.distributions import Categorical\n",
        "import gymnasium as gym\n",
        "import numpy as np\n",
        "\n",
        "device = torch.device(\"cuda:0\" if torch.cuda.is_available() else \"cpu\")\n",
        "device"
      ]
    },
    {
      "cell_type": "markdown",
      "metadata": {
        "id": "yCY5rjFR7kcM"
      },
      "source": [
        "### Основной цикл\n"
      ]
    },
    {
      "cell_type": "code",
      "execution_count": 3,
      "metadata": {
        "id": "nfEeYlAx7kcN"
      },
      "outputs": [],
      "source": [
        "def print_mean_reward(step, episode_rewards):\n",
        "    if not episode_rewards:\n",
        "        return\n",
        "\n",
        "    t = min(50, len(episode_rewards))\n",
        "    mean_reward = sum(episode_rewards[-t:]) / t\n",
        "    print(f\"step: {str(step).zfill(6)}, mean reward: {mean_reward:.2f}\")\n",
        "    return mean_reward\n",
        "\n",
        "\n",
        "class Rollout:\n",
        "    def __init__(self):\n",
        "        self.logprobs = []\n",
        "        self.rewards = []\n",
        "        self.is_terminals = []\n",
        "\n",
        "    def append(self, log_prob, reward, done):\n",
        "        self.logprobs.append(log_prob)\n",
        "        self.rewards.append(reward)\n",
        "        self.is_terminals.append(done)\n",
        "\n",
        "\n",
        "def run(\n",
        "    env: gym.Env,\n",
        "    hidden_size: int,\n",
        "    lr: float,\n",
        "    gamma: float,\n",
        "    max_episodes: int,\n",
        "    rollout_size: int,\n",
        "):\n",
        "    # Инициализируйте агента `agent`\n",
        "    \"\"\"<codehere>\"\"\"\n",
        "    agent = ReinforceAgent(\n",
        "        env.observation_space.shape[0], env.action_space.n, hidden_size, lr, gamma\n",
        "    )\n",
        "    \"\"\"</codehere>\"\"\"\n",
        "\n",
        "    step = 0\n",
        "    rollout = Rollout()\n",
        "    episode_rewards = []\n",
        "    episodes_visual = []\n",
        "    for i_episode in range(1, max_episodes + 1):\n",
        "        cumulative_reward = 0\n",
        "        terminated = False\n",
        "        state, _ = env.reset()\n",
        "        episode_gif = []\n",
        "        while not terminated:\n",
        "            step += 1\n",
        "\n",
        "            action, log_prob = agent.act(state)\n",
        "            state, reward, terminated, truncated, _ = env.step(action)\n",
        "            # сохраняем награды и флаги терминальных состояний:\n",
        "            rollout.append(log_prob, reward, terminated)\n",
        "            cumulative_reward += reward\n",
        "            terminated |= truncated\n",
        "        episode_rewards.append(cumulative_reward)\n",
        "\n",
        "        # выполняем обновление\n",
        "        if len(rollout.rewards) >= rollout_size:\n",
        "            agent.update(rollout)\n",
        "            mean_reward = print_mean_reward(step, episode_rewards)\n",
        "            if mean_reward >= 200:\n",
        "                print(\"Принято!\")\n",
        "                return\n",
        "            rollout = Rollout()\n",
        "            episode_rewards = []\n",
        "    return episodes_visual"
      ]
    },
    {
      "cell_type": "code",
      "execution_count": 4,
      "metadata": {
        "id": "Drecl29k7kcN"
      },
      "outputs": [],
      "source": [
        "# Реализуйте класс, задающий стратегию агента.\n",
        "# Подсказки:\n",
        "#     1) можно воспользоваться базовым классом `torch.nn.Module`,\n",
        "#     2) размер нейронной сети можно выбрать таким: (input_dim, hidden_dim, output_dim),\n",
        "#     3) в качестве функции активации возьмите гиперболический тангенс или ReLU\n",
        "#     4) подумайте, как получить на выходе из нейронной сети вероятности действий,\n",
        "#     5) для выбора действия в соответствии со стратегией, можно воспользоваться `torch.distributions.Categorical`\n",
        "#     6) помните, что помимо самого действия вам позже также пригодится логарифм его вероятности\n",
        "\"\"\"<codehere>\"\"\"\n",
        "\n",
        "\n",
        "class MLPModel(nn.Module):\n",
        "    def __init__(self, state_dim, action_dim, hidden):\n",
        "        super().__init__()\n",
        "\n",
        "        self.net = nn.Sequential(\n",
        "            nn.Linear(state_dim, hidden),\n",
        "            nn.Tanh(),\n",
        "            nn.Linear(hidden, hidden),\n",
        "            nn.Tanh(),\n",
        "            nn.Linear(hidden, action_dim),\n",
        "            nn.Softmax(dim=-1),\n",
        "        )\n",
        "\n",
        "    def forward(self, state):\n",
        "        state = torch.from_numpy(state).float().to(device)\n",
        "\n",
        "        action_probs = self.net(state)  # [0.1, 0.2, 0.7 ]\n",
        "        # 100 200 200 100 20\n",
        "        # np.random.choice([0,1,2], p = [0.1, 0.2, 0.7])\n",
        "        dist = Categorical(action_probs)\n",
        "        action = dist.sample()  # -> 2\n",
        "\n",
        "        return action.item(), dist.log_prob(action)\n",
        "\n",
        "\n",
        "\"\"\"</codehere>\"\"\"\n",
        "\n",
        "\n",
        "class ReinforceAgent:\n",
        "    def __init__(self, state_dim, action_dim, n_latent_var, lr, gamma):\n",
        "        self.lr = lr\n",
        "        self.gamma = gamma\n",
        "\n",
        "        # Инициализируйте стратегию агента и SGD оптимизатор (например, `torch.optim.Adam`)\n",
        "        \"\"\"<codehere>\"\"\"\n",
        "        self.policy = MLPModel(state_dim, action_dim, n_latent_var).to(device)\n",
        "        self.optimizer = torch.optim.Adam(self.policy.parameters(), lr=lr)\n",
        "        \"\"\"</codehere>\"\"\"\n",
        "\n",
        "    def act(self, state):\n",
        "        # Произведите выбор действия и верните кортеж (действие, логарифм вероятности этого действия)\n",
        "        \"\"\"<codehere>\"\"\"\n",
        "        return self.policy(state)\n",
        "        \"\"\"</codehere>\"\"\"\n",
        "\n",
        "    def update(self, rollout: Rollout):\n",
        "        # Конвертируйте накопленный список вознаграждений в список отдач. Назовем его `rewards`\n",
        "        # Подсказки:\n",
        "        #    1) обход списка стоит делать в обратном порядке,\n",
        "        #    2) не забывайте сбрасывать отдачу при окончании эпизода\n",
        "        # rewards = !!! returns\n",
        "        \"\"\"<codehere>\"\"\"\n",
        "        rollout_len = len(rollout.rewards)\n",
        "        rewards = np.empty(rollout_len, dtype=float)\n",
        "        ret = 0\n",
        "\n",
        "        # R(1) = 1 + gamma(R(2)) - 1\n",
        "        # R(2) = 3 + gamma(R(3)) - # 5, 1 -> V[s] - aggr\n",
        "        # R(3) = 2 + gamma(R(4)) - 6\n",
        "        # ret = R(4)\n",
        "        # R(4) = 1 + gamma(0) - 1\n",
        "\n",
        "        for i in reversed(range(rollout_len)):\n",
        "            reward, is_terminal = rollout.rewards[i], rollout.is_terminals[i]\n",
        "            ret = reward + (self.gamma * ret * (not is_terminal))\n",
        "            rewards[i] = ret\n",
        "        \"\"\"</codehere>\"\"\"\n",
        "\n",
        "        # Выполните нормализацию вознаграждений (отдач)\n",
        "        # rewards =\n",
        "        \"\"\"<codehere>\"\"\"\n",
        "        rewards = (rewards - rewards.mean()) / (rewards.std() + 1e-7)\n",
        "        \"\"\"</codehere>\"\"\"\n",
        "\n",
        "        # Вычислите ошибку `loss` и произведите шаг обновления градиентным спуском\n",
        "        # Подсказки: используйте `.to(device)`, чтобы разместить тензор на соотв. цпу/гпу\n",
        "        \"\"\"<codehere>\"\"\"\n",
        "        rewards = torch.tensor(rewards, dtype=torch.float32).to(device)\n",
        "        logprobs = torch.stack(rollout.logprobs).to(device)\n",
        "        # print(f'R: {rewards[:3]}, logprobs: {logprobs[:3]}')\n",
        "\n",
        "        loss = -logprobs * rewards\n",
        "        loss = loss.mean()\n",
        "\n",
        "        print(f\"L: {loss}\")\n",
        "\n",
        "        self.optimizer.zero_grad()\n",
        "        loss.backward()\n",
        "        self.optimizer.step()\n",
        "        \"\"\"</codehere>\"\"\""
      ]
    },
    {
      "cell_type": "markdown",
      "metadata": {
        "id": "Gr5pnL5o7kcO"
      },
      "source": [
        "### Определяем гиперпараметры и запускаем обучение\n"
      ]
    },
    {
      "cell_type": "code",
      "execution_count": 5,
      "metadata": {
        "colab": {
          "base_uri": "https://localhost:8080/",
          "height": 332
        },
        "id": "5XTJAeeD7kcO",
        "outputId": "6f8750e1-b16c-4ebc-a46a-954f267f23d4"
      },
      "outputs": [
        {
          "name": "stdout",
          "output_type": "stream",
          "text": [
            "L: -0.004577735438942909\n",
            "step: 000541, mean reward: 21.64\n",
            "L: -0.008220987394452095\n",
            "step: 001074, mean reward: 38.07\n",
            "L: 0.011626758612692356\n",
            "step: 001604, mean reward: 48.18\n",
            "L: 0.005892101675271988\n",
            "step: 002148, mean reward: 90.67\n",
            "L: 0.012964273802936077\n",
            "step: 002689, mean reward: 60.11\n",
            "L: -0.007339139934629202\n",
            "step: 003220, mean reward: 44.25\n",
            "L: 0.007557057309895754\n",
            "step: 003752, mean reward: 106.40\n",
            "L: 0.02649216167628765\n",
            "step: 004267, mean reward: 73.57\n",
            "L: 0.0035177310928702354\n",
            "step: 004862, mean reward: 99.17\n",
            "L: -0.018950680270791054\n",
            "step: 005369, mean reward: 126.75\n",
            "L: 0.005300226155668497\n",
            "step: 005982, mean reward: 153.25\n",
            "L: -0.008382213301956654\n",
            "step: 006596, mean reward: 153.50\n",
            "L: 0.005981395486742258\n",
            "step: 007149, mean reward: 110.60\n",
            "L: -0.025074629113078117\n",
            "step: 007792, mean reward: 128.60\n",
            "L: -0.00324205681681633\n",
            "step: 008304, mean reward: 170.67\n",
            "L: -0.005932739470154047\n",
            "step: 008804, mean reward: 250.00\n",
            "Принято!\n"
          ]
        }
      ],
      "source": [
        "from gymnasium.wrappers.time_limit import TimeLimit\n",
        "\n",
        "env_name = \"CartPole-v1\"\n",
        "\n",
        "run(\n",
        "    env=TimeLimit(gym.make(env_name), 1000),\n",
        "    max_episodes=50000,  # количество эпизодов обучения\n",
        "    hidden_size=64,  # кол-во переменных в скрытых слоях\n",
        "    rollout_size=500,  # через столько шагов стратегия будет обновляться\n",
        "    lr=0.01,  # learning rate\n",
        "    gamma=0.995,  # дисконтирующий множитель,\n",
        ")"
      ]
    },
    {
      "cell_type": "code",
      "execution_count": 7,
      "metadata": {
        "id": "5WFTkxhL7kcO",
        "outputId": "33b3b617-c8c1-460a-9610-affa83c0f618"
      },
      "outputs": [
        {
          "ename": "ModuleNotFoundError",
          "evalue": "No module named 'codehere'",
          "output_type": "error",
          "traceback": [
            "\u001b[0;31m---------------------------------------------------------------------------\u001b[0m",
            "\u001b[0;31mModuleNotFoundError\u001b[0m                       Traceback (most recent call last)",
            "Cell \u001b[0;32mIn[7], line 3\u001b[0m\n\u001b[1;32m      1\u001b[0m \u001b[38;5;124;03m\"\"\"<comment>\"\"\"\u001b[39;00m\n\u001b[0;32m----> 3\u001b[0m \u001b[38;5;28;01mfrom\u001b[39;00m \u001b[38;5;21;01mcodehere\u001b[39;00m \u001b[38;5;28;01mimport\u001b[39;00m convert\n\u001b[1;32m      4\u001b[0m \u001b[38;5;28;01mimport\u001b[39;00m \u001b[38;5;21;01mos\u001b[39;00m\n\u001b[1;32m      6\u001b[0m os\u001b[38;5;241m.\u001b[39mmakedirs(\u001b[38;5;124m\"\u001b[39m\u001b[38;5;124mrender\u001b[39m\u001b[38;5;124m\"\u001b[39m, exist_ok\u001b[38;5;241m=\u001b[39m\u001b[38;5;28;01mTrue\u001b[39;00m)\n",
            "\u001b[0;31mModuleNotFoundError\u001b[0m: No module named 'codehere'"
          ]
        }
      ],
      "source": [
        "\"\"\"<comment>\"\"\"\n",
        "\n",
        "from codehere import convert\n",
        "import os\n",
        "\n",
        "os.makedirs(\"render\", exist_ok=True)\n",
        "\n",
        "nb_name = \"reinforce\"\n",
        "convert(\n",
        "    file=f\"{nb_name}.ipynb\",\n",
        "    outfile=f\"render/{nb_name}.ipynb\",\n",
        "    clear=True,\n",
        "    replacement=\" Здесь ваш код \",\n",
        ")\n",
        "convert(\n",
        "    file=f\"{nb_name}.ipynb\",\n",
        "    outfile=f\"render/{nb_name}-solution.ipynb\",\n",
        "    clear=True,\n",
        "    solution=True,\n",
        "    replacement=\" Здесь ваш код \",\n",
        ")\n",
        "\"\"\"</comment>\"\"\""
      ]
    }
  ],
  "metadata": {
    "colab": {
      "provenance": []
    },
    "kernelspec": {
      "display_name": "Python 3 (ipykernel)",
      "language": "python",
      "name": "python3"
    },
    "language_info": {
      "codemirror_mode": {
        "name": "ipython",
        "version": 3
      },
      "file_extension": ".py",
      "mimetype": "text/x-python",
      "name": "python",
      "nbconvert_exporter": "python",
      "pygments_lexer": "ipython3",
      "version": "3.10.12"
    }
  },
  "nbformat": 4,
  "nbformat_minor": 0
}
