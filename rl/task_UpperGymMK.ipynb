{
  "cells": [
    {
      "cell_type": "code",
      "execution_count": 1,
      "metadata": {
        "colab": {
          "base_uri": "https://localhost:8080/"
        },
        "id": "HW9Y0CPl1ENl",
        "outputId": "55deb35b-6d2f-4ee4-a2d5-567e2ff983f7"
      },
      "outputs": [
        {
          "name": "stdout",
          "output_type": "stream",
          "text": [
            "Defaulting to user installation because normal site-packages is not writeable\n",
            "Requirement already satisfied: gymnasium in /home/p1dg/.local/lib/python3.10/site-packages (0.29.1)\n",
            "Requirement already satisfied: numpy>=1.21.0 in /home/p1dg/.local/lib/python3.10/site-packages (from gymnasium) (1.26.3)\n",
            "Requirement already satisfied: typing-extensions>=4.3.0 in /home/p1dg/.local/lib/python3.10/site-packages (from gymnasium) (4.9.0)\n",
            "Requirement already satisfied: farama-notifications>=0.0.1 in /home/p1dg/.local/lib/python3.10/site-packages (from gymnasium) (0.0.4)\n",
            "Requirement already satisfied: cloudpickle>=1.2.0 in /home/p1dg/.local/lib/python3.10/site-packages (from gymnasium) (3.0.0)\n",
            "\u001b[33mWARNING: There was an error checking the latest version of pip.\u001b[0m\u001b[33m\n",
            "\u001b[0mDefaulting to user installation because normal site-packages is not writeable\n",
            "Collecting atari-py\n",
            "  Downloading atari-py-0.2.9.tar.gz (540 kB)\n",
            "\u001b[2K     \u001b[90m━━━━━━━━━━━━━━━━━━━━━━━━━━━━━━━━━━━━━━━\u001b[0m \u001b[32m540.6/540.6 kB\u001b[0m \u001b[31m3.3 MB/s\u001b[0m eta \u001b[36m0:00:00\u001b[0ma \u001b[36m0:00:01\u001b[0m\n",
            "\u001b[?25h  Preparing metadata (setup.py) ... \u001b[?25ldone\n",
            "\u001b[?25hRequirement already satisfied: numpy in /home/p1dg/.local/lib/python3.10/site-packages (from atari-py) (1.26.3)\n",
            "Requirement already satisfied: six in /usr/lib/python3/dist-packages (from atari-py) (1.16.0)\n",
            "Building wheels for collected packages: atari-py\n",
            "  Building wheel for atari-py (setup.py) ... \u001b[?25lerror\n",
            "  \u001b[1;31merror\u001b[0m: \u001b[1msubprocess-exited-with-error\u001b[0m\n",
            "  \n",
            "  \u001b[31m×\u001b[0m \u001b[32mpython setup.py bdist_wheel\u001b[0m did not run successfully.\n",
            "  \u001b[31m│\u001b[0m exit code: \u001b[1;36m1\u001b[0m\n",
            "  \u001b[31m╰─>\u001b[0m \u001b[31m[402 lines of output]\u001b[0m\n",
            "  \u001b[31m   \u001b[0m running bdist_wheel\n",
            "  \u001b[31m   \u001b[0m running build\n",
            "  \u001b[31m   \u001b[0m running build_py\n",
            "  \u001b[31m   \u001b[0m creating build\n",
            "  \u001b[31m   \u001b[0m creating build/lib.linux-x86_64-3.10\n",
            "  \u001b[31m   \u001b[0m creating build/lib.linux-x86_64-3.10/atari_py\n",
            "  \u001b[31m   \u001b[0m copying atari_py/games.py -> build/lib.linux-x86_64-3.10/atari_py\n",
            "  \u001b[31m   \u001b[0m copying atari_py/__init__.py -> build/lib.linux-x86_64-3.10/atari_py\n",
            "  \u001b[31m   \u001b[0m copying atari_py/import_roms.py -> build/lib.linux-x86_64-3.10/atari_py\n",
            "  \u001b[31m   \u001b[0m copying atari_py/ale_python_interface.py -> build/lib.linux-x86_64-3.10/atari_py\n",
            "  \u001b[31m   \u001b[0m creating build/lib.linux-x86_64-3.10/atari_py/ale_interface\n",
            "  \u001b[31m   \u001b[0m copying atari_py/ale_interface/md5.txt -> build/lib.linux-x86_64-3.10/atari_py/ale_interface\n",
            "  \u001b[31m   \u001b[0m copying atari_py/ale_c_wrapper.cpp -> build/lib.linux-x86_64-3.10/atari_py\n",
            "  \u001b[31m   \u001b[0m copying atari_py/ale_c_wrapper.h -> build/lib.linux-x86_64-3.10/atari_py\n",
            "  \u001b[31m   \u001b[0m copying atari_py/ale_interface/CMakeLists.txt -> build/lib.linux-x86_64-3.10/atari_py/ale_interface\n",
            "  \u001b[31m   \u001b[0m creating build/lib.linux-x86_64-3.10/atari_py/ale_interface/src\n",
            "  \u001b[31m   \u001b[0m copying atari_py/ale_interface/src/ale_interface.cpp -> build/lib.linux-x86_64-3.10/atari_py/ale_interface/src\n",
            "  \u001b[31m   \u001b[0m copying atari_py/ale_interface/src/ale_interface.hpp -> build/lib.linux-x86_64-3.10/atari_py/ale_interface/src\n",
            "  \u001b[31m   \u001b[0m creating build/lib.linux-x86_64-3.10/atari_py/ale_interface/src/common\n",
            "  \u001b[31m   \u001b[0m copying atari_py/ale_interface/src/common/Array.hxx -> build/lib.linux-x86_64-3.10/atari_py/ale_interface/src/common\n",
            "  \u001b[31m   \u001b[0m copying atari_py/ale_interface/src/common/ColourPalette.cpp -> build/lib.linux-x86_64-3.10/atari_py/ale_interface/src/common\n",
            "  \u001b[31m   \u001b[0m copying atari_py/ale_interface/src/common/ColourPalette.hpp -> build/lib.linux-x86_64-3.10/atari_py/ale_interface/src/common\n",
            "  \u001b[31m   \u001b[0m copying atari_py/ale_interface/src/common/Constants.cpp -> build/lib.linux-x86_64-3.10/atari_py/ale_interface/src/common\n",
            "  \u001b[31m   \u001b[0m copying atari_py/ale_interface/src/common/Constants.h -> build/lib.linux-x86_64-3.10/atari_py/ale_interface/src/common\n",
            "  \u001b[31m   \u001b[0m copying atari_py/ale_interface/src/common/Log.cpp -> build/lib.linux-x86_64-3.10/atari_py/ale_interface/src/common\n",
            "  \u001b[31m   \u001b[0m copying atari_py/ale_interface/src/common/Log.hpp -> build/lib.linux-x86_64-3.10/atari_py/ale_interface/src/common\n",
            "  \u001b[31m   \u001b[0m copying atari_py/ale_interface/src/common/Palettes.hpp -> build/lib.linux-x86_64-3.10/atari_py/ale_interface/src/common\n",
            "  \u001b[31m   \u001b[0m copying atari_py/ale_interface/src/common/ScreenExporter.cpp -> build/lib.linux-x86_64-3.10/atari_py/ale_interface/src/common\n",
            "  \u001b[31m   \u001b[0m copying atari_py/ale_interface/src/common/ScreenExporter.hpp -> build/lib.linux-x86_64-3.10/atari_py/ale_interface/src/common\n",
            "  \u001b[31m   \u001b[0m copying atari_py/ale_interface/src/common/SoundExporter.cpp -> build/lib.linux-x86_64-3.10/atari_py/ale_interface/src/common\n",
            "  \u001b[31m   \u001b[0m copying atari_py/ale_interface/src/common/SoundExporter.hpp -> build/lib.linux-x86_64-3.10/atari_py/ale_interface/src/common\n",
            "  \u001b[31m   \u001b[0m copying atari_py/ale_interface/src/common/SoundNull.cxx -> build/lib.linux-x86_64-3.10/atari_py/ale_interface/src/common\n",
            "  \u001b[31m   \u001b[0m copying atari_py/ale_interface/src/common/SoundNull.hxx -> build/lib.linux-x86_64-3.10/atari_py/ale_interface/src/common\n",
            "  \u001b[31m   \u001b[0m copying atari_py/ale_interface/src/common/SoundSDL.cxx -> build/lib.linux-x86_64-3.10/atari_py/ale_interface/src/common\n",
            "  \u001b[31m   \u001b[0m copying atari_py/ale_interface/src/common/SoundSDL.hxx -> build/lib.linux-x86_64-3.10/atari_py/ale_interface/src/common\n",
            "  \u001b[31m   \u001b[0m copying atari_py/ale_interface/src/common/Version.hxx -> build/lib.linux-x86_64-3.10/atari_py/ale_interface/src/common\n",
            "  \u001b[31m   \u001b[0m copying atari_py/ale_interface/src/common/VideoModeList.hxx -> build/lib.linux-x86_64-3.10/atari_py/ale_interface/src/common\n",
            "  \u001b[31m   \u001b[0m copying atari_py/ale_interface/src/common/display_screen.cpp -> build/lib.linux-x86_64-3.10/atari_py/ale_interface/src/common\n",
            "  \u001b[31m   \u001b[0m copying atari_py/ale_interface/src/common/display_screen.h -> build/lib.linux-x86_64-3.10/atari_py/ale_interface/src/common\n",
            "  \u001b[31m   \u001b[0m copying atari_py/ale_interface/src/common/misc_tools.h -> build/lib.linux-x86_64-3.10/atari_py/ale_interface/src/common\n",
            "  \u001b[31m   \u001b[0m copying atari_py/ale_interface/src/common/module.mk -> build/lib.linux-x86_64-3.10/atari_py/ale_interface/src/common\n",
            "  \u001b[31m   \u001b[0m copying atari_py/ale_interface/src/common/stella.png -> build/lib.linux-x86_64-3.10/atari_py/ale_interface/src/common\n",
            "  \u001b[31m   \u001b[0m copying atari_py/ale_interface/src/common/stella.xpm -> build/lib.linux-x86_64-3.10/atari_py/ale_interface/src/common\n",
            "  \u001b[31m   \u001b[0m creating build/lib.linux-x86_64-3.10/atari_py/ale_interface/src/controllers\n",
            "  \u001b[31m   \u001b[0m copying atari_py/ale_interface/src/controllers/ale_controller.cpp -> build/lib.linux-x86_64-3.10/atari_py/ale_interface/src/controllers\n",
            "  \u001b[31m   \u001b[0m copying atari_py/ale_interface/src/controllers/ale_controller.hpp -> build/lib.linux-x86_64-3.10/atari_py/ale_interface/src/controllers\n",
            "  \u001b[31m   \u001b[0m copying atari_py/ale_interface/src/controllers/fifo_controller.cpp -> build/lib.linux-x86_64-3.10/atari_py/ale_interface/src/controllers\n",
            "  \u001b[31m   \u001b[0m copying atari_py/ale_interface/src/controllers/fifo_controller.hpp -> build/lib.linux-x86_64-3.10/atari_py/ale_interface/src/controllers\n",
            "  \u001b[31m   \u001b[0m copying atari_py/ale_interface/src/controllers/module.mk -> build/lib.linux-x86_64-3.10/atari_py/ale_interface/src/controllers\n",
            "  \u001b[31m   \u001b[0m copying atari_py/ale_interface/src/controllers/rlglue_controller.cpp -> build/lib.linux-x86_64-3.10/atari_py/ale_interface/src/controllers\n",
            "  \u001b[31m   \u001b[0m copying atari_py/ale_interface/src/controllers/rlglue_controller.hpp -> build/lib.linux-x86_64-3.10/atari_py/ale_interface/src/controllers\n",
            "  \u001b[31m   \u001b[0m creating build/lib.linux-x86_64-3.10/atari_py/ale_interface/src/emucore\n",
            "  \u001b[31m   \u001b[0m copying atari_py/ale_interface/src/emucore/AtariVox.cxx -> build/lib.linux-x86_64-3.10/atari_py/ale_interface/src/emucore\n",
            "  \u001b[31m   \u001b[0m copying atari_py/ale_interface/src/emucore/AtariVox.hxx -> build/lib.linux-x86_64-3.10/atari_py/ale_interface/src/emucore\n",
            "  \u001b[31m   \u001b[0m copying atari_py/ale_interface/src/emucore/Booster.cxx -> build/lib.linux-x86_64-3.10/atari_py/ale_interface/src/emucore\n",
            "  \u001b[31m   \u001b[0m copying atari_py/ale_interface/src/emucore/Booster.hxx -> build/lib.linux-x86_64-3.10/atari_py/ale_interface/src/emucore\n",
            "  \u001b[31m   \u001b[0m copying atari_py/ale_interface/src/emucore/Cart.cxx -> build/lib.linux-x86_64-3.10/atari_py/ale_interface/src/emucore\n",
            "  \u001b[31m   \u001b[0m copying atari_py/ale_interface/src/emucore/Cart.hxx -> build/lib.linux-x86_64-3.10/atari_py/ale_interface/src/emucore\n",
            "  \u001b[31m   \u001b[0m copying atari_py/ale_interface/src/emucore/Cart0840.cxx -> build/lib.linux-x86_64-3.10/atari_py/ale_interface/src/emucore\n",
            "  \u001b[31m   \u001b[0m copying atari_py/ale_interface/src/emucore/Cart0840.hxx -> build/lib.linux-x86_64-3.10/atari_py/ale_interface/src/emucore\n",
            "  \u001b[31m   \u001b[0m copying atari_py/ale_interface/src/emucore/Cart2K.cxx -> build/lib.linux-x86_64-3.10/atari_py/ale_interface/src/emucore\n",
            "  \u001b[31m   \u001b[0m copying atari_py/ale_interface/src/emucore/Cart2K.hxx -> build/lib.linux-x86_64-3.10/atari_py/ale_interface/src/emucore\n",
            "  \u001b[31m   \u001b[0m copying atari_py/ale_interface/src/emucore/Cart3E.cxx -> build/lib.linux-x86_64-3.10/atari_py/ale_interface/src/emucore\n",
            "  \u001b[31m   \u001b[0m copying atari_py/ale_interface/src/emucore/Cart3E.hxx -> build/lib.linux-x86_64-3.10/atari_py/ale_interface/src/emucore\n",
            "  \u001b[31m   \u001b[0m copying atari_py/ale_interface/src/emucore/Cart3F.cxx -> build/lib.linux-x86_64-3.10/atari_py/ale_interface/src/emucore\n",
            "  \u001b[31m   \u001b[0m copying atari_py/ale_interface/src/emucore/Cart3F.hxx -> build/lib.linux-x86_64-3.10/atari_py/ale_interface/src/emucore\n",
            "  \u001b[31m   \u001b[0m copying atari_py/ale_interface/src/emucore/Cart4A50.cxx -> build/lib.linux-x86_64-3.10/atari_py/ale_interface/src/emucore\n",
            "  \u001b[31m   \u001b[0m copying atari_py/ale_interface/src/emucore/Cart4A50.hxx -> build/lib.linux-x86_64-3.10/atari_py/ale_interface/src/emucore\n",
            "  \u001b[31m   \u001b[0m copying atari_py/ale_interface/src/emucore/Cart4K.cxx -> build/lib.linux-x86_64-3.10/atari_py/ale_interface/src/emucore\n",
            "  \u001b[31m   \u001b[0m copying atari_py/ale_interface/src/emucore/Cart4K.hxx -> build/lib.linux-x86_64-3.10/atari_py/ale_interface/src/emucore\n",
            "  \u001b[31m   \u001b[0m copying atari_py/ale_interface/src/emucore/CartAR.cxx -> build/lib.linux-x86_64-3.10/atari_py/ale_interface/src/emucore\n",
            "  \u001b[31m   \u001b[0m copying atari_py/ale_interface/src/emucore/CartAR.hxx -> build/lib.linux-x86_64-3.10/atari_py/ale_interface/src/emucore\n",
            "  \u001b[31m   \u001b[0m copying atari_py/ale_interface/src/emucore/CartCV.cxx -> build/lib.linux-x86_64-3.10/atari_py/ale_interface/src/emucore\n",
            "  \u001b[31m   \u001b[0m copying atari_py/ale_interface/src/emucore/CartCV.hxx -> build/lib.linux-x86_64-3.10/atari_py/ale_interface/src/emucore\n",
            "  \u001b[31m   \u001b[0m copying atari_py/ale_interface/src/emucore/CartDPC.cxx -> build/lib.linux-x86_64-3.10/atari_py/ale_interface/src/emucore\n",
            "  \u001b[31m   \u001b[0m copying atari_py/ale_interface/src/emucore/CartDPC.hxx -> build/lib.linux-x86_64-3.10/atari_py/ale_interface/src/emucore\n",
            "  \u001b[31m   \u001b[0m copying atari_py/ale_interface/src/emucore/CartE0.cxx -> build/lib.linux-x86_64-3.10/atari_py/ale_interface/src/emucore\n",
            "  \u001b[31m   \u001b[0m copying atari_py/ale_interface/src/emucore/CartE0.hxx -> build/lib.linux-x86_64-3.10/atari_py/ale_interface/src/emucore\n",
            "  \u001b[31m   \u001b[0m copying atari_py/ale_interface/src/emucore/CartE7.cxx -> build/lib.linux-x86_64-3.10/atari_py/ale_interface/src/emucore\n",
            "  \u001b[31m   \u001b[0m copying atari_py/ale_interface/src/emucore/CartE7.hxx -> build/lib.linux-x86_64-3.10/atari_py/ale_interface/src/emucore\n",
            "  \u001b[31m   \u001b[0m copying atari_py/ale_interface/src/emucore/CartF4.cxx -> build/lib.linux-x86_64-3.10/atari_py/ale_interface/src/emucore\n",
            "  \u001b[31m   \u001b[0m copying atari_py/ale_interface/src/emucore/CartF4.hxx -> build/lib.linux-x86_64-3.10/atari_py/ale_interface/src/emucore\n",
            "  \u001b[31m   \u001b[0m copying atari_py/ale_interface/src/emucore/CartF4SC.cxx -> build/lib.linux-x86_64-3.10/atari_py/ale_interface/src/emucore\n",
            "  \u001b[31m   \u001b[0m copying atari_py/ale_interface/src/emucore/CartF4SC.hxx -> build/lib.linux-x86_64-3.10/atari_py/ale_interface/src/emucore\n",
            "  \u001b[31m   \u001b[0m copying atari_py/ale_interface/src/emucore/CartF6.cxx -> build/lib.linux-x86_64-3.10/atari_py/ale_interface/src/emucore\n",
            "  \u001b[31m   \u001b[0m copying atari_py/ale_interface/src/emucore/CartF6.hxx -> build/lib.linux-x86_64-3.10/atari_py/ale_interface/src/emucore\n",
            "  \u001b[31m   \u001b[0m copying atari_py/ale_interface/src/emucore/CartF6SC.cxx -> build/lib.linux-x86_64-3.10/atari_py/ale_interface/src/emucore\n",
            "  \u001b[31m   \u001b[0m copying atari_py/ale_interface/src/emucore/CartF6SC.hxx -> build/lib.linux-x86_64-3.10/atari_py/ale_interface/src/emucore\n",
            "  \u001b[31m   \u001b[0m copying atari_py/ale_interface/src/emucore/CartF8.cxx -> build/lib.linux-x86_64-3.10/atari_py/ale_interface/src/emucore\n",
            "  \u001b[31m   \u001b[0m copying atari_py/ale_interface/src/emucore/CartF8.hxx -> build/lib.linux-x86_64-3.10/atari_py/ale_interface/src/emucore\n",
            "  \u001b[31m   \u001b[0m copying atari_py/ale_interface/src/emucore/CartF8SC.cxx -> build/lib.linux-x86_64-3.10/atari_py/ale_interface/src/emucore\n",
            "  \u001b[31m   \u001b[0m copying atari_py/ale_interface/src/emucore/CartF8SC.hxx -> build/lib.linux-x86_64-3.10/atari_py/ale_interface/src/emucore\n",
            "  \u001b[31m   \u001b[0m copying atari_py/ale_interface/src/emucore/CartFASC.cxx -> build/lib.linux-x86_64-3.10/atari_py/ale_interface/src/emucore\n",
            "  \u001b[31m   \u001b[0m copying atari_py/ale_interface/src/emucore/CartFASC.hxx -> build/lib.linux-x86_64-3.10/atari_py/ale_interface/src/emucore\n",
            "  \u001b[31m   \u001b[0m copying atari_py/ale_interface/src/emucore/CartFE.cxx -> build/lib.linux-x86_64-3.10/atari_py/ale_interface/src/emucore\n",
            "  \u001b[31m   \u001b[0m copying atari_py/ale_interface/src/emucore/CartFE.hxx -> build/lib.linux-x86_64-3.10/atari_py/ale_interface/src/emucore\n",
            "  \u001b[31m   \u001b[0m copying atari_py/ale_interface/src/emucore/CartMB.cxx -> build/lib.linux-x86_64-3.10/atari_py/ale_interface/src/emucore\n",
            "  \u001b[31m   \u001b[0m copying atari_py/ale_interface/src/emucore/CartMB.hxx -> build/lib.linux-x86_64-3.10/atari_py/ale_interface/src/emucore\n",
            "  \u001b[31m   \u001b[0m copying atari_py/ale_interface/src/emucore/CartMC.cxx -> build/lib.linux-x86_64-3.10/atari_py/ale_interface/src/emucore\n",
            "  \u001b[31m   \u001b[0m copying atari_py/ale_interface/src/emucore/CartMC.hxx -> build/lib.linux-x86_64-3.10/atari_py/ale_interface/src/emucore\n",
            "  \u001b[31m   \u001b[0m copying atari_py/ale_interface/src/emucore/CartUA.cxx -> build/lib.linux-x86_64-3.10/atari_py/ale_interface/src/emucore\n",
            "  \u001b[31m   \u001b[0m copying atari_py/ale_interface/src/emucore/CartUA.hxx -> build/lib.linux-x86_64-3.10/atari_py/ale_interface/src/emucore\n",
            "  \u001b[31m   \u001b[0m copying atari_py/ale_interface/src/emucore/Console.cxx -> build/lib.linux-x86_64-3.10/atari_py/ale_interface/src/emucore\n",
            "  \u001b[31m   \u001b[0m copying atari_py/ale_interface/src/emucore/Console.hxx -> build/lib.linux-x86_64-3.10/atari_py/ale_interface/src/emucore\n",
            "  \u001b[31m   \u001b[0m copying atari_py/ale_interface/src/emucore/Control.cxx -> build/lib.linux-x86_64-3.10/atari_py/ale_interface/src/emucore\n",
            "  \u001b[31m   \u001b[0m copying atari_py/ale_interface/src/emucore/Control.hxx -> build/lib.linux-x86_64-3.10/atari_py/ale_interface/src/emucore\n",
            "  \u001b[31m   \u001b[0m copying atari_py/ale_interface/src/emucore/DefProps.hxx -> build/lib.linux-x86_64-3.10/atari_py/ale_interface/src/emucore\n",
            "  \u001b[31m   \u001b[0m copying atari_py/ale_interface/src/emucore/Deserializer.cxx -> build/lib.linux-x86_64-3.10/atari_py/ale_interface/src/emucore\n",
            "  \u001b[31m   \u001b[0m copying atari_py/ale_interface/src/emucore/Deserializer.hxx -> build/lib.linux-x86_64-3.10/atari_py/ale_interface/src/emucore\n",
            "  \u001b[31m   \u001b[0m copying atari_py/ale_interface/src/emucore/Driving.cxx -> build/lib.linux-x86_64-3.10/atari_py/ale_interface/src/emucore\n",
            "  \u001b[31m   \u001b[0m copying atari_py/ale_interface/src/emucore/Driving.hxx -> build/lib.linux-x86_64-3.10/atari_py/ale_interface/src/emucore\n",
            "  \u001b[31m   \u001b[0m copying atari_py/ale_interface/src/emucore/Event.cxx -> build/lib.linux-x86_64-3.10/atari_py/ale_interface/src/emucore\n",
            "  \u001b[31m   \u001b[0m copying atari_py/ale_interface/src/emucore/Event.hxx -> build/lib.linux-x86_64-3.10/atari_py/ale_interface/src/emucore\n",
            "  \u001b[31m   \u001b[0m copying atari_py/ale_interface/src/emucore/FSNode.cxx -> build/lib.linux-x86_64-3.10/atari_py/ale_interface/src/emucore\n",
            "  \u001b[31m   \u001b[0m copying atari_py/ale_interface/src/emucore/FSNode.hxx -> build/lib.linux-x86_64-3.10/atari_py/ale_interface/src/emucore\n",
            "  \u001b[31m   \u001b[0m copying atari_py/ale_interface/src/emucore/Joystick.cxx -> build/lib.linux-x86_64-3.10/atari_py/ale_interface/src/emucore\n",
            "  \u001b[31m   \u001b[0m copying atari_py/ale_interface/src/emucore/Joystick.hxx -> build/lib.linux-x86_64-3.10/atari_py/ale_interface/src/emucore\n",
            "  \u001b[31m   \u001b[0m copying atari_py/ale_interface/src/emucore/Keyboard.cxx -> build/lib.linux-x86_64-3.10/atari_py/ale_interface/src/emucore\n",
            "  \u001b[31m   \u001b[0m copying atari_py/ale_interface/src/emucore/Keyboard.hxx -> build/lib.linux-x86_64-3.10/atari_py/ale_interface/src/emucore\n",
            "  \u001b[31m   \u001b[0m copying atari_py/ale_interface/src/emucore/M6532.cxx -> build/lib.linux-x86_64-3.10/atari_py/ale_interface/src/emucore\n",
            "  \u001b[31m   \u001b[0m copying atari_py/ale_interface/src/emucore/M6532.hxx -> build/lib.linux-x86_64-3.10/atari_py/ale_interface/src/emucore\n",
            "  \u001b[31m   \u001b[0m copying atari_py/ale_interface/src/emucore/MD5.cxx -> build/lib.linux-x86_64-3.10/atari_py/ale_interface/src/emucore\n",
            "  \u001b[31m   \u001b[0m copying atari_py/ale_interface/src/emucore/MD5.hxx -> build/lib.linux-x86_64-3.10/atari_py/ale_interface/src/emucore\n",
            "  \u001b[31m   \u001b[0m copying atari_py/ale_interface/src/emucore/MediaSrc.cxx -> build/lib.linux-x86_64-3.10/atari_py/ale_interface/src/emucore\n",
            "  \u001b[31m   \u001b[0m copying atari_py/ale_interface/src/emucore/MediaSrc.hxx -> build/lib.linux-x86_64-3.10/atari_py/ale_interface/src/emucore\n",
            "  \u001b[31m   \u001b[0m copying atari_py/ale_interface/src/emucore/OSystem.cxx -> build/lib.linux-x86_64-3.10/atari_py/ale_interface/src/emucore\n",
            "  \u001b[31m   \u001b[0m copying atari_py/ale_interface/src/emucore/OSystem.hxx -> build/lib.linux-x86_64-3.10/atari_py/ale_interface/src/emucore\n",
            "  \u001b[31m   \u001b[0m copying atari_py/ale_interface/src/emucore/Paddles.cxx -> build/lib.linux-x86_64-3.10/atari_py/ale_interface/src/emucore\n",
            "  \u001b[31m   \u001b[0m copying atari_py/ale_interface/src/emucore/Paddles.hxx -> build/lib.linux-x86_64-3.10/atari_py/ale_interface/src/emucore\n",
            "  \u001b[31m   \u001b[0m copying atari_py/ale_interface/src/emucore/Props.cxx -> build/lib.linux-x86_64-3.10/atari_py/ale_interface/src/emucore\n",
            "  \u001b[31m   \u001b[0m copying atari_py/ale_interface/src/emucore/Props.hxx -> build/lib.linux-x86_64-3.10/atari_py/ale_interface/src/emucore\n",
            "  \u001b[31m   \u001b[0m copying atari_py/ale_interface/src/emucore/PropsSet.cxx -> build/lib.linux-x86_64-3.10/atari_py/ale_interface/src/emucore\n",
            "  \u001b[31m   \u001b[0m copying atari_py/ale_interface/src/emucore/PropsSet.hxx -> build/lib.linux-x86_64-3.10/atari_py/ale_interface/src/emucore\n",
            "  \u001b[31m   \u001b[0m copying atari_py/ale_interface/src/emucore/Random.cxx -> build/lib.linux-x86_64-3.10/atari_py/ale_interface/src/emucore\n",
            "  \u001b[31m   \u001b[0m copying atari_py/ale_interface/src/emucore/Random.hxx -> build/lib.linux-x86_64-3.10/atari_py/ale_interface/src/emucore\n",
            "  \u001b[31m   \u001b[0m copying atari_py/ale_interface/src/emucore/Serializer.cxx -> build/lib.linux-x86_64-3.10/atari_py/ale_interface/src/emucore\n",
            "  \u001b[31m   \u001b[0m copying atari_py/ale_interface/src/emucore/Serializer.hxx -> build/lib.linux-x86_64-3.10/atari_py/ale_interface/src/emucore\n",
            "  \u001b[31m   \u001b[0m copying atari_py/ale_interface/src/emucore/Settings.cxx -> build/lib.linux-x86_64-3.10/atari_py/ale_interface/src/emucore\n",
            "  \u001b[31m   \u001b[0m copying atari_py/ale_interface/src/emucore/Settings.hxx -> build/lib.linux-x86_64-3.10/atari_py/ale_interface/src/emucore\n",
            "  \u001b[31m   \u001b[0m copying atari_py/ale_interface/src/emucore/Sound.hxx -> build/lib.linux-x86_64-3.10/atari_py/ale_interface/src/emucore\n",
            "  \u001b[31m   \u001b[0m copying atari_py/ale_interface/src/emucore/SpeakJet.cxx -> build/lib.linux-x86_64-3.10/atari_py/ale_interface/src/emucore\n",
            "  \u001b[31m   \u001b[0m copying atari_py/ale_interface/src/emucore/SpeakJet.hxx -> build/lib.linux-x86_64-3.10/atari_py/ale_interface/src/emucore\n",
            "  \u001b[31m   \u001b[0m copying atari_py/ale_interface/src/emucore/Switches.cxx -> build/lib.linux-x86_64-3.10/atari_py/ale_interface/src/emucore\n",
            "  \u001b[31m   \u001b[0m copying atari_py/ale_interface/src/emucore/Switches.hxx -> build/lib.linux-x86_64-3.10/atari_py/ale_interface/src/emucore\n",
            "  \u001b[31m   \u001b[0m copying atari_py/ale_interface/src/emucore/TIA.cxx -> build/lib.linux-x86_64-3.10/atari_py/ale_interface/src/emucore\n",
            "  \u001b[31m   \u001b[0m copying atari_py/ale_interface/src/emucore/TIA.hxx -> build/lib.linux-x86_64-3.10/atari_py/ale_interface/src/emucore\n",
            "  \u001b[31m   \u001b[0m copying atari_py/ale_interface/src/emucore/TIASnd.cxx -> build/lib.linux-x86_64-3.10/atari_py/ale_interface/src/emucore\n",
            "  \u001b[31m   \u001b[0m copying atari_py/ale_interface/src/emucore/TIASnd.hxx -> build/lib.linux-x86_64-3.10/atari_py/ale_interface/src/emucore\n",
            "  \u001b[31m   \u001b[0m creating build/lib.linux-x86_64-3.10/atari_py/ale_interface/src/emucore/m6502\n",
            "  \u001b[31m   \u001b[0m copying atari_py/ale_interface/src/emucore/m6502/Copyright.txt -> build/lib.linux-x86_64-3.10/atari_py/ale_interface/src/emucore/m6502\n",
            "  \u001b[31m   \u001b[0m copying atari_py/ale_interface/src/emucore/m6502/License.txt -> build/lib.linux-x86_64-3.10/atari_py/ale_interface/src/emucore/m6502\n",
            "  \u001b[31m   \u001b[0m copying atari_py/ale_interface/src/emucore/m6502/module.mk -> build/lib.linux-x86_64-3.10/atari_py/ale_interface/src/emucore/m6502\n",
            "  \u001b[31m   \u001b[0m creating build/lib.linux-x86_64-3.10/atari_py/ale_interface/src/emucore/m6502/src\n",
            "  \u001b[31m   \u001b[0m copying atari_py/ale_interface/src/emucore/m6502/src/Device.cxx -> build/lib.linux-x86_64-3.10/atari_py/ale_interface/src/emucore/m6502/src\n",
            "  \u001b[31m   \u001b[0m copying atari_py/ale_interface/src/emucore/m6502/src/Device.hxx -> build/lib.linux-x86_64-3.10/atari_py/ale_interface/src/emucore/m6502/src\n",
            "  \u001b[31m   \u001b[0m copying atari_py/ale_interface/src/emucore/m6502/src/M6502.cxx -> build/lib.linux-x86_64-3.10/atari_py/ale_interface/src/emucore/m6502/src\n",
            "  \u001b[31m   \u001b[0m copying atari_py/ale_interface/src/emucore/m6502/src/M6502.hxx -> build/lib.linux-x86_64-3.10/atari_py/ale_interface/src/emucore/m6502/src\n",
            "  \u001b[31m   \u001b[0m copying atari_py/ale_interface/src/emucore/m6502/src/M6502.m4 -> build/lib.linux-x86_64-3.10/atari_py/ale_interface/src/emucore/m6502/src\n",
            "  \u001b[31m   \u001b[0m copying atari_py/ale_interface/src/emucore/m6502/src/M6502Hi.cxx -> build/lib.linux-x86_64-3.10/atari_py/ale_interface/src/emucore/m6502/src\n",
            "  \u001b[31m   \u001b[0m copying atari_py/ale_interface/src/emucore/m6502/src/M6502Hi.hxx -> build/lib.linux-x86_64-3.10/atari_py/ale_interface/src/emucore/m6502/src\n",
            "  \u001b[31m   \u001b[0m copying atari_py/ale_interface/src/emucore/m6502/src/M6502Hi.ins -> build/lib.linux-x86_64-3.10/atari_py/ale_interface/src/emucore/m6502/src\n",
            "  \u001b[31m   \u001b[0m copying atari_py/ale_interface/src/emucore/m6502/src/M6502Hi.m4 -> build/lib.linux-x86_64-3.10/atari_py/ale_interface/src/emucore/m6502/src\n",
            "  \u001b[31m   \u001b[0m copying atari_py/ale_interface/src/emucore/m6502/src/M6502Low.cxx -> build/lib.linux-x86_64-3.10/atari_py/ale_interface/src/emucore/m6502/src\n",
            "  \u001b[31m   \u001b[0m copying atari_py/ale_interface/src/emucore/m6502/src/M6502Low.hxx -> build/lib.linux-x86_64-3.10/atari_py/ale_interface/src/emucore/m6502/src\n",
            "  \u001b[31m   \u001b[0m copying atari_py/ale_interface/src/emucore/m6502/src/M6502Low.ins -> build/lib.linux-x86_64-3.10/atari_py/ale_interface/src/emucore/m6502/src\n",
            "  \u001b[31m   \u001b[0m copying atari_py/ale_interface/src/emucore/m6502/src/M6502Low.m4 -> build/lib.linux-x86_64-3.10/atari_py/ale_interface/src/emucore/m6502/src\n",
            "  \u001b[31m   \u001b[0m copying atari_py/ale_interface/src/emucore/m6502/src/NullDev.cxx -> build/lib.linux-x86_64-3.10/atari_py/ale_interface/src/emucore/m6502/src\n",
            "  \u001b[31m   \u001b[0m copying atari_py/ale_interface/src/emucore/m6502/src/NullDev.hxx -> build/lib.linux-x86_64-3.10/atari_py/ale_interface/src/emucore/m6502/src\n",
            "  \u001b[31m   \u001b[0m copying atari_py/ale_interface/src/emucore/m6502/src/System.cxx -> build/lib.linux-x86_64-3.10/atari_py/ale_interface/src/emucore/m6502/src\n",
            "  \u001b[31m   \u001b[0m copying atari_py/ale_interface/src/emucore/m6502/src/System.hxx -> build/lib.linux-x86_64-3.10/atari_py/ale_interface/src/emucore/m6502/src\n",
            "  \u001b[31m   \u001b[0m creating build/lib.linux-x86_64-3.10/atari_py/ale_interface/src/emucore/m6502/src/bspf\n",
            "  \u001b[31m   \u001b[0m copying atari_py/ale_interface/src/emucore/m6502/src/bspf/Copyright.txt -> build/lib.linux-x86_64-3.10/atari_py/ale_interface/src/emucore/m6502/src/bspf\n",
            "  \u001b[31m   \u001b[0m copying atari_py/ale_interface/src/emucore/m6502/src/bspf/License.txt -> build/lib.linux-x86_64-3.10/atari_py/ale_interface/src/emucore/m6502/src/bspf\n",
            "  \u001b[31m   \u001b[0m creating build/lib.linux-x86_64-3.10/atari_py/ale_interface/src/emucore/m6502/src/bspf/src\n",
            "  \u001b[31m   \u001b[0m copying atari_py/ale_interface/src/emucore/m6502/src/bspf/src/bspf.hxx -> build/lib.linux-x86_64-3.10/atari_py/ale_interface/src/emucore/m6502/src/bspf/src\n",
            "  \u001b[31m   \u001b[0m copying atari_py/ale_interface/src/emucore/module.mk -> build/lib.linux-x86_64-3.10/atari_py/ale_interface/src/emucore\n",
            "  \u001b[31m   \u001b[0m creating build/lib.linux-x86_64-3.10/atari_py/ale_interface/src/emucore/rsynth\n",
            "  \u001b[31m   \u001b[0m copying atari_py/ale_interface/src/emucore/rsynth/COPYING -> build/lib.linux-x86_64-3.10/atari_py/ale_interface/src/emucore/rsynth\n",
            "  \u001b[31m   \u001b[0m copying atari_py/ale_interface/src/emucore/rsynth/Elements.def -> build/lib.linux-x86_64-3.10/atari_py/ale_interface/src/emucore/rsynth\n",
            "  \u001b[31m   \u001b[0m copying atari_py/ale_interface/src/emucore/rsynth/PORTING -> build/lib.linux-x86_64-3.10/atari_py/ale_interface/src/emucore/rsynth\n",
            "  \u001b[31m   \u001b[0m copying atari_py/ale_interface/src/emucore/rsynth/config.h -> build/lib.linux-x86_64-3.10/atari_py/ale_interface/src/emucore/rsynth\n",
            "  \u001b[31m   \u001b[0m copying atari_py/ale_interface/src/emucore/rsynth/darray.c -> build/lib.linux-x86_64-3.10/atari_py/ale_interface/src/emucore/rsynth\n",
            "  \u001b[31m   \u001b[0m copying atari_py/ale_interface/src/emucore/rsynth/darray.h -> build/lib.linux-x86_64-3.10/atari_py/ale_interface/src/emucore/rsynth\n",
            "  \u001b[31m   \u001b[0m copying atari_py/ale_interface/src/emucore/rsynth/elements.c -> build/lib.linux-x86_64-3.10/atari_py/ale_interface/src/emucore/rsynth\n",
            "  \u001b[31m   \u001b[0m copying atari_py/ale_interface/src/emucore/rsynth/holmes.c -> build/lib.linux-x86_64-3.10/atari_py/ale_interface/src/emucore/rsynth\n",
            "  \u001b[31m   \u001b[0m copying atari_py/ale_interface/src/emucore/rsynth/kmap -> build/lib.linux-x86_64-3.10/atari_py/ale_interface/src/emucore/rsynth\n",
            "  \u001b[31m   \u001b[0m copying atari_py/ale_interface/src/emucore/rsynth/module.mk -> build/lib.linux-x86_64-3.10/atari_py/ale_interface/src/emucore/rsynth\n",
            "  \u001b[31m   \u001b[0m copying atari_py/ale_interface/src/emucore/rsynth/opsynth.c -> build/lib.linux-x86_64-3.10/atari_py/ale_interface/src/emucore/rsynth\n",
            "  \u001b[31m   \u001b[0m copying atari_py/ale_interface/src/emucore/rsynth/phfeat.h -> build/lib.linux-x86_64-3.10/atari_py/ale_interface/src/emucore/rsynth\n",
            "  \u001b[31m   \u001b[0m copying atari_py/ale_interface/src/emucore/rsynth/phones.c -> build/lib.linux-x86_64-3.10/atari_py/ale_interface/src/emucore/rsynth\n",
            "  \u001b[31m   \u001b[0m copying atari_py/ale_interface/src/emucore/rsynth/phones.def -> build/lib.linux-x86_64-3.10/atari_py/ale_interface/src/emucore/rsynth\n",
            "  \u001b[31m   \u001b[0m copying atari_py/ale_interface/src/emucore/rsynth/phones.h -> build/lib.linux-x86_64-3.10/atari_py/ale_interface/src/emucore/rsynth\n",
            "  \u001b[31m   \u001b[0m copying atari_py/ale_interface/src/emucore/rsynth/phtoelm.c -> build/lib.linux-x86_64-3.10/atari_py/ale_interface/src/emucore/rsynth\n",
            "  \u001b[31m   \u001b[0m copying atari_py/ale_interface/src/emucore/rsynth/phtoelm.def -> build/lib.linux-x86_64-3.10/atari_py/ale_interface/src/emucore/rsynth\n",
            "  \u001b[31m   \u001b[0m copying atari_py/ale_interface/src/emucore/rsynth/phtoelm.h -> build/lib.linux-x86_64-3.10/atari_py/ale_interface/src/emucore/rsynth\n",
            "  \u001b[31m   \u001b[0m copying atari_py/ale_interface/src/emucore/rsynth/rsynth.h -> build/lib.linux-x86_64-3.10/atari_py/ale_interface/src/emucore/rsynth\n",
            "  \u001b[31m   \u001b[0m copying atari_py/ale_interface/src/emucore/rsynth/trie.c -> build/lib.linux-x86_64-3.10/atari_py/ale_interface/src/emucore/rsynth\n",
            "  \u001b[31m   \u001b[0m copying atari_py/ale_interface/src/emucore/rsynth/trie.h -> build/lib.linux-x86_64-3.10/atari_py/ale_interface/src/emucore/rsynth\n",
            "  \u001b[31m   \u001b[0m copying atari_py/ale_interface/src/emucore/rsynth/useconfig.h -> build/lib.linux-x86_64-3.10/atari_py/ale_interface/src/emucore/rsynth\n",
            "  \u001b[31m   \u001b[0m copying atari_py/ale_interface/src/emucore/stella.pro -> build/lib.linux-x86_64-3.10/atari_py/ale_interface/src/emucore\n",
            "  \u001b[31m   \u001b[0m creating build/lib.linux-x86_64-3.10/atari_py/ale_interface/src/environment\n",
            "  \u001b[31m   \u001b[0m copying atari_py/ale_interface/src/environment/ale_ram.hpp -> build/lib.linux-x86_64-3.10/atari_py/ale_interface/src/environment\n",
            "  \u001b[31m   \u001b[0m copying atari_py/ale_interface/src/environment/ale_screen.hpp -> build/lib.linux-x86_64-3.10/atari_py/ale_interface/src/environment\n",
            "  \u001b[31m   \u001b[0m copying atari_py/ale_interface/src/environment/ale_state.cpp -> build/lib.linux-x86_64-3.10/atari_py/ale_interface/src/environment\n",
            "  \u001b[31m   \u001b[0m copying atari_py/ale_interface/src/environment/ale_state.hpp -> build/lib.linux-x86_64-3.10/atari_py/ale_interface/src/environment\n",
            "  \u001b[31m   \u001b[0m copying atari_py/ale_interface/src/environment/module.mk -> build/lib.linux-x86_64-3.10/atari_py/ale_interface/src/environment\n",
            "  \u001b[31m   \u001b[0m copying atari_py/ale_interface/src/environment/phosphor_blend.cpp -> build/lib.linux-x86_64-3.10/atari_py/ale_interface/src/environment\n",
            "  \u001b[31m   \u001b[0m copying atari_py/ale_interface/src/environment/phosphor_blend.hpp -> build/lib.linux-x86_64-3.10/atari_py/ale_interface/src/environment\n",
            "  \u001b[31m   \u001b[0m copying atari_py/ale_interface/src/environment/stella_environment.cpp -> build/lib.linux-x86_64-3.10/atari_py/ale_interface/src/environment\n",
            "  \u001b[31m   \u001b[0m copying atari_py/ale_interface/src/environment/stella_environment.hpp -> build/lib.linux-x86_64-3.10/atari_py/ale_interface/src/environment\n",
            "  \u001b[31m   \u001b[0m copying atari_py/ale_interface/src/environment/stella_environment_wrapper.cpp -> build/lib.linux-x86_64-3.10/atari_py/ale_interface/src/environment\n",
            "  \u001b[31m   \u001b[0m copying atari_py/ale_interface/src/environment/stella_environment_wrapper.hpp -> build/lib.linux-x86_64-3.10/atari_py/ale_interface/src/environment\n",
            "  \u001b[31m   \u001b[0m creating build/lib.linux-x86_64-3.10/atari_py/ale_interface/src/external\n",
            "  \u001b[31m   \u001b[0m creating build/lib.linux-x86_64-3.10/atari_py/ale_interface/src/external/TinyMT\n",
            "  \u001b[31m   \u001b[0m copying atari_py/ale_interface/src/external/TinyMT/LICENSE.txt -> build/lib.linux-x86_64-3.10/atari_py/ale_interface/src/external/TinyMT\n",
            "  \u001b[31m   \u001b[0m copying atari_py/ale_interface/src/external/TinyMT/tinymt32.c -> build/lib.linux-x86_64-3.10/atari_py/ale_interface/src/external/TinyMT\n",
            "  \u001b[31m   \u001b[0m copying atari_py/ale_interface/src/external/TinyMT/tinymt32.h -> build/lib.linux-x86_64-3.10/atari_py/ale_interface/src/external/TinyMT\n",
            "  \u001b[31m   \u001b[0m copying atari_py/ale_interface/src/external/module.mk -> build/lib.linux-x86_64-3.10/atari_py/ale_interface/src/external\n",
            "  \u001b[31m   \u001b[0m creating build/lib.linux-x86_64-3.10/atari_py/ale_interface/src/games\n",
            "  \u001b[31m   \u001b[0m copying atari_py/ale_interface/src/games/RomSettings.cpp -> build/lib.linux-x86_64-3.10/atari_py/ale_interface/src/games\n",
            "  \u001b[31m   \u001b[0m copying atari_py/ale_interface/src/games/RomSettings.hpp -> build/lib.linux-x86_64-3.10/atari_py/ale_interface/src/games\n",
            "  \u001b[31m   \u001b[0m copying atari_py/ale_interface/src/games/RomUtils.cpp -> build/lib.linux-x86_64-3.10/atari_py/ale_interface/src/games\n",
            "  \u001b[31m   \u001b[0m copying atari_py/ale_interface/src/games/RomUtils.hpp -> build/lib.linux-x86_64-3.10/atari_py/ale_interface/src/games\n",
            "  \u001b[31m   \u001b[0m copying atari_py/ale_interface/src/games/Roms.cpp -> build/lib.linux-x86_64-3.10/atari_py/ale_interface/src/games\n",
            "  \u001b[31m   \u001b[0m copying atari_py/ale_interface/src/games/Roms.hpp -> build/lib.linux-x86_64-3.10/atari_py/ale_interface/src/games\n",
            "  \u001b[31m   \u001b[0m copying atari_py/ale_interface/src/games/module.mk -> build/lib.linux-x86_64-3.10/atari_py/ale_interface/src/games\n",
            "  \u001b[31m   \u001b[0m creating build/lib.linux-x86_64-3.10/atari_py/ale_interface/src/games/supported\n",
            "  \u001b[31m   \u001b[0m copying atari_py/ale_interface/src/games/supported/Adventure.cpp -> build/lib.linux-x86_64-3.10/atari_py/ale_interface/src/games/supported\n",
            "  \u001b[31m   \u001b[0m copying atari_py/ale_interface/src/games/supported/Adventure.hpp -> build/lib.linux-x86_64-3.10/atari_py/ale_interface/src/games/supported\n",
            "  \u001b[31m   \u001b[0m copying atari_py/ale_interface/src/games/supported/AirRaid.cpp -> build/lib.linux-x86_64-3.10/atari_py/ale_interface/src/games/supported\n",
            "  \u001b[31m   \u001b[0m copying atari_py/ale_interface/src/games/supported/AirRaid.hpp -> build/lib.linux-x86_64-3.10/atari_py/ale_interface/src/games/supported\n",
            "  \u001b[31m   \u001b[0m copying atari_py/ale_interface/src/games/supported/Alien.cpp -> build/lib.linux-x86_64-3.10/atari_py/ale_interface/src/games/supported\n",
            "  \u001b[31m   \u001b[0m copying atari_py/ale_interface/src/games/supported/Alien.hpp -> build/lib.linux-x86_64-3.10/atari_py/ale_interface/src/games/supported\n",
            "  \u001b[31m   \u001b[0m copying atari_py/ale_interface/src/games/supported/Amidar.cpp -> build/lib.linux-x86_64-3.10/atari_py/ale_interface/src/games/supported\n",
            "  \u001b[31m   \u001b[0m copying atari_py/ale_interface/src/games/supported/Amidar.hpp -> build/lib.linux-x86_64-3.10/atari_py/ale_interface/src/games/supported\n",
            "  \u001b[31m   \u001b[0m copying atari_py/ale_interface/src/games/supported/Assault.cpp -> build/lib.linux-x86_64-3.10/atari_py/ale_interface/src/games/supported\n",
            "  \u001b[31m   \u001b[0m copying atari_py/ale_interface/src/games/supported/Assault.hpp -> build/lib.linux-x86_64-3.10/atari_py/ale_interface/src/games/supported\n",
            "  \u001b[31m   \u001b[0m copying atari_py/ale_interface/src/games/supported/Asterix.cpp -> build/lib.linux-x86_64-3.10/atari_py/ale_interface/src/games/supported\n",
            "  \u001b[31m   \u001b[0m copying atari_py/ale_interface/src/games/supported/Asterix.hpp -> build/lib.linux-x86_64-3.10/atari_py/ale_interface/src/games/supported\n",
            "  \u001b[31m   \u001b[0m copying atari_py/ale_interface/src/games/supported/Asteroids.cpp -> build/lib.linux-x86_64-3.10/atari_py/ale_interface/src/games/supported\n",
            "  \u001b[31m   \u001b[0m copying atari_py/ale_interface/src/games/supported/Asteroids.hpp -> build/lib.linux-x86_64-3.10/atari_py/ale_interface/src/games/supported\n",
            "  \u001b[31m   \u001b[0m copying atari_py/ale_interface/src/games/supported/Atlantis.cpp -> build/lib.linux-x86_64-3.10/atari_py/ale_interface/src/games/supported\n",
            "  \u001b[31m   \u001b[0m copying atari_py/ale_interface/src/games/supported/Atlantis.hpp -> build/lib.linux-x86_64-3.10/atari_py/ale_interface/src/games/supported\n",
            "  \u001b[31m   \u001b[0m copying atari_py/ale_interface/src/games/supported/BankHeist.cpp -> build/lib.linux-x86_64-3.10/atari_py/ale_interface/src/games/supported\n",
            "  \u001b[31m   \u001b[0m copying atari_py/ale_interface/src/games/supported/BankHeist.hpp -> build/lib.linux-x86_64-3.10/atari_py/ale_interface/src/games/supported\n",
            "  \u001b[31m   \u001b[0m copying atari_py/ale_interface/src/games/supported/BattleZone.cpp -> build/lib.linux-x86_64-3.10/atari_py/ale_interface/src/games/supported\n",
            "  \u001b[31m   \u001b[0m copying atari_py/ale_interface/src/games/supported/BattleZone.hpp -> build/lib.linux-x86_64-3.10/atari_py/ale_interface/src/games/supported\n",
            "  \u001b[31m   \u001b[0m copying atari_py/ale_interface/src/games/supported/BeamRider.cpp -> build/lib.linux-x86_64-3.10/atari_py/ale_interface/src/games/supported\n",
            "  \u001b[31m   \u001b[0m copying atari_py/ale_interface/src/games/supported/BeamRider.hpp -> build/lib.linux-x86_64-3.10/atari_py/ale_interface/src/games/supported\n",
            "  \u001b[31m   \u001b[0m copying atari_py/ale_interface/src/games/supported/Berzerk.cpp -> build/lib.linux-x86_64-3.10/atari_py/ale_interface/src/games/supported\n",
            "  \u001b[31m   \u001b[0m copying atari_py/ale_interface/src/games/supported/Berzerk.hpp -> build/lib.linux-x86_64-3.10/atari_py/ale_interface/src/games/supported\n",
            "  \u001b[31m   \u001b[0m copying atari_py/ale_interface/src/games/supported/Bowling.cpp -> build/lib.linux-x86_64-3.10/atari_py/ale_interface/src/games/supported\n",
            "  \u001b[31m   \u001b[0m copying atari_py/ale_interface/src/games/supported/Bowling.hpp -> build/lib.linux-x86_64-3.10/atari_py/ale_interface/src/games/supported\n",
            "  \u001b[31m   \u001b[0m copying atari_py/ale_interface/src/games/supported/Boxing.cpp -> build/lib.linux-x86_64-3.10/atari_py/ale_interface/src/games/supported\n",
            "  \u001b[31m   \u001b[0m copying atari_py/ale_interface/src/games/supported/Boxing.hpp -> build/lib.linux-x86_64-3.10/atari_py/ale_interface/src/games/supported\n",
            "  \u001b[31m   \u001b[0m copying atari_py/ale_interface/src/games/supported/Breakout.cpp -> build/lib.linux-x86_64-3.10/atari_py/ale_interface/src/games/supported\n",
            "  \u001b[31m   \u001b[0m copying atari_py/ale_interface/src/games/supported/Breakout.hpp -> build/lib.linux-x86_64-3.10/atari_py/ale_interface/src/games/supported\n",
            "  \u001b[31m   \u001b[0m copying atari_py/ale_interface/src/games/supported/Carnival.cpp -> build/lib.linux-x86_64-3.10/atari_py/ale_interface/src/games/supported\n",
            "  \u001b[31m   \u001b[0m copying atari_py/ale_interface/src/games/supported/Carnival.hpp -> build/lib.linux-x86_64-3.10/atari_py/ale_interface/src/games/supported\n",
            "  \u001b[31m   \u001b[0m copying atari_py/ale_interface/src/games/supported/Centipede.cpp -> build/lib.linux-x86_64-3.10/atari_py/ale_interface/src/games/supported\n",
            "  \u001b[31m   \u001b[0m copying atari_py/ale_interface/src/games/supported/Centipede.hpp -> build/lib.linux-x86_64-3.10/atari_py/ale_interface/src/games/supported\n",
            "  \u001b[31m   \u001b[0m copying atari_py/ale_interface/src/games/supported/ChopperCommand.cpp -> build/lib.linux-x86_64-3.10/atari_py/ale_interface/src/games/supported\n",
            "  \u001b[31m   \u001b[0m copying atari_py/ale_interface/src/games/supported/ChopperCommand.hpp -> build/lib.linux-x86_64-3.10/atari_py/ale_interface/src/games/supported\n",
            "  \u001b[31m   \u001b[0m copying atari_py/ale_interface/src/games/supported/CrazyClimber.cpp -> build/lib.linux-x86_64-3.10/atari_py/ale_interface/src/games/supported\n",
            "  \u001b[31m   \u001b[0m copying atari_py/ale_interface/src/games/supported/CrazyClimber.hpp -> build/lib.linux-x86_64-3.10/atari_py/ale_interface/src/games/supported\n",
            "  \u001b[31m   \u001b[0m copying atari_py/ale_interface/src/games/supported/Defender.cpp -> build/lib.linux-x86_64-3.10/atari_py/ale_interface/src/games/supported\n",
            "  \u001b[31m   \u001b[0m copying atari_py/ale_interface/src/games/supported/Defender.hpp -> build/lib.linux-x86_64-3.10/atari_py/ale_interface/src/games/supported\n",
            "  \u001b[31m   \u001b[0m copying atari_py/ale_interface/src/games/supported/DemonAttack.cpp -> build/lib.linux-x86_64-3.10/atari_py/ale_interface/src/games/supported\n",
            "  \u001b[31m   \u001b[0m copying atari_py/ale_interface/src/games/supported/DemonAttack.hpp -> build/lib.linux-x86_64-3.10/atari_py/ale_interface/src/games/supported\n",
            "  \u001b[31m   \u001b[0m copying atari_py/ale_interface/src/games/supported/DonkeyKong.cpp -> build/lib.linux-x86_64-3.10/atari_py/ale_interface/src/games/supported\n",
            "  \u001b[31m   \u001b[0m copying atari_py/ale_interface/src/games/supported/DonkeyKong.hpp -> build/lib.linux-x86_64-3.10/atari_py/ale_interface/src/games/supported\n",
            "  \u001b[31m   \u001b[0m copying atari_py/ale_interface/src/games/supported/DoubleDunk.cpp -> build/lib.linux-x86_64-3.10/atari_py/ale_interface/src/games/supported\n",
            "  \u001b[31m   \u001b[0m copying atari_py/ale_interface/src/games/supported/DoubleDunk.hpp -> build/lib.linux-x86_64-3.10/atari_py/ale_interface/src/games/supported\n",
            "  \u001b[31m   \u001b[0m copying atari_py/ale_interface/src/games/supported/ElevatorAction.cpp -> build/lib.linux-x86_64-3.10/atari_py/ale_interface/src/games/supported\n",
            "  \u001b[31m   \u001b[0m copying atari_py/ale_interface/src/games/supported/ElevatorAction.hpp -> build/lib.linux-x86_64-3.10/atari_py/ale_interface/src/games/supported\n",
            "  \u001b[31m   \u001b[0m copying atari_py/ale_interface/src/games/supported/Enduro.cpp -> build/lib.linux-x86_64-3.10/atari_py/ale_interface/src/games/supported\n",
            "  \u001b[31m   \u001b[0m copying atari_py/ale_interface/src/games/supported/Enduro.hpp -> build/lib.linux-x86_64-3.10/atari_py/ale_interface/src/games/supported\n",
            "  \u001b[31m   \u001b[0m copying atari_py/ale_interface/src/games/supported/FishingDerby.cpp -> build/lib.linux-x86_64-3.10/atari_py/ale_interface/src/games/supported\n",
            "  \u001b[31m   \u001b[0m copying atari_py/ale_interface/src/games/supported/FishingDerby.hpp -> build/lib.linux-x86_64-3.10/atari_py/ale_interface/src/games/supported\n",
            "  \u001b[31m   \u001b[0m copying atari_py/ale_interface/src/games/supported/Freeway.cpp -> build/lib.linux-x86_64-3.10/atari_py/ale_interface/src/games/supported\n",
            "  \u001b[31m   \u001b[0m copying atari_py/ale_interface/src/games/supported/Freeway.hpp -> build/lib.linux-x86_64-3.10/atari_py/ale_interface/src/games/supported\n",
            "  \u001b[31m   \u001b[0m copying atari_py/ale_interface/src/games/supported/Frogger.cpp -> build/lib.linux-x86_64-3.10/atari_py/ale_interface/src/games/supported\n",
            "  \u001b[31m   \u001b[0m copying atari_py/ale_interface/src/games/supported/Frogger.hpp -> build/lib.linux-x86_64-3.10/atari_py/ale_interface/src/games/supported\n",
            "  \u001b[31m   \u001b[0m copying atari_py/ale_interface/src/games/supported/Frostbite.cpp -> build/lib.linux-x86_64-3.10/atari_py/ale_interface/src/games/supported\n",
            "  \u001b[31m   \u001b[0m copying atari_py/ale_interface/src/games/supported/Frostbite.hpp -> build/lib.linux-x86_64-3.10/atari_py/ale_interface/src/games/supported\n",
            "  \u001b[31m   \u001b[0m copying atari_py/ale_interface/src/games/supported/Galaxian.cpp -> build/lib.linux-x86_64-3.10/atari_py/ale_interface/src/games/supported\n",
            "  \u001b[31m   \u001b[0m copying atari_py/ale_interface/src/games/supported/Galaxian.hpp -> build/lib.linux-x86_64-3.10/atari_py/ale_interface/src/games/supported\n",
            "  \u001b[31m   \u001b[0m copying atari_py/ale_interface/src/games/supported/Gopher.cpp -> build/lib.linux-x86_64-3.10/atari_py/ale_interface/src/games/supported\n",
            "  \u001b[31m   \u001b[0m copying atari_py/ale_interface/src/games/supported/Gopher.hpp -> build/lib.linux-x86_64-3.10/atari_py/ale_interface/src/games/supported\n",
            "  \u001b[31m   \u001b[0m copying atari_py/ale_interface/src/games/supported/Gravitar.cpp -> build/lib.linux-x86_64-3.10/atari_py/ale_interface/src/games/supported\n",
            "  \u001b[31m   \u001b[0m copying atari_py/ale_interface/src/games/supported/Gravitar.hpp -> build/lib.linux-x86_64-3.10/atari_py/ale_interface/src/games/supported\n",
            "  \u001b[31m   \u001b[0m copying atari_py/ale_interface/src/games/supported/Hero.cpp -> build/lib.linux-x86_64-3.10/atari_py/ale_interface/src/games/supported\n",
            "  \u001b[31m   \u001b[0m copying atari_py/ale_interface/src/games/supported/Hero.hpp -> build/lib.linux-x86_64-3.10/atari_py/ale_interface/src/games/supported\n",
            "  \u001b[31m   \u001b[0m copying atari_py/ale_interface/src/games/supported/IceHockey.cpp -> build/lib.linux-x86_64-3.10/atari_py/ale_interface/src/games/supported\n",
            "  \u001b[31m   \u001b[0m copying atari_py/ale_interface/src/games/supported/IceHockey.hpp -> build/lib.linux-x86_64-3.10/atari_py/ale_interface/src/games/supported\n",
            "  \u001b[31m   \u001b[0m copying atari_py/ale_interface/src/games/supported/JamesBond.cpp -> build/lib.linux-x86_64-3.10/atari_py/ale_interface/src/games/supported\n",
            "  \u001b[31m   \u001b[0m copying atari_py/ale_interface/src/games/supported/JamesBond.hpp -> build/lib.linux-x86_64-3.10/atari_py/ale_interface/src/games/supported\n",
            "  \u001b[31m   \u001b[0m copying atari_py/ale_interface/src/games/supported/JourneyEscape.cpp -> build/lib.linux-x86_64-3.10/atari_py/ale_interface/src/games/supported\n",
            "  \u001b[31m   \u001b[0m copying atari_py/ale_interface/src/games/supported/JourneyEscape.hpp -> build/lib.linux-x86_64-3.10/atari_py/ale_interface/src/games/supported\n",
            "  \u001b[31m   \u001b[0m copying atari_py/ale_interface/src/games/supported/Kaboom.cpp -> build/lib.linux-x86_64-3.10/atari_py/ale_interface/src/games/supported\n",
            "  \u001b[31m   \u001b[0m copying atari_py/ale_interface/src/games/supported/Kaboom.hpp -> build/lib.linux-x86_64-3.10/atari_py/ale_interface/src/games/supported\n",
            "  \u001b[31m   \u001b[0m copying atari_py/ale_interface/src/games/supported/Kangaroo.cpp -> build/lib.linux-x86_64-3.10/atari_py/ale_interface/src/games/supported\n",
            "  \u001b[31m   \u001b[0m copying atari_py/ale_interface/src/games/supported/Kangaroo.hpp -> build/lib.linux-x86_64-3.10/atari_py/ale_interface/src/games/supported\n",
            "  \u001b[31m   \u001b[0m copying atari_py/ale_interface/src/games/supported/KeystoneKapers.cpp -> build/lib.linux-x86_64-3.10/atari_py/ale_interface/src/games/supported\n",
            "  \u001b[31m   \u001b[0m copying atari_py/ale_interface/src/games/supported/KeystoneKapers.hpp -> build/lib.linux-x86_64-3.10/atari_py/ale_interface/src/games/supported\n",
            "  \u001b[31m   \u001b[0m copying atari_py/ale_interface/src/games/supported/Kingkong.cpp -> build/lib.linux-x86_64-3.10/atari_py/ale_interface/src/games/supported\n",
            "  \u001b[31m   \u001b[0m copying atari_py/ale_interface/src/games/supported/Kingkong.hpp -> build/lib.linux-x86_64-3.10/atari_py/ale_interface/src/games/supported\n",
            "  \u001b[31m   \u001b[0m copying atari_py/ale_interface/src/games/supported/Koolaid.cpp -> build/lib.linux-x86_64-3.10/atari_py/ale_interface/src/games/supported\n",
            "  \u001b[31m   \u001b[0m copying atari_py/ale_interface/src/games/supported/Koolaid.hpp -> build/lib.linux-x86_64-3.10/atari_py/ale_interface/src/games/supported\n",
            "  \u001b[31m   \u001b[0m copying atari_py/ale_interface/src/games/supported/Krull.cpp -> build/lib.linux-x86_64-3.10/atari_py/ale_interface/src/games/supported\n",
            "  \u001b[31m   \u001b[0m copying atari_py/ale_interface/src/games/supported/Krull.hpp -> build/lib.linux-x86_64-3.10/atari_py/ale_interface/src/games/supported\n",
            "  \u001b[31m   \u001b[0m copying atari_py/ale_interface/src/games/supported/KungFuMaster.cpp -> build/lib.linux-x86_64-3.10/atari_py/ale_interface/src/games/supported\n",
            "  \u001b[31m   \u001b[0m copying atari_py/ale_interface/src/games/supported/KungFuMaster.hpp -> build/lib.linux-x86_64-3.10/atari_py/ale_interface/src/games/supported\n",
            "  \u001b[31m   \u001b[0m copying atari_py/ale_interface/src/games/supported/LaserGates.cpp -> build/lib.linux-x86_64-3.10/atari_py/ale_interface/src/games/supported\n",
            "  \u001b[31m   \u001b[0m copying atari_py/ale_interface/src/games/supported/LaserGates.hpp -> build/lib.linux-x86_64-3.10/atari_py/ale_interface/src/games/supported\n",
            "  \u001b[31m   \u001b[0m copying atari_py/ale_interface/src/games/supported/LostLuggage.cpp -> build/lib.linux-x86_64-3.10/atari_py/ale_interface/src/games/supported\n",
            "  \u001b[31m   \u001b[0m copying atari_py/ale_interface/src/games/supported/LostLuggage.hpp -> build/lib.linux-x86_64-3.10/atari_py/ale_interface/src/games/supported\n",
            "  \u001b[31m   \u001b[0m copying atari_py/ale_interface/src/games/supported/MontezumaRevenge.cpp -> build/lib.linux-x86_64-3.10/atari_py/ale_interface/src/games/supported\n",
            "  \u001b[31m   \u001b[0m copying atari_py/ale_interface/src/games/supported/MontezumaRevenge.hpp -> build/lib.linux-x86_64-3.10/atari_py/ale_interface/src/games/supported\n",
            "  \u001b[31m   \u001b[0m copying atari_py/ale_interface/src/games/supported/MrDo.cpp -> build/lib.linux-x86_64-3.10/atari_py/ale_interface/src/games/supported\n",
            "  \u001b[31m   \u001b[0m copying atari_py/ale_interface/src/games/supported/MrDo.hpp -> build/lib.linux-x86_64-3.10/atari_py/ale_interface/src/games/supported\n",
            "  \u001b[31m   \u001b[0m copying atari_py/ale_interface/src/games/supported/MsPacman.cpp -> build/lib.linux-x86_64-3.10/atari_py/ale_interface/src/games/supported\n",
            "  \u001b[31m   \u001b[0m copying atari_py/ale_interface/src/games/supported/MsPacman.hpp -> build/lib.linux-x86_64-3.10/atari_py/ale_interface/src/games/supported\n",
            "  \u001b[31m   \u001b[0m copying atari_py/ale_interface/src/games/supported/NameThisGame.cpp -> build/lib.linux-x86_64-3.10/atari_py/ale_interface/src/games/supported\n",
            "  \u001b[31m   \u001b[0m copying atari_py/ale_interface/src/games/supported/NameThisGame.hpp -> build/lib.linux-x86_64-3.10/atari_py/ale_interface/src/games/supported\n",
            "  \u001b[31m   \u001b[0m copying atari_py/ale_interface/src/games/supported/Phoenix.cpp -> build/lib.linux-x86_64-3.10/atari_py/ale_interface/src/games/supported\n",
            "  \u001b[31m   \u001b[0m copying atari_py/ale_interface/src/games/supported/Phoenix.hpp -> build/lib.linux-x86_64-3.10/atari_py/ale_interface/src/games/supported\n",
            "  \u001b[31m   \u001b[0m copying atari_py/ale_interface/src/games/supported/Pitfall.cpp -> build/lib.linux-x86_64-3.10/atari_py/ale_interface/src/games/supported\n",
            "  \u001b[31m   \u001b[0m copying atari_py/ale_interface/src/games/supported/Pitfall.hpp -> build/lib.linux-x86_64-3.10/atari_py/ale_interface/src/games/supported\n",
            "  \u001b[31m   \u001b[0m copying atari_py/ale_interface/src/games/supported/Pong.cpp -> build/lib.linux-x86_64-3.10/atari_py/ale_interface/src/games/supported\n",
            "  \u001b[31m   \u001b[0m copying atari_py/ale_interface/src/games/supported/Pong.hpp -> build/lib.linux-x86_64-3.10/atari_py/ale_interface/src/games/supported\n",
            "  \u001b[31m   \u001b[0m copying atari_py/ale_interface/src/games/supported/Pooyan.cpp -> build/lib.linux-x86_64-3.10/atari_py/ale_interface/src/games/supported\n",
            "  \u001b[31m   \u001b[0m copying atari_py/ale_interface/src/games/supported/Pooyan.hpp -> build/lib.linux-x86_64-3.10/atari_py/ale_interface/src/games/supported\n",
            "  \u001b[31m   \u001b[0m copying atari_py/ale_interface/src/games/supported/PrivateEye.cpp -> build/lib.linux-x86_64-3.10/atari_py/ale_interface/src/games/supported\n",
            "  \u001b[31m   \u001b[0m copying atari_py/ale_interface/src/games/supported/PrivateEye.hpp -> build/lib.linux-x86_64-3.10/atari_py/ale_interface/src/games/supported\n",
            "  \u001b[31m   \u001b[0m copying atari_py/ale_interface/src/games/supported/QBert.cpp -> build/lib.linux-x86_64-3.10/atari_py/ale_interface/src/games/supported\n",
            "  \u001b[31m   \u001b[0m copying atari_py/ale_interface/src/games/supported/QBert.hpp -> build/lib.linux-x86_64-3.10/atari_py/ale_interface/src/games/supported\n",
            "  \u001b[31m   \u001b[0m copying atari_py/ale_interface/src/games/supported/RiverRaid.cpp -> build/lib.linux-x86_64-3.10/atari_py/ale_interface/src/games/supported\n",
            "  \u001b[31m   \u001b[0m copying atari_py/ale_interface/src/games/supported/RiverRaid.hpp -> build/lib.linux-x86_64-3.10/atari_py/ale_interface/src/games/supported\n",
            "  \u001b[31m   \u001b[0m copying atari_py/ale_interface/src/games/supported/RoadRunner.cpp -> build/lib.linux-x86_64-3.10/atari_py/ale_interface/src/games/supported\n",
            "  \u001b[31m   \u001b[0m copying atari_py/ale_interface/src/games/supported/RoadRunner.hpp -> build/lib.linux-x86_64-3.10/atari_py/ale_interface/src/games/supported\n",
            "  \u001b[31m   \u001b[0m copying atari_py/ale_interface/src/games/supported/RoboTank.cpp -> build/lib.linux-x86_64-3.10/atari_py/ale_interface/src/games/supported\n",
            "  \u001b[31m   \u001b[0m copying atari_py/ale_interface/src/games/supported/RoboTank.hpp -> build/lib.linux-x86_64-3.10/atari_py/ale_interface/src/games/supported\n",
            "  \u001b[31m   \u001b[0m copying atari_py/ale_interface/src/games/supported/Seaquest.cpp -> build/lib.linux-x86_64-3.10/atari_py/ale_interface/src/games/supported\n",
            "  \u001b[31m   \u001b[0m copying atari_py/ale_interface/src/games/supported/Seaquest.hpp -> build/lib.linux-x86_64-3.10/atari_py/ale_interface/src/games/supported\n",
            "  \u001b[31m   \u001b[0m copying atari_py/ale_interface/src/games/supported/SirLancelot.cpp -> build/lib.linux-x86_64-3.10/atari_py/ale_interface/src/games/supported\n",
            "  \u001b[31m   \u001b[0m copying atari_py/ale_interface/src/games/supported/SirLancelot.hpp -> build/lib.linux-x86_64-3.10/atari_py/ale_interface/src/games/supported\n",
            "  \u001b[31m   \u001b[0m copying atari_py/ale_interface/src/games/supported/Skiing.cpp -> build/lib.linux-x86_64-3.10/atari_py/ale_interface/src/games/supported\n",
            "  \u001b[31m   \u001b[0m copying atari_py/ale_interface/src/games/supported/Skiing.hpp -> build/lib.linux-x86_64-3.10/atari_py/ale_interface/src/games/supported\n",
            "  \u001b[31m   \u001b[0m copying atari_py/ale_interface/src/games/supported/Solaris.cpp -> build/lib.linux-x86_64-3.10/atari_py/ale_interface/src/games/supported\n",
            "  \u001b[31m   \u001b[0m copying atari_py/ale_interface/src/games/supported/Solaris.hpp -> build/lib.linux-x86_64-3.10/atari_py/ale_interface/src/games/supported\n",
            "  \u001b[31m   \u001b[0m copying atari_py/ale_interface/src/games/supported/SpaceInvaders.cpp -> build/lib.linux-x86_64-3.10/atari_py/ale_interface/src/games/supported\n",
            "  \u001b[31m   \u001b[0m copying atari_py/ale_interface/src/games/supported/SpaceInvaders.hpp -> build/lib.linux-x86_64-3.10/atari_py/ale_interface/src/games/supported\n",
            "  \u001b[31m   \u001b[0m copying atari_py/ale_interface/src/games/supported/StarGunner.cpp -> build/lib.linux-x86_64-3.10/atari_py/ale_interface/src/games/supported\n",
            "  \u001b[31m   \u001b[0m copying atari_py/ale_interface/src/games/supported/StarGunner.hpp -> build/lib.linux-x86_64-3.10/atari_py/ale_interface/src/games/supported\n",
            "  \u001b[31m   \u001b[0m copying atari_py/ale_interface/src/games/supported/Tennis.cpp -> build/lib.linux-x86_64-3.10/atari_py/ale_interface/src/games/supported\n",
            "  \u001b[31m   \u001b[0m copying atari_py/ale_interface/src/games/supported/Tennis.hpp -> build/lib.linux-x86_64-3.10/atari_py/ale_interface/src/games/supported\n",
            "  \u001b[31m   \u001b[0m copying atari_py/ale_interface/src/games/supported/Tetris.cpp -> build/lib.linux-x86_64-3.10/atari_py/ale_interface/src/games/supported\n",
            "  \u001b[31m   \u001b[0m copying atari_py/ale_interface/src/games/supported/Tetris.hpp -> build/lib.linux-x86_64-3.10/atari_py/ale_interface/src/games/supported\n",
            "  \u001b[31m   \u001b[0m copying atari_py/ale_interface/src/games/supported/TimePilot.cpp -> build/lib.linux-x86_64-3.10/atari_py/ale_interface/src/games/supported\n",
            "  \u001b[31m   \u001b[0m copying atari_py/ale_interface/src/games/supported/TimePilot.hpp -> build/lib.linux-x86_64-3.10/atari_py/ale_interface/src/games/supported\n",
            "  \u001b[31m   \u001b[0m copying atari_py/ale_interface/src/games/supported/Trondead.cpp -> build/lib.linux-x86_64-3.10/atari_py/ale_interface/src/games/supported\n",
            "  \u001b[31m   \u001b[0m copying atari_py/ale_interface/src/games/supported/Trondead.hpp -> build/lib.linux-x86_64-3.10/atari_py/ale_interface/src/games/supported\n",
            "  \u001b[31m   \u001b[0m copying atari_py/ale_interface/src/games/supported/Turmoil.cpp -> build/lib.linux-x86_64-3.10/atari_py/ale_interface/src/games/supported\n",
            "  \u001b[31m   \u001b[0m copying atari_py/ale_interface/src/games/supported/Turmoil.hpp -> build/lib.linux-x86_64-3.10/atari_py/ale_interface/src/games/supported\n",
            "  \u001b[31m   \u001b[0m copying atari_py/ale_interface/src/games/supported/Tutankham.cpp -> build/lib.linux-x86_64-3.10/atari_py/ale_interface/src/games/supported\n",
            "  \u001b[31m   \u001b[0m copying atari_py/ale_interface/src/games/supported/Tutankham.hpp -> build/lib.linux-x86_64-3.10/atari_py/ale_interface/src/games/supported\n",
            "  \u001b[31m   \u001b[0m copying atari_py/ale_interface/src/games/supported/UpNDown.cpp -> build/lib.linux-x86_64-3.10/atari_py/ale_interface/src/games/supported\n",
            "  \u001b[31m   \u001b[0m copying atari_py/ale_interface/src/games/supported/UpNDown.hpp -> build/lib.linux-x86_64-3.10/atari_py/ale_interface/src/games/supported\n",
            "  \u001b[31m   \u001b[0m copying atari_py/ale_interface/src/games/supported/Venture.cpp -> build/lib.linux-x86_64-3.10/atari_py/ale_interface/src/games/supported\n",
            "  \u001b[31m   \u001b[0m copying atari_py/ale_interface/src/games/supported/Venture.hpp -> build/lib.linux-x86_64-3.10/atari_py/ale_interface/src/games/supported\n",
            "  \u001b[31m   \u001b[0m copying atari_py/ale_interface/src/games/supported/VideoPinball.cpp -> build/lib.linux-x86_64-3.10/atari_py/ale_interface/src/games/supported\n",
            "  \u001b[31m   \u001b[0m copying atari_py/ale_interface/src/games/supported/VideoPinball.hpp -> build/lib.linux-x86_64-3.10/atari_py/ale_interface/src/games/supported\n",
            "  \u001b[31m   \u001b[0m copying atari_py/ale_interface/src/games/supported/WizardOfWor.cpp -> build/lib.linux-x86_64-3.10/atari_py/ale_interface/src/games/supported\n",
            "  \u001b[31m   \u001b[0m copying atari_py/ale_interface/src/games/supported/WizardOfWor.hpp -> build/lib.linux-x86_64-3.10/atari_py/ale_interface/src/games/supported\n",
            "  \u001b[31m   \u001b[0m copying atari_py/ale_interface/src/games/supported/YarsRevenge.cpp -> build/lib.linux-x86_64-3.10/atari_py/ale_interface/src/games/supported\n",
            "  \u001b[31m   \u001b[0m copying atari_py/ale_interface/src/games/supported/YarsRevenge.hpp -> build/lib.linux-x86_64-3.10/atari_py/ale_interface/src/games/supported\n",
            "  \u001b[31m   \u001b[0m copying atari_py/ale_interface/src/games/supported/Zaxxon.cpp -> build/lib.linux-x86_64-3.10/atari_py/ale_interface/src/games/supported\n",
            "  \u001b[31m   \u001b[0m copying atari_py/ale_interface/src/games/supported/Zaxxon.hpp -> build/lib.linux-x86_64-3.10/atari_py/ale_interface/src/games/supported\n",
            "  \u001b[31m   \u001b[0m copying atari_py/ale_interface/src/main.cpp -> build/lib.linux-x86_64-3.10/atari_py/ale_interface/src\n",
            "  \u001b[31m   \u001b[0m copying atari_py/ale_interface/src/module.mk -> build/lib.linux-x86_64-3.10/atari_py/ale_interface/src\n",
            "  \u001b[31m   \u001b[0m creating build/lib.linux-x86_64-3.10/atari_py/ale_interface/src/os_dependent\n",
            "  \u001b[31m   \u001b[0m copying atari_py/ale_interface/src/os_dependent/FSNodePOSIX.cxx -> build/lib.linux-x86_64-3.10/atari_py/ale_interface/src/os_dependent\n",
            "  \u001b[31m   \u001b[0m copying atari_py/ale_interface/src/os_dependent/FSNodeWin32.cxx -> build/lib.linux-x86_64-3.10/atari_py/ale_interface/src/os_dependent\n",
            "  \u001b[31m   \u001b[0m copying atari_py/ale_interface/src/os_dependent/OSystemUNIX.cxx -> build/lib.linux-x86_64-3.10/atari_py/ale_interface/src/os_dependent\n",
            "  \u001b[31m   \u001b[0m copying atari_py/ale_interface/src/os_dependent/OSystemUNIX.hxx -> build/lib.linux-x86_64-3.10/atari_py/ale_interface/src/os_dependent\n",
            "  \u001b[31m   \u001b[0m copying atari_py/ale_interface/src/os_dependent/OSystemWin32.cxx -> build/lib.linux-x86_64-3.10/atari_py/ale_interface/src/os_dependent\n",
            "  \u001b[31m   \u001b[0m copying atari_py/ale_interface/src/os_dependent/OSystemWin32.hxx -> build/lib.linux-x86_64-3.10/atari_py/ale_interface/src/os_dependent\n",
            "  \u001b[31m   \u001b[0m copying atari_py/ale_interface/src/os_dependent/SettingsUNIX.cxx -> build/lib.linux-x86_64-3.10/atari_py/ale_interface/src/os_dependent\n",
            "  \u001b[31m   \u001b[0m copying atari_py/ale_interface/src/os_dependent/SettingsUNIX.hxx -> build/lib.linux-x86_64-3.10/atari_py/ale_interface/src/os_dependent\n",
            "  \u001b[31m   \u001b[0m copying atari_py/ale_interface/src/os_dependent/SettingsWin32.cxx -> build/lib.linux-x86_64-3.10/atari_py/ale_interface/src/os_dependent\n",
            "  \u001b[31m   \u001b[0m copying atari_py/ale_interface/src/os_dependent/SettingsWin32.hxx -> build/lib.linux-x86_64-3.10/atari_py/ale_interface/src/os_dependent\n",
            "  \u001b[31m   \u001b[0m copying atari_py/ale_interface/src/os_dependent/module.mk -> build/lib.linux-x86_64-3.10/atari_py/ale_interface/src/os_dependent\n",
            "  \u001b[31m   \u001b[0m creating build/lib.linux-x86_64-3.10/atari_py/atari_roms\n",
            "  \u001b[31m   \u001b[0m copying atari_py/atari_roms/tetris.bin -> build/lib.linux-x86_64-3.10/atari_py/atari_roms\n",
            "  \u001b[31m   \u001b[0m copying atari_py/atari_ntsc_rgb_palette.h -> build/lib.linux-x86_64-3.10/atari_py\n",
            "  \u001b[31m   \u001b[0m copying atari_py/package_data.txt -> build/lib.linux-x86_64-3.10/atari_py\n",
            "  \u001b[31m   \u001b[0m creating build/lib.linux-x86_64-3.10/atari_py/tests\n",
            "  \u001b[31m   \u001b[0m copying atari_py/tests/__init__.py -> build/lib.linux-x86_64-3.10/atari_py/tests\n",
            "  \u001b[31m   \u001b[0m copying atari_py/tests/test_smoke.py -> build/lib.linux-x86_64-3.10/atari_py/tests\n",
            "  \u001b[31m   \u001b[0m running build_ext\n",
            "  \u001b[31m   \u001b[0m error: [Errno 2] No such file or directory: 'cmake'\n",
            "  \u001b[31m   \u001b[0m \u001b[31m[end of output]\u001b[0m\n",
            "  \n",
            "  \u001b[1;35mnote\u001b[0m: This error originates from a subprocess, and is likely not a problem with pip.\n",
            "\u001b[31m  ERROR: Failed building wheel for atari-py\u001b[0m\u001b[31m\n",
            "\u001b[0m\u001b[?25h  Running setup.py clean for atari-py\n",
            "Failed to build atari-py\n",
            "Installing collected packages: atari-py\n",
            "  Running setup.py install for atari-py ... \u001b[?25lerror\n",
            "  \u001b[1;31merror\u001b[0m: \u001b[1msubprocess-exited-with-error\u001b[0m\n",
            "  \n",
            "  \u001b[31m×\u001b[0m \u001b[32mRunning setup.py install for atari-py\u001b[0m did not run successfully.\n",
            "  \u001b[31m│\u001b[0m exit code: \u001b[1;36m1\u001b[0m\n",
            "  \u001b[31m╰─>\u001b[0m \u001b[31m[404 lines of output]\u001b[0m\n",
            "  \u001b[31m   \u001b[0m running install\n",
            "  \u001b[31m   \u001b[0m /usr/lib/python3/dist-packages/setuptools/command/install.py:34: SetuptoolsDeprecationWarning: setup.py install is deprecated. Use build and pip and other standards-based tools.\n",
            "  \u001b[31m   \u001b[0m   warnings.warn(\n",
            "  \u001b[31m   \u001b[0m running build\n",
            "  \u001b[31m   \u001b[0m running build_py\n",
            "  \u001b[31m   \u001b[0m creating build\n",
            "  \u001b[31m   \u001b[0m creating build/lib.linux-x86_64-3.10\n",
            "  \u001b[31m   \u001b[0m creating build/lib.linux-x86_64-3.10/atari_py\n",
            "  \u001b[31m   \u001b[0m copying atari_py/games.py -> build/lib.linux-x86_64-3.10/atari_py\n",
            "  \u001b[31m   \u001b[0m copying atari_py/__init__.py -> build/lib.linux-x86_64-3.10/atari_py\n",
            "  \u001b[31m   \u001b[0m copying atari_py/import_roms.py -> build/lib.linux-x86_64-3.10/atari_py\n",
            "  \u001b[31m   \u001b[0m copying atari_py/ale_python_interface.py -> build/lib.linux-x86_64-3.10/atari_py\n",
            "  \u001b[31m   \u001b[0m creating build/lib.linux-x86_64-3.10/atari_py/ale_interface\n",
            "  \u001b[31m   \u001b[0m copying atari_py/ale_interface/md5.txt -> build/lib.linux-x86_64-3.10/atari_py/ale_interface\n",
            "  \u001b[31m   \u001b[0m copying atari_py/ale_c_wrapper.cpp -> build/lib.linux-x86_64-3.10/atari_py\n",
            "  \u001b[31m   \u001b[0m copying atari_py/ale_c_wrapper.h -> build/lib.linux-x86_64-3.10/atari_py\n",
            "  \u001b[31m   \u001b[0m copying atari_py/ale_interface/CMakeLists.txt -> build/lib.linux-x86_64-3.10/atari_py/ale_interface\n",
            "  \u001b[31m   \u001b[0m creating build/lib.linux-x86_64-3.10/atari_py/ale_interface/src\n",
            "  \u001b[31m   \u001b[0m copying atari_py/ale_interface/src/ale_interface.cpp -> build/lib.linux-x86_64-3.10/atari_py/ale_interface/src\n",
            "  \u001b[31m   \u001b[0m copying atari_py/ale_interface/src/ale_interface.hpp -> build/lib.linux-x86_64-3.10/atari_py/ale_interface/src\n",
            "  \u001b[31m   \u001b[0m creating build/lib.linux-x86_64-3.10/atari_py/ale_interface/src/common\n",
            "  \u001b[31m   \u001b[0m copying atari_py/ale_interface/src/common/Array.hxx -> build/lib.linux-x86_64-3.10/atari_py/ale_interface/src/common\n",
            "  \u001b[31m   \u001b[0m copying atari_py/ale_interface/src/common/ColourPalette.cpp -> build/lib.linux-x86_64-3.10/atari_py/ale_interface/src/common\n",
            "  \u001b[31m   \u001b[0m copying atari_py/ale_interface/src/common/ColourPalette.hpp -> build/lib.linux-x86_64-3.10/atari_py/ale_interface/src/common\n",
            "  \u001b[31m   \u001b[0m copying atari_py/ale_interface/src/common/Constants.cpp -> build/lib.linux-x86_64-3.10/atari_py/ale_interface/src/common\n",
            "  \u001b[31m   \u001b[0m copying atari_py/ale_interface/src/common/Constants.h -> build/lib.linux-x86_64-3.10/atari_py/ale_interface/src/common\n",
            "  \u001b[31m   \u001b[0m copying atari_py/ale_interface/src/common/Log.cpp -> build/lib.linux-x86_64-3.10/atari_py/ale_interface/src/common\n",
            "  \u001b[31m   \u001b[0m copying atari_py/ale_interface/src/common/Log.hpp -> build/lib.linux-x86_64-3.10/atari_py/ale_interface/src/common\n",
            "  \u001b[31m   \u001b[0m copying atari_py/ale_interface/src/common/Palettes.hpp -> build/lib.linux-x86_64-3.10/atari_py/ale_interface/src/common\n",
            "  \u001b[31m   \u001b[0m copying atari_py/ale_interface/src/common/ScreenExporter.cpp -> build/lib.linux-x86_64-3.10/atari_py/ale_interface/src/common\n",
            "  \u001b[31m   \u001b[0m copying atari_py/ale_interface/src/common/ScreenExporter.hpp -> build/lib.linux-x86_64-3.10/atari_py/ale_interface/src/common\n",
            "  \u001b[31m   \u001b[0m copying atari_py/ale_interface/src/common/SoundExporter.cpp -> build/lib.linux-x86_64-3.10/atari_py/ale_interface/src/common\n",
            "  \u001b[31m   \u001b[0m copying atari_py/ale_interface/src/common/SoundExporter.hpp -> build/lib.linux-x86_64-3.10/atari_py/ale_interface/src/common\n",
            "  \u001b[31m   \u001b[0m copying atari_py/ale_interface/src/common/SoundNull.cxx -> build/lib.linux-x86_64-3.10/atari_py/ale_interface/src/common\n",
            "  \u001b[31m   \u001b[0m copying atari_py/ale_interface/src/common/SoundNull.hxx -> build/lib.linux-x86_64-3.10/atari_py/ale_interface/src/common\n",
            "  \u001b[31m   \u001b[0m copying atari_py/ale_interface/src/common/SoundSDL.cxx -> build/lib.linux-x86_64-3.10/atari_py/ale_interface/src/common\n",
            "  \u001b[31m   \u001b[0m copying atari_py/ale_interface/src/common/SoundSDL.hxx -> build/lib.linux-x86_64-3.10/atari_py/ale_interface/src/common\n",
            "  \u001b[31m   \u001b[0m copying atari_py/ale_interface/src/common/Version.hxx -> build/lib.linux-x86_64-3.10/atari_py/ale_interface/src/common\n",
            "  \u001b[31m   \u001b[0m copying atari_py/ale_interface/src/common/VideoModeList.hxx -> build/lib.linux-x86_64-3.10/atari_py/ale_interface/src/common\n",
            "  \u001b[31m   \u001b[0m copying atari_py/ale_interface/src/common/display_screen.cpp -> build/lib.linux-x86_64-3.10/atari_py/ale_interface/src/common\n",
            "  \u001b[31m   \u001b[0m copying atari_py/ale_interface/src/common/display_screen.h -> build/lib.linux-x86_64-3.10/atari_py/ale_interface/src/common\n",
            "  \u001b[31m   \u001b[0m copying atari_py/ale_interface/src/common/misc_tools.h -> build/lib.linux-x86_64-3.10/atari_py/ale_interface/src/common\n",
            "  \u001b[31m   \u001b[0m copying atari_py/ale_interface/src/common/module.mk -> build/lib.linux-x86_64-3.10/atari_py/ale_interface/src/common\n",
            "  \u001b[31m   \u001b[0m copying atari_py/ale_interface/src/common/stella.png -> build/lib.linux-x86_64-3.10/atari_py/ale_interface/src/common\n",
            "  \u001b[31m   \u001b[0m copying atari_py/ale_interface/src/common/stella.xpm -> build/lib.linux-x86_64-3.10/atari_py/ale_interface/src/common\n",
            "  \u001b[31m   \u001b[0m creating build/lib.linux-x86_64-3.10/atari_py/ale_interface/src/controllers\n",
            "  \u001b[31m   \u001b[0m copying atari_py/ale_interface/src/controllers/ale_controller.cpp -> build/lib.linux-x86_64-3.10/atari_py/ale_interface/src/controllers\n",
            "  \u001b[31m   \u001b[0m copying atari_py/ale_interface/src/controllers/ale_controller.hpp -> build/lib.linux-x86_64-3.10/atari_py/ale_interface/src/controllers\n",
            "  \u001b[31m   \u001b[0m copying atari_py/ale_interface/src/controllers/fifo_controller.cpp -> build/lib.linux-x86_64-3.10/atari_py/ale_interface/src/controllers\n",
            "  \u001b[31m   \u001b[0m copying atari_py/ale_interface/src/controllers/fifo_controller.hpp -> build/lib.linux-x86_64-3.10/atari_py/ale_interface/src/controllers\n",
            "  \u001b[31m   \u001b[0m copying atari_py/ale_interface/src/controllers/module.mk -> build/lib.linux-x86_64-3.10/atari_py/ale_interface/src/controllers\n",
            "  \u001b[31m   \u001b[0m copying atari_py/ale_interface/src/controllers/rlglue_controller.cpp -> build/lib.linux-x86_64-3.10/atari_py/ale_interface/src/controllers\n",
            "  \u001b[31m   \u001b[0m copying atari_py/ale_interface/src/controllers/rlglue_controller.hpp -> build/lib.linux-x86_64-3.10/atari_py/ale_interface/src/controllers\n",
            "  \u001b[31m   \u001b[0m creating build/lib.linux-x86_64-3.10/atari_py/ale_interface/src/emucore\n",
            "  \u001b[31m   \u001b[0m copying atari_py/ale_interface/src/emucore/AtariVox.cxx -> build/lib.linux-x86_64-3.10/atari_py/ale_interface/src/emucore\n",
            "  \u001b[31m   \u001b[0m copying atari_py/ale_interface/src/emucore/AtariVox.hxx -> build/lib.linux-x86_64-3.10/atari_py/ale_interface/src/emucore\n",
            "  \u001b[31m   \u001b[0m copying atari_py/ale_interface/src/emucore/Booster.cxx -> build/lib.linux-x86_64-3.10/atari_py/ale_interface/src/emucore\n",
            "  \u001b[31m   \u001b[0m copying atari_py/ale_interface/src/emucore/Booster.hxx -> build/lib.linux-x86_64-3.10/atari_py/ale_interface/src/emucore\n",
            "  \u001b[31m   \u001b[0m copying atari_py/ale_interface/src/emucore/Cart.cxx -> build/lib.linux-x86_64-3.10/atari_py/ale_interface/src/emucore\n",
            "  \u001b[31m   \u001b[0m copying atari_py/ale_interface/src/emucore/Cart.hxx -> build/lib.linux-x86_64-3.10/atari_py/ale_interface/src/emucore\n",
            "  \u001b[31m   \u001b[0m copying atari_py/ale_interface/src/emucore/Cart0840.cxx -> build/lib.linux-x86_64-3.10/atari_py/ale_interface/src/emucore\n",
            "  \u001b[31m   \u001b[0m copying atari_py/ale_interface/src/emucore/Cart0840.hxx -> build/lib.linux-x86_64-3.10/atari_py/ale_interface/src/emucore\n",
            "  \u001b[31m   \u001b[0m copying atari_py/ale_interface/src/emucore/Cart2K.cxx -> build/lib.linux-x86_64-3.10/atari_py/ale_interface/src/emucore\n",
            "  \u001b[31m   \u001b[0m copying atari_py/ale_interface/src/emucore/Cart2K.hxx -> build/lib.linux-x86_64-3.10/atari_py/ale_interface/src/emucore\n",
            "  \u001b[31m   \u001b[0m copying atari_py/ale_interface/src/emucore/Cart3E.cxx -> build/lib.linux-x86_64-3.10/atari_py/ale_interface/src/emucore\n",
            "  \u001b[31m   \u001b[0m copying atari_py/ale_interface/src/emucore/Cart3E.hxx -> build/lib.linux-x86_64-3.10/atari_py/ale_interface/src/emucore\n",
            "  \u001b[31m   \u001b[0m copying atari_py/ale_interface/src/emucore/Cart3F.cxx -> build/lib.linux-x86_64-3.10/atari_py/ale_interface/src/emucore\n",
            "  \u001b[31m   \u001b[0m copying atari_py/ale_interface/src/emucore/Cart3F.hxx -> build/lib.linux-x86_64-3.10/atari_py/ale_interface/src/emucore\n",
            "  \u001b[31m   \u001b[0m copying atari_py/ale_interface/src/emucore/Cart4A50.cxx -> build/lib.linux-x86_64-3.10/atari_py/ale_interface/src/emucore\n",
            "  \u001b[31m   \u001b[0m copying atari_py/ale_interface/src/emucore/Cart4A50.hxx -> build/lib.linux-x86_64-3.10/atari_py/ale_interface/src/emucore\n",
            "  \u001b[31m   \u001b[0m copying atari_py/ale_interface/src/emucore/Cart4K.cxx -> build/lib.linux-x86_64-3.10/atari_py/ale_interface/src/emucore\n",
            "  \u001b[31m   \u001b[0m copying atari_py/ale_interface/src/emucore/Cart4K.hxx -> build/lib.linux-x86_64-3.10/atari_py/ale_interface/src/emucore\n",
            "  \u001b[31m   \u001b[0m copying atari_py/ale_interface/src/emucore/CartAR.cxx -> build/lib.linux-x86_64-3.10/atari_py/ale_interface/src/emucore\n",
            "  \u001b[31m   \u001b[0m copying atari_py/ale_interface/src/emucore/CartAR.hxx -> build/lib.linux-x86_64-3.10/atari_py/ale_interface/src/emucore\n",
            "  \u001b[31m   \u001b[0m copying atari_py/ale_interface/src/emucore/CartCV.cxx -> build/lib.linux-x86_64-3.10/atari_py/ale_interface/src/emucore\n",
            "  \u001b[31m   \u001b[0m copying atari_py/ale_interface/src/emucore/CartCV.hxx -> build/lib.linux-x86_64-3.10/atari_py/ale_interface/src/emucore\n",
            "  \u001b[31m   \u001b[0m copying atari_py/ale_interface/src/emucore/CartDPC.cxx -> build/lib.linux-x86_64-3.10/atari_py/ale_interface/src/emucore\n",
            "  \u001b[31m   \u001b[0m copying atari_py/ale_interface/src/emucore/CartDPC.hxx -> build/lib.linux-x86_64-3.10/atari_py/ale_interface/src/emucore\n",
            "  \u001b[31m   \u001b[0m copying atari_py/ale_interface/src/emucore/CartE0.cxx -> build/lib.linux-x86_64-3.10/atari_py/ale_interface/src/emucore\n",
            "  \u001b[31m   \u001b[0m copying atari_py/ale_interface/src/emucore/CartE0.hxx -> build/lib.linux-x86_64-3.10/atari_py/ale_interface/src/emucore\n",
            "  \u001b[31m   \u001b[0m copying atari_py/ale_interface/src/emucore/CartE7.cxx -> build/lib.linux-x86_64-3.10/atari_py/ale_interface/src/emucore\n",
            "  \u001b[31m   \u001b[0m copying atari_py/ale_interface/src/emucore/CartE7.hxx -> build/lib.linux-x86_64-3.10/atari_py/ale_interface/src/emucore\n",
            "  \u001b[31m   \u001b[0m copying atari_py/ale_interface/src/emucore/CartF4.cxx -> build/lib.linux-x86_64-3.10/atari_py/ale_interface/src/emucore\n",
            "  \u001b[31m   \u001b[0m copying atari_py/ale_interface/src/emucore/CartF4.hxx -> build/lib.linux-x86_64-3.10/atari_py/ale_interface/src/emucore\n",
            "  \u001b[31m   \u001b[0m copying atari_py/ale_interface/src/emucore/CartF4SC.cxx -> build/lib.linux-x86_64-3.10/atari_py/ale_interface/src/emucore\n",
            "  \u001b[31m   \u001b[0m copying atari_py/ale_interface/src/emucore/CartF4SC.hxx -> build/lib.linux-x86_64-3.10/atari_py/ale_interface/src/emucore\n",
            "  \u001b[31m   \u001b[0m copying atari_py/ale_interface/src/emucore/CartF6.cxx -> build/lib.linux-x86_64-3.10/atari_py/ale_interface/src/emucore\n",
            "  \u001b[31m   \u001b[0m copying atari_py/ale_interface/src/emucore/CartF6.hxx -> build/lib.linux-x86_64-3.10/atari_py/ale_interface/src/emucore\n",
            "  \u001b[31m   \u001b[0m copying atari_py/ale_interface/src/emucore/CartF6SC.cxx -> build/lib.linux-x86_64-3.10/atari_py/ale_interface/src/emucore\n",
            "  \u001b[31m   \u001b[0m copying atari_py/ale_interface/src/emucore/CartF6SC.hxx -> build/lib.linux-x86_64-3.10/atari_py/ale_interface/src/emucore\n",
            "  \u001b[31m   \u001b[0m copying atari_py/ale_interface/src/emucore/CartF8.cxx -> build/lib.linux-x86_64-3.10/atari_py/ale_interface/src/emucore\n",
            "  \u001b[31m   \u001b[0m copying atari_py/ale_interface/src/emucore/CartF8.hxx -> build/lib.linux-x86_64-3.10/atari_py/ale_interface/src/emucore\n",
            "  \u001b[31m   \u001b[0m copying atari_py/ale_interface/src/emucore/CartF8SC.cxx -> build/lib.linux-x86_64-3.10/atari_py/ale_interface/src/emucore\n",
            "  \u001b[31m   \u001b[0m copying atari_py/ale_interface/src/emucore/CartF8SC.hxx -> build/lib.linux-x86_64-3.10/atari_py/ale_interface/src/emucore\n",
            "  \u001b[31m   \u001b[0m copying atari_py/ale_interface/src/emucore/CartFASC.cxx -> build/lib.linux-x86_64-3.10/atari_py/ale_interface/src/emucore\n",
            "  \u001b[31m   \u001b[0m copying atari_py/ale_interface/src/emucore/CartFASC.hxx -> build/lib.linux-x86_64-3.10/atari_py/ale_interface/src/emucore\n",
            "  \u001b[31m   \u001b[0m copying atari_py/ale_interface/src/emucore/CartFE.cxx -> build/lib.linux-x86_64-3.10/atari_py/ale_interface/src/emucore\n",
            "  \u001b[31m   \u001b[0m copying atari_py/ale_interface/src/emucore/CartFE.hxx -> build/lib.linux-x86_64-3.10/atari_py/ale_interface/src/emucore\n",
            "  \u001b[31m   \u001b[0m copying atari_py/ale_interface/src/emucore/CartMB.cxx -> build/lib.linux-x86_64-3.10/atari_py/ale_interface/src/emucore\n",
            "  \u001b[31m   \u001b[0m copying atari_py/ale_interface/src/emucore/CartMB.hxx -> build/lib.linux-x86_64-3.10/atari_py/ale_interface/src/emucore\n",
            "  \u001b[31m   \u001b[0m copying atari_py/ale_interface/src/emucore/CartMC.cxx -> build/lib.linux-x86_64-3.10/atari_py/ale_interface/src/emucore\n",
            "  \u001b[31m   \u001b[0m copying atari_py/ale_interface/src/emucore/CartMC.hxx -> build/lib.linux-x86_64-3.10/atari_py/ale_interface/src/emucore\n",
            "  \u001b[31m   \u001b[0m copying atari_py/ale_interface/src/emucore/CartUA.cxx -> build/lib.linux-x86_64-3.10/atari_py/ale_interface/src/emucore\n",
            "  \u001b[31m   \u001b[0m copying atari_py/ale_interface/src/emucore/CartUA.hxx -> build/lib.linux-x86_64-3.10/atari_py/ale_interface/src/emucore\n",
            "  \u001b[31m   \u001b[0m copying atari_py/ale_interface/src/emucore/Console.cxx -> build/lib.linux-x86_64-3.10/atari_py/ale_interface/src/emucore\n",
            "  \u001b[31m   \u001b[0m copying atari_py/ale_interface/src/emucore/Console.hxx -> build/lib.linux-x86_64-3.10/atari_py/ale_interface/src/emucore\n",
            "  \u001b[31m   \u001b[0m copying atari_py/ale_interface/src/emucore/Control.cxx -> build/lib.linux-x86_64-3.10/atari_py/ale_interface/src/emucore\n",
            "  \u001b[31m   \u001b[0m copying atari_py/ale_interface/src/emucore/Control.hxx -> build/lib.linux-x86_64-3.10/atari_py/ale_interface/src/emucore\n",
            "  \u001b[31m   \u001b[0m copying atari_py/ale_interface/src/emucore/DefProps.hxx -> build/lib.linux-x86_64-3.10/atari_py/ale_interface/src/emucore\n",
            "  \u001b[31m   \u001b[0m copying atari_py/ale_interface/src/emucore/Deserializer.cxx -> build/lib.linux-x86_64-3.10/atari_py/ale_interface/src/emucore\n",
            "  \u001b[31m   \u001b[0m copying atari_py/ale_interface/src/emucore/Deserializer.hxx -> build/lib.linux-x86_64-3.10/atari_py/ale_interface/src/emucore\n",
            "  \u001b[31m   \u001b[0m copying atari_py/ale_interface/src/emucore/Driving.cxx -> build/lib.linux-x86_64-3.10/atari_py/ale_interface/src/emucore\n",
            "  \u001b[31m   \u001b[0m copying atari_py/ale_interface/src/emucore/Driving.hxx -> build/lib.linux-x86_64-3.10/atari_py/ale_interface/src/emucore\n",
            "  \u001b[31m   \u001b[0m copying atari_py/ale_interface/src/emucore/Event.cxx -> build/lib.linux-x86_64-3.10/atari_py/ale_interface/src/emucore\n",
            "  \u001b[31m   \u001b[0m copying atari_py/ale_interface/src/emucore/Event.hxx -> build/lib.linux-x86_64-3.10/atari_py/ale_interface/src/emucore\n",
            "  \u001b[31m   \u001b[0m copying atari_py/ale_interface/src/emucore/FSNode.cxx -> build/lib.linux-x86_64-3.10/atari_py/ale_interface/src/emucore\n",
            "  \u001b[31m   \u001b[0m copying atari_py/ale_interface/src/emucore/FSNode.hxx -> build/lib.linux-x86_64-3.10/atari_py/ale_interface/src/emucore\n",
            "  \u001b[31m   \u001b[0m copying atari_py/ale_interface/src/emucore/Joystick.cxx -> build/lib.linux-x86_64-3.10/atari_py/ale_interface/src/emucore\n",
            "  \u001b[31m   \u001b[0m copying atari_py/ale_interface/src/emucore/Joystick.hxx -> build/lib.linux-x86_64-3.10/atari_py/ale_interface/src/emucore\n",
            "  \u001b[31m   \u001b[0m copying atari_py/ale_interface/src/emucore/Keyboard.cxx -> build/lib.linux-x86_64-3.10/atari_py/ale_interface/src/emucore\n",
            "  \u001b[31m   \u001b[0m copying atari_py/ale_interface/src/emucore/Keyboard.hxx -> build/lib.linux-x86_64-3.10/atari_py/ale_interface/src/emucore\n",
            "  \u001b[31m   \u001b[0m copying atari_py/ale_interface/src/emucore/M6532.cxx -> build/lib.linux-x86_64-3.10/atari_py/ale_interface/src/emucore\n",
            "  \u001b[31m   \u001b[0m copying atari_py/ale_interface/src/emucore/M6532.hxx -> build/lib.linux-x86_64-3.10/atari_py/ale_interface/src/emucore\n",
            "  \u001b[31m   \u001b[0m copying atari_py/ale_interface/src/emucore/MD5.cxx -> build/lib.linux-x86_64-3.10/atari_py/ale_interface/src/emucore\n",
            "  \u001b[31m   \u001b[0m copying atari_py/ale_interface/src/emucore/MD5.hxx -> build/lib.linux-x86_64-3.10/atari_py/ale_interface/src/emucore\n",
            "  \u001b[31m   \u001b[0m copying atari_py/ale_interface/src/emucore/MediaSrc.cxx -> build/lib.linux-x86_64-3.10/atari_py/ale_interface/src/emucore\n",
            "  \u001b[31m   \u001b[0m copying atari_py/ale_interface/src/emucore/MediaSrc.hxx -> build/lib.linux-x86_64-3.10/atari_py/ale_interface/src/emucore\n",
            "  \u001b[31m   \u001b[0m copying atari_py/ale_interface/src/emucore/OSystem.cxx -> build/lib.linux-x86_64-3.10/atari_py/ale_interface/src/emucore\n",
            "  \u001b[31m   \u001b[0m copying atari_py/ale_interface/src/emucore/OSystem.hxx -> build/lib.linux-x86_64-3.10/atari_py/ale_interface/src/emucore\n",
            "  \u001b[31m   \u001b[0m copying atari_py/ale_interface/src/emucore/Paddles.cxx -> build/lib.linux-x86_64-3.10/atari_py/ale_interface/src/emucore\n",
            "  \u001b[31m   \u001b[0m copying atari_py/ale_interface/src/emucore/Paddles.hxx -> build/lib.linux-x86_64-3.10/atari_py/ale_interface/src/emucore\n",
            "  \u001b[31m   \u001b[0m copying atari_py/ale_interface/src/emucore/Props.cxx -> build/lib.linux-x86_64-3.10/atari_py/ale_interface/src/emucore\n",
            "  \u001b[31m   \u001b[0m copying atari_py/ale_interface/src/emucore/Props.hxx -> build/lib.linux-x86_64-3.10/atari_py/ale_interface/src/emucore\n",
            "  \u001b[31m   \u001b[0m copying atari_py/ale_interface/src/emucore/PropsSet.cxx -> build/lib.linux-x86_64-3.10/atari_py/ale_interface/src/emucore\n",
            "  \u001b[31m   \u001b[0m copying atari_py/ale_interface/src/emucore/PropsSet.hxx -> build/lib.linux-x86_64-3.10/atari_py/ale_interface/src/emucore\n",
            "  \u001b[31m   \u001b[0m copying atari_py/ale_interface/src/emucore/Random.cxx -> build/lib.linux-x86_64-3.10/atari_py/ale_interface/src/emucore\n",
            "  \u001b[31m   \u001b[0m copying atari_py/ale_interface/src/emucore/Random.hxx -> build/lib.linux-x86_64-3.10/atari_py/ale_interface/src/emucore\n",
            "  \u001b[31m   \u001b[0m copying atari_py/ale_interface/src/emucore/Serializer.cxx -> build/lib.linux-x86_64-3.10/atari_py/ale_interface/src/emucore\n",
            "  \u001b[31m   \u001b[0m copying atari_py/ale_interface/src/emucore/Serializer.hxx -> build/lib.linux-x86_64-3.10/atari_py/ale_interface/src/emucore\n",
            "  \u001b[31m   \u001b[0m copying atari_py/ale_interface/src/emucore/Settings.cxx -> build/lib.linux-x86_64-3.10/atari_py/ale_interface/src/emucore\n",
            "  \u001b[31m   \u001b[0m copying atari_py/ale_interface/src/emucore/Settings.hxx -> build/lib.linux-x86_64-3.10/atari_py/ale_interface/src/emucore\n",
            "  \u001b[31m   \u001b[0m copying atari_py/ale_interface/src/emucore/Sound.hxx -> build/lib.linux-x86_64-3.10/atari_py/ale_interface/src/emucore\n",
            "  \u001b[31m   \u001b[0m copying atari_py/ale_interface/src/emucore/SpeakJet.cxx -> build/lib.linux-x86_64-3.10/atari_py/ale_interface/src/emucore\n",
            "  \u001b[31m   \u001b[0m copying atari_py/ale_interface/src/emucore/SpeakJet.hxx -> build/lib.linux-x86_64-3.10/atari_py/ale_interface/src/emucore\n",
            "  \u001b[31m   \u001b[0m copying atari_py/ale_interface/src/emucore/Switches.cxx -> build/lib.linux-x86_64-3.10/atari_py/ale_interface/src/emucore\n",
            "  \u001b[31m   \u001b[0m copying atari_py/ale_interface/src/emucore/Switches.hxx -> build/lib.linux-x86_64-3.10/atari_py/ale_interface/src/emucore\n",
            "  \u001b[31m   \u001b[0m copying atari_py/ale_interface/src/emucore/TIA.cxx -> build/lib.linux-x86_64-3.10/atari_py/ale_interface/src/emucore\n",
            "  \u001b[31m   \u001b[0m copying atari_py/ale_interface/src/emucore/TIA.hxx -> build/lib.linux-x86_64-3.10/atari_py/ale_interface/src/emucore\n",
            "  \u001b[31m   \u001b[0m copying atari_py/ale_interface/src/emucore/TIASnd.cxx -> build/lib.linux-x86_64-3.10/atari_py/ale_interface/src/emucore\n",
            "  \u001b[31m   \u001b[0m copying atari_py/ale_interface/src/emucore/TIASnd.hxx -> build/lib.linux-x86_64-3.10/atari_py/ale_interface/src/emucore\n",
            "  \u001b[31m   \u001b[0m creating build/lib.linux-x86_64-3.10/atari_py/ale_interface/src/emucore/m6502\n",
            "  \u001b[31m   \u001b[0m copying atari_py/ale_interface/src/emucore/m6502/Copyright.txt -> build/lib.linux-x86_64-3.10/atari_py/ale_interface/src/emucore/m6502\n",
            "  \u001b[31m   \u001b[0m copying atari_py/ale_interface/src/emucore/m6502/License.txt -> build/lib.linux-x86_64-3.10/atari_py/ale_interface/src/emucore/m6502\n",
            "  \u001b[31m   \u001b[0m copying atari_py/ale_interface/src/emucore/m6502/module.mk -> build/lib.linux-x86_64-3.10/atari_py/ale_interface/src/emucore/m6502\n",
            "  \u001b[31m   \u001b[0m creating build/lib.linux-x86_64-3.10/atari_py/ale_interface/src/emucore/m6502/src\n",
            "  \u001b[31m   \u001b[0m copying atari_py/ale_interface/src/emucore/m6502/src/Device.cxx -> build/lib.linux-x86_64-3.10/atari_py/ale_interface/src/emucore/m6502/src\n",
            "  \u001b[31m   \u001b[0m copying atari_py/ale_interface/src/emucore/m6502/src/Device.hxx -> build/lib.linux-x86_64-3.10/atari_py/ale_interface/src/emucore/m6502/src\n",
            "  \u001b[31m   \u001b[0m copying atari_py/ale_interface/src/emucore/m6502/src/M6502.cxx -> build/lib.linux-x86_64-3.10/atari_py/ale_interface/src/emucore/m6502/src\n",
            "  \u001b[31m   \u001b[0m copying atari_py/ale_interface/src/emucore/m6502/src/M6502.hxx -> build/lib.linux-x86_64-3.10/atari_py/ale_interface/src/emucore/m6502/src\n",
            "  \u001b[31m   \u001b[0m copying atari_py/ale_interface/src/emucore/m6502/src/M6502.m4 -> build/lib.linux-x86_64-3.10/atari_py/ale_interface/src/emucore/m6502/src\n",
            "  \u001b[31m   \u001b[0m copying atari_py/ale_interface/src/emucore/m6502/src/M6502Hi.cxx -> build/lib.linux-x86_64-3.10/atari_py/ale_interface/src/emucore/m6502/src\n",
            "  \u001b[31m   \u001b[0m copying atari_py/ale_interface/src/emucore/m6502/src/M6502Hi.hxx -> build/lib.linux-x86_64-3.10/atari_py/ale_interface/src/emucore/m6502/src\n",
            "  \u001b[31m   \u001b[0m copying atari_py/ale_interface/src/emucore/m6502/src/M6502Hi.ins -> build/lib.linux-x86_64-3.10/atari_py/ale_interface/src/emucore/m6502/src\n",
            "  \u001b[31m   \u001b[0m copying atari_py/ale_interface/src/emucore/m6502/src/M6502Hi.m4 -> build/lib.linux-x86_64-3.10/atari_py/ale_interface/src/emucore/m6502/src\n",
            "  \u001b[31m   \u001b[0m copying atari_py/ale_interface/src/emucore/m6502/src/M6502Low.cxx -> build/lib.linux-x86_64-3.10/atari_py/ale_interface/src/emucore/m6502/src\n",
            "  \u001b[31m   \u001b[0m copying atari_py/ale_interface/src/emucore/m6502/src/M6502Low.hxx -> build/lib.linux-x86_64-3.10/atari_py/ale_interface/src/emucore/m6502/src\n",
            "  \u001b[31m   \u001b[0m copying atari_py/ale_interface/src/emucore/m6502/src/M6502Low.ins -> build/lib.linux-x86_64-3.10/atari_py/ale_interface/src/emucore/m6502/src\n",
            "  \u001b[31m   \u001b[0m copying atari_py/ale_interface/src/emucore/m6502/src/M6502Low.m4 -> build/lib.linux-x86_64-3.10/atari_py/ale_interface/src/emucore/m6502/src\n",
            "  \u001b[31m   \u001b[0m copying atari_py/ale_interface/src/emucore/m6502/src/NullDev.cxx -> build/lib.linux-x86_64-3.10/atari_py/ale_interface/src/emucore/m6502/src\n",
            "  \u001b[31m   \u001b[0m copying atari_py/ale_interface/src/emucore/m6502/src/NullDev.hxx -> build/lib.linux-x86_64-3.10/atari_py/ale_interface/src/emucore/m6502/src\n",
            "  \u001b[31m   \u001b[0m copying atari_py/ale_interface/src/emucore/m6502/src/System.cxx -> build/lib.linux-x86_64-3.10/atari_py/ale_interface/src/emucore/m6502/src\n",
            "  \u001b[31m   \u001b[0m copying atari_py/ale_interface/src/emucore/m6502/src/System.hxx -> build/lib.linux-x86_64-3.10/atari_py/ale_interface/src/emucore/m6502/src\n",
            "  \u001b[31m   \u001b[0m creating build/lib.linux-x86_64-3.10/atari_py/ale_interface/src/emucore/m6502/src/bspf\n",
            "  \u001b[31m   \u001b[0m copying atari_py/ale_interface/src/emucore/m6502/src/bspf/Copyright.txt -> build/lib.linux-x86_64-3.10/atari_py/ale_interface/src/emucore/m6502/src/bspf\n",
            "  \u001b[31m   \u001b[0m copying atari_py/ale_interface/src/emucore/m6502/src/bspf/License.txt -> build/lib.linux-x86_64-3.10/atari_py/ale_interface/src/emucore/m6502/src/bspf\n",
            "  \u001b[31m   \u001b[0m creating build/lib.linux-x86_64-3.10/atari_py/ale_interface/src/emucore/m6502/src/bspf/src\n",
            "  \u001b[31m   \u001b[0m copying atari_py/ale_interface/src/emucore/m6502/src/bspf/src/bspf.hxx -> build/lib.linux-x86_64-3.10/atari_py/ale_interface/src/emucore/m6502/src/bspf/src\n",
            "  \u001b[31m   \u001b[0m copying atari_py/ale_interface/src/emucore/module.mk -> build/lib.linux-x86_64-3.10/atari_py/ale_interface/src/emucore\n",
            "  \u001b[31m   \u001b[0m creating build/lib.linux-x86_64-3.10/atari_py/ale_interface/src/emucore/rsynth\n",
            "  \u001b[31m   \u001b[0m copying atari_py/ale_interface/src/emucore/rsynth/COPYING -> build/lib.linux-x86_64-3.10/atari_py/ale_interface/src/emucore/rsynth\n",
            "  \u001b[31m   \u001b[0m copying atari_py/ale_interface/src/emucore/rsynth/Elements.def -> build/lib.linux-x86_64-3.10/atari_py/ale_interface/src/emucore/rsynth\n",
            "  \u001b[31m   \u001b[0m copying atari_py/ale_interface/src/emucore/rsynth/PORTING -> build/lib.linux-x86_64-3.10/atari_py/ale_interface/src/emucore/rsynth\n",
            "  \u001b[31m   \u001b[0m copying atari_py/ale_interface/src/emucore/rsynth/config.h -> build/lib.linux-x86_64-3.10/atari_py/ale_interface/src/emucore/rsynth\n",
            "  \u001b[31m   \u001b[0m copying atari_py/ale_interface/src/emucore/rsynth/darray.c -> build/lib.linux-x86_64-3.10/atari_py/ale_interface/src/emucore/rsynth\n",
            "  \u001b[31m   \u001b[0m copying atari_py/ale_interface/src/emucore/rsynth/darray.h -> build/lib.linux-x86_64-3.10/atari_py/ale_interface/src/emucore/rsynth\n",
            "  \u001b[31m   \u001b[0m copying atari_py/ale_interface/src/emucore/rsynth/elements.c -> build/lib.linux-x86_64-3.10/atari_py/ale_interface/src/emucore/rsynth\n",
            "  \u001b[31m   \u001b[0m copying atari_py/ale_interface/src/emucore/rsynth/holmes.c -> build/lib.linux-x86_64-3.10/atari_py/ale_interface/src/emucore/rsynth\n",
            "  \u001b[31m   \u001b[0m copying atari_py/ale_interface/src/emucore/rsynth/kmap -> build/lib.linux-x86_64-3.10/atari_py/ale_interface/src/emucore/rsynth\n",
            "  \u001b[31m   \u001b[0m copying atari_py/ale_interface/src/emucore/rsynth/module.mk -> build/lib.linux-x86_64-3.10/atari_py/ale_interface/src/emucore/rsynth\n",
            "  \u001b[31m   \u001b[0m copying atari_py/ale_interface/src/emucore/rsynth/opsynth.c -> build/lib.linux-x86_64-3.10/atari_py/ale_interface/src/emucore/rsynth\n",
            "  \u001b[31m   \u001b[0m copying atari_py/ale_interface/src/emucore/rsynth/phfeat.h -> build/lib.linux-x86_64-3.10/atari_py/ale_interface/src/emucore/rsynth\n",
            "  \u001b[31m   \u001b[0m copying atari_py/ale_interface/src/emucore/rsynth/phones.c -> build/lib.linux-x86_64-3.10/atari_py/ale_interface/src/emucore/rsynth\n",
            "  \u001b[31m   \u001b[0m copying atari_py/ale_interface/src/emucore/rsynth/phones.def -> build/lib.linux-x86_64-3.10/atari_py/ale_interface/src/emucore/rsynth\n",
            "  \u001b[31m   \u001b[0m copying atari_py/ale_interface/src/emucore/rsynth/phones.h -> build/lib.linux-x86_64-3.10/atari_py/ale_interface/src/emucore/rsynth\n",
            "  \u001b[31m   \u001b[0m copying atari_py/ale_interface/src/emucore/rsynth/phtoelm.c -> build/lib.linux-x86_64-3.10/atari_py/ale_interface/src/emucore/rsynth\n",
            "  \u001b[31m   \u001b[0m copying atari_py/ale_interface/src/emucore/rsynth/phtoelm.def -> build/lib.linux-x86_64-3.10/atari_py/ale_interface/src/emucore/rsynth\n",
            "  \u001b[31m   \u001b[0m copying atari_py/ale_interface/src/emucore/rsynth/phtoelm.h -> build/lib.linux-x86_64-3.10/atari_py/ale_interface/src/emucore/rsynth\n",
            "  \u001b[31m   \u001b[0m copying atari_py/ale_interface/src/emucore/rsynth/rsynth.h -> build/lib.linux-x86_64-3.10/atari_py/ale_interface/src/emucore/rsynth\n",
            "  \u001b[31m   \u001b[0m copying atari_py/ale_interface/src/emucore/rsynth/trie.c -> build/lib.linux-x86_64-3.10/atari_py/ale_interface/src/emucore/rsynth\n",
            "  \u001b[31m   \u001b[0m copying atari_py/ale_interface/src/emucore/rsynth/trie.h -> build/lib.linux-x86_64-3.10/atari_py/ale_interface/src/emucore/rsynth\n",
            "  \u001b[31m   \u001b[0m copying atari_py/ale_interface/src/emucore/rsynth/useconfig.h -> build/lib.linux-x86_64-3.10/atari_py/ale_interface/src/emucore/rsynth\n",
            "  \u001b[31m   \u001b[0m copying atari_py/ale_interface/src/emucore/stella.pro -> build/lib.linux-x86_64-3.10/atari_py/ale_interface/src/emucore\n",
            "  \u001b[31m   \u001b[0m creating build/lib.linux-x86_64-3.10/atari_py/ale_interface/src/environment\n",
            "  \u001b[31m   \u001b[0m copying atari_py/ale_interface/src/environment/ale_ram.hpp -> build/lib.linux-x86_64-3.10/atari_py/ale_interface/src/environment\n",
            "  \u001b[31m   \u001b[0m copying atari_py/ale_interface/src/environment/ale_screen.hpp -> build/lib.linux-x86_64-3.10/atari_py/ale_interface/src/environment\n",
            "  \u001b[31m   \u001b[0m copying atari_py/ale_interface/src/environment/ale_state.cpp -> build/lib.linux-x86_64-3.10/atari_py/ale_interface/src/environment\n",
            "  \u001b[31m   \u001b[0m copying atari_py/ale_interface/src/environment/ale_state.hpp -> build/lib.linux-x86_64-3.10/atari_py/ale_interface/src/environment\n",
            "  \u001b[31m   \u001b[0m copying atari_py/ale_interface/src/environment/module.mk -> build/lib.linux-x86_64-3.10/atari_py/ale_interface/src/environment\n",
            "  \u001b[31m   \u001b[0m copying atari_py/ale_interface/src/environment/phosphor_blend.cpp -> build/lib.linux-x86_64-3.10/atari_py/ale_interface/src/environment\n",
            "  \u001b[31m   \u001b[0m copying atari_py/ale_interface/src/environment/phosphor_blend.hpp -> build/lib.linux-x86_64-3.10/atari_py/ale_interface/src/environment\n",
            "  \u001b[31m   \u001b[0m copying atari_py/ale_interface/src/environment/stella_environment.cpp -> build/lib.linux-x86_64-3.10/atari_py/ale_interface/src/environment\n",
            "  \u001b[31m   \u001b[0m copying atari_py/ale_interface/src/environment/stella_environment.hpp -> build/lib.linux-x86_64-3.10/atari_py/ale_interface/src/environment\n",
            "  \u001b[31m   \u001b[0m copying atari_py/ale_interface/src/environment/stella_environment_wrapper.cpp -> build/lib.linux-x86_64-3.10/atari_py/ale_interface/src/environment\n",
            "  \u001b[31m   \u001b[0m copying atari_py/ale_interface/src/environment/stella_environment_wrapper.hpp -> build/lib.linux-x86_64-3.10/atari_py/ale_interface/src/environment\n",
            "  \u001b[31m   \u001b[0m creating build/lib.linux-x86_64-3.10/atari_py/ale_interface/src/external\n",
            "  \u001b[31m   \u001b[0m creating build/lib.linux-x86_64-3.10/atari_py/ale_interface/src/external/TinyMT\n",
            "  \u001b[31m   \u001b[0m copying atari_py/ale_interface/src/external/TinyMT/LICENSE.txt -> build/lib.linux-x86_64-3.10/atari_py/ale_interface/src/external/TinyMT\n",
            "  \u001b[31m   \u001b[0m copying atari_py/ale_interface/src/external/TinyMT/tinymt32.c -> build/lib.linux-x86_64-3.10/atari_py/ale_interface/src/external/TinyMT\n",
            "  \u001b[31m   \u001b[0m copying atari_py/ale_interface/src/external/TinyMT/tinymt32.h -> build/lib.linux-x86_64-3.10/atari_py/ale_interface/src/external/TinyMT\n",
            "  \u001b[31m   \u001b[0m copying atari_py/ale_interface/src/external/module.mk -> build/lib.linux-x86_64-3.10/atari_py/ale_interface/src/external\n",
            "  \u001b[31m   \u001b[0m creating build/lib.linux-x86_64-3.10/atari_py/ale_interface/src/games\n",
            "  \u001b[31m   \u001b[0m copying atari_py/ale_interface/src/games/RomSettings.cpp -> build/lib.linux-x86_64-3.10/atari_py/ale_interface/src/games\n",
            "  \u001b[31m   \u001b[0m copying atari_py/ale_interface/src/games/RomSettings.hpp -> build/lib.linux-x86_64-3.10/atari_py/ale_interface/src/games\n",
            "  \u001b[31m   \u001b[0m copying atari_py/ale_interface/src/games/RomUtils.cpp -> build/lib.linux-x86_64-3.10/atari_py/ale_interface/src/games\n",
            "  \u001b[31m   \u001b[0m copying atari_py/ale_interface/src/games/RomUtils.hpp -> build/lib.linux-x86_64-3.10/atari_py/ale_interface/src/games\n",
            "  \u001b[31m   \u001b[0m copying atari_py/ale_interface/src/games/Roms.cpp -> build/lib.linux-x86_64-3.10/atari_py/ale_interface/src/games\n",
            "  \u001b[31m   \u001b[0m copying atari_py/ale_interface/src/games/Roms.hpp -> build/lib.linux-x86_64-3.10/atari_py/ale_interface/src/games\n",
            "  \u001b[31m   \u001b[0m copying atari_py/ale_interface/src/games/module.mk -> build/lib.linux-x86_64-3.10/atari_py/ale_interface/src/games\n",
            "  \u001b[31m   \u001b[0m creating build/lib.linux-x86_64-3.10/atari_py/ale_interface/src/games/supported\n",
            "  \u001b[31m   \u001b[0m copying atari_py/ale_interface/src/games/supported/Adventure.cpp -> build/lib.linux-x86_64-3.10/atari_py/ale_interface/src/games/supported\n",
            "  \u001b[31m   \u001b[0m copying atari_py/ale_interface/src/games/supported/Adventure.hpp -> build/lib.linux-x86_64-3.10/atari_py/ale_interface/src/games/supported\n",
            "  \u001b[31m   \u001b[0m copying atari_py/ale_interface/src/games/supported/AirRaid.cpp -> build/lib.linux-x86_64-3.10/atari_py/ale_interface/src/games/supported\n",
            "  \u001b[31m   \u001b[0m copying atari_py/ale_interface/src/games/supported/AirRaid.hpp -> build/lib.linux-x86_64-3.10/atari_py/ale_interface/src/games/supported\n",
            "  \u001b[31m   \u001b[0m copying atari_py/ale_interface/src/games/supported/Alien.cpp -> build/lib.linux-x86_64-3.10/atari_py/ale_interface/src/games/supported\n",
            "  \u001b[31m   \u001b[0m copying atari_py/ale_interface/src/games/supported/Alien.hpp -> build/lib.linux-x86_64-3.10/atari_py/ale_interface/src/games/supported\n",
            "  \u001b[31m   \u001b[0m copying atari_py/ale_interface/src/games/supported/Amidar.cpp -> build/lib.linux-x86_64-3.10/atari_py/ale_interface/src/games/supported\n",
            "  \u001b[31m   \u001b[0m copying atari_py/ale_interface/src/games/supported/Amidar.hpp -> build/lib.linux-x86_64-3.10/atari_py/ale_interface/src/games/supported\n",
            "  \u001b[31m   \u001b[0m copying atari_py/ale_interface/src/games/supported/Assault.cpp -> build/lib.linux-x86_64-3.10/atari_py/ale_interface/src/games/supported\n",
            "  \u001b[31m   \u001b[0m copying atari_py/ale_interface/src/games/supported/Assault.hpp -> build/lib.linux-x86_64-3.10/atari_py/ale_interface/src/games/supported\n",
            "  \u001b[31m   \u001b[0m copying atari_py/ale_interface/src/games/supported/Asterix.cpp -> build/lib.linux-x86_64-3.10/atari_py/ale_interface/src/games/supported\n",
            "  \u001b[31m   \u001b[0m copying atari_py/ale_interface/src/games/supported/Asterix.hpp -> build/lib.linux-x86_64-3.10/atari_py/ale_interface/src/games/supported\n",
            "  \u001b[31m   \u001b[0m copying atari_py/ale_interface/src/games/supported/Asteroids.cpp -> build/lib.linux-x86_64-3.10/atari_py/ale_interface/src/games/supported\n",
            "  \u001b[31m   \u001b[0m copying atari_py/ale_interface/src/games/supported/Asteroids.hpp -> build/lib.linux-x86_64-3.10/atari_py/ale_interface/src/games/supported\n",
            "  \u001b[31m   \u001b[0m copying atari_py/ale_interface/src/games/supported/Atlantis.cpp -> build/lib.linux-x86_64-3.10/atari_py/ale_interface/src/games/supported\n",
            "  \u001b[31m   \u001b[0m copying atari_py/ale_interface/src/games/supported/Atlantis.hpp -> build/lib.linux-x86_64-3.10/atari_py/ale_interface/src/games/supported\n",
            "  \u001b[31m   \u001b[0m copying atari_py/ale_interface/src/games/supported/BankHeist.cpp -> build/lib.linux-x86_64-3.10/atari_py/ale_interface/src/games/supported\n",
            "  \u001b[31m   \u001b[0m copying atari_py/ale_interface/src/games/supported/BankHeist.hpp -> build/lib.linux-x86_64-3.10/atari_py/ale_interface/src/games/supported\n",
            "  \u001b[31m   \u001b[0m copying atari_py/ale_interface/src/games/supported/BattleZone.cpp -> build/lib.linux-x86_64-3.10/atari_py/ale_interface/src/games/supported\n",
            "  \u001b[31m   \u001b[0m copying atari_py/ale_interface/src/games/supported/BattleZone.hpp -> build/lib.linux-x86_64-3.10/atari_py/ale_interface/src/games/supported\n",
            "  \u001b[31m   \u001b[0m copying atari_py/ale_interface/src/games/supported/BeamRider.cpp -> build/lib.linux-x86_64-3.10/atari_py/ale_interface/src/games/supported\n",
            "  \u001b[31m   \u001b[0m copying atari_py/ale_interface/src/games/supported/BeamRider.hpp -> build/lib.linux-x86_64-3.10/atari_py/ale_interface/src/games/supported\n",
            "  \u001b[31m   \u001b[0m copying atari_py/ale_interface/src/games/supported/Berzerk.cpp -> build/lib.linux-x86_64-3.10/atari_py/ale_interface/src/games/supported\n",
            "  \u001b[31m   \u001b[0m copying atari_py/ale_interface/src/games/supported/Berzerk.hpp -> build/lib.linux-x86_64-3.10/atari_py/ale_interface/src/games/supported\n",
            "  \u001b[31m   \u001b[0m copying atari_py/ale_interface/src/games/supported/Bowling.cpp -> build/lib.linux-x86_64-3.10/atari_py/ale_interface/src/games/supported\n",
            "  \u001b[31m   \u001b[0m copying atari_py/ale_interface/src/games/supported/Bowling.hpp -> build/lib.linux-x86_64-3.10/atari_py/ale_interface/src/games/supported\n",
            "  \u001b[31m   \u001b[0m copying atari_py/ale_interface/src/games/supported/Boxing.cpp -> build/lib.linux-x86_64-3.10/atari_py/ale_interface/src/games/supported\n",
            "  \u001b[31m   \u001b[0m copying atari_py/ale_interface/src/games/supported/Boxing.hpp -> build/lib.linux-x86_64-3.10/atari_py/ale_interface/src/games/supported\n",
            "  \u001b[31m   \u001b[0m copying atari_py/ale_interface/src/games/supported/Breakout.cpp -> build/lib.linux-x86_64-3.10/atari_py/ale_interface/src/games/supported\n",
            "  \u001b[31m   \u001b[0m copying atari_py/ale_interface/src/games/supported/Breakout.hpp -> build/lib.linux-x86_64-3.10/atari_py/ale_interface/src/games/supported\n",
            "  \u001b[31m   \u001b[0m copying atari_py/ale_interface/src/games/supported/Carnival.cpp -> build/lib.linux-x86_64-3.10/atari_py/ale_interface/src/games/supported\n",
            "  \u001b[31m   \u001b[0m copying atari_py/ale_interface/src/games/supported/Carnival.hpp -> build/lib.linux-x86_64-3.10/atari_py/ale_interface/src/games/supported\n",
            "  \u001b[31m   \u001b[0m copying atari_py/ale_interface/src/games/supported/Centipede.cpp -> build/lib.linux-x86_64-3.10/atari_py/ale_interface/src/games/supported\n",
            "  \u001b[31m   \u001b[0m copying atari_py/ale_interface/src/games/supported/Centipede.hpp -> build/lib.linux-x86_64-3.10/atari_py/ale_interface/src/games/supported\n",
            "  \u001b[31m   \u001b[0m copying atari_py/ale_interface/src/games/supported/ChopperCommand.cpp -> build/lib.linux-x86_64-3.10/atari_py/ale_interface/src/games/supported\n",
            "  \u001b[31m   \u001b[0m copying atari_py/ale_interface/src/games/supported/ChopperCommand.hpp -> build/lib.linux-x86_64-3.10/atari_py/ale_interface/src/games/supported\n",
            "  \u001b[31m   \u001b[0m copying atari_py/ale_interface/src/games/supported/CrazyClimber.cpp -> build/lib.linux-x86_64-3.10/atari_py/ale_interface/src/games/supported\n",
            "  \u001b[31m   \u001b[0m copying atari_py/ale_interface/src/games/supported/CrazyClimber.hpp -> build/lib.linux-x86_64-3.10/atari_py/ale_interface/src/games/supported\n",
            "  \u001b[31m   \u001b[0m copying atari_py/ale_interface/src/games/supported/Defender.cpp -> build/lib.linux-x86_64-3.10/atari_py/ale_interface/src/games/supported\n",
            "  \u001b[31m   \u001b[0m copying atari_py/ale_interface/src/games/supported/Defender.hpp -> build/lib.linux-x86_64-3.10/atari_py/ale_interface/src/games/supported\n",
            "  \u001b[31m   \u001b[0m copying atari_py/ale_interface/src/games/supported/DemonAttack.cpp -> build/lib.linux-x86_64-3.10/atari_py/ale_interface/src/games/supported\n",
            "  \u001b[31m   \u001b[0m copying atari_py/ale_interface/src/games/supported/DemonAttack.hpp -> build/lib.linux-x86_64-3.10/atari_py/ale_interface/src/games/supported\n",
            "  \u001b[31m   \u001b[0m copying atari_py/ale_interface/src/games/supported/DonkeyKong.cpp -> build/lib.linux-x86_64-3.10/atari_py/ale_interface/src/games/supported\n",
            "  \u001b[31m   \u001b[0m copying atari_py/ale_interface/src/games/supported/DonkeyKong.hpp -> build/lib.linux-x86_64-3.10/atari_py/ale_interface/src/games/supported\n",
            "  \u001b[31m   \u001b[0m copying atari_py/ale_interface/src/games/supported/DoubleDunk.cpp -> build/lib.linux-x86_64-3.10/atari_py/ale_interface/src/games/supported\n",
            "  \u001b[31m   \u001b[0m copying atari_py/ale_interface/src/games/supported/DoubleDunk.hpp -> build/lib.linux-x86_64-3.10/atari_py/ale_interface/src/games/supported\n",
            "  \u001b[31m   \u001b[0m copying atari_py/ale_interface/src/games/supported/ElevatorAction.cpp -> build/lib.linux-x86_64-3.10/atari_py/ale_interface/src/games/supported\n",
            "  \u001b[31m   \u001b[0m copying atari_py/ale_interface/src/games/supported/ElevatorAction.hpp -> build/lib.linux-x86_64-3.10/atari_py/ale_interface/src/games/supported\n",
            "  \u001b[31m   \u001b[0m copying atari_py/ale_interface/src/games/supported/Enduro.cpp -> build/lib.linux-x86_64-3.10/atari_py/ale_interface/src/games/supported\n",
            "  \u001b[31m   \u001b[0m copying atari_py/ale_interface/src/games/supported/Enduro.hpp -> build/lib.linux-x86_64-3.10/atari_py/ale_interface/src/games/supported\n",
            "  \u001b[31m   \u001b[0m copying atari_py/ale_interface/src/games/supported/FishingDerby.cpp -> build/lib.linux-x86_64-3.10/atari_py/ale_interface/src/games/supported\n",
            "  \u001b[31m   \u001b[0m copying atari_py/ale_interface/src/games/supported/FishingDerby.hpp -> build/lib.linux-x86_64-3.10/atari_py/ale_interface/src/games/supported\n",
            "  \u001b[31m   \u001b[0m copying atari_py/ale_interface/src/games/supported/Freeway.cpp -> build/lib.linux-x86_64-3.10/atari_py/ale_interface/src/games/supported\n",
            "  \u001b[31m   \u001b[0m copying atari_py/ale_interface/src/games/supported/Freeway.hpp -> build/lib.linux-x86_64-3.10/atari_py/ale_interface/src/games/supported\n",
            "  \u001b[31m   \u001b[0m copying atari_py/ale_interface/src/games/supported/Frogger.cpp -> build/lib.linux-x86_64-3.10/atari_py/ale_interface/src/games/supported\n",
            "  \u001b[31m   \u001b[0m copying atari_py/ale_interface/src/games/supported/Frogger.hpp -> build/lib.linux-x86_64-3.10/atari_py/ale_interface/src/games/supported\n",
            "  \u001b[31m   \u001b[0m copying atari_py/ale_interface/src/games/supported/Frostbite.cpp -> build/lib.linux-x86_64-3.10/atari_py/ale_interface/src/games/supported\n",
            "  \u001b[31m   \u001b[0m copying atari_py/ale_interface/src/games/supported/Frostbite.hpp -> build/lib.linux-x86_64-3.10/atari_py/ale_interface/src/games/supported\n",
            "  \u001b[31m   \u001b[0m copying atari_py/ale_interface/src/games/supported/Galaxian.cpp -> build/lib.linux-x86_64-3.10/atari_py/ale_interface/src/games/supported\n",
            "  \u001b[31m   \u001b[0m copying atari_py/ale_interface/src/games/supported/Galaxian.hpp -> build/lib.linux-x86_64-3.10/atari_py/ale_interface/src/games/supported\n",
            "  \u001b[31m   \u001b[0m copying atari_py/ale_interface/src/games/supported/Gopher.cpp -> build/lib.linux-x86_64-3.10/atari_py/ale_interface/src/games/supported\n",
            "  \u001b[31m   \u001b[0m copying atari_py/ale_interface/src/games/supported/Gopher.hpp -> build/lib.linux-x86_64-3.10/atari_py/ale_interface/src/games/supported\n",
            "  \u001b[31m   \u001b[0m copying atari_py/ale_interface/src/games/supported/Gravitar.cpp -> build/lib.linux-x86_64-3.10/atari_py/ale_interface/src/games/supported\n",
            "  \u001b[31m   \u001b[0m copying atari_py/ale_interface/src/games/supported/Gravitar.hpp -> build/lib.linux-x86_64-3.10/atari_py/ale_interface/src/games/supported\n",
            "  \u001b[31m   \u001b[0m copying atari_py/ale_interface/src/games/supported/Hero.cpp -> build/lib.linux-x86_64-3.10/atari_py/ale_interface/src/games/supported\n",
            "  \u001b[31m   \u001b[0m copying atari_py/ale_interface/src/games/supported/Hero.hpp -> build/lib.linux-x86_64-3.10/atari_py/ale_interface/src/games/supported\n",
            "  \u001b[31m   \u001b[0m copying atari_py/ale_interface/src/games/supported/IceHockey.cpp -> build/lib.linux-x86_64-3.10/atari_py/ale_interface/src/games/supported\n",
            "  \u001b[31m   \u001b[0m copying atari_py/ale_interface/src/games/supported/IceHockey.hpp -> build/lib.linux-x86_64-3.10/atari_py/ale_interface/src/games/supported\n",
            "  \u001b[31m   \u001b[0m copying atari_py/ale_interface/src/games/supported/JamesBond.cpp -> build/lib.linux-x86_64-3.10/atari_py/ale_interface/src/games/supported\n",
            "  \u001b[31m   \u001b[0m copying atari_py/ale_interface/src/games/supported/JamesBond.hpp -> build/lib.linux-x86_64-3.10/atari_py/ale_interface/src/games/supported\n",
            "  \u001b[31m   \u001b[0m copying atari_py/ale_interface/src/games/supported/JourneyEscape.cpp -> build/lib.linux-x86_64-3.10/atari_py/ale_interface/src/games/supported\n",
            "  \u001b[31m   \u001b[0m copying atari_py/ale_interface/src/games/supported/JourneyEscape.hpp -> build/lib.linux-x86_64-3.10/atari_py/ale_interface/src/games/supported\n",
            "  \u001b[31m   \u001b[0m copying atari_py/ale_interface/src/games/supported/Kaboom.cpp -> build/lib.linux-x86_64-3.10/atari_py/ale_interface/src/games/supported\n",
            "  \u001b[31m   \u001b[0m copying atari_py/ale_interface/src/games/supported/Kaboom.hpp -> build/lib.linux-x86_64-3.10/atari_py/ale_interface/src/games/supported\n",
            "  \u001b[31m   \u001b[0m copying atari_py/ale_interface/src/games/supported/Kangaroo.cpp -> build/lib.linux-x86_64-3.10/atari_py/ale_interface/src/games/supported\n",
            "  \u001b[31m   \u001b[0m copying atari_py/ale_interface/src/games/supported/Kangaroo.hpp -> build/lib.linux-x86_64-3.10/atari_py/ale_interface/src/games/supported\n",
            "  \u001b[31m   \u001b[0m copying atari_py/ale_interface/src/games/supported/KeystoneKapers.cpp -> build/lib.linux-x86_64-3.10/atari_py/ale_interface/src/games/supported\n",
            "  \u001b[31m   \u001b[0m copying atari_py/ale_interface/src/games/supported/KeystoneKapers.hpp -> build/lib.linux-x86_64-3.10/atari_py/ale_interface/src/games/supported\n",
            "  \u001b[31m   \u001b[0m copying atari_py/ale_interface/src/games/supported/Kingkong.cpp -> build/lib.linux-x86_64-3.10/atari_py/ale_interface/src/games/supported\n",
            "  \u001b[31m   \u001b[0m copying atari_py/ale_interface/src/games/supported/Kingkong.hpp -> build/lib.linux-x86_64-3.10/atari_py/ale_interface/src/games/supported\n",
            "  \u001b[31m   \u001b[0m copying atari_py/ale_interface/src/games/supported/Koolaid.cpp -> build/lib.linux-x86_64-3.10/atari_py/ale_interface/src/games/supported\n",
            "  \u001b[31m   \u001b[0m copying atari_py/ale_interface/src/games/supported/Koolaid.hpp -> build/lib.linux-x86_64-3.10/atari_py/ale_interface/src/games/supported\n",
            "  \u001b[31m   \u001b[0m copying atari_py/ale_interface/src/games/supported/Krull.cpp -> build/lib.linux-x86_64-3.10/atari_py/ale_interface/src/games/supported\n",
            "  \u001b[31m   \u001b[0m copying atari_py/ale_interface/src/games/supported/Krull.hpp -> build/lib.linux-x86_64-3.10/atari_py/ale_interface/src/games/supported\n",
            "  \u001b[31m   \u001b[0m copying atari_py/ale_interface/src/games/supported/KungFuMaster.cpp -> build/lib.linux-x86_64-3.10/atari_py/ale_interface/src/games/supported\n",
            "  \u001b[31m   \u001b[0m copying atari_py/ale_interface/src/games/supported/KungFuMaster.hpp -> build/lib.linux-x86_64-3.10/atari_py/ale_interface/src/games/supported\n",
            "  \u001b[31m   \u001b[0m copying atari_py/ale_interface/src/games/supported/LaserGates.cpp -> build/lib.linux-x86_64-3.10/atari_py/ale_interface/src/games/supported\n",
            "  \u001b[31m   \u001b[0m copying atari_py/ale_interface/src/games/supported/LaserGates.hpp -> build/lib.linux-x86_64-3.10/atari_py/ale_interface/src/games/supported\n",
            "  \u001b[31m   \u001b[0m copying atari_py/ale_interface/src/games/supported/LostLuggage.cpp -> build/lib.linux-x86_64-3.10/atari_py/ale_interface/src/games/supported\n",
            "  \u001b[31m   \u001b[0m copying atari_py/ale_interface/src/games/supported/LostLuggage.hpp -> build/lib.linux-x86_64-3.10/atari_py/ale_interface/src/games/supported\n",
            "  \u001b[31m   \u001b[0m copying atari_py/ale_interface/src/games/supported/MontezumaRevenge.cpp -> build/lib.linux-x86_64-3.10/atari_py/ale_interface/src/games/supported\n",
            "  \u001b[31m   \u001b[0m copying atari_py/ale_interface/src/games/supported/MontezumaRevenge.hpp -> build/lib.linux-x86_64-3.10/atari_py/ale_interface/src/games/supported\n",
            "  \u001b[31m   \u001b[0m copying atari_py/ale_interface/src/games/supported/MrDo.cpp -> build/lib.linux-x86_64-3.10/atari_py/ale_interface/src/games/supported\n",
            "  \u001b[31m   \u001b[0m copying atari_py/ale_interface/src/games/supported/MrDo.hpp -> build/lib.linux-x86_64-3.10/atari_py/ale_interface/src/games/supported\n",
            "  \u001b[31m   \u001b[0m copying atari_py/ale_interface/src/games/supported/MsPacman.cpp -> build/lib.linux-x86_64-3.10/atari_py/ale_interface/src/games/supported\n",
            "  \u001b[31m   \u001b[0m copying atari_py/ale_interface/src/games/supported/MsPacman.hpp -> build/lib.linux-x86_64-3.10/atari_py/ale_interface/src/games/supported\n",
            "  \u001b[31m   \u001b[0m copying atari_py/ale_interface/src/games/supported/NameThisGame.cpp -> build/lib.linux-x86_64-3.10/atari_py/ale_interface/src/games/supported\n",
            "  \u001b[31m   \u001b[0m copying atari_py/ale_interface/src/games/supported/NameThisGame.hpp -> build/lib.linux-x86_64-3.10/atari_py/ale_interface/src/games/supported\n",
            "  \u001b[31m   \u001b[0m copying atari_py/ale_interface/src/games/supported/Phoenix.cpp -> build/lib.linux-x86_64-3.10/atari_py/ale_interface/src/games/supported\n",
            "  \u001b[31m   \u001b[0m copying atari_py/ale_interface/src/games/supported/Phoenix.hpp -> build/lib.linux-x86_64-3.10/atari_py/ale_interface/src/games/supported\n",
            "  \u001b[31m   \u001b[0m copying atari_py/ale_interface/src/games/supported/Pitfall.cpp -> build/lib.linux-x86_64-3.10/atari_py/ale_interface/src/games/supported\n",
            "  \u001b[31m   \u001b[0m copying atari_py/ale_interface/src/games/supported/Pitfall.hpp -> build/lib.linux-x86_64-3.10/atari_py/ale_interface/src/games/supported\n",
            "  \u001b[31m   \u001b[0m copying atari_py/ale_interface/src/games/supported/Pong.cpp -> build/lib.linux-x86_64-3.10/atari_py/ale_interface/src/games/supported\n",
            "  \u001b[31m   \u001b[0m copying atari_py/ale_interface/src/games/supported/Pong.hpp -> build/lib.linux-x86_64-3.10/atari_py/ale_interface/src/games/supported\n",
            "  \u001b[31m   \u001b[0m copying atari_py/ale_interface/src/games/supported/Pooyan.cpp -> build/lib.linux-x86_64-3.10/atari_py/ale_interface/src/games/supported\n",
            "  \u001b[31m   \u001b[0m copying atari_py/ale_interface/src/games/supported/Pooyan.hpp -> build/lib.linux-x86_64-3.10/atari_py/ale_interface/src/games/supported\n",
            "  \u001b[31m   \u001b[0m copying atari_py/ale_interface/src/games/supported/PrivateEye.cpp -> build/lib.linux-x86_64-3.10/atari_py/ale_interface/src/games/supported\n",
            "  \u001b[31m   \u001b[0m copying atari_py/ale_interface/src/games/supported/PrivateEye.hpp -> build/lib.linux-x86_64-3.10/atari_py/ale_interface/src/games/supported\n",
            "  \u001b[31m   \u001b[0m copying atari_py/ale_interface/src/games/supported/QBert.cpp -> build/lib.linux-x86_64-3.10/atari_py/ale_interface/src/games/supported\n",
            "  \u001b[31m   \u001b[0m copying atari_py/ale_interface/src/games/supported/QBert.hpp -> build/lib.linux-x86_64-3.10/atari_py/ale_interface/src/games/supported\n",
            "  \u001b[31m   \u001b[0m copying atari_py/ale_interface/src/games/supported/RiverRaid.cpp -> build/lib.linux-x86_64-3.10/atari_py/ale_interface/src/games/supported\n",
            "  \u001b[31m   \u001b[0m copying atari_py/ale_interface/src/games/supported/RiverRaid.hpp -> build/lib.linux-x86_64-3.10/atari_py/ale_interface/src/games/supported\n",
            "  \u001b[31m   \u001b[0m copying atari_py/ale_interface/src/games/supported/RoadRunner.cpp -> build/lib.linux-x86_64-3.10/atari_py/ale_interface/src/games/supported\n",
            "  \u001b[31m   \u001b[0m copying atari_py/ale_interface/src/games/supported/RoadRunner.hpp -> build/lib.linux-x86_64-3.10/atari_py/ale_interface/src/games/supported\n",
            "  \u001b[31m   \u001b[0m copying atari_py/ale_interface/src/games/supported/RoboTank.cpp -> build/lib.linux-x86_64-3.10/atari_py/ale_interface/src/games/supported\n",
            "  \u001b[31m   \u001b[0m copying atari_py/ale_interface/src/games/supported/RoboTank.hpp -> build/lib.linux-x86_64-3.10/atari_py/ale_interface/src/games/supported\n",
            "  \u001b[31m   \u001b[0m copying atari_py/ale_interface/src/games/supported/Seaquest.cpp -> build/lib.linux-x86_64-3.10/atari_py/ale_interface/src/games/supported\n",
            "  \u001b[31m   \u001b[0m copying atari_py/ale_interface/src/games/supported/Seaquest.hpp -> build/lib.linux-x86_64-3.10/atari_py/ale_interface/src/games/supported\n",
            "  \u001b[31m   \u001b[0m copying atari_py/ale_interface/src/games/supported/SirLancelot.cpp -> build/lib.linux-x86_64-3.10/atari_py/ale_interface/src/games/supported\n",
            "  \u001b[31m   \u001b[0m copying atari_py/ale_interface/src/games/supported/SirLancelot.hpp -> build/lib.linux-x86_64-3.10/atari_py/ale_interface/src/games/supported\n",
            "  \u001b[31m   \u001b[0m copying atari_py/ale_interface/src/games/supported/Skiing.cpp -> build/lib.linux-x86_64-3.10/atari_py/ale_interface/src/games/supported\n",
            "  \u001b[31m   \u001b[0m copying atari_py/ale_interface/src/games/supported/Skiing.hpp -> build/lib.linux-x86_64-3.10/atari_py/ale_interface/src/games/supported\n",
            "  \u001b[31m   \u001b[0m copying atari_py/ale_interface/src/games/supported/Solaris.cpp -> build/lib.linux-x86_64-3.10/atari_py/ale_interface/src/games/supported\n",
            "  \u001b[31m   \u001b[0m copying atari_py/ale_interface/src/games/supported/Solaris.hpp -> build/lib.linux-x86_64-3.10/atari_py/ale_interface/src/games/supported\n",
            "  \u001b[31m   \u001b[0m copying atari_py/ale_interface/src/games/supported/SpaceInvaders.cpp -> build/lib.linux-x86_64-3.10/atari_py/ale_interface/src/games/supported\n",
            "  \u001b[31m   \u001b[0m copying atari_py/ale_interface/src/games/supported/SpaceInvaders.hpp -> build/lib.linux-x86_64-3.10/atari_py/ale_interface/src/games/supported\n",
            "  \u001b[31m   \u001b[0m copying atari_py/ale_interface/src/games/supported/StarGunner.cpp -> build/lib.linux-x86_64-3.10/atari_py/ale_interface/src/games/supported\n",
            "  \u001b[31m   \u001b[0m copying atari_py/ale_interface/src/games/supported/StarGunner.hpp -> build/lib.linux-x86_64-3.10/atari_py/ale_interface/src/games/supported\n",
            "  \u001b[31m   \u001b[0m copying atari_py/ale_interface/src/games/supported/Tennis.cpp -> build/lib.linux-x86_64-3.10/atari_py/ale_interface/src/games/supported\n",
            "  \u001b[31m   \u001b[0m copying atari_py/ale_interface/src/games/supported/Tennis.hpp -> build/lib.linux-x86_64-3.10/atari_py/ale_interface/src/games/supported\n",
            "  \u001b[31m   \u001b[0m copying atari_py/ale_interface/src/games/supported/Tetris.cpp -> build/lib.linux-x86_64-3.10/atari_py/ale_interface/src/games/supported\n",
            "  \u001b[31m   \u001b[0m copying atari_py/ale_interface/src/games/supported/Tetris.hpp -> build/lib.linux-x86_64-3.10/atari_py/ale_interface/src/games/supported\n",
            "  \u001b[31m   \u001b[0m copying atari_py/ale_interface/src/games/supported/TimePilot.cpp -> build/lib.linux-x86_64-3.10/atari_py/ale_interface/src/games/supported\n",
            "  \u001b[31m   \u001b[0m copying atari_py/ale_interface/src/games/supported/TimePilot.hpp -> build/lib.linux-x86_64-3.10/atari_py/ale_interface/src/games/supported\n",
            "  \u001b[31m   \u001b[0m copying atari_py/ale_interface/src/games/supported/Trondead.cpp -> build/lib.linux-x86_64-3.10/atari_py/ale_interface/src/games/supported\n",
            "  \u001b[31m   \u001b[0m copying atari_py/ale_interface/src/games/supported/Trondead.hpp -> build/lib.linux-x86_64-3.10/atari_py/ale_interface/src/games/supported\n",
            "  \u001b[31m   \u001b[0m copying atari_py/ale_interface/src/games/supported/Turmoil.cpp -> build/lib.linux-x86_64-3.10/atari_py/ale_interface/src/games/supported\n",
            "  \u001b[31m   \u001b[0m copying atari_py/ale_interface/src/games/supported/Turmoil.hpp -> build/lib.linux-x86_64-3.10/atari_py/ale_interface/src/games/supported\n",
            "  \u001b[31m   \u001b[0m copying atari_py/ale_interface/src/games/supported/Tutankham.cpp -> build/lib.linux-x86_64-3.10/atari_py/ale_interface/src/games/supported\n",
            "  \u001b[31m   \u001b[0m copying atari_py/ale_interface/src/games/supported/Tutankham.hpp -> build/lib.linux-x86_64-3.10/atari_py/ale_interface/src/games/supported\n",
            "  \u001b[31m   \u001b[0m copying atari_py/ale_interface/src/games/supported/UpNDown.cpp -> build/lib.linux-x86_64-3.10/atari_py/ale_interface/src/games/supported\n",
            "  \u001b[31m   \u001b[0m copying atari_py/ale_interface/src/games/supported/UpNDown.hpp -> build/lib.linux-x86_64-3.10/atari_py/ale_interface/src/games/supported\n",
            "  \u001b[31m   \u001b[0m copying atari_py/ale_interface/src/games/supported/Venture.cpp -> build/lib.linux-x86_64-3.10/atari_py/ale_interface/src/games/supported\n",
            "  \u001b[31m   \u001b[0m copying atari_py/ale_interface/src/games/supported/Venture.hpp -> build/lib.linux-x86_64-3.10/atari_py/ale_interface/src/games/supported\n",
            "  \u001b[31m   \u001b[0m copying atari_py/ale_interface/src/games/supported/VideoPinball.cpp -> build/lib.linux-x86_64-3.10/atari_py/ale_interface/src/games/supported\n",
            "  \u001b[31m   \u001b[0m copying atari_py/ale_interface/src/games/supported/VideoPinball.hpp -> build/lib.linux-x86_64-3.10/atari_py/ale_interface/src/games/supported\n",
            "  \u001b[31m   \u001b[0m copying atari_py/ale_interface/src/games/supported/WizardOfWor.cpp -> build/lib.linux-x86_64-3.10/atari_py/ale_interface/src/games/supported\n",
            "  \u001b[31m   \u001b[0m copying atari_py/ale_interface/src/games/supported/WizardOfWor.hpp -> build/lib.linux-x86_64-3.10/atari_py/ale_interface/src/games/supported\n",
            "  \u001b[31m   \u001b[0m copying atari_py/ale_interface/src/games/supported/YarsRevenge.cpp -> build/lib.linux-x86_64-3.10/atari_py/ale_interface/src/games/supported\n",
            "  \u001b[31m   \u001b[0m copying atari_py/ale_interface/src/games/supported/YarsRevenge.hpp -> build/lib.linux-x86_64-3.10/atari_py/ale_interface/src/games/supported\n",
            "  \u001b[31m   \u001b[0m copying atari_py/ale_interface/src/games/supported/Zaxxon.cpp -> build/lib.linux-x86_64-3.10/atari_py/ale_interface/src/games/supported\n",
            "  \u001b[31m   \u001b[0m copying atari_py/ale_interface/src/games/supported/Zaxxon.hpp -> build/lib.linux-x86_64-3.10/atari_py/ale_interface/src/games/supported\n",
            "  \u001b[31m   \u001b[0m copying atari_py/ale_interface/src/main.cpp -> build/lib.linux-x86_64-3.10/atari_py/ale_interface/src\n",
            "  \u001b[31m   \u001b[0m copying atari_py/ale_interface/src/module.mk -> build/lib.linux-x86_64-3.10/atari_py/ale_interface/src\n",
            "  \u001b[31m   \u001b[0m creating build/lib.linux-x86_64-3.10/atari_py/ale_interface/src/os_dependent\n",
            "  \u001b[31m   \u001b[0m copying atari_py/ale_interface/src/os_dependent/FSNodePOSIX.cxx -> build/lib.linux-x86_64-3.10/atari_py/ale_interface/src/os_dependent\n",
            "  \u001b[31m   \u001b[0m copying atari_py/ale_interface/src/os_dependent/FSNodeWin32.cxx -> build/lib.linux-x86_64-3.10/atari_py/ale_interface/src/os_dependent\n",
            "  \u001b[31m   \u001b[0m copying atari_py/ale_interface/src/os_dependent/OSystemUNIX.cxx -> build/lib.linux-x86_64-3.10/atari_py/ale_interface/src/os_dependent\n",
            "  \u001b[31m   \u001b[0m copying atari_py/ale_interface/src/os_dependent/OSystemUNIX.hxx -> build/lib.linux-x86_64-3.10/atari_py/ale_interface/src/os_dependent\n",
            "  \u001b[31m   \u001b[0m copying atari_py/ale_interface/src/os_dependent/OSystemWin32.cxx -> build/lib.linux-x86_64-3.10/atari_py/ale_interface/src/os_dependent\n",
            "  \u001b[31m   \u001b[0m copying atari_py/ale_interface/src/os_dependent/OSystemWin32.hxx -> build/lib.linux-x86_64-3.10/atari_py/ale_interface/src/os_dependent\n",
            "  \u001b[31m   \u001b[0m copying atari_py/ale_interface/src/os_dependent/SettingsUNIX.cxx -> build/lib.linux-x86_64-3.10/atari_py/ale_interface/src/os_dependent\n",
            "  \u001b[31m   \u001b[0m copying atari_py/ale_interface/src/os_dependent/SettingsUNIX.hxx -> build/lib.linux-x86_64-3.10/atari_py/ale_interface/src/os_dependent\n",
            "  \u001b[31m   \u001b[0m copying atari_py/ale_interface/src/os_dependent/SettingsWin32.cxx -> build/lib.linux-x86_64-3.10/atari_py/ale_interface/src/os_dependent\n",
            "  \u001b[31m   \u001b[0m copying atari_py/ale_interface/src/os_dependent/SettingsWin32.hxx -> build/lib.linux-x86_64-3.10/atari_py/ale_interface/src/os_dependent\n",
            "  \u001b[31m   \u001b[0m copying atari_py/ale_interface/src/os_dependent/module.mk -> build/lib.linux-x86_64-3.10/atari_py/ale_interface/src/os_dependent\n",
            "  \u001b[31m   \u001b[0m creating build/lib.linux-x86_64-3.10/atari_py/atari_roms\n",
            "  \u001b[31m   \u001b[0m copying atari_py/atari_roms/tetris.bin -> build/lib.linux-x86_64-3.10/atari_py/atari_roms\n",
            "  \u001b[31m   \u001b[0m copying atari_py/atari_ntsc_rgb_palette.h -> build/lib.linux-x86_64-3.10/atari_py\n",
            "  \u001b[31m   \u001b[0m copying atari_py/package_data.txt -> build/lib.linux-x86_64-3.10/atari_py\n",
            "  \u001b[31m   \u001b[0m creating build/lib.linux-x86_64-3.10/atari_py/tests\n",
            "  \u001b[31m   \u001b[0m copying atari_py/tests/__init__.py -> build/lib.linux-x86_64-3.10/atari_py/tests\n",
            "  \u001b[31m   \u001b[0m copying atari_py/tests/test_smoke.py -> build/lib.linux-x86_64-3.10/atari_py/tests\n",
            "  \u001b[31m   \u001b[0m running build_ext\n",
            "  \u001b[31m   \u001b[0m error: [Errno 2] No such file or directory: 'cmake'\n",
            "  \u001b[31m   \u001b[0m \u001b[31m[end of output]\u001b[0m\n",
            "  \n",
            "  \u001b[1;35mnote\u001b[0m: This error originates from a subprocess, and is likely not a problem with pip.\n",
            "\u001b[?25h\u001b[1;31merror\u001b[0m: \u001b[1mlegacy-install-failure\u001b[0m\n",
            "\n",
            "\u001b[31m×\u001b[0m Encountered error while trying to install package.\n",
            "\u001b[31m╰─>\u001b[0m atari-py\n",
            "\n",
            "\u001b[1;35mnote\u001b[0m: This is an issue with the package mentioned above, not pip.\n",
            "\u001b[1;36mhint\u001b[0m: See above for output from the failure.\n",
            "\u001b[33mWARNING: There was an error checking the latest version of pip.\u001b[0m\u001b[33m\n",
            "\u001b[0mDefaulting to user installation because normal site-packages is not writeable\n",
            "Requirement already satisfied: gymnasium[atari] in /home/p1dg/.local/lib/python3.10/site-packages (0.29.1)\n",
            "Requirement already satisfied: typing-extensions>=4.3.0 in /home/p1dg/.local/lib/python3.10/site-packages (from gymnasium[atari]) (4.9.0)\n",
            "Requirement already satisfied: cloudpickle>=1.2.0 in /home/p1dg/.local/lib/python3.10/site-packages (from gymnasium[atari]) (3.0.0)\n",
            "Requirement already satisfied: farama-notifications>=0.0.1 in /home/p1dg/.local/lib/python3.10/site-packages (from gymnasium[atari]) (0.0.4)\n",
            "Requirement already satisfied: numpy>=1.21.0 in /home/p1dg/.local/lib/python3.10/site-packages (from gymnasium[atari]) (1.26.3)\n",
            "Requirement already satisfied: shimmy[atari]<1.0,>=0.1.0 in /home/p1dg/.local/lib/python3.10/site-packages (from gymnasium[atari]) (0.2.1)\n",
            "Collecting ale-py~=0.8.1\n",
            "  Using cached ale_py-0.8.1-cp310-cp310-manylinux_2_17_x86_64.manylinux2014_x86_64.whl (1.7 MB)\n",
            "Requirement already satisfied: importlib-resources in /home/p1dg/.local/lib/python3.10/site-packages (from ale-py~=0.8.1->shimmy[atari]<1.0,>=0.1.0->gymnasium[atari]) (6.4.0)\n",
            "Installing collected packages: ale-py\n",
            "  Attempting uninstall: ale-py\n",
            "    Found existing installation: ale-py 0.7.5\n",
            "    Uninstalling ale-py-0.7.5:\n",
            "      Successfully uninstalled ale-py-0.7.5\n",
            "Successfully installed ale-py-0.8.1\n",
            "\u001b[33mWARNING: There was an error checking the latest version of pip.\u001b[0m\u001b[33m\n",
            "\u001b[0mDefaulting to user installation because normal site-packages is not writeable\n",
            "Requirement already satisfied: gymnasium[accept-rom-license] in /home/p1dg/.local/lib/python3.10/site-packages (0.29.1)\n",
            "Requirement already satisfied: farama-notifications>=0.0.1 in /home/p1dg/.local/lib/python3.10/site-packages (from gymnasium[accept-rom-license]) (0.0.4)\n",
            "Requirement already satisfied: typing-extensions>=4.3.0 in /home/p1dg/.local/lib/python3.10/site-packages (from gymnasium[accept-rom-license]) (4.9.0)\n",
            "Requirement already satisfied: numpy>=1.21.0 in /home/p1dg/.local/lib/python3.10/site-packages (from gymnasium[accept-rom-license]) (1.26.3)\n",
            "Requirement already satisfied: cloudpickle>=1.2.0 in /home/p1dg/.local/lib/python3.10/site-packages (from gymnasium[accept-rom-license]) (3.0.0)\n",
            "Requirement already satisfied: autorom[accept-rom-license]~=0.4.2 in /home/p1dg/.local/lib/python3.10/site-packages (from gymnasium[accept-rom-license]) (0.4.2)\n",
            "Requirement already satisfied: click in /home/p1dg/.local/lib/python3.10/site-packages (from autorom[accept-rom-license]~=0.4.2->gymnasium[accept-rom-license]) (8.1.7)\n",
            "Requirement already satisfied: tqdm in /home/p1dg/.local/lib/python3.10/site-packages (from autorom[accept-rom-license]~=0.4.2->gymnasium[accept-rom-license]) (4.66.1)\n",
            "Requirement already satisfied: requests in /home/p1dg/.local/lib/python3.10/site-packages (from autorom[accept-rom-license]~=0.4.2->gymnasium[accept-rom-license]) (2.31.0)\n",
            "Requirement already satisfied: AutoROM.accept-rom-license in /home/p1dg/.local/lib/python3.10/site-packages (from autorom[accept-rom-license]~=0.4.2->gymnasium[accept-rom-license]) (0.6.1)\n",
            "Requirement already satisfied: certifi>=2017.4.17 in /home/p1dg/.local/lib/python3.10/site-packages (from requests->autorom[accept-rom-license]~=0.4.2->gymnasium[accept-rom-license]) (2022.12.7)\n",
            "Requirement already satisfied: idna<4,>=2.5 in /home/p1dg/.local/lib/python3.10/site-packages (from requests->autorom[accept-rom-license]~=0.4.2->gymnasium[accept-rom-license]) (2.10)\n",
            "Requirement already satisfied: urllib3<3,>=1.21.1 in /home/p1dg/.local/lib/python3.10/site-packages (from requests->autorom[accept-rom-license]~=0.4.2->gymnasium[accept-rom-license]) (1.26.13)\n",
            "Requirement already satisfied: charset-normalizer<4,>=2 in /home/p1dg/.local/lib/python3.10/site-packages (from requests->autorom[accept-rom-license]~=0.4.2->gymnasium[accept-rom-license]) (3.3.2)\n",
            "\u001b[33mWARNING: There was an error checking the latest version of pip.\u001b[0m\u001b[33m\n",
            "\u001b[0m"
          ]
        }
      ],
      "source": [
        "!pip install gymnasium\n",
        "!pip install atari-py\n",
        "!pip install gymnasium[atari]\n",
        "!pip install gymnasium[accept-rom-license]"
      ]
    },
    {
      "cell_type": "code",
      "execution_count": null,
      "metadata": {
        "id": "dRoLKOXm09Lk"
      },
      "outputs": [],
      "source": [
        "import gym\n",
        "import gymnasium as gym\n",
        "from gymnasium import spaces\n",
        "import cv2\n",
        "import numpy as np\n",
        "import matplotlib.pyplot as plt"
      ]
    },
    {
      "cell_type": "code",
      "execution_count": null,
      "metadata": {
        "id": "cnK_k3Qy02fn"
      },
      "outputs": [],
      "source": [
        "env = gym.make('PongNoFrameskip-v4')\n",
        "# Сброс среды и получение первого наблюдения\n",
        "obs = env.reset()"
      ]
    },
    {
      "cell_type": "code",
      "execution_count": null,
      "metadata": {
        "colab": {
          "base_uri": "https://localhost:8080/",
          "height": 451
        },
        "id": "1a8B23Q_1LA2",
        "outputId": "aa2a00b7-2f1c-4037-81b0-35003ef71a5b"
      },
      "outputs": [
        {
          "name": "stdout",
          "output_type": "stream",
          "text": [
            "(210, 160, 3)\n"
          ]
        },
        {
          "data": {
            "image/png": "[encoded data removed]",
            "text/plain": [
              "<Figure size 640x480 with 1 Axes>"
            ]
          },
          "metadata": {},
          "output_type": "display_data"
        }
      ],
      "source": [
        "plt.imshow(obs[0])\n",
        "print(obs[0].shape)"
      ]
    },
    {
      "cell_type": "code",
      "execution_count": null,
      "metadata": {
        "colab": {
          "base_uri": "https://localhost:8080/"
        },
        "id": "QAaHFxtZ4Ipx",
        "outputId": "903d77f4-81f4-4f9a-95e8-1283ec04db98"
      },
      "outputs": [
        {
          "data": {
            "text/plain": [
              "Discrete(6)"
            ]
          },
          "execution_count": 21,
          "metadata": {},
          "output_type": "execute_result"
        }
      ],
      "source": [
        "env.action_space"
      ]
    },
    {
      "cell_type": "code",
      "execution_count": null,
      "metadata": {
        "colab": {
          "base_uri": "https://localhost:8080/"
        },
        "id": "EpRCeO6K4Oba",
        "outputId": "a351bfdf-40e0-401d-b734-4d8a881aa6ed"
      },
      "outputs": [
        {
          "data": {
            "text/plain": [
              "Box(0, 255, (210, 160, 3), uint8)"
            ]
          },
          "execution_count": 22,
          "metadata": {},
          "output_type": "execute_result"
        }
      ],
      "source": [
        "env.observation_space"
      ]
    },
    {
      "cell_type": "markdown",
      "metadata": {
        "id": "VTzRnbpq5u2U"
      },
      "source": [
        "## Wrappers\n",
        "\n",
        "### Observation Wrappers\n",
        "\n",
        "1) Уменьшим размер, сделаем 128 на 128\n",
        "\n",
        "2) Изменим цвет на grayscale\n",
        "\n",
        "4) Добавим FramStack\n"
      ]
    },
    {
      "cell_type": "code",
      "execution_count": null,
      "metadata": {
        "id": "SUmx8zwj4QXp"
      },
      "outputs": [],
      "source": [
        "from gymnasium import ObservationWrapper\n",
        "from cv2 import resize\n",
        "\n",
        "class ResizeObservation(ObservationWrapper):\n",
        "    def __init__(self, env, shape):\n",
        "        super(ResizeObservation, self).__init__(env)\n",
        "        self.shape = shape\n",
        "        self.observation_space = gym.spaces.Box(low=0, high=255, shape=shape[::-1], dtype=np.uint8)\n",
        "\n",
        "    def observation(self, observation):\n",
        "        observation = resize(observation, self.shape[1:], interpolation=cv2.INTER_AREA)\n",
        "        return observation\n"
      ]
    },
    {
      "cell_type": "code",
      "execution_count": null,
      "metadata": {
        "colab": {
          "base_uri": "https://localhost:8080/",
          "height": 451
        },
        "id": "akPfgna_6HQP",
        "outputId": "ef06b344-d009-4247-8c9d-299f1c39a3bc"
      },
      "outputs": [
        {
          "name": "stdout",
          "output_type": "stream",
          "text": [
            "(128, 128, 3)\n"
          ]
        },
        {
          "data": {
            "image/png": "[encoded data removed]",
            "text/plain": [
              "<Figure size 640x480 with 1 Axes>"
            ]
          },
          "metadata": {},
          "output_type": "display_data"
        }
      ],
      "source": [
        "env = gym.make('PongNoFrameskip-v4')\n",
        "env = ResizeObservation(env, (3, 128, 128))\n",
        "obs = env.reset()\n",
        "plt.imshow(obs[0])\n",
        "print(obs[0].shape)"
      ]
    },
    {
      "cell_type": "code",
      "execution_count": null,
      "metadata": {
        "id": "PDWTSCEE6jmj"
      },
      "outputs": [],
      "source": [
        "class GrayscaleObservation(ObservationWrapper):\n",
        "    def __init__(self, env):\n",
        "        super(GrayscaleObservation, self).__init__(env)\n",
        "        obs_shape = self.observation_space.shape[:2] + (1,)  # Добавляем размерность канала\n",
        "        self.observation_space = gym.spaces.Box(low=0, high=255, shape=obs_shape, dtype=np.uint8)\n",
        "\n",
        "    def observation(self, observation):\n",
        "        observation = np.mean(observation, axis=2)\n",
        "        observation = np.expand_dims(observation, axis=2)\n",
        "        return observation.astype(np.uint8)\n"
      ]
    },
    {
      "cell_type": "code",
      "execution_count": null,
      "metadata": {
        "colab": {
          "base_uri": "https://localhost:8080/",
          "height": 469
        },
        "id": "sBIQYeei6lsF",
        "outputId": "f458a094-0e85-475f-b766-b4deb6b9eb18"
      },
      "outputs": [
        {
          "name": "stdout",
          "output_type": "stream",
          "text": [
            "\n",
            "(210, 160, 1)\n"
          ]
        },
        {
          "data": {
            "image/png": "[encoded data removed]",
            "text/plain": [
              "<Figure size 640x480 with 1 Axes>"
            ]
          },
          "metadata": {},
          "output_type": "display_data"
        }
      ],
      "source": [
        "env = gym.make('PongNoFrameskip-v4')\n",
        "env = GrayscaleObservation(env)\n",
        "obs = env.reset()\n",
        "plt.imshow(obs[0])\n",
        "print()\n",
        "print(obs[0].shape)"
      ]
    },
    {
      "cell_type": "code",
      "execution_count": null,
      "metadata": {
        "id": "1ttVMGpd6Owd"
      },
      "outputs": [],
      "source": [
        "from gymnasium import Wrapper\n",
        "\n",
        "class FrameStack(Wrapper):\n",
        "    def __init__(self, env, num_stack):\n",
        "        super(FrameStack, self).__init__(env)\n",
        "        self.env = env\n",
        "        self.num_stack = num_stack\n",
        "        # Получаем исходные размеры наблюдения\n",
        "        original_shape = env.observation_space.shape\n",
        "        # Рассчитываем новую форму наблюдения с учётом стекирования кадров\n",
        "        new_shape = (num_stack,) + original_shape\n",
        "        self.observation_space = gym.spaces.Box(low=0, high=255, shape=new_shape, dtype=np.uint8)\n",
        "        # Инициализируем буфер для хранения стека кадров\n",
        "        self.frames = np.zeros(new_shape, dtype=np.uint8)\n",
        "\n",
        "    def reset(self):\n",
        "        obs, t = self.env.reset()\n",
        "        # Повторяем начальное наблюдение для заполнения всего стека\n",
        "        for i in range(self.num_stack):\n",
        "            self.frames[i] = obs\n",
        "        return self._get_observation(), t\n",
        "\n",
        "    def step(self, action):\n",
        "        obs, reward, t, t_, info = self.env.step(action)\n",
        "        # Сдвигаем стек кадров и добавляем новое наблюдение в начало\n",
        "        self.frames = np.roll(self.frames, shift=1, axis=0)\n",
        "        self.frames[0] = obs\n",
        "\n",
        "        return self._get_observation(), reward, t, t_, info\n",
        "\n",
        "    def _get_observation(self):\n",
        "\n",
        "        return np.asarray(self.frames)"
      ]
    },
    {
      "cell_type": "code",
      "execution_count": null,
      "metadata": {
        "id": "V3nQzAME6ipS"
      },
      "outputs": [],
      "source": [
        "env = gym.make('PongNoFrameskip-v4')\n",
        "env = FrameStack(env, num_stack=4)\n",
        "obs = env.reset()[0]"
      ]
    },
    {
      "cell_type": "code",
      "execution_count": null,
      "metadata": {
        "colab": {
          "base_uri": "https://localhost:8080/",
          "height": 317
        },
        "id": "Jjj_I3T663dy",
        "outputId": "5ecc816a-38d5-4c70-b901-4d584d7625ea"
      },
      "outputs": [
        {
          "data": {
            "image/png": "[encoded data removed]",
            "text/plain": [
              "<Figure size 1000x400 with 4 Axes>"
            ]
          },
          "metadata": {},
          "output_type": "display_data"
        }
      ],
      "source": [
        "plt.figure(figsize=(10,4))\n",
        "plt.subplot(1,4,1)\n",
        "plt.imshow(obs[0])\n",
        "plt.subplot(1,4,2)\n",
        "plt.imshow(obs[1])\n",
        "plt.subplot(1,4,3)\n",
        "plt.imshow(obs[2])\n",
        "plt.subplot(1,4,4)\n",
        "plt.imshow(obs[3])\n",
        "plt.tight_layout()"
      ]
    },
    {
      "cell_type": "code",
      "execution_count": null,
      "metadata": {
        "id": "VO3AyusM6_AF"
      },
      "outputs": [],
      "source": [
        "obs, _, _,_, _ = env.step(4)"
      ]
    },
    {
      "cell_type": "code",
      "execution_count": null,
      "metadata": {
        "colab": {
          "base_uri": "https://localhost:8080/",
          "height": 317
        },
        "id": "Urw6VFgu98qa",
        "outputId": "90b95ffb-2afb-426a-c9bb-e188b658f978"
      },
      "outputs": [
        {
          "data": {
            "image/png": "[encoded data removed]",
            "text/plain": [
              "<Figure size 1000x400 with 4 Axes>"
            ]
          },
          "metadata": {},
          "output_type": "display_data"
        }
      ],
      "source": [
        "plt.figure(figsize=(10,4))\n",
        "plt.subplot(1,4,1)\n",
        "plt.imshow(obs[0])\n",
        "plt.subplot(1,4,2)\n",
        "plt.imshow(obs[1])\n",
        "plt.subplot(1,4,3)\n",
        "plt.imshow(obs[2])\n",
        "plt.subplot(1,4,4)\n",
        "plt.imshow(obs[3])\n",
        "plt.tight_layout()"
      ]
    },
    {
      "cell_type": "markdown",
      "metadata": {
        "id": "B1563p8W_Lqj"
      },
      "source": [
        "### Action Wrappers"
      ]
    },
    {
      "cell_type": "code",
      "execution_count": null,
      "metadata": {
        "id": "SgVqs4lj9-Z0"
      },
      "outputs": [],
      "source": [
        "import gymnasium as gym\n",
        "from gymnasium import ActionWrapper\n",
        "import numpy as np\n",
        "\n",
        "class DiscretizeActionWrapper(ActionWrapper):\n",
        "    def __init__(self, env, num_actions=3):\n",
        "        super(DiscretizeActionWrapper, self).__init__(env)\n",
        "        self.num_actions = num_actions\n",
        "        # Устанавливаем новое пространство действий на дискретное с num_actions действиями\n",
        "        self.action_space = gym.spaces.Discrete(num_actions)\n",
        "\n",
        "    def action(self, action):\n",
        "        # Преобразуем дискретное действие в непрерывное значение\n",
        "        if action == 0:  # Двигаться влево\n",
        "            return np.array([-1.0])\n",
        "        elif action == 1:  # Ничего не делать\n",
        "            return np.array([0.0])\n",
        "        elif action == 2:  # Двигаться вправо\n",
        "            return np.array([1.0])\n"
      ]
    },
    {
      "cell_type": "code",
      "execution_count": null,
      "metadata": {
        "colab": {
          "base_uri": "https://localhost:8080/"
        },
        "id": "dobDciuc_w9a",
        "outputId": "b9dd821c-8547-4014-e6b5-fafa85268a60"
      },
      "outputs": [
        {
          "data": {
            "text/plain": [
              "Discrete(3)"
            ]
          },
          "execution_count": 17,
          "metadata": {},
          "output_type": "execute_result"
        }
      ],
      "source": [
        "\n",
        "# Использование обёртки\n",
        "env = gym.make('MountainCarContinuous-v0')\n",
        "env = DiscretizeActionWrapper(env)\n",
        "env.action_space\n"
      ]
    },
    {
      "cell_type": "markdown",
      "metadata": {
        "id": "qintE5NXAtYV"
      },
      "source": [
        "## Stable Baselines 3"
      ]
    },
    {
      "cell_type": "markdown",
      "metadata": {
        "id": "4zCXu83BFG-W"
      },
      "source": [
        "#### Установка SB3 + wandb"
      ]
    },
    {
      "cell_type": "code",
      "execution_count": null,
      "metadata": {
        "colab": {
          "base_uri": "https://localhost:8080/",
          "height": 1000
        },
        "id": "jYp2eXPE_yvb",
        "outputId": "9c05d99b-e967-49cb-ac55-e12bf72f9f8f"
      },
      "outputs": [
        {
          "name": "stdout",
          "output_type": "stream",
          "text": [
            "Collecting wandb\n",
            "  Downloading wandb-0.16.3-py3-none-any.whl (2.2 MB)\n",
            "\u001b[2K     \u001b[90m━━━━━━━━━━━━━━━━━━━━━━━━━━━━━━━━━━━━━━━━\u001b[0m \u001b[32m2.2/2.2 MB\u001b[0m \u001b[31m9.3 MB/s\u001b[0m eta \u001b[36m0:00:00\u001b[0m\n",
            "\u001b[?25hRequirement already satisfied: Click!=8.0.0,>=7.1 in /usr/local/lib/python3.10/dist-packages (from wandb) (8.1.7)\n",
            "Collecting GitPython!=3.1.29,>=1.0.0 (from wandb)\n",
            "  Downloading GitPython-3.1.42-py3-none-any.whl (195 kB)\n",
            "\u001b[2K     \u001b[90m━━━━━━━━━━━━━━━━━━━━━━━━━━━━━━━━━━━━━━━━\u001b[0m \u001b[32m195.4/195.4 kB\u001b[0m \u001b[31m24.8 MB/s\u001b[0m eta \u001b[36m0:00:00\u001b[0m\n",
            "\u001b[?25hRequirement already satisfied: requests<3,>=2.0.0 in /usr/local/lib/python3.10/dist-packages (from wandb) (2.31.0)\n",
            "Requirement already satisfied: psutil>=5.0.0 in /usr/local/lib/python3.10/dist-packages (from wandb) (5.9.5)\n",
            "Collecting sentry-sdk>=1.0.0 (from wandb)\n",
            "  Downloading sentry_sdk-1.40.6-py2.py3-none-any.whl (258 kB)\n",
            "\u001b[2K     \u001b[90m━━━━━━━━━━━━━━━━━━━━━━━━━━━━━━━━━━━━━━━━\u001b[0m \u001b[32m258.5/258.5 kB\u001b[0m \u001b[31m30.7 MB/s\u001b[0m eta \u001b[36m0:00:00\u001b[0m\n",
            "\u001b[?25hCollecting docker-pycreds>=0.4.0 (from wandb)\n",
            "  Downloading docker_pycreds-0.4.0-py2.py3-none-any.whl (9.0 kB)\n",
            "Requirement already satisfied: PyYAML in /usr/local/lib/python3.10/dist-packages (from wandb) (6.0.1)\n",
            "Collecting setproctitle (from wandb)\n",
            "  Downloading setproctitle-1.3.3-cp310-cp310-manylinux_2_5_x86_64.manylinux1_x86_64.manylinux_2_17_x86_64.manylinux2014_x86_64.whl (30 kB)\n",
            "Requirement already satisfied: setuptools in /usr/local/lib/python3.10/dist-packages (from wandb) (67.7.2)\n",
            "Requirement already satisfied: appdirs>=1.4.3 in /usr/local/lib/python3.10/dist-packages (from wandb) (1.4.4)\n",
            "Requirement already satisfied: protobuf!=4.21.0,<5,>=3.19.0 in /usr/local/lib/python3.10/dist-packages (from wandb) (3.20.3)\n",
            "Requirement already satisfied: six>=1.4.0 in /usr/local/lib/python3.10/dist-packages (from docker-pycreds>=0.4.0->wandb) (1.16.0)\n",
            "Collecting gitdb<5,>=4.0.1 (from GitPython!=3.1.29,>=1.0.0->wandb)\n",
            "  Downloading gitdb-4.0.11-py3-none-any.whl (62 kB)\n",
            "\u001b[2K     \u001b[90m━━━━━━━━━━━━━━━━━━━━━━━━━━━━━━━━━━━━━━━━\u001b[0m \u001b[32m62.7/62.7 kB\u001b[0m \u001b[31m6.7 MB/s\u001b[0m eta \u001b[36m0:00:00\u001b[0m\n",
            "\u001b[?25hRequirement already satisfied: charset-normalizer<4,>=2 in /usr/local/lib/python3.10/dist-packages (from requests<3,>=2.0.0->wandb) (3.3.2)\n",
            "Requirement already satisfied: idna<4,>=2.5 in /usr/local/lib/python3.10/dist-packages (from requests<3,>=2.0.0->wandb) (3.6)\n",
            "Requirement already satisfied: urllib3<3,>=1.21.1 in /usr/local/lib/python3.10/dist-packages (from requests<3,>=2.0.0->wandb) (2.0.7)\n",
            "Requirement already satisfied: certifi>=2017.4.17 in /usr/local/lib/python3.10/dist-packages (from requests<3,>=2.0.0->wandb) (2024.2.2)\n",
            "Collecting smmap<6,>=3.0.1 (from gitdb<5,>=4.0.1->GitPython!=3.1.29,>=1.0.0->wandb)\n",
            "  Downloading smmap-5.0.1-py3-none-any.whl (24 kB)\n",
            "Installing collected packages: smmap, setproctitle, sentry-sdk, docker-pycreds, gitdb, GitPython, wandb\n",
            "Successfully installed GitPython-3.1.42 docker-pycreds-0.4.0 gitdb-4.0.11 sentry-sdk-1.40.6 setproctitle-1.3.3 smmap-5.0.1 wandb-0.16.3\n",
            "Collecting stable-baselines3[extra]\n",
            "  Downloading stable_baselines3-2.2.1-py3-none-any.whl (181 kB)\n",
            "\u001b[2K     \u001b[90m━━━━━━━━━━━━━━━━━━━━━━━━━━━━━━━━━━━━━━━━\u001b[0m \u001b[32m181.7/181.7 kB\u001b[0m \u001b[31m1.8 MB/s\u001b[0m eta \u001b[36m0:00:00\u001b[0m\n",
            "\u001b[?25hRequirement already satisfied: gymnasium<0.30,>=0.28.1 in /usr/local/lib/python3.10/dist-packages (from stable-baselines3[extra]) (0.29.1)\n",
            "Requirement already satisfied: numpy>=1.20 in /usr/local/lib/python3.10/dist-packages (from stable-baselines3[extra]) (1.25.2)\n",
            "Requirement already satisfied: torch>=1.13 in /usr/local/lib/python3.10/dist-packages (from stable-baselines3[extra]) (2.1.0+cu121)\n",
            "Requirement already satisfied: cloudpickle in /usr/local/lib/python3.10/dist-packages (from stable-baselines3[extra]) (2.2.1)\n",
            "Requirement already satisfied: pandas in /usr/local/lib/python3.10/dist-packages (from stable-baselines3[extra]) (1.5.3)\n",
            "Requirement already satisfied: matplotlib in /usr/local/lib/python3.10/dist-packages (from stable-baselines3[extra]) (3.7.1)\n",
            "Requirement already satisfied: opencv-python in /usr/local/lib/python3.10/dist-packages (from stable-baselines3[extra]) (4.8.0.76)\n",
            "Requirement already satisfied: pygame in /usr/local/lib/python3.10/dist-packages (from stable-baselines3[extra]) (2.5.2)\n",
            "Requirement already satisfied: tensorboard>=2.9.1 in /usr/local/lib/python3.10/dist-packages (from stable-baselines3[extra]) (2.15.2)\n",
            "Requirement already satisfied: psutil in /usr/local/lib/python3.10/dist-packages (from stable-baselines3[extra]) (5.9.5)\n",
            "Requirement already satisfied: tqdm in /usr/local/lib/python3.10/dist-packages (from stable-baselines3[extra]) (4.66.2)\n",
            "Requirement already satisfied: rich in /usr/local/lib/python3.10/dist-packages (from stable-baselines3[extra]) (13.7.0)\n",
            "Collecting shimmy[atari]~=1.3.0 (from stable-baselines3[extra])\n",
            "  Downloading Shimmy-1.3.0-py3-none-any.whl (37 kB)\n",
            "Requirement already satisfied: pillow in /usr/local/lib/python3.10/dist-packages (from stable-baselines3[extra]) (9.4.0)\n",
            "Collecting autorom[accept-rom-license]~=0.6.1 (from stable-baselines3[extra])\n",
            "  Downloading AutoROM-0.6.1-py3-none-any.whl (9.4 kB)\n",
            "Requirement already satisfied: click in /usr/local/lib/python3.10/dist-packages (from autorom[accept-rom-license]~=0.6.1->stable-baselines3[extra]) (8.1.7)\n",
            "Requirement already satisfied: requests in /usr/local/lib/python3.10/dist-packages (from autorom[accept-rom-license]~=0.6.1->stable-baselines3[extra]) (2.31.0)\n",
            "Requirement already satisfied: AutoROM.accept-rom-license in /usr/local/lib/python3.10/dist-packages (from autorom[accept-rom-license]~=0.6.1->stable-baselines3[extra]) (0.6.1)\n",
            "Requirement already satisfied: typing-extensions>=4.3.0 in /usr/local/lib/python3.10/dist-packages (from gymnasium<0.30,>=0.28.1->stable-baselines3[extra]) (4.10.0)\n",
            "Requirement already satisfied: farama-notifications>=0.0.1 in /usr/local/lib/python3.10/dist-packages (from gymnasium<0.30,>=0.28.1->stable-baselines3[extra]) (0.0.4)\n",
            "Requirement already satisfied: ale-py~=0.8.1 in /usr/local/lib/python3.10/dist-packages (from shimmy[atari]~=1.3.0->stable-baselines3[extra]) (0.8.1)\n",
            "Requirement already satisfied: absl-py>=0.4 in /usr/local/lib/python3.10/dist-packages (from tensorboard>=2.9.1->stable-baselines3[extra]) (1.4.0)\n",
            "Requirement already satisfied: grpcio>=1.48.2 in /usr/local/lib/python3.10/dist-packages (from tensorboard>=2.9.1->stable-baselines3[extra]) (1.62.0)\n",
            "Requirement already satisfied: google-auth<3,>=1.6.3 in /usr/local/lib/python3.10/dist-packages (from tensorboard>=2.9.1->stable-baselines3[extra]) (2.27.0)\n",
            "Requirement already satisfied: google-auth-oauthlib<2,>=0.5 in /usr/local/lib/python3.10/dist-packages (from tensorboard>=2.9.1->stable-baselines3[extra]) (1.2.0)\n",
            "Requirement already satisfied: markdown>=2.6.8 in /usr/local/lib/python3.10/dist-packages (from tensorboard>=2.9.1->stable-baselines3[extra]) (3.5.2)\n",
            "Requirement already satisfied: protobuf!=4.24.0,>=3.19.6 in /usr/local/lib/python3.10/dist-packages (from tensorboard>=2.9.1->stable-baselines3[extra]) (3.20.3)\n",
            "Requirement already satisfied: setuptools>=41.0.0 in /usr/local/lib/python3.10/dist-packages (from tensorboard>=2.9.1->stable-baselines3[extra]) (67.7.2)\n",
            "Requirement already satisfied: six>1.9 in /usr/local/lib/python3.10/dist-packages (from tensorboard>=2.9.1->stable-baselines3[extra]) (1.16.0)\n",
            "Requirement already satisfied: tensorboard-data-server<0.8.0,>=0.7.0 in /usr/local/lib/python3.10/dist-packages (from tensorboard>=2.9.1->stable-baselines3[extra]) (0.7.2)\n",
            "Requirement already satisfied: werkzeug>=1.0.1 in /usr/local/lib/python3.10/dist-packages (from tensorboard>=2.9.1->stable-baselines3[extra]) (3.0.1)\n",
            "Requirement already satisfied: filelock in /usr/local/lib/python3.10/dist-packages (from torch>=1.13->stable-baselines3[extra]) (3.13.1)\n",
            "Requirement already satisfied: sympy in /usr/local/lib/python3.10/dist-packages (from torch>=1.13->stable-baselines3[extra]) (1.12)\n",
            "Requirement already satisfied: networkx in /usr/local/lib/python3.10/dist-packages (from torch>=1.13->stable-baselines3[extra]) (3.2.1)\n",
            "Requirement already satisfied: jinja2 in /usr/local/lib/python3.10/dist-packages (from torch>=1.13->stable-baselines3[extra]) (3.1.3)\n",
            "Requirement already satisfied: fsspec in /usr/local/lib/python3.10/dist-packages (from torch>=1.13->stable-baselines3[extra]) (2023.6.0)\n",
            "Requirement already satisfied: triton==2.1.0 in /usr/local/lib/python3.10/dist-packages (from torch>=1.13->stable-baselines3[extra]) (2.1.0)\n",
            "Requirement already satisfied: contourpy>=1.0.1 in /usr/local/lib/python3.10/dist-packages (from matplotlib->stable-baselines3[extra]) (1.2.0)\n",
            "Requirement already satisfied: cycler>=0.10 in /usr/local/lib/python3.10/dist-packages (from matplotlib->stable-baselines3[extra]) (0.12.1)\n",
            "Requirement already satisfied: fonttools>=4.22.0 in /usr/local/lib/python3.10/dist-packages (from matplotlib->stable-baselines3[extra]) (4.49.0)\n",
            "Requirement already satisfied: kiwisolver>=1.0.1 in /usr/local/lib/python3.10/dist-packages (from matplotlib->stable-baselines3[extra]) (1.4.5)\n",
            "Requirement already satisfied: packaging>=20.0 in /usr/local/lib/python3.10/dist-packages (from matplotlib->stable-baselines3[extra]) (23.2)\n",
            "Requirement already satisfied: pyparsing>=2.3.1 in /usr/local/lib/python3.10/dist-packages (from matplotlib->stable-baselines3[extra]) (3.1.1)\n",
            "Requirement already satisfied: python-dateutil>=2.7 in /usr/local/lib/python3.10/dist-packages (from matplotlib->stable-baselines3[extra]) (2.8.2)\n",
            "Requirement already satisfied: pytz>=2020.1 in /usr/local/lib/python3.10/dist-packages (from pandas->stable-baselines3[extra]) (2023.4)\n",
            "Requirement already satisfied: markdown-it-py>=2.2.0 in /usr/local/lib/python3.10/dist-packages (from rich->stable-baselines3[extra]) (3.0.0)\n",
            "Requirement already satisfied: pygments<3.0.0,>=2.13.0 in /usr/local/lib/python3.10/dist-packages (from rich->stable-baselines3[extra]) (2.16.1)\n",
            "Requirement already satisfied: importlib-resources in /usr/local/lib/python3.10/dist-packages (from ale-py~=0.8.1->shimmy[atari]~=1.3.0->stable-baselines3[extra]) (6.1.2)\n",
            "Requirement already satisfied: cachetools<6.0,>=2.0.0 in /usr/local/lib/python3.10/dist-packages (from google-auth<3,>=1.6.3->tensorboard>=2.9.1->stable-baselines3[extra]) (5.3.3)\n",
            "Requirement already satisfied: pyasn1-modules>=0.2.1 in /usr/local/lib/python3.10/dist-packages (from google-auth<3,>=1.6.3->tensorboard>=2.9.1->stable-baselines3[extra]) (0.3.0)\n",
            "Requirement already satisfied: rsa<5,>=3.1.4 in /usr/local/lib/python3.10/dist-packages (from google-auth<3,>=1.6.3->tensorboard>=2.9.1->stable-baselines3[extra]) (4.9)\n",
            "Requirement already satisfied: requests-oauthlib>=0.7.0 in /usr/local/lib/python3.10/dist-packages (from google-auth-oauthlib<2,>=0.5->tensorboard>=2.9.1->stable-baselines3[extra]) (1.3.1)\n",
            "Requirement already satisfied: mdurl~=0.1 in /usr/local/lib/python3.10/dist-packages (from markdown-it-py>=2.2.0->rich->stable-baselines3[extra]) (0.1.2)\n",
            "Requirement already satisfied: charset-normalizer<4,>=2 in /usr/local/lib/python3.10/dist-packages (from requests->autorom[accept-rom-license]~=0.6.1->stable-baselines3[extra]) (3.3.2)\n",
            "Requirement already satisfied: idna<4,>=2.5 in /usr/local/lib/python3.10/dist-packages (from requests->autorom[accept-rom-license]~=0.6.1->stable-baselines3[extra]) (3.6)\n",
            "Requirement already satisfied: urllib3<3,>=1.21.1 in /usr/local/lib/python3.10/dist-packages (from requests->autorom[accept-rom-license]~=0.6.1->stable-baselines3[extra]) (2.0.7)\n",
            "Requirement already satisfied: certifi>=2017.4.17 in /usr/local/lib/python3.10/dist-packages (from requests->autorom[accept-rom-license]~=0.6.1->stable-baselines3[extra]) (2024.2.2)\n",
            "Requirement already satisfied: MarkupSafe>=2.1.1 in /usr/local/lib/python3.10/dist-packages (from werkzeug>=1.0.1->tensorboard>=2.9.1->stable-baselines3[extra]) (2.1.5)\n",
            "Requirement already satisfied: mpmath>=0.19 in /usr/local/lib/python3.10/dist-packages (from sympy->torch>=1.13->stable-baselines3[extra]) (1.3.0)\n",
            "Requirement already satisfied: pyasn1<0.6.0,>=0.4.6 in /usr/local/lib/python3.10/dist-packages (from pyasn1-modules>=0.2.1->google-auth<3,>=1.6.3->tensorboard>=2.9.1->stable-baselines3[extra]) (0.5.1)\n",
            "Requirement already satisfied: oauthlib>=3.0.0 in /usr/local/lib/python3.10/dist-packages (from requests-oauthlib>=0.7.0->google-auth-oauthlib<2,>=0.5->tensorboard>=2.9.1->stable-baselines3[extra]) (3.2.2)\n",
            "Installing collected packages: shimmy, autorom, stable-baselines3\n",
            "  Attempting uninstall: shimmy\n",
            "    Found existing installation: Shimmy 0.2.1\n",
            "    Uninstalling Shimmy-0.2.1:\n",
            "      Successfully uninstalled Shimmy-0.2.1\n",
            "  Attempting uninstall: autorom\n",
            "    Found existing installation: AutoROM 0.4.2\n",
            "    Uninstalling AutoROM-0.4.2:\n",
            "      Successfully uninstalled AutoROM-0.4.2\n",
            "Successfully installed autorom-0.6.1 shimmy-1.3.0 stable-baselines3-2.2.1\n"
          ]
        },
        {
          "data": {
            "application/vnd.colab-display-data+json": {
              "id": "86b14be374e342f8835e93ba87f40a2f",
              "pip_warning": {
                "packages": [
                  "AutoROM",
                  "shimmy"
                ]
              }
            }
          },
          "metadata": {},
          "output_type": "display_data"
        }
      ],
      "source": [
        "!pip install wandb\n",
        "!pip install stable-baselines3[extra]"
      ]
    },
    {
      "cell_type": "markdown",
      "metadata": {
        "id": "-Kupe3veFLOp"
      },
      "source": [
        "#### Обучение в SB3 с wandb"
      ]
    },
    {
      "cell_type": "code",
      "execution_count": null,
      "metadata": {
        "colab": {
          "base_uri": "https://localhost:8080/",
          "height": 245
        },
        "id": "aLZ5Leo7BGTV",
        "outputId": "0f7254ec-671a-4029-cf66-671e0c5fea5a"
      },
      "outputs": [
        {
          "name": "stdout",
          "output_type": "stream",
          "text": [
            "\u001b[34m\u001b[1mwandb\u001b[0m: Logging into wandb.ai. (Learn how to deploy a W&B server locally: https://wandb.me/wandb-server)\n",
            "\u001b[34m\u001b[1mwandb\u001b[0m: You can find your API key in your browser here: https://wandb.ai/authorize\n",
            "\u001b[34m\u001b[1mwandb\u001b[0m: Paste an API key from your profile and hit enter, or press ctrl+c to quit: \n",
            "\u001b[34m\u001b[1mwandb\u001b[0m: Appending key for api.wandb.ai to your netrc file: /root/.netrc\n"
          ]
        },
        {
          "name": "stderr",
          "output_type": "stream",
          "text": [
            "/usr/local/lib/python3.10/dist-packages/notebook/utils.py:280: DeprecationWarning: distutils Version classes are deprecated. Use packaging.version instead.\n",
            "  return LooseVersion(v) >= LooseVersion(check)\n",
            "\u001b[34m\u001b[1mwandb\u001b[0m: Currently logged in as: \u001b[33mbabycar27\u001b[0m. Use \u001b[1m`wandb login --relogin`\u001b[0m to force relogin\n"
          ]
        },
        {
          "data": {
            "text/html": [
              "Tracking run with wandb version 0.16.3"
            ],
            "text/plain": [
              "<IPython.core.display.HTML object>"
            ]
          },
          "metadata": {},
          "output_type": "display_data"
        },
        {
          "data": {
            "text/html": [
              "Run data is saved locally in <code>/content/wandb/run-20240304_114622-r6jyikun</code>"
            ],
            "text/plain": [
              "<IPython.core.display.HTML object>"
            ]
          },
          "metadata": {},
          "output_type": "display_data"
        },
        {
          "data": {
            "text/html": [
              "Syncing run <strong><a href='https://wandb.ai/babycar27/wandb_sb3/runs/r6jyikun' target=\"_blank\">divine-wave-14</a></strong> to <a href='https://wandb.ai/babycar27/wandb_sb3' target=\"_blank\">Weights & Biases</a> (<a href='https://wandb.me/run' target=\"_blank\">docs</a>)<br/>"
            ],
            "text/plain": [
              "<IPython.core.display.HTML object>"
            ]
          },
          "metadata": {},
          "output_type": "display_data"
        },
        {
          "data": {
            "text/html": [
              " View project at <a href='https://wandb.ai/babycar27/wandb_sb3' target=\"_blank\">https://wandb.ai/babycar27/wandb_sb3</a>"
            ],
            "text/plain": [
              "<IPython.core.display.HTML object>"
            ]
          },
          "metadata": {},
          "output_type": "display_data"
        },
        {
          "data": {
            "text/html": [
              " View run at <a href='https://wandb.ai/babycar27/wandb_sb3/runs/r6jyikun' target=\"_blank\">https://wandb.ai/babycar27/wandb_sb3/runs/r6jyikun</a>"
            ],
            "text/plain": [
              "<IPython.core.display.HTML object>"
            ]
          },
          "metadata": {},
          "output_type": "display_data"
        },
        {
          "data": {
            "text/html": [
              "<button onClick=\"this.nextSibling.style.display='block';this.style.display='none';\">Display W&B run</button><iframe src='https://wandb.ai/babycar27/wandb_sb3/runs/r6jyikun?jupyter=true' style='border:none;width:100%;height:420px;display:none;'></iframe>"
            ],
            "text/plain": [
              "<wandb.sdk.wandb_run.Run at 0x78662ee77a00>"
            ]
          },
          "execution_count": 17,
          "metadata": {},
          "output_type": "execute_result"
        }
      ],
      "source": [
        "import wandb\n",
        "from stable_baselines3.common.monitor import Monitor\n",
        "\n",
        "\n",
        "# Вход в систему (запустите это в Colab и следуйте инструкциям)\n",
        "!wandb login\n",
        "wandb.init(project=\"wandb_sb3\", entity='babycar27')"
      ]
    },
    {
      "cell_type": "code",
      "execution_count": null,
      "metadata": {
        "id": "exZYfknyBaIk"
      },
      "outputs": [],
      "source": [
        "from stable_baselines3.common.callbacks import BaseCallback\n",
        "import wandb\n",
        "\n",
        "class WandbCustomCallback(BaseCallback):\n",
        "    def __init__(self, verbose=0):\n",
        "        super(WandbCustomCallback, self).__init__(verbose)\n",
        "        # Инициализация счетчика шагов\n",
        "        # Инициализация wandb\n",
        "        self.step = 0\n",
        "\n",
        "    def _on_step(self) -> bool:\n",
        "        # Логирование метрик на каждом шаге\n",
        "        self.step += 1\n",
        "        # Получаем последние значения среды (награды, информацию и т.д.)\n",
        "        infos = self.locals[\"infos\"]\n",
        "\n",
        "        for info in infos:\n",
        "            if \"episode\" in info.keys():\n",
        "                # Логируем суммарную награду и длину эпизода\n",
        "                wandb.log({\"reward\": info[\"episode\"][\"r\"], \"length\": info[\"episode\"][\"l\"]}, step=self.step)\n",
        "\n",
        "        return True"
      ]
    },
    {
      "cell_type": "code",
      "execution_count": null,
      "metadata": {
        "colab": {
          "base_uri": "https://localhost:8080/"
        },
        "id": "5H6jGbw6COut",
        "outputId": "0baf3e6c-8e1e-4aea-b2a6-dbd254a7dff3"
      },
      "outputs": [
        {
          "name": "stdout",
          "output_type": "stream",
          "text": [
            "Using cuda device\n",
            "---------------------------------\n",
            "| rollout/           |          |\n",
            "|    ep_len_mean     | 24.3     |\n",
            "|    ep_rew_mean     | 24.3     |\n",
            "| time/              |          |\n",
            "|    fps             | 1479     |\n",
            "|    iterations      | 1        |\n",
            "|    time_elapsed    | 5        |\n",
            "|    total_timesteps | 8192     |\n",
            "---------------------------------\n",
            "-----------------------------------------\n",
            "| rollout/                |             |\n",
            "|    ep_len_mean          | 36.6        |\n",
            "|    ep_rew_mean          | 36.6        |\n",
            "| time/                   |             |\n",
            "|    fps                  | 990         |\n",
            "|    iterations           | 2           |\n",
            "|    time_elapsed         | 16          |\n",
            "|    total_timesteps      | 16384       |\n",
            "| train/                  |             |\n",
            "|    approx_kl            | 0.013796083 |\n",
            "|    clip_fraction        | 0.185       |\n",
            "|    clip_range           | 0.2         |\n",
            "|    entropy_loss         | -0.682      |\n",
            "|    explained_variance   | 0.001       |\n",
            "|    learning_rate        | 0.0003      |\n",
            "|    loss                 | 3.14        |\n",
            "|    n_updates            | 10          |\n",
            "|    policy_gradient_loss | -0.0227     |\n",
            "|    value_loss           | 20.9        |\n",
            "-----------------------------------------\n",
            "----------------------------------------\n",
            "| rollout/                |            |\n",
            "|    ep_len_mean          | 71.1       |\n",
            "|    ep_rew_mean          | 71.1       |\n",
            "| time/                   |            |\n",
            "|    fps                  | 903        |\n",
            "|    iterations           | 3          |\n",
            "|    time_elapsed         | 27         |\n",
            "|    total_timesteps      | 24576      |\n",
            "| train/                  |            |\n",
            "|    approx_kl            | 0.01624862 |\n",
            "|    clip_fraction        | 0.189      |\n",
            "|    clip_range           | 0.2        |\n",
            "|    entropy_loss         | -0.648     |\n",
            "|    explained_variance   | 0.411      |\n",
            "|    learning_rate        | 0.0003     |\n",
            "|    loss                 | 12.7       |\n",
            "|    n_updates            | 20         |\n",
            "|    policy_gradient_loss | -0.034     |\n",
            "|    value_loss           | 25.5       |\n",
            "----------------------------------------\n"
          ]
        },
        {
          "data": {
            "text/plain": [
              "<stable_baselines3.ppo.ppo.PPO at 0x78662e4c1420>"
            ]
          },
          "execution_count": 19,
          "metadata": {},
          "output_type": "execute_result"
        }
      ],
      "source": [
        "import wandb\n",
        "from stable_baselines3 import PPO\n",
        "from stable_baselines3.common.env_util import make_vec_env\n",
        "\n",
        "\n",
        "# Создание среды\n",
        "env = make_vec_env('CartPole-v1', n_envs=4)\n",
        "\n",
        "# Создание модели\n",
        "model = PPO(\"MlpPolicy\", env, verbose=1)\n",
        "\n",
        "# Обучение модели с WandbCustomCallback\n",
        "model.learn(total_timesteps=20000, callback=WandbCustomCallback())\n"
      ]
    },
    {
      "cell_type": "markdown",
      "metadata": {
        "id": "B6nvWFcTE_9F"
      },
      "source": [
        "### Сравнение обучений с wrapper'ами и без"
      ]
    },
    {
      "cell_type": "markdown",
      "metadata": {
        "id": "WrAVVwqaFkdJ"
      },
      "source": [
        "#### Обучение continious MountainCar /  discrete MountainCar"
      ]
    },
    {
      "cell_type": "code",
      "execution_count": null,
      "metadata": {
        "id": "1AodEsINHU4j"
      },
      "outputs": [],
      "source": [
        "import wandb\n",
        "from stable_baselines3 import PPO\n",
        "\n",
        "# Эксперимент 1: обучение с непрерывной областю действий\n",
        "\n",
        "#1 - инициализируйте wandb, c названием проекта MountainCar и group='MC-cont'\n",
        "\n",
        "#2 - инициализируйте среду 'MountainCarContinuous-v0' с помощью gym.make\n",
        "\n",
        "#3 - инициализируйте алгоритм PPO из sb3 с экодером MlpPolicy и параметром verbose=1, не забудьте передать ему env\n",
        "\n",
        "#4 - запустите обучение на 30000 шагах, передайте callback для логирования эксперимента"
      ]
    },
    {
      "cell_type": "code",
      "execution_count": null,
      "metadata": {
        "id": "px5nk4jQIoC3"
      },
      "outputs": [],
      "source": [
        "# Эксперимент 2: обучение с дискретной областью действий\n",
        "\n",
        "# Повторите шаги из эксперимента 1, добавив в env враппер дискретезирующий действия  и и group='MC-discrete'"
      ]
    },
    {
      "cell_type": "markdown",
      "metadata": {
        "id": "3oUseLb5LpiA"
      },
      "source": [
        "#### Обучение Atari / Atari with wrappers"
      ]
    },
    {
      "cell_type": "code",
      "execution_count": null,
      "metadata": {
        "id": "jmY2AsU2Jrkv"
      },
      "outputs": [],
      "source": [
        "import wandb\n",
        "from stable_baselines3 import PPO\n",
        "\n",
        "\n",
        "# Эксперимент 1: обучение с непрерывной областю действий\n",
        "\n",
        "#1 - инициализируйте wandb, c названием проекта Atari и group='no-wrappers'\n",
        "\n",
        "#2 - инициализируйте среду 'PongNoFrameskip-v4' с помощью gym.make\n",
        "\n",
        "#3 - инициализируйте алгоритм PPO из sb3 с экодером CnnPolicy и параметром verbose=1, не забудьте передать ему env\n",
        "\n",
        "#4 - запустите обучение на 50000 шагах, передайте callback для логирования эксперимента\n"
      ]
    },
    {
      "cell_type": "code",
      "execution_count": null,
      "metadata": {
        "id": "qQunvYvFOXVa"
      },
      "outputs": [],
      "source": [
        "\n",
        "# Эксперимент 2: обучение с непрерывной областю действий\n",
        "\n",
        "# Повторите шаги из эксперимента 1 добавив wrapper ResizeObservation и group='with-wrappers'\n",
        "\n",
        "\n",
        "\n"
      ]
    },
    {
      "cell_type": "code",
      "execution_count": null,
      "metadata": {
        "id": "9yCfSGicPnsM"
      },
      "outputs": [],
      "source": []
    }
  ],
  "metadata": {
    "accelerator": "GPU",
    "colab": {
      "gpuType": "T4",
      "provenance": []
    },
    "kernelspec": {
      "display_name": "Python 3",
      "name": "python3"
    },
    "language_info": {
      "codemirror_mode": {
        "name": "ipython",
        "version": 3
      },
      "file_extension": ".py",
      "mimetype": "text/x-python",
      "name": "python",
      "nbconvert_exporter": "python",
      "pygments_lexer": "ipython3",
      "version": "3.10.12"
    }
  },
  "nbformat": 4,
  "nbformat_minor": 0
}
