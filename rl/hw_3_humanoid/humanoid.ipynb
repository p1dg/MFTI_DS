{
 "cells": [
  {
   "cell_type": "code",
   "execution_count": 1,
   "metadata": {},
   "outputs": [],
   "source": [
    "# try:\n",
    "#     import google.colab\n",
    "\n",
    "#     COLAB = True\n",
    "# except ModuleNotFoundError:\n",
    "#     COLAB = False\n",
    "#     pass\n",
    "\n",
    "# if COLAB:\n",
    "#     !apt -qq update -y\n",
    "#     !apt -qq install swig -y\n",
    "#     !pip -q install box2d-py\n",
    "#     !pip -q install \"gymnasium[classic-control, box2d, atari, accept-rom-license, mujoco]\"\n",
    "#     !pip -q install piglet\n",
    "#     !pip -q install imageio_ffmpeg\n",
    "#     !pip -q install moviepy==1.0.3\n",
    "#     !pip -q install gymnasium[mujoco]t"
   ]
  },
  {
   "cell_type": "code",
   "execution_count": 2,
   "metadata": {},
   "outputs": [
    {
     "data": {
      "text/plain": [
       "device(type='cuda', index=0)"
      ]
     },
     "execution_count": 2,
     "metadata": {},
     "output_type": "execute_result"
    }
   ],
   "source": [
    "import torch\n",
    "import torch.nn as nn\n",
    "import torch.optim as optim\n",
    "import gymnasium as gym\n",
    "import numpy as np\n",
    "from tqdm import tqdm\n",
    "from collections import deque\n",
    "\n",
    "device = torch.device(\"cuda:0\" if torch.cuda.is_available() else \"cpu\")\n",
    "device"
   ]
  },
  {
   "cell_type": "code",
   "execution_count": 3,
   "metadata": {},
   "outputs": [],
   "source": [
    "lr_actor = 0.0003\n",
    "lr_critic = 0.0003\n",
    "Iter = 15000\n",
    "MAX_STEP = 10000\n",
    "gamma = 0.98\n",
    "lambd = 0.98\n",
    "batch_size = 64\n",
    "epsilon = 0.2\n",
    "l2_rate = 0.001\n",
    "beta = 3\n",
    "\n",
    "\n",
    "class Actor(nn.Module):\n",
    "    def __init__(self, N_S, N_A):\n",
    "        super(Actor, self).__init__()\n",
    "        self.fc1 = nn.Linear(N_S, 64)\n",
    "        self.fc2 = nn.Linear(64, 64)\n",
    "        self.sigma = nn.Linear(64, N_A)\n",
    "        self.mu = nn.Linear(64, N_A)\n",
    "        self.mu.weight.data.mul_(0.1)\n",
    "        self.mu.bias.data.mul_(0.0)\n",
    "        # self.set_init([self.fc1,self.fc2, self.mu, self.sigma])\n",
    "        self.distribution = torch.distributions.Normal\n",
    "\n",
    "    def set_init(self, layers):\n",
    "        for layer in layers:\n",
    "            nn.init.normal_(layer.weight, mean=0.0, std=0.1)\n",
    "            nn.init.constant_(layer.bias, 0.0)\n",
    "\n",
    "    def forward(self, s):\n",
    "        x = torch.tanh(self.fc1(s))\n",
    "        x = torch.tanh(self.fc2(x))\n",
    "\n",
    "        mu = self.mu(x)\n",
    "        log_sigma = self.sigma(x)\n",
    "        # log_sigma = torch.zeros_like(mu)\n",
    "        sigma = torch.exp(log_sigma)\n",
    "        return mu, sigma\n",
    "\n",
    "    def choose_action(self, s):\n",
    "        mu, sigma = self.forward(s)\n",
    "        Pi = self.distribution(mu, sigma)\n",
    "        return Pi.sample().cpu().numpy()\n",
    "\n",
    "\n",
    "class Critic(nn.Module):\n",
    "    def __init__(self, N_S):\n",
    "        super(Critic, self).__init__()\n",
    "        self.fc1 = nn.Linear(N_S, 64)\n",
    "        self.fc2 = nn.Linear(64, 64)\n",
    "        self.fc3 = nn.Linear(64, 1)\n",
    "        self.fc3.weight.data.mul_(0.1)\n",
    "        self.fc3.bias.data.mul_(0.0)\n",
    "        # self.set_init([self.fc1, self.fc2, self.fc2])\n",
    "\n",
    "    def set_init(self, layers):\n",
    "        for layer in layers:\n",
    "            nn.init.normal_(layer.weight, mean=0.0, std=0.1)\n",
    "            nn.init.constant_(layer.bias, 0.0)\n",
    "\n",
    "    def forward(self, s):\n",
    "        x = torch.tanh(self.fc1(s))\n",
    "        x = torch.tanh(self.fc2(x))\n",
    "        values = self.fc3(x)\n",
    "        return values\n",
    "\n",
    "\n",
    "class Ppo:\n",
    "    def __init__(self, N_S, N_A):\n",
    "        self.actor_net = Actor(N_S, N_A).to(device)\n",
    "        self.critic_net = Critic(N_S).to(device)\n",
    "        self.actor_optim = optim.Adam(self.actor_net.parameters(), lr=lr_actor)\n",
    "        self.critic_optim = optim.Adam(\n",
    "            self.critic_net.parameters(), lr=lr_critic, weight_decay=l2_rate\n",
    "        )\n",
    "        self.critic_loss_func = torch.nn.MSELoss()\n",
    "\n",
    "    def train(self, memory):\n",
    "        # memory = np.array(memory)\n",
    "        states = torch.tensor(\n",
    "            np.vstack(np.array([val[0] for val in memory])), dtype=torch.float32\n",
    "        ).to(device)\n",
    "\n",
    "        actions = torch.tensor(\n",
    "            np.array([val[1] for val in memory]), dtype=torch.float32\n",
    "        ).to(device)\n",
    "        rewards = torch.tensor(\n",
    "            np.array([val[2] for val in memory]), dtype=torch.float32\n",
    "        ).to(device)\n",
    "        masks = torch.tensor(\n",
    "            np.array([val[3] for val in memory]), dtype=torch.float32\n",
    "        ).to(device)\n",
    "\n",
    "        values = self.critic_net(states)\n",
    "\n",
    "        returns, advants = self.get_gae(rewards, masks, values)\n",
    "        old_mu, old_std = self.actor_net(states)\n",
    "        pi = self.actor_net.distribution(old_mu, old_std)\n",
    "\n",
    "        old_log_prob = pi.log_prob(actions).sum(1, keepdim=True)\n",
    "\n",
    "        n = len(states)\n",
    "        arr = np.arange(n)\n",
    "        for epoch in range(1):\n",
    "            np.random.shuffle(arr)\n",
    "            for i in range(n // batch_size):\n",
    "                b_index = arr[batch_size * i : batch_size * (i + 1)]\n",
    "                b_states = states[b_index]\n",
    "                b_advants = advants[b_index].unsqueeze(1)\n",
    "                b_actions = actions[b_index]\n",
    "                b_returns = returns[b_index].unsqueeze(1)\n",
    "\n",
    "                mu, std = self.actor_net(b_states)\n",
    "                pi = self.actor_net.distribution(mu, std)\n",
    "                new_prob = pi.log_prob(b_actions).sum(1, keepdim=True)\n",
    "                old_prob = old_log_prob[b_index].detach()\n",
    "                # KL_penalty = self.kl_divergence(old_mu[b_index],old_std[b_index],mu,std)\n",
    "                ratio = torch.exp(new_prob - old_prob)\n",
    "\n",
    "                surrogate_loss = ratio * b_advants\n",
    "                values = self.critic_net(b_states)\n",
    "\n",
    "                critic_loss = self.critic_loss_func(values, b_returns)\n",
    "\n",
    "                self.critic_optim.zero_grad()\n",
    "                critic_loss.backward()\n",
    "                self.critic_optim.step()\n",
    "\n",
    "                ratio = torch.clamp(ratio, 1.0 - epsilon, 1.0 + epsilon)\n",
    "\n",
    "                clipped_loss = ratio * b_advants\n",
    "\n",
    "                actor_loss = -torch.min(surrogate_loss, clipped_loss).mean()\n",
    "                # actor_loss = -(surrogate_loss-beta*KL_penalty).mean()\n",
    "\n",
    "                self.actor_optim.zero_grad()\n",
    "                actor_loss.backward()\n",
    "\n",
    "                self.actor_optim.step()\n",
    "\n",
    "    def kl_divergence(self, old_mu, old_sigma, mu, sigma):\n",
    "        old_mu = old_mu.detach()\n",
    "        old_sigma = old_sigma.detach()\n",
    "\n",
    "        kl = (\n",
    "            torch.log(old_sigma)\n",
    "            - torch.log(sigma)\n",
    "            + (old_sigma.pow(2) + (old_mu - mu).pow(2)) / (2.0 * sigma.pow(2))\n",
    "            - 0.5\n",
    "        )\n",
    "        return kl.sum(1, keepdim=True)\n",
    "\n",
    "    def get_gae(self, rewards, masks, values):\n",
    "        rewards = torch.Tensor(rewards)\n",
    "        masks = torch.Tensor(masks)\n",
    "        returns = torch.zeros_like(rewards)\n",
    "        advants = torch.zeros_like(rewards)\n",
    "        running_returns = 0\n",
    "        previous_value = 0\n",
    "        running_advants = 0\n",
    "\n",
    "        for t in reversed(range(0, len(rewards))):\n",
    "            running_returns = rewards[t] + gamma * running_returns * masks[t]\n",
    "            running_tderror = (\n",
    "                rewards[t] + gamma * previous_value * masks[t] - values.data[t]\n",
    "            )\n",
    "            running_advants = (\n",
    "                running_tderror + gamma * lambd * running_advants * masks[t]\n",
    "            )\n",
    "\n",
    "            returns[t] = running_returns\n",
    "            previous_value = values.data[t]\n",
    "            advants[t] = running_advants\n",
    "        advants = (advants - advants.mean()) / advants.std()\n",
    "        return returns, advants\n",
    "\n",
    "\n",
    "class Nomalize:\n",
    "    def __init__(self, N_S):\n",
    "        self.mean = np.zeros((N_S,))\n",
    "        self.std = np.zeros((N_S,))\n",
    "        self.stdd = np.zeros((N_S,))\n",
    "        self.n = 0\n",
    "\n",
    "    def __call__(self, x):\n",
    "        x = np.asarray(x)\n",
    "        self.n += 1\n",
    "        if self.n == 1:\n",
    "            self.mean = x\n",
    "        else:\n",
    "            old_mean = self.mean.copy()\n",
    "            self.mean = old_mean + (x - old_mean) / self.n\n",
    "            self.stdd = self.stdd + (x - old_mean) * (x - self.mean)\n",
    "        if self.n > 1:\n",
    "            self.std = np.sqrt(self.stdd / (self.n - 1))\n",
    "        else:\n",
    "            self.std = self.mean\n",
    "\n",
    "        x = x - self.mean\n",
    "        x = x / (self.std + 1e-8)\n",
    "        x = np.clip(x, -5, +5)\n",
    "\n",
    "        return x"
   ]
  },
  {
   "cell_type": "code",
   "execution_count": 4,
   "metadata": {},
   "outputs": [
    {
     "name": "stderr",
     "output_type": "stream",
     "text": [
      "  0%|          | 0/15000 [00:00<?, ?it/s]"
     ]
    },
    {
     "name": "stdout",
     "output_type": "stream",
     "text": [
      "94 episode score is 71.32\n"
     ]
    },
    {
     "name": "stderr",
     "output_type": "stream",
     "text": [
      "  0%|          | 1/15000 [00:03<15:39:17,  3.76s/it]"
     ]
    },
    {
     "name": "stdout",
     "output_type": "stream",
     "text": [
      "187 episode score is 72.08\n"
     ]
    },
    {
     "name": "stderr",
     "output_type": "stream",
     "text": [
      "  0%|          | 2/15000 [00:06<13:14:30,  3.18s/it]"
     ]
    },
    {
     "name": "stdout",
     "output_type": "stream",
     "text": [
      "281 episode score is 71.93\n"
     ]
    },
    {
     "name": "stderr",
     "output_type": "stream",
     "text": [
      "  0%|          | 3/15000 [00:09<12:14:22,  2.94s/it]"
     ]
    },
    {
     "name": "stdout",
     "output_type": "stream",
     "text": [
      "373 episode score is 73.97\n"
     ]
    },
    {
     "name": "stderr",
     "output_type": "stream",
     "text": [
      "  0%|          | 4/15000 [00:11<11:57:04,  2.87s/it]"
     ]
    },
    {
     "name": "stdout",
     "output_type": "stream",
     "text": [
      "464 episode score is 75.56\n"
     ]
    },
    {
     "name": "stderr",
     "output_type": "stream",
     "text": [
      "  0%|          | 5/15000 [00:14<11:37:09,  2.79s/it]"
     ]
    },
    {
     "name": "stdout",
     "output_type": "stream",
     "text": [
      "551 episode score is 79.39\n"
     ]
    },
    {
     "name": "stderr",
     "output_type": "stream",
     "text": [
      "  0%|          | 6/15000 [00:17<11:29:14,  2.76s/it]"
     ]
    },
    {
     "name": "stdout",
     "output_type": "stream",
     "text": [
      "638 episode score is 79.94\n"
     ]
    },
    {
     "name": "stderr",
     "output_type": "stream",
     "text": [
      "  0%|          | 7/15000 [00:19<11:18:46,  2.72s/it]"
     ]
    },
    {
     "name": "stdout",
     "output_type": "stream",
     "text": [
      "721 episode score is 84.10\n"
     ]
    },
    {
     "name": "stderr",
     "output_type": "stream",
     "text": [
      "  0%|          | 8/15000 [00:22<11:11:20,  2.69s/it]"
     ]
    },
    {
     "name": "stdout",
     "output_type": "stream",
     "text": [
      "801 episode score is 88.49\n"
     ]
    },
    {
     "name": "stderr",
     "output_type": "stream",
     "text": [
      "  0%|          | 9/15000 [00:25<11:00:33,  2.64s/it]"
     ]
    },
    {
     "name": "stdout",
     "output_type": "stream",
     "text": [
      "875 episode score is 95.38\n"
     ]
    },
    {
     "name": "stderr",
     "output_type": "stream",
     "text": [
      "  0%|          | 10/15000 [00:27<11:11:22,  2.69s/it]"
     ]
    },
    {
     "name": "stdout",
     "output_type": "stream",
     "text": [
      "953 episode score is 91.22\n"
     ]
    },
    {
     "name": "stderr",
     "output_type": "stream",
     "text": [
      "  0%|          | 10/15000 [00:30<12:43:45,  3.06s/it]\n"
     ]
    },
    {
     "ename": "KeyboardInterrupt",
     "evalue": "",
     "output_type": "error",
     "traceback": [
      "\u001b[0;31m---------------------------------------------------------------------------\u001b[0m",
      "\u001b[0;31mKeyboardInterrupt\u001b[0m                         Traceback (most recent call last)",
      "Cell \u001b[0;32mIn[4], line 41\u001b[0m\n\u001b[1;32m     39\u001b[0m scores_total\u001b[38;5;241m.\u001b[39mappend(score_avg)\n\u001b[1;32m     40\u001b[0m \u001b[38;5;28mprint\u001b[39m(\u001b[38;5;124m\"\u001b[39m\u001b[38;5;132;01m{}\u001b[39;00m\u001b[38;5;124m episode score is \u001b[39m\u001b[38;5;132;01m{:.2f}\u001b[39;00m\u001b[38;5;124m\"\u001b[39m\u001b[38;5;241m.\u001b[39mformat(episodes, score_avg))\n\u001b[0;32m---> 41\u001b[0m \u001b[43mppo\u001b[49m\u001b[38;5;241;43m.\u001b[39;49m\u001b[43mtrain\u001b[49m\u001b[43m(\u001b[49m\u001b[43mmemory\u001b[49m\u001b[43m)\u001b[49m\n",
      "Cell \u001b[0;32mIn[3], line 137\u001b[0m, in \u001b[0;36mPpo.train\u001b[0;34m(self, memory)\u001b[0m\n\u001b[1;32m    134\u001b[0m \u001b[38;5;66;03m# actor_loss = -(surrogate_loss-beta*KL_penalty).mean()\u001b[39;00m\n\u001b[1;32m    136\u001b[0m \u001b[38;5;28mself\u001b[39m\u001b[38;5;241m.\u001b[39mactor_optim\u001b[38;5;241m.\u001b[39mzero_grad()\n\u001b[0;32m--> 137\u001b[0m \u001b[43mactor_loss\u001b[49m\u001b[38;5;241;43m.\u001b[39;49m\u001b[43mbackward\u001b[49m\u001b[43m(\u001b[49m\u001b[43m)\u001b[49m\n\u001b[1;32m    139\u001b[0m \u001b[38;5;28mself\u001b[39m\u001b[38;5;241m.\u001b[39mactor_optim\u001b[38;5;241m.\u001b[39mstep()\n",
      "File \u001b[0;32m~/.local/lib/python3.10/site-packages/torch/_tensor.py:492\u001b[0m, in \u001b[0;36mTensor.backward\u001b[0;34m(self, gradient, retain_graph, create_graph, inputs)\u001b[0m\n\u001b[1;32m    482\u001b[0m \u001b[38;5;28;01mif\u001b[39;00m has_torch_function_unary(\u001b[38;5;28mself\u001b[39m):\n\u001b[1;32m    483\u001b[0m     \u001b[38;5;28;01mreturn\u001b[39;00m handle_torch_function(\n\u001b[1;32m    484\u001b[0m         Tensor\u001b[38;5;241m.\u001b[39mbackward,\n\u001b[1;32m    485\u001b[0m         (\u001b[38;5;28mself\u001b[39m,),\n\u001b[0;32m   (...)\u001b[0m\n\u001b[1;32m    490\u001b[0m         inputs\u001b[38;5;241m=\u001b[39minputs,\n\u001b[1;32m    491\u001b[0m     )\n\u001b[0;32m--> 492\u001b[0m \u001b[43mtorch\u001b[49m\u001b[38;5;241;43m.\u001b[39;49m\u001b[43mautograd\u001b[49m\u001b[38;5;241;43m.\u001b[39;49m\u001b[43mbackward\u001b[49m\u001b[43m(\u001b[49m\n\u001b[1;32m    493\u001b[0m \u001b[43m    \u001b[49m\u001b[38;5;28;43mself\u001b[39;49m\u001b[43m,\u001b[49m\u001b[43m \u001b[49m\u001b[43mgradient\u001b[49m\u001b[43m,\u001b[49m\u001b[43m \u001b[49m\u001b[43mretain_graph\u001b[49m\u001b[43m,\u001b[49m\u001b[43m \u001b[49m\u001b[43mcreate_graph\u001b[49m\u001b[43m,\u001b[49m\u001b[43m \u001b[49m\u001b[43minputs\u001b[49m\u001b[38;5;241;43m=\u001b[39;49m\u001b[43minputs\u001b[49m\n\u001b[1;32m    494\u001b[0m \u001b[43m\u001b[49m\u001b[43m)\u001b[49m\n",
      "File \u001b[0;32m~/.local/lib/python3.10/site-packages/torch/autograd/__init__.py:251\u001b[0m, in \u001b[0;36mbackward\u001b[0;34m(tensors, grad_tensors, retain_graph, create_graph, grad_variables, inputs)\u001b[0m\n\u001b[1;32m    246\u001b[0m     retain_graph \u001b[38;5;241m=\u001b[39m create_graph\n\u001b[1;32m    248\u001b[0m \u001b[38;5;66;03m# The reason we repeat the same comment below is that\u001b[39;00m\n\u001b[1;32m    249\u001b[0m \u001b[38;5;66;03m# some Python versions print out the first line of a multi-line function\u001b[39;00m\n\u001b[1;32m    250\u001b[0m \u001b[38;5;66;03m# calls in the traceback and some print out the last line\u001b[39;00m\n\u001b[0;32m--> 251\u001b[0m \u001b[43mVariable\u001b[49m\u001b[38;5;241;43m.\u001b[39;49m\u001b[43m_execution_engine\u001b[49m\u001b[38;5;241;43m.\u001b[39;49m\u001b[43mrun_backward\u001b[49m\u001b[43m(\u001b[49m\u001b[43m  \u001b[49m\u001b[38;5;66;43;03m# Calls into the C++ engine to run the backward pass\u001b[39;49;00m\n\u001b[1;32m    252\u001b[0m \u001b[43m    \u001b[49m\u001b[43mtensors\u001b[49m\u001b[43m,\u001b[49m\n\u001b[1;32m    253\u001b[0m \u001b[43m    \u001b[49m\u001b[43mgrad_tensors_\u001b[49m\u001b[43m,\u001b[49m\n\u001b[1;32m    254\u001b[0m \u001b[43m    \u001b[49m\u001b[43mretain_graph\u001b[49m\u001b[43m,\u001b[49m\n\u001b[1;32m    255\u001b[0m \u001b[43m    \u001b[49m\u001b[43mcreate_graph\u001b[49m\u001b[43m,\u001b[49m\n\u001b[1;32m    256\u001b[0m \u001b[43m    \u001b[49m\u001b[43minputs\u001b[49m\u001b[43m,\u001b[49m\n\u001b[1;32m    257\u001b[0m \u001b[43m    \u001b[49m\u001b[43mallow_unreachable\u001b[49m\u001b[38;5;241;43m=\u001b[39;49m\u001b[38;5;28;43;01mTrue\u001b[39;49;00m\u001b[43m,\u001b[49m\n\u001b[1;32m    258\u001b[0m \u001b[43m    \u001b[49m\u001b[43maccumulate_grad\u001b[49m\u001b[38;5;241;43m=\u001b[39;49m\u001b[38;5;28;43;01mTrue\u001b[39;49;00m\u001b[43m,\u001b[49m\n\u001b[1;32m    259\u001b[0m \u001b[43m\u001b[49m\u001b[43m)\u001b[49m\n",
      "\u001b[0;31mKeyboardInterrupt\u001b[0m: "
     ]
    }
   ],
   "source": [
    "env = gym.make(\"Humanoid-v4\")\n",
    "N_S = env.observation_space.shape[0]\n",
    "N_A = env.action_space.shape[0]\n",
    "# env.seed(500)\n",
    "torch.manual_seed(500)\n",
    "np.random.seed(500)\n",
    "\n",
    "ppo = Ppo(N_S, N_A)\n",
    "nomalize = Nomalize(N_S)\n",
    "episodes = 0\n",
    "eva_episodes = 0\n",
    "scores_total = list()\n",
    "for iter in tqdm(range(Iter)):\n",
    "    memory = deque()\n",
    "    scores = []\n",
    "    steps = 0\n",
    "    while steps < 2048:\n",
    "        episodes += 1\n",
    "        s = nomalize(env.reset()[0])\n",
    "        score = 0\n",
    "        for _ in range(MAX_STEP):\n",
    "            steps += 1\n",
    "            a = ppo.actor_net.choose_action(\n",
    "                torch.from_numpy(np.array(s).astype(np.float32)).unsqueeze(0).to(device)\n",
    "            )[0]\n",
    "            s_, r, terminated, truncated, info = env.step(a)\n",
    "            done = terminated or truncated\n",
    "            s_ = nomalize(s_)\n",
    "\n",
    "            mask = (1 - done) * 1\n",
    "            memory.append([s, a, r, mask])\n",
    "\n",
    "            score += r\n",
    "            s = s_\n",
    "            if done:\n",
    "                break\n",
    "        scores.append(score)\n",
    "    score_avg = np.mean(scores)\n",
    "    scores_total.append(score_avg)\n",
    "    print(\"{} episode score is {:.2f}\".format(episodes, score_avg))\n",
    "    ppo.train(memory)"
   ]
  },
  {
   "cell_type": "code",
   "execution_count": 5,
   "metadata": {},
   "outputs": [
    {
     "data": {
      "text/plain": [
       "Text(0.5, 1.0, 'scores_total')"
      ]
     },
     "execution_count": 5,
     "metadata": {},
     "output_type": "execute_result"
    },
    {
     "data": {
      "image/png": "[encoded data removed]",
      "text/plain": [
       "<Figure size 640x480 with 1 Axes>"
      ]
     },
     "metadata": {},
     "output_type": "display_data"
    }
   ],
   "source": [
    "import seaborn as sns\n",
    "import matplotlib.pyplot as plt\n",
    "\n",
    "sns.lineplot(scores_total)\n",
    "plt.title(\"scores_total\")"
   ]
  },
  {
   "cell_type": "code",
   "execution_count": 14,
   "metadata": {},
   "outputs": [],
   "source": [
    "torch.save(ppo.actor_net.state_dict(), \"actor_net.pth\")\n",
    "torch.save(ppo.critic_net.state_dict(), \"critic_net.pth\")"
   ]
  }
 ],
 "metadata": {
  "kernelspec": {
   "display_name": "Python 3",
   "language": "python",
   "name": "python3"
  },
  "language_info": {
   "codemirror_mode": {
    "name": "ipython",
    "version": 3
   },
   "file_extension": ".py",
   "mimetype": "text/x-python",
   "name": "python",
   "nbconvert_exporter": "python",
   "pygments_lexer": "ipython3",
   "version": "3.10.12"
  }
 },
 "nbformat": 4,
 "nbformat_minor": 2
}
