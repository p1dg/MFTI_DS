{
 "cells": [
  {
   "cell_type": "code",
   "execution_count": 10,
   "metadata": {},
   "outputs": [],
   "source": [
    "# table https://colab.research.google.com/drive/1LO7mJBnkccfwlKUFX17rJONbf_tUEukC?usp=sharing\n",
    "# game Pong 18.9 (1.3)"
   ]
  },
  {
   "cell_type": "code",
   "execution_count": 11,
   "metadata": {},
   "outputs": [],
   "source": [
    "import gymnasium as gym\n",
    "import numpy as np\n",
    "import pandas as pd\n",
    "import matplotlib.pyplot as plt\n",
    "import torch\n",
    "import torch.nn as nn\n",
    "from collections import deque\n",
    "from utils import DQNbn, DQN, make_env, ReplayMemory, train\n",
    "\n",
    "%matplotlib inline"
   ]
  },
  {
   "cell_type": "code",
   "execution_count": 12,
   "metadata": {},
   "outputs": [],
   "source": [
    "env = gym.make(\"BreakoutNoFrameskip-v4\")"
   ]
  },
  {
   "cell_type": "code",
   "execution_count": 13,
   "metadata": {},
   "outputs": [
    {
     "data": {
      "image/png": "[encoded data removed]",
      "text/plain": [
       "<Figure size 640x480 with 1 Axes>"
      ]
     },
     "metadata": {},
     "output_type": "display_data"
    }
   ],
   "source": [
    "plt.imshow(env.reset()[0])\n",
    "plt.axis(\"off\")  # Убрать оси координат\n",
    "plt.show()"
   ]
  },
  {
   "cell_type": "code",
   "execution_count": 14,
   "metadata": {},
   "outputs": [
    {
     "name": "stdout",
     "output_type": "stream",
     "text": [
      "Action_space: 4 \n",
      "State_space: (210, 160, 3)\n"
     ]
    }
   ],
   "source": [
    "env.reset()\n",
    "\n",
    "n_actions = env.action_space.n\n",
    "state_dim = env.observation_space.shape\n",
    "\n",
    "print(f\"Action_space: {n_actions} \\nState_space: {env.observation_space.shape}\")\n",
    "\n",
    "env.close()"
   ]
  },
  {
   "cell_type": "code",
   "execution_count": 15,
   "metadata": {},
   "outputs": [
    {
     "data": {
      "text/plain": [
       "device(type='cuda')"
      ]
     },
     "execution_count": 15,
     "metadata": {},
     "output_type": "execute_result"
    }
   ],
   "source": [
    "device = torch.device(\"cuda\" if torch.cuda.is_available() else \"cpu\")\n",
    "device"
   ]
  },
  {
   "cell_type": "code",
   "execution_count": 16,
   "metadata": {},
   "outputs": [],
   "source": [
    "BATCH_SIZE = 32\n",
    "GAMMA = 0.99\n",
    "EPS_START = 1\n",
    "EPS_END = 0.02\n",
    "EPS_DECAY = 100000\n",
    "TARGET_UPDATE = 500\n",
    "RENDER = False\n",
    "lr = 1e-4\n",
    "INITIAL_MEMORY = 1_000\n",
    "MEMORY_SIZE = 100 * INITIAL_MEMORY"
   ]
  },
  {
   "cell_type": "code",
   "execution_count": 17,
   "metadata": {},
   "outputs": [],
   "source": [
    "policy_net = DQNbn(n_actions=4).to(device)  # убираем действия с FIRE\n",
    "target_net = DQNbn(n_actions=4).to(device)\n",
    "# policy_net = DQN(n_actions=4, in_channels=4).to(device)  # убираем действия с FIRE\n",
    "# target_net = DQN(n_actions=4, in_channels=4).to(device)\n",
    "target_net.load_state_dict(policy_net.state_dict())\n",
    "\n",
    "optimizer = torch.optim.Adam(policy_net.parameters(), lr=lr)\n",
    "\n",
    "steps_done = 0\n",
    "\n",
    "# create environment\n",
    "env = gym.make(\"BreakoutNoFrameskip-v4\")\n",
    "env = make_env(env)\n",
    "\n",
    "memory = ReplayMemory(MEMORY_SIZE)"
   ]
  },
  {
   "cell_type": "code",
   "execution_count": 18,
   "metadata": {},
   "outputs": [
    {
     "name": "stderr",
     "output_type": "stream",
     "text": [
      "  0%|          | 41/10000 [00:09<1:37:32,  1.70it/s]"
     ]
    },
    {
     "name": "stdout",
     "output_type": "stream",
     "text": [
      "Total steps: 1501 \t Episode: 40/68 \t Total reward episode: 1.0 Total loss: 0.23304118821397424 \t Avg_10 loss: 0.21823484550986905 \t Avg_10 total_reward: 0.7  \t eps_threshold: 0.9854000467622636\n"
     ]
    },
    {
     "name": "stderr",
     "output_type": "stream",
     "text": [
      "  1%|          | 51/10000 [00:14<2:23:16,  1.16it/s]"
     ]
    },
    {
     "name": "stdout",
     "output_type": "stream",
     "text": [
      "Total steps: 1901 \t Episode: 50/69 \t Total reward episode: 1.0 Total loss: 0.2776416057604365 \t Avg_10 loss: 0.12815847173333167 \t Avg_10 total_reward: 0.4  \t eps_threshold: 0.9815461594882775\n"
     ]
    },
    {
     "name": "stderr",
     "output_type": "stream",
     "text": [
      "  1%|          | 61/10000 [00:19<1:38:45,  1.68it/s]"
     ]
    },
    {
     "name": "stdout",
     "output_type": "stream",
     "text": [
      "Total steps: 2206 \t Episode: 60/22 \t Total reward episode: 0.0 Total loss: 0.08198678499320522 \t Avg_10 loss: 0.1091487627796596 \t Avg_10 total_reward: 0.2  \t eps_threshold: 0.9786179115499462\n"
     ]
    },
    {
     "name": "stderr",
     "output_type": "stream",
     "text": [
      "  1%|          | 71/10000 [00:23<1:00:32,  2.73it/s]"
     ]
    },
    {
     "name": "stdout",
     "output_type": "stream",
     "text": [
      "Total steps: 2436 \t Episode: 70/22 \t Total reward episode: 0.0 Total loss: 0.029251457657665014 \t Avg_10 loss: 0.05368737570242956 \t Avg_10 total_reward: 0.0  \t eps_threshold: 0.9764156239549571\n"
     ]
    },
    {
     "name": "stderr",
     "output_type": "stream",
     "text": [
      "  1%|          | 81/10000 [00:27<1:06:21,  2.49it/s]"
     ]
    },
    {
     "name": "stdout",
     "output_type": "stream",
     "text": [
      "Total steps: 2742 \t Episode: 80/22 \t Total reward episode: 0.0 Total loss: 0.08106309687718749 \t Avg_10 loss: 0.13399418249027803 \t Avg_10 total_reward: 0.2  \t eps_threshold: 0.9734934653285134\n"
     ]
    },
    {
     "name": "stderr",
     "output_type": "stream",
     "text": [
      "  1%|          | 91/10000 [00:31<56:54,  2.90it/s]  "
     ]
    },
    {
     "name": "stdout",
     "output_type": "stream",
     "text": [
      "Total steps: 2972 \t Episode: 90/22 \t Total reward episode: 0.0 Total loss: 0.04149386385688558 \t Avg_10 loss: 0.05087822318891995 \t Avg_10 total_reward: 0.0  \t eps_threshold: 0.9713029504160592\n"
     ]
    },
    {
     "name": "stderr",
     "output_type": "stream",
     "text": [
      "  1%|          | 101/10000 [00:37<1:45:53,  1.56it/s]"
     ]
    },
    {
     "name": "stdout",
     "output_type": "stream",
     "text": [
      "Total steps: 3352 \t Episode: 100/22 \t Total reward episode: 0.0 Total loss: 0.05385540518909693 \t Avg_10 loss: 0.1390714163077064 \t Avg_10 total_reward: 0.4  \t eps_threshold: 0.9676948589200561\n"
     ]
    },
    {
     "name": "stderr",
     "output_type": "stream",
     "text": [
      "  1%|          | 111/10000 [00:41<1:02:53,  2.62it/s]"
     ]
    },
    {
     "name": "stdout",
     "output_type": "stream",
     "text": [
      "Total steps: 3628 \t Episode: 110/22 \t Total reward episode: 0.0 Total loss: 0.0603819481912069 \t Avg_10 loss: 0.07477840731735341 \t Avg_10 total_reward: 0.1  \t eps_threshold: 0.9650828273710919\n"
     ]
    },
    {
     "name": "stderr",
     "output_type": "stream",
     "text": [
      "  1%|          | 121/10000 [00:47<1:54:36,  1.44it/s]"
     ]
    },
    {
     "name": "stdout",
     "output_type": "stream",
     "text": [
      "Total steps: 3997 \t Episode: 120/22 \t Total reward episode: 0.0 Total loss: 0.03999471239512786 \t Avg_10 loss: 0.09292076898855157 \t Avg_10 total_reward: 0.3  \t eps_threshold: 0.9616018980025002\n"
     ]
    },
    {
     "name": "stderr",
     "output_type": "stream",
     "text": [
      "  1%|▏         | 131/10000 [00:50<1:00:41,  2.71it/s]"
     ]
    },
    {
     "name": "stdout",
     "output_type": "stream",
     "text": [
      "Total steps: 4227 \t Episode: 130/22 \t Total reward episode: 0.0 Total loss: 0.060075305111240596 \t Avg_10 loss: 0.08070180224603973 \t Avg_10 total_reward: 0.0  \t eps_threshold: 0.9594387022658004\n"
     ]
    },
    {
     "name": "stderr",
     "output_type": "stream",
     "text": [
      "  1%|▏         | 141/10000 [00:54<1:24:56,  1.93it/s]"
     ]
    },
    {
     "name": "stdout",
     "output_type": "stream",
     "text": [
      "Total steps: 4506 \t Episode: 140/71 \t Total reward episode: 1.0 Total loss: 0.16380919190123677 \t Avg_10 loss: 0.054028967110207306 \t Avg_10 total_reward: 0.1  \t eps_threshold: 0.956821321230852\n"
     ]
    },
    {
     "name": "stderr",
     "output_type": "stream",
     "text": [
      "  2%|▏         | 151/10000 [01:00<2:16:16,  1.20it/s]"
     ]
    },
    {
     "name": "stdout",
     "output_type": "stream",
     "text": [
      "Total steps: 4906 \t Episode: 150/97 \t Total reward episode: 2.0 Total loss: 0.21718292869627476 \t Avg_10 loss: 0.1151949429360684 \t Avg_10 total_reward: 0.4  \t eps_threshold: 0.9530815205337224\n"
     ]
    },
    {
     "name": "stderr",
     "output_type": "stream",
     "text": [
      "  2%|▏         | 161/10000 [01:06<1:22:47,  1.98it/s]"
     ]
    },
    {
     "name": "stdout",
     "output_type": "stream",
     "text": [
      "Total steps: 5272 \t Episode: 160/22 \t Total reward episode: 0.0 Total loss: 0.06165354454424232 \t Avg_10 loss: 0.12036111106863245 \t Avg_10 total_reward: 0.4  \t eps_threshold: 0.9496726841444445\n"
     ]
    },
    {
     "name": "stderr",
     "output_type": "stream",
     "text": [
      "  2%|▏         | 171/10000 [01:12<1:29:49,  1.82it/s]"
     ]
    },
    {
     "name": "stdout",
     "output_type": "stream",
     "text": [
      "Total steps: 5653 \t Episode: 170/50 \t Total reward episode: 1.0 Total loss: 0.16906358546111733 \t Avg_10 loss: 0.13139980423729866 \t Avg_10 total_reward: 0.4  \t eps_threshold: 0.9461373702673698\n"
     ]
    },
    {
     "name": "stderr",
     "output_type": "stream",
     "text": [
      "  2%|▏         | 181/10000 [01:20<1:47:55,  1.52it/s]"
     ]
    },
    {
     "name": "stdout",
     "output_type": "stream",
     "text": [
      "Total steps: 6173 \t Episode: 180/22 \t Total reward episode: 0.0 Total loss: 0.0663340340834111 \t Avg_10 loss: 0.17773335966048762 \t Avg_10 total_reward: 0.9  \t eps_threshold: 0.9413339556436905\n"
     ]
    },
    {
     "name": "stderr",
     "output_type": "stream",
     "text": [
      "  2%|▏         | 191/10000 [01:28<2:02:27,  1.33it/s]"
     ]
    },
    {
     "name": "stdout",
     "output_type": "stream",
     "text": [
      "Total steps: 6690 \t Episode: 190/22 \t Total reward episode: 0.0 Total loss: 0.09037628723308444 \t Avg_10 loss: 0.18691565478802658 \t Avg_10 total_reward: 0.7  \t eps_threshold: 0.9365829510223812\n"
     ]
    },
    {
     "name": "stderr",
     "output_type": "stream",
     "text": [
      "  2%|▏         | 201/10000 [01:33<1:11:34,  2.28it/s]"
     ]
    },
    {
     "name": "stdout",
     "output_type": "stream",
     "text": [
      "Total steps: 6996 \t Episode: 200/22 \t Total reward episode: 0.0 Total loss: 0.052021723124198616 \t Avg_10 loss: 0.10465569531661459 \t Avg_10 total_reward: 0.2  \t eps_threshold: 0.9337824940765761\n"
     ]
    },
    {
     "name": "stderr",
     "output_type": "stream",
     "text": [
      "  2%|▏         | 211/10000 [01:41<2:45:36,  1.02s/it]"
     ]
    },
    {
     "name": "stdout",
     "output_type": "stream",
     "text": [
      "Total steps: 7560 \t Episode: 210/118 \t Total reward episode: 2.0 Total loss: 0.5115881533129141 \t Avg_10 loss: 0.23671840201714076 \t Avg_10 total_reward: 0.7  \t eps_threshold: 0.9286432670532457\n"
     ]
    },
    {
     "name": "stderr",
     "output_type": "stream",
     "text": [
      "  2%|▏         | 221/10000 [01:45<1:07:40,  2.41it/s]"
     ]
    },
    {
     "name": "stdout",
     "output_type": "stream",
     "text": [
      "Total steps: 7846 \t Episode: 220/22 \t Total reward episode: 0.0 Total loss: 0.07610729127191007 \t Avg_10 loss: 0.12755863896454683 \t Avg_10 total_reward: 0.2  \t eps_threshold: 0.9260482599384907\n"
     ]
    },
    {
     "name": "stderr",
     "output_type": "stream",
     "text": [
      "  2%|▏         | 231/10000 [01:49<1:03:42,  2.56it/s]"
     ]
    },
    {
     "name": "stdout",
     "output_type": "stream",
     "text": [
      "Total steps: 8122 \t Episode: 230/22 \t Total reward episode: 0.0 Total loss: 0.11451432085596025 \t Avg_10 loss: 0.10929812454851344 \t Avg_10 total_reward: 0.1  \t eps_threshold: 0.9235510145249823\n"
     ]
    },
    {
     "name": "stderr",
     "output_type": "stream",
     "text": [
      "  2%|▏         | 241/10000 [01:55<1:37:43,  1.66it/s]"
     ]
    },
    {
     "name": "stdout",
     "output_type": "stream",
     "text": [
      "Total steps: 8525 \t Episode: 240/22 \t Total reward episode: 0.0 Total loss: 0.13299121661111712 \t Avg_10 loss: 0.1908195413881913 \t Avg_10 total_reward: 0.4  \t eps_threshold: 0.9199170313308446\n"
     ]
    },
    {
     "name": "stderr",
     "output_type": "stream",
     "text": [
      "  3%|▎         | 251/10000 [01:59<1:01:58,  2.62it/s]"
     ]
    },
    {
     "name": "stdout",
     "output_type": "stream",
     "text": [
      "Total steps: 8783 \t Episode: 250/22 \t Total reward episode: 0.0 Total loss: 0.10682803636882454 \t Avg_10 loss: 0.11999098525266164 \t Avg_10 total_reward: 0.1  \t eps_threshold: 0.9175982379197459\n"
     ]
    },
    {
     "name": "stderr",
     "output_type": "stream",
     "text": [
      "  3%|▎         | 261/10000 [02:06<1:40:11,  1.62it/s]"
     ]
    },
    {
     "name": "stdout",
     "output_type": "stream",
     "text": [
      "Total steps: 9201 \t Episode: 260/22 \t Total reward episode: 0.0 Total loss: 0.1278082758653909 \t Avg_10 loss: 0.18643810474313796 \t Avg_10 total_reward: 0.4  \t eps_threshold: 0.913854107968416\n"
     ]
    },
    {
     "name": "stderr",
     "output_type": "stream",
     "text": [
      "  3%|▎         | 271/10000 [02:11<1:32:54,  1.75it/s]"
     ]
    },
    {
     "name": "stdout",
     "output_type": "stream",
     "text": [
      "Total steps: 9580 \t Episode: 270/22 \t Total reward episode: 0.0 Total loss: 0.10132686886936426 \t Avg_10 loss: 0.16834456486394628 \t Avg_10 total_reward: 0.4  \t eps_threshold: 0.9104728125015633\n"
     ]
    },
    {
     "name": "stderr",
     "output_type": "stream",
     "text": [
      "  3%|▎         | 281/10000 [02:16<1:22:07,  1.97it/s]"
     ]
    },
    {
     "name": "stdout",
     "output_type": "stream",
     "text": [
      "Total steps: 9902 \t Episode: 280/22 \t Total reward episode: 0.0 Total loss: 0.07377137348521501 \t Avg_10 loss: 0.11452335410285741 \t Avg_10 total_reward: 0.2  \t eps_threshold: 0.9076101014835246\n"
     ]
    },
    {
     "name": "stderr",
     "output_type": "stream",
     "text": [
      "  3%|▎         | 291/10000 [02:19<56:45,  2.85it/s]  "
     ]
    },
    {
     "name": "stdout",
     "output_type": "stream",
     "text": [
      "Total steps: 10132 \t Episode: 290/22 \t Total reward episode: 0.0 Total loss: 0.11579415760934353 \t Avg_10 loss: 0.10522930751321838 \t Avg_10 total_reward: 0.0  \t eps_threshold: 0.9055709441799401\n"
     ]
    },
    {
     "name": "stderr",
     "output_type": "stream",
     "text": [
      "  3%|▎         | 301/10000 [02:23<1:17:03,  2.10it/s]"
     ]
    },
    {
     "name": "stdout",
     "output_type": "stream",
     "text": [
      "Total steps: 10390 \t Episode: 300/50 \t Total reward episode: 1.0 Total loss: 0.17262358544394374 \t Avg_10 loss: 0.11174560512881726 \t Avg_10 total_reward: 0.1  \t eps_threshold: 0.9032891159680791\n"
     ]
    },
    {
     "name": "stderr",
     "output_type": "stream",
     "text": [
      "  3%|▎         | 311/10000 [02:29<1:57:56,  1.37it/s]"
     ]
    },
    {
     "name": "stdout",
     "output_type": "stream",
     "text": [
      "Total steps: 10771 \t Episode: 310/99 \t Total reward episode: 2.0 Total loss: 0.47132476314436644 \t Avg_10 loss: 0.19262316253734751 \t Avg_10 total_reward: 0.4  \t eps_threshold: 0.8999301872586433\n"
     ]
    },
    {
     "name": "stderr",
     "output_type": "stream",
     "text": [
      "  3%|▎         | 321/10000 [02:34<58:35,  2.75it/s]  "
     ]
    },
    {
     "name": "stdout",
     "output_type": "stream",
     "text": [
      "Total steps: 11076 \t Episode: 320/22 \t Total reward episode: 0.0 Total loss: 0.1481720192823559 \t Avg_10 loss: 0.1643429267918691 \t Avg_10 total_reward: 0.2  \t eps_threshold: 0.8972504888049705\n"
     ]
    },
    {
     "name": "stderr",
     "output_type": "stream",
     "text": [
      "  3%|▎         | 331/10000 [02:37<1:00:02,  2.68it/s]"
     ]
    },
    {
     "name": "stdout",
     "output_type": "stream",
     "text": [
      "Total steps: 11334 \t Episode: 330/22 \t Total reward episode: 0.0 Total loss: 0.07660316186957061 \t Avg_10 loss: 0.11850254950113595 \t Avg_10 total_reward: 0.1  \t eps_threshold: 0.8949900996996373\n"
     ]
    },
    {
     "name": "stderr",
     "output_type": "stream",
     "text": [
      "  3%|▎         | 341/10000 [02:42<1:08:43,  2.34it/s]"
     ]
    },
    {
     "name": "stdout",
     "output_type": "stream",
     "text": [
      "Total steps: 11654 \t Episode: 340/22 \t Total reward episode: 0.0 Total loss: 0.1335952440276742 \t Avg_10 loss: 0.17222967769484968 \t Avg_10 total_reward: 0.3  \t eps_threshold: 0.8921946065551167\n"
     ]
    },
    {
     "name": "stderr",
     "output_type": "stream",
     "text": [
      "  4%|▎         | 351/10000 [02:46<1:02:41,  2.56it/s]"
     ]
    },
    {
     "name": "stdout",
     "output_type": "stream",
     "text": [
      "Total steps: 11912 \t Episode: 350/22 \t Total reward episode: 0.0 Total loss: 0.08053856482729316 \t Avg_10 loss: 0.11987665775232018 \t Avg_10 total_reward: 0.1  \t eps_threshold: 0.8899472448134627\n"
     ]
    },
    {
     "name": "stderr",
     "output_type": "stream",
     "text": [
      "  4%|▎         | 361/10000 [02:53<1:25:45,  1.87it/s]"
     ]
    },
    {
     "name": "stdout",
     "output_type": "stream",
     "text": [
      "Total steps: 12343 \t Episode: 360/22 \t Total reward episode: 0.0 Total loss: 0.10179524088744074 \t Avg_10 loss: 0.2289094882493373 \t Avg_10 total_reward: 0.5  \t eps_threshold: 0.8862058407058914\n"
     ]
    },
    {
     "name": "stderr",
     "output_type": "stream",
     "text": [
      "  4%|▎         | 371/10000 [02:58<1:08:00,  2.36it/s]"
     ]
    },
    {
     "name": "stdout",
     "output_type": "stream",
     "text": [
      "Total steps: 12676 \t Episode: 370/22 \t Total reward episode: 0.0 Total loss: 0.14009107742458582 \t Avg_10 loss: 0.19599577503977345 \t Avg_10 total_reward: 0.3  \t eps_threshold: 0.8833261725648246\n"
     ]
    },
    {
     "name": "stderr",
     "output_type": "stream",
     "text": [
      "  4%|▍         | 381/10000 [03:02<1:01:13,  2.62it/s]"
     ]
    },
    {
     "name": "stdout",
     "output_type": "stream",
     "text": [
      "Total steps: 12962 \t Episode: 380/22 \t Total reward episode: 0.0 Total loss: 0.08162466995418072 \t Avg_10 loss: 0.13662737483391538 \t Avg_10 total_reward: 0.2  \t eps_threshold: 0.8808605871790158\n"
     ]
    },
    {
     "name": "stderr",
     "output_type": "stream",
     "text": [
      "  4%|▍         | 391/10000 [03:06<1:03:23,  2.53it/s]"
     ]
    },
    {
     "name": "stdout",
     "output_type": "stream",
     "text": [
      "Total steps: 13238 \t Episode: 390/22 \t Total reward episode: 0.0 Total loss: 0.11145166342612356 \t Avg_10 loss: 0.15054100194247438 \t Avg_10 total_reward: 0.1  \t eps_threshold: 0.8784878877897484\n"
     ]
    },
    {
     "name": "stderr",
     "output_type": "stream",
     "text": [
      "  4%|▍         | 401/10000 [03:12<1:09:18,  2.31it/s]"
     ]
    },
    {
     "name": "stdout",
     "output_type": "stream",
     "text": [
      "Total steps: 13591 \t Episode: 400/22 \t Total reward episode: 0.0 Total loss: 0.17657201644033194 \t Avg_10 loss: 0.1657374137081206 \t Avg_10 total_reward: 0.3  \t eps_threshold: 0.8754627680235467\n"
     ]
    },
    {
     "name": "stderr",
     "output_type": "stream",
     "text": [
      "  4%|▍         | 411/10000 [03:20<2:23:48,  1.11it/s]"
     ]
    },
    {
     "name": "stdout",
     "output_type": "stream",
     "text": [
      "Total steps: 14042 \t Episode: 410/99 \t Total reward episode: 2.0 Total loss: 0.5812313449569046 \t Avg_10 loss: 0.23456790279597045 \t Avg_10 total_reward: 0.5  \t eps_threshold: 0.871613317974469\n"
     ]
    },
    {
     "name": "stderr",
     "output_type": "stream",
     "text": [
      "  4%|▍         | 421/10000 [03:25<1:24:12,  1.90it/s]"
     ]
    },
    {
     "name": "stdout",
     "output_type": "stream",
     "text": [
      "Total steps: 14367 \t Episode: 420/22 \t Total reward episode: 0.0 Total loss: 0.1322951999027282 \t Avg_10 loss: 0.1997240931726992 \t Avg_10 total_reward: 0.2  \t eps_threshold: 0.8688500674054623\n"
     ]
    },
    {
     "name": "stderr",
     "output_type": "stream",
     "text": [
      "  4%|▍         | 431/10000 [03:30<1:27:11,  1.83it/s]"
     ]
    },
    {
     "name": "stdout",
     "output_type": "stream",
     "text": [
      "Total steps: 14718 \t Episode: 430/22 \t Total reward episode: 0.0 Total loss: 0.09789468813687563 \t Avg_10 loss: 0.19631272696424276 \t Avg_10 total_reward: 0.3  \t eps_threshold: 0.8658758265152097\n"
     ]
    },
    {
     "name": "stderr",
     "output_type": "stream",
     "text": [
      "  4%|▍         | 441/10000 [03:35<1:03:37,  2.50it/s]"
     ]
    },
    {
     "name": "stdout",
     "output_type": "stream",
     "text": [
      "Total steps: 15045 \t Episode: 440/22 \t Total reward episode: 0.0 Total loss: 0.1733202887699008 \t Avg_10 loss: 0.17364546221215277 \t Avg_10 total_reward: 0.2  \t eps_threshold: 0.863114330069893\n"
     ]
    },
    {
     "name": "stderr",
     "output_type": "stream",
     "text": [
      "  5%|▍         | 451/10000 [03:43<1:35:28,  1.67it/s]"
     ]
    },
    {
     "name": "stdout",
     "output_type": "stream",
     "text": [
      "Total steps: 15556 \t Episode: 450/22 \t Total reward episode: 0.0 Total loss: 0.21973243774846196 \t Avg_10 loss: 0.3488366956822574 \t Avg_10 total_reward: 0.7  \t eps_threshold: 0.8588170048601581\n"
     ]
    },
    {
     "name": "stderr",
     "output_type": "stream",
     "text": [
      "  5%|▍         | 461/10000 [03:48<1:12:59,  2.18it/s]"
     ]
    },
    {
     "name": "stdout",
     "output_type": "stream",
     "text": [
      "Total steps: 15875 \t Episode: 460/22 \t Total reward episode: 0.0 Total loss: 0.1460059464443475 \t Avg_10 loss: 0.23733961710240692 \t Avg_10 total_reward: 0.3  \t eps_threshold: 0.8561454420228869\n"
     ]
    },
    {
     "name": "stderr",
     "output_type": "stream",
     "text": [
      "  5%|▍         | 471/10000 [03:51<56:21,  2.82it/s]  "
     ]
    },
    {
     "name": "stdout",
     "output_type": "stream",
     "text": [
      "Total steps: 16105 \t Episode: 470/22 \t Total reward episode: 0.0 Total loss: 0.19232313963584602 \t Avg_10 loss: 0.1703914267127402 \t Avg_10 total_reward: 0.0  \t eps_threshold: 0.8542245174163393\n"
     ]
    },
    {
     "name": "stderr",
     "output_type": "stream",
     "text": [
      "  5%|▍         | 481/10000 [03:56<1:28:29,  1.79it/s]"
     ]
    },
    {
     "name": "stdout",
     "output_type": "stream",
     "text": [
      "Total steps: 16409 \t Episode: 480/68 \t Total reward episode: 1.0 Total loss: 0.3723444481147453 \t Avg_10 loss: 0.20185657244874164 \t Avg_10 total_reward: 0.2  \t eps_threshold: 0.8516923257648288\n"
     ]
    },
    {
     "name": "stderr",
     "output_type": "stream",
     "text": [
      "  5%|▍         | 491/10000 [03:59<55:33,  2.85it/s]  "
     ]
    },
    {
     "name": "stdout",
     "output_type": "stream",
     "text": [
      "Total steps: 16639 \t Episode: 490/22 \t Total reward episode: 0.0 Total loss: 0.17859602975659072 \t Avg_10 loss: 0.18500147826271132 \t Avg_10 total_reward: 0.0  \t eps_threshold: 0.8497816315562072\n"
     ]
    },
    {
     "name": "stderr",
     "output_type": "stream",
     "text": [
      "  5%|▌         | 501/10000 [04:04<1:17:31,  2.04it/s]"
     ]
    },
    {
     "name": "stdout",
     "output_type": "stream",
     "text": [
      "Total steps: 16974 \t Episode: 500/22 \t Total reward episode: 0.0 Total loss: 0.1863250434398651 \t Avg_10 loss: 0.2616004875861108 \t Avg_10 total_reward: 0.3  \t eps_threshold: 0.8470065140077002\n"
     ]
    },
    {
     "name": "stderr",
     "output_type": "stream",
     "text": [
      "  5%|▌         | 511/10000 [04:10<1:29:01,  1.78it/s]"
     ]
    },
    {
     "name": "stdout",
     "output_type": "stream",
     "text": [
      "Total steps: 17366 \t Episode: 510/50 \t Total reward episode: 1.0 Total loss: 0.4023803111631423 \t Avg_10 loss: 0.33943544775247575 \t Avg_10 total_reward: 0.5  \t eps_threshold: 0.843770994234735\n"
     ]
    },
    {
     "name": "stderr",
     "output_type": "stream",
     "text": [
      "  5%|▌         | 521/10000 [04:16<1:28:00,  1.80it/s]"
     ]
    },
    {
     "name": "stdout",
     "output_type": "stream",
     "text": [
      "Total steps: 17750 \t Episode: 520/22 \t Total reward episode: 0.0 Total loss: 0.14845109451562166 \t Avg_10 loss: 0.3459281067131087 \t Avg_10 total_reward: 0.4  \t eps_threshold: 0.8406137793490388\n"
     ]
    },
    {
     "name": "stderr",
     "output_type": "stream",
     "text": [
      "  5%|▌         | 531/10000 [04:23<2:05:13,  1.26it/s]"
     ]
    },
    {
     "name": "stdout",
     "output_type": "stream",
     "text": [
      "Total steps: 18228 \t Episode: 530/69 \t Total reward episode: 1.0 Total loss: 0.6749786981381476 \t Avg_10 loss: 0.46420480201486497 \t Avg_10 total_reward: 0.6  \t eps_threshold: 0.8367006054202509\n"
     ]
    },
    {
     "name": "stderr",
     "output_type": "stream",
     "text": [
      "  5%|▌         | 541/10000 [04:32<1:58:15,  1.33it/s]"
     ]
    },
    {
     "name": "stdout",
     "output_type": "stream",
     "text": [
      "Total steps: 18862 \t Episode: 540/69 \t Total reward episode: 1.0 Total loss: 0.6948018283583224 \t Avg_10 loss: 0.6648049443494528 \t Avg_10 total_reward: 1.0  \t eps_threshold: 0.8315391028342138\n"
     ]
    },
    {
     "name": "stderr",
     "output_type": "stream",
     "text": [
      "  6%|▌         | 551/10000 [04:37<1:13:26,  2.14it/s]"
     ]
    },
    {
     "name": "stdout",
     "output_type": "stream",
     "text": [
      "Total steps: 19215 \t Episode: 550/22 \t Total reward episode: 0.0 Total loss: 0.26261799270287156 \t Avg_10 loss: 0.41591355327982454 \t Avg_10 total_reward: 0.3  \t eps_threshold: 0.8286794201107338\n"
     ]
    },
    {
     "name": "stderr",
     "output_type": "stream",
     "text": [
      "  6%|▌         | 561/10000 [04:44<2:02:09,  1.29it/s]"
     ]
    },
    {
     "name": "stdout",
     "output_type": "stream",
     "text": [
      "Total steps: 19691 \t Episode: 560/71 \t Total reward episode: 1.0 Total loss: 0.7459472867194563 \t Avg_10 loss: 0.5095753571251407 \t Avg_10 total_reward: 0.6  \t eps_threshold: 0.8248392529196663\n"
     ]
    },
    {
     "name": "stderr",
     "output_type": "stream",
     "text": [
      "  6%|▌         | 571/10000 [04:50<2:03:00,  1.28it/s]"
     ]
    },
    {
     "name": "stdout",
     "output_type": "stream",
     "text": [
      "Total steps: 20063 \t Episode: 570/118 \t Total reward episode: 2.0 Total loss: 1.6212548278272152 \t Avg_10 loss: 0.4567284606862813 \t Avg_10 total_reward: 0.3  \t eps_threshold: 0.8218508128436149\n"
     ]
    },
    {
     "name": "stderr",
     "output_type": "stream",
     "text": [
      "  6%|▌         | 581/10000 [04:55<1:49:24,  1.43it/s]"
     ]
    }
   ],
   "source": [
    "train(\n",
    "    model_name=\"breakout_dqn\",\n",
    "    env=env,\n",
    "    n_episodes=10_000,\n",
    "    memory=memory,\n",
    "    device=device,\n",
    "    initial_memory=INITIAL_MEMORY,\n",
    "    policy_net=policy_net,\n",
    "    target_net=target_net,\n",
    "    gamma=GAMMA,\n",
    "    optimizer=optimizer,\n",
    "    batch_size=BATCH_SIZE,\n",
    "    target_update=TARGET_UPDATE,\n",
    "    eps_end=EPS_END,\n",
    "    eps_start=EPS_START,\n",
    "    eps_decay=EPS_DECAY,\n",
    "    render=False,\n",
    ")"
   ]
  },
  {
   "cell_type": "code",
   "execution_count": null,
   "metadata": {},
   "outputs": [],
   "source": [
    "torch.save(policy_net, \"breakout_dqn_model\")\n",
    "policy_net = torch.load(\"breakout_dqn_model\")"
   ]
  }
 ],
 "metadata": {
  "kernelspec": {
   "display_name": "Python 3",
   "language": "python",
   "name": "python3"
  },
  "language_info": {
   "codemirror_mode": {
    "name": "ipython",
    "version": 3
   },
   "file_extension": ".py",
   "mimetype": "text/x-python",
   "name": "python",
   "nbconvert_exporter": "python",
   "pygments_lexer": "ipython3",
   "version": "3.10.12"
  }
 },
 "nbformat": 4,
 "nbformat_minor": 2
}
