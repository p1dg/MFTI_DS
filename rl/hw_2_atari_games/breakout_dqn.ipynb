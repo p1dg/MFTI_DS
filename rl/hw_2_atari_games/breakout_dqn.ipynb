{
 "cells": [
  {
   "cell_type": "code",
   "execution_count": 1,
   "metadata": {},
   "outputs": [],
   "source": [
    "# table https://colab.research.google.com/drive/1LO7mJBnkccfwlKUFX17rJONbf_tUEukC?usp=sharing\n",
    "# game Pong 18.9 (1.3)"
   ]
  },
  {
   "cell_type": "code",
   "execution_count": 2,
   "metadata": {},
   "outputs": [],
   "source": [
    "import gymnasium as gym\n",
    "import numpy as np\n",
    "import pandas as pd\n",
    "import matplotlib.pyplot as plt\n",
    "import torch\n",
    "import torch.nn as nn\n",
    "from collections import deque\n",
    "from utils import DQNbn, DQN, make_env, ReplayMemory, train\n",
    "import warnings\n",
    "\n",
    "%matplotlib inline\n",
    "warnings.simplefilter(\"ignore\", UserWarning)"
   ]
  },
  {
   "cell_type": "code",
   "execution_count": 3,
   "metadata": {},
   "outputs": [
    {
     "name": "stderr",
     "output_type": "stream",
     "text": [
      "A.L.E: Arcade Learning Environment (version 0.8.1+53f58b7)\n",
      "[Powered by Stella]\n"
     ]
    }
   ],
   "source": [
    "env = gym.make(\"BreakoutNoFrameskip-v4\")"
   ]
  },
  {
   "cell_type": "code",
   "execution_count": 4,
   "metadata": {},
   "outputs": [
    {
     "data": {
      "image/png": "[encoded data removed]",
      "text/plain": [
       "<Figure size 640x480 with 1 Axes>"
      ]
     },
     "metadata": {},
     "output_type": "display_data"
    }
   ],
   "source": [
    "plt.imshow(env.reset()[0])\n",
    "plt.axis(\"off\")  # Убрать оси координат\n",
    "plt.show()"
   ]
  },
  {
   "cell_type": "code",
   "execution_count": 5,
   "metadata": {},
   "outputs": [
    {
     "name": "stdout",
     "output_type": "stream",
     "text": [
      "Action_space: 4 \n",
      "State_space: (210, 160, 3)\n"
     ]
    }
   ],
   "source": [
    "env.reset()\n",
    "\n",
    "n_actions = env.action_space.n\n",
    "state_dim = env.observation_space.shape\n",
    "\n",
    "print(f\"Action_space: {n_actions} \\nState_space: {env.observation_space.shape}\")\n",
    "\n",
    "env.close()"
   ]
  },
  {
   "cell_type": "code",
   "execution_count": 6,
   "metadata": {},
   "outputs": [
    {
     "data": {
      "text/plain": [
       "device(type='cuda')"
      ]
     },
     "execution_count": 6,
     "metadata": {},
     "output_type": "execute_result"
    }
   ],
   "source": [
    "device = torch.device(\"cuda\" if torch.cuda.is_available() else \"cpu\")\n",
    "device"
   ]
  },
  {
   "cell_type": "code",
   "execution_count": 7,
   "metadata": {},
   "outputs": [],
   "source": [
    "BATCH_SIZE = 32\n",
    "GAMMA = 0.99\n",
    "EPS_START = 1\n",
    "EPS_END = 0.02\n",
    "EPS_DECAY = 100000\n",
    "TARGET_UPDATE = 500\n",
    "RENDER = False\n",
    "lr = 1e-4\n",
    "INITIAL_MEMORY = 10_000\n",
    "MEMORY_SIZE = 10 * INITIAL_MEMORY"
   ]
  },
  {
   "cell_type": "code",
   "execution_count": 8,
   "metadata": {},
   "outputs": [],
   "source": [
    "policy_net = DQNbn(n_actions=4).to(device)  # убираем действия с FIRE\n",
    "target_net = DQNbn(n_actions=4).to(device)\n",
    "# policy_net = DQN(n_actions=4, in_channels=4).to(device)  # убираем действия с FIRE\n",
    "# target_net = DQN(n_actions=4, in_channels=4).to(device)\n",
    "target_net.load_state_dict(policy_net.state_dict())\n",
    "\n",
    "optimizer = torch.optim.Adam(policy_net.parameters(), lr=lr)\n",
    "\n",
    "steps_done = 0\n",
    "\n",
    "# create environment\n",
    "env = gym.make(\"BreakoutNoFrameskip-v4\")\n",
    "env = make_env(env)\n",
    "\n",
    "memory = ReplayMemory(MEMORY_SIZE)"
   ]
  },
  {
   "cell_type": "code",
   "execution_count": 9,
   "metadata": {},
   "outputs": [
    {
     "name": "stderr",
     "output_type": "stream",
     "text": [
      "steps: 37710 avg_10 steps 65.4 reward: 2.0 loss: 0.827 avg_10 loss: 0.467 avg_10 reward: 1.0 eps: 0.692:  10%|▉         | 951/10000 [06:27<2:45:20,  1.10s/it]  "
     ]
    },
    {
     "ename": "",
     "evalue": "",
     "output_type": "error",
     "traceback": [
      "\u001b[1;31mThe Kernel crashed while executing code in the current cell or a previous cell. \n",
      "\u001b[1;31mPlease review the code in the cell(s) to identify a possible cause of the failure. \n",
      "\u001b[1;31mClick <a href='https://aka.ms/vscodeJupyterKernelCrash'>here</a> for more info. \n",
      "\u001b[1;31mView Jupyter <a href='command:jupyter.viewOutput'>log</a> for further details."
     ]
    }
   ],
   "source": [
    "train(\n",
    "    model_name=\"breakout_dqn\",\n",
    "    env=env,\n",
    "    n_episodes=10_000,\n",
    "    memory=memory,\n",
    "    device=device,\n",
    "    initial_memory=INITIAL_MEMORY,\n",
    "    policy_net=policy_net,\n",
    "    target_net=target_net,\n",
    "    gamma=GAMMA,\n",
    "    optimizer=optimizer,\n",
    "    batch_size=BATCH_SIZE,\n",
    "    target_update=TARGET_UPDATE,\n",
    "    eps_end=EPS_END,\n",
    "    eps_start=EPS_START,\n",
    "    eps_decay=EPS_DECAY,\n",
    "    render=False,\n",
    ")"
   ]
  },
  {
   "cell_type": "code",
   "execution_count": null,
   "metadata": {},
   "outputs": [],
   "source": [
    "torch.save(policy_net, \"breakout_dqn_model\")\n",
    "policy_net = torch.load(\"breakout_dqn_model\")"
   ]
  }
 ],
 "metadata": {
  "kernelspec": {
   "display_name": "Python 3",
   "language": "python",
   "name": "python3"
  },
  "language_info": {
   "codemirror_mode": {
    "name": "ipython",
    "version": 3
   },
   "file_extension": ".py",
   "mimetype": "text/x-python",
   "name": "python",
   "nbconvert_exporter": "python",
   "pygments_lexer": "ipython3",
   "version": "3.10.12"
  }
 },
 "nbformat": 4,
 "nbformat_minor": 2
}
