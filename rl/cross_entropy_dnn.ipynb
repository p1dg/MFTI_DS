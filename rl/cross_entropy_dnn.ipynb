{
  "nbformat": 4,
  "nbformat_minor": 0,
  "metadata": {
    "colab": {
      "provenance": []
    },
    "kernelspec": {
      "name": "python3",
      "display_name": "Python 3"
    },
    "language_info": {
      "name": "python"
    }
  },
  "cells": [
    {
      "cell_type": "code",
      "source": [
        "try:\n",
        "    import google.colab\n",
        "    COLAB = True\n",
        "except ModuleNotFoundError:\n",
        "    COLAB = False\n",
        "    pass\n",
        "\n",
        "if COLAB:\n",
        "    !pip -q install \"gymnasium[classic-control, atari, accept-rom-license]\"\n",
        "    !pip -q install piglet\n",
        "    !pip -q install imageio_ffmpeg\n",
        "    !pip -q install moviepy==1.0.3"
      ],
      "metadata": {
        "colab": {
          "base_uri": "https://localhost:8080/"
        },
        "id": "G37KR7Ts9jF4",
        "outputId": "f4c217ec-da7f-4023-9452-63c2a57a1041"
      },
      "execution_count": null,
      "outputs": [
        {
          "output_type": "stream",
          "name": "stdout",
          "text": [
            "\u001b[2K     \u001b[90m━━━━━━━━━━━━━━━━━━━━━━━━━━━━━━━━━━━━━━━━\u001b[0m \u001b[32m953.9/953.9 kB\u001b[0m \u001b[31m7.3 MB/s\u001b[0m eta \u001b[36m0:00:00\u001b[0m\n",
            "\u001b[2K     \u001b[90m━━━━━━━━━━━━━━━━━━━━━━━━━━━━━━━━━━━━━━━━\u001b[0m \u001b[32m434.7/434.7 kB\u001b[0m \u001b[31m14.0 MB/s\u001b[0m eta \u001b[36m0:00:00\u001b[0m\n",
            "\u001b[?25h  Installing build dependencies ... \u001b[?25l\u001b[?25hdone\n",
            "  Getting requirements to build wheel ... \u001b[?25l\u001b[?25hdone\n",
            "  Preparing metadata (pyproject.toml) ... \u001b[?25l\u001b[?25hdone\n",
            "\u001b[2K     \u001b[90m━━━━━━━━━━━━━━━━━━━━━━━━━━━━━━━━━━━━━━━━\u001b[0m \u001b[32m1.7/1.7 MB\u001b[0m \u001b[31m13.9 MB/s\u001b[0m eta \u001b[36m0:00:00\u001b[0m\n",
            "\u001b[?25h  Building wheel for AutoROM.accept-rom-license (pyproject.toml) ... \u001b[?25l\u001b[?25hdone\n",
            "\u001b[2K     \u001b[90m━━━━━━━━━━━━━━━━━━━━━━━━━━━━━━━━━━━━━━━━\u001b[0m \u001b[32m67.5/67.5 kB\u001b[0m \u001b[31m2.7 MB/s\u001b[0m eta \u001b[36m0:00:00\u001b[0m\n",
            "\u001b[?25h"
          ]
        }
      ]
    },
    {
      "cell_type": "code",
      "source": [
        "import glob\n",
        "import io\n",
        "import base64\n",
        "from IPython import display as ipythondisplay\n",
        "from IPython.display import HTML\n",
        "import matplotlib.pyplot as plt\n",
        "%matplotlib inline\n",
        "\n",
        "def show_video(folder=\"./video\"):\n",
        "    mp4list = glob.glob(folder + '/*.mp4')\n",
        "    if len(mp4list) > 0:\n",
        "        mp4 = sorted(mp4list, key=lambda x: x[-15:], reverse=True)[0]\n",
        "        video = io.open(mp4, 'r+b').read()\n",
        "        encoded = base64.b64encode(video)\n",
        "        ipythondisplay.display(HTML(data='''<video alt=\"test\" autoplay\n",
        "                loop controls style=\"height: 400px;\">\n",
        "                <source src=\"data:video/mp4;base64,{0}\" type=\"video/mp4\" />\n",
        "             </video>'''.format(encoded.decode('ascii'))))\n",
        "    else:\n",
        "        print(\"Could not find video\")"
      ],
      "metadata": {
        "id": "GZfkNW609q9Z"
      },
      "execution_count": null,
      "outputs": []
    },
    {
      "cell_type": "code",
      "source": [
        "import numpy as np\n",
        "import matplotlib.pyplot as plt\n",
        "%matplotlib inline\n",
        "import gymnasium as gym"
      ],
      "metadata": {
        "id": "zwNDV3Xf927A"
      },
      "execution_count": null,
      "outputs": []
    },
    {
      "cell_type": "code",
      "source": [
        "def select_elites(states_batch, actions_batch,\n",
        "                  returns_batch, percentile=50):\n",
        "    \"\"\"\n",
        "    Выбирает состояния и действия с заданным перцентилем (rewards >= percentile)\n",
        "    :param states_batch: list of lists of states, states_batch[session_i][t]\n",
        "    :param actions_batch: list of lists of actions, actions_batch[session_i][t]\n",
        "    :param rewards_batch: list of session returns, returns_batch[session_i]\n",
        "\n",
        "    :returns: elite_states, elite_actions - одномерные\n",
        "    списки состояния и действия, выбранных сессий\n",
        "    \"\"\"\n",
        "    # нужно найти порог вознаграждения по процентилю\n",
        "    # reward_threshold =\n",
        "    \"\"\"<codehere>\"\"\"\n",
        "    return_threshold = np.percentile(returns_batch, percentile)\n",
        "    \"\"\"</codehere>\"\"\"\n",
        "\n",
        "\n",
        "    # в соответствии с найденным порогом - заполнить списки\n",
        "    # elite_states и elite_actions, нужными состояниями и действиями\n",
        "    elite_states = []\n",
        "    elite_actions = []\n",
        "    \"\"\"<codehere>\"\"\"\n",
        "    for index, session_return in enumerate(returns_batch):\n",
        "        if session_return >= return_threshold:\n",
        "            elite_states += states_batch[index]\n",
        "            elite_actions += actions_batch[index]\n",
        "    \"\"\"</codehere>\"\"\"\n",
        "\n",
        "    return elite_states, elite_actions"
      ],
      "metadata": {
        "colab": {
          "base_uri": "https://localhost:8080/"
        },
        "id": "3VHp7Rwh-GL9",
        "outputId": "4ea2d811-1b77-4f13-89a8-c66e853da9fe"
      },
      "execution_count": null,
      "outputs": [
        {
          "output_type": "stream",
          "name": "stderr",
          "text": [
            "/usr/local/lib/python3.10/dist-packages/ipykernel/ipkernel.py:283: DeprecationWarning: `should_run_async` will not call `transform_cell` automatically in the future. Please pass the result to `transformed_cell` argument and any exception that happen during thetransform in `preprocessing_exc_tuple` in IPython 7.17 and above.\n",
            "  and should_run_async(code)\n"
          ]
        }
      ]
    },
    {
      "cell_type": "code",
      "source": [
        "from IPython.display import clear_output\n",
        "\n",
        "def show_progress(returns_batch, log, percentile, return_range=[-990, +10]):\n",
        "    \"\"\"\n",
        "    Удобная функция, для визуализации результатов.\n",
        "    \"\"\"\n",
        "\n",
        "    mean_return = np.mean(returns_batch)\n",
        "    threshold = np.percentile(returns_batch, percentile)\n",
        "    log.append([mean_return, threshold])\n",
        "\n",
        "    plt.figure(figsize=[8, 4])\n",
        "    plt.subplot(1, 2, 1)\n",
        "    plt.plot(list(zip(*log))[0], label='Mean returns')\n",
        "    plt.plot(list(zip(*log))[1], label='Return thresholds')\n",
        "    plt.legend()\n",
        "    plt.grid()\n",
        "\n",
        "    plt.subplot(1, 2, 2)\n",
        "    plt.hist(returns_batch, range=return_range)\n",
        "    plt.vlines([np.percentile(returns_batch, percentile)],\n",
        "               [0], [100], label=\"percentile\", color='red')\n",
        "    plt.legend()\n",
        "    plt.grid()\n",
        "    clear_output(True)\n",
        "    print(\"mean return = %.3f, threshold=%.3f\" % (mean_return, threshold))\n",
        "    plt.show()"
      ],
      "metadata": {
        "id": "sn3dJUPA-N2i"
      },
      "execution_count": null,
      "outputs": []
    },
    {
      "cell_type": "markdown",
      "source": [
        "## Deep CEM. Закапываемся глубже.\n",
        "\n",
        "В данной части мы рассмотрим применение CEM вместе с нейронной сетью.\n",
        "Будем обучать многослойную нейронную сеть для решения простой задачи с непрерывным пространством действий.\n",
        "\n",
        "<img src=\"https://raw.githubusercontent.com/Tviskaron/mipt/master/2020/RL/figures/digging.svg\">"
      ],
      "metadata": {
        "id": "S__alK569E25"
      }
    },
    {
      "cell_type": "markdown",
      "source": [
        "Будем тестировать нашего нового агента на известной задаче перевернутого маятника, с непрерывным пространством состояний.\n",
        "https://gym.openai.com/envs/CartPole-v0/"
      ],
      "metadata": {
        "id": "w3uFMZcj9JFP"
      }
    },
    {
      "cell_type": "code",
      "source": [
        "env = gym.make(\"CartPole-v1\", render_mode=\"rgb_array\")\n",
        "\n",
        "env.reset()\n",
        "n_actions = env.action_space.n\n",
        "state_dim = env.observation_space.shape[0]\n",
        "\n",
        "print(f\"состояний: {state_dim} действий: {n_actions}\")"
      ],
      "metadata": {
        "colab": {
          "base_uri": "https://localhost:8080/"
        },
        "id": "xhr2rDqH9IKN",
        "outputId": "7a2faab5-38fb-431b-98d8-f24433ab91d0"
      },
      "execution_count": null,
      "outputs": [
        {
          "output_type": "stream",
          "name": "stdout",
          "text": [
            "состояний: 4 действий: 2\n"
          ]
        }
      ]
    },
    {
      "cell_type": "markdown",
      "source": [
        "### Стратегия с нейронной сетью\n",
        "\n",
        "Попробуем заменить метод обновления вероятностей на нейронную сеть.\n",
        "Будем пользоваться упрощенной реализацией нейронной сети из пакета Scikit-learn.\n",
        "Нам потребуется:\n",
        "* agent.partial_fit(states, actions) - делает один проход обучения по данным. Максимизирует вероятность :actions: из :states:\n",
        "* agent.predict_proba(states) - предсказыает вероятность каждого из действий, в виде матрицы размера [len(states), n_actions]"
      ],
      "metadata": {
        "id": "agdht4Ka9Pfr"
      }
    },
    {
      "cell_type": "code",
      "source": [
        "from sklearn.neural_network import MLPClassifier\n",
        "\n",
        "agent = MLPClassifier(\n",
        "    hidden_layer_sizes=(20, 20),\n",
        "    activation='tanh',\n",
        ")\n",
        "\n",
        "# инициализируем агента под заданное пространство состояний и действий\n",
        "agent.partial_fit([env.reset()[0]] * n_actions, range(n_actions), range(n_actions))"
      ],
      "metadata": {
        "colab": {
          "base_uri": "https://localhost:8080/",
          "height": 76
        },
        "id": "8SQrHcMv9WKl",
        "outputId": "6b6a5d28-292f-4c6f-a93b-3dda1cbcd019"
      },
      "execution_count": null,
      "outputs": [
        {
          "output_type": "execute_result",
          "data": {
            "text/plain": [
              "MLPClassifier(activation='tanh', hidden_layer_sizes=(20, 20))"
            ],
            "text/html": [
              "<style>#sk-container-id-1 {color: black;background-color: white;}#sk-container-id-1 pre{padding: 0;}#sk-container-id-1 div.sk-toggleable {background-color: white;}#sk-container-id-1 label.sk-toggleable__label {cursor: pointer;display: block;width: 100%;margin-bottom: 0;padding: 0.3em;box-sizing: border-box;text-align: center;}#sk-container-id-1 label.sk-toggleable__label-arrow:before {content: \"▸\";float: left;margin-right: 0.25em;color: #696969;}#sk-container-id-1 label.sk-toggleable__label-arrow:hover:before {color: black;}#sk-container-id-1 div.sk-estimator:hover label.sk-toggleable__label-arrow:before {color: black;}#sk-container-id-1 div.sk-toggleable__content {max-height: 0;max-width: 0;overflow: hidden;text-align: left;background-color: #f0f8ff;}#sk-container-id-1 div.sk-toggleable__content pre {margin: 0.2em;color: black;border-radius: 0.25em;background-color: #f0f8ff;}#sk-container-id-1 input.sk-toggleable__control:checked~div.sk-toggleable__content {max-height: 200px;max-width: 100%;overflow: auto;}#sk-container-id-1 input.sk-toggleable__control:checked~label.sk-toggleable__label-arrow:before {content: \"▾\";}#sk-container-id-1 div.sk-estimator input.sk-toggleable__control:checked~label.sk-toggleable__label {background-color: #d4ebff;}#sk-container-id-1 div.sk-label input.sk-toggleable__control:checked~label.sk-toggleable__label {background-color: #d4ebff;}#sk-container-id-1 input.sk-hidden--visually {border: 0;clip: rect(1px 1px 1px 1px);clip: rect(1px, 1px, 1px, 1px);height: 1px;margin: -1px;overflow: hidden;padding: 0;position: absolute;width: 1px;}#sk-container-id-1 div.sk-estimator {font-family: monospace;background-color: #f0f8ff;border: 1px dotted black;border-radius: 0.25em;box-sizing: border-box;margin-bottom: 0.5em;}#sk-container-id-1 div.sk-estimator:hover {background-color: #d4ebff;}#sk-container-id-1 div.sk-parallel-item::after {content: \"\";width: 100%;border-bottom: 1px solid gray;flex-grow: 1;}#sk-container-id-1 div.sk-label:hover label.sk-toggleable__label {background-color: #d4ebff;}#sk-container-id-1 div.sk-serial::before {content: \"\";position: absolute;border-left: 1px solid gray;box-sizing: border-box;top: 0;bottom: 0;left: 50%;z-index: 0;}#sk-container-id-1 div.sk-serial {display: flex;flex-direction: column;align-items: center;background-color: white;padding-right: 0.2em;padding-left: 0.2em;position: relative;}#sk-container-id-1 div.sk-item {position: relative;z-index: 1;}#sk-container-id-1 div.sk-parallel {display: flex;align-items: stretch;justify-content: center;background-color: white;position: relative;}#sk-container-id-1 div.sk-item::before, #sk-container-id-1 div.sk-parallel-item::before {content: \"\";position: absolute;border-left: 1px solid gray;box-sizing: border-box;top: 0;bottom: 0;left: 50%;z-index: -1;}#sk-container-id-1 div.sk-parallel-item {display: flex;flex-direction: column;z-index: 1;position: relative;background-color: white;}#sk-container-id-1 div.sk-parallel-item:first-child::after {align-self: flex-end;width: 50%;}#sk-container-id-1 div.sk-parallel-item:last-child::after {align-self: flex-start;width: 50%;}#sk-container-id-1 div.sk-parallel-item:only-child::after {width: 0;}#sk-container-id-1 div.sk-dashed-wrapped {border: 1px dashed gray;margin: 0 0.4em 0.5em 0.4em;box-sizing: border-box;padding-bottom: 0.4em;background-color: white;}#sk-container-id-1 div.sk-label label {font-family: monospace;font-weight: bold;display: inline-block;line-height: 1.2em;}#sk-container-id-1 div.sk-label-container {text-align: center;}#sk-container-id-1 div.sk-container {/* jupyter's `normalize.less` sets `[hidden] { display: none; }` but bootstrap.min.css set `[hidden] { display: none !important; }` so we also need the `!important` here to be able to override the default hidden behavior on the sphinx rendered scikit-learn.org. See: https://github.com/scikit-learn/scikit-learn/issues/21755 */display: inline-block !important;position: relative;}#sk-container-id-1 div.sk-text-repr-fallback {display: none;}</style><div id=\"sk-container-id-1\" class=\"sk-top-container\"><div class=\"sk-text-repr-fallback\"><pre>MLPClassifier(activation=&#x27;tanh&#x27;, hidden_layer_sizes=(20, 20))</pre><b>In a Jupyter environment, please rerun this cell to show the HTML representation or trust the notebook. <br />On GitHub, the HTML representation is unable to render, please try loading this page with nbviewer.org.</b></div><div class=\"sk-container\" hidden><div class=\"sk-item\"><div class=\"sk-estimator sk-toggleable\"><input class=\"sk-toggleable__control sk-hidden--visually\" id=\"sk-estimator-id-1\" type=\"checkbox\" checked><label for=\"sk-estimator-id-1\" class=\"sk-toggleable__label sk-toggleable__label-arrow\">MLPClassifier</label><div class=\"sk-toggleable__content\"><pre>MLPClassifier(activation=&#x27;tanh&#x27;, hidden_layer_sizes=(20, 20))</pre></div></div></div></div></div>"
            ]
          },
          "metadata": {},
          "execution_count": 7
        }
      ]
    },
    {
      "cell_type": "code",
      "source": [
        "def generate_session(env, agent, t_max=1000):\n",
        "\n",
        "    states,actions = [],[]\n",
        "    session_return = 0\n",
        "\n",
        "    s, info = env.reset()\n",
        "\n",
        "    for t in range(t_max):\n",
        "        # предсказываем вероятности действий по сети и\n",
        "        # выбираем одно действие\n",
        "        # probs =\n",
        "        # a =\n",
        "        ####### Здесь ваш код ########\n",
        "        probs = agent.predict_proba([s])[0]\n",
        "        a = np.random.choice(n_actions, p=probs)\n",
        "        ##############################\n",
        "\n",
        "        new_s, r, terminated, truncated, info = env.step(a)\n",
        "\n",
        "        states.append(s)\n",
        "        actions.append(a)\n",
        "        session_return += r\n",
        "\n",
        "        s = new_s\n",
        "        if terminated:\n",
        "            break\n",
        "    return states, actions, session_return"
      ],
      "metadata": {
        "id": "5ch_LtLd9Om9"
      },
      "execution_count": null,
      "outputs": []
    },
    {
      "cell_type": "code",
      "source": [
        "dummy_states, dummy_actions, dummy_return = generate_session(env, agent, t_max=5)\n",
        "print(\"состояния:\", np.stack(dummy_states))\n",
        "print(\"действия:\", dummy_actions)\n",
        "print(\"отдача:\", dummy_return)"
      ],
      "metadata": {
        "colab": {
          "base_uri": "https://localhost:8080/"
        },
        "id": "O10hep5F9XgY",
        "outputId": "e239a29e-c787-46e8-f1e1-e563abfe5973"
      },
      "execution_count": null,
      "outputs": [
        {
          "output_type": "stream",
          "name": "stdout",
          "text": [
            "состояния: [[ 0.02728548  0.01774823 -0.04855999  0.02871338]\n",
            " [ 0.02764045 -0.17664492 -0.04798572  0.30568835]\n",
            " [ 0.02410755  0.01912683 -0.04187195 -0.00173363]\n",
            " [ 0.02449008  0.21482348 -0.04190663 -0.3073281 ]\n",
            " [ 0.02878655  0.02032295 -0.04805319 -0.02815038]]\n",
            "действия: [0, 1, 1, 0, 1]\n",
            "отдача: 5.0\n"
          ]
        }
      ]
    },
    {
      "cell_type": "code",
      "source": [
        "n_sessions = 200\n",
        "percentile = 50\n",
        "log = []\n",
        "\n",
        "for i in range(100):\n",
        "    sessions = [generate_session(env, agent) for _ in range(n_sessions)]\n",
        "\n",
        "    states_batch, actions_batch, returns_batch = map(list, zip(*sessions))\n",
        "    elite_states, elite_actions = select_elites(\n",
        "        states_batch, actions_batch, returns_batch, percentile\n",
        "    )\n",
        "\n",
        "    # учим стратегию предсказывать в состояниях X=elite_states,\n",
        "    # действия y=elite_actions\n",
        "    \"\"\"<codehere>\"\"\"\n",
        "    agent.fit(elite_states, elite_actions)\n",
        "    \"\"\"</codehere>\"\"\"\n",
        "\n",
        "    show_progress(returns_batch, log, percentile, return_range=[0, np.max(returns_batch)])\n",
        "\n",
        "    if np.mean(returns_batch) > 190:\n",
        "        print(\"Принято!\")\n",
        "        break\n"
      ],
      "metadata": {
        "colab": {
          "base_uri": "https://localhost:8080/",
          "height": 402
        },
        "id": "e2Sk2REl9XnI",
        "outputId": "02d34157-5fe2-425e-8ae5-046eaa4dec2a"
      },
      "execution_count": null,
      "outputs": [
        {
          "output_type": "stream",
          "name": "stdout",
          "text": [
            "mean return = 203.890, threshold=194.000\n"
          ]
        },
        {
          "output_type": "display_data",
          "data": {
            "text/plain": [
              "<Figure size 800x400 with 2 Axes>"
            ],
            "image/png": "[encoded data removed]"
          },
          "metadata": {}
        },
        {
          "output_type": "stream",
          "name": "stdout",
          "text": [
            "Принято!\n"
          ]
        }
      ]
    },
    {
      "cell_type": "code",
      "source": [
        "env.close()"
      ],
      "metadata": {
        "id": "PSetog-R9Ly1"
      },
      "execution_count": null,
      "outputs": []
    },
    {
      "cell_type": "code",
      "source": [
        "from gymnasium.wrappers.record_video import RecordVideo\n",
        "\n",
        "env = gym.make(\"CartPole-v1\", render_mode=\"rgb_array\")\n",
        "env = RecordVideo(env, \"./video\")\n",
        "\n",
        "generate_session(env, agent)\n",
        "\n",
        "env.close()\n",
        "show_video()"
      ],
      "metadata": {
        "colab": {
          "base_uri": "https://localhost:8080/",
          "height": 508
        },
        "id": "aDWbfoLE9d36",
        "outputId": "b2ab38d2-ba3b-4cc1-b6be-b1fcab348cf1"
      },
      "execution_count": null,
      "outputs": [
        {
          "output_type": "stream",
          "name": "stdout",
          "text": [
            "Moviepy - Building video /content/video/rl-video-episode-0.mp4.\n",
            "Moviepy - Writing video /content/video/rl-video-episode-0.mp4\n",
            "\n"
          ]
        },
        {
          "output_type": "stream",
          "name": "stderr",
          "text": []
        },
        {
          "output_type": "stream",
          "name": "stdout",
          "text": [
            "Moviepy - Done !\n",
            "Moviepy - video ready /content/video/rl-video-episode-0.mp4\n"
          ]
        },
        {
          "output_type": "display_data",
          "data": {
            "text/plain": [
              "<IPython.core.display.HTML object>"
            ],
            "text/html": [
              "<video alt=\"test\" autoplay\n",
              "                loop controls style=\"height: 400px;\">\n",
              "                <source src=\"data:video/mp4;base64,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\" type=\"video/mp4\" />\n",
              "             </video>"
            ]
          },
          "metadata": {}
        }
      ]
    },
    {
      "cell_type": "code",
      "source": [],
      "metadata": {
        "id": "cj7WgJaC9tPt"
      },
      "execution_count": null,
      "outputs": []
    }
  ]
}