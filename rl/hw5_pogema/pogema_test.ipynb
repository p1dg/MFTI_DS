{
 "cells": [
  {
   "cell_type": "code",
   "execution_count": 1,
   "metadata": {},
   "outputs": [],
   "source": [
    "# словарь с вариантами алгоритмов\n",
    "\n",
    "models_dict = dict()"
   ]
  },
  {
   "cell_type": "code",
   "execution_count": 20,
   "metadata": {},
   "outputs": [],
   "source": [
    "# функция для отрисовки всех кривых на одной фигуре - пунктир - субоптимальные данные\n",
    "\n",
    "import matplotlib.pyplot as plt\n",
    "\n",
    "\n",
    "def plot_lines(data):\n",
    "    colors = {\n",
    "        \"bc\": \"green\",\n",
    "        \"cql\": \"blue\",\n",
    "        \"dt\": \"yellow\",\n",
    "    }\n",
    "    _, ax = plt.subplots(figsize=(12, 6))\n",
    "\n",
    "    for key, values in data.items():\n",
    "        model, data_type = key.split(\"_\")\n",
    "        if data_type == \"suboptimal\":\n",
    "            linestyle = \"--\"\n",
    "        else:\n",
    "            linestyle = \"-\"\n",
    "        color = colors[model]\n",
    "\n",
    "        ax.plot(values, label=key, linestyle=linestyle, color=color)\n",
    "\n",
    "    ax.legend()\n",
    "    ax.set_xlabel(\"Epochs\")\n",
    "    ax.set_ylabel(\"Returns\")\n",
    "    ax.set_title(\"Графики сходимости алгоритмов\")\n",
    "    plt.show()"
   ]
  },
  {
   "cell_type": "code",
   "execution_count": 12,
   "metadata": {},
   "outputs": [
    {
     "name": "stdout",
     "output_type": "stream",
     "text": [
      "Начальное наблюдение в виде вектора: 49\n",
      "Наблюдение: [0. 1. 0. 1. 0. 0. 0. 1. 1. 1. 0. 0. 0. 0. 1. 0. 0. 0. 1. 1. 0. 0. 1. 0.\n",
      " 0. 1. 0. 0. 0. 1. 1. 0. 0. 1. 1. 1. 1. 1. 1. 1. 1. 1. 0. 0. 0. 0. 0. 0.\n",
      " 0.], Награда: 0.0, Завершено: False\n",
      "Наблюдение: [1. 0. 0. 0. 0. 0. 1. 0. 1. 0. 1. 0. 0. 0. 1. 1. 1. 0. 0. 0. 0. 1. 0. 0.\n",
      " 0. 1. 1. 0. 0. 1. 0. 0. 1. 0. 0. 0. 1. 1. 0. 0. 1. 1. 1. 1. 1. 1. 1. 1.\n",
      " 1.], Награда: 0.0, Завершено: False\n",
      "Наблюдение: [1. 0. 0. 0. 0. 0. 1. 0. 1. 0. 1. 0. 0. 0. 1. 1. 1. 0. 0. 0. 0. 1. 0. 0.\n",
      " 0. 1. 1. 0. 0. 1. 0. 0. 1. 0. 0. 0. 1. 1. 0. 0. 1. 1. 1. 1. 1. 1. 1. 1.\n",
      " 1.], Награда: 0.0, Завершено: False\n",
      "Наблюдение: [0. 1. 0. 0. 1. 1. 0. 1. 0. 0. 0. 0. 0. 1. 0. 1. 0. 1. 0. 0. 0. 1. 1. 1.\n",
      " 0. 0. 0. 0. 1. 0. 0. 0. 1. 1. 0. 0. 1. 0. 0. 1. 0. 0. 0. 1. 1. 0. 0. 1.\n",
      " 1.], Награда: 0.0, Завершено: False\n",
      "Наблюдение: [0. 1. 0. 0. 1. 1. 0. 1. 0. 0. 0. 0. 0. 1. 0. 1. 0. 1. 0. 0. 0. 1. 1. 1.\n",
      " 0. 0. 0. 0. 1. 0. 0. 0. 1. 1. 0. 0. 1. 0. 0. 1. 0. 0. 0. 1. 1. 0. 0. 1.\n",
      " 1.], Награда: 0.0, Завершено: False\n",
      "Наблюдение: [0. 1. 0. 0. 1. 1. 0. 1. 0. 0. 0. 0. 0. 1. 0. 1. 0. 1. 0. 0. 0. 1. 1. 1.\n",
      " 0. 0. 0. 0. 1. 0. 0. 0. 1. 1. 0. 0. 1. 0. 0. 1. 0. 0. 0. 1. 1. 0. 0. 1.\n",
      " 1.], Награда: 0.0, Завершено: False\n",
      "Наблюдение: [0. 1. 0. 0. 1. 1. 0. 1. 0. 0. 0. 0. 0. 1. 0. 1. 0. 1. 0. 0. 0. 1. 1. 1.\n",
      " 0. 0. 0. 0. 1. 0. 0. 0. 1. 1. 0. 0. 1. 0. 0. 1. 0. 0. 0. 1. 1. 0. 0. 1.\n",
      " 1.], Награда: 0.0, Завершено: False\n",
      "Наблюдение: [1. 0. 0. 1. 1. 0. 1. 0. 0. 0. 0. 0. 1. 1. 1. 0. 1. 0. 0. 0. 1. 1. 1. 0.\n",
      " 0. 0. 0. 1. 0. 0. 0. 1. 1. 0. 1. 1. 0. 0. 1. 0. 0. 0. 1. 1. 0. 0. 1. 1.\n",
      " 0.], Награда: 0.0, Завершено: False\n",
      "Наблюдение: [0. 0. 1. 0. 0. 0. 1. 1. 0. 0. 1. 1. 0. 1. 0. 0. 0. 0. 0. 1. 1. 1. 0. 1.\n",
      " 0. 0. 0. 1. 1. 1. 0. 0. 0. 0. 1. 0. 0. 0. 1. 1. 0. 1. 1. 0. 0. 1. 0. 0.\n",
      " 0.], Награда: 0.0, Завершено: False\n",
      "Наблюдение: [0. 0. 0. 0. 0. 0. 0. 0. 0. 1. 0. 0. 0. 1. 1. 0. 0. 1. 1. 0. 1. 0. 0. 0.\n",
      " 0. 0. 1. 1. 1. 0. 1. 0. 0. 0. 1. 1. 1. 0. 0. 0. 0. 1. 0. 0. 0. 1. 1. 0.\n",
      " 1.], Награда: 0.0, Завершено: False\n"
     ]
    },
    {
     "name": "stderr",
     "output_type": "stream",
     "text": [
      "/home/p1dg/.local/lib/python3.10/site-packages/gym/spaces/box.py:127: UserWarning: \u001b[33mWARN: Box bound precision lowered by casting to float32\u001b[0m\n",
      "  logger.warn(f\"Box bound precision lowered by casting to {self.dtype}\")\n"
     ]
    }
   ],
   "source": [
    "## КОД С СЕМИНАРА\n",
    "\n",
    "import numpy as np\n",
    "import pandas as pd\n",
    "import gym\n",
    "from pogema import pogema_v0, GridConfig\n",
    "\n",
    "\n",
    "class VectorObservationAndActionWrapper(gym.Wrapper):\n",
    "    def __init__(self, env):\n",
    "        super(VectorObservationAndActionWrapper, self).__init__(env)\n",
    "        self.action_space = env.action_space\n",
    "        obs_space = env.observation_space\n",
    "        size = obs_space.shape\n",
    "        new_size = 1 * size[1] * size[2]\n",
    "        self.observation_space = gym.spaces.Box(\n",
    "            low=np.zeros((new_size)),\n",
    "            high=np.ones((new_size)),\n",
    "            shape=(new_size,),\n",
    "            dtype=obs_space.dtype,\n",
    "        )\n",
    "\n",
    "    def reset(self):\n",
    "        observation, is_active = self.env.reset()\n",
    "        return (\n",
    "            observation[0][0].flatten(),\n",
    "            is_active,\n",
    "        )  # Возвращает наблюдение как одномерный вектор\n",
    "\n",
    "    def step(self, action):\n",
    "        # Упаковка действия в массив\n",
    "        obs, reward, trancated, terminated, info = self.env.step([action])\n",
    "\n",
    "        # Распаковка наблюдения, награды и флага завершения\n",
    "        return obs[0][0].flatten(), reward[0], trancated[0], terminated[0], info[0]\n",
    "\n",
    "\n",
    "# Определение конфигурации среды\n",
    "grid_config = GridConfig(\n",
    "    num_agents=1,  # количество агентов\n",
    "    size=15,  # размер сетки\n",
    "    density=0.4,  # плотность препятствий\n",
    "    seed=2,  # зерно для генерации\n",
    "    max_episode_steps=128,  # горизонт планирования\n",
    "    obs_radius=3,  # радиус видимости\n",
    ")\n",
    "\n",
    "# Создание среды и обертывание ее\n",
    "env = pogema_v0(grid_config=grid_config)\n",
    "env = VectorObservationAndActionWrapper(env)\n",
    "\n",
    "# Тестирование среды\n",
    "obs = env.reset()\n",
    "print(\"Начальное наблюдение в виде вектора:\", len(obs[0]))\n",
    "\n",
    "for _ in range(10):\n",
    "    action = env.action_space.sample()  # Выбор случайного действия\n",
    "    obs, reward, trancated, terminated, info = env.step(action)\n",
    "    done = trancated | terminated\n",
    "    print(f\"Наблюдение: {obs}, Награда: {reward}, Завершено: {done}\")\n",
    "    if done:\n",
    "        break"
   ]
  },
  {
   "cell_type": "code",
   "execution_count": 3,
   "metadata": {},
   "outputs": [
    {
     "name": "stdout",
     "output_type": "stream",
     "text": [
      "Начальное наблюдение в виде вектора: 49\n",
      "Наблюдение: [1. 0. 1. 0. 1. 0. 0. 1. 1. 1. 1. 0. 0. 0. 1. 1. 0. 0. 0. 1. 1. 1. 0. 1.\n",
      " 0. 0. 1. 0. 1. 0. 1. 1. 0. 0. 1. 1. 1. 1. 1. 1. 1. 1. 0. 0. 0. 0. 0. 0.\n",
      " 0.], Награда: -0.7071067811865476, Завершено: False, Положение агента [(16, 6)], Положение цели [(9, 5)], action 2\n",
      "Наблюдение: [1. 0. 1. 0. 1. 0. 0. 1. 1. 1. 1. 0. 0. 0. 1. 1. 0. 0. 0. 1. 1. 1. 0. 1.\n",
      " 0. 0. 1. 0. 1. 0. 1. 1. 0. 0. 1. 1. 1. 1. 1. 1. 1. 1. 0. 0. 0. 0. 0. 0.\n",
      " 0.], Награда: -0.7071067811865476, Завершено: False, Положение агента [(16, 6)], Положение цели [(9, 5)], action 2\n",
      "Наблюдение: [0. 1. 0. 1. 0. 0. 0. 1. 1. 1. 0. 0. 0. 0. 1. 0. 0. 0. 1. 1. 0. 0. 1. 0.\n",
      " 0. 1. 0. 0. 0. 1. 1. 0. 0. 1. 1. 1. 1. 1. 1. 1. 1. 1. 0. 0. 0. 0. 0. 0.\n",
      " 0.], Награда: -0.7280109889280518, Завершено: False, Положение агента [(16, 7)], Положение цели [(9, 5)], action 4\n"
     ]
    }
   ],
   "source": [
    "class Reward_wrapper(gym.Wrapper):\n",
    "    def __init__(self, env):\n",
    "        super(Reward_wrapper, self).__init__(env)\n",
    "\n",
    "    def step(self, action):\n",
    "        obs, reward, truncated, terminated, info = self.env.step(action)\n",
    "        target_coord = np.array(env.get_targets_xy())\n",
    "        agent_coord = np.array(env.get_agents_xy())\n",
    "        distance_to_target = np.linalg.norm(agent_coord[0] - target_coord[0])\n",
    "        reward -= 0.1 * distance_to_target\n",
    "\n",
    "        return obs, reward, truncated, terminated, info\n",
    "\n",
    "    def reset(self):\n",
    "        \"\"\"Reset the environment and return the initial observation.\"\"\"\n",
    "        return self.env.reset()\n",
    "\n",
    "\n",
    "env = Reward_wrapper(env)\n",
    "\n",
    "# Тестирование среды\n",
    "obs = env.reset()\n",
    "print(\"Начальное наблюдение в виде вектора:\", len(obs[0]))\n",
    "\n",
    "for _ in range(3):\n",
    "    action = env.action_space.sample()  # Выбор случайного действия\n",
    "    obs, reward, trancated, terminated, info = env.step(action)\n",
    "    done = trancated | terminated\n",
    "    # env.render()\n",
    "    print(\n",
    "        f\"Наблюдение: {obs}, Награда: {reward}, Завершено: {done}, Положение агента {env.get_agents_xy()}, Положение цели {env.get_targets_xy()}, action {action}\"\n",
    "    )\n",
    "    if done:\n",
    "        break"
   ]
  },
  {
   "cell_type": "code",
   "execution_count": 4,
   "metadata": {},
   "outputs": [],
   "source": [
    "## ФУНКЦИИ ОТРИСОВКИ ДАННЫХ\n",
    "import matplotlib.pyplot as plt\n",
    "\n",
    "\n",
    "def plot_metrics(statistics, label):\n",
    "    epochs = []\n",
    "    returns = []\n",
    "    for stats in statistics:\n",
    "        epoch = stats[0]\n",
    "        metrics = stats[1]\n",
    "        env_return = metrics[\"environment\"]\n",
    "        epochs.append(epoch)\n",
    "        returns.append(env_return)\n",
    "    plt.plot(epochs, returns, label=label)\n",
    "\n",
    "\n",
    "def get_scores(data):\n",
    "    result = []\n",
    "    for i in range(len(data)):\n",
    "        result.append([scores[1][\"environment\"] for scores in data[i]])\n",
    "    return np.array(result)\n",
    "\n",
    "\n",
    "def visualize_with_std(data, proportions, label=\"default\"):\n",
    "    # Расчет средних значений и стандартных отклоненийt\n",
    "    means = {p: np.mean(get_scores(data[p]), axis=0) for p in proportions}\n",
    "    stds = {p: np.std(get_scores(data[p]), axis=0) for p in proportions}\n",
    "\n",
    "    for p in proportions:\n",
    "        x = np.arange(1, len(means[p]) + 1)\n",
    "        plt.plot(x, means[p], label=f\"{label} - Mean of {p}\")\n",
    "        plt.fill_between(x, means[p] - stds[p], means[p] + stds[p], alpha=0.2)\n",
    "\n",
    "    plt.title(\"Сравнение обучения на данных разного качества\")"
   ]
  },
  {
   "cell_type": "markdown",
   "metadata": {},
   "source": [
    "### Сбор эталонных данных\n"
   ]
  },
  {
   "cell_type": "code",
   "execution_count": 5,
   "metadata": {},
   "outputs": [
    {
     "name": "stdout",
     "output_type": "stream",
     "text": [
      "\u001b[2m2024-04-15 23:55.35\u001b[0m [\u001b[32m\u001b[1minfo     \u001b[0m] \u001b[1mSignatures have been automatically determined.\u001b[0m \u001b[36maction_signature\u001b[0m=\u001b[35mSignature(dtype=[dtype('int64')], shape=[()])\u001b[0m \u001b[36mobservation_signature\u001b[0m=\u001b[35mSignature(dtype=[dtype('float32')], shape=[(49,)])\u001b[0m \u001b[36mreward_signature\u001b[0m=\u001b[35mSignature(dtype=[dtype('float32')], shape=[[1]])\u001b[0m\n",
      "\u001b[2m2024-04-15 23:55.35\u001b[0m [\u001b[32m\u001b[1minfo     \u001b[0m] \u001b[1mAction-space has been automatically determined.\u001b[0m \u001b[36maction_space\u001b[0m=\u001b[35m<ActionSpace.DISCRETE: 2>\u001b[0m\n",
      "\u001b[2m2024-04-15 23:55.35\u001b[0m [\u001b[32m\u001b[1minfo     \u001b[0m] \u001b[1mAction size has been automatically determined.\u001b[0m \u001b[36maction_size\u001b[0m=\u001b[35m5\u001b[0m\n",
      "\u001b[2m2024-04-15 23:55.35\u001b[0m [\u001b[32m\u001b[1minfo     \u001b[0m] \u001b[1mDirectory is created at d3rlpy_logs/DQN_online_20240415235535\u001b[0m\n",
      "\u001b[2m2024-04-15 23:55.35\u001b[0m [\u001b[32m\u001b[1mdebug    \u001b[0m] \u001b[1mBuilding model...             \u001b[0m\n",
      "\u001b[2m2024-04-15 23:55.37\u001b[0m [\u001b[32m\u001b[1mdebug    \u001b[0m] \u001b[1mModel has been built.         \u001b[0m\n",
      "\u001b[2m2024-04-15 23:55.37\u001b[0m [\u001b[32m\u001b[1minfo     \u001b[0m] \u001b[1mParameters                    \u001b[0m \u001b[36mparams\u001b[0m=\u001b[35m{'observation_shape': [49], 'action_size': 5, 'config': {'type': 'dqn', 'params': {'batch_size': 32, 'gamma': 0.99, 'observation_scaler': {'type': 'none', 'params': {}}, 'action_scaler': {'type': 'none', 'params': {}}, 'reward_scaler': {'type': 'none', 'params': {}}, 'learning_rate': 6.25e-05, 'optim_factory': {'type': 'adam', 'params': {'betas': [0.9, 0.999], 'eps': 1e-08, 'weight_decay': 0, 'amsgrad': False}}, 'encoder_factory': {'type': 'default', 'params': {'activation': 'relu', 'use_batch_norm': False, 'dropout_rate': None}}, 'q_func_factory': {'type': 'mean', 'params': {'share_encoder': False}}, 'n_critics': 1, 'target_update_interval': 8000}}}\u001b[0m\n"
     ]
    },
    {
     "data": {
      "application/vnd.jupyter.widget-view+json": {
       "model_id": "412b665b980744afbdb984b0791ec246",
       "version_major": 2,
       "version_minor": 0
      },
      "text/plain": [
       "  0%|          | 0/150000 [00:00<?, ?it/s]"
      ]
     },
     "metadata": {},
     "output_type": "display_data"
    },
    {
     "name": "stdout",
     "output_type": "stream",
     "text": [
      "\u001b[2m2024-04-15 23:56.00\u001b[0m [\u001b[32m\u001b[1minfo     \u001b[0m] \u001b[1mModel parameters are saved to d3rlpy_logs/DQN_online_20240415235535/model_5000.d3\u001b[0m\n",
      "\u001b[2m2024-04-15 23:56.00\u001b[0m [\u001b[32m\u001b[1minfo     \u001b[0m] \u001b[1mDQN_online_20240415235535: epoch=1 step=5000\u001b[0m \u001b[36mepoch\u001b[0m=\u001b[35m1\u001b[0m \u001b[36mmetrics\u001b[0m=\u001b[35m{'time_inference': 0.000802042293548584, 'time_environment_step': 7.820439338684081e-05, 'time_step': 0.004605674171447754, 'time_sample_batch': 0.0007783907722702011, 'time_algorithm_update': 0.0029265717382951357, 'loss': 0.002415869846832904, 'rollout_return': -63.02782993700749}\u001b[0m \u001b[36mstep\u001b[0m=\u001b[35m5000\u001b[0m\n",
      "\u001b[2m2024-04-15 23:56.23\u001b[0m [\u001b[32m\u001b[1minfo     \u001b[0m] \u001b[1mModel parameters are saved to d3rlpy_logs/DQN_online_20240415235535/model_10000.d3\u001b[0m\n",
      "\u001b[2m2024-04-15 23:56.23\u001b[0m [\u001b[32m\u001b[1minfo     \u001b[0m] \u001b[1mDQN_online_20240415235535: epoch=2 step=10000\u001b[0m \u001b[36mepoch\u001b[0m=\u001b[35m2\u001b[0m \u001b[36mmetrics\u001b[0m=\u001b[35m{'time_inference': 0.0005538656711578369, 'time_environment_step': 7.609705924987793e-05, 'time_sample_batch': 0.0007824569702148437, 'time_algorithm_update': 0.0030078224658966063, 'loss': 0.0005029261295392523, 'time_step': 0.004467263555526733, 'rollout_return': -51.10596888714676}\u001b[0m \u001b[36mstep\u001b[0m=\u001b[35m10000\u001b[0m\n",
      "\u001b[2m2024-04-15 23:56.45\u001b[0m [\u001b[32m\u001b[1minfo     \u001b[0m] \u001b[1mModel parameters are saved to d3rlpy_logs/DQN_online_20240415235535/model_15000.d3\u001b[0m\n",
      "\u001b[2m2024-04-15 23:56.45\u001b[0m [\u001b[32m\u001b[1minfo     \u001b[0m] \u001b[1mDQN_online_20240415235535: epoch=3 step=15000\u001b[0m \u001b[36mepoch\u001b[0m=\u001b[35m3\u001b[0m \u001b[36mmetrics\u001b[0m=\u001b[35m{'time_inference': 0.0005728425979614258, 'time_environment_step': 8.259305953979492e-05, 'time_sample_batch': 0.0008164512157440185, 'time_algorithm_update': 0.002948233938217163, 'loss': 1.8828351888621598e-05, 'time_step': 0.004471963167190552, 'rollout_return': -43.74301511988873}\u001b[0m \u001b[36mstep\u001b[0m=\u001b[35m15000\u001b[0m\n",
      "\u001b[2m2024-04-15 23:57.08\u001b[0m [\u001b[32m\u001b[1minfo     \u001b[0m] \u001b[1mModel parameters are saved to d3rlpy_logs/DQN_online_20240415235535/model_20000.d3\u001b[0m\n",
      "\u001b[2m2024-04-15 23:57.08\u001b[0m [\u001b[32m\u001b[1minfo     \u001b[0m] \u001b[1mDQN_online_20240415235535: epoch=4 step=20000\u001b[0m \u001b[36mepoch\u001b[0m=\u001b[35m4\u001b[0m \u001b[36mmetrics\u001b[0m=\u001b[35m{'time_inference': 0.0005605364322662353, 'time_environment_step': 7.96149730682373e-05, 'time_sample_batch': 0.0008207574367523193, 'time_algorithm_update': 0.0029592785835266112, 'loss': 0.0004545096743188026, 'time_step': 0.004508051776885986, 'rollout_return': -11.14992970525964}\u001b[0m \u001b[36mstep\u001b[0m=\u001b[35m20000\u001b[0m\n",
      "\u001b[2m2024-04-15 23:57.31\u001b[0m [\u001b[32m\u001b[1minfo     \u001b[0m] \u001b[1mModel parameters are saved to d3rlpy_logs/DQN_online_20240415235535/model_25000.d3\u001b[0m\n",
      "\u001b[2m2024-04-15 23:57.31\u001b[0m [\u001b[32m\u001b[1minfo     \u001b[0m] \u001b[1mDQN_online_20240415235535: epoch=5 step=25000\u001b[0m \u001b[36mepoch\u001b[0m=\u001b[35m5\u001b[0m \u001b[36mmetrics\u001b[0m=\u001b[35m{'time_inference': 0.0005786324977874756, 'time_environment_step': 7.857317924499512e-05, 'time_sample_batch': 0.0008287214756011963, 'time_algorithm_update': 0.0030558277130126954, 'loss': 0.0003982392124978734, 'time_step': 0.004639747333526611, 'rollout_return': -8.82365620957866}\u001b[0m \u001b[36mstep\u001b[0m=\u001b[35m25000\u001b[0m\n",
      "\u001b[2m2024-04-15 23:57.55\u001b[0m [\u001b[32m\u001b[1minfo     \u001b[0m] \u001b[1mModel parameters are saved to d3rlpy_logs/DQN_online_20240415235535/model_30000.d3\u001b[0m\n",
      "\u001b[2m2024-04-15 23:57.55\u001b[0m [\u001b[32m\u001b[1minfo     \u001b[0m] \u001b[1mDQN_online_20240415235535: epoch=6 step=30000\u001b[0m \u001b[36mepoch\u001b[0m=\u001b[35m6\u001b[0m \u001b[36mmetrics\u001b[0m=\u001b[35m{'time_inference': 0.0005808511257171631, 'time_environment_step': 7.763671875e-05, 'time_sample_batch': 0.0008592919826507569, 'time_algorithm_update': 0.0031036648750305176, 'loss': 7.438135842747897e-05, 'time_step': 0.004722030115127563, 'rollout_return': -8.152083667825451}\u001b[0m \u001b[36mstep\u001b[0m=\u001b[35m30000\u001b[0m\n",
      "\u001b[2m2024-04-15 23:58.19\u001b[0m [\u001b[32m\u001b[1minfo     \u001b[0m] \u001b[1mModel parameters are saved to d3rlpy_logs/DQN_online_20240415235535/model_35000.d3\u001b[0m\n",
      "\u001b[2m2024-04-15 23:58.19\u001b[0m [\u001b[32m\u001b[1minfo     \u001b[0m] \u001b[1mDQN_online_20240415235535: epoch=7 step=35000\u001b[0m \u001b[36mepoch\u001b[0m=\u001b[35m7\u001b[0m \u001b[36mmetrics\u001b[0m=\u001b[35m{'time_inference': 0.0005861497879028321, 'time_environment_step': 7.737360000610351e-05, 'time_sample_batch': 0.0008544911861419678, 'time_algorithm_update': 0.0031050981521606445, 'loss': 0.0004290164778519426, 'time_step': 0.004728172349929809, 'rollout_return': -7.086119928569811}\u001b[0m \u001b[36mstep\u001b[0m=\u001b[35m35000\u001b[0m\n",
      "\u001b[2m2024-04-15 23:58.42\u001b[0m [\u001b[32m\u001b[1minfo     \u001b[0m] \u001b[1mModel parameters are saved to d3rlpy_logs/DQN_online_20240415235535/model_40000.d3\u001b[0m\n",
      "\u001b[2m2024-04-15 23:58.42\u001b[0m [\u001b[32m\u001b[1minfo     \u001b[0m] \u001b[1mDQN_online_20240415235535: epoch=8 step=40000\u001b[0m \u001b[36mepoch\u001b[0m=\u001b[35m8\u001b[0m \u001b[36mmetrics\u001b[0m=\u001b[35m{'time_inference': 0.0005862897872924805, 'time_environment_step': 7.732362747192383e-05, 'time_sample_batch': 0.0008701650142669678, 'time_algorithm_update': 0.0030954662799835206, 'loss': 3.706646929283863e-05, 'time_step': 0.004733599376678467, 'rollout_return': -7.282616610741027}\u001b[0m \u001b[36mstep\u001b[0m=\u001b[35m40000\u001b[0m\n",
      "\u001b[2m2024-04-15 23:59.06\u001b[0m [\u001b[32m\u001b[1minfo     \u001b[0m] \u001b[1mModel parameters are saved to d3rlpy_logs/DQN_online_20240415235535/model_45000.d3\u001b[0m\n",
      "\u001b[2m2024-04-15 23:59.06\u001b[0m [\u001b[32m\u001b[1minfo     \u001b[0m] \u001b[1mDQN_online_20240415235535: epoch=9 step=45000\u001b[0m \u001b[36mepoch\u001b[0m=\u001b[35m9\u001b[0m \u001b[36mmetrics\u001b[0m=\u001b[35m{'time_inference': 0.0005997191429138183, 'time_environment_step': 7.970972061157226e-05, 'time_sample_batch': 0.0008989714145660401, 'time_algorithm_update': 0.0030386311531066896, 'loss': 0.000557034370004186, 'time_step': 0.0047187951564788815, 'rollout_return': -7.568399081302704}\u001b[0m \u001b[36mstep\u001b[0m=\u001b[35m45000\u001b[0m\n",
      "\u001b[2m2024-04-15 23:59.30\u001b[0m [\u001b[32m\u001b[1minfo     \u001b[0m] \u001b[1mModel parameters are saved to d3rlpy_logs/DQN_online_20240415235535/model_50000.d3\u001b[0m\n",
      "\u001b[2m2024-04-15 23:59.30\u001b[0m [\u001b[32m\u001b[1minfo     \u001b[0m] \u001b[1mDQN_online_20240415235535: epoch=10 step=50000\u001b[0m \u001b[36mepoch\u001b[0m=\u001b[35m10\u001b[0m \u001b[36mmetrics\u001b[0m=\u001b[35m{'time_inference': 0.0005899078369140625, 'time_environment_step': 7.813749313354492e-05, 'time_sample_batch': 0.0009078290462493896, 'time_algorithm_update': 0.003114977836608887, 'loss': 0.00037133410426872616, 'time_step': 0.004792442893981934, 'rollout_return': -7.827437621263601}\u001b[0m \u001b[36mstep\u001b[0m=\u001b[35m50000\u001b[0m\n",
      "\u001b[2m2024-04-15 23:59.55\u001b[0m [\u001b[32m\u001b[1minfo     \u001b[0m] \u001b[1mModel parameters are saved to d3rlpy_logs/DQN_online_20240415235535/model_55000.d3\u001b[0m\n",
      "\u001b[2m2024-04-15 23:59.55\u001b[0m [\u001b[32m\u001b[1minfo     \u001b[0m] \u001b[1mDQN_online_20240415235535: epoch=11 step=55000\u001b[0m \u001b[36mepoch\u001b[0m=\u001b[35m11\u001b[0m \u001b[36mmetrics\u001b[0m=\u001b[35m{'time_inference': 0.0005946963787078857, 'time_environment_step': 7.819409370422364e-05, 'time_sample_batch': 0.0009202191352844239, 'time_algorithm_update': 0.003173404884338379, 'loss': 5.5408953100180724e-05, 'time_step': 0.004871439647674561, 'rollout_return': -7.232837638827759}\u001b[0m \u001b[36mstep\u001b[0m=\u001b[35m55000\u001b[0m\n",
      "\u001b[2m2024-04-16 00:00.19\u001b[0m [\u001b[32m\u001b[1minfo     \u001b[0m] \u001b[1mModel parameters are saved to d3rlpy_logs/DQN_online_20240415235535/model_60000.d3\u001b[0m\n",
      "\u001b[2m2024-04-16 00:00.19\u001b[0m [\u001b[32m\u001b[1minfo     \u001b[0m] \u001b[1mDQN_online_20240415235535: epoch=12 step=60000\u001b[0m \u001b[36mepoch\u001b[0m=\u001b[35m12\u001b[0m \u001b[36mmetrics\u001b[0m=\u001b[35m{'time_inference': 0.0006020813465118408, 'time_environment_step': 7.786602973937988e-05, 'time_sample_batch': 0.0009304726600646972, 'time_algorithm_update': 0.003171521615982056, 'loss': 0.000296909884069305, 'time_step': 0.0048859305381774906, 'rollout_return': -7.343882846481804}\u001b[0m \u001b[36mstep\u001b[0m=\u001b[35m60000\u001b[0m\n",
      "\u001b[2m2024-04-16 00:00.43\u001b[0m [\u001b[32m\u001b[1minfo     \u001b[0m] \u001b[1mModel parameters are saved to d3rlpy_logs/DQN_online_20240415235535/model_65000.d3\u001b[0m\n",
      "\u001b[2m2024-04-16 00:00.43\u001b[0m [\u001b[32m\u001b[1minfo     \u001b[0m] \u001b[1mDQN_online_20240415235535: epoch=13 step=65000\u001b[0m \u001b[36mepoch\u001b[0m=\u001b[35m13\u001b[0m \u001b[36mmetrics\u001b[0m=\u001b[35m{'time_inference': 0.0005849582672119141, 'time_environment_step': 7.796354293823242e-05, 'time_sample_batch': 0.0009456529140472412, 'time_algorithm_update': 0.0030805397987365723, 'loss': 0.00022977753562886393, 'time_step': 0.004793655920028687, 'rollout_return': -7.376234775441801}\u001b[0m \u001b[36mstep\u001b[0m=\u001b[35m65000\u001b[0m\n",
      "\u001b[2m2024-04-16 00:01.08\u001b[0m [\u001b[32m\u001b[1minfo     \u001b[0m] \u001b[1mModel parameters are saved to d3rlpy_logs/DQN_online_20240415235535/model_70000.d3\u001b[0m\n",
      "\u001b[2m2024-04-16 00:01.08\u001b[0m [\u001b[32m\u001b[1minfo     \u001b[0m] \u001b[1mDQN_online_20240415235535: epoch=14 step=70000\u001b[0m \u001b[36mepoch\u001b[0m=\u001b[35m14\u001b[0m \u001b[36mmetrics\u001b[0m=\u001b[35m{'time_inference': 0.0005811138153076172, 'time_environment_step': 7.892255783081054e-05, 'rollout_return': -7.129249300670619, 'time_sample_batch': 0.0009647528171539307, 'time_algorithm_update': 0.003059991979598999, 'loss': 5.169107394076491e-05, 'time_step': 0.004790564107894898}\u001b[0m \u001b[36mstep\u001b[0m=\u001b[35m70000\u001b[0m\n",
      "\u001b[2m2024-04-16 00:01.32\u001b[0m [\u001b[32m\u001b[1minfo     \u001b[0m] \u001b[1mModel parameters are saved to d3rlpy_logs/DQN_online_20240415235535/model_75000.d3\u001b[0m\n",
      "\u001b[2m2024-04-16 00:01.32\u001b[0m [\u001b[32m\u001b[1minfo     \u001b[0m] \u001b[1mDQN_online_20240415235535: epoch=15 step=75000\u001b[0m \u001b[36mepoch\u001b[0m=\u001b[35m15\u001b[0m \u001b[36mmetrics\u001b[0m=\u001b[35m{'time_inference': 0.0005886980056762695, 'time_environment_step': 7.723031044006347e-05, 'time_sample_batch': 0.0009677560806274414, 'time_algorithm_update': 0.003154766893386841, 'loss': 0.00021991913190846902, 'time_step': 0.004891062927246094, 'rollout_return': -7.4698663181663285}\u001b[0m \u001b[36mstep\u001b[0m=\u001b[35m75000\u001b[0m\n",
      "\u001b[2m2024-04-16 00:01.57\u001b[0m [\u001b[32m\u001b[1minfo     \u001b[0m] \u001b[1mModel parameters are saved to d3rlpy_logs/DQN_online_20240415235535/model_80000.d3\u001b[0m\n",
      "\u001b[2m2024-04-16 00:01.57\u001b[0m [\u001b[32m\u001b[1minfo     \u001b[0m] \u001b[1mDQN_online_20240415235535: epoch=16 step=80000\u001b[0m \u001b[36mepoch\u001b[0m=\u001b[35m16\u001b[0m \u001b[36mmetrics\u001b[0m=\u001b[35m{'time_inference': 0.0005944520950317383, 'time_environment_step': 7.725038528442383e-05, 'time_sample_batch': 0.0009841659545898438, 'time_algorithm_update': 0.0031676934242248537, 'loss': 3.7164229294194226e-05, 'time_step': 0.0049268492698669435, 'rollout_return': -7.37153514908815}\u001b[0m \u001b[36mstep\u001b[0m=\u001b[35m80000\u001b[0m\n",
      "\u001b[2m2024-04-16 00:02.22\u001b[0m [\u001b[32m\u001b[1minfo     \u001b[0m] \u001b[1mModel parameters are saved to d3rlpy_logs/DQN_online_20240415235535/model_85000.d3\u001b[0m\n",
      "\u001b[2m2024-04-16 00:02.22\u001b[0m [\u001b[32m\u001b[1minfo     \u001b[0m] \u001b[1mDQN_online_20240415235535: epoch=17 step=85000\u001b[0m \u001b[36mepoch\u001b[0m=\u001b[35m17\u001b[0m \u001b[36mmetrics\u001b[0m=\u001b[35m{'time_inference': 0.0005903816223144531, 'time_environment_step': 7.712059020996094e-05, 'time_sample_batch': 0.0009965904235839844, 'time_algorithm_update': 0.003260736703872681, 'loss': 0.00017032789574745948, 'time_step': 0.0050265449047088625, 'rollout_return': -7.521844152476447}\u001b[0m \u001b[36mstep\u001b[0m=\u001b[35m85000\u001b[0m\n",
      "\u001b[2m2024-04-16 00:02.48\u001b[0m [\u001b[32m\u001b[1minfo     \u001b[0m] \u001b[1mModel parameters are saved to d3rlpy_logs/DQN_online_20240415235535/model_90000.d3\u001b[0m\n",
      "\u001b[2m2024-04-16 00:02.48\u001b[0m [\u001b[32m\u001b[1minfo     \u001b[0m] \u001b[1mDQN_online_20240415235535: epoch=18 step=90000\u001b[0m \u001b[36mepoch\u001b[0m=\u001b[35m18\u001b[0m \u001b[36mmetrics\u001b[0m=\u001b[35m{'time_inference': 0.000599627685546875, 'time_environment_step': 7.732100486755371e-05, 'time_sample_batch': 0.0010150603771209717, 'time_algorithm_update': 0.003275098705291748, 'loss': 0.0002206018258051074, 'time_step': 0.005070906782150268, 'rollout_return': -7.378418736616665}\u001b[0m \u001b[36mstep\u001b[0m=\u001b[35m90000\u001b[0m\n",
      "\u001b[2m2024-04-16 00:03.13\u001b[0m [\u001b[32m\u001b[1minfo     \u001b[0m] \u001b[1mModel parameters are saved to d3rlpy_logs/DQN_online_20240415235535/model_95000.d3\u001b[0m\n",
      "\u001b[2m2024-04-16 00:03.13\u001b[0m [\u001b[32m\u001b[1minfo     \u001b[0m] \u001b[1mDQN_online_20240415235535: epoch=19 step=95000\u001b[0m \u001b[36mepoch\u001b[0m=\u001b[35m19\u001b[0m \u001b[36mmetrics\u001b[0m=\u001b[35m{'time_inference': 0.0005927113533020019, 'time_environment_step': 7.742123603820801e-05, 'time_sample_batch': 0.0010332535743713379, 'time_algorithm_update': 0.003299962377548218, 'loss': 3.055577338420789e-05, 'time_step': 0.005107158851623535, 'rollout_return': -7.4727534315048505}\u001b[0m \u001b[36mstep\u001b[0m=\u001b[35m95000\u001b[0m\n",
      "\u001b[2m2024-04-16 00:03.39\u001b[0m [\u001b[32m\u001b[1minfo     \u001b[0m] \u001b[1mModel parameters are saved to d3rlpy_logs/DQN_online_20240415235535/model_100000.d3\u001b[0m\n",
      "\u001b[2m2024-04-16 00:03.39\u001b[0m [\u001b[32m\u001b[1minfo     \u001b[0m] \u001b[1mDQN_online_20240415235535: epoch=20 step=100000\u001b[0m \u001b[36mepoch\u001b[0m=\u001b[35m20\u001b[0m \u001b[36mmetrics\u001b[0m=\u001b[35m{'time_inference': 0.0006006235599517822, 'time_environment_step': 7.763710021972656e-05, 'time_sample_batch': 0.001049299192428589, 'time_algorithm_update': 0.0032895474433898924, 'loss': 0.0001677460983755168, 'time_step': 0.005120513200759888, 'rollout_return': -7.33269684867926}\u001b[0m \u001b[36mstep\u001b[0m=\u001b[35m100000\u001b[0m\n",
      "\u001b[2m2024-04-16 00:04.05\u001b[0m [\u001b[32m\u001b[1minfo     \u001b[0m] \u001b[1mModel parameters are saved to d3rlpy_logs/DQN_online_20240415235535/model_105000.d3\u001b[0m\n",
      "\u001b[2m2024-04-16 00:04.05\u001b[0m [\u001b[32m\u001b[1minfo     \u001b[0m] \u001b[1mDQN_online_20240415235535: epoch=21 step=105000\u001b[0m \u001b[36mepoch\u001b[0m=\u001b[35m21\u001b[0m \u001b[36mmetrics\u001b[0m=\u001b[35m{'time_inference': 0.0006045061588287353, 'time_environment_step': 7.719058990478516e-05, 'time_sample_batch': 0.0010569859504699706, 'time_algorithm_update': 0.003280671215057373, 'loss': 5.9784002833055183e-05, 'time_step': 0.005122459506988525, 'rollout_return': -7.666727383615416}\u001b[0m \u001b[36mstep\u001b[0m=\u001b[35m105000\u001b[0m\n",
      "\u001b[2m2024-04-16 00:04.31\u001b[0m [\u001b[32m\u001b[1minfo     \u001b[0m] \u001b[1mModel parameters are saved to d3rlpy_logs/DQN_online_20240415235535/model_110000.d3\u001b[0m\n",
      "\u001b[2m2024-04-16 00:04.31\u001b[0m [\u001b[32m\u001b[1minfo     \u001b[0m] \u001b[1mDQN_online_20240415235535: epoch=22 step=110000\u001b[0m \u001b[36mepoch\u001b[0m=\u001b[35m22\u001b[0m \u001b[36mmetrics\u001b[0m=\u001b[35m{'time_inference': 0.000597641134262085, 'time_environment_step': 7.73515224456787e-05, 'time_sample_batch': 0.001054487419128418, 'time_algorithm_update': 0.0032976418018341065, 'loss': 4.2632175921224305e-05, 'time_step': 0.0051322612285614015, 'rollout_return': -7.3416189369757845}\u001b[0m \u001b[36mstep\u001b[0m=\u001b[35m110000\u001b[0m\n",
      "\u001b[2m2024-04-16 00:04.57\u001b[0m [\u001b[32m\u001b[1minfo     \u001b[0m] \u001b[1mModel parameters are saved to d3rlpy_logs/DQN_online_20240415235535/model_115000.d3\u001b[0m\n",
      "\u001b[2m2024-04-16 00:04.57\u001b[0m [\u001b[32m\u001b[1minfo     \u001b[0m] \u001b[1mDQN_online_20240415235535: epoch=23 step=115000\u001b[0m \u001b[36mepoch\u001b[0m=\u001b[35m23\u001b[0m \u001b[36mmetrics\u001b[0m=\u001b[35m{'time_inference': 0.0006034514904022217, 'time_environment_step': 7.755398750305176e-05, 'time_sample_batch': 0.0010547231674194336, 'time_algorithm_update': 0.0033075241565704346, 'loss': 2.8117123083046636e-05, 'time_step': 0.005146749639511108, 'rollout_return': -7.620203062573098}\u001b[0m \u001b[36mstep\u001b[0m=\u001b[35m115000\u001b[0m\n",
      "\u001b[2m2024-04-16 00:05.22\u001b[0m [\u001b[32m\u001b[1minfo     \u001b[0m] \u001b[1mModel parameters are saved to d3rlpy_logs/DQN_online_20240415235535/model_120000.d3\u001b[0m\n",
      "\u001b[2m2024-04-16 00:05.22\u001b[0m [\u001b[32m\u001b[1minfo     \u001b[0m] \u001b[1mDQN_online_20240415235535: epoch=24 step=120000\u001b[0m \u001b[36mepoch\u001b[0m=\u001b[35m24\u001b[0m \u001b[36mmetrics\u001b[0m=\u001b[35m{'time_inference': 0.0005980735778808593, 'time_environment_step': 7.777843475341797e-05, 'time_sample_batch': 0.0010631080627441407, 'time_algorithm_update': 0.003304692506790161, 'loss': 2.5129088491405582e-05, 'time_step': 0.005147508382797241, 'rollout_return': -7.480345091962701}\u001b[0m \u001b[36mstep\u001b[0m=\u001b[35m120000\u001b[0m\n",
      "\u001b[2m2024-04-16 00:05.48\u001b[0m [\u001b[32m\u001b[1minfo     \u001b[0m] \u001b[1mModel parameters are saved to d3rlpy_logs/DQN_online_20240415235535/model_125000.d3\u001b[0m\n",
      "\u001b[2m2024-04-16 00:05.48\u001b[0m [\u001b[32m\u001b[1minfo     \u001b[0m] \u001b[1mDQN_online_20240415235535: epoch=25 step=125000\u001b[0m \u001b[36mepoch\u001b[0m=\u001b[35m25\u001b[0m \u001b[36mmetrics\u001b[0m=\u001b[35m{'time_inference': 0.0005927659034729004, 'time_environment_step': 7.752728462219238e-05, 'time_sample_batch': 0.0010613970279693603, 'time_algorithm_update': 0.0032999578952789305, 'loss': 2.5123343366175275e-05, 'time_step': 0.005137744140625, 'rollout_return': -7.252077684743519}\u001b[0m \u001b[36mstep\u001b[0m=\u001b[35m125000\u001b[0m\n",
      "\u001b[2m2024-04-16 00:06.14\u001b[0m [\u001b[32m\u001b[1minfo     \u001b[0m] \u001b[1mModel parameters are saved to d3rlpy_logs/DQN_online_20240415235535/model_130000.d3\u001b[0m\n",
      "\u001b[2m2024-04-16 00:06.14\u001b[0m [\u001b[32m\u001b[1minfo     \u001b[0m] \u001b[1mDQN_online_20240415235535: epoch=26 step=130000\u001b[0m \u001b[36mepoch\u001b[0m=\u001b[35m26\u001b[0m \u001b[36mmetrics\u001b[0m=\u001b[35m{'time_inference': 0.0005911441326141358, 'time_environment_step': 7.729945182800293e-05, 'time_sample_batch': 0.0010656923294067382, 'time_algorithm_update': 0.003287629508972168, 'loss': 1.8945214655025213e-05, 'time_step': 0.0051267369270324705, 'rollout_return': -7.403515851480704}\u001b[0m \u001b[36mstep\u001b[0m=\u001b[35m130000\u001b[0m\n",
      "\u001b[2m2024-04-16 00:06.40\u001b[0m [\u001b[32m\u001b[1minfo     \u001b[0m] \u001b[1mModel parameters are saved to d3rlpy_logs/DQN_online_20240415235535/model_135000.d3\u001b[0m\n",
      "\u001b[2m2024-04-16 00:06.40\u001b[0m [\u001b[32m\u001b[1minfo     \u001b[0m] \u001b[1mDQN_online_20240415235535: epoch=27 step=135000\u001b[0m \u001b[36mepoch\u001b[0m=\u001b[35m27\u001b[0m \u001b[36mmetrics\u001b[0m=\u001b[35m{'time_inference': 0.0005992844581604004, 'time_environment_step': 7.747888565063477e-05, 'time_sample_batch': 0.0010684451580047606, 'time_algorithm_update': 0.0032909735679626465, 'loss': 1.8155289464203863e-05, 'time_step': 0.005142541074752808, 'rollout_return': -7.056503718581795}\u001b[0m \u001b[36mstep\u001b[0m=\u001b[35m135000\u001b[0m\n",
      "\u001b[2m2024-04-16 00:07.06\u001b[0m [\u001b[32m\u001b[1minfo     \u001b[0m] \u001b[1mModel parameters are saved to d3rlpy_logs/DQN_online_20240415235535/model_140000.d3\u001b[0m\n",
      "\u001b[2m2024-04-16 00:07.06\u001b[0m [\u001b[32m\u001b[1minfo     \u001b[0m] \u001b[1mDQN_online_20240415235535: epoch=28 step=140000\u001b[0m \u001b[36mepoch\u001b[0m=\u001b[35m28\u001b[0m \u001b[36mmetrics\u001b[0m=\u001b[35m{'time_inference': 0.0006024220466613769, 'time_environment_step': 7.80400276184082e-05, 'time_sample_batch': 0.0010687158107757569, 'time_algorithm_update': 0.0032917930126190186, 'loss': 1.8576118138476262e-05, 'time_step': 0.005146536207199097, 'rollout_return': -7.36004218711315}\u001b[0m \u001b[36mstep\u001b[0m=\u001b[35m140000\u001b[0m\n",
      "\u001b[2m2024-04-16 00:07.32\u001b[0m [\u001b[32m\u001b[1minfo     \u001b[0m] \u001b[1mModel parameters are saved to d3rlpy_logs/DQN_online_20240415235535/model_145000.d3\u001b[0m\n",
      "\u001b[2m2024-04-16 00:07.32\u001b[0m [\u001b[32m\u001b[1minfo     \u001b[0m] \u001b[1mDQN_online_20240415235535: epoch=29 step=145000\u001b[0m \u001b[36mepoch\u001b[0m=\u001b[35m29\u001b[0m \u001b[36mmetrics\u001b[0m=\u001b[35m{'time_inference': 0.0005933862209320068, 'time_environment_step': 7.793278694152832e-05, 'rollout_return': -7.04022889997653, 'time_sample_batch': 0.0010630407810211181, 'time_algorithm_update': 0.003295253610610962, 'loss': 1.636019165338212e-05, 'time_step': 0.0051380765914916995}\u001b[0m \u001b[36mstep\u001b[0m=\u001b[35m145000\u001b[0m\n",
      "\u001b[2m2024-04-16 00:07.57\u001b[0m [\u001b[32m\u001b[1minfo     \u001b[0m] \u001b[1mModel parameters are saved to d3rlpy_logs/DQN_online_20240415235535/model_150000.d3\u001b[0m\n",
      "\u001b[2m2024-04-16 00:07.57\u001b[0m [\u001b[32m\u001b[1minfo     \u001b[0m] \u001b[1mDQN_online_20240415235535: epoch=30 step=150000\u001b[0m \u001b[36mepoch\u001b[0m=\u001b[35m30\u001b[0m \u001b[36mmetrics\u001b[0m=\u001b[35m{'time_inference': 0.0005932284832000733, 'time_environment_step': 7.76759147644043e-05, 'time_sample_batch': 0.001060764217376709, 'time_algorithm_update': 0.003306736183166504, 'loss': 1.5956142909166717e-05, 'time_step': 0.005143043088912964, 'rollout_return': -7.375646045698837}\u001b[0m \u001b[36mstep\u001b[0m=\u001b[35m150000\u001b[0m\n"
     ]
    }
   ],
   "source": [
    "import torch\n",
    "import d3rlpy\n",
    "\n",
    "DEVICE = torch.device(\"cuda\" if torch.cuda.is_available() else \"cpu\")\n",
    "\n",
    "dqn = d3rlpy.algos.DQNConfig().create(device=DEVICE.type)\n",
    "dqn_buffer = d3rlpy.dataset.create_fifo_replay_buffer(limit=100000, env=env)\n",
    "explorer = d3rlpy.algos.ConstantEpsilonGreedy(0.4)\n",
    "\n",
    "dqn.fit_online(env, dqn_buffer, explorer, n_steps=150000, n_steps_per_epoch=5000)"
   ]
  },
  {
   "cell_type": "code",
   "execution_count": 6,
   "metadata": {},
   "outputs": [
    {
     "data": {
      "image/png": "[encoded data removed]",
      "text/plain": [
       "<Figure size 640x480 with 1 Axes>"
      ]
     },
     "metadata": {},
     "output_type": "display_data"
    }
   ],
   "source": [
    "# вознаграждения\n",
    "rollout_file = \"./d3rlpy_logs/DQN_online_20240415235535/rollout_return.csv\"\n",
    "statistics = pd.read_csv(rollout_file, header=None)\n",
    "\n",
    "plt.plot(statistics[2], label=\"DQN_online\")\n",
    "plt.xlabel(\"Epochs\")\n",
    "plt.ylabel(\"Returns\")\n",
    "plt.legend()\n",
    "plt.grid()"
   ]
  },
  {
   "cell_type": "code",
   "execution_count": 7,
   "metadata": {},
   "outputs": [],
   "source": [
    "optimal_data = dqn_buffer"
   ]
  },
  {
   "cell_type": "markdown",
   "metadata": {},
   "source": [
    "### Сбор субоптимальных данных\n"
   ]
  },
  {
   "cell_type": "code",
   "execution_count": 8,
   "metadata": {},
   "outputs": [
    {
     "name": "stdout",
     "output_type": "stream",
     "text": [
      "\u001b[2m2024-04-16 00:09.57\u001b[0m [\u001b[32m\u001b[1minfo     \u001b[0m] \u001b[1mSignatures have been automatically determined.\u001b[0m \u001b[36maction_signature\u001b[0m=\u001b[35mSignature(dtype=[dtype('int64')], shape=[()])\u001b[0m \u001b[36mobservation_signature\u001b[0m=\u001b[35mSignature(dtype=[dtype('float32')], shape=[(49,)])\u001b[0m \u001b[36mreward_signature\u001b[0m=\u001b[35mSignature(dtype=[dtype('float32')], shape=[[1]])\u001b[0m\n",
      "\u001b[2m2024-04-16 00:09.57\u001b[0m [\u001b[32m\u001b[1minfo     \u001b[0m] \u001b[1mAction-space has been automatically determined.\u001b[0m \u001b[36maction_space\u001b[0m=\u001b[35m<ActionSpace.DISCRETE: 2>\u001b[0m\n",
      "\u001b[2m2024-04-16 00:09.57\u001b[0m [\u001b[32m\u001b[1minfo     \u001b[0m] \u001b[1mAction size has been automatically determined.\u001b[0m \u001b[36maction_size\u001b[0m=\u001b[35m5\u001b[0m\n",
      "\u001b[2m2024-04-16 00:09.57\u001b[0m [\u001b[32m\u001b[1mdebug    \u001b[0m] \u001b[1mBuilding model...             \u001b[0m\n",
      "\u001b[2m2024-04-16 00:09.57\u001b[0m [\u001b[32m\u001b[1mdebug    \u001b[0m] \u001b[1mModel has been built.         \u001b[0m\n"
     ]
    },
    {
     "data": {
      "application/vnd.jupyter.widget-view+json": {
       "model_id": "3f8eaf6e93d24a668c9a2e6e6fff4197",
       "version_major": 2,
       "version_minor": 0
      },
      "text/plain": [
       "  0%|          | 0/100000 [00:00<?, ?it/s]"
      ]
     },
     "metadata": {},
     "output_type": "display_data"
    },
    {
     "name": "stdout",
     "output_type": "stream",
     "text": [
      "\u001b[2m2024-04-16 00:10.06\u001b[0m [\u001b[32m\u001b[1minfo     \u001b[0m] \u001b[1mSignatures have been automatically determined.\u001b[0m \u001b[36maction_signature\u001b[0m=\u001b[35mSignature(dtype=[dtype('int64')], shape=[(1,)])\u001b[0m \u001b[36mobservation_signature\u001b[0m=\u001b[35mSignature(dtype=[dtype('float64')], shape=[(49,)])\u001b[0m \u001b[36mreward_signature\u001b[0m=\u001b[35mSignature(dtype=[dtype('float64')], shape=[(1,)])\u001b[0m\n",
      "\u001b[2m2024-04-16 00:10.06\u001b[0m [\u001b[32m\u001b[1minfo     \u001b[0m] \u001b[1mAction-space has been automatically determined.\u001b[0m \u001b[36maction_space\u001b[0m=\u001b[35m<ActionSpace.DISCRETE: 2>\u001b[0m\n",
      "\u001b[2m2024-04-16 00:10.06\u001b[0m [\u001b[32m\u001b[1minfo     \u001b[0m] \u001b[1mAction size has been automatically determined.\u001b[0m \u001b[36maction_size\u001b[0m=\u001b[35m5\u001b[0m\n"
     ]
    }
   ],
   "source": [
    "def dataset_with_terminals(buffer, size):\n",
    "    observations = []\n",
    "    actions = []\n",
    "    rewards = []\n",
    "    terminals = []\n",
    "\n",
    "    for episode in buffer.episodes[:size]:\n",
    "        observations += episode.observations.tolist()\n",
    "        actions += episode.actions.tolist()\n",
    "        rewards += episode.rewards.tolist()\n",
    "\n",
    "        terminal = [0 for _ in range(len(episode.rewards))]\n",
    "        terminal[-1] = 1\n",
    "        terminals += terminal\n",
    "    return observations, actions, rewards, terminals\n",
    "\n",
    "\n",
    "def make_mixed_dataset(dataset_1, dataset_2, proportions=[1, 1]):\n",
    "    size_1 = int(len(dataset_1.episodes) * proportions[0])\n",
    "    size_2 = int(len(dataset_2.episodes) * proportions[1])\n",
    "\n",
    "    observations, actions, rewards, terminals = dataset_with_terminals(\n",
    "        dataset_1, size_1\n",
    "    )\n",
    "    rnd_observations, rnd_actions, rnd_rewards, rnd_terminals = dataset_with_terminals(\n",
    "        dataset_2, size_2\n",
    "    )\n",
    "\n",
    "    mxt_obs = np.asarray(observations + rnd_observations)\n",
    "    mxt_actions = np.asarray(actions + rnd_actions)\n",
    "    mxt_rewards = np.asarray(rewards + rnd_rewards)\n",
    "    mxt_terminals = np.asarray(terminals + rnd_terminals).reshape(-1, 1)\n",
    "\n",
    "    mixed_dataset = d3rlpy.dataset.MDPDataset(\n",
    "        observations=mxt_obs,\n",
    "        actions=mxt_actions,\n",
    "        rewards=mxt_rewards,\n",
    "        terminals=mxt_terminals,\n",
    "    )\n",
    "    return mixed_dataset\n",
    "\n",
    "\n",
    "random_policy = d3rlpy.algos.DiscreteRandomPolicyConfig().create()\n",
    "\n",
    "random_buffer = d3rlpy.dataset.create_fifo_replay_buffer(limit=100000, env=env)\n",
    "\n",
    "random_policy.collect(env, random_buffer, n_steps=100000)\n",
    "suboptimal_data = make_mixed_dataset(optimal_data, random_buffer, (0.7, 0.3))"
   ]
  },
  {
   "cell_type": "markdown",
   "metadata": {},
   "source": [
    "### Обучение Behavior Cloning (BC) на оптимальных данных\n"
   ]
  },
  {
   "cell_type": "code",
   "execution_count": 9,
   "metadata": {},
   "outputs": [
    {
     "name": "stdout",
     "output_type": "stream",
     "text": [
      "\u001b[2m2024-04-16 00:10.11\u001b[0m [\u001b[32m\u001b[1minfo     \u001b[0m] \u001b[1mdataset info                  \u001b[0m \u001b[36mdataset_info\u001b[0m=\u001b[35mDatasetInfo(observation_signature=Signature(dtype=[dtype('float32')], shape=[(49,)]), action_signature=Signature(dtype=[dtype('int64')], shape=[()]), reward_signature=Signature(dtype=[dtype('float32')], shape=[[1]]), action_space=<ActionSpace.DISCRETE: 2>, action_size=5)\u001b[0m\n",
      "\u001b[2m2024-04-16 00:10.11\u001b[0m [\u001b[32m\u001b[1minfo     \u001b[0m] \u001b[1mDirectory is created at d3rlpy_logs/DiscreteBC_20240416001011\u001b[0m\n",
      "\u001b[2m2024-04-16 00:10.11\u001b[0m [\u001b[32m\u001b[1mdebug    \u001b[0m] \u001b[1mBuilding models...            \u001b[0m\n",
      "\u001b[2m2024-04-16 00:10.11\u001b[0m [\u001b[32m\u001b[1mdebug    \u001b[0m] \u001b[1mModels have been built.       \u001b[0m\n",
      "\u001b[2m2024-04-16 00:10.11\u001b[0m [\u001b[32m\u001b[1minfo     \u001b[0m] \u001b[1mParameters                    \u001b[0m \u001b[36mparams\u001b[0m=\u001b[35m{'observation_shape': [49], 'action_size': 5, 'config': {'type': 'discrete_bc', 'params': {'batch_size': 100, 'gamma': 0.9, 'observation_scaler': {'type': 'none', 'params': {}}, 'action_scaler': {'type': 'none', 'params': {}}, 'reward_scaler': {'type': 'none', 'params': {}}, 'learning_rate': 0.0001, 'optim_factory': {'type': 'adam', 'params': {'betas': [0.9, 0.999], 'eps': 1e-08, 'weight_decay': 0, 'amsgrad': False}}, 'encoder_factory': {'type': 'default', 'params': {'activation': 'relu', 'use_batch_norm': False, 'dropout_rate': None}}, 'beta': 0.5}}}\u001b[0m\n"
     ]
    },
    {
     "data": {
      "application/vnd.jupyter.widget-view+json": {
       "model_id": "b9ab6e7802b34abfb81f72b36a3123c5",
       "version_major": 2,
       "version_minor": 0
      },
      "text/plain": [
       "Epoch 1/14:   0%|          | 0/7000 [00:00<?, ?it/s]"
      ]
     },
     "metadata": {},
     "output_type": "display_data"
    },
    {
     "name": "stdout",
     "output_type": "stream",
     "text": [
      "\u001b[2m2024-04-16 00:10.57\u001b[0m [\u001b[32m\u001b[1minfo     \u001b[0m] \u001b[1mDiscreteBC_20240416001011: epoch=1 step=7000\u001b[0m \u001b[36mepoch\u001b[0m=\u001b[35m1\u001b[0m \u001b[36mmetrics\u001b[0m=\u001b[35m{'time_sample_batch': 0.003315650156566075, 'time_algorithm_update': 0.003170304707118443, 'loss': 2.736109905379159, 'time_step': 0.006550074917929513, 'environment': -3.3950335179817124}\u001b[0m \u001b[36mstep\u001b[0m=\u001b[35m7000\u001b[0m\n",
      "\u001b[2m2024-04-16 00:10.57\u001b[0m [\u001b[32m\u001b[1minfo     \u001b[0m] \u001b[1mModel parameters are saved to d3rlpy_logs/DiscreteBC_20240416001011/model_7000.d3\u001b[0m\n"
     ]
    },
    {
     "data": {
      "application/vnd.jupyter.widget-view+json": {
       "model_id": "d3cf231c075841389610aede6886c051",
       "version_major": 2,
       "version_minor": 0
      },
      "text/plain": [
       "Epoch 2/14:   0%|          | 0/7000 [00:00<?, ?it/s]"
      ]
     },
     "metadata": {},
     "output_type": "display_data"
    },
    {
     "name": "stdout",
     "output_type": "stream",
     "text": [
      "\u001b[2m2024-04-16 00:11.43\u001b[0m [\u001b[32m\u001b[1minfo     \u001b[0m] \u001b[1mDiscreteBC_20240416001011: epoch=2 step=14000\u001b[0m \u001b[36mepoch\u001b[0m=\u001b[35m2\u001b[0m \u001b[36mmetrics\u001b[0m=\u001b[35m{'time_sample_batch': 0.003304494449070522, 'time_algorithm_update': 0.003159935099737985, 'loss': 2.735045928410121, 'time_step': 0.006530050413949149, 'environment': -3.3950335179817124}\u001b[0m \u001b[36mstep\u001b[0m=\u001b[35m14000\u001b[0m\n",
      "\u001b[2m2024-04-16 00:11.43\u001b[0m [\u001b[32m\u001b[1minfo     \u001b[0m] \u001b[1mModel parameters are saved to d3rlpy_logs/DiscreteBC_20240416001011/model_14000.d3\u001b[0m\n"
     ]
    },
    {
     "data": {
      "application/vnd.jupyter.widget-view+json": {
       "model_id": "ce8501b790f644388856d35a7106ec5b",
       "version_major": 2,
       "version_minor": 0
      },
      "text/plain": [
       "Epoch 3/14:   0%|          | 0/7000 [00:00<?, ?it/s]"
      ]
     },
     "metadata": {},
     "output_type": "display_data"
    },
    {
     "name": "stdout",
     "output_type": "stream",
     "text": [
      "\u001b[2m2024-04-16 00:12.30\u001b[0m [\u001b[32m\u001b[1minfo     \u001b[0m] \u001b[1mDiscreteBC_20240416001011: epoch=3 step=21000\u001b[0m \u001b[36mepoch\u001b[0m=\u001b[35m3\u001b[0m \u001b[36mmetrics\u001b[0m=\u001b[35m{'time_sample_batch': 0.0032938072340829034, 'time_algorithm_update': 0.0032446674619402206, 'loss': 2.7350709092276437, 'time_step': 0.006603394440242222, 'environment': -3.3950335179817124}\u001b[0m \u001b[36mstep\u001b[0m=\u001b[35m21000\u001b[0m\n",
      "\u001b[2m2024-04-16 00:12.30\u001b[0m [\u001b[32m\u001b[1minfo     \u001b[0m] \u001b[1mModel parameters are saved to d3rlpy_logs/DiscreteBC_20240416001011/model_21000.d3\u001b[0m\n"
     ]
    },
    {
     "data": {
      "application/vnd.jupyter.widget-view+json": {
       "model_id": "5e557a1b58b547ffba63341310999058",
       "version_major": 2,
       "version_minor": 0
      },
      "text/plain": [
       "Epoch 4/14:   0%|          | 0/7000 [00:00<?, ?it/s]"
      ]
     },
     "metadata": {},
     "output_type": "display_data"
    },
    {
     "name": "stdout",
     "output_type": "stream",
     "text": [
      "\u001b[2m2024-04-16 00:13.16\u001b[0m [\u001b[32m\u001b[1minfo     \u001b[0m] \u001b[1mDiscreteBC_20240416001011: epoch=4 step=28000\u001b[0m \u001b[36mepoch\u001b[0m=\u001b[35m4\u001b[0m \u001b[36mmetrics\u001b[0m=\u001b[35m{'time_sample_batch': 0.003268476928983416, 'time_algorithm_update': 0.0032257489136287144, 'loss': 2.73445869408335, 'time_step': 0.0065560355186462405, 'environment': -3.3950335179817124}\u001b[0m \u001b[36mstep\u001b[0m=\u001b[35m28000\u001b[0m\n",
      "\u001b[2m2024-04-16 00:13.16\u001b[0m [\u001b[32m\u001b[1minfo     \u001b[0m] \u001b[1mModel parameters are saved to d3rlpy_logs/DiscreteBC_20240416001011/model_28000.d3\u001b[0m\n"
     ]
    },
    {
     "data": {
      "application/vnd.jupyter.widget-view+json": {
       "model_id": "2e6ded3497144ad78198ca63ba365151",
       "version_major": 2,
       "version_minor": 0
      },
      "text/plain": [
       "Epoch 5/14:   0%|          | 0/7000 [00:00<?, ?it/s]"
      ]
     },
     "metadata": {},
     "output_type": "display_data"
    },
    {
     "name": "stdout",
     "output_type": "stream",
     "text": [
      "\u001b[2m2024-04-16 00:14.03\u001b[0m [\u001b[32m\u001b[1minfo     \u001b[0m] \u001b[1mDiscreteBC_20240416001011: epoch=5 step=35000\u001b[0m \u001b[36mepoch\u001b[0m=\u001b[35m5\u001b[0m \u001b[36mmetrics\u001b[0m=\u001b[35m{'time_sample_batch': 0.0032893386227743964, 'time_algorithm_update': 0.0032935993330819265, 'loss': 2.7348263221468243, 'time_step': 0.006645797729492187, 'environment': -3.3950335179817124}\u001b[0m \u001b[36mstep\u001b[0m=\u001b[35m35000\u001b[0m\n",
      "\u001b[2m2024-04-16 00:14.03\u001b[0m [\u001b[32m\u001b[1minfo     \u001b[0m] \u001b[1mModel parameters are saved to d3rlpy_logs/DiscreteBC_20240416001011/model_35000.d3\u001b[0m\n"
     ]
    },
    {
     "data": {
      "application/vnd.jupyter.widget-view+json": {
       "model_id": "b85a9c7a88a049e89122db522bed9d4f",
       "version_major": 2,
       "version_minor": 0
      },
      "text/plain": [
       "Epoch 6/14:   0%|          | 0/7000 [00:00<?, ?it/s]"
      ]
     },
     "metadata": {},
     "output_type": "display_data"
    },
    {
     "name": "stdout",
     "output_type": "stream",
     "text": [
      "\u001b[2m2024-04-16 00:14.50\u001b[0m [\u001b[32m\u001b[1minfo     \u001b[0m] \u001b[1mDiscreteBC_20240416001011: epoch=6 step=42000\u001b[0m \u001b[36mepoch\u001b[0m=\u001b[35m6\u001b[0m \u001b[36mmetrics\u001b[0m=\u001b[35m{'time_sample_batch': 0.003263927698135376, 'time_algorithm_update': 0.00324117990902492, 'loss': 2.7347547567571913, 'time_step': 0.00656474256515503, 'environment': -3.3950335179817124}\u001b[0m \u001b[36mstep\u001b[0m=\u001b[35m42000\u001b[0m\n",
      "\u001b[2m2024-04-16 00:14.50\u001b[0m [\u001b[32m\u001b[1minfo     \u001b[0m] \u001b[1mModel parameters are saved to d3rlpy_logs/DiscreteBC_20240416001011/model_42000.d3\u001b[0m\n"
     ]
    },
    {
     "data": {
      "application/vnd.jupyter.widget-view+json": {
       "model_id": "fc6e22601a534cbdbc1229a8779dd848",
       "version_major": 2,
       "version_minor": 0
      },
      "text/plain": [
       "Epoch 7/14:   0%|          | 0/7000 [00:00<?, ?it/s]"
      ]
     },
     "metadata": {},
     "output_type": "display_data"
    },
    {
     "name": "stdout",
     "output_type": "stream",
     "text": [
      "\u001b[2m2024-04-16 00:15.37\u001b[0m [\u001b[32m\u001b[1minfo     \u001b[0m] \u001b[1mDiscreteBC_20240416001011: epoch=7 step=49000\u001b[0m \u001b[36mepoch\u001b[0m=\u001b[35m7\u001b[0m \u001b[36mmetrics\u001b[0m=\u001b[35m{'time_sample_batch': 0.003273902416229248, 'time_algorithm_update': 0.0033917993818010604, 'loss': 2.73420973103387, 'time_step': 0.0067270611013684955, 'environment': -3.3950335179817124}\u001b[0m \u001b[36mstep\u001b[0m=\u001b[35m49000\u001b[0m\n",
      "\u001b[2m2024-04-16 00:15.37\u001b[0m [\u001b[32m\u001b[1minfo     \u001b[0m] \u001b[1mModel parameters are saved to d3rlpy_logs/DiscreteBC_20240416001011/model_49000.d3\u001b[0m\n"
     ]
    },
    {
     "data": {
      "application/vnd.jupyter.widget-view+json": {
       "model_id": "64e35f2e556c4c059660a7a983d6f6f4",
       "version_major": 2,
       "version_minor": 0
      },
      "text/plain": [
       "Epoch 8/14:   0%|          | 0/7000 [00:00<?, ?it/s]"
      ]
     },
     "metadata": {},
     "output_type": "display_data"
    },
    {
     "name": "stdout",
     "output_type": "stream",
     "text": [
      "\u001b[2m2024-04-16 00:16.26\u001b[0m [\u001b[32m\u001b[1minfo     \u001b[0m] \u001b[1mDiscreteBC_20240416001011: epoch=8 step=56000\u001b[0m \u001b[36mepoch\u001b[0m=\u001b[35m8\u001b[0m \u001b[36mmetrics\u001b[0m=\u001b[35m{'time_sample_batch': 0.0032879577364240374, 'time_algorithm_update': 0.0036067282131740023, 'loss': 2.7341376307691845, 'time_step': 0.006957338060651507, 'environment': -3.3950335179817124}\u001b[0m \u001b[36mstep\u001b[0m=\u001b[35m56000\u001b[0m\n",
      "\u001b[2m2024-04-16 00:16.26\u001b[0m [\u001b[32m\u001b[1minfo     \u001b[0m] \u001b[1mModel parameters are saved to d3rlpy_logs/DiscreteBC_20240416001011/model_56000.d3\u001b[0m\n"
     ]
    },
    {
     "data": {
      "application/vnd.jupyter.widget-view+json": {
       "model_id": "c83212c365b24ad6b0679829b2c392e0",
       "version_major": 2,
       "version_minor": 0
      },
      "text/plain": [
       "Epoch 9/14:   0%|          | 0/7000 [00:00<?, ?it/s]"
      ]
     },
     "metadata": {},
     "output_type": "display_data"
    },
    {
     "name": "stdout",
     "output_type": "stream",
     "text": [
      "\u001b[2m2024-04-16 00:17.14\u001b[0m [\u001b[32m\u001b[1minfo     \u001b[0m] \u001b[1mDiscreteBC_20240416001011: epoch=9 step=63000\u001b[0m \u001b[36mepoch\u001b[0m=\u001b[35m9\u001b[0m \u001b[36mmetrics\u001b[0m=\u001b[35m{'time_sample_batch': 0.003258180379867554, 'time_algorithm_update': 0.0034679034437452043, 'loss': 2.734949918815068, 'time_step': 0.006784955092838833, 'environment': -3.3950335179817124}\u001b[0m \u001b[36mstep\u001b[0m=\u001b[35m63000\u001b[0m\n",
      "\u001b[2m2024-04-16 00:17.14\u001b[0m [\u001b[32m\u001b[1minfo     \u001b[0m] \u001b[1mModel parameters are saved to d3rlpy_logs/DiscreteBC_20240416001011/model_63000.d3\u001b[0m\n"
     ]
    },
    {
     "data": {
      "application/vnd.jupyter.widget-view+json": {
       "model_id": "20a909c81ea34748812b692144ab9c5f",
       "version_major": 2,
       "version_minor": 0
      },
      "text/plain": [
       "Epoch 10/14:   0%|          | 0/7000 [00:00<?, ?it/s]"
      ]
     },
     "metadata": {},
     "output_type": "display_data"
    },
    {
     "name": "stdout",
     "output_type": "stream",
     "text": [
      "\u001b[2m2024-04-16 00:18.02\u001b[0m [\u001b[32m\u001b[1minfo     \u001b[0m] \u001b[1mDiscreteBC_20240416001011: epoch=10 step=70000\u001b[0m \u001b[36mepoch\u001b[0m=\u001b[35m10\u001b[0m \u001b[36mmetrics\u001b[0m=\u001b[35m{'time_sample_batch': 0.0033262805598122734, 'time_algorithm_update': 0.0033402541024344307, 'loss': 2.73421379334586, 'time_step': 0.006731775760650635, 'environment': -3.3950335179817124}\u001b[0m \u001b[36mstep\u001b[0m=\u001b[35m70000\u001b[0m\n",
      "\u001b[2m2024-04-16 00:18.02\u001b[0m [\u001b[32m\u001b[1minfo     \u001b[0m] \u001b[1mModel parameters are saved to d3rlpy_logs/DiscreteBC_20240416001011/model_70000.d3\u001b[0m\n"
     ]
    },
    {
     "data": {
      "application/vnd.jupyter.widget-view+json": {
       "model_id": "b510dc26079541fa8f04698aae9ebe3b",
       "version_major": 2,
       "version_minor": 0
      },
      "text/plain": [
       "Epoch 11/14:   0%|          | 0/7000 [00:00<?, ?it/s]"
      ]
     },
     "metadata": {},
     "output_type": "display_data"
    },
    {
     "name": "stdout",
     "output_type": "stream",
     "text": [
      "\u001b[2m2024-04-16 00:18.49\u001b[0m [\u001b[32m\u001b[1minfo     \u001b[0m] \u001b[1mDiscreteBC_20240416001011: epoch=11 step=77000\u001b[0m \u001b[36mepoch\u001b[0m=\u001b[35m11\u001b[0m \u001b[36mmetrics\u001b[0m=\u001b[35m{'time_sample_batch': 0.0032991126605442594, 'time_algorithm_update': 0.0034124211243220736, 'loss': 2.7344625730855125, 'time_step': 0.006775913953781128, 'environment': -3.3950335179817124}\u001b[0m \u001b[36mstep\u001b[0m=\u001b[35m77000\u001b[0m\n",
      "\u001b[2m2024-04-16 00:18.49\u001b[0m [\u001b[32m\u001b[1minfo     \u001b[0m] \u001b[1mModel parameters are saved to d3rlpy_logs/DiscreteBC_20240416001011/model_77000.d3\u001b[0m\n"
     ]
    },
    {
     "data": {
      "application/vnd.jupyter.widget-view+json": {
       "model_id": "80838c86c6664411abd1bdbf3d28e9dd",
       "version_major": 2,
       "version_minor": 0
      },
      "text/plain": [
       "Epoch 12/14:   0%|          | 0/7000 [00:00<?, ?it/s]"
      ]
     },
     "metadata": {},
     "output_type": "display_data"
    },
    {
     "name": "stdout",
     "output_type": "stream",
     "text": [
      "\u001b[2m2024-04-16 00:19.38\u001b[0m [\u001b[32m\u001b[1minfo     \u001b[0m] \u001b[1mDiscreteBC_20240416001011: epoch=12 step=84000\u001b[0m \u001b[36mepoch\u001b[0m=\u001b[35m12\u001b[0m \u001b[36mmetrics\u001b[0m=\u001b[35m{'time_sample_batch': 0.003235684735434396, 'time_algorithm_update': 0.0035681204114641463, 'loss': 2.734387712580817, 'time_step': 0.00686264569418771, 'environment': -3.3950335179817124}\u001b[0m \u001b[36mstep\u001b[0m=\u001b[35m84000\u001b[0m\n",
      "\u001b[2m2024-04-16 00:19.38\u001b[0m [\u001b[32m\u001b[1minfo     \u001b[0m] \u001b[1mModel parameters are saved to d3rlpy_logs/DiscreteBC_20240416001011/model_84000.d3\u001b[0m\n"
     ]
    },
    {
     "data": {
      "application/vnd.jupyter.widget-view+json": {
       "model_id": "666d15b877d74bed9563dd8801dc96b1",
       "version_major": 2,
       "version_minor": 0
      },
      "text/plain": [
       "Epoch 13/14:   0%|          | 0/7000 [00:00<?, ?it/s]"
      ]
     },
     "metadata": {},
     "output_type": "display_data"
    },
    {
     "name": "stdout",
     "output_type": "stream",
     "text": [
      "\u001b[2m2024-04-16 00:20.26\u001b[0m [\u001b[32m\u001b[1minfo     \u001b[0m] \u001b[1mDiscreteBC_20240416001011: epoch=13 step=91000\u001b[0m \u001b[36mepoch\u001b[0m=\u001b[35m13\u001b[0m \u001b[36mmetrics\u001b[0m=\u001b[35m{'time_sample_batch': 0.003228287833077567, 'time_algorithm_update': 0.0035709804466792514, 'loss': 2.7345368666648864, 'time_step': 0.006856682164328439, 'environment': -3.3950335179817124}\u001b[0m \u001b[36mstep\u001b[0m=\u001b[35m91000\u001b[0m\n",
      "\u001b[2m2024-04-16 00:20.26\u001b[0m [\u001b[32m\u001b[1minfo     \u001b[0m] \u001b[1mModel parameters are saved to d3rlpy_logs/DiscreteBC_20240416001011/model_91000.d3\u001b[0m\n"
     ]
    },
    {
     "data": {
      "application/vnd.jupyter.widget-view+json": {
       "model_id": "8d2ba079271f4debb304d7ffbd1d5c29",
       "version_major": 2,
       "version_minor": 0
      },
      "text/plain": [
       "Epoch 14/14:   0%|          | 0/7000 [00:00<?, ?it/s]"
      ]
     },
     "metadata": {},
     "output_type": "display_data"
    },
    {
     "name": "stdout",
     "output_type": "stream",
     "text": [
      "\u001b[2m2024-04-16 00:21.13\u001b[0m [\u001b[32m\u001b[1minfo     \u001b[0m] \u001b[1mDiscreteBC_20240416001011: epoch=14 step=98000\u001b[0m \u001b[36mepoch\u001b[0m=\u001b[35m14\u001b[0m \u001b[36mmetrics\u001b[0m=\u001b[35m{'time_sample_batch': 0.0033018761021750315, 'time_algorithm_update': 0.0033163454873221263, 'loss': 2.735284995623997, 'time_step': 0.006684516089303153, 'environment': -3.3950335179817124}\u001b[0m \u001b[36mstep\u001b[0m=\u001b[35m98000\u001b[0m\n",
      "\u001b[2m2024-04-16 00:21.13\u001b[0m [\u001b[32m\u001b[1minfo     \u001b[0m] \u001b[1mModel parameters are saved to d3rlpy_logs/DiscreteBC_20240416001011/model_98000.d3\u001b[0m\n"
     ]
    }
   ],
   "source": [
    "bc = d3rlpy.algos.DiscreteBCConfig(learning_rate=1e-4, gamma=0.9).create(\n",
    "    device=DEVICE.type\n",
    ")\n",
    "\n",
    "# start training\n",
    "stat_bc = bc.fit(\n",
    "    dqn_buffer,\n",
    "    n_steps=100000,\n",
    "    n_steps_per_epoch=7000,\n",
    "    evaluators={\n",
    "        \"environment\": d3rlpy.metrics.EnvironmentEvaluator(env),\n",
    "    },\n",
    ")"
   ]
  },
  {
   "cell_type": "code",
   "execution_count": 13,
   "metadata": {},
   "outputs": [],
   "source": [
    "models_dict[\"bc_optimal\"] = [val[1][\"environment\"] for val in stat_bc]"
   ]
  },
  {
   "cell_type": "code",
   "execution_count": 15,
   "metadata": {},
   "outputs": [
    {
     "data": {
      "image/png": "[encoded data removed]",
      "text/plain": [
       "<Figure size 1200x600 with 1 Axes>"
      ]
     },
     "metadata": {},
     "output_type": "display_data"
    }
   ],
   "source": [
    "plot_lines(models_dict)"
   ]
  },
  {
   "cell_type": "markdown",
   "metadata": {},
   "source": [
    "### Обучение Behavior Cloning (BC) на субоптимальных данных\n"
   ]
  },
  {
   "cell_type": "code",
   "execution_count": 16,
   "metadata": {},
   "outputs": [
    {
     "name": "stdout",
     "output_type": "stream",
     "text": [
      "\u001b[2m2024-04-16 00:21.49\u001b[0m [\u001b[32m\u001b[1minfo     \u001b[0m] \u001b[1mdataset info                  \u001b[0m \u001b[36mdataset_info\u001b[0m=\u001b[35mDatasetInfo(observation_signature=Signature(dtype=[dtype('float64')], shape=[(49,)]), action_signature=Signature(dtype=[dtype('int64')], shape=[(1,)]), reward_signature=Signature(dtype=[dtype('float64')], shape=[(1,)]), action_space=<ActionSpace.DISCRETE: 2>, action_size=5)\u001b[0m\n",
      "\u001b[2m2024-04-16 00:21.49\u001b[0m [\u001b[32m\u001b[1minfo     \u001b[0m] \u001b[1mDirectory is created at d3rlpy_logs/DiscreteBC_20240416002149\u001b[0m\n",
      "\u001b[2m2024-04-16 00:21.49\u001b[0m [\u001b[32m\u001b[1mdebug    \u001b[0m] \u001b[1mBuilding models...            \u001b[0m\n",
      "\u001b[2m2024-04-16 00:21.49\u001b[0m [\u001b[32m\u001b[1mdebug    \u001b[0m] \u001b[1mModels have been built.       \u001b[0m\n",
      "\u001b[2m2024-04-16 00:21.49\u001b[0m [\u001b[32m\u001b[1minfo     \u001b[0m] \u001b[1mParameters                    \u001b[0m \u001b[36mparams\u001b[0m=\u001b[35m{'observation_shape': [49], 'action_size': 5, 'config': {'type': 'discrete_bc', 'params': {'batch_size': 100, 'gamma': 0.9, 'observation_scaler': {'type': 'none', 'params': {}}, 'action_scaler': {'type': 'none', 'params': {}}, 'reward_scaler': {'type': 'none', 'params': {}}, 'learning_rate': 0.0001, 'optim_factory': {'type': 'adam', 'params': {'betas': [0.9, 0.999], 'eps': 1e-08, 'weight_decay': 0, 'amsgrad': False}}, 'encoder_factory': {'type': 'default', 'params': {'activation': 'relu', 'use_batch_norm': False, 'dropout_rate': None}}, 'beta': 0.5}}}\u001b[0m\n"
     ]
    },
    {
     "data": {
      "application/vnd.jupyter.widget-view+json": {
       "model_id": "cf6ef951184248e592527c7b0bfdb2ca",
       "version_major": 2,
       "version_minor": 0
      },
      "text/plain": [
       "Epoch 1/14:   0%|          | 0/7000 [00:00<?, ?it/s]"
      ]
     },
     "metadata": {},
     "output_type": "display_data"
    },
    {
     "name": "stdout",
     "output_type": "stream",
     "text": [
      "\u001b[2m2024-04-16 00:22.28\u001b[0m [\u001b[32m\u001b[1minfo     \u001b[0m] \u001b[1mDiscreteBC_20240416002149: epoch=1 step=7000\u001b[0m \u001b[36mepoch\u001b[0m=\u001b[35m1\u001b[0m \u001b[36mmetrics\u001b[0m=\u001b[35m{'time_sample_batch': 0.002208282061985561, 'time_algorithm_update': 0.0032088049479893277, 'loss': 2.8082585488728116, 'time_step': 0.0054754703385489325, 'environment': 1.0}\u001b[0m \u001b[36mstep\u001b[0m=\u001b[35m7000\u001b[0m\n",
      "\u001b[2m2024-04-16 00:22.28\u001b[0m [\u001b[32m\u001b[1minfo     \u001b[0m] \u001b[1mModel parameters are saved to d3rlpy_logs/DiscreteBC_20240416002149/model_7000.d3\u001b[0m\n"
     ]
    },
    {
     "data": {
      "application/vnd.jupyter.widget-view+json": {
       "model_id": "8a48c4d2946542198da85fbf1b21a651",
       "version_major": 2,
       "version_minor": 0
      },
      "text/plain": [
       "Epoch 2/14:   0%|          | 0/7000 [00:00<?, ?it/s]"
      ]
     },
     "metadata": {},
     "output_type": "display_data"
    },
    {
     "name": "stdout",
     "output_type": "stream",
     "text": [
      "\u001b[2m2024-04-16 00:23.08\u001b[0m [\u001b[32m\u001b[1minfo     \u001b[0m] \u001b[1mDiscreteBC_20240416002149: epoch=2 step=14000\u001b[0m \u001b[36mepoch\u001b[0m=\u001b[35m2\u001b[0m \u001b[36mmetrics\u001b[0m=\u001b[35m{'time_sample_batch': 0.0021711210182734897, 'time_algorithm_update': 0.0033677895409720284, 'loss': 2.8065932485035487, 'time_step': 0.005596192393984113, 'environment': 1.0}\u001b[0m \u001b[36mstep\u001b[0m=\u001b[35m14000\u001b[0m\n",
      "\u001b[2m2024-04-16 00:23.08\u001b[0m [\u001b[32m\u001b[1minfo     \u001b[0m] \u001b[1mModel parameters are saved to d3rlpy_logs/DiscreteBC_20240416002149/model_14000.d3\u001b[0m\n"
     ]
    },
    {
     "data": {
      "application/vnd.jupyter.widget-view+json": {
       "model_id": "17805428e1084b8d8ce1de8c317f060d",
       "version_major": 2,
       "version_minor": 0
      },
      "text/plain": [
       "Epoch 3/14:   0%|          | 0/7000 [00:00<?, ?it/s]"
      ]
     },
     "metadata": {},
     "output_type": "display_data"
    },
    {
     "name": "stdout",
     "output_type": "stream",
     "text": [
      "\u001b[2m2024-04-16 00:23.46\u001b[0m [\u001b[32m\u001b[1minfo     \u001b[0m] \u001b[1mDiscreteBC_20240416002149: epoch=3 step=21000\u001b[0m \u001b[36mepoch\u001b[0m=\u001b[35m3\u001b[0m \u001b[36mmetrics\u001b[0m=\u001b[35m{'time_sample_batch': 0.002182076624461583, 'time_algorithm_update': 0.0032214809826442174, 'loss': 2.8059661385331833, 'time_step': 0.005461844614573887, 'environment': 1.0}\u001b[0m \u001b[36mstep\u001b[0m=\u001b[35m21000\u001b[0m\n",
      "\u001b[2m2024-04-16 00:23.46\u001b[0m [\u001b[32m\u001b[1minfo     \u001b[0m] \u001b[1mModel parameters are saved to d3rlpy_logs/DiscreteBC_20240416002149/model_21000.d3\u001b[0m\n"
     ]
    },
    {
     "data": {
      "application/vnd.jupyter.widget-view+json": {
       "model_id": "6cb900f4c7b04c4e898fe87a2c9b22f8",
       "version_major": 2,
       "version_minor": 0
      },
      "text/plain": [
       "Epoch 4/14:   0%|          | 0/7000 [00:00<?, ?it/s]"
      ]
     },
     "metadata": {},
     "output_type": "display_data"
    },
    {
     "name": "stdout",
     "output_type": "stream",
     "text": [
      "\u001b[2m2024-04-16 00:24.23\u001b[0m [\u001b[32m\u001b[1minfo     \u001b[0m] \u001b[1mDiscreteBC_20240416002149: epoch=4 step=28000\u001b[0m \u001b[36mepoch\u001b[0m=\u001b[35m4\u001b[0m \u001b[36mmetrics\u001b[0m=\u001b[35m{'time_sample_batch': 0.002201512132372175, 'time_algorithm_update': 0.0029115771225520543, 'loss': 2.8061141639096396, 'time_step': 0.005176387344087873, 'environment': 1.0}\u001b[0m \u001b[36mstep\u001b[0m=\u001b[35m28000\u001b[0m\n",
      "\u001b[2m2024-04-16 00:24.23\u001b[0m [\u001b[32m\u001b[1minfo     \u001b[0m] \u001b[1mModel parameters are saved to d3rlpy_logs/DiscreteBC_20240416002149/model_28000.d3\u001b[0m\n"
     ]
    },
    {
     "data": {
      "application/vnd.jupyter.widget-view+json": {
       "model_id": "8066e9fbd45a4084b47d5f0537d06e3c",
       "version_major": 2,
       "version_minor": 0
      },
      "text/plain": [
       "Epoch 5/14:   0%|          | 0/7000 [00:00<?, ?it/s]"
      ]
     },
     "metadata": {},
     "output_type": "display_data"
    },
    {
     "name": "stdout",
     "output_type": "stream",
     "text": [
      "\u001b[2m2024-04-16 00:25.01\u001b[0m [\u001b[32m\u001b[1minfo     \u001b[0m] \u001b[1mDiscreteBC_20240416002149: epoch=5 step=35000\u001b[0m \u001b[36mepoch\u001b[0m=\u001b[35m5\u001b[0m \u001b[36mmetrics\u001b[0m=\u001b[35m{'time_sample_batch': 0.0021973840509142196, 'time_algorithm_update': 0.0031674469198499406, 'loss': 2.8064088926996504, 'time_step': 0.005425291674477714, 'environment': 1.0}\u001b[0m \u001b[36mstep\u001b[0m=\u001b[35m35000\u001b[0m\n",
      "\u001b[2m2024-04-16 00:25.01\u001b[0m [\u001b[32m\u001b[1minfo     \u001b[0m] \u001b[1mModel parameters are saved to d3rlpy_logs/DiscreteBC_20240416002149/model_35000.d3\u001b[0m\n"
     ]
    },
    {
     "data": {
      "application/vnd.jupyter.widget-view+json": {
       "model_id": "a532c8f4e724462ea2aeb195e62a08fc",
       "version_major": 2,
       "version_minor": 0
      },
      "text/plain": [
       "Epoch 6/14:   0%|          | 0/7000 [00:00<?, ?it/s]"
      ]
     },
     "metadata": {},
     "output_type": "display_data"
    },
    {
     "name": "stdout",
     "output_type": "stream",
     "text": [
      "\u001b[2m2024-04-16 00:25.39\u001b[0m [\u001b[32m\u001b[1minfo     \u001b[0m] \u001b[1mDiscreteBC_20240416002149: epoch=6 step=42000\u001b[0m \u001b[36mepoch\u001b[0m=\u001b[35m6\u001b[0m \u001b[36mmetrics\u001b[0m=\u001b[35m{'time_sample_batch': 0.002216601644243513, 'time_algorithm_update': 0.00306095358303615, 'loss': 2.8061195039749145, 'time_step': 0.005343051399503435, 'environment': 1.0}\u001b[0m \u001b[36mstep\u001b[0m=\u001b[35m42000\u001b[0m\n",
      "\u001b[2m2024-04-16 00:25.39\u001b[0m [\u001b[32m\u001b[1minfo     \u001b[0m] \u001b[1mModel parameters are saved to d3rlpy_logs/DiscreteBC_20240416002149/model_42000.d3\u001b[0m\n"
     ]
    },
    {
     "data": {
      "application/vnd.jupyter.widget-view+json": {
       "model_id": "69dab11ca4614ee39293ed5643da6bbc",
       "version_major": 2,
       "version_minor": 0
      },
      "text/plain": [
       "Epoch 7/14:   0%|          | 0/7000 [00:00<?, ?it/s]"
      ]
     },
     "metadata": {},
     "output_type": "display_data"
    },
    {
     "name": "stdout",
     "output_type": "stream",
     "text": [
      "\u001b[2m2024-04-16 00:26.17\u001b[0m [\u001b[32m\u001b[1minfo     \u001b[0m] \u001b[1mDiscreteBC_20240416002149: epoch=7 step=49000\u001b[0m \u001b[36mepoch\u001b[0m=\u001b[35m7\u001b[0m \u001b[36mmetrics\u001b[0m=\u001b[35m{'time_sample_batch': 0.002182927199772426, 'time_algorithm_update': 0.0032407832145690918, 'loss': 2.8066531405108317, 'time_step': 0.005481506177357265, 'environment': 1.0}\u001b[0m \u001b[36mstep\u001b[0m=\u001b[35m49000\u001b[0m\n",
      "\u001b[2m2024-04-16 00:26.17\u001b[0m [\u001b[32m\u001b[1minfo     \u001b[0m] \u001b[1mModel parameters are saved to d3rlpy_logs/DiscreteBC_20240416002149/model_49000.d3\u001b[0m\n"
     ]
    },
    {
     "data": {
      "application/vnd.jupyter.widget-view+json": {
       "model_id": "1f272ddf0f73411ca72f58a72e82aa04",
       "version_major": 2,
       "version_minor": 0
      },
      "text/plain": [
       "Epoch 8/14:   0%|          | 0/7000 [00:00<?, ?it/s]"
      ]
     },
     "metadata": {},
     "output_type": "display_data"
    },
    {
     "name": "stdout",
     "output_type": "stream",
     "text": [
      "\u001b[2m2024-04-16 00:26.56\u001b[0m [\u001b[32m\u001b[1minfo     \u001b[0m] \u001b[1mDiscreteBC_20240416002149: epoch=8 step=56000\u001b[0m \u001b[36mepoch\u001b[0m=\u001b[35m8\u001b[0m \u001b[36mmetrics\u001b[0m=\u001b[35m{'time_sample_batch': 0.002217063903808594, 'time_algorithm_update': 0.003177821057183402, 'loss': 2.806809221642358, 'time_step': 0.005457287992749895, 'environment': 1.0}\u001b[0m \u001b[36mstep\u001b[0m=\u001b[35m56000\u001b[0m\n",
      "\u001b[2m2024-04-16 00:26.56\u001b[0m [\u001b[32m\u001b[1minfo     \u001b[0m] \u001b[1mModel parameters are saved to d3rlpy_logs/DiscreteBC_20240416002149/model_56000.d3\u001b[0m\n"
     ]
    },
    {
     "data": {
      "application/vnd.jupyter.widget-view+json": {
       "model_id": "505670aefff746bca24f4e074284c705",
       "version_major": 2,
       "version_minor": 0
      },
      "text/plain": [
       "Epoch 9/14:   0%|          | 0/7000 [00:00<?, ?it/s]"
      ]
     },
     "metadata": {},
     "output_type": "display_data"
    },
    {
     "name": "stdout",
     "output_type": "stream",
     "text": [
      "\u001b[2m2024-04-16 00:27.35\u001b[0m [\u001b[32m\u001b[1minfo     \u001b[0m] \u001b[1mDiscreteBC_20240416002149: epoch=9 step=63000\u001b[0m \u001b[36mepoch\u001b[0m=\u001b[35m9\u001b[0m \u001b[36mmetrics\u001b[0m=\u001b[35m{'time_sample_batch': 0.002241831370762416, 'time_algorithm_update': 0.003207820551736014, 'loss': 2.8061589845929826, 'time_step': 0.005516702549798148, 'environment': 1.0}\u001b[0m \u001b[36mstep\u001b[0m=\u001b[35m63000\u001b[0m\n",
      "\u001b[2m2024-04-16 00:27.35\u001b[0m [\u001b[32m\u001b[1minfo     \u001b[0m] \u001b[1mModel parameters are saved to d3rlpy_logs/DiscreteBC_20240416002149/model_63000.d3\u001b[0m\n"
     ]
    },
    {
     "data": {
      "application/vnd.jupyter.widget-view+json": {
       "model_id": "011c4aa46db7453ab7c69f8b4ae6c0d9",
       "version_major": 2,
       "version_minor": 0
      },
      "text/plain": [
       "Epoch 10/14:   0%|          | 0/7000 [00:00<?, ?it/s]"
      ]
     },
     "metadata": {},
     "output_type": "display_data"
    },
    {
     "name": "stdout",
     "output_type": "stream",
     "text": [
      "\u001b[2m2024-04-16 00:28.13\u001b[0m [\u001b[32m\u001b[1minfo     \u001b[0m] \u001b[1mDiscreteBC_20240416002149: epoch=10 step=70000\u001b[0m \u001b[36mepoch\u001b[0m=\u001b[35m10\u001b[0m \u001b[36mmetrics\u001b[0m=\u001b[35m{'time_sample_batch': 0.0022169156074523925, 'time_algorithm_update': 0.0031598261424473353, 'loss': 2.806450698409762, 'time_step': 0.005440097638538905, 'environment': 1.0}\u001b[0m \u001b[36mstep\u001b[0m=\u001b[35m70000\u001b[0m\n",
      "\u001b[2m2024-04-16 00:28.13\u001b[0m [\u001b[32m\u001b[1minfo     \u001b[0m] \u001b[1mModel parameters are saved to d3rlpy_logs/DiscreteBC_20240416002149/model_70000.d3\u001b[0m\n"
     ]
    },
    {
     "data": {
      "application/vnd.jupyter.widget-view+json": {
       "model_id": "0621de3a88644833bd197c94c8fd4201",
       "version_major": 2,
       "version_minor": 0
      },
      "text/plain": [
       "Epoch 11/14:   0%|          | 0/7000 [00:00<?, ?it/s]"
      ]
     },
     "metadata": {},
     "output_type": "display_data"
    },
    {
     "name": "stdout",
     "output_type": "stream",
     "text": [
      "\u001b[2m2024-04-16 00:28.52\u001b[0m [\u001b[32m\u001b[1minfo     \u001b[0m] \u001b[1mDiscreteBC_20240416002149: epoch=11 step=77000\u001b[0m \u001b[36mepoch\u001b[0m=\u001b[35m11\u001b[0m \u001b[36mmetrics\u001b[0m=\u001b[35m{'time_sample_batch': 0.0022179676805223736, 'time_algorithm_update': 0.0031249200616564068, 'loss': 2.806020718063627, 'time_step': 0.0054069727829524445, 'environment': 1.0}\u001b[0m \u001b[36mstep\u001b[0m=\u001b[35m77000\u001b[0m\n",
      "\u001b[2m2024-04-16 00:28.52\u001b[0m [\u001b[32m\u001b[1minfo     \u001b[0m] \u001b[1mModel parameters are saved to d3rlpy_logs/DiscreteBC_20240416002149/model_77000.d3\u001b[0m\n"
     ]
    },
    {
     "data": {
      "application/vnd.jupyter.widget-view+json": {
       "model_id": "f13058f6d0624397b10de0407cfa8b71",
       "version_major": 2,
       "version_minor": 0
      },
      "text/plain": [
       "Epoch 12/14:   0%|          | 0/7000 [00:00<?, ?it/s]"
      ]
     },
     "metadata": {},
     "output_type": "display_data"
    },
    {
     "name": "stdout",
     "output_type": "stream",
     "text": [
      "\u001b[2m2024-04-16 00:29.29\u001b[0m [\u001b[32m\u001b[1minfo     \u001b[0m] \u001b[1mDiscreteBC_20240416002149: epoch=12 step=84000\u001b[0m \u001b[36mepoch\u001b[0m=\u001b[35m12\u001b[0m \u001b[36mmetrics\u001b[0m=\u001b[35m{'time_sample_batch': 0.0022070200783865794, 'time_algorithm_update': 0.003080482278551374, 'loss': 2.8060402409349168, 'time_step': 0.0053513275555201936, 'environment': 1.0}\u001b[0m \u001b[36mstep\u001b[0m=\u001b[35m84000\u001b[0m\n",
      "\u001b[2m2024-04-16 00:29.29\u001b[0m [\u001b[32m\u001b[1minfo     \u001b[0m] \u001b[1mModel parameters are saved to d3rlpy_logs/DiscreteBC_20240416002149/model_84000.d3\u001b[0m\n"
     ]
    },
    {
     "data": {
      "application/vnd.jupyter.widget-view+json": {
       "model_id": "dc5dc2f37b714f458e001d3516132d3f",
       "version_major": 2,
       "version_minor": 0
      },
      "text/plain": [
       "Epoch 13/14:   0%|          | 0/7000 [00:00<?, ?it/s]"
      ]
     },
     "metadata": {},
     "output_type": "display_data"
    },
    {
     "name": "stdout",
     "output_type": "stream",
     "text": [
      "\u001b[2m2024-04-16 00:30.07\u001b[0m [\u001b[32m\u001b[1minfo     \u001b[0m] \u001b[1mDiscreteBC_20240416002149: epoch=13 step=91000\u001b[0m \u001b[36mepoch\u001b[0m=\u001b[35m13\u001b[0m \u001b[36mmetrics\u001b[0m=\u001b[35m{'time_sample_batch': 0.0022288362639290944, 'time_algorithm_update': 0.0030387542588370185, 'loss': 2.8057397750105175, 'time_step': 0.005330275126865932, 'environment': 1.0}\u001b[0m \u001b[36mstep\u001b[0m=\u001b[35m91000\u001b[0m\n",
      "\u001b[2m2024-04-16 00:30.07\u001b[0m [\u001b[32m\u001b[1minfo     \u001b[0m] \u001b[1mModel parameters are saved to d3rlpy_logs/DiscreteBC_20240416002149/model_91000.d3\u001b[0m\n"
     ]
    },
    {
     "data": {
      "application/vnd.jupyter.widget-view+json": {
       "model_id": "35ddc1e3a04b427aaf3739586d96f6c3",
       "version_major": 2,
       "version_minor": 0
      },
      "text/plain": [
       "Epoch 14/14:   0%|          | 0/7000 [00:00<?, ?it/s]"
      ]
     },
     "metadata": {},
     "output_type": "display_data"
    },
    {
     "name": "stdout",
     "output_type": "stream",
     "text": [
      "\u001b[2m2024-04-16 00:30.44\u001b[0m [\u001b[32m\u001b[1minfo     \u001b[0m] \u001b[1mDiscreteBC_20240416002149: epoch=14 step=98000\u001b[0m \u001b[36mepoch\u001b[0m=\u001b[35m14\u001b[0m \u001b[36mmetrics\u001b[0m=\u001b[35m{'time_sample_batch': 0.0022236454827444896, 'time_algorithm_update': 0.002943499735423497, 'loss': 2.806893510273525, 'time_step': 0.005230549267360142, 'environment': 1.0}\u001b[0m \u001b[36mstep\u001b[0m=\u001b[35m98000\u001b[0m\n",
      "\u001b[2m2024-04-16 00:30.44\u001b[0m [\u001b[32m\u001b[1minfo     \u001b[0m] \u001b[1mModel parameters are saved to d3rlpy_logs/DiscreteBC_20240416002149/model_98000.d3\u001b[0m\n"
     ]
    }
   ],
   "source": [
    "bc = d3rlpy.algos.DiscreteBCConfig(learning_rate=1e-4, gamma=0.9).create(\n",
    "    device=DEVICE.type\n",
    ")\n",
    "\n",
    "# start training\n",
    "stat_bc_sub = bc.fit(\n",
    "    suboptimal_data,\n",
    "    n_steps=100000,\n",
    "    n_steps_per_epoch=7000,\n",
    "    evaluators={\n",
    "        \"environment\": d3rlpy.metrics.EnvironmentEvaluator(env),\n",
    "    },\n",
    ")"
   ]
  },
  {
   "cell_type": "code",
   "execution_count": 17,
   "metadata": {},
   "outputs": [],
   "source": [
    "models_dict[\"bc_suboptimal\"] = [val[1][\"environment\"] for val in stat_bc_sub]"
   ]
  },
  {
   "cell_type": "code",
   "execution_count": 18,
   "metadata": {},
   "outputs": [
    {
     "data": {
      "image/png": "[encoded data removed]",
      "text/plain": [
       "<Figure size 1200x600 with 1 Axes>"
      ]
     },
     "metadata": {},
     "output_type": "display_data"
    }
   ],
   "source": [
    "plot_lines(models_dict)"
   ]
  },
  {
   "cell_type": "markdown",
   "metadata": {},
   "source": [
    "### Обучаем CQL на оптимальных данных\n"
   ]
  },
  {
   "cell_type": "code",
   "execution_count": 19,
   "metadata": {},
   "outputs": [
    {
     "name": "stdout",
     "output_type": "stream",
     "text": [
      "\u001b[2m2024-04-16 00:30.57\u001b[0m [\u001b[32m\u001b[1minfo     \u001b[0m] \u001b[1mdataset info                  \u001b[0m \u001b[36mdataset_info\u001b[0m=\u001b[35mDatasetInfo(observation_signature=Signature(dtype=[dtype('float32')], shape=[(49,)]), action_signature=Signature(dtype=[dtype('int64')], shape=[()]), reward_signature=Signature(dtype=[dtype('float32')], shape=[[1]]), action_space=<ActionSpace.DISCRETE: 2>, action_size=5)\u001b[0m\n",
      "\u001b[2m2024-04-16 00:30.57\u001b[0m [\u001b[32m\u001b[1minfo     \u001b[0m] \u001b[1mDirectory is created at d3rlpy_logs/DiscreteCQL_20240416003057\u001b[0m\n",
      "\u001b[2m2024-04-16 00:30.57\u001b[0m [\u001b[32m\u001b[1mdebug    \u001b[0m] \u001b[1mBuilding models...            \u001b[0m\n",
      "\u001b[2m2024-04-16 00:30.57\u001b[0m [\u001b[32m\u001b[1mdebug    \u001b[0m] \u001b[1mModels have been built.       \u001b[0m\n",
      "\u001b[2m2024-04-16 00:30.57\u001b[0m [\u001b[32m\u001b[1minfo     \u001b[0m] \u001b[1mParameters                    \u001b[0m \u001b[36mparams\u001b[0m=\u001b[35m{'observation_shape': [49], 'action_size': 5, 'config': {'type': 'discrete_cql', 'params': {'batch_size': 32, 'gamma': 0.9, 'observation_scaler': {'type': 'none', 'params': {}}, 'action_scaler': {'type': 'none', 'params': {}}, 'reward_scaler': {'type': 'none', 'params': {}}, 'learning_rate': 0.0001, 'optim_factory': {'type': 'adam', 'params': {'betas': [0.9, 0.999], 'eps': 1e-08, 'weight_decay': 0, 'amsgrad': False}}, 'encoder_factory': {'type': 'default', 'params': {'activation': 'relu', 'use_batch_norm': False, 'dropout_rate': None}}, 'q_func_factory': {'type': 'mean', 'params': {'share_encoder': False}}, 'n_critics': 1, 'target_update_interval': 8000, 'alpha': 1.0}}}\u001b[0m\n"
     ]
    },
    {
     "data": {
      "application/vnd.jupyter.widget-view+json": {
       "model_id": "98168276101144a79e92eb45a504133b",
       "version_major": 2,
       "version_minor": 0
      },
      "text/plain": [
       "Epoch 1/10:   0%|          | 0/5000 [00:00<?, ?it/s]"
      ]
     },
     "metadata": {},
     "output_type": "display_data"
    },
    {
     "name": "stdout",
     "output_type": "stream",
     "text": [
      "\u001b[2m2024-04-16 00:31.24\u001b[0m [\u001b[32m\u001b[1minfo     \u001b[0m] \u001b[1mDiscreteCQL_20240416003057: epoch=1 step=5000\u001b[0m \u001b[36mepoch\u001b[0m=\u001b[35m1\u001b[0m \u001b[36mmetrics\u001b[0m=\u001b[35m{'time_sample_batch': 0.0012106140613555908, 'time_algorithm_update': 0.003991010808944702, 'loss': 1.3201342006206513, 'td_loss': 0.11329839644283056, 'conservative_loss': 1.20683580391407, 'time_step': 0.005296322917938232, 'environment': 1.0}\u001b[0m \u001b[36mstep\u001b[0m=\u001b[35m5000\u001b[0m\n",
      "\u001b[2m2024-04-16 00:31.24\u001b[0m [\u001b[32m\u001b[1minfo     \u001b[0m] \u001b[1mModel parameters are saved to d3rlpy_logs/DiscreteCQL_20240416003057/model_5000.d3\u001b[0m\n"
     ]
    },
    {
     "data": {
      "application/vnd.jupyter.widget-view+json": {
       "model_id": "6b1d4ba5c3e646caafbfe06a01eef71a",
       "version_major": 2,
       "version_minor": 0
      },
      "text/plain": [
       "Epoch 2/10:   0%|          | 0/5000 [00:00<?, ?it/s]"
      ]
     },
     "metadata": {},
     "output_type": "display_data"
    },
    {
     "name": "stdout",
     "output_type": "stream",
     "text": [
      "\u001b[2m2024-04-16 00:31.51\u001b[0m [\u001b[32m\u001b[1minfo     \u001b[0m] \u001b[1mDiscreteCQL_20240416003057: epoch=2 step=10000\u001b[0m \u001b[36mepoch\u001b[0m=\u001b[35m2\u001b[0m \u001b[36mmetrics\u001b[0m=\u001b[35m{'time_sample_batch': 0.0012597568988800048, 'time_algorithm_update': 0.004095210075378418, 'loss': 1.3093529401421546, 'td_loss': 0.1137989372856915, 'conservative_loss': 1.1955540031075478, 'time_step': 0.00545595645904541, 'environment': 1.0}\u001b[0m \u001b[36mstep\u001b[0m=\u001b[35m10000\u001b[0m\n",
      "\u001b[2m2024-04-16 00:31.51\u001b[0m [\u001b[32m\u001b[1minfo     \u001b[0m] \u001b[1mModel parameters are saved to d3rlpy_logs/DiscreteCQL_20240416003057/model_10000.d3\u001b[0m\n"
     ]
    },
    {
     "data": {
      "application/vnd.jupyter.widget-view+json": {
       "model_id": "556f7f5c68654cb49954423f755da35e",
       "version_major": 2,
       "version_minor": 0
      },
      "text/plain": [
       "Epoch 3/10:   0%|          | 0/5000 [00:00<?, ?it/s]"
      ]
     },
     "metadata": {},
     "output_type": "display_data"
    },
    {
     "name": "stdout",
     "output_type": "stream",
     "text": [
      "\u001b[2m2024-04-16 00:32.19\u001b[0m [\u001b[32m\u001b[1minfo     \u001b[0m] \u001b[1mDiscreteCQL_20240416003057: epoch=3 step=15000\u001b[0m \u001b[36mepoch\u001b[0m=\u001b[35m3\u001b[0m \u001b[36mmetrics\u001b[0m=\u001b[35m{'time_sample_batch': 0.001224114990234375, 'time_algorithm_update': 0.004081709384918213, 'loss': 1.3015695039987565, 'td_loss': 0.11006232035532594, 'conservative_loss': 1.191507183277607, 'time_step': 0.005404497432708741, 'environment': 1.0}\u001b[0m \u001b[36mstep\u001b[0m=\u001b[35m15000\u001b[0m\n",
      "\u001b[2m2024-04-16 00:32.19\u001b[0m [\u001b[32m\u001b[1minfo     \u001b[0m] \u001b[1mModel parameters are saved to d3rlpy_logs/DiscreteCQL_20240416003057/model_15000.d3\u001b[0m\n"
     ]
    },
    {
     "data": {
      "application/vnd.jupyter.widget-view+json": {
       "model_id": "ba087cc36a504e4bb7703ccfe68b83cd",
       "version_major": 2,
       "version_minor": 0
      },
      "text/plain": [
       "Epoch 4/10:   0%|          | 0/5000 [00:00<?, ?it/s]"
      ]
     },
     "metadata": {},
     "output_type": "display_data"
    },
    {
     "name": "stdout",
     "output_type": "stream",
     "text": [
      "\u001b[2m2024-04-16 00:32.45\u001b[0m [\u001b[32m\u001b[1minfo     \u001b[0m] \u001b[1mDiscreteCQL_20240416003057: epoch=4 step=20000\u001b[0m \u001b[36mepoch\u001b[0m=\u001b[35m4\u001b[0m \u001b[36mmetrics\u001b[0m=\u001b[35m{'time_sample_batch': 0.0011910307884216308, 'time_algorithm_update': 0.003928668975830078, 'loss': 1.2929711374640465, 'td_loss': 0.10563791852220893, 'conservative_loss': 1.1873332193493844, 'time_step': 0.005206656789779663, 'environment': 1.0}\u001b[0m \u001b[36mstep\u001b[0m=\u001b[35m20000\u001b[0m\n",
      "\u001b[2m2024-04-16 00:32.45\u001b[0m [\u001b[32m\u001b[1minfo     \u001b[0m] \u001b[1mModel parameters are saved to d3rlpy_logs/DiscreteCQL_20240416003057/model_20000.d3\u001b[0m\n"
     ]
    },
    {
     "data": {
      "application/vnd.jupyter.widget-view+json": {
       "model_id": "a40692a5b6b740e3b381a7f7f7399ebe",
       "version_major": 2,
       "version_minor": 0
      },
      "text/plain": [
       "Epoch 5/10:   0%|          | 0/5000 [00:00<?, ?it/s]"
      ]
     },
     "metadata": {},
     "output_type": "display_data"
    },
    {
     "name": "stdout",
     "output_type": "stream",
     "text": [
      "\u001b[2m2024-04-16 00:33.12\u001b[0m [\u001b[32m\u001b[1minfo     \u001b[0m] \u001b[1mDiscreteCQL_20240416003057: epoch=5 step=25000\u001b[0m \u001b[36mepoch\u001b[0m=\u001b[35m5\u001b[0m \u001b[36mmetrics\u001b[0m=\u001b[35m{'time_sample_batch': 0.0012103590488433838, 'time_algorithm_update': 0.004043142938613892, 'loss': 1.2870562094211577, 'td_loss': 0.10380170982778072, 'conservative_loss': 1.183254498243332, 'time_step': 0.005346035051345825, 'environment': 1.0}\u001b[0m \u001b[36mstep\u001b[0m=\u001b[35m25000\u001b[0m\n",
      "\u001b[2m2024-04-16 00:33.12\u001b[0m [\u001b[32m\u001b[1minfo     \u001b[0m] \u001b[1mModel parameters are saved to d3rlpy_logs/DiscreteCQL_20240416003057/model_25000.d3\u001b[0m\n"
     ]
    },
    {
     "data": {
      "application/vnd.jupyter.widget-view+json": {
       "model_id": "1af2f5970084471292737fdcb6d5847b",
       "version_major": 2,
       "version_minor": 0
      },
      "text/plain": [
       "Epoch 6/10:   0%|          | 0/5000 [00:00<?, ?it/s]"
      ]
     },
     "metadata": {},
     "output_type": "display_data"
    },
    {
     "name": "stdout",
     "output_type": "stream",
     "text": [
      "\u001b[2m2024-04-16 00:33.39\u001b[0m [\u001b[32m\u001b[1minfo     \u001b[0m] \u001b[1mDiscreteCQL_20240416003057: epoch=6 step=30000\u001b[0m \u001b[36mepoch\u001b[0m=\u001b[35m6\u001b[0m \u001b[36mmetrics\u001b[0m=\u001b[35m{'time_sample_batch': 0.0012387424945831298, 'time_algorithm_update': 0.0040273856163024905, 'loss': 1.28314296374321, 'td_loss': 0.09923230020329356, 'conservative_loss': 1.1839106637120247, 'time_step': 0.005365234899520874, 'environment': 1.0}\u001b[0m \u001b[36mstep\u001b[0m=\u001b[35m30000\u001b[0m\n",
      "\u001b[2m2024-04-16 00:33.39\u001b[0m [\u001b[32m\u001b[1minfo     \u001b[0m] \u001b[1mModel parameters are saved to d3rlpy_logs/DiscreteCQL_20240416003057/model_30000.d3\u001b[0m\n"
     ]
    },
    {
     "data": {
      "application/vnd.jupyter.widget-view+json": {
       "model_id": "be609674b8144bb9ad1f158be23a6010",
       "version_major": 2,
       "version_minor": 0
      },
      "text/plain": [
       "Epoch 7/10:   0%|          | 0/5000 [00:00<?, ?it/s]"
      ]
     },
     "metadata": {},
     "output_type": "display_data"
    },
    {
     "name": "stdout",
     "output_type": "stream",
     "text": [
      "\u001b[2m2024-04-16 00:34.05\u001b[0m [\u001b[32m\u001b[1minfo     \u001b[0m] \u001b[1mDiscreteCQL_20240416003057: epoch=7 step=35000\u001b[0m \u001b[36mepoch\u001b[0m=\u001b[35m7\u001b[0m \u001b[36mmetrics\u001b[0m=\u001b[35m{'time_sample_batch': 0.001170942497253418, 'time_algorithm_update': 0.003961505794525147, 'loss': 1.2834435008049012, 'td_loss': 0.0995351274214685, 'conservative_loss': 1.1839083724617958, 'time_step': 0.00521791501045227, 'environment': 1.0}\u001b[0m \u001b[36mstep\u001b[0m=\u001b[35m35000\u001b[0m\n",
      "\u001b[2m2024-04-16 00:34.05\u001b[0m [\u001b[32m\u001b[1minfo     \u001b[0m] \u001b[1mModel parameters are saved to d3rlpy_logs/DiscreteCQL_20240416003057/model_35000.d3\u001b[0m\n"
     ]
    },
    {
     "data": {
      "application/vnd.jupyter.widget-view+json": {
       "model_id": "0089889f596d4c7f9e875f6aa580eb5b",
       "version_major": 2,
       "version_minor": 0
      },
      "text/plain": [
       "Epoch 8/10:   0%|          | 0/5000 [00:00<?, ?it/s]"
      ]
     },
     "metadata": {},
     "output_type": "display_data"
    },
    {
     "name": "stdout",
     "output_type": "stream",
     "text": [
      "\u001b[2m2024-04-16 00:34.32\u001b[0m [\u001b[32m\u001b[1minfo     \u001b[0m] \u001b[1mDiscreteCQL_20240416003057: epoch=8 step=40000\u001b[0m \u001b[36mepoch\u001b[0m=\u001b[35m8\u001b[0m \u001b[36mmetrics\u001b[0m=\u001b[35m{'time_sample_batch': 0.0012014665126800538, 'time_algorithm_update': 0.003949530506134033, 'loss': 1.28035084182024, 'td_loss': 0.09885413664951921, 'conservative_loss': 1.1814967047929763, 'time_step': 0.0052439993381500245, 'environment': 1.0}\u001b[0m \u001b[36mstep\u001b[0m=\u001b[35m40000\u001b[0m\n",
      "\u001b[2m2024-04-16 00:34.32\u001b[0m [\u001b[32m\u001b[1minfo     \u001b[0m] \u001b[1mModel parameters are saved to d3rlpy_logs/DiscreteCQL_20240416003057/model_40000.d3\u001b[0m\n"
     ]
    },
    {
     "data": {
      "application/vnd.jupyter.widget-view+json": {
       "model_id": "7509a48c051f443fa241db27ac202076",
       "version_major": 2,
       "version_minor": 0
      },
      "text/plain": [
       "Epoch 9/10:   0%|          | 0/5000 [00:00<?, ?it/s]"
      ]
     },
     "metadata": {},
     "output_type": "display_data"
    },
    {
     "name": "stdout",
     "output_type": "stream",
     "text": [
      "\u001b[2m2024-04-16 00:34.59\u001b[0m [\u001b[32m\u001b[1minfo     \u001b[0m] \u001b[1mDiscreteCQL_20240416003057: epoch=9 step=45000\u001b[0m \u001b[36mepoch\u001b[0m=\u001b[35m9\u001b[0m \u001b[36mmetrics\u001b[0m=\u001b[35m{'time_sample_batch': 0.001200074052810669, 'time_algorithm_update': 0.004025141477584839, 'loss': 1.2768141305565834, 'td_loss': 0.09765540120527148, 'conservative_loss': 1.1791587295413017, 'time_step': 0.00532109727859497, 'environment': 1.0}\u001b[0m \u001b[36mstep\u001b[0m=\u001b[35m45000\u001b[0m\n",
      "\u001b[2m2024-04-16 00:34.59\u001b[0m [\u001b[32m\u001b[1minfo     \u001b[0m] \u001b[1mModel parameters are saved to d3rlpy_logs/DiscreteCQL_20240416003057/model_45000.d3\u001b[0m\n"
     ]
    },
    {
     "data": {
      "application/vnd.jupyter.widget-view+json": {
       "model_id": "fcec55cd5d174842a0f5a33bb6597937",
       "version_major": 2,
       "version_minor": 0
      },
      "text/plain": [
       "Epoch 10/10:   0%|          | 0/5000 [00:00<?, ?it/s]"
      ]
     },
     "metadata": {},
     "output_type": "display_data"
    },
    {
     "name": "stdout",
     "output_type": "stream",
     "text": [
      "\u001b[2m2024-04-16 00:35.25\u001b[0m [\u001b[32m\u001b[1minfo     \u001b[0m] \u001b[1mDiscreteCQL_20240416003057: epoch=10 step=50000\u001b[0m \u001b[36mepoch\u001b[0m=\u001b[35m10\u001b[0m \u001b[36mmetrics\u001b[0m=\u001b[35m{'time_sample_batch': 0.0012038906097412109, 'time_algorithm_update': 0.0039956416606903074, 'loss': 1.2756507439613343, 'td_loss': 0.09753661047369241, 'conservative_loss': 1.1781141333937646, 'time_step': 0.005294601964950562, 'environment': 1.0}\u001b[0m \u001b[36mstep\u001b[0m=\u001b[35m50000\u001b[0m\n",
      "\u001b[2m2024-04-16 00:35.25\u001b[0m [\u001b[32m\u001b[1minfo     \u001b[0m] \u001b[1mModel parameters are saved to d3rlpy_logs/DiscreteCQL_20240416003057/model_50000.d3\u001b[0m\n"
     ]
    }
   ],
   "source": [
    "cql = d3rlpy.algos.DiscreteCQLConfig(learning_rate=1e-4, gamma=0.9).create(\n",
    "    device=DEVICE.type\n",
    ")\n",
    "\n",
    "stat_cql_opt = cql.fit(\n",
    "    optimal_data,\n",
    "    n_steps=50000,\n",
    "    n_steps_per_epoch=5000,\n",
    "    evaluators={\n",
    "        \"environment\": d3rlpy.metrics.EnvironmentEvaluator(env),\n",
    "    },\n",
    ")"
   ]
  },
  {
   "cell_type": "code",
   "execution_count": 21,
   "metadata": {},
   "outputs": [],
   "source": [
    "models_dict[\"cql_optimal\"] = [val[1][\"environment\"] for val in stat_cql_opt]"
   ]
  },
  {
   "cell_type": "code",
   "execution_count": 22,
   "metadata": {},
   "outputs": [
    {
     "data": {
      "image/png": "[encoded data removed]",
      "text/plain": [
       "<Figure size 1200x600 with 1 Axes>"
      ]
     },
     "metadata": {},
     "output_type": "display_data"
    }
   ],
   "source": [
    "plot_lines(models_dict)"
   ]
  },
  {
   "cell_type": "markdown",
   "metadata": {},
   "source": [
    "### Обучаем CQL на субоптимальных данных"
   ]
  },
  {
   "cell_type": "code",
   "execution_count": 24,
   "metadata": {},
   "outputs": [
    {
     "name": "stdout",
     "output_type": "stream",
     "text": [
      "\u001b[2m2024-04-16 00:45.17\u001b[0m [\u001b[32m\u001b[1minfo     \u001b[0m] \u001b[1mdataset info                  \u001b[0m \u001b[36mdataset_info\u001b[0m=\u001b[35mDatasetInfo(observation_signature=Signature(dtype=[dtype('float64')], shape=[(49,)]), action_signature=Signature(dtype=[dtype('int64')], shape=[(1,)]), reward_signature=Signature(dtype=[dtype('float64')], shape=[(1,)]), action_space=<ActionSpace.DISCRETE: 2>, action_size=5)\u001b[0m\n",
      "\u001b[2m2024-04-16 00:45.17\u001b[0m [\u001b[32m\u001b[1minfo     \u001b[0m] \u001b[1mDirectory is created at d3rlpy_logs/DiscreteCQL_20240416004517\u001b[0m\n",
      "\u001b[2m2024-04-16 00:45.17\u001b[0m [\u001b[32m\u001b[1mdebug    \u001b[0m] \u001b[1mBuilding models...            \u001b[0m\n",
      "\u001b[2m2024-04-16 00:45.17\u001b[0m [\u001b[32m\u001b[1mdebug    \u001b[0m] \u001b[1mModels have been built.       \u001b[0m\n",
      "\u001b[2m2024-04-16 00:45.17\u001b[0m [\u001b[32m\u001b[1minfo     \u001b[0m] \u001b[1mParameters                    \u001b[0m \u001b[36mparams\u001b[0m=\u001b[35m{'observation_shape': [49], 'action_size': 5, 'config': {'type': 'discrete_cql', 'params': {'batch_size': 32, 'gamma': 0.9, 'observation_scaler': {'type': 'none', 'params': {}}, 'action_scaler': {'type': 'none', 'params': {}}, 'reward_scaler': {'type': 'none', 'params': {}}, 'learning_rate': 0.0001, 'optim_factory': {'type': 'adam', 'params': {'betas': [0.9, 0.999], 'eps': 1e-08, 'weight_decay': 0, 'amsgrad': False}}, 'encoder_factory': {'type': 'default', 'params': {'activation': 'relu', 'use_batch_norm': False, 'dropout_rate': None}}, 'q_func_factory': {'type': 'mean', 'params': {'share_encoder': False}}, 'n_critics': 1, 'target_update_interval': 8000, 'alpha': 1.0}}}\u001b[0m\n"
     ]
    },
    {
     "data": {
      "application/vnd.jupyter.widget-view+json": {
       "model_id": "cf7f544b1fcc41fa934b54810e8e30c4",
       "version_major": 2,
       "version_minor": 0
      },
      "text/plain": [
       "Epoch 1/10:   0%|          | 0/5000 [00:00<?, ?it/s]"
      ]
     },
     "metadata": {},
     "output_type": "display_data"
    },
    {
     "name": "stdout",
     "output_type": "stream",
     "text": [
      "\u001b[2m2024-04-16 00:45.43\u001b[0m [\u001b[32m\u001b[1minfo     \u001b[0m] \u001b[1mDiscreteCQL_20240416004517: epoch=1 step=5000\u001b[0m \u001b[36mepoch\u001b[0m=\u001b[35m1\u001b[0m \u001b[36mmetrics\u001b[0m=\u001b[35m{'time_sample_batch': 0.0008492292881011963, 'time_algorithm_update': 0.004039123725891113, 'loss': 1.448102487397194, 'td_loss': 0.065375779119879, 'conservative_loss': 1.382726709008217, 'time_step': 0.004986572551727295, 'environment': 1.0}\u001b[0m \u001b[36mstep\u001b[0m=\u001b[35m5000\u001b[0m\n",
      "\u001b[2m2024-04-16 00:45.43\u001b[0m [\u001b[32m\u001b[1minfo     \u001b[0m] \u001b[1mModel parameters are saved to d3rlpy_logs/DiscreteCQL_20240416004517/model_5000.d3\u001b[0m\n"
     ]
    },
    {
     "data": {
      "application/vnd.jupyter.widget-view+json": {
       "model_id": "ff21c156476f490193ad8fb09b65def6",
       "version_major": 2,
       "version_minor": 0
      },
      "text/plain": [
       "Epoch 2/10:   0%|          | 0/5000 [00:00<?, ?it/s]"
      ]
     },
     "metadata": {},
     "output_type": "display_data"
    },
    {
     "name": "stdout",
     "output_type": "stream",
     "text": [
      "\u001b[2m2024-04-16 00:46.07\u001b[0m [\u001b[32m\u001b[1minfo     \u001b[0m] \u001b[1mDiscreteCQL_20240416004517: epoch=2 step=10000\u001b[0m \u001b[36mepoch\u001b[0m=\u001b[35m2\u001b[0m \u001b[36mmetrics\u001b[0m=\u001b[35m{'time_sample_batch': 0.0008360793590545655, 'time_algorithm_update': 0.00385159158706665, 'loss': 1.439570624899864, 'td_loss': 0.06673367058262229, 'conservative_loss': 1.3728369546890258, 'time_step': 0.004785017442703247, 'environment': 1.0}\u001b[0m \u001b[36mstep\u001b[0m=\u001b[35m10000\u001b[0m\n",
      "\u001b[2m2024-04-16 00:46.07\u001b[0m [\u001b[32m\u001b[1minfo     \u001b[0m] \u001b[1mModel parameters are saved to d3rlpy_logs/DiscreteCQL_20240416004517/model_10000.d3\u001b[0m\n"
     ]
    },
    {
     "data": {
      "application/vnd.jupyter.widget-view+json": {
       "model_id": "2e393b7b3b544f3c9d0120c4d3267612",
       "version_major": 2,
       "version_minor": 0
      },
      "text/plain": [
       "Epoch 3/10:   0%|          | 0/5000 [00:00<?, ?it/s]"
      ]
     },
     "metadata": {},
     "output_type": "display_data"
    },
    {
     "name": "stdout",
     "output_type": "stream",
     "text": [
      "\u001b[2m2024-04-16 00:46.31\u001b[0m [\u001b[32m\u001b[1minfo     \u001b[0m] \u001b[1mDiscreteCQL_20240416004517: epoch=3 step=15000\u001b[0m \u001b[36mepoch\u001b[0m=\u001b[35m3\u001b[0m \u001b[36mmetrics\u001b[0m=\u001b[35m{'time_sample_batch': 0.000821980619430542, 'time_algorithm_update': 0.003871419095993042, 'loss': 1.4310232632875441, 'td_loss': 0.06266203705444932, 'conservative_loss': 1.3683612259149551, 'time_step': 0.004788064289093018, 'environment': 1.0}\u001b[0m \u001b[36mstep\u001b[0m=\u001b[35m15000\u001b[0m\n",
      "\u001b[2m2024-04-16 00:46.31\u001b[0m [\u001b[32m\u001b[1minfo     \u001b[0m] \u001b[1mModel parameters are saved to d3rlpy_logs/DiscreteCQL_20240416004517/model_15000.d3\u001b[0m\n"
     ]
    },
    {
     "data": {
      "application/vnd.jupyter.widget-view+json": {
       "model_id": "3174c19220b7417ca20ebcb6b0ab6790",
       "version_major": 2,
       "version_minor": 0
      },
      "text/plain": [
       "Epoch 4/10:   0%|          | 0/5000 [00:00<?, ?it/s]"
      ]
     },
     "metadata": {},
     "output_type": "display_data"
    },
    {
     "name": "stdout",
     "output_type": "stream",
     "text": [
      "\u001b[2m2024-04-16 00:46.55\u001b[0m [\u001b[32m\u001b[1minfo     \u001b[0m] \u001b[1mDiscreteCQL_20240416004517: epoch=4 step=20000\u001b[0m \u001b[36mepoch\u001b[0m=\u001b[35m4\u001b[0m \u001b[36mmetrics\u001b[0m=\u001b[35m{'time_sample_batch': 0.0008374515056610107, 'time_algorithm_update': 0.003910262537002563, 'loss': 1.4282881350278855, 'td_loss': 0.060565755948796866, 'conservative_loss': 1.3677223783969878, 'time_step': 0.004846356678009033, 'environment': 1.0}\u001b[0m \u001b[36mstep\u001b[0m=\u001b[35m20000\u001b[0m\n",
      "\u001b[2m2024-04-16 00:46.55\u001b[0m [\u001b[32m\u001b[1minfo     \u001b[0m] \u001b[1mModel parameters are saved to d3rlpy_logs/DiscreteCQL_20240416004517/model_20000.d3\u001b[0m\n"
     ]
    },
    {
     "data": {
      "application/vnd.jupyter.widget-view+json": {
       "model_id": "0f6ef65fa27a43b9add5aeecfb5a1591",
       "version_major": 2,
       "version_minor": 0
      },
      "text/plain": [
       "Epoch 5/10:   0%|          | 0/5000 [00:00<?, ?it/s]"
      ]
     },
     "metadata": {},
     "output_type": "display_data"
    },
    {
     "name": "stdout",
     "output_type": "stream",
     "text": [
      "\u001b[2m2024-04-16 00:47.20\u001b[0m [\u001b[32m\u001b[1minfo     \u001b[0m] \u001b[1mDiscreteCQL_20240416004517: epoch=5 step=25000\u001b[0m \u001b[36mepoch\u001b[0m=\u001b[35m5\u001b[0m \u001b[36mmetrics\u001b[0m=\u001b[35m{'time_sample_batch': 0.0008383647918701172, 'time_algorithm_update': 0.003921224689483643, 'loss': 1.4245822901010514, 'td_loss': 0.05897647031806409, 'conservative_loss': 1.3656058190584184, 'time_step': 0.004858239555358887, 'environment': 1.0}\u001b[0m \u001b[36mstep\u001b[0m=\u001b[35m25000\u001b[0m\n",
      "\u001b[2m2024-04-16 00:47.20\u001b[0m [\u001b[32m\u001b[1minfo     \u001b[0m] \u001b[1mModel parameters are saved to d3rlpy_logs/DiscreteCQL_20240416004517/model_25000.d3\u001b[0m\n"
     ]
    },
    {
     "data": {
      "application/vnd.jupyter.widget-view+json": {
       "model_id": "ec5b3cd4121c4ab8af8c551372f344e4",
       "version_major": 2,
       "version_minor": 0
      },
      "text/plain": [
       "Epoch 6/10:   0%|          | 0/5000 [00:00<?, ?it/s]"
      ]
     },
     "metadata": {},
     "output_type": "display_data"
    },
    {
     "name": "stdout",
     "output_type": "stream",
     "text": [
      "\u001b[2m2024-04-16 00:47.44\u001b[0m [\u001b[32m\u001b[1minfo     \u001b[0m] \u001b[1mDiscreteCQL_20240416004517: epoch=6 step=30000\u001b[0m \u001b[36mepoch\u001b[0m=\u001b[35m6\u001b[0m \u001b[36mmetrics\u001b[0m=\u001b[35m{'time_sample_batch': 0.0008327021121978759, 'time_algorithm_update': 0.00380383358001709, 'loss': 1.4214733563661575, 'td_loss': 0.05672975396811962, 'conservative_loss': 1.3647436025619506, 'time_step': 0.004727188587188721, 'environment': 1.0}\u001b[0m \u001b[36mstep\u001b[0m=\u001b[35m30000\u001b[0m\n",
      "\u001b[2m2024-04-16 00:47.44\u001b[0m [\u001b[32m\u001b[1minfo     \u001b[0m] \u001b[1mModel parameters are saved to d3rlpy_logs/DiscreteCQL_20240416004517/model_30000.d3\u001b[0m\n"
     ]
    },
    {
     "data": {
      "application/vnd.jupyter.widget-view+json": {
       "model_id": "1eec1dbc76d54beb8b12257b97a4860b",
       "version_major": 2,
       "version_minor": 0
      },
      "text/plain": [
       "Epoch 7/10:   0%|          | 0/5000 [00:00<?, ?it/s]"
      ]
     },
     "metadata": {},
     "output_type": "display_data"
    },
    {
     "name": "stdout",
     "output_type": "stream",
     "text": [
      "\u001b[2m2024-04-16 00:48.08\u001b[0m [\u001b[32m\u001b[1minfo     \u001b[0m] \u001b[1mDiscreteCQL_20240416004517: epoch=7 step=35000\u001b[0m \u001b[36mepoch\u001b[0m=\u001b[35m7\u001b[0m \u001b[36mmetrics\u001b[0m=\u001b[35m{'time_sample_batch': 0.0008214884281158447, 'time_algorithm_update': 0.003829636287689209, 'loss': 1.416229905128479, 'td_loss': 0.05824514621347189, 'conservative_loss': 1.3579847581386566, 'time_step': 0.004740906429290772, 'environment': 1.0}\u001b[0m \u001b[36mstep\u001b[0m=\u001b[35m35000\u001b[0m\n",
      "\u001b[2m2024-04-16 00:48.08\u001b[0m [\u001b[32m\u001b[1minfo     \u001b[0m] \u001b[1mModel parameters are saved to d3rlpy_logs/DiscreteCQL_20240416004517/model_35000.d3\u001b[0m\n"
     ]
    },
    {
     "data": {
      "application/vnd.jupyter.widget-view+json": {
       "model_id": "3fdb8ba4078e42ad99d25cf566f35bf9",
       "version_major": 2,
       "version_minor": 0
      },
      "text/plain": [
       "Epoch 8/10:   0%|          | 0/5000 [00:00<?, ?it/s]"
      ]
     },
     "metadata": {},
     "output_type": "display_data"
    },
    {
     "name": "stdout",
     "output_type": "stream",
     "text": [
      "\u001b[2m2024-04-16 00:48.31\u001b[0m [\u001b[32m\u001b[1minfo     \u001b[0m] \u001b[1mDiscreteCQL_20240416004517: epoch=8 step=40000\u001b[0m \u001b[36mepoch\u001b[0m=\u001b[35m8\u001b[0m \u001b[36mmetrics\u001b[0m=\u001b[35m{'time_sample_batch': 0.000817463493347168, 'time_algorithm_update': 0.0037229366302490236, 'loss': 1.4184500945329666, 'td_loss': 0.05700519878007471, 'conservative_loss': 1.3614448965549468, 'time_step': 0.004627621746063232, 'environment': 1.0}\u001b[0m \u001b[36mstep\u001b[0m=\u001b[35m40000\u001b[0m\n",
      "\u001b[2m2024-04-16 00:48.31\u001b[0m [\u001b[32m\u001b[1minfo     \u001b[0m] \u001b[1mModel parameters are saved to d3rlpy_logs/DiscreteCQL_20240416004517/model_40000.d3\u001b[0m\n"
     ]
    },
    {
     "data": {
      "application/vnd.jupyter.widget-view+json": {
       "model_id": "44d291a6eee24ce38411951695a48f0a",
       "version_major": 2,
       "version_minor": 0
      },
      "text/plain": [
       "Epoch 9/10:   0%|          | 0/5000 [00:00<?, ?it/s]"
      ]
     },
     "metadata": {},
     "output_type": "display_data"
    },
    {
     "name": "stdout",
     "output_type": "stream",
     "text": [
      "\u001b[2m2024-04-16 00:48.55\u001b[0m [\u001b[32m\u001b[1minfo     \u001b[0m] \u001b[1mDiscreteCQL_20240416004517: epoch=9 step=45000\u001b[0m \u001b[36mepoch\u001b[0m=\u001b[35m9\u001b[0m \u001b[36mmetrics\u001b[0m=\u001b[35m{'time_sample_batch': 0.0008135044574737549, 'time_algorithm_update': 0.0037915203094482423, 'loss': 1.4190585513353349, 'td_loss': 0.05667256217226386, 'conservative_loss': 1.3623859892129897, 'time_step': 0.004692638254165649, 'environment': 1.0}\u001b[0m \u001b[36mstep\u001b[0m=\u001b[35m45000\u001b[0m\n",
      "\u001b[2m2024-04-16 00:48.55\u001b[0m [\u001b[32m\u001b[1minfo     \u001b[0m] \u001b[1mModel parameters are saved to d3rlpy_logs/DiscreteCQL_20240416004517/model_45000.d3\u001b[0m\n"
     ]
    },
    {
     "data": {
      "application/vnd.jupyter.widget-view+json": {
       "model_id": "0cb7fe643ebf46a5902cf9ae624f8f09",
       "version_major": 2,
       "version_minor": 0
      },
      "text/plain": [
       "Epoch 10/10:   0%|          | 0/5000 [00:00<?, ?it/s]"
      ]
     },
     "metadata": {},
     "output_type": "display_data"
    },
    {
     "name": "stdout",
     "output_type": "stream",
     "text": [
      "\u001b[2m2024-04-16 00:49.18\u001b[0m [\u001b[32m\u001b[1minfo     \u001b[0m] \u001b[1mDiscreteCQL_20240416004517: epoch=10 step=50000\u001b[0m \u001b[36mepoch\u001b[0m=\u001b[35m10\u001b[0m \u001b[36mmetrics\u001b[0m=\u001b[35m{'time_sample_batch': 0.0008223322868347168, 'time_algorithm_update': 0.003782904815673828, 'loss': 1.4168121404409408, 'td_loss': 0.05757990518547595, 'conservative_loss': 1.359232235479355, 'time_step': 0.004698493242263794, 'environment': 1.0}\u001b[0m \u001b[36mstep\u001b[0m=\u001b[35m50000\u001b[0m\n",
      "\u001b[2m2024-04-16 00:49.18\u001b[0m [\u001b[32m\u001b[1minfo     \u001b[0m] \u001b[1mModel parameters are saved to d3rlpy_logs/DiscreteCQL_20240416004517/model_50000.d3\u001b[0m\n"
     ]
    }
   ],
   "source": [
    "cql = d3rlpy.algos.DiscreteCQLConfig(learning_rate=1e-4, gamma=0.9).create(\n",
    "    device=DEVICE.type\n",
    ")\n",
    "\n",
    "stat_cql_sub = cql.fit(\n",
    "    suboptimal_data,\n",
    "    n_steps=50000,\n",
    "    n_steps_per_epoch=5000,\n",
    "    evaluators={\n",
    "        \"environment\": d3rlpy.metrics.EnvironmentEvaluator(env),\n",
    "    },\n",
    ")"
   ]
  },
  {
   "cell_type": "code",
   "execution_count": 27,
   "metadata": {},
   "outputs": [],
   "source": [
    "models_dict[\"cql_suboptimal\"] = [val[1][\"environment\"] for val in stat_cql_sub]"
   ]
  },
  {
   "cell_type": "code",
   "execution_count": 28,
   "metadata": {},
   "outputs": [
    {
     "data": {
      "image/png": "[encoded data removed]",
      "text/plain": [
       "<Figure size 1200x600 with 1 Axes>"
      ]
     },
     "metadata": {},
     "output_type": "display_data"
    }
   ],
   "source": [
    "plot_lines(models_dict)"
   ]
  },
  {
   "cell_type": "markdown",
   "metadata": {},
   "source": [
    "### Обучени DT на оптимальных данных"
   ]
  },
  {
   "cell_type": "code",
   "execution_count": 29,
   "metadata": {},
   "outputs": [
    {
     "name": "stdout",
     "output_type": "stream",
     "text": [
      "\u001b[2m2024-04-16 00:53.46\u001b[0m [\u001b[32m\u001b[1minfo     \u001b[0m] \u001b[1mdataset info                  \u001b[0m \u001b[36mdataset_info\u001b[0m=\u001b[35mDatasetInfo(observation_signature=Signature(dtype=[dtype('float32')], shape=[(49,)]), action_signature=Signature(dtype=[dtype('int64')], shape=[()]), reward_signature=Signature(dtype=[dtype('float32')], shape=[[1]]), action_space=<ActionSpace.DISCRETE: 2>, action_size=5)\u001b[0m\n",
      "\u001b[2m2024-04-16 00:53.46\u001b[0m [\u001b[32m\u001b[1minfo     \u001b[0m] \u001b[1mDirectory is created at d3rlpy_logs/DiscreteDecisionTransformer_20240416005346\u001b[0m\n",
      "\u001b[2m2024-04-16 00:53.46\u001b[0m [\u001b[32m\u001b[1mdebug    \u001b[0m] \u001b[1mBuilding models...            \u001b[0m\n",
      "\u001b[2m2024-04-16 00:53.46\u001b[0m [\u001b[32m\u001b[1mdebug    \u001b[0m] \u001b[1mModels have been built.       \u001b[0m\n",
      "\u001b[2m2024-04-16 00:53.46\u001b[0m [\u001b[32m\u001b[1minfo     \u001b[0m] \u001b[1mParameters                    \u001b[0m \u001b[36mparams\u001b[0m=\u001b[35m{'observation_shape': [49], 'action_size': 5, 'config': {'type': 'discrete_decision_transformer', 'params': {'batch_size': 128, 'gamma': 0.99, 'observation_scaler': {'type': 'none', 'params': {}}, 'action_scaler': {'type': 'none', 'params': {}}, 'reward_scaler': {'type': 'none', 'params': {}}, 'context_size': 20, 'max_timestep': 1000, 'learning_rate': 0.0006, 'encoder_factory': {'type': 'default', 'params': {'activation': 'relu', 'use_batch_norm': False, 'dropout_rate': None}}, 'optim_factory': {'type': 'adam', 'params': {'betas': [0.9, 0.999], 'eps': 1e-08, 'weight_decay': 0, 'amsgrad': False}}, 'num_heads': 8, 'num_layers': 6, 'attn_dropout': 0.1, 'resid_dropout': 0.1, 'embed_dropout': 0.1, 'activation_type': 'gelu', 'embed_activation_type': 'tanh', 'position_encoding_type': <PositionEncodingType.GLOBAL: 'global'>, 'warmup_tokens': 10240, 'final_tokens': 30000000, 'clip_grad_norm': 1.0, 'compile': False}}}\u001b[0m\n"
     ]
    },
    {
     "data": {
      "application/vnd.jupyter.widget-view+json": {
       "model_id": "9e9165e9da454aa18d9f4130b54236a6",
       "version_major": 2,
       "version_minor": 0
      },
      "text/plain": [
       "Epoch 1/10:   0%|          | 0/1000 [00:00<?, ?it/s]"
      ]
     },
     "metadata": {},
     "output_type": "display_data"
    },
    {
     "name": "stdout",
     "output_type": "stream",
     "text": [
      "\u001b[2m2024-04-16 00:54.28\u001b[0m [\u001b[32m\u001b[1minfo     \u001b[0m] \u001b[1mDiscreteDecisionTransformer_20240416005346: epoch=1 step=1000\u001b[0m \u001b[36mepoch\u001b[0m=\u001b[35m1\u001b[0m \u001b[36mmetrics\u001b[0m=\u001b[35m{'time_sample_batch': 0.005770832300186157, 'time_algorithm_update': 0.034645239114761354, 'loss': 0.5992135599851608, 'learning_rate': 0.0005970024240145154, 'time_step': 0.04047992920875549, 'environment': 1.0}\u001b[0m \u001b[36mstep\u001b[0m=\u001b[35m1000\u001b[0m\n",
      "\u001b[2m2024-04-16 00:54.29\u001b[0m [\u001b[32m\u001b[1minfo     \u001b[0m] \u001b[1mModel parameters are saved to d3rlpy_logs/DiscreteDecisionTransformer_20240416005346/model_1000.d3\u001b[0m\n"
     ]
    },
    {
     "data": {
      "application/vnd.jupyter.widget-view+json": {
       "model_id": "5f162f7240234c3f80ca427984e8cbef",
       "version_major": 2,
       "version_minor": 0
      },
      "text/plain": [
       "Epoch 2/10:   0%|          | 0/1000 [00:00<?, ?it/s]"
      ]
     },
     "metadata": {},
     "output_type": "display_data"
    },
    {
     "name": "stdout",
     "output_type": "stream",
     "text": [
      "\u001b[2m2024-04-16 00:55.12\u001b[0m [\u001b[32m\u001b[1minfo     \u001b[0m] \u001b[1mDiscreteDecisionTransformer_20240416005346: epoch=2 step=2000\u001b[0m \u001b[36mepoch\u001b[0m=\u001b[35m2\u001b[0m \u001b[36mmetrics\u001b[0m=\u001b[35m{'time_sample_batch': 0.005746836423873901, 'time_algorithm_update': 0.034622136354446414, 'loss': 0.5810661677420139, 'learning_rate': 0.0005925018095983124, 'time_step': 0.040426897048950194, 'environment': 0.7}\u001b[0m \u001b[36mstep\u001b[0m=\u001b[35m2000\u001b[0m\n",
      "\u001b[2m2024-04-16 00:55.12\u001b[0m [\u001b[32m\u001b[1minfo     \u001b[0m] \u001b[1mModel parameters are saved to d3rlpy_logs/DiscreteDecisionTransformer_20240416005346/model_2000.d3\u001b[0m\n"
     ]
    },
    {
     "data": {
      "application/vnd.jupyter.widget-view+json": {
       "model_id": "03d3092c0e4b471b8439a18c104d05b6",
       "version_major": 2,
       "version_minor": 0
      },
      "text/plain": [
       "Epoch 3/10:   0%|          | 0/1000 [00:00<?, ?it/s]"
      ]
     },
     "metadata": {},
     "output_type": "display_data"
    },
    {
     "name": "stdout",
     "output_type": "stream",
     "text": [
      "\u001b[2m2024-04-16 00:55.56\u001b[0m [\u001b[32m\u001b[1minfo     \u001b[0m] \u001b[1mDiscreteDecisionTransformer_20240416005346: epoch=3 step=3000\u001b[0m \u001b[36mepoch\u001b[0m=\u001b[35m3\u001b[0m \u001b[36mmetrics\u001b[0m=\u001b[35m{'time_sample_batch': 0.00573865008354187, 'time_algorithm_update': 0.03471590566635132, 'loss': 0.574970408976078, 'learning_rate': 0.0005797246787925986, 'time_step': 0.04051333737373352, 'environment': 0.8}\u001b[0m \u001b[36mstep\u001b[0m=\u001b[35m3000\u001b[0m\n",
      "\u001b[2m2024-04-16 00:55.56\u001b[0m [\u001b[32m\u001b[1minfo     \u001b[0m] \u001b[1mModel parameters are saved to d3rlpy_logs/DiscreteDecisionTransformer_20240416005346/model_3000.d3\u001b[0m\n"
     ]
    },
    {
     "data": {
      "application/vnd.jupyter.widget-view+json": {
       "model_id": "6f30989a6fe94a6aaf0dece102e21799",
       "version_major": 2,
       "version_minor": 0
      },
      "text/plain": [
       "Epoch 4/10:   0%|          | 0/1000 [00:00<?, ?it/s]"
      ]
     },
     "metadata": {},
     "output_type": "display_data"
    },
    {
     "name": "stdout",
     "output_type": "stream",
     "text": [
      "\u001b[2m2024-04-16 00:56.42\u001b[0m [\u001b[32m\u001b[1minfo     \u001b[0m] \u001b[1mDiscreteDecisionTransformer_20240416005346: epoch=4 step=4000\u001b[0m \u001b[36mepoch\u001b[0m=\u001b[35m4\u001b[0m \u001b[36mmetrics\u001b[0m=\u001b[35m{'time_sample_batch': 0.0057651219367980955, 'time_algorithm_update': 0.03451446557044983, 'loss': 0.5533353941440582, 'learning_rate': 0.0005608821303278751, 'time_step': 0.04033974432945252, 'environment': 0.1}\u001b[0m \u001b[36mstep\u001b[0m=\u001b[35m4000\u001b[0m\n",
      "\u001b[2m2024-04-16 00:56.42\u001b[0m [\u001b[32m\u001b[1minfo     \u001b[0m] \u001b[1mModel parameters are saved to d3rlpy_logs/DiscreteDecisionTransformer_20240416005346/model_4000.d3\u001b[0m\n"
     ]
    },
    {
     "data": {
      "application/vnd.jupyter.widget-view+json": {
       "model_id": "7d7999238c8e4115aa8f2745fa4fe3e2",
       "version_major": 2,
       "version_minor": 0
      },
      "text/plain": [
       "Epoch 5/10:   0%|          | 0/1000 [00:00<?, ?it/s]"
      ]
     },
     "metadata": {},
     "output_type": "display_data"
    },
    {
     "name": "stdout",
     "output_type": "stream",
     "text": [
      "\u001b[2m2024-04-16 00:57.26\u001b[0m [\u001b[32m\u001b[1minfo     \u001b[0m] \u001b[1mDiscreteDecisionTransformer_20240416005346: epoch=5 step=5000\u001b[0m \u001b[36mepoch\u001b[0m=\u001b[35m5\u001b[0m \u001b[36mmetrics\u001b[0m=\u001b[35m{'time_sample_batch': 0.0057954504489898685, 'time_algorithm_update': 0.034758548021316525, 'loss': 0.5244408344626427, 'learning_rate': 0.0005363920455366605, 'time_step': 0.04061419582366944, 'environment': 0.7}\u001b[0m \u001b[36mstep\u001b[0m=\u001b[35m5000\u001b[0m\n",
      "\u001b[2m2024-04-16 00:57.26\u001b[0m [\u001b[32m\u001b[1minfo     \u001b[0m] \u001b[1mModel parameters are saved to d3rlpy_logs/DiscreteDecisionTransformer_20240416005346/model_5000.d3\u001b[0m\n"
     ]
    },
    {
     "data": {
      "application/vnd.jupyter.widget-view+json": {
       "model_id": "b9db5872d804489e9cfbe199a43f2f3e",
       "version_major": 2,
       "version_minor": 0
      },
      "text/plain": [
       "Epoch 6/10:   0%|          | 0/1000 [00:00<?, ?it/s]"
      ]
     },
     "metadata": {},
     "output_type": "display_data"
    },
    {
     "name": "stdout",
     "output_type": "stream",
     "text": [
      "\u001b[2m2024-04-16 00:58.10\u001b[0m [\u001b[32m\u001b[1minfo     \u001b[0m] \u001b[1mDiscreteDecisionTransformer_20240416005346: epoch=6 step=6000\u001b[0m \u001b[36mepoch\u001b[0m=\u001b[35m6\u001b[0m \u001b[36mmetrics\u001b[0m=\u001b[35m{'time_sample_batch': 0.005783872127532959, 'time_algorithm_update': 0.03481930470466614, 'loss': 0.4998450412154198, 'learning_rate': 0.0005067327907614895, 'time_step': 0.040663008213043215, 'environment': 0.9}\u001b[0m \u001b[36mstep\u001b[0m=\u001b[35m6000\u001b[0m\n",
      "\u001b[2m2024-04-16 00:58.10\u001b[0m [\u001b[32m\u001b[1minfo     \u001b[0m] \u001b[1mModel parameters are saved to d3rlpy_logs/DiscreteDecisionTransformer_20240416005346/model_6000.d3\u001b[0m\n"
     ]
    },
    {
     "data": {
      "application/vnd.jupyter.widget-view+json": {
       "model_id": "a4e8dbd3ca664485800d852717455fd4",
       "version_major": 2,
       "version_minor": 0
      },
      "text/plain": [
       "Epoch 7/10:   0%|          | 0/1000 [00:00<?, ?it/s]"
      ]
     },
     "metadata": {},
     "output_type": "display_data"
    },
    {
     "name": "stdout",
     "output_type": "stream",
     "text": [
      "\u001b[2m2024-04-16 00:58.55\u001b[0m [\u001b[32m\u001b[1minfo     \u001b[0m] \u001b[1mDiscreteDecisionTransformer_20240416005346: epoch=7 step=7000\u001b[0m \u001b[36mepoch\u001b[0m=\u001b[35m7\u001b[0m \u001b[36mmetrics\u001b[0m=\u001b[35m{'time_sample_batch': 0.00577626895904541, 'time_algorithm_update': 0.03494001698493958, 'loss': 0.4815683033466339, 'learning_rate': 0.00047267641142667506, 'time_step': 0.040779302597045895, 'environment': 0.6}\u001b[0m \u001b[36mstep\u001b[0m=\u001b[35m7000\u001b[0m\n",
      "\u001b[2m2024-04-16 00:58.55\u001b[0m [\u001b[32m\u001b[1minfo     \u001b[0m] \u001b[1mModel parameters are saved to d3rlpy_logs/DiscreteDecisionTransformer_20240416005346/model_7000.d3\u001b[0m\n"
     ]
    },
    {
     "data": {
      "application/vnd.jupyter.widget-view+json": {
       "model_id": "6f21c0e348bd445fb895adbc2f489140",
       "version_major": 2,
       "version_minor": 0
      },
      "text/plain": [
       "Epoch 8/10:   0%|          | 0/1000 [00:00<?, ?it/s]"
      ]
     },
     "metadata": {},
     "output_type": "display_data"
    },
    {
     "name": "stdout",
     "output_type": "stream",
     "text": [
      "\u001b[2m2024-04-16 00:59.38\u001b[0m [\u001b[32m\u001b[1minfo     \u001b[0m] \u001b[1mDiscreteDecisionTransformer_20240416005346: epoch=8 step=8000\u001b[0m \u001b[36mepoch\u001b[0m=\u001b[35m8\u001b[0m \u001b[36mmetrics\u001b[0m=\u001b[35m{'time_sample_batch': 0.005687548160552979, 'time_algorithm_update': 0.032434083223342895, 'loss': 0.469759935349226, 'learning_rate': 0.00043481572384301625, 'time_step': 0.03817977881431579, 'environment': 0.2}\u001b[0m \u001b[36mstep\u001b[0m=\u001b[35m8000\u001b[0m\n",
      "\u001b[2m2024-04-16 00:59.38\u001b[0m [\u001b[32m\u001b[1minfo     \u001b[0m] \u001b[1mModel parameters are saved to d3rlpy_logs/DiscreteDecisionTransformer_20240416005346/model_8000.d3\u001b[0m\n"
     ]
    },
    {
     "data": {
      "application/vnd.jupyter.widget-view+json": {
       "model_id": "cc2984f02ef4445896fa073648bbca1f",
       "version_major": 2,
       "version_minor": 0
      },
      "text/plain": [
       "Epoch 9/10:   0%|          | 0/1000 [00:00<?, ?it/s]"
      ]
     },
     "metadata": {},
     "output_type": "display_data"
    },
    {
     "name": "stdout",
     "output_type": "stream",
     "text": [
      "\u001b[2m2024-04-16 01:00.22\u001b[0m [\u001b[32m\u001b[1minfo     \u001b[0m] \u001b[1mDiscreteDecisionTransformer_20240416005346: epoch=9 step=9000\u001b[0m \u001b[36mepoch\u001b[0m=\u001b[35m9\u001b[0m \u001b[36mmetrics\u001b[0m=\u001b[35m{'time_sample_batch': 0.0056960263252258305, 'time_algorithm_update': 0.032495149612426756, 'loss': 0.4576703714728355, 'learning_rate': 0.00039395771191351583, 'time_step': 0.03824806523323059, 'environment': 0.0}\u001b[0m \u001b[36mstep\u001b[0m=\u001b[35m9000\u001b[0m\n",
      "\u001b[2m2024-04-16 01:00.22\u001b[0m [\u001b[32m\u001b[1minfo     \u001b[0m] \u001b[1mModel parameters are saved to d3rlpy_logs/DiscreteDecisionTransformer_20240416005346/model_9000.d3\u001b[0m\n"
     ]
    },
    {
     "data": {
      "application/vnd.jupyter.widget-view+json": {
       "model_id": "0076ee9e340f4542ad62a63f668c18ba",
       "version_major": 2,
       "version_minor": 0
      },
      "text/plain": [
       "Epoch 10/10:   0%|          | 0/1000 [00:00<?, ?it/s]"
      ]
     },
     "metadata": {},
     "output_type": "display_data"
    },
    {
     "name": "stdout",
     "output_type": "stream",
     "text": [
      "\u001b[2m2024-04-16 01:01.08\u001b[0m [\u001b[32m\u001b[1minfo     \u001b[0m] \u001b[1mDiscreteDecisionTransformer_20240416005346: epoch=10 step=10000\u001b[0m \u001b[36mepoch\u001b[0m=\u001b[35m10\u001b[0m \u001b[36mmetrics\u001b[0m=\u001b[35m{'time_sample_batch': 0.0057112557888031, 'time_algorithm_update': 0.03445278191566467, 'loss': 0.44807796266674993, 'learning_rate': 0.000351209898011289, 'time_step': 0.040223257541656496, 'environment': 0.0}\u001b[0m \u001b[36mstep\u001b[0m=\u001b[35m10000\u001b[0m\n",
      "\u001b[2m2024-04-16 01:01.08\u001b[0m [\u001b[32m\u001b[1minfo     \u001b[0m] \u001b[1mModel parameters are saved to d3rlpy_logs/DiscreteDecisionTransformer_20240416005346/model_10000.d3\u001b[0m\n"
     ]
    }
   ],
   "source": [
    "dt = d3rlpy.algos.DiscreteDecisionTransformerConfig().create(device=DEVICE.type)\n",
    "\n",
    "dt.fit(\n",
    "    optimal_data,\n",
    "    n_steps=10000,\n",
    "    n_steps_per_epoch=1000,\n",
    "    eval_env=env,\n",
    "    eval_target_return=0,\n",
    "    eval_action_sampler=d3rlpy.algos.SoftmaxTransformerActionSampler(),\n",
    ")"
   ]
  },
  {
   "cell_type": "code",
   "execution_count": 35,
   "metadata": {},
   "outputs": [
    {
     "data": {
      "text/html": [
       "<div>\n",
       "<style scoped>\n",
       "    .dataframe tbody tr th:only-of-type {\n",
       "        vertical-align: middle;\n",
       "    }\n",
       "\n",
       "    .dataframe tbody tr th {\n",
       "        vertical-align: top;\n",
       "    }\n",
       "\n",
       "    .dataframe thead th {\n",
       "        text-align: right;\n",
       "    }\n",
       "</style>\n",
       "<table border=\"1\" class=\"dataframe\">\n",
       "  <thead>\n",
       "    <tr style=\"text-align: right;\">\n",
       "      <th></th>\n",
       "      <th>0</th>\n",
       "      <th>1</th>\n",
       "      <th>2</th>\n",
       "    </tr>\n",
       "  </thead>\n",
       "  <tbody>\n",
       "    <tr>\n",
       "      <th>0</th>\n",
       "      <td>1</td>\n",
       "      <td>1000</td>\n",
       "      <td>1.0</td>\n",
       "    </tr>\n",
       "    <tr>\n",
       "      <th>1</th>\n",
       "      <td>2</td>\n",
       "      <td>2000</td>\n",
       "      <td>0.7</td>\n",
       "    </tr>\n",
       "    <tr>\n",
       "      <th>2</th>\n",
       "      <td>3</td>\n",
       "      <td>3000</td>\n",
       "      <td>0.8</td>\n",
       "    </tr>\n",
       "    <tr>\n",
       "      <th>3</th>\n",
       "      <td>4</td>\n",
       "      <td>4000</td>\n",
       "      <td>0.1</td>\n",
       "    </tr>\n",
       "    <tr>\n",
       "      <th>4</th>\n",
       "      <td>5</td>\n",
       "      <td>5000</td>\n",
       "      <td>0.7</td>\n",
       "    </tr>\n",
       "    <tr>\n",
       "      <th>5</th>\n",
       "      <td>6</td>\n",
       "      <td>6000</td>\n",
       "      <td>0.9</td>\n",
       "    </tr>\n",
       "    <tr>\n",
       "      <th>6</th>\n",
       "      <td>7</td>\n",
       "      <td>7000</td>\n",
       "      <td>0.6</td>\n",
       "    </tr>\n",
       "    <tr>\n",
       "      <th>7</th>\n",
       "      <td>8</td>\n",
       "      <td>8000</td>\n",
       "      <td>0.2</td>\n",
       "    </tr>\n",
       "    <tr>\n",
       "      <th>8</th>\n",
       "      <td>9</td>\n",
       "      <td>9000</td>\n",
       "      <td>0.0</td>\n",
       "    </tr>\n",
       "    <tr>\n",
       "      <th>9</th>\n",
       "      <td>10</td>\n",
       "      <td>10000</td>\n",
       "      <td>0.0</td>\n",
       "    </tr>\n",
       "  </tbody>\n",
       "</table>\n",
       "</div>"
      ],
      "text/plain": [
       "    0      1    2\n",
       "0   1   1000  1.0\n",
       "1   2   2000  0.7\n",
       "2   3   3000  0.8\n",
       "3   4   4000  0.1\n",
       "4   5   5000  0.7\n",
       "5   6   6000  0.9\n",
       "6   7   7000  0.6\n",
       "7   8   8000  0.2\n",
       "8   9   9000  0.0\n",
       "9  10  10000  0.0"
      ]
     },
     "execution_count": 35,
     "metadata": {},
     "output_type": "execute_result"
    }
   ],
   "source": [
    "environment_file = (\n",
    "    \"./d3rlpy_logs/DiscreteDecisionTransformer_20240416005346/environment.csv\"\n",
    ")\n",
    "statistics = pd.read_csv(environment_file, header=None)"
   ]
  },
  {
   "cell_type": "code",
   "execution_count": 36,
   "metadata": {},
   "outputs": [],
   "source": [
    "models_dict[\"dt_optimal\"] = statistics[2]"
   ]
  },
  {
   "cell_type": "code",
   "execution_count": 37,
   "metadata": {},
   "outputs": [
    {
     "data": {
      "image/png": "[encoded data removed]",
      "text/plain": [
       "<Figure size 1200x600 with 1 Axes>"
      ]
     },
     "metadata": {},
     "output_type": "display_data"
    }
   ],
   "source": [
    "plot_lines(models_dict)"
   ]
  },
  {
   "cell_type": "markdown",
   "metadata": {},
   "source": [
    "### Обучени DT на субоптимальных данных"
   ]
  },
  {
   "cell_type": "code",
   "execution_count": 38,
   "metadata": {},
   "outputs": [
    {
     "name": "stdout",
     "output_type": "stream",
     "text": [
      "\u001b[2m2024-04-16 01:08.32\u001b[0m [\u001b[32m\u001b[1minfo     \u001b[0m] \u001b[1mdataset info                  \u001b[0m \u001b[36mdataset_info\u001b[0m=\u001b[35mDatasetInfo(observation_signature=Signature(dtype=[dtype('float64')], shape=[(49,)]), action_signature=Signature(dtype=[dtype('int64')], shape=[(1,)]), reward_signature=Signature(dtype=[dtype('float64')], shape=[(1,)]), action_space=<ActionSpace.DISCRETE: 2>, action_size=5)\u001b[0m\n",
      "\u001b[2m2024-04-16 01:08.32\u001b[0m [\u001b[32m\u001b[1minfo     \u001b[0m] \u001b[1mDirectory is created at d3rlpy_logs/DiscreteDecisionTransformer_20240416010832\u001b[0m\n",
      "\u001b[2m2024-04-16 01:08.32\u001b[0m [\u001b[32m\u001b[1mdebug    \u001b[0m] \u001b[1mBuilding models...            \u001b[0m\n",
      "\u001b[2m2024-04-16 01:08.32\u001b[0m [\u001b[32m\u001b[1mdebug    \u001b[0m] \u001b[1mModels have been built.       \u001b[0m\n",
      "\u001b[2m2024-04-16 01:08.32\u001b[0m [\u001b[32m\u001b[1minfo     \u001b[0m] \u001b[1mParameters                    \u001b[0m \u001b[36mparams\u001b[0m=\u001b[35m{'observation_shape': [49], 'action_size': 5, 'config': {'type': 'discrete_decision_transformer', 'params': {'batch_size': 128, 'gamma': 0.99, 'observation_scaler': {'type': 'none', 'params': {}}, 'action_scaler': {'type': 'none', 'params': {}}, 'reward_scaler': {'type': 'none', 'params': {}}, 'context_size': 20, 'max_timestep': 1000, 'learning_rate': 0.0006, 'encoder_factory': {'type': 'default', 'params': {'activation': 'relu', 'use_batch_norm': False, 'dropout_rate': None}}, 'optim_factory': {'type': 'adam', 'params': {'betas': [0.9, 0.999], 'eps': 1e-08, 'weight_decay': 0, 'amsgrad': False}}, 'num_heads': 8, 'num_layers': 6, 'attn_dropout': 0.1, 'resid_dropout': 0.1, 'embed_dropout': 0.1, 'activation_type': 'gelu', 'embed_activation_type': 'tanh', 'position_encoding_type': <PositionEncodingType.GLOBAL: 'global'>, 'warmup_tokens': 10240, 'final_tokens': 30000000, 'clip_grad_norm': 1.0, 'compile': False}}}\u001b[0m\n"
     ]
    },
    {
     "data": {
      "application/vnd.jupyter.widget-view+json": {
       "model_id": "7a505c24690d4dd986bbd2871735b607",
       "version_major": 2,
       "version_minor": 0
      },
      "text/plain": [
       "Epoch 1/10:   0%|          | 0/1000 [00:00<?, ?it/s]"
      ]
     },
     "metadata": {},
     "output_type": "display_data"
    },
    {
     "name": "stdout",
     "output_type": "stream",
     "text": [
      "\u001b[2m2024-04-16 01:09.15\u001b[0m [\u001b[32m\u001b[1minfo     \u001b[0m] \u001b[1mDiscreteDecisionTransformer_20240416010832: epoch=1 step=1000\u001b[0m \u001b[36mepoch\u001b[0m=\u001b[35m1\u001b[0m \u001b[36mmetrics\u001b[0m=\u001b[35m{'time_sample_batch': 0.0046844959259033205, 'time_algorithm_update': 0.03612264013290405, 'loss': 0.8731476203203201, 'learning_rate': 0.0005968838631708429, 'time_step': 0.04087538433074951, 'environment': 0.9}\u001b[0m \u001b[36mstep\u001b[0m=\u001b[35m1000\u001b[0m\n",
      "\u001b[2m2024-04-16 01:09.15\u001b[0m [\u001b[32m\u001b[1minfo     \u001b[0m] \u001b[1mModel parameters are saved to d3rlpy_logs/DiscreteDecisionTransformer_20240416010832/model_1000.d3\u001b[0m\n"
     ]
    },
    {
     "data": {
      "application/vnd.jupyter.widget-view+json": {
       "model_id": "43d83fc9a7174d42ba421e13a52ffb3c",
       "version_major": 2,
       "version_minor": 0
      },
      "text/plain": [
       "Epoch 2/10:   0%|          | 0/1000 [00:00<?, ?it/s]"
      ]
     },
     "metadata": {},
     "output_type": "display_data"
    },
    {
     "name": "stdout",
     "output_type": "stream",
     "text": [
      "\u001b[2m2024-04-16 01:09.57\u001b[0m [\u001b[32m\u001b[1minfo     \u001b[0m] \u001b[1mDiscreteDecisionTransformer_20240416010832: epoch=2 step=2000\u001b[0m \u001b[36mepoch\u001b[0m=\u001b[35m2\u001b[0m \u001b[36mmetrics\u001b[0m=\u001b[35m{'time_sample_batch': 0.004670670747756958, 'time_algorithm_update': 0.03525973033905029, 'loss': 0.8570076779723167, 'learning_rate': 0.0005890706521927038, 'time_step': 0.03999730563163757, 'environment': 0.9}\u001b[0m \u001b[36mstep\u001b[0m=\u001b[35m2000\u001b[0m\n",
      "\u001b[2m2024-04-16 01:09.57\u001b[0m [\u001b[32m\u001b[1minfo     \u001b[0m] \u001b[1mModel parameters are saved to d3rlpy_logs/DiscreteDecisionTransformer_20240416010832/model_2000.d3\u001b[0m\n"
     ]
    },
    {
     "data": {
      "application/vnd.jupyter.widget-view+json": {
       "model_id": "e87e74f7869e41999cc7a14b9e5b048d",
       "version_major": 2,
       "version_minor": 0
      },
      "text/plain": [
       "Epoch 3/10:   0%|          | 0/1000 [00:00<?, ?it/s]"
      ]
     },
     "metadata": {},
     "output_type": "display_data"
    },
    {
     "name": "stdout",
     "output_type": "stream",
     "text": [
      "\u001b[2m2024-04-16 01:10.43\u001b[0m [\u001b[32m\u001b[1minfo     \u001b[0m] \u001b[1mDiscreteDecisionTransformer_20240416010832: epoch=3 step=3000\u001b[0m \u001b[36mepoch\u001b[0m=\u001b[35m3\u001b[0m \u001b[36mmetrics\u001b[0m=\u001b[35m{'time_sample_batch': 0.004768375158309936, 'time_algorithm_update': 0.037684232473373415, 'loss': 0.8538644478321076, 'learning_rate': 0.0005706066018617169, 'time_step': 0.042524431228637694, 'environment': 0.7}\u001b[0m \u001b[36mstep\u001b[0m=\u001b[35m3000\u001b[0m\n",
      "\u001b[2m2024-04-16 01:10.43\u001b[0m [\u001b[32m\u001b[1minfo     \u001b[0m] \u001b[1mModel parameters are saved to d3rlpy_logs/DiscreteDecisionTransformer_20240416010832/model_3000.d3\u001b[0m\n"
     ]
    },
    {
     "data": {
      "application/vnd.jupyter.widget-view+json": {
       "model_id": "4085dcdbd3244d97ab5f6e36e1a367fb",
       "version_major": 2,
       "version_minor": 0
      },
      "text/plain": [
       "Epoch 4/10:   0%|          | 0/1000 [00:00<?, ?it/s]"
      ]
     },
     "metadata": {},
     "output_type": "display_data"
    },
    {
     "name": "stdout",
     "output_type": "stream",
     "text": [
      "\u001b[2m2024-04-16 01:11.26\u001b[0m [\u001b[32m\u001b[1minfo     \u001b[0m] \u001b[1mDiscreteDecisionTransformer_20240416010832: epoch=4 step=4000\u001b[0m \u001b[36mepoch\u001b[0m=\u001b[35m4\u001b[0m \u001b[36mmetrics\u001b[0m=\u001b[35m{'time_sample_batch': 0.0047168233394622805, 'time_algorithm_update': 0.03594398307800293, 'loss': 0.8513604253530502, 'learning_rate': 0.0005435739898773586, 'time_step': 0.0407280797958374, 'environment': 0.9}\u001b[0m \u001b[36mstep\u001b[0m=\u001b[35m4000\u001b[0m\n",
      "\u001b[2m2024-04-16 01:11.26\u001b[0m [\u001b[32m\u001b[1minfo     \u001b[0m] \u001b[1mModel parameters are saved to d3rlpy_logs/DiscreteDecisionTransformer_20240416010832/model_4000.d3\u001b[0m\n"
     ]
    },
    {
     "data": {
      "application/vnd.jupyter.widget-view+json": {
       "model_id": "aa912774ffd3467c9066461a28f1ad91",
       "version_major": 2,
       "version_minor": 0
      },
      "text/plain": [
       "Epoch 5/10:   0%|          | 0/1000 [00:00<?, ?it/s]"
      ]
     },
     "metadata": {},
     "output_type": "display_data"
    },
    {
     "name": "stdout",
     "output_type": "stream",
     "text": [
      "\u001b[2m2024-04-16 01:12.06\u001b[0m [\u001b[32m\u001b[1minfo     \u001b[0m] \u001b[1mDiscreteDecisionTransformer_20240416010832: epoch=5 step=5000\u001b[0m \u001b[36mepoch\u001b[0m=\u001b[35m5\u001b[0m \u001b[36mmetrics\u001b[0m=\u001b[35m{'time_sample_batch': 0.004705994606018066, 'time_algorithm_update': 0.033627305269241334, 'loss': 0.8439628716111183, 'learning_rate': 0.0005089186874783801, 'time_step': 0.03840173697471619, 'environment': 1.0}\u001b[0m \u001b[36mstep\u001b[0m=\u001b[35m5000\u001b[0m\n",
      "\u001b[2m2024-04-16 01:12.06\u001b[0m [\u001b[32m\u001b[1minfo     \u001b[0m] \u001b[1mModel parameters are saved to d3rlpy_logs/DiscreteDecisionTransformer_20240416010832/model_5000.d3\u001b[0m\n"
     ]
    },
    {
     "data": {
      "application/vnd.jupyter.widget-view+json": {
       "model_id": "83fa8f982ec2425c8fca5bcf46c5fa87",
       "version_major": 2,
       "version_minor": 0
      },
      "text/plain": [
       "Epoch 6/10:   0%|          | 0/1000 [00:00<?, ?it/s]"
      ]
     },
     "metadata": {},
     "output_type": "display_data"
    },
    {
     "name": "stdout",
     "output_type": "stream",
     "text": [
      "\u001b[2m2024-04-16 01:12.45\u001b[0m [\u001b[32m\u001b[1minfo     \u001b[0m] \u001b[1mDiscreteDecisionTransformer_20240416010832: epoch=6 step=6000\u001b[0m \u001b[36mepoch\u001b[0m=\u001b[35m6\u001b[0m \u001b[36mmetrics\u001b[0m=\u001b[35m{'time_sample_batch': 0.004593048572540283, 'time_algorithm_update': 0.03197320795059204, 'loss': 0.8441834467053413, 'learning_rate': 0.00046768749543106206, 'time_step': 0.03662815499305725, 'environment': 0.8}\u001b[0m \u001b[36mstep\u001b[0m=\u001b[35m6000\u001b[0m\n",
      "\u001b[2m2024-04-16 01:12.45\u001b[0m [\u001b[32m\u001b[1minfo     \u001b[0m] \u001b[1mModel parameters are saved to d3rlpy_logs/DiscreteDecisionTransformer_20240416010832/model_6000.d3\u001b[0m\n"
     ]
    },
    {
     "data": {
      "application/vnd.jupyter.widget-view+json": {
       "model_id": "5ce3b5e944594905be45770cd64fa716",
       "version_major": 2,
       "version_minor": 0
      },
      "text/plain": [
       "Epoch 7/10:   0%|          | 0/1000 [00:00<?, ?it/s]"
      ]
     },
     "metadata": {},
     "output_type": "display_data"
    },
    {
     "name": "stdout",
     "output_type": "stream",
     "text": [
      "\u001b[2m2024-04-16 01:13.28\u001b[0m [\u001b[32m\u001b[1minfo     \u001b[0m] \u001b[1mDiscreteDecisionTransformer_20240416010832: epoch=7 step=7000\u001b[0m \u001b[36mepoch\u001b[0m=\u001b[35m7\u001b[0m \u001b[36mmetrics\u001b[0m=\u001b[35m{'time_sample_batch': 0.004731042861938477, 'time_algorithm_update': 0.036225069522857666, 'loss': 0.8377373650670051, 'learning_rate': 0.0004211638724700871, 'time_step': 0.041028692245483396, 'environment': 0.9}\u001b[0m \u001b[36mstep\u001b[0m=\u001b[35m7000\u001b[0m\n",
      "\u001b[2m2024-04-16 01:13.28\u001b[0m [\u001b[32m\u001b[1minfo     \u001b[0m] \u001b[1mModel parameters are saved to d3rlpy_logs/DiscreteDecisionTransformer_20240416010832/model_7000.d3\u001b[0m\n"
     ]
    },
    {
     "data": {
      "application/vnd.jupyter.widget-view+json": {
       "model_id": "198a5e76f7be41bb823b6c12843c4543",
       "version_major": 2,
       "version_minor": 0
      },
      "text/plain": [
       "Epoch 8/10:   0%|          | 0/1000 [00:00<?, ?it/s]"
      ]
     },
     "metadata": {},
     "output_type": "display_data"
    },
    {
     "name": "stdout",
     "output_type": "stream",
     "text": [
      "\u001b[2m2024-04-16 01:14.11\u001b[0m [\u001b[32m\u001b[1minfo     \u001b[0m] \u001b[1mDiscreteDecisionTransformer_20240416010832: epoch=8 step=8000\u001b[0m \u001b[36mepoch\u001b[0m=\u001b[35m8\u001b[0m \u001b[36mmetrics\u001b[0m=\u001b[35m{'time_sample_batch': 0.004643009185791015, 'time_algorithm_update': 0.036400429010391235, 'loss': 0.8253049805760384, 'learning_rate': 0.0003707842360468801, 'time_step': 0.04110907006263733, 'environment': 1.0}\u001b[0m \u001b[36mstep\u001b[0m=\u001b[35m8000\u001b[0m\n",
      "\u001b[2m2024-04-16 01:14.11\u001b[0m [\u001b[32m\u001b[1minfo     \u001b[0m] \u001b[1mModel parameters are saved to d3rlpy_logs/DiscreteDecisionTransformer_20240416010832/model_8000.d3\u001b[0m\n"
     ]
    },
    {
     "data": {
      "application/vnd.jupyter.widget-view+json": {
       "model_id": "dbbee2a38c134ef98653935b8810dfaf",
       "version_major": 2,
       "version_minor": 0
      },
      "text/plain": [
       "Epoch 9/10:   0%|          | 0/1000 [00:00<?, ?it/s]"
      ]
     },
     "metadata": {},
     "output_type": "display_data"
    },
    {
     "name": "stdout",
     "output_type": "stream",
     "text": [
      "\u001b[2m2024-04-16 01:14.54\u001b[0m [\u001b[32m\u001b[1minfo     \u001b[0m] \u001b[1mDiscreteDecisionTransformer_20240416010832: epoch=9 step=9000\u001b[0m \u001b[36mepoch\u001b[0m=\u001b[35m9\u001b[0m \u001b[36mmetrics\u001b[0m=\u001b[35m{'time_sample_batch': 0.004636655807495118, 'time_algorithm_update': 0.036232967615127565, 'loss': 0.8140253568291664, 'learning_rate': 0.00031826354012586726, 'time_step': 0.04093573117256165, 'environment': 1.0}\u001b[0m \u001b[36mstep\u001b[0m=\u001b[35m9000\u001b[0m\n",
      "\u001b[2m2024-04-16 01:14.54\u001b[0m [\u001b[32m\u001b[1minfo     \u001b[0m] \u001b[1mModel parameters are saved to d3rlpy_logs/DiscreteDecisionTransformer_20240416010832/model_9000.d3\u001b[0m\n"
     ]
    },
    {
     "data": {
      "application/vnd.jupyter.widget-view+json": {
       "model_id": "75218314645048e9925f0c8856ce5de3",
       "version_major": 2,
       "version_minor": 0
      },
      "text/plain": [
       "Epoch 10/10:   0%|          | 0/1000 [00:00<?, ?it/s]"
      ]
     },
     "metadata": {},
     "output_type": "display_data"
    },
    {
     "name": "stdout",
     "output_type": "stream",
     "text": [
      "\u001b[2m2024-04-16 01:15.37\u001b[0m [\u001b[32m\u001b[1minfo     \u001b[0m] \u001b[1mDiscreteDecisionTransformer_20240416010832: epoch=10 step=10000\u001b[0m \u001b[36mepoch\u001b[0m=\u001b[35m10\u001b[0m \u001b[36mmetrics\u001b[0m=\u001b[35m{'time_sample_batch': 0.004718809127807617, 'time_algorithm_update': 0.036819924831390384, 'loss': 0.7965272482633591, 'learning_rate': 0.0002649415696268973, 'time_step': 0.04160716795921326, 'environment': 1.0}\u001b[0m \u001b[36mstep\u001b[0m=\u001b[35m10000\u001b[0m\n",
      "\u001b[2m2024-04-16 01:15.37\u001b[0m [\u001b[32m\u001b[1minfo     \u001b[0m] \u001b[1mModel parameters are saved to d3rlpy_logs/DiscreteDecisionTransformer_20240416010832/model_10000.d3\u001b[0m\n"
     ]
    }
   ],
   "source": [
    "dt = d3rlpy.algos.DiscreteDecisionTransformerConfig().create(device=DEVICE.type)\n",
    "\n",
    "dt.fit(\n",
    "    suboptimal_data,\n",
    "    n_steps=10000,\n",
    "    n_steps_per_epoch=1000,\n",
    "    eval_env=env,\n",
    "    eval_target_return=0,\n",
    "    eval_action_sampler=d3rlpy.algos.SoftmaxTransformerActionSampler(),\n",
    ")"
   ]
  },
  {
   "cell_type": "code",
   "execution_count": 40,
   "metadata": {},
   "outputs": [],
   "source": [
    "environment_file = (\n",
    "    \"./d3rlpy_logs/DiscreteDecisionTransformer_20240416010832/environment.csv\"\n",
    ")\n",
    "statistics = pd.read_csv(environment_file, header=None)\n",
    "\n",
    "models_dict[\"dt_suboptimal\"] = statistics[2]"
   ]
  },
  {
   "cell_type": "code",
   "execution_count": 41,
   "metadata": {},
   "outputs": [
    {
     "data": {
      "image/png": "[encoded data removed]",
      "text/plain": [
       "<Figure size 1200x600 with 1 Axes>"
      ]
     },
     "metadata": {},
     "output_type": "display_data"
    }
   ],
   "source": [
    "# финал\n",
    "\n",
    "plot_lines(models_dict)"
   ]
  },
  {
   "cell_type": "markdown",
   "metadata": {},
   "source": [
    "выводы: \n",
    "- BC дал лучше результат на субоптимальных стратегиях\n",
    "- обучения на оптимальных или на субоптимальных стратегиях дает одинаковый результат у CQL (на графике линии слились)\n",
    "- dt лучше сходится на субоптимальных стратегиях после 6 эпохи в сравнении с обучением на оптимальных стратегиях "
   ]
  },
  {
   "cell_type": "markdown",
   "metadata": {},
   "source": []
  }
 ],
 "metadata": {
  "kernelspec": {
   "display_name": "Python 3",
   "language": "python",
   "name": "python3"
  },
  "language_info": {
   "codemirror_mode": {
    "name": "ipython",
    "version": 3
   },
   "file_extension": ".py",
   "mimetype": "text/x-python",
   "name": "python",
   "nbconvert_exporter": "python",
   "pygments_lexer": "ipython3",
   "version": "3.10.12"
  }
 },
 "nbformat": 4,
 "nbformat_minor": 2
}
