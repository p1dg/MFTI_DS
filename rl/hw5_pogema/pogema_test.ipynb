{
 "cells": [
  {
   "cell_type": "code",
   "execution_count": 24,
   "metadata": {},
   "outputs": [],
   "source": [
    "# словарь с вариантами алгоритмов\n",
    "\n",
    "models_dict = dict()"
   ]
  },
  {
   "cell_type": "code",
   "execution_count": 3,
   "metadata": {},
   "outputs": [
    {
     "name": "stdout",
     "output_type": "stream",
     "text": [
      "Начальное наблюдение в виде вектора: 49\n",
      "Наблюдение: [0. 1. 0. 0. 0. 0. 0. 1. 0. 1. 0. 1. 0. 0. 1. 1. 1. 1. 0. 0. 0. 1. 1. 0.\n",
      " 0. 0. 1. 1. 1. 0. 1. 0. 0. 1. 0. 1. 0. 1. 1. 0. 0. 1. 1. 1. 1. 1. 1. 1.\n",
      " 1.], Награда: 0.0, Завершено: False\n",
      "Наблюдение: [1. 0. 1. 0. 0. 0. 0. 1. 1. 0. 1. 0. 1. 0. 1. 1. 1. 1. 1. 0. 0. 1. 1. 1.\n",
      " 0. 0. 0. 1. 1. 1. 0. 1. 0. 0. 1. 1. 1. 0. 1. 1. 0. 0. 1. 1. 1. 1. 1. 1.\n",
      " 1.], Награда: 0.0, Завершено: False\n",
      "Наблюдение: [1. 0. 1. 0. 0. 0. 0. 1. 1. 0. 1. 0. 1. 0. 1. 1. 1. 1. 1. 0. 0. 1. 1. 1.\n",
      " 0. 0. 0. 1. 1. 1. 0. 1. 0. 0. 1. 1. 1. 0. 1. 1. 0. 0. 1. 1. 1. 1. 1. 1.\n",
      " 1.], Награда: 0.0, Завершено: False\n",
      "Наблюдение: [1. 0. 1. 0. 0. 0. 0. 1. 1. 0. 1. 0. 1. 0. 1. 1. 1. 1. 1. 0. 0. 1. 1. 1.\n",
      " 0. 0. 0. 1. 1. 1. 0. 1. 0. 0. 1. 1. 1. 0. 1. 1. 0. 0. 1. 1. 1. 1. 1. 1.\n",
      " 1.], Награда: 0.0, Завершено: False\n",
      "Наблюдение: [1. 0. 1. 0. 0. 0. 0. 1. 1. 0. 1. 0. 1. 0. 1. 1. 1. 1. 1. 0. 0. 1. 1. 1.\n",
      " 0. 0. 0. 1. 1. 1. 0. 1. 0. 0. 1. 1. 1. 0. 1. 1. 0. 0. 1. 1. 1. 1. 1. 1.\n",
      " 1.], Награда: 0.0, Завершено: False\n",
      "Наблюдение: [0. 1. 0. 0. 0. 0. 0. 1. 0. 1. 0. 1. 0. 0. 1. 1. 1. 1. 0. 0. 0. 1. 1. 0.\n",
      " 0. 0. 1. 1. 1. 0. 1. 0. 0. 1. 0. 1. 0. 1. 1. 0. 0. 1. 1. 1. 1. 1. 1. 1.\n",
      " 1.], Награда: 0.0, Завершено: False\n",
      "Наблюдение: [1. 0. 1. 0. 0. 0. 0. 1. 1. 0. 1. 0. 1. 0. 1. 1. 1. 1. 1. 0. 0. 1. 1. 1.\n",
      " 0. 0. 0. 1. 1. 1. 0. 1. 0. 0. 1. 1. 1. 0. 1. 1. 0. 0. 1. 1. 1. 1. 1. 1.\n",
      " 1.], Награда: 0.0, Завершено: False\n",
      "Наблюдение: [1. 0. 1. 0. 0. 0. 0. 1. 1. 0. 1. 0. 1. 0. 1. 1. 1. 1. 1. 0. 0. 1. 1. 1.\n",
      " 0. 0. 0. 1. 1. 1. 0. 1. 0. 0. 1. 1. 1. 0. 1. 1. 0. 0. 1. 1. 1. 1. 1. 1.\n",
      " 1.], Награда: 0.0, Завершено: False\n",
      "Наблюдение: [1. 0. 1. 0. 0. 0. 0. 1. 1. 0. 1. 0. 1. 0. 1. 1. 1. 1. 1. 0. 0. 1. 1. 1.\n",
      " 0. 0. 0. 1. 1. 1. 0. 1. 0. 0. 1. 1. 1. 0. 1. 1. 0. 0. 1. 1. 1. 1. 1. 1.\n",
      " 1.], Награда: 0.0, Завершено: False\n",
      "Наблюдение: [1. 0. 1. 0. 0. 0. 0. 1. 1. 0. 1. 0. 1. 0. 1. 1. 1. 1. 1. 0. 0. 1. 1. 1.\n",
      " 0. 0. 0. 1. 1. 1. 0. 1. 0. 0. 1. 1. 1. 0. 1. 1. 0. 0. 1. 1. 1. 1. 1. 1.\n",
      " 1.], Награда: 0.0, Завершено: False\n"
     ]
    },
    {
     "name": "stderr",
     "output_type": "stream",
     "text": [
      "/home/p1dg/.local/lib/python3.10/site-packages/gym/spaces/box.py:127: UserWarning: \u001b[33mWARN: Box bound precision lowered by casting to float32\u001b[0m\n",
      "  logger.warn(f\"Box bound precision lowered by casting to {self.dtype}\")\n"
     ]
    }
   ],
   "source": [
    "## КОД С СЕМИНАРА\n",
    "\n",
    "import numpy as np\n",
    "import pandas as pd\n",
    "import gym\n",
    "from pogema import pogema_v0, GridConfig\n",
    "\n",
    "\n",
    "class VectorObservationAndActionWrapper(gym.Wrapper):\n",
    "    def __init__(self, env):\n",
    "        super(VectorObservationAndActionWrapper, self).__init__(env)\n",
    "        self.action_space = env.action_space\n",
    "        obs_space = env.observation_space\n",
    "        size = obs_space.shape\n",
    "        new_size = 1 * size[1] * size[2]\n",
    "        self.observation_space = gym.spaces.Box(\n",
    "            low=np.zeros((new_size)),\n",
    "            high=np.ones((new_size)),\n",
    "            shape=(new_size,),\n",
    "            dtype=obs_space.dtype,\n",
    "        )\n",
    "\n",
    "    def reset(self):\n",
    "        observation, is_active = self.env.reset()\n",
    "        return (\n",
    "            observation[0][0].flatten(),\n",
    "            is_active,\n",
    "        )  # Возвращает наблюдение как одномерный вектор\n",
    "\n",
    "    def step(self, action):\n",
    "        # Упаковка действия в массив\n",
    "        obs, reward, trancated, terminated, info = self.env.step([action])\n",
    "\n",
    "        # Распаковка наблюдения, награды и флага завершения\n",
    "        return obs[0][0].flatten(), reward[0], trancated[0], terminated[0], info[0]\n",
    "\n",
    "\n",
    "# Определение конфигурации среды\n",
    "grid_config = GridConfig(\n",
    "    num_agents=1,  # количество агентов\n",
    "    size=15,  # размер сетки\n",
    "    density=0.4,  # плотность препятствий\n",
    "    seed=2,  # зерно для генерации\n",
    "    max_episode_steps=128,  # горизонт планирования\n",
    "    obs_radius=3,  # радиус видимости\n",
    ")\n",
    "\n",
    "# Создание среды и обертывание ее\n",
    "env = pogema_v0(grid_config=grid_config)\n",
    "env = VectorObservationAndActionWrapper(env)\n",
    "\n",
    "# Тестирование среды\n",
    "obs = env.reset()\n",
    "print(\"Начальное наблюдение в виде вектора:\", len(obs[0]))\n",
    "\n",
    "for _ in range(10):\n",
    "    action = env.action_space.sample()  # Выбор случайного действия\n",
    "    obs, reward, trancated, terminated, info = env.step(action)\n",
    "    done = trancated | terminated\n",
    "    print(f\"Наблюдение: {obs}, Награда: {reward}, Завершено: {done}\")\n",
    "    if done:\n",
    "        break"
   ]
  },
  {
   "cell_type": "code",
   "execution_count": 5,
   "metadata": {},
   "outputs": [
    {
     "name": "stdout",
     "output_type": "stream",
     "text": [
      "Начальное наблюдение в виде вектора: 49\n",
      "\u001b[37m . \u001b[0m\u001b[37m . \u001b[0m\u001b[37m . \u001b[0m\u001b[37m . \u001b[0m\u001b[37m . \u001b[0m\u001b[37m . \u001b[0m\u001b[37m . \u001b[0m\u001b[37m . \u001b[0m\u001b[37m . \u001b[0m\u001b[37m . \u001b[0m\u001b[37m . \u001b[0m\u001b[37m . \u001b[0m\u001b[37m . \u001b[0m\u001b[37m . \u001b[0m\u001b[37m . \u001b[0m\u001b[37m . \u001b[0m\u001b[37m . \u001b[0m\u001b[37m . \u001b[0m\u001b[37m . \u001b[0m\u001b[37m . \u001b[0m\u001b[37m . \u001b[0m\n",
      "\u001b[37m . \u001b[0m\u001b[37m . \u001b[0m\u001b[37m . \u001b[0m\u001b[37m . \u001b[0m\u001b[37m . \u001b[0m\u001b[37m . \u001b[0m\u001b[37m . \u001b[0m\u001b[37m . \u001b[0m\u001b[37m . \u001b[0m\u001b[37m . \u001b[0m\u001b[37m . \u001b[0m\u001b[37m . \u001b[0m\u001b[37m . \u001b[0m\u001b[37m . \u001b[0m\u001b[37m . \u001b[0m\u001b[37m . \u001b[0m\u001b[37m . \u001b[0m\u001b[37m . \u001b[0m\u001b[37m . \u001b[0m\u001b[37m . \u001b[0m\u001b[37m . \u001b[0m\n",
      "\u001b[37m . \u001b[0m\u001b[37m . \u001b[0m\u001b[46m   \u001b[0m\u001b[46m   \u001b[0m\u001b[46m   \u001b[0m\u001b[46m   \u001b[0m\u001b[46m   \u001b[0m\u001b[46m   \u001b[0m\u001b[46m   \u001b[0m\u001b[46m   \u001b[0m\u001b[46m   \u001b[0m\u001b[46m   \u001b[0m\u001b[46m   \u001b[0m\u001b[46m   \u001b[0m\u001b[46m   \u001b[0m\u001b[46m   \u001b[0m\u001b[46m   \u001b[0m\u001b[46m   \u001b[0m\u001b[46m   \u001b[0m\u001b[37m . \u001b[0m\u001b[37m . \u001b[0m\n",
      "\u001b[37m . \u001b[0m\u001b[37m . \u001b[0m\u001b[46m   \u001b[0m\u001b[37m . \u001b[0m\u001b[37m . \u001b[0m\u001b[46m   \u001b[0m\u001b[37m . \u001b[0m\u001b[46m   \u001b[0m\u001b[46m   \u001b[0m\u001b[37m . \u001b[0m\u001b[37m . \u001b[0m\u001b[37m . \u001b[0m\u001b[46m   \u001b[0m\u001b[37m . \u001b[0m\u001b[37m . \u001b[0m\u001b[37m . \u001b[0m\u001b[46m   \u001b[0m\u001b[37m . \u001b[0m\u001b[46m   \u001b[0m\u001b[37m . \u001b[0m\u001b[37m . \u001b[0m\n",
      "\u001b[37m . \u001b[0m\u001b[37m . \u001b[0m\u001b[46m   \u001b[0m\u001b[46m   \u001b[0m\u001b[46m   \u001b[0m\u001b[46m   \u001b[0m\u001b[37m . \u001b[0m\u001b[37m . \u001b[0m\u001b[37m . \u001b[0m\u001b[37m . \u001b[0m\u001b[46m   \u001b[0m\u001b[46m   \u001b[0m\u001b[37m . \u001b[0m\u001b[46m   \u001b[0m\u001b[37m . \u001b[0m\u001b[46m   \u001b[0m\u001b[37m . \u001b[0m\u001b[37m . \u001b[0m\u001b[46m   \u001b[0m\u001b[37m . \u001b[0m\u001b[37m . \u001b[0m\n",
      "\u001b[37m . \u001b[0m\u001b[37m . \u001b[0m\u001b[46m   \u001b[0m\u001b[37m . \u001b[0m\u001b[46m   \u001b[0m\u001b[46m   \u001b[0m\u001b[46m   \u001b[0m\u001b[46m   \u001b[0m\u001b[37m . \u001b[0m\u001b[37m . \u001b[0m\u001b[37m . \u001b[0m\u001b[46m   \u001b[0m\u001b[37m . \u001b[0m\u001b[46m   \u001b[0m\u001b[46m   \u001b[0m\u001b[46m   \u001b[0m\u001b[37m . \u001b[0m\u001b[46m   \u001b[0m\u001b[46m   \u001b[0m\u001b[37m . \u001b[0m\u001b[37m . \u001b[0m\n",
      "\u001b[37m . \u001b[0m\u001b[37m . \u001b[0m\u001b[46m   \u001b[0m\u001b[37m . \u001b[0m\u001b[37m . \u001b[0m\u001b[37m . \u001b[0m\u001b[37m . \u001b[0m\u001b[37m . \u001b[0m\u001b[46m   \u001b[0m\u001b[37m . \u001b[0m\u001b[46m   \u001b[0m\u001b[46m   \u001b[0m\u001b[37m . \u001b[0m\u001b[46m   \u001b[0m\u001b[37m . \u001b[0m\u001b[46m   \u001b[0m\u001b[37m . \u001b[0m\u001b[37m . \u001b[0m\u001b[46m   \u001b[0m\u001b[37m . \u001b[0m\u001b[37m . \u001b[0m\n",
      "\u001b[37m . \u001b[0m\u001b[37m . \u001b[0m\u001b[46m   \u001b[0m\u001b[37m . \u001b[0m\u001b[37m . \u001b[0m\u001b[46m   \u001b[0m\u001b[37m . \u001b[0m\u001b[37m . \u001b[0m\u001b[46m   \u001b[0m\u001b[37m . \u001b[0m\u001b[37m . \u001b[0m\u001b[37m . \u001b[0m\u001b[46m   \u001b[0m\u001b[37m . \u001b[0m\u001b[46m   \u001b[0m\u001b[46m   \u001b[0m\u001b[37m . \u001b[0m\u001b[46m   \u001b[0m\u001b[46m   \u001b[0m\u001b[37m . \u001b[0m\u001b[37m . \u001b[0m\n",
      "\u001b[37m . \u001b[0m\u001b[37m . \u001b[0m\u001b[46m   \u001b[0m\u001b[37m . \u001b[0m\u001b[46m   \u001b[0m\u001b[37m . \u001b[0m\u001b[46m   \u001b[0m\u001b[37m . \u001b[0m\u001b[37m . \u001b[0m\u001b[37m . \u001b[0m\u001b[46m   \u001b[0m\u001b[46m   \u001b[0m\u001b[37m . \u001b[0m\u001b[37m . \u001b[0m\u001b[37m . \u001b[0m\u001b[46m   \u001b[0m\u001b[37m . \u001b[0m\u001b[37m . \u001b[0m\u001b[46m   \u001b[0m\u001b[37m . \u001b[0m\u001b[37m . \u001b[0m\n",
      "\u001b[37m . \u001b[0m\u001b[37m . \u001b[0m\u001b[46m   \u001b[0m\u001b[46m   \u001b[0m\u001b[37m . \u001b[0m\u001b[37m|0|\u001b[0m\u001b[37m . \u001b[0m\u001b[37m . \u001b[0m\u001b[37m . \u001b[0m\u001b[37m . \u001b[0m\u001b[37m . \u001b[0m\u001b[37m . \u001b[0m\u001b[37m . \u001b[0m\u001b[37m . \u001b[0m\u001b[37m . \u001b[0m\u001b[46m   \u001b[0m\u001b[37m . \u001b[0m\u001b[46m   \u001b[0m\u001b[46m   \u001b[0m\u001b[37m . \u001b[0m\u001b[37m . \u001b[0m\n",
      "\u001b[37m . \u001b[0m\u001b[37m . \u001b[0m\u001b[46m   \u001b[0m\u001b[46m   \u001b[0m\u001b[37m . \u001b[0m\u001b[37m . \u001b[0m\u001b[37m . \u001b[0m\u001b[46m   \u001b[0m\u001b[37m . \u001b[0m\u001b[37m . \u001b[0m\u001b[37m . \u001b[0m\u001b[46m   \u001b[0m\u001b[46m   \u001b[0m\u001b[46m   \u001b[0m\u001b[46m   \u001b[0m\u001b[37m . \u001b[0m\u001b[46m   \u001b[0m\u001b[46m   \u001b[0m\u001b[46m   \u001b[0m\u001b[37m . \u001b[0m\u001b[37m . \u001b[0m\n",
      "\u001b[37m . \u001b[0m\u001b[37m . \u001b[0m\u001b[46m   \u001b[0m\u001b[37m . \u001b[0m\u001b[37m . \u001b[0m\u001b[46m   \u001b[0m\u001b[37m . \u001b[0m\u001b[37m . \u001b[0m\u001b[46m   \u001b[0m\u001b[46m   \u001b[0m\u001b[37m . \u001b[0m\u001b[46m   \u001b[0m\u001b[37m . \u001b[0m\u001b[46m   \u001b[0m\u001b[46m   \u001b[0m\u001b[46m   \u001b[0m\u001b[37m . \u001b[0m\u001b[46m   \u001b[0m\u001b[46m   \u001b[0m\u001b[37m . \u001b[0m\u001b[37m . \u001b[0m\n",
      "\u001b[37m . \u001b[0m\u001b[37m . \u001b[0m\u001b[46m   \u001b[0m\u001b[37m . \u001b[0m\u001b[46m   \u001b[0m\u001b[37m . \u001b[0m\u001b[37m . \u001b[0m\u001b[37m . \u001b[0m\u001b[37m . \u001b[0m\u001b[37m . \u001b[0m\u001b[46m   \u001b[0m\u001b[46m   \u001b[0m\u001b[37m . \u001b[0m\u001b[37m . \u001b[0m\u001b[37m . \u001b[0m\u001b[46m   \u001b[0m\u001b[37m . \u001b[0m\u001b[46m   \u001b[0m\u001b[46m   \u001b[0m\u001b[37m . \u001b[0m\u001b[37m . \u001b[0m\n",
      "\u001b[37m . \u001b[0m\u001b[37m . \u001b[0m\u001b[46m   \u001b[0m\u001b[46m   \u001b[0m\u001b[37m . \u001b[0m\u001b[46m   \u001b[0m\u001b[37m . \u001b[0m\u001b[46m   \u001b[0m\u001b[37m . \u001b[0m\u001b[37m . \u001b[0m\u001b[37m . \u001b[0m\u001b[46m   \u001b[0m\u001b[46m   \u001b[0m\u001b[46m   \u001b[0m\u001b[37m . \u001b[0m\u001b[37m . \u001b[0m\u001b[37m . \u001b[0m\u001b[37m . \u001b[0m\u001b[46m   \u001b[0m\u001b[37m . \u001b[0m\u001b[37m . \u001b[0m\n",
      "\u001b[37m . \u001b[0m\u001b[37m . \u001b[0m\u001b[46m   \u001b[0m\u001b[46m   \u001b[0m\u001b[46m   \u001b[0m\u001b[46m   \u001b[0m\u001b[46m   \u001b[0m\u001b[37m . \u001b[0m\u001b[37m . \u001b[0m\u001b[37m . \u001b[0m\u001b[37m . \u001b[0m\u001b[46m   \u001b[0m\u001b[46m   \u001b[0m\u001b[37m . \u001b[0m\u001b[37m . \u001b[0m\u001b[46m   \u001b[0m\u001b[37m . \u001b[0m\u001b[46m   \u001b[0m\u001b[46m   \u001b[0m\u001b[37m . \u001b[0m\u001b[37m . \u001b[0m\n",
      "\u001b[37m . \u001b[0m\u001b[37m . \u001b[0m\u001b[46m   \u001b[0m\u001b[46m   \u001b[0m\u001b[46m   \u001b[0m\u001b[37m . \u001b[0m\u001b[31;1m 0 \u001b[0m\u001b[37m . \u001b[0m\u001b[46m   \u001b[0m\u001b[46m   \u001b[0m\u001b[37m . \u001b[0m\u001b[46m   \u001b[0m\u001b[46m   \u001b[0m\u001b[46m   \u001b[0m\u001b[37m . \u001b[0m\u001b[46m   \u001b[0m\u001b[37m . \u001b[0m\u001b[37m . \u001b[0m\u001b[46m   \u001b[0m\u001b[37m . \u001b[0m\u001b[37m . \u001b[0m\n",
      "\u001b[37m . \u001b[0m\u001b[37m . \u001b[0m\u001b[46m   \u001b[0m\u001b[46m   \u001b[0m\u001b[37m . \u001b[0m\u001b[46m   \u001b[0m\u001b[37m . \u001b[0m\u001b[37m . \u001b[0m\u001b[46m   \u001b[0m\u001b[37m . \u001b[0m\u001b[37m . \u001b[0m\u001b[37m . \u001b[0m\u001b[37m . \u001b[0m\u001b[37m . \u001b[0m\u001b[37m . \u001b[0m\u001b[46m   \u001b[0m\u001b[46m   \u001b[0m\u001b[37m . \u001b[0m\u001b[46m   \u001b[0m\u001b[37m . \u001b[0m\u001b[37m . \u001b[0m\n",
      "\u001b[37m . \u001b[0m\u001b[37m . \u001b[0m\u001b[46m   \u001b[0m\u001b[46m   \u001b[0m\u001b[37m . \u001b[0m\u001b[46m   \u001b[0m\u001b[46m   \u001b[0m\u001b[37m . \u001b[0m\u001b[37m . \u001b[0m\u001b[46m   \u001b[0m\u001b[46m   \u001b[0m\u001b[37m . \u001b[0m\u001b[37m . \u001b[0m\u001b[37m . \u001b[0m\u001b[37m . \u001b[0m\u001b[46m   \u001b[0m\u001b[46m   \u001b[0m\u001b[46m   \u001b[0m\u001b[46m   \u001b[0m\u001b[37m . \u001b[0m\u001b[37m . \u001b[0m\n",
      "\u001b[37m . \u001b[0m\u001b[37m . \u001b[0m\u001b[46m   \u001b[0m\u001b[46m   \u001b[0m\u001b[46m   \u001b[0m\u001b[46m   \u001b[0m\u001b[46m   \u001b[0m\u001b[46m   \u001b[0m\u001b[46m   \u001b[0m\u001b[46m   \u001b[0m\u001b[46m   \u001b[0m\u001b[46m   \u001b[0m\u001b[46m   \u001b[0m\u001b[46m   \u001b[0m\u001b[46m   \u001b[0m\u001b[46m   \u001b[0m\u001b[46m   \u001b[0m\u001b[46m   \u001b[0m\u001b[46m   \u001b[0m\u001b[37m . \u001b[0m\u001b[37m . \u001b[0m\n",
      "\u001b[37m . \u001b[0m\u001b[37m . \u001b[0m\u001b[37m . \u001b[0m\u001b[37m . \u001b[0m\u001b[37m . \u001b[0m\u001b[37m . \u001b[0m\u001b[37m . \u001b[0m\u001b[37m . \u001b[0m\u001b[37m . \u001b[0m\u001b[37m . \u001b[0m\u001b[37m . \u001b[0m\u001b[37m . \u001b[0m\u001b[37m . \u001b[0m\u001b[37m . \u001b[0m\u001b[37m . \u001b[0m\u001b[37m . \u001b[0m\u001b[37m . \u001b[0m\u001b[37m . \u001b[0m\u001b[37m . \u001b[0m\u001b[37m . \u001b[0m\u001b[37m . \u001b[0m\n",
      "\u001b[37m . \u001b[0m\u001b[37m . \u001b[0m\u001b[37m . \u001b[0m\u001b[37m . \u001b[0m\u001b[37m . \u001b[0m\u001b[37m . \u001b[0m\u001b[37m . \u001b[0m\u001b[37m . \u001b[0m\u001b[37m . \u001b[0m\u001b[37m . \u001b[0m\u001b[37m . \u001b[0m\u001b[37m . \u001b[0m\u001b[37m . \u001b[0m\u001b[37m . \u001b[0m\u001b[37m . \u001b[0m\u001b[37m . \u001b[0m\u001b[37m . \u001b[0m\u001b[37m . \u001b[0m\u001b[37m . \u001b[0m\u001b[37m . \u001b[0m\u001b[37m . \u001b[0m\n",
      "Наблюдение: [0. 1. 0. 0. 0. 0. 0. 1. 0. 1. 0. 1. 0. 0. 1. 1. 1. 1. 0. 0. 0. 1. 1. 0.\n",
      " 0. 0. 1. 1. 1. 0. 1. 0. 0. 1. 0. 1. 0. 1. 1. 0. 0. 1. 1. 1. 1. 1. 1. 1.\n",
      " 1.], Награда: -1.216552506059644, Завершено: False, Положение агента [(15, 6)], Положение цели [(9, 5)], action 1\n",
      "\u001b[37m . \u001b[0m\u001b[37m . \u001b[0m\u001b[37m . \u001b[0m\u001b[37m . \u001b[0m\u001b[37m . \u001b[0m\u001b[37m . \u001b[0m\u001b[37m . \u001b[0m\u001b[37m . \u001b[0m\u001b[37m . \u001b[0m\u001b[37m . \u001b[0m\u001b[37m . \u001b[0m\u001b[37m . \u001b[0m\u001b[37m . \u001b[0m\u001b[37m . \u001b[0m\u001b[37m . \u001b[0m\u001b[37m . \u001b[0m\u001b[37m . \u001b[0m\u001b[37m . \u001b[0m\u001b[37m . \u001b[0m\u001b[37m . \u001b[0m\u001b[37m . \u001b[0m\n",
      "\u001b[37m . \u001b[0m\u001b[37m . \u001b[0m\u001b[37m . \u001b[0m\u001b[37m . \u001b[0m\u001b[37m . \u001b[0m\u001b[37m . \u001b[0m\u001b[37m . \u001b[0m\u001b[37m . \u001b[0m\u001b[37m . \u001b[0m\u001b[37m . \u001b[0m\u001b[37m . \u001b[0m\u001b[37m . \u001b[0m\u001b[37m . \u001b[0m\u001b[37m . \u001b[0m\u001b[37m . \u001b[0m\u001b[37m . \u001b[0m\u001b[37m . \u001b[0m\u001b[37m . \u001b[0m\u001b[37m . \u001b[0m\u001b[37m . \u001b[0m\u001b[37m . \u001b[0m\n",
      "\u001b[37m . \u001b[0m\u001b[37m . \u001b[0m\u001b[46m   \u001b[0m\u001b[46m   \u001b[0m\u001b[46m   \u001b[0m\u001b[46m   \u001b[0m\u001b[46m   \u001b[0m\u001b[46m   \u001b[0m\u001b[46m   \u001b[0m\u001b[46m   \u001b[0m\u001b[46m   \u001b[0m\u001b[46m   \u001b[0m\u001b[46m   \u001b[0m\u001b[46m   \u001b[0m\u001b[46m   \u001b[0m\u001b[46m   \u001b[0m\u001b[46m   \u001b[0m\u001b[46m   \u001b[0m\u001b[46m   \u001b[0m\u001b[37m . \u001b[0m\u001b[37m . \u001b[0m\n",
      "\u001b[37m . \u001b[0m\u001b[37m . \u001b[0m\u001b[46m   \u001b[0m\u001b[37m . \u001b[0m\u001b[37m . \u001b[0m\u001b[46m   \u001b[0m\u001b[37m . \u001b[0m\u001b[46m   \u001b[0m\u001b[46m   \u001b[0m\u001b[37m . \u001b[0m\u001b[37m . \u001b[0m\u001b[37m . \u001b[0m\u001b[46m   \u001b[0m\u001b[37m . \u001b[0m\u001b[37m . \u001b[0m\u001b[37m . \u001b[0m\u001b[46m   \u001b[0m\u001b[37m . \u001b[0m\u001b[46m   \u001b[0m\u001b[37m . \u001b[0m\u001b[37m . \u001b[0m\n",
      "\u001b[37m . \u001b[0m\u001b[37m . \u001b[0m\u001b[46m   \u001b[0m\u001b[46m   \u001b[0m\u001b[46m   \u001b[0m\u001b[46m   \u001b[0m\u001b[37m . \u001b[0m\u001b[37m . \u001b[0m\u001b[37m . \u001b[0m\u001b[37m . \u001b[0m\u001b[46m   \u001b[0m\u001b[46m   \u001b[0m\u001b[37m . \u001b[0m\u001b[46m   \u001b[0m\u001b[37m . \u001b[0m\u001b[46m   \u001b[0m\u001b[37m . \u001b[0m\u001b[37m . \u001b[0m\u001b[46m   \u001b[0m\u001b[37m . \u001b[0m\u001b[37m . \u001b[0m\n",
      "\u001b[37m . \u001b[0m\u001b[37m . \u001b[0m\u001b[46m   \u001b[0m\u001b[37m . \u001b[0m\u001b[46m   \u001b[0m\u001b[46m   \u001b[0m\u001b[46m   \u001b[0m\u001b[46m   \u001b[0m\u001b[37m . \u001b[0m\u001b[37m . \u001b[0m\u001b[37m . \u001b[0m\u001b[46m   \u001b[0m\u001b[37m . \u001b[0m\u001b[46m   \u001b[0m\u001b[46m   \u001b[0m\u001b[46m   \u001b[0m\u001b[37m . \u001b[0m\u001b[46m   \u001b[0m\u001b[46m   \u001b[0m\u001b[37m . \u001b[0m\u001b[37m . \u001b[0m\n",
      "\u001b[37m . \u001b[0m\u001b[37m . \u001b[0m\u001b[46m   \u001b[0m\u001b[37m . \u001b[0m\u001b[37m . \u001b[0m\u001b[37m . \u001b[0m\u001b[37m . \u001b[0m\u001b[37m . \u001b[0m\u001b[46m   \u001b[0m\u001b[37m . \u001b[0m\u001b[46m   \u001b[0m\u001b[46m   \u001b[0m\u001b[37m . \u001b[0m\u001b[46m   \u001b[0m\u001b[37m . \u001b[0m\u001b[46m   \u001b[0m\u001b[37m . \u001b[0m\u001b[37m . \u001b[0m\u001b[46m   \u001b[0m\u001b[37m . \u001b[0m\u001b[37m . \u001b[0m\n",
      "\u001b[37m . \u001b[0m\u001b[37m . \u001b[0m\u001b[46m   \u001b[0m\u001b[37m . \u001b[0m\u001b[37m . \u001b[0m\u001b[46m   \u001b[0m\u001b[37m . \u001b[0m\u001b[37m . \u001b[0m\u001b[46m   \u001b[0m\u001b[37m . \u001b[0m\u001b[37m . \u001b[0m\u001b[37m . \u001b[0m\u001b[46m   \u001b[0m\u001b[37m . \u001b[0m\u001b[46m   \u001b[0m\u001b[46m   \u001b[0m\u001b[37m . \u001b[0m\u001b[46m   \u001b[0m\u001b[46m   \u001b[0m\u001b[37m . \u001b[0m\u001b[37m . \u001b[0m\n",
      "\u001b[37m . \u001b[0m\u001b[37m . \u001b[0m\u001b[46m   \u001b[0m\u001b[37m . \u001b[0m\u001b[46m   \u001b[0m\u001b[37m . \u001b[0m\u001b[46m   \u001b[0m\u001b[37m . \u001b[0m\u001b[37m . \u001b[0m\u001b[37m . \u001b[0m\u001b[46m   \u001b[0m\u001b[46m   \u001b[0m\u001b[37m . \u001b[0m\u001b[37m . \u001b[0m\u001b[37m . \u001b[0m\u001b[46m   \u001b[0m\u001b[37m . \u001b[0m\u001b[37m . \u001b[0m\u001b[46m   \u001b[0m\u001b[37m . \u001b[0m\u001b[37m . \u001b[0m\n",
      "\u001b[37m . \u001b[0m\u001b[37m . \u001b[0m\u001b[46m   \u001b[0m\u001b[46m   \u001b[0m\u001b[37m . \u001b[0m\u001b[37m|0|\u001b[0m\u001b[37m . \u001b[0m\u001b[37m . \u001b[0m\u001b[37m . \u001b[0m\u001b[37m . \u001b[0m\u001b[37m . \u001b[0m\u001b[37m . \u001b[0m\u001b[37m . \u001b[0m\u001b[37m . \u001b[0m\u001b[37m . \u001b[0m\u001b[46m   \u001b[0m\u001b[37m . \u001b[0m\u001b[46m   \u001b[0m\u001b[46m   \u001b[0m\u001b[37m . \u001b[0m\u001b[37m . \u001b[0m\n",
      "\u001b[37m . \u001b[0m\u001b[37m . \u001b[0m\u001b[46m   \u001b[0m\u001b[46m   \u001b[0m\u001b[37m . \u001b[0m\u001b[37m . \u001b[0m\u001b[37m . \u001b[0m\u001b[46m   \u001b[0m\u001b[37m . \u001b[0m\u001b[37m . \u001b[0m\u001b[37m . \u001b[0m\u001b[46m   \u001b[0m\u001b[46m   \u001b[0m\u001b[46m   \u001b[0m\u001b[46m   \u001b[0m\u001b[37m . \u001b[0m\u001b[46m   \u001b[0m\u001b[46m   \u001b[0m\u001b[46m   \u001b[0m\u001b[37m . \u001b[0m\u001b[37m . \u001b[0m\n",
      "\u001b[37m . \u001b[0m\u001b[37m . \u001b[0m\u001b[46m   \u001b[0m\u001b[37m . \u001b[0m\u001b[37m . \u001b[0m\u001b[46m   \u001b[0m\u001b[37m . \u001b[0m\u001b[37m . \u001b[0m\u001b[46m   \u001b[0m\u001b[46m   \u001b[0m\u001b[37m . \u001b[0m\u001b[46m   \u001b[0m\u001b[37m . \u001b[0m\u001b[46m   \u001b[0m\u001b[46m   \u001b[0m\u001b[46m   \u001b[0m\u001b[37m . \u001b[0m\u001b[46m   \u001b[0m\u001b[46m   \u001b[0m\u001b[37m . \u001b[0m\u001b[37m . \u001b[0m\n",
      "\u001b[37m . \u001b[0m\u001b[37m . \u001b[0m\u001b[46m   \u001b[0m\u001b[37m . \u001b[0m\u001b[46m   \u001b[0m\u001b[37m . \u001b[0m\u001b[37m . \u001b[0m\u001b[37m . \u001b[0m\u001b[37m . \u001b[0m\u001b[37m . \u001b[0m\u001b[46m   \u001b[0m\u001b[46m   \u001b[0m\u001b[37m . \u001b[0m\u001b[37m . \u001b[0m\u001b[37m . \u001b[0m\u001b[46m   \u001b[0m\u001b[37m . \u001b[0m\u001b[46m   \u001b[0m\u001b[46m   \u001b[0m\u001b[37m . \u001b[0m\u001b[37m . \u001b[0m\n",
      "\u001b[37m . \u001b[0m\u001b[37m . \u001b[0m\u001b[46m   \u001b[0m\u001b[46m   \u001b[0m\u001b[37m . \u001b[0m\u001b[46m   \u001b[0m\u001b[37m . \u001b[0m\u001b[46m   \u001b[0m\u001b[37m . \u001b[0m\u001b[37m . \u001b[0m\u001b[37m . \u001b[0m\u001b[46m   \u001b[0m\u001b[46m   \u001b[0m\u001b[46m   \u001b[0m\u001b[37m . \u001b[0m\u001b[37m . \u001b[0m\u001b[37m . \u001b[0m\u001b[37m . \u001b[0m\u001b[46m   \u001b[0m\u001b[37m . \u001b[0m\u001b[37m . \u001b[0m\n",
      "\u001b[37m . \u001b[0m\u001b[37m . \u001b[0m\u001b[46m   \u001b[0m\u001b[46m   \u001b[0m\u001b[46m   \u001b[0m\u001b[46m   \u001b[0m\u001b[46m   \u001b[0m\u001b[37m . \u001b[0m\u001b[37m . \u001b[0m\u001b[37m . \u001b[0m\u001b[37m . \u001b[0m\u001b[46m   \u001b[0m\u001b[46m   \u001b[0m\u001b[37m . \u001b[0m\u001b[37m . \u001b[0m\u001b[46m   \u001b[0m\u001b[37m . \u001b[0m\u001b[46m   \u001b[0m\u001b[46m   \u001b[0m\u001b[37m . \u001b[0m\u001b[37m . \u001b[0m\n",
      "\u001b[37m . \u001b[0m\u001b[37m . \u001b[0m\u001b[46m   \u001b[0m\u001b[46m   \u001b[0m\u001b[46m   \u001b[0m\u001b[37m . \u001b[0m\u001b[31;1m 0 \u001b[0m\u001b[37m . \u001b[0m\u001b[46m   \u001b[0m\u001b[46m   \u001b[0m\u001b[37m . \u001b[0m\u001b[46m   \u001b[0m\u001b[46m   \u001b[0m\u001b[46m   \u001b[0m\u001b[37m . \u001b[0m\u001b[46m   \u001b[0m\u001b[37m . \u001b[0m\u001b[37m . \u001b[0m\u001b[46m   \u001b[0m\u001b[37m . \u001b[0m\u001b[37m . \u001b[0m\n",
      "\u001b[37m . \u001b[0m\u001b[37m . \u001b[0m\u001b[46m   \u001b[0m\u001b[46m   \u001b[0m\u001b[37m . \u001b[0m\u001b[46m   \u001b[0m\u001b[37m . \u001b[0m\u001b[37m . \u001b[0m\u001b[46m   \u001b[0m\u001b[37m . \u001b[0m\u001b[37m . \u001b[0m\u001b[37m . \u001b[0m\u001b[37m . \u001b[0m\u001b[37m . \u001b[0m\u001b[37m . \u001b[0m\u001b[46m   \u001b[0m\u001b[46m   \u001b[0m\u001b[37m . \u001b[0m\u001b[46m   \u001b[0m\u001b[37m . \u001b[0m\u001b[37m . \u001b[0m\n",
      "\u001b[37m . \u001b[0m\u001b[37m . \u001b[0m\u001b[46m   \u001b[0m\u001b[46m   \u001b[0m\u001b[37m . \u001b[0m\u001b[46m   \u001b[0m\u001b[46m   \u001b[0m\u001b[37m . \u001b[0m\u001b[37m . \u001b[0m\u001b[46m   \u001b[0m\u001b[46m   \u001b[0m\u001b[37m . \u001b[0m\u001b[37m . \u001b[0m\u001b[37m . \u001b[0m\u001b[37m . \u001b[0m\u001b[46m   \u001b[0m\u001b[46m   \u001b[0m\u001b[46m   \u001b[0m\u001b[46m   \u001b[0m\u001b[37m . \u001b[0m\u001b[37m . \u001b[0m\n",
      "\u001b[37m . \u001b[0m\u001b[37m . \u001b[0m\u001b[46m   \u001b[0m\u001b[46m   \u001b[0m\u001b[46m   \u001b[0m\u001b[46m   \u001b[0m\u001b[46m   \u001b[0m\u001b[46m   \u001b[0m\u001b[46m   \u001b[0m\u001b[46m   \u001b[0m\u001b[46m   \u001b[0m\u001b[46m   \u001b[0m\u001b[46m   \u001b[0m\u001b[46m   \u001b[0m\u001b[46m   \u001b[0m\u001b[46m   \u001b[0m\u001b[46m   \u001b[0m\u001b[46m   \u001b[0m\u001b[46m   \u001b[0m\u001b[37m . \u001b[0m\u001b[37m . \u001b[0m\n",
      "\u001b[37m . \u001b[0m\u001b[37m . \u001b[0m\u001b[37m . \u001b[0m\u001b[37m . \u001b[0m\u001b[37m . \u001b[0m\u001b[37m . \u001b[0m\u001b[37m . \u001b[0m\u001b[37m . \u001b[0m\u001b[37m . \u001b[0m\u001b[37m . \u001b[0m\u001b[37m . \u001b[0m\u001b[37m . \u001b[0m\u001b[37m . \u001b[0m\u001b[37m . \u001b[0m\u001b[37m . \u001b[0m\u001b[37m . \u001b[0m\u001b[37m . \u001b[0m\u001b[37m . \u001b[0m\u001b[37m . \u001b[0m\u001b[37m . \u001b[0m\u001b[37m . \u001b[0m\n",
      "\u001b[37m . \u001b[0m\u001b[37m . \u001b[0m\u001b[37m . \u001b[0m\u001b[37m . \u001b[0m\u001b[37m . \u001b[0m\u001b[37m . \u001b[0m\u001b[37m . \u001b[0m\u001b[37m . \u001b[0m\u001b[37m . \u001b[0m\u001b[37m . \u001b[0m\u001b[37m . \u001b[0m\u001b[37m . \u001b[0m\u001b[37m . \u001b[0m\u001b[37m . \u001b[0m\u001b[37m . \u001b[0m\u001b[37m . \u001b[0m\u001b[37m . \u001b[0m\u001b[37m . \u001b[0m\u001b[37m . \u001b[0m\u001b[37m . \u001b[0m\u001b[37m . \u001b[0m\n",
      "Наблюдение: [0. 1. 0. 0. 0. 0. 0. 1. 0. 1. 0. 1. 0. 0. 1. 1. 1. 1. 0. 0. 0. 1. 1. 0.\n",
      " 0. 0. 1. 1. 1. 0. 1. 0. 0. 1. 0. 1. 0. 1. 1. 0. 0. 1. 1. 1. 1. 1. 1. 1.\n",
      " 1.], Награда: -1.216552506059644, Завершено: False, Положение агента [(15, 6)], Положение цели [(9, 5)], action 0\n",
      "\u001b[37m . \u001b[0m\u001b[37m . \u001b[0m\u001b[37m . \u001b[0m\u001b[37m . \u001b[0m\u001b[37m . \u001b[0m\u001b[37m . \u001b[0m\u001b[37m . \u001b[0m\u001b[37m . \u001b[0m\u001b[37m . \u001b[0m\u001b[37m . \u001b[0m\u001b[37m . \u001b[0m\u001b[37m . \u001b[0m\u001b[37m . \u001b[0m\u001b[37m . \u001b[0m\u001b[37m . \u001b[0m\u001b[37m . \u001b[0m\u001b[37m . \u001b[0m\u001b[37m . \u001b[0m\u001b[37m . \u001b[0m\u001b[37m . \u001b[0m\u001b[37m . \u001b[0m\n",
      "\u001b[37m . \u001b[0m\u001b[37m . \u001b[0m\u001b[37m . \u001b[0m\u001b[37m . \u001b[0m\u001b[37m . \u001b[0m\u001b[37m . \u001b[0m\u001b[37m . \u001b[0m\u001b[37m . \u001b[0m\u001b[37m . \u001b[0m\u001b[37m . \u001b[0m\u001b[37m . \u001b[0m\u001b[37m . \u001b[0m\u001b[37m . \u001b[0m\u001b[37m . \u001b[0m\u001b[37m . \u001b[0m\u001b[37m . \u001b[0m\u001b[37m . \u001b[0m\u001b[37m . \u001b[0m\u001b[37m . \u001b[0m\u001b[37m . \u001b[0m\u001b[37m . \u001b[0m\n",
      "\u001b[37m . \u001b[0m\u001b[37m . \u001b[0m\u001b[46m   \u001b[0m\u001b[46m   \u001b[0m\u001b[46m   \u001b[0m\u001b[46m   \u001b[0m\u001b[46m   \u001b[0m\u001b[46m   \u001b[0m\u001b[46m   \u001b[0m\u001b[46m   \u001b[0m\u001b[46m   \u001b[0m\u001b[46m   \u001b[0m\u001b[46m   \u001b[0m\u001b[46m   \u001b[0m\u001b[46m   \u001b[0m\u001b[46m   \u001b[0m\u001b[46m   \u001b[0m\u001b[46m   \u001b[0m\u001b[46m   \u001b[0m\u001b[37m . \u001b[0m\u001b[37m . \u001b[0m\n",
      "\u001b[37m . \u001b[0m\u001b[37m . \u001b[0m\u001b[46m   \u001b[0m\u001b[37m . \u001b[0m\u001b[37m . \u001b[0m\u001b[46m   \u001b[0m\u001b[37m . \u001b[0m\u001b[46m   \u001b[0m\u001b[46m   \u001b[0m\u001b[37m . \u001b[0m\u001b[37m . \u001b[0m\u001b[37m . \u001b[0m\u001b[46m   \u001b[0m\u001b[37m . \u001b[0m\u001b[37m . \u001b[0m\u001b[37m . \u001b[0m\u001b[46m   \u001b[0m\u001b[37m . \u001b[0m\u001b[46m   \u001b[0m\u001b[37m . \u001b[0m\u001b[37m . \u001b[0m\n",
      "\u001b[37m . \u001b[0m\u001b[37m . \u001b[0m\u001b[46m   \u001b[0m\u001b[46m   \u001b[0m\u001b[46m   \u001b[0m\u001b[46m   \u001b[0m\u001b[37m . \u001b[0m\u001b[37m . \u001b[0m\u001b[37m . \u001b[0m\u001b[37m . \u001b[0m\u001b[46m   \u001b[0m\u001b[46m   \u001b[0m\u001b[37m . \u001b[0m\u001b[46m   \u001b[0m\u001b[37m . \u001b[0m\u001b[46m   \u001b[0m\u001b[37m . \u001b[0m\u001b[37m . \u001b[0m\u001b[46m   \u001b[0m\u001b[37m . \u001b[0m\u001b[37m . \u001b[0m\n",
      "\u001b[37m . \u001b[0m\u001b[37m . \u001b[0m\u001b[46m   \u001b[0m\u001b[37m . \u001b[0m\u001b[46m   \u001b[0m\u001b[46m   \u001b[0m\u001b[46m   \u001b[0m\u001b[46m   \u001b[0m\u001b[37m . \u001b[0m\u001b[37m . \u001b[0m\u001b[37m . \u001b[0m\u001b[46m   \u001b[0m\u001b[37m . \u001b[0m\u001b[46m   \u001b[0m\u001b[46m   \u001b[0m\u001b[46m   \u001b[0m\u001b[37m . \u001b[0m\u001b[46m   \u001b[0m\u001b[46m   \u001b[0m\u001b[37m . \u001b[0m\u001b[37m . \u001b[0m\n",
      "\u001b[37m . \u001b[0m\u001b[37m . \u001b[0m\u001b[46m   \u001b[0m\u001b[37m . \u001b[0m\u001b[37m . \u001b[0m\u001b[37m . \u001b[0m\u001b[37m . \u001b[0m\u001b[37m . \u001b[0m\u001b[46m   \u001b[0m\u001b[37m . \u001b[0m\u001b[46m   \u001b[0m\u001b[46m   \u001b[0m\u001b[37m . \u001b[0m\u001b[46m   \u001b[0m\u001b[37m . \u001b[0m\u001b[46m   \u001b[0m\u001b[37m . \u001b[0m\u001b[37m . \u001b[0m\u001b[46m   \u001b[0m\u001b[37m . \u001b[0m\u001b[37m . \u001b[0m\n",
      "\u001b[37m . \u001b[0m\u001b[37m . \u001b[0m\u001b[46m   \u001b[0m\u001b[37m . \u001b[0m\u001b[37m . \u001b[0m\u001b[46m   \u001b[0m\u001b[37m . \u001b[0m\u001b[37m . \u001b[0m\u001b[46m   \u001b[0m\u001b[37m . \u001b[0m\u001b[37m . \u001b[0m\u001b[37m . \u001b[0m\u001b[46m   \u001b[0m\u001b[37m . \u001b[0m\u001b[46m   \u001b[0m\u001b[46m   \u001b[0m\u001b[37m . \u001b[0m\u001b[46m   \u001b[0m\u001b[46m   \u001b[0m\u001b[37m . \u001b[0m\u001b[37m . \u001b[0m\n",
      "\u001b[37m . \u001b[0m\u001b[37m . \u001b[0m\u001b[46m   \u001b[0m\u001b[37m . \u001b[0m\u001b[46m   \u001b[0m\u001b[37m . \u001b[0m\u001b[46m   \u001b[0m\u001b[37m . \u001b[0m\u001b[37m . \u001b[0m\u001b[37m . \u001b[0m\u001b[46m   \u001b[0m\u001b[46m   \u001b[0m\u001b[37m . \u001b[0m\u001b[37m . \u001b[0m\u001b[37m . \u001b[0m\u001b[46m   \u001b[0m\u001b[37m . \u001b[0m\u001b[37m . \u001b[0m\u001b[46m   \u001b[0m\u001b[37m . \u001b[0m\u001b[37m . \u001b[0m\n",
      "\u001b[37m . \u001b[0m\u001b[37m . \u001b[0m\u001b[46m   \u001b[0m\u001b[46m   \u001b[0m\u001b[37m . \u001b[0m\u001b[37m|0|\u001b[0m\u001b[37m . \u001b[0m\u001b[37m . \u001b[0m\u001b[37m . \u001b[0m\u001b[37m . \u001b[0m\u001b[37m . \u001b[0m\u001b[37m . \u001b[0m\u001b[37m . \u001b[0m\u001b[37m . \u001b[0m\u001b[37m . \u001b[0m\u001b[46m   \u001b[0m\u001b[37m . \u001b[0m\u001b[46m   \u001b[0m\u001b[46m   \u001b[0m\u001b[37m . \u001b[0m\u001b[37m . \u001b[0m\n",
      "\u001b[37m . \u001b[0m\u001b[37m . \u001b[0m\u001b[46m   \u001b[0m\u001b[46m   \u001b[0m\u001b[37m . \u001b[0m\u001b[37m . \u001b[0m\u001b[37m . \u001b[0m\u001b[46m   \u001b[0m\u001b[37m . \u001b[0m\u001b[37m . \u001b[0m\u001b[37m . \u001b[0m\u001b[46m   \u001b[0m\u001b[46m   \u001b[0m\u001b[46m   \u001b[0m\u001b[46m   \u001b[0m\u001b[37m . \u001b[0m\u001b[46m   \u001b[0m\u001b[46m   \u001b[0m\u001b[46m   \u001b[0m\u001b[37m . \u001b[0m\u001b[37m . \u001b[0m\n",
      "\u001b[37m . \u001b[0m\u001b[37m . \u001b[0m\u001b[46m   \u001b[0m\u001b[37m . \u001b[0m\u001b[37m . \u001b[0m\u001b[46m   \u001b[0m\u001b[37m . \u001b[0m\u001b[37m . \u001b[0m\u001b[46m   \u001b[0m\u001b[46m   \u001b[0m\u001b[37m . \u001b[0m\u001b[46m   \u001b[0m\u001b[37m . \u001b[0m\u001b[46m   \u001b[0m\u001b[46m   \u001b[0m\u001b[46m   \u001b[0m\u001b[37m . \u001b[0m\u001b[46m   \u001b[0m\u001b[46m   \u001b[0m\u001b[37m . \u001b[0m\u001b[37m . \u001b[0m\n",
      "\u001b[37m . \u001b[0m\u001b[37m . \u001b[0m\u001b[46m   \u001b[0m\u001b[37m . \u001b[0m\u001b[46m   \u001b[0m\u001b[37m . \u001b[0m\u001b[37m . \u001b[0m\u001b[37m . \u001b[0m\u001b[37m . \u001b[0m\u001b[37m . \u001b[0m\u001b[46m   \u001b[0m\u001b[46m   \u001b[0m\u001b[37m . \u001b[0m\u001b[37m . \u001b[0m\u001b[37m . \u001b[0m\u001b[46m   \u001b[0m\u001b[37m . \u001b[0m\u001b[46m   \u001b[0m\u001b[46m   \u001b[0m\u001b[37m . \u001b[0m\u001b[37m . \u001b[0m\n",
      "\u001b[37m . \u001b[0m\u001b[37m . \u001b[0m\u001b[46m   \u001b[0m\u001b[46m   \u001b[0m\u001b[37m . \u001b[0m\u001b[46m   \u001b[0m\u001b[37m . \u001b[0m\u001b[46m   \u001b[0m\u001b[37m . \u001b[0m\u001b[37m . \u001b[0m\u001b[37m . \u001b[0m\u001b[46m   \u001b[0m\u001b[46m   \u001b[0m\u001b[46m   \u001b[0m\u001b[37m . \u001b[0m\u001b[37m . \u001b[0m\u001b[37m . \u001b[0m\u001b[37m . \u001b[0m\u001b[46m   \u001b[0m\u001b[37m . \u001b[0m\u001b[37m . \u001b[0m\n",
      "\u001b[37m . \u001b[0m\u001b[37m . \u001b[0m\u001b[46m   \u001b[0m\u001b[46m   \u001b[0m\u001b[46m   \u001b[0m\u001b[46m   \u001b[0m\u001b[46m   \u001b[0m\u001b[37m . \u001b[0m\u001b[37m . \u001b[0m\u001b[37m . \u001b[0m\u001b[37m . \u001b[0m\u001b[46m   \u001b[0m\u001b[46m   \u001b[0m\u001b[37m . \u001b[0m\u001b[37m . \u001b[0m\u001b[46m   \u001b[0m\u001b[37m . \u001b[0m\u001b[46m   \u001b[0m\u001b[46m   \u001b[0m\u001b[37m . \u001b[0m\u001b[37m . \u001b[0m\n",
      "\u001b[37m . \u001b[0m\u001b[37m . \u001b[0m\u001b[46m   \u001b[0m\u001b[46m   \u001b[0m\u001b[46m   \u001b[0m\u001b[31;1m 0 \u001b[0m\u001b[37m . \u001b[0m\u001b[37m . \u001b[0m\u001b[46m   \u001b[0m\u001b[46m   \u001b[0m\u001b[37m . \u001b[0m\u001b[46m   \u001b[0m\u001b[46m   \u001b[0m\u001b[46m   \u001b[0m\u001b[37m . \u001b[0m\u001b[46m   \u001b[0m\u001b[37m . \u001b[0m\u001b[37m . \u001b[0m\u001b[46m   \u001b[0m\u001b[37m . \u001b[0m\u001b[37m . \u001b[0m\n",
      "\u001b[37m . \u001b[0m\u001b[37m . \u001b[0m\u001b[46m   \u001b[0m\u001b[46m   \u001b[0m\u001b[37m . \u001b[0m\u001b[46m   \u001b[0m\u001b[37m . \u001b[0m\u001b[37m . \u001b[0m\u001b[46m   \u001b[0m\u001b[37m . \u001b[0m\u001b[37m . \u001b[0m\u001b[37m . \u001b[0m\u001b[37m . \u001b[0m\u001b[37m . \u001b[0m\u001b[37m . \u001b[0m\u001b[46m   \u001b[0m\u001b[46m   \u001b[0m\u001b[37m . \u001b[0m\u001b[46m   \u001b[0m\u001b[37m . \u001b[0m\u001b[37m . \u001b[0m\n",
      "\u001b[37m . \u001b[0m\u001b[37m . \u001b[0m\u001b[46m   \u001b[0m\u001b[46m   \u001b[0m\u001b[37m . \u001b[0m\u001b[46m   \u001b[0m\u001b[46m   \u001b[0m\u001b[37m . \u001b[0m\u001b[37m . \u001b[0m\u001b[46m   \u001b[0m\u001b[46m   \u001b[0m\u001b[37m . \u001b[0m\u001b[37m . \u001b[0m\u001b[37m . \u001b[0m\u001b[37m . \u001b[0m\u001b[46m   \u001b[0m\u001b[46m   \u001b[0m\u001b[46m   \u001b[0m\u001b[46m   \u001b[0m\u001b[37m . \u001b[0m\u001b[37m . \u001b[0m\n",
      "\u001b[37m . \u001b[0m\u001b[37m . \u001b[0m\u001b[46m   \u001b[0m\u001b[46m   \u001b[0m\u001b[46m   \u001b[0m\u001b[46m   \u001b[0m\u001b[46m   \u001b[0m\u001b[46m   \u001b[0m\u001b[46m   \u001b[0m\u001b[46m   \u001b[0m\u001b[46m   \u001b[0m\u001b[46m   \u001b[0m\u001b[46m   \u001b[0m\u001b[46m   \u001b[0m\u001b[46m   \u001b[0m\u001b[46m   \u001b[0m\u001b[46m   \u001b[0m\u001b[46m   \u001b[0m\u001b[46m   \u001b[0m\u001b[37m . \u001b[0m\u001b[37m . \u001b[0m\n",
      "\u001b[37m . \u001b[0m\u001b[37m . \u001b[0m\u001b[37m . \u001b[0m\u001b[37m . \u001b[0m\u001b[37m . \u001b[0m\u001b[37m . \u001b[0m\u001b[37m . \u001b[0m\u001b[37m . \u001b[0m\u001b[37m . \u001b[0m\u001b[37m . \u001b[0m\u001b[37m . \u001b[0m\u001b[37m . \u001b[0m\u001b[37m . \u001b[0m\u001b[37m . \u001b[0m\u001b[37m . \u001b[0m\u001b[37m . \u001b[0m\u001b[37m . \u001b[0m\u001b[37m . \u001b[0m\u001b[37m . \u001b[0m\u001b[37m . \u001b[0m\u001b[37m . \u001b[0m\n",
      "\u001b[37m . \u001b[0m\u001b[37m . \u001b[0m\u001b[37m . \u001b[0m\u001b[37m . \u001b[0m\u001b[37m . \u001b[0m\u001b[37m . \u001b[0m\u001b[37m . \u001b[0m\u001b[37m . \u001b[0m\u001b[37m . \u001b[0m\u001b[37m . \u001b[0m\u001b[37m . \u001b[0m\u001b[37m . \u001b[0m\u001b[37m . \u001b[0m\u001b[37m . \u001b[0m\u001b[37m . \u001b[0m\u001b[37m . \u001b[0m\u001b[37m . \u001b[0m\u001b[37m . \u001b[0m\u001b[37m . \u001b[0m\u001b[37m . \u001b[0m\u001b[37m . \u001b[0m\n",
      "Наблюдение: [1. 0. 1. 0. 0. 0. 0. 1. 1. 0. 1. 0. 1. 0. 1. 1. 1. 1. 1. 0. 0. 1. 1. 1.\n",
      " 0. 0. 0. 1. 1. 1. 0. 1. 0. 0. 1. 1. 1. 0. 1. 1. 0. 0. 1. 1. 1. 1. 1. 1.\n",
      " 1.], Награда: -1.2000000000000002, Завершено: False, Положение агента [(15, 5)], Положение цели [(9, 5)], action 3\n"
     ]
    }
   ],
   "source": [
    "class Reward_wrapper(gym.Wrapper):\n",
    "    def __init__(self, env):\n",
    "        super(Reward_wrapper, self).__init__(env)\n",
    "\n",
    "    def step(self, action):\n",
    "        obs, reward, truncated, terminated, info = self.env.step(action)\n",
    "        target_coord = np.array(env.get_targets_xy())\n",
    "        agent_coord = np.array(env.get_agents_xy())\n",
    "        distance_to_target = np.linalg.norm(agent_coord[0] - target_coord[0])\n",
    "        reward -= 0.1 * distance_to_target\n",
    "\n",
    "        return obs, reward, truncated, terminated, info\n",
    "\n",
    "    def reset(self):\n",
    "        \"\"\"Reset the environment and return the initial observation.\"\"\"\n",
    "        return self.env.reset()\n",
    "\n",
    "\n",
    "env = Reward_wrapper(env)\n",
    "\n",
    "# Тестирование среды\n",
    "obs = env.reset()\n",
    "print(\"Начальное наблюдение в виде вектора:\", len(obs[0]))\n",
    "\n",
    "for _ in range(3):\n",
    "    action = env.action_space.sample()  # Выбор случайного действия\n",
    "    obs, reward, trancated, terminated, info = env.step(action)\n",
    "    done = trancated | terminated\n",
    "    env.render()\n",
    "    print(\n",
    "        f\"Наблюдение: {obs}, Награда: {reward}, Завершено: {done}, Положение агента {env.get_agents_xy()}, Положение цели {env.get_targets_xy()}, action {action}\"\n",
    "    )\n",
    "    if done:\n",
    "        break"
   ]
  },
  {
   "cell_type": "code",
   "execution_count": 6,
   "metadata": {},
   "outputs": [],
   "source": [
    "## ФУНКЦИИ ОТРИСОВКИ ДАННЫХ\n",
    "import matplotlib.pyplot as plt\n",
    "\n",
    "\n",
    "def plot_metrics(statistics, label):\n",
    "    epochs = []\n",
    "    returns = []\n",
    "    for stats in statistics:\n",
    "        epoch = stats[0]\n",
    "        metrics = stats[1]\n",
    "        env_return = metrics[\"environment\"]\n",
    "        epochs.append(epoch)\n",
    "        returns.append(env_return)\n",
    "    plt.plot(epochs, returns, label=label)\n",
    "\n",
    "\n",
    "def get_scores(data):\n",
    "    result = []\n",
    "    for i in range(len(data)):\n",
    "        result.append([scores[1][\"environment\"] for scores in data[i]])\n",
    "    return np.array(result)\n",
    "\n",
    "\n",
    "def visualize_with_std(data, proportions, label=\"default\"):\n",
    "    # Расчет средних значений и стандартных отклоненийt\n",
    "    means = {p: np.mean(get_scores(data[p]), axis=0) for p in proportions}\n",
    "    stds = {p: np.std(get_scores(data[p]), axis=0) for p in proportions}\n",
    "\n",
    "    for p in proportions:\n",
    "        x = np.arange(1, len(means[p]) + 1)\n",
    "        plt.plot(x, means[p], label=f\"{label} - Mean of {p}\")\n",
    "        plt.fill_between(x, means[p] - stds[p], means[p] + stds[p], alpha=0.2)\n",
    "\n",
    "    plt.title(\"Сравнение обучения на данных разного качества\")"
   ]
  },
  {
   "cell_type": "markdown",
   "metadata": {},
   "source": [
    "### Сбор эталонных данных\n"
   ]
  },
  {
   "cell_type": "code",
   "execution_count": 28,
   "metadata": {},
   "outputs": [
    {
     "name": "stdout",
     "output_type": "stream",
     "text": [
      "\u001b[2m2024-04-15 23:46.33\u001b[0m [\u001b[32m\u001b[1minfo     \u001b[0m] \u001b[1mSignatures have been automatically determined.\u001b[0m \u001b[36maction_signature\u001b[0m=\u001b[35mSignature(dtype=[dtype('int64')], shape=[()])\u001b[0m \u001b[36mobservation_signature\u001b[0m=\u001b[35mSignature(dtype=[dtype('float32')], shape=[(49,)])\u001b[0m \u001b[36mreward_signature\u001b[0m=\u001b[35mSignature(dtype=[dtype('float32')], shape=[[1]])\u001b[0m\n",
      "\u001b[2m2024-04-15 23:46.33\u001b[0m [\u001b[32m\u001b[1minfo     \u001b[0m] \u001b[1mAction-space has been automatically determined.\u001b[0m \u001b[36maction_space\u001b[0m=\u001b[35m<ActionSpace.DISCRETE: 2>\u001b[0m\n",
      "\u001b[2m2024-04-15 23:46.33\u001b[0m [\u001b[32m\u001b[1minfo     \u001b[0m] \u001b[1mAction size has been automatically determined.\u001b[0m \u001b[36maction_size\u001b[0m=\u001b[35m5\u001b[0m\n",
      "\u001b[2m2024-04-15 23:46.33\u001b[0m [\u001b[32m\u001b[1minfo     \u001b[0m] \u001b[1mDirectory is created at d3rlpy_logs/DQN_online_20240415234633\u001b[0m\n",
      "\u001b[2m2024-04-15 23:46.33\u001b[0m [\u001b[32m\u001b[1mdebug    \u001b[0m] \u001b[1mBuilding model...             \u001b[0m\n",
      "\u001b[2m2024-04-15 23:46.33\u001b[0m [\u001b[32m\u001b[1mdebug    \u001b[0m] \u001b[1mModel has been built.         \u001b[0m\n",
      "\u001b[2m2024-04-15 23:46.33\u001b[0m [\u001b[32m\u001b[1minfo     \u001b[0m] \u001b[1mParameters                    \u001b[0m \u001b[36mparams\u001b[0m=\u001b[35m{'observation_shape': [49], 'action_size': 5, 'config': {'type': 'dqn', 'params': {'batch_size': 32, 'gamma': 0.99, 'observation_scaler': {'type': 'none', 'params': {}}, 'action_scaler': {'type': 'none', 'params': {}}, 'reward_scaler': {'type': 'none', 'params': {}}, 'learning_rate': 6.25e-05, 'optim_factory': {'type': 'adam', 'params': {'betas': [0.9, 0.999], 'eps': 1e-08, 'weight_decay': 0, 'amsgrad': False}}, 'encoder_factory': {'type': 'default', 'params': {'activation': 'relu', 'use_batch_norm': False, 'dropout_rate': None}}, 'q_func_factory': {'type': 'mean', 'params': {'share_encoder': False}}, 'n_critics': 1, 'target_update_interval': 8000}}}\u001b[0m\n"
     ]
    },
    {
     "data": {
      "application/vnd.jupyter.widget-view+json": {
       "model_id": "2b93b53438e44a5eb46f09e098ad0d6d",
       "version_major": 2,
       "version_minor": 0
      },
      "text/plain": [
       "  0%|          | 0/100 [00:00<?, ?it/s]"
      ]
     },
     "metadata": {},
     "output_type": "display_data"
    }
   ],
   "source": [
    "import torch\n",
    "import d3rlpy\n",
    "\n",
    "DEVICE = torch.device(\"cuda\" if torch.cuda.is_available() else \"cpu\")\n",
    "\n",
    "dqn = d3rlpy.algos.DQNConfig().create(device=DEVICE.type)\n",
    "dqn_buffer = d3rlpy.dataset.create_fifo_replay_buffer(limit=100000, env=env)\n",
    "explorer = d3rlpy.algos.ConstantEpsilonGreedy(0.4)\n",
    "\n",
    "dqn.fit_online(env, dqn_buffer, explorer, n_steps=100, n_steps_per_epoch=5000)"
   ]
  },
  {
   "cell_type": "code",
   "execution_count": 8,
   "metadata": {},
   "outputs": [
    {
     "data": {
      "image/png": "[encoded data removed]",
      "text/plain": [
       "<Figure size 640x480 with 1 Axes>"
      ]
     },
     "metadata": {},
     "output_type": "display_data"
    }
   ],
   "source": [
    "# вознаграждения\n",
    "rollout_file = \"./d3rlpy_logs/DQN_online_20240415231239/rollout_return.csv\"\n",
    "dt_statistics = pd.read_csv(rollout_file, header=None)\n",
    "\n",
    "plt.plot(dt_statistics[2], label=\"DQN_online\")\n",
    "plt.xlabel(\"Epochs\")\n",
    "plt.ylabel(\"Returns\")\n",
    "plt.legend()\n",
    "plt.grid()"
   ]
  },
  {
   "cell_type": "markdown",
   "metadata": {},
   "source": [
    "### Сбор субоптимальных данных\n"
   ]
  },
  {
   "cell_type": "code",
   "execution_count": null,
   "metadata": {},
   "outputs": [],
   "source": [
    "def dataset_with_terminals(buffer, size):\n",
    "    observations = []\n",
    "    actions = []\n",
    "    rewards = []\n",
    "    terminals = []\n",
    "\n",
    "    for episode in buffer.episodes[:size]:\n",
    "        observations += episode.observations.tolist()\n",
    "        actions += episode.actions.tolist()\n",
    "        rewards += episode.rewards.tolist()\n",
    "\n",
    "        terminal = [0 for _ in range(len(episode.rewards))]\n",
    "        terminal[-1] = 1\n",
    "        terminals += terminal\n",
    "    return observations, actions, rewards, terminals\n",
    "\n",
    "\n",
    "def make_mixed_dataset(dataset_1, dataset_2, proportions=[1, 1]):\n",
    "    size_1 = int(len(dataset_1.episodes) * proportions[0])\n",
    "    size_2 = int(len(dataset_2.episodes) * proportions[1])\n",
    "\n",
    "    observations, actions, rewards, terminals = dataset_with_terminals(\n",
    "        dataset_1, size_1\n",
    "    )\n",
    "    rnd_observations, rnd_actions, rnd_rewards, rnd_terminals = dataset_with_terminals(\n",
    "        dataset_2, size_2\n",
    "    )\n",
    "\n",
    "    mxt_obs = np.asarray(observations + rnd_observations)\n",
    "    mxt_actions = np.asarray(actions + rnd_actions)\n",
    "    mxt_rewards = np.asarray(rewards + rnd_rewards)\n",
    "    mxt_terminals = np.asarray(terminals + rnd_terminals).reshape(-1, 1)\n",
    "\n",
    "    mixed_dataset = d3rlpy.dataset.MDPDataset(\n",
    "        observations=mxt_obs,\n",
    "        actions=mxt_actions,\n",
    "        rewards=mxt_rewards,\n",
    "        terminals=mxt_terminals,\n",
    "    )\n",
    "    return mixed_dataset\n",
    "\n",
    "\n",
    "mixed_data = make_mixed_dataset(dqn_buffer, random_buffer, (0.7, 0.3))"
   ]
  },
  {
   "cell_type": "markdown",
   "metadata": {},
   "source": [
    "## Обучение Behavior Cloning (BC) на эталонных данных\n"
   ]
  },
  {
   "cell_type": "code",
   "execution_count": 17,
   "metadata": {},
   "outputs": [
    {
     "name": "stdout",
     "output_type": "stream",
     "text": [
      "\u001b[2m2024-04-15 23:30.32\u001b[0m [\u001b[32m\u001b[1minfo     \u001b[0m] \u001b[1mdataset info                  \u001b[0m \u001b[36mdataset_info\u001b[0m=\u001b[35mDatasetInfo(observation_signature=Signature(dtype=[dtype('float32')], shape=[(49,)]), action_signature=Signature(dtype=[dtype('int64')], shape=[()]), reward_signature=Signature(dtype=[dtype('float32')], shape=[[1]]), action_space=<ActionSpace.DISCRETE: 2>, action_size=5)\u001b[0m\n",
      "\u001b[2m2024-04-15 23:30.32\u001b[0m [\u001b[32m\u001b[1minfo     \u001b[0m] \u001b[1mDirectory is created at d3rlpy_logs/DiscreteBC_20240415233032\u001b[0m\n",
      "\u001b[2m2024-04-15 23:30.32\u001b[0m [\u001b[32m\u001b[1mdebug    \u001b[0m] \u001b[1mBuilding models...            \u001b[0m\n",
      "\u001b[2m2024-04-15 23:30.33\u001b[0m [\u001b[32m\u001b[1mdebug    \u001b[0m] \u001b[1mModels have been built.       \u001b[0m\n",
      "\u001b[2m2024-04-15 23:30.33\u001b[0m [\u001b[32m\u001b[1minfo     \u001b[0m] \u001b[1mParameters                    \u001b[0m \u001b[36mparams\u001b[0m=\u001b[35m{'observation_shape': [49], 'action_size': 5, 'config': {'type': 'discrete_bc', 'params': {'batch_size': 100, 'gamma': 0.9, 'observation_scaler': {'type': 'none', 'params': {}}, 'action_scaler': {'type': 'none', 'params': {}}, 'reward_scaler': {'type': 'none', 'params': {}}, 'learning_rate': 0.0001, 'optim_factory': {'type': 'adam', 'params': {'betas': [0.9, 0.999], 'eps': 1e-08, 'weight_decay': 0, 'amsgrad': False}}, 'encoder_factory': {'type': 'default', 'params': {'activation': 'relu', 'use_batch_norm': False, 'dropout_rate': None}}, 'beta': 0.5}}}\u001b[0m\n"
     ]
    },
    {
     "data": {
      "application/vnd.jupyter.widget-view+json": {
       "model_id": "97086e44b7834116a0d8aa83cba4325b",
       "version_major": 2,
       "version_minor": 0
      },
      "text/plain": [
       "Epoch 1/14:   0%|          | 0/7000 [00:00<?, ?it/s]"
      ]
     },
     "metadata": {},
     "output_type": "display_data"
    },
    {
     "name": "stdout",
     "output_type": "stream",
     "text": [
      "\u001b[2m2024-04-15 23:31.18\u001b[0m [\u001b[32m\u001b[1minfo     \u001b[0m] \u001b[1mDiscreteBC_20240415233032: epoch=1 step=7000\u001b[0m \u001b[36mepoch\u001b[0m=\u001b[35m1\u001b[0m \u001b[36mmetrics\u001b[0m=\u001b[35m{'time_sample_batch': 0.0032115023817334857, 'time_algorithm_update': 0.0031416777202061246, 'loss': 2.737477632522583, 'time_step': 0.006409356083188738, 'environment': -3.3950335179817124}\u001b[0m \u001b[36mstep\u001b[0m=\u001b[35m7000\u001b[0m\n",
      "\u001b[2m2024-04-15 23:31.18\u001b[0m [\u001b[32m\u001b[1minfo     \u001b[0m] \u001b[1mModel parameters are saved to d3rlpy_logs/DiscreteBC_20240415233032/model_7000.d3\u001b[0m\n"
     ]
    },
    {
     "data": {
      "application/vnd.jupyter.widget-view+json": {
       "model_id": "99688bd022aa41e8ac73c4de35bd1205",
       "version_major": 2,
       "version_minor": 0
      },
      "text/plain": [
       "Epoch 2/14:   0%|          | 0/7000 [00:00<?, ?it/s]"
      ]
     },
     "metadata": {},
     "output_type": "display_data"
    },
    {
     "name": "stdout",
     "output_type": "stream",
     "text": [
      "\u001b[2m2024-04-15 23:32.03\u001b[0m [\u001b[32m\u001b[1minfo     \u001b[0m] \u001b[1mDiscreteBC_20240415233032: epoch=2 step=14000\u001b[0m \u001b[36mepoch\u001b[0m=\u001b[35m2\u001b[0m \u001b[36mmetrics\u001b[0m=\u001b[35m{'time_sample_batch': 0.0031973349366869247, 'time_algorithm_update': 0.003114347321646554, 'loss': 2.736292501653944, 'time_step': 0.006367928164345877, 'environment': -3.3950335179817124}\u001b[0m \u001b[36mstep\u001b[0m=\u001b[35m14000\u001b[0m\n",
      "\u001b[2m2024-04-15 23:32.03\u001b[0m [\u001b[32m\u001b[1minfo     \u001b[0m] \u001b[1mModel parameters are saved to d3rlpy_logs/DiscreteBC_20240415233032/model_14000.d3\u001b[0m\n"
     ]
    },
    {
     "data": {
      "application/vnd.jupyter.widget-view+json": {
       "model_id": "a6a3efb3a387434f8d4135d897784105",
       "version_major": 2,
       "version_minor": 0
      },
      "text/plain": [
       "Epoch 3/14:   0%|          | 0/7000 [00:00<?, ?it/s]"
      ]
     },
     "metadata": {},
     "output_type": "display_data"
    },
    {
     "name": "stdout",
     "output_type": "stream",
     "text": [
      "\u001b[2m2024-04-15 23:32.49\u001b[0m [\u001b[32m\u001b[1minfo     \u001b[0m] \u001b[1mDiscreteBC_20240415233032: epoch=3 step=21000\u001b[0m \u001b[36mepoch\u001b[0m=\u001b[35m3\u001b[0m \u001b[36mmetrics\u001b[0m=\u001b[35m{'time_sample_batch': 0.0031780364172799246, 'time_algorithm_update': 0.0033678411075047086, 'loss': 2.736388548408236, 'time_step': 0.006599046230316162, 'environment': -3.3950335179817124}\u001b[0m \u001b[36mstep\u001b[0m=\u001b[35m21000\u001b[0m\n",
      "\u001b[2m2024-04-15 23:32.49\u001b[0m [\u001b[32m\u001b[1minfo     \u001b[0m] \u001b[1mModel parameters are saved to d3rlpy_logs/DiscreteBC_20240415233032/model_21000.d3\u001b[0m\n"
     ]
    },
    {
     "data": {
      "application/vnd.jupyter.widget-view+json": {
       "model_id": "6c54d96efca04fd3812f6023b95ad0fd",
       "version_major": 2,
       "version_minor": 0
      },
      "text/plain": [
       "Epoch 4/14:   0%|          | 0/7000 [00:00<?, ?it/s]"
      ]
     },
     "metadata": {},
     "output_type": "display_data"
    },
    {
     "name": "stdout",
     "output_type": "stream",
     "text": [
      "\u001b[2m2024-04-15 23:33.36\u001b[0m [\u001b[32m\u001b[1minfo     \u001b[0m] \u001b[1mDiscreteBC_20240415233032: epoch=4 step=28000\u001b[0m \u001b[36mepoch\u001b[0m=\u001b[35m4\u001b[0m \u001b[36mmetrics\u001b[0m=\u001b[35m{'time_sample_batch': 0.0031784255845206124, 'time_algorithm_update': 0.0033936310155051096, 'loss': 2.735441062756947, 'time_step': 0.006626471144812448, 'environment': -3.3950335179817124}\u001b[0m \u001b[36mstep\u001b[0m=\u001b[35m28000\u001b[0m\n",
      "\u001b[2m2024-04-15 23:33.36\u001b[0m [\u001b[32m\u001b[1minfo     \u001b[0m] \u001b[1mModel parameters are saved to d3rlpy_logs/DiscreteBC_20240415233032/model_28000.d3\u001b[0m\n"
     ]
    },
    {
     "data": {
      "application/vnd.jupyter.widget-view+json": {
       "model_id": "2f5c248008cb4d7d95a8c5f6934602f3",
       "version_major": 2,
       "version_minor": 0
      },
      "text/plain": [
       "Epoch 5/14:   0%|          | 0/7000 [00:00<?, ?it/s]"
      ]
     },
     "metadata": {},
     "output_type": "display_data"
    },
    {
     "name": "stdout",
     "output_type": "stream",
     "text": [
      "\u001b[2m2024-04-15 23:34.23\u001b[0m [\u001b[32m\u001b[1minfo     \u001b[0m] \u001b[1mDiscreteBC_20240415233032: epoch=5 step=35000\u001b[0m \u001b[36mepoch\u001b[0m=\u001b[35m5\u001b[0m \u001b[36mmetrics\u001b[0m=\u001b[35m{'time_sample_batch': 0.0031848980699266706, 'time_algorithm_update': 0.0034034492288317, 'loss': 2.736058394772666, 'time_step': 0.0066438110555921285, 'environment': -3.3950335179817124}\u001b[0m \u001b[36mstep\u001b[0m=\u001b[35m35000\u001b[0m\n",
      "\u001b[2m2024-04-15 23:34.23\u001b[0m [\u001b[32m\u001b[1minfo     \u001b[0m] \u001b[1mModel parameters are saved to d3rlpy_logs/DiscreteBC_20240415233032/model_35000.d3\u001b[0m\n"
     ]
    },
    {
     "data": {
      "application/vnd.jupyter.widget-view+json": {
       "model_id": "0673ac5b459f47eabcc4da54e4461711",
       "version_major": 2,
       "version_minor": 0
      },
      "text/plain": [
       "Epoch 6/14:   0%|          | 0/7000 [00:00<?, ?it/s]"
      ]
     },
     "metadata": {},
     "output_type": "display_data"
    },
    {
     "name": "stdout",
     "output_type": "stream",
     "text": [
      "\u001b[2m2024-04-15 23:35.10\u001b[0m [\u001b[32m\u001b[1minfo     \u001b[0m] \u001b[1mDiscreteBC_20240415233032: epoch=6 step=42000\u001b[0m \u001b[36mepoch\u001b[0m=\u001b[35m6\u001b[0m \u001b[36mmetrics\u001b[0m=\u001b[35m{'time_sample_batch': 0.0031995688165937152, 'time_algorithm_update': 0.0034313339846474785, 'loss': 2.734875467164176, 'time_step': 0.006687385218484061, 'environment': -3.3950335179817124}\u001b[0m \u001b[36mstep\u001b[0m=\u001b[35m42000\u001b[0m\n",
      "\u001b[2m2024-04-15 23:35.10\u001b[0m [\u001b[32m\u001b[1minfo     \u001b[0m] \u001b[1mModel parameters are saved to d3rlpy_logs/DiscreteBC_20240415233032/model_42000.d3\u001b[0m\n"
     ]
    },
    {
     "data": {
      "application/vnd.jupyter.widget-view+json": {
       "model_id": "a877b88dc3e94628af0bc7c6350cfec2",
       "version_major": 2,
       "version_minor": 0
      },
      "text/plain": [
       "Epoch 7/14:   0%|          | 0/7000 [00:00<?, ?it/s]"
      ]
     },
     "metadata": {},
     "output_type": "display_data"
    },
    {
     "name": "stdout",
     "output_type": "stream",
     "text": [
      "\u001b[2m2024-04-15 23:35.56\u001b[0m [\u001b[32m\u001b[1minfo     \u001b[0m] \u001b[1mDiscreteBC_20240415233032: epoch=7 step=49000\u001b[0m \u001b[36mepoch\u001b[0m=\u001b[35m7\u001b[0m \u001b[36mmetrics\u001b[0m=\u001b[35m{'time_sample_batch': 0.0032329065118517197, 'time_algorithm_update': 0.0031488522802080427, 'loss': 2.735562161173139, 'time_step': 0.006441874061311994, 'environment': -3.3950335179817124}\u001b[0m \u001b[36mstep\u001b[0m=\u001b[35m49000\u001b[0m\n",
      "\u001b[2m2024-04-15 23:35.56\u001b[0m [\u001b[32m\u001b[1minfo     \u001b[0m] \u001b[1mModel parameters are saved to d3rlpy_logs/DiscreteBC_20240415233032/model_49000.d3\u001b[0m\n"
     ]
    },
    {
     "data": {
      "application/vnd.jupyter.widget-view+json": {
       "model_id": "72a6e237fc3f48689610e8f83b29bcf6",
       "version_major": 2,
       "version_minor": 0
      },
      "text/plain": [
       "Epoch 8/14:   0%|          | 0/7000 [00:00<?, ?it/s]"
      ]
     },
     "metadata": {},
     "output_type": "display_data"
    },
    {
     "name": "stdout",
     "output_type": "stream",
     "text": [
      "\u001b[2m2024-04-15 23:36.43\u001b[0m [\u001b[32m\u001b[1minfo     \u001b[0m] \u001b[1mDiscreteBC_20240415233032: epoch=8 step=56000\u001b[0m \u001b[36mepoch\u001b[0m=\u001b[35m8\u001b[0m \u001b[36mmetrics\u001b[0m=\u001b[35m{'time_sample_batch': 0.003294830390385219, 'time_algorithm_update': 0.003404128006526402, 'loss': 2.7360327405929565, 'time_step': 0.0067614914349147254, 'environment': -3.3950335179817124}\u001b[0m \u001b[36mstep\u001b[0m=\u001b[35m56000\u001b[0m\n",
      "\u001b[2m2024-04-15 23:36.43\u001b[0m [\u001b[32m\u001b[1minfo     \u001b[0m] \u001b[1mModel parameters are saved to d3rlpy_logs/DiscreteBC_20240415233032/model_56000.d3\u001b[0m\n"
     ]
    },
    {
     "data": {
      "application/vnd.jupyter.widget-view+json": {
       "model_id": "3be6c8b436894b328ef768b9d5251824",
       "version_major": 2,
       "version_minor": 0
      },
      "text/plain": [
       "Epoch 9/14:   0%|          | 0/7000 [00:00<?, ?it/s]"
      ]
     },
     "metadata": {},
     "output_type": "display_data"
    },
    {
     "name": "stdout",
     "output_type": "stream",
     "text": [
      "\u001b[2m2024-04-15 23:37.31\u001b[0m [\u001b[32m\u001b[1minfo     \u001b[0m] \u001b[1mDiscreteBC_20240415233032: epoch=9 step=63000\u001b[0m \u001b[36mepoch\u001b[0m=\u001b[35m9\u001b[0m \u001b[36mmetrics\u001b[0m=\u001b[35m{'time_sample_batch': 0.0032723777294158935, 'time_algorithm_update': 0.0034478049278259277, 'loss': 2.736031610863549, 'time_step': 0.006785630055836269, 'environment': -3.3950335179817124}\u001b[0m \u001b[36mstep\u001b[0m=\u001b[35m63000\u001b[0m\n",
      "\u001b[2m2024-04-15 23:37.31\u001b[0m [\u001b[32m\u001b[1minfo     \u001b[0m] \u001b[1mModel parameters are saved to d3rlpy_logs/DiscreteBC_20240415233032/model_63000.d3\u001b[0m\n"
     ]
    },
    {
     "data": {
      "application/vnd.jupyter.widget-view+json": {
       "model_id": "e24c43dd290e434c8b049499a39c19a0",
       "version_major": 2,
       "version_minor": 0
      },
      "text/plain": [
       "Epoch 10/14:   0%|          | 0/7000 [00:00<?, ?it/s]"
      ]
     },
     "metadata": {},
     "output_type": "display_data"
    },
    {
     "name": "stdout",
     "output_type": "stream",
     "text": [
      "\u001b[2m2024-04-15 23:38.17\u001b[0m [\u001b[32m\u001b[1minfo     \u001b[0m] \u001b[1mDiscreteBC_20240415233032: epoch=10 step=70000\u001b[0m \u001b[36mepoch\u001b[0m=\u001b[35m10\u001b[0m \u001b[36mmetrics\u001b[0m=\u001b[35m{'time_sample_batch': 0.003225605079105922, 'time_algorithm_update': 0.0032272628375462123, 'loss': 2.7365148312364305, 'time_step': 0.006514929362705776, 'environment': -3.3950335179817124}\u001b[0m \u001b[36mstep\u001b[0m=\u001b[35m70000\u001b[0m\n",
      "\u001b[2m2024-04-15 23:38.17\u001b[0m [\u001b[32m\u001b[1minfo     \u001b[0m] \u001b[1mModel parameters are saved to d3rlpy_logs/DiscreteBC_20240415233032/model_70000.d3\u001b[0m\n"
     ]
    },
    {
     "data": {
      "application/vnd.jupyter.widget-view+json": {
       "model_id": "26ea9fa26a734b7986cbba6c96a21e82",
       "version_major": 2,
       "version_minor": 0
      },
      "text/plain": [
       "Epoch 11/14:   0%|          | 0/7000 [00:00<?, ?it/s]"
      ]
     },
     "metadata": {},
     "output_type": "display_data"
    },
    {
     "name": "stdout",
     "output_type": "stream",
     "text": [
      "\u001b[2m2024-04-15 23:39.03\u001b[0m [\u001b[32m\u001b[1minfo     \u001b[0m] \u001b[1mDiscreteBC_20240415233032: epoch=11 step=77000\u001b[0m \u001b[36mepoch\u001b[0m=\u001b[35m11\u001b[0m \u001b[36mmetrics\u001b[0m=\u001b[35m{'time_sample_batch': 0.0032211786678859166, 'time_algorithm_update': 0.0031611033167157853, 'loss': 2.7363908853190284, 'time_step': 0.00644371543611799, 'environment': -3.3950335179817124}\u001b[0m \u001b[36mstep\u001b[0m=\u001b[35m77000\u001b[0m\n",
      "\u001b[2m2024-04-15 23:39.03\u001b[0m [\u001b[32m\u001b[1minfo     \u001b[0m] \u001b[1mModel parameters are saved to d3rlpy_logs/DiscreteBC_20240415233032/model_77000.d3\u001b[0m\n"
     ]
    },
    {
     "data": {
      "application/vnd.jupyter.widget-view+json": {
       "model_id": "6233e94d80c7490e8dd502305faf6469",
       "version_major": 2,
       "version_minor": 0
      },
      "text/plain": [
       "Epoch 12/14:   0%|          | 0/7000 [00:00<?, ?it/s]"
      ]
     },
     "metadata": {},
     "output_type": "display_data"
    },
    {
     "name": "stdout",
     "output_type": "stream",
     "text": [
      "\u001b[2m2024-04-15 23:39.49\u001b[0m [\u001b[32m\u001b[1minfo     \u001b[0m] \u001b[1mDiscreteBC_20240415233032: epoch=12 step=84000\u001b[0m \u001b[36mepoch\u001b[0m=\u001b[35m12\u001b[0m \u001b[36mmetrics\u001b[0m=\u001b[35m{'time_sample_batch': 0.0032079057693481447, 'time_algorithm_update': 0.003288327727999006, 'loss': 2.7362384698050364, 'time_step': 0.006559238638196673, 'environment': -3.3950335179817124}\u001b[0m \u001b[36mstep\u001b[0m=\u001b[35m84000\u001b[0m\n",
      "\u001b[2m2024-04-15 23:39.49\u001b[0m [\u001b[32m\u001b[1minfo     \u001b[0m] \u001b[1mModel parameters are saved to d3rlpy_logs/DiscreteBC_20240415233032/model_84000.d3\u001b[0m\n"
     ]
    },
    {
     "data": {
      "application/vnd.jupyter.widget-view+json": {
       "model_id": "7ef25993e5ed491791cb8e8a0e998708",
       "version_major": 2,
       "version_minor": 0
      },
      "text/plain": [
       "Epoch 13/14:   0%|          | 0/7000 [00:00<?, ?it/s]"
      ]
     },
     "metadata": {},
     "output_type": "display_data"
    },
    {
     "name": "stdout",
     "output_type": "stream",
     "text": [
      "\u001b[2m2024-04-15 23:40.36\u001b[0m [\u001b[32m\u001b[1minfo     \u001b[0m] \u001b[1mDiscreteBC_20240415233032: epoch=13 step=91000\u001b[0m \u001b[36mepoch\u001b[0m=\u001b[35m13\u001b[0m \u001b[36mmetrics\u001b[0m=\u001b[35m{'time_sample_batch': 0.00323503463608878, 'time_algorithm_update': 0.003354092904499599, 'loss': 2.7353745396137237, 'time_step': 0.00665247791154044, 'environment': -3.3950335179817124}\u001b[0m \u001b[36mstep\u001b[0m=\u001b[35m91000\u001b[0m\n",
      "\u001b[2m2024-04-15 23:40.36\u001b[0m [\u001b[32m\u001b[1minfo     \u001b[0m] \u001b[1mModel parameters are saved to d3rlpy_logs/DiscreteBC_20240415233032/model_91000.d3\u001b[0m\n"
     ]
    },
    {
     "data": {
      "application/vnd.jupyter.widget-view+json": {
       "model_id": "a211a27ab8f44ccf9f9148ad8d98e006",
       "version_major": 2,
       "version_minor": 0
      },
      "text/plain": [
       "Epoch 14/14:   0%|          | 0/7000 [00:00<?, ?it/s]"
      ]
     },
     "metadata": {},
     "output_type": "display_data"
    },
    {
     "name": "stdout",
     "output_type": "stream",
     "text": [
      "\u001b[2m2024-04-15 23:41.22\u001b[0m [\u001b[32m\u001b[1minfo     \u001b[0m] \u001b[1mDiscreteBC_20240415233032: epoch=14 step=98000\u001b[0m \u001b[36mepoch\u001b[0m=\u001b[35m14\u001b[0m \u001b[36mmetrics\u001b[0m=\u001b[35m{'time_sample_batch': 0.0032076453821999686, 'time_algorithm_update': 0.0031984848294939316, 'loss': 2.735743948153087, 'time_step': 0.006467313528060913, 'environment': -3.3950335179817124}\u001b[0m \u001b[36mstep\u001b[0m=\u001b[35m98000\u001b[0m\n",
      "\u001b[2m2024-04-15 23:41.22\u001b[0m [\u001b[32m\u001b[1minfo     \u001b[0m] \u001b[1mModel parameters are saved to d3rlpy_logs/DiscreteBC_20240415233032/model_98000.d3\u001b[0m\n"
     ]
    }
   ],
   "source": [
    "bc = d3rlpy.algos.DiscreteBCConfig(learning_rate=1e-4, gamma=0.9).create(\n",
    "    device=DEVICE.type\n",
    ")\n",
    "\n",
    "# start training\n",
    "stat_bc = bc.fit(\n",
    "    dqn_buffer,\n",
    "    n_steps=100000,\n",
    "    n_steps_per_epoch=7000,\n",
    "    evaluators={\n",
    "        \"environment\": d3rlpy.metrics.EnvironmentEvaluator(env),\n",
    "    },\n",
    ")"
   ]
  },
  {
   "cell_type": "code",
   "execution_count": 26,
   "metadata": {},
   "outputs": [
    {
     "data": {
      "image/png": "[encoded data removed]",
      "text/plain": [
       "<Figure size 640x480 with 1 Axes>"
      ]
     },
     "metadata": {},
     "output_type": "display_data"
    }
   ],
   "source": [
    "models_dict[\"BC_clear\"] = [val[1][\"environment\"] for val in stat_bc]\n",
    "\n",
    "plt.plot(models_dict[\"BC_clear\"], label=\"BC_clear\")\n",
    "plt.xlabel(\"Epochs\")\n",
    "plt.ylabel(\"Returns\")\n",
    "plt.legend()\n",
    "plt.grid()"
   ]
  },
  {
   "cell_type": "code",
   "execution_count": null,
   "metadata": {},
   "outputs": [],
   "source": []
  }
 ],
 "metadata": {
  "kernelspec": {
   "display_name": "Python 3",
   "language": "python",
   "name": "python3"
  },
  "language_info": {
   "codemirror_mode": {
    "name": "ipython",
    "version": 3
   },
   "file_extension": ".py",
   "mimetype": "text/x-python",
   "name": "python",
   "nbconvert_exporter": "python",
   "pygments_lexer": "ipython3",
   "version": "3.10.12"
  }
 },
 "nbformat": 4,
 "nbformat_minor": 2
}
