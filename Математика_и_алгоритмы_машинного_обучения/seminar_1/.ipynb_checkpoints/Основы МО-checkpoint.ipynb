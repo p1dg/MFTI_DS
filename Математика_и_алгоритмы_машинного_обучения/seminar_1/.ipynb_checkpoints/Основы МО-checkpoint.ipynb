{
 "cells": [
  {
   "cell_type": "markdown",
   "id": "84668ac9",
   "metadata": {
    "id": "84668ac9"
   },
   "source": [
    "1. Что такое ML, виды ML.\n",
    "2. Задачи ML, примеры, виды задач, проблемы\n",
    "3. Сбор и подготовка данных\n",
    "4. Обучение модели\n",
    "5. Тестирование для проверки качества"
   ]
  },
  {
   "cell_type": "markdown",
   "id": "-83U3uLpZOck",
   "metadata": {
    "id": "-83U3uLpZOck"
   },
   "source": [
    "Импорт необходимых для работы библиотек и функций"
   ]
  },
  {
   "cell_type": "code",
   "execution_count": 1,
   "id": "8eb2ee54",
   "metadata": {
    "id": "8eb2ee54"
   },
   "outputs": [],
   "source": [
    "import pandas as pd\n",
    "import numpy as np\n",
    "from sklearn.linear_model import LinearRegression, LogisticRegression\n",
    "from sklearn.preprocessing import StandardScaler\n",
    "from sklearn.model_selection import train_test_split\n",
    "from sklearn.metrics import mean_squared_error, mean_absolute_error, r2_score, mean_absolute_percentage_error, confusion_matrix, ConfusionMatrixDisplay, accuracy_score, precision_score, recall_score, f1_score"
   ]
  },
  {
   "cell_type": "markdown",
   "id": "7927b640",
   "metadata": {
    "id": "7927b640"
   },
   "source": [
    "# Машинное обучение \n",
    "\n",
    "Область искусственного интеллекта (ИИ), которая позволяет компьютерам обучаться на данных без явного программирования. В процессе машинного обучения определенный алгоритм нацелен на поиск закономерностей в данных и нахождение оптимальных параметров для модели. Таким образом, модель, обучившись на большом массиве данных, может решать аналогичную задачу самостоятельно.\n",
    "\n",
    "Виды машинного обучения:\n",
    "1. Обучение с учителем (Supervised learning) - способ машинного обучения, когда в обучающем датасете для каждого объекта существуют метки (классы или значения) и обучение происходит на заранее размеченных данных\n",
    "2. Обучение без учителя (Unsupervised learning) - способ машинного обучения, когда в обучающем датасете для каждого объекта существуют только описания без меток, а процессом обучения считается поиск взаимосвязей и зависимостей между объектами"
   ]
  },
  {
   "cell_type": "markdown",
   "id": "Mg9esNbuORMg",
   "metadata": {
    "id": "Mg9esNbuORMg"
   },
   "source": [
    "# Задачи машинного обучения\n",
    "\n",
    "В наши дни машинное обучение применяется практически в любой сфере нашей жизни, каждый день человек сталкивается с ситуациями, где машинное обучение помогает решать множество рутинных задач.\n",
    "\n",
    "Примеры задач машинного обучения:\n",
    "- Медицинская диагностика\n",
    "- Кредитный скоринг\n",
    "- Прогнозирование стоимости недвижимости\n",
    "- Поиск аномалий в данных\n",
    "- Кластеризация\n",
    "- Рекомендательные системы\n",
    "- Работа с текстами и изображениями и т.д.\n",
    "\n",
    "Виды задач машинного обучения:\n",
    "1. Задача регрессии - задача обучения с учителем, где необходимо спрогнозировать вещественное значение\n",
    "2. Задача классификации - задача обучения с учителем, где необходимо прогнозировать к какому классу (из конечного количества классов) относится объект, то есть предсказать метку класса\n",
    "3. Задача кластеризации - задача обучения без учителя, где необходимо разделить набор данных на кластеры таким образом, чтобы свойства объектов одного кластера были похожи между собой и отличались от свойств объектов других кластеров\n",
    "\n",
    "\n"
   ]
  },
  {
   "cell_type": "markdown",
   "id": "8_AVnxmWryiN",
   "metadata": {
    "id": "8_AVnxmWryiN"
   },
   "source": [
    "## Задача регрессии\n",
    "\n",
    "Задача: предсказать цены на жилье в Бостоне (количественную переменную)\n",
    "\n",
    "Признаки: уровень преступности на душу населения, число комнат в квартире, индекс доступности к автомагистралям, ставка налога на имущество и др., всего 13"
   ]
  },
  {
   "cell_type": "markdown",
   "id": "0rLjpHTxWYS4",
   "metadata": {
    "id": "0rLjpHTxWYS4"
   },
   "source": [
    "Импортируем датасет load_boston из библиотеки sklearn"
   ]
  },
  {
   "cell_type": "code",
   "execution_count": 2,
   "id": "rWtWQYIRry5B",
   "metadata": {
    "id": "rWtWQYIRry5B"
   },
   "outputs": [],
   "source": [
    "from sklearn.datasets import load_boston"
   ]
  },
  {
   "cell_type": "markdown",
   "id": "eSTc8HABWd4U",
   "metadata": {
    "id": "eSTc8HABWd4U"
   },
   "source": [
    "Сохраним датасет в переменную data"
   ]
  },
  {
   "cell_type": "code",
   "execution_count": 3,
   "id": "IEoURJOptbUQ",
   "metadata": {
    "colab": {
     "base_uri": "https://localhost:8080/"
    },
    "id": "IEoURJOptbUQ",
    "outputId": "f272b26c-a15b-4157-9571-5e6aebca3bef"
   },
   "outputs": [
    {
     "name": "stderr",
     "output_type": "stream",
     "text": [
      "/usr/local/lib/python3.7/dist-packages/sklearn/utils/deprecation.py:87: FutureWarning: Function load_boston is deprecated; `load_boston` is deprecated in 1.0 and will be removed in 1.2.\n",
      "\n",
      "    The Boston housing prices dataset has an ethical problem. You can refer to\n",
      "    the documentation of this function for further details.\n",
      "\n",
      "    The scikit-learn maintainers therefore strongly discourage the use of this\n",
      "    dataset unless the purpose of the code is to study and educate about\n",
      "    ethical issues in data science and machine learning.\n",
      "\n",
      "    In this special case, you can fetch the dataset from the original\n",
      "    source::\n",
      "\n",
      "        import pandas as pd\n",
      "        import numpy as np\n",
      "\n",
      "\n",
      "        data_url = \"http://lib.stat.cmu.edu/datasets/boston\"\n",
      "        raw_df = pd.read_csv(data_url, sep=\"\\s+\", skiprows=22, header=None)\n",
      "        data = np.hstack([raw_df.values[::2, :], raw_df.values[1::2, :2]])\n",
      "        target = raw_df.values[1::2, 2]\n",
      "\n",
      "    Alternative datasets include the California housing dataset (i.e.\n",
      "    :func:`~sklearn.datasets.fetch_california_housing`) and the Ames housing\n",
      "    dataset. You can load the datasets as follows::\n",
      "\n",
      "        from sklearn.datasets import fetch_california_housing\n",
      "        housing = fetch_california_housing()\n",
      "\n",
      "    for the California housing dataset and::\n",
      "\n",
      "        from sklearn.datasets import fetch_openml\n",
      "        housing = fetch_openml(name=\"house_prices\", as_frame=True)\n",
      "\n",
      "    for the Ames housing dataset.\n",
      "    \n",
      "  warnings.warn(msg, category=FutureWarning)\n"
     ]
    }
   ],
   "source": [
    "data = load_boston()"
   ]
  },
  {
   "cell_type": "markdown",
   "id": "edNMawezVej1",
   "metadata": {
    "id": "edNMawezVej1"
   },
   "source": [
    "Выведем описание датасета"
   ]
  },
  {
   "cell_type": "code",
   "execution_count": 4,
   "id": "Nz1TRU4-vTmj",
   "metadata": {
    "colab": {
     "base_uri": "https://localhost:8080/"
    },
    "id": "Nz1TRU4-vTmj",
    "outputId": "4063e9c5-4d58-48c2-9d58-b90d670ff7a1"
   },
   "outputs": [
    {
     "name": "stdout",
     "output_type": "stream",
     "text": [
      ".. _boston_dataset:\n",
      "\n",
      "Boston house prices dataset\n",
      "---------------------------\n",
      "\n",
      "**Data Set Characteristics:**  \n",
      "\n",
      "    :Number of Instances: 506 \n",
      "\n",
      "    :Number of Attributes: 13 numeric/categorical predictive. Median Value (attribute 14) is usually the target.\n",
      "\n",
      "    :Attribute Information (in order):\n",
      "        - CRIM     per capita crime rate by town\n",
      "        - ZN       proportion of residential land zoned for lots over 25,000 sq.ft.\n",
      "        - INDUS    proportion of non-retail business acres per town\n",
      "        - CHAS     Charles River dummy variable (= 1 if tract bounds river; 0 otherwise)\n",
      "        - NOX      nitric oxides concentration (parts per 10 million)\n",
      "        - RM       average number of rooms per dwelling\n",
      "        - AGE      proportion of owner-occupied units built prior to 1940\n",
      "        - DIS      weighted distances to five Boston employment centres\n",
      "        - RAD      index of accessibility to radial highways\n",
      "        - TAX      full-value property-tax rate per $10,000\n",
      "        - PTRATIO  pupil-teacher ratio by town\n",
      "        - B        1000(Bk - 0.63)^2 where Bk is the proportion of black people by town\n",
      "        - LSTAT    % lower status of the population\n",
      "        - MEDV     Median value of owner-occupied homes in $1000's\n",
      "\n",
      "    :Missing Attribute Values: None\n",
      "\n",
      "    :Creator: Harrison, D. and Rubinfeld, D.L.\n",
      "\n",
      "This is a copy of UCI ML housing dataset.\n",
      "https://archive.ics.uci.edu/ml/machine-learning-databases/housing/\n",
      "\n",
      "\n",
      "This dataset was taken from the StatLib library which is maintained at Carnegie Mellon University.\n",
      "\n",
      "The Boston house-price data of Harrison, D. and Rubinfeld, D.L. 'Hedonic\n",
      "prices and the demand for clean air', J. Environ. Economics & Management,\n",
      "vol.5, 81-102, 1978.   Used in Belsley, Kuh & Welsch, 'Regression diagnostics\n",
      "...', Wiley, 1980.   N.B. Various transformations are used in the table on\n",
      "pages 244-261 of the latter.\n",
      "\n",
      "The Boston house-price data has been used in many machine learning papers that address regression\n",
      "problems.   \n",
      "     \n",
      ".. topic:: References\n",
      "\n",
      "   - Belsley, Kuh & Welsch, 'Regression diagnostics: Identifying Influential Data and Sources of Collinearity', Wiley, 1980. 244-261.\n",
      "   - Quinlan,R. (1993). Combining Instance-Based and Model-Based Learning. In Proceedings on the Tenth International Conference of Machine Learning, 236-243, University of Massachusetts, Amherst. Morgan Kaufmann.\n",
      "\n"
     ]
    }
   ],
   "source": [
    "print(data.DESCR)"
   ]
  },
  {
   "cell_type": "markdown",
   "id": "rlikMh2fVlOR",
   "metadata": {
    "id": "rlikMh2fVlOR"
   },
   "source": [
    "Выведем признаки"
   ]
  },
  {
   "cell_type": "code",
   "execution_count": 5,
   "id": "PSf2JvWLvFQI",
   "metadata": {
    "colab": {
     "base_uri": "https://localhost:8080/"
    },
    "id": "PSf2JvWLvFQI",
    "outputId": "d831db1a-f930-43e1-c539-8599235131cb"
   },
   "outputs": [
    {
     "data": {
      "text/plain": [
       "array([[6.3200e-03, 1.8000e+01, 2.3100e+00, ..., 1.5300e+01, 3.9690e+02,\n",
       "        4.9800e+00],\n",
       "       [2.7310e-02, 0.0000e+00, 7.0700e+00, ..., 1.7800e+01, 3.9690e+02,\n",
       "        9.1400e+00],\n",
       "       [2.7290e-02, 0.0000e+00, 7.0700e+00, ..., 1.7800e+01, 3.9283e+02,\n",
       "        4.0300e+00],\n",
       "       ...,\n",
       "       [6.0760e-02, 0.0000e+00, 1.1930e+01, ..., 2.1000e+01, 3.9690e+02,\n",
       "        5.6400e+00],\n",
       "       [1.0959e-01, 0.0000e+00, 1.1930e+01, ..., 2.1000e+01, 3.9345e+02,\n",
       "        6.4800e+00],\n",
       "       [4.7410e-02, 0.0000e+00, 1.1930e+01, ..., 2.1000e+01, 3.9690e+02,\n",
       "        7.8800e+00]])"
      ]
     },
     "execution_count": 5,
     "metadata": {},
     "output_type": "execute_result"
    }
   ],
   "source": [
    "data.data"
   ]
  },
  {
   "cell_type": "markdown",
   "id": "sljYNaP0V-nY",
   "metadata": {
    "id": "sljYNaP0V-nY"
   },
   "source": [
    "Выведем названия признаков"
   ]
  },
  {
   "cell_type": "code",
   "execution_count": 6,
   "id": "5pZC1GGVvRRl",
   "metadata": {
    "colab": {
     "base_uri": "https://localhost:8080/"
    },
    "id": "5pZC1GGVvRRl",
    "outputId": "fe6a73b9-c8d4-495d-9f9a-ee37d30437bc"
   },
   "outputs": [
    {
     "data": {
      "text/plain": [
       "array(['CRIM', 'ZN', 'INDUS', 'CHAS', 'NOX', 'RM', 'AGE', 'DIS', 'RAD',\n",
       "       'TAX', 'PTRATIO', 'B', 'LSTAT'], dtype='<U7')"
      ]
     },
     "execution_count": 6,
     "metadata": {},
     "output_type": "execute_result"
    }
   ],
   "source": [
    "data.feature_names"
   ]
  },
  {
   "cell_type": "markdown",
   "id": "5eJ2-wQzVsnH",
   "metadata": {
    "id": "5eJ2-wQzVsnH"
   },
   "source": [
    "Выведем целевой признак"
   ]
  },
  {
   "cell_type": "code",
   "execution_count": 7,
   "id": "KlV5SXQgvMmZ",
   "metadata": {
    "colab": {
     "base_uri": "https://localhost:8080/"
    },
    "id": "KlV5SXQgvMmZ",
    "outputId": "8ef5df16-6f38-46c2-de34-b6d007cc2f05"
   },
   "outputs": [
    {
     "data": {
      "text/plain": [
       "array([24. , 21.6, 34.7, 33.4, 36.2, 28.7, 22.9, 27.1, 16.5, 18.9, 15. ,\n",
       "       18.9, 21.7, 20.4, 18.2, 19.9, 23.1, 17.5, 20.2, 18.2, 13.6, 19.6,\n",
       "       15.2, 14.5, 15.6, 13.9, 16.6, 14.8, 18.4, 21. , 12.7, 14.5, 13.2,\n",
       "       13.1, 13.5, 18.9, 20. , 21. , 24.7, 30.8, 34.9, 26.6, 25.3, 24.7,\n",
       "       21.2, 19.3, 20. , 16.6, 14.4, 19.4, 19.7, 20.5, 25. , 23.4, 18.9,\n",
       "       35.4, 24.7, 31.6, 23.3, 19.6, 18.7, 16. , 22.2, 25. , 33. , 23.5,\n",
       "       19.4, 22. , 17.4, 20.9, 24.2, 21.7, 22.8, 23.4, 24.1, 21.4, 20. ,\n",
       "       20.8, 21.2, 20.3, 28. , 23.9, 24.8, 22.9, 23.9, 26.6, 22.5, 22.2,\n",
       "       23.6, 28.7, 22.6, 22. , 22.9, 25. , 20.6, 28.4, 21.4, 38.7, 43.8,\n",
       "       33.2, 27.5, 26.5, 18.6, 19.3, 20.1, 19.5, 19.5, 20.4, 19.8, 19.4,\n",
       "       21.7, 22.8, 18.8, 18.7, 18.5, 18.3, 21.2, 19.2, 20.4, 19.3, 22. ,\n",
       "       20.3, 20.5, 17.3, 18.8, 21.4, 15.7, 16.2, 18. , 14.3, 19.2, 19.6,\n",
       "       23. , 18.4, 15.6, 18.1, 17.4, 17.1, 13.3, 17.8, 14. , 14.4, 13.4,\n",
       "       15.6, 11.8, 13.8, 15.6, 14.6, 17.8, 15.4, 21.5, 19.6, 15.3, 19.4,\n",
       "       17. , 15.6, 13.1, 41.3, 24.3, 23.3, 27. , 50. , 50. , 50. , 22.7,\n",
       "       25. , 50. , 23.8, 23.8, 22.3, 17.4, 19.1, 23.1, 23.6, 22.6, 29.4,\n",
       "       23.2, 24.6, 29.9, 37.2, 39.8, 36.2, 37.9, 32.5, 26.4, 29.6, 50. ,\n",
       "       32. , 29.8, 34.9, 37. , 30.5, 36.4, 31.1, 29.1, 50. , 33.3, 30.3,\n",
       "       34.6, 34.9, 32.9, 24.1, 42.3, 48.5, 50. , 22.6, 24.4, 22.5, 24.4,\n",
       "       20. , 21.7, 19.3, 22.4, 28.1, 23.7, 25. , 23.3, 28.7, 21.5, 23. ,\n",
       "       26.7, 21.7, 27.5, 30.1, 44.8, 50. , 37.6, 31.6, 46.7, 31.5, 24.3,\n",
       "       31.7, 41.7, 48.3, 29. , 24. , 25.1, 31.5, 23.7, 23.3, 22. , 20.1,\n",
       "       22.2, 23.7, 17.6, 18.5, 24.3, 20.5, 24.5, 26.2, 24.4, 24.8, 29.6,\n",
       "       42.8, 21.9, 20.9, 44. , 50. , 36. , 30.1, 33.8, 43.1, 48.8, 31. ,\n",
       "       36.5, 22.8, 30.7, 50. , 43.5, 20.7, 21.1, 25.2, 24.4, 35.2, 32.4,\n",
       "       32. , 33.2, 33.1, 29.1, 35.1, 45.4, 35.4, 46. , 50. , 32.2, 22. ,\n",
       "       20.1, 23.2, 22.3, 24.8, 28.5, 37.3, 27.9, 23.9, 21.7, 28.6, 27.1,\n",
       "       20.3, 22.5, 29. , 24.8, 22. , 26.4, 33.1, 36.1, 28.4, 33.4, 28.2,\n",
       "       22.8, 20.3, 16.1, 22.1, 19.4, 21.6, 23.8, 16.2, 17.8, 19.8, 23.1,\n",
       "       21. , 23.8, 23.1, 20.4, 18.5, 25. , 24.6, 23. , 22.2, 19.3, 22.6,\n",
       "       19.8, 17.1, 19.4, 22.2, 20.7, 21.1, 19.5, 18.5, 20.6, 19. , 18.7,\n",
       "       32.7, 16.5, 23.9, 31.2, 17.5, 17.2, 23.1, 24.5, 26.6, 22.9, 24.1,\n",
       "       18.6, 30.1, 18.2, 20.6, 17.8, 21.7, 22.7, 22.6, 25. , 19.9, 20.8,\n",
       "       16.8, 21.9, 27.5, 21.9, 23.1, 50. , 50. , 50. , 50. , 50. , 13.8,\n",
       "       13.8, 15. , 13.9, 13.3, 13.1, 10.2, 10.4, 10.9, 11.3, 12.3,  8.8,\n",
       "        7.2, 10.5,  7.4, 10.2, 11.5, 15.1, 23.2,  9.7, 13.8, 12.7, 13.1,\n",
       "       12.5,  8.5,  5. ,  6.3,  5.6,  7.2, 12.1,  8.3,  8.5,  5. , 11.9,\n",
       "       27.9, 17.2, 27.5, 15. , 17.2, 17.9, 16.3,  7. ,  7.2,  7.5, 10.4,\n",
       "        8.8,  8.4, 16.7, 14.2, 20.8, 13.4, 11.7,  8.3, 10.2, 10.9, 11. ,\n",
       "        9.5, 14.5, 14.1, 16.1, 14.3, 11.7, 13.4,  9.6,  8.7,  8.4, 12.8,\n",
       "       10.5, 17.1, 18.4, 15.4, 10.8, 11.8, 14.9, 12.6, 14.1, 13. , 13.4,\n",
       "       15.2, 16.1, 17.8, 14.9, 14.1, 12.7, 13.5, 14.9, 20. , 16.4, 17.7,\n",
       "       19.5, 20.2, 21.4, 19.9, 19. , 19.1, 19.1, 20.1, 19.9, 19.6, 23.2,\n",
       "       29.8, 13.8, 13.3, 16.7, 12. , 14.6, 21.4, 23. , 23.7, 25. , 21.8,\n",
       "       20.6, 21.2, 19.1, 20.6, 15.2,  7. ,  8.1, 13.6, 20.1, 21.8, 24.5,\n",
       "       23.1, 19.7, 18.3, 21.2, 17.5, 16.8, 22.4, 20.6, 23.9, 22. , 11.9])"
      ]
     },
     "execution_count": 7,
     "metadata": {},
     "output_type": "execute_result"
    }
   ],
   "source": [
    "data.target"
   ]
  },
  {
   "cell_type": "markdown",
   "id": "rTw57U7SWEIk",
   "metadata": {
    "id": "rTw57U7SWEIk"
   },
   "source": [
    "Объединим матрицу признаков (data.data) и вектор целевой переменной (data.target) в один датафрейм"
   ]
  },
  {
   "cell_type": "code",
   "execution_count": 8,
   "id": "4crC0yXRwr8r",
   "metadata": {
    "id": "4crC0yXRwr8r"
   },
   "outputs": [],
   "source": [
    "df = pd.DataFrame(data.data, columns=data.feature_names)\n",
    "df['target'] = data.target"
   ]
  },
  {
   "cell_type": "markdown",
   "id": "rfamVxZhXEX1",
   "metadata": {
    "id": "rfamVxZhXEX1"
   },
   "source": [
    "Отобразим первые 10 строк датафрейма"
   ]
  },
  {
   "cell_type": "code",
   "execution_count": 9,
   "id": "nErJlapa000w",
   "metadata": {
    "colab": {
     "base_uri": "https://localhost:8080/",
     "height": 363
    },
    "id": "nErJlapa000w",
    "outputId": "76b33986-6f40-48b7-be18-00a5eee75136"
   },
   "outputs": [
    {
     "data": {
      "text/html": [
       "\n",
       "  <div id=\"df-d4302eb7-edad-4f2b-bc98-9a457fa32a84\">\n",
       "    <div class=\"colab-df-container\">\n",
       "      <div>\n",
       "<style scoped>\n",
       "    .dataframe tbody tr th:only-of-type {\n",
       "        vertical-align: middle;\n",
       "    }\n",
       "\n",
       "    .dataframe tbody tr th {\n",
       "        vertical-align: top;\n",
       "    }\n",
       "\n",
       "    .dataframe thead th {\n",
       "        text-align: right;\n",
       "    }\n",
       "</style>\n",
       "<table border=\"1\" class=\"dataframe\">\n",
       "  <thead>\n",
       "    <tr style=\"text-align: right;\">\n",
       "      <th></th>\n",
       "      <th>CRIM</th>\n",
       "      <th>ZN</th>\n",
       "      <th>INDUS</th>\n",
       "      <th>CHAS</th>\n",
       "      <th>NOX</th>\n",
       "      <th>RM</th>\n",
       "      <th>AGE</th>\n",
       "      <th>DIS</th>\n",
       "      <th>RAD</th>\n",
       "      <th>TAX</th>\n",
       "      <th>PTRATIO</th>\n",
       "      <th>B</th>\n",
       "      <th>LSTAT</th>\n",
       "      <th>target</th>\n",
       "    </tr>\n",
       "  </thead>\n",
       "  <tbody>\n",
       "    <tr>\n",
       "      <th>0</th>\n",
       "      <td>0.00632</td>\n",
       "      <td>18.0</td>\n",
       "      <td>2.31</td>\n",
       "      <td>0.0</td>\n",
       "      <td>0.538</td>\n",
       "      <td>6.575</td>\n",
       "      <td>65.2</td>\n",
       "      <td>4.0900</td>\n",
       "      <td>1.0</td>\n",
       "      <td>296.0</td>\n",
       "      <td>15.3</td>\n",
       "      <td>396.90</td>\n",
       "      <td>4.98</td>\n",
       "      <td>24.0</td>\n",
       "    </tr>\n",
       "    <tr>\n",
       "      <th>1</th>\n",
       "      <td>0.02731</td>\n",
       "      <td>0.0</td>\n",
       "      <td>7.07</td>\n",
       "      <td>0.0</td>\n",
       "      <td>0.469</td>\n",
       "      <td>6.421</td>\n",
       "      <td>78.9</td>\n",
       "      <td>4.9671</td>\n",
       "      <td>2.0</td>\n",
       "      <td>242.0</td>\n",
       "      <td>17.8</td>\n",
       "      <td>396.90</td>\n",
       "      <td>9.14</td>\n",
       "      <td>21.6</td>\n",
       "    </tr>\n",
       "    <tr>\n",
       "      <th>2</th>\n",
       "      <td>0.02729</td>\n",
       "      <td>0.0</td>\n",
       "      <td>7.07</td>\n",
       "      <td>0.0</td>\n",
       "      <td>0.469</td>\n",
       "      <td>7.185</td>\n",
       "      <td>61.1</td>\n",
       "      <td>4.9671</td>\n",
       "      <td>2.0</td>\n",
       "      <td>242.0</td>\n",
       "      <td>17.8</td>\n",
       "      <td>392.83</td>\n",
       "      <td>4.03</td>\n",
       "      <td>34.7</td>\n",
       "    </tr>\n",
       "    <tr>\n",
       "      <th>3</th>\n",
       "      <td>0.03237</td>\n",
       "      <td>0.0</td>\n",
       "      <td>2.18</td>\n",
       "      <td>0.0</td>\n",
       "      <td>0.458</td>\n",
       "      <td>6.998</td>\n",
       "      <td>45.8</td>\n",
       "      <td>6.0622</td>\n",
       "      <td>3.0</td>\n",
       "      <td>222.0</td>\n",
       "      <td>18.7</td>\n",
       "      <td>394.63</td>\n",
       "      <td>2.94</td>\n",
       "      <td>33.4</td>\n",
       "    </tr>\n",
       "    <tr>\n",
       "      <th>4</th>\n",
       "      <td>0.06905</td>\n",
       "      <td>0.0</td>\n",
       "      <td>2.18</td>\n",
       "      <td>0.0</td>\n",
       "      <td>0.458</td>\n",
       "      <td>7.147</td>\n",
       "      <td>54.2</td>\n",
       "      <td>6.0622</td>\n",
       "      <td>3.0</td>\n",
       "      <td>222.0</td>\n",
       "      <td>18.7</td>\n",
       "      <td>396.90</td>\n",
       "      <td>5.33</td>\n",
       "      <td>36.2</td>\n",
       "    </tr>\n",
       "    <tr>\n",
       "      <th>5</th>\n",
       "      <td>0.02985</td>\n",
       "      <td>0.0</td>\n",
       "      <td>2.18</td>\n",
       "      <td>0.0</td>\n",
       "      <td>0.458</td>\n",
       "      <td>6.430</td>\n",
       "      <td>58.7</td>\n",
       "      <td>6.0622</td>\n",
       "      <td>3.0</td>\n",
       "      <td>222.0</td>\n",
       "      <td>18.7</td>\n",
       "      <td>394.12</td>\n",
       "      <td>5.21</td>\n",
       "      <td>28.7</td>\n",
       "    </tr>\n",
       "    <tr>\n",
       "      <th>6</th>\n",
       "      <td>0.08829</td>\n",
       "      <td>12.5</td>\n",
       "      <td>7.87</td>\n",
       "      <td>0.0</td>\n",
       "      <td>0.524</td>\n",
       "      <td>6.012</td>\n",
       "      <td>66.6</td>\n",
       "      <td>5.5605</td>\n",
       "      <td>5.0</td>\n",
       "      <td>311.0</td>\n",
       "      <td>15.2</td>\n",
       "      <td>395.60</td>\n",
       "      <td>12.43</td>\n",
       "      <td>22.9</td>\n",
       "    </tr>\n",
       "    <tr>\n",
       "      <th>7</th>\n",
       "      <td>0.14455</td>\n",
       "      <td>12.5</td>\n",
       "      <td>7.87</td>\n",
       "      <td>0.0</td>\n",
       "      <td>0.524</td>\n",
       "      <td>6.172</td>\n",
       "      <td>96.1</td>\n",
       "      <td>5.9505</td>\n",
       "      <td>5.0</td>\n",
       "      <td>311.0</td>\n",
       "      <td>15.2</td>\n",
       "      <td>396.90</td>\n",
       "      <td>19.15</td>\n",
       "      <td>27.1</td>\n",
       "    </tr>\n",
       "    <tr>\n",
       "      <th>8</th>\n",
       "      <td>0.21124</td>\n",
       "      <td>12.5</td>\n",
       "      <td>7.87</td>\n",
       "      <td>0.0</td>\n",
       "      <td>0.524</td>\n",
       "      <td>5.631</td>\n",
       "      <td>100.0</td>\n",
       "      <td>6.0821</td>\n",
       "      <td>5.0</td>\n",
       "      <td>311.0</td>\n",
       "      <td>15.2</td>\n",
       "      <td>386.63</td>\n",
       "      <td>29.93</td>\n",
       "      <td>16.5</td>\n",
       "    </tr>\n",
       "    <tr>\n",
       "      <th>9</th>\n",
       "      <td>0.17004</td>\n",
       "      <td>12.5</td>\n",
       "      <td>7.87</td>\n",
       "      <td>0.0</td>\n",
       "      <td>0.524</td>\n",
       "      <td>6.004</td>\n",
       "      <td>85.9</td>\n",
       "      <td>6.5921</td>\n",
       "      <td>5.0</td>\n",
       "      <td>311.0</td>\n",
       "      <td>15.2</td>\n",
       "      <td>386.71</td>\n",
       "      <td>17.10</td>\n",
       "      <td>18.9</td>\n",
       "    </tr>\n",
       "  </tbody>\n",
       "</table>\n",
       "</div>\n",
       "      <button class=\"colab-df-convert\" onclick=\"convertToInteractive('df-d4302eb7-edad-4f2b-bc98-9a457fa32a84')\"\n",
       "              title=\"Convert this dataframe to an interactive table.\"\n",
       "              style=\"display:none;\">\n",
       "        \n",
       "  <svg xmlns=\"http://www.w3.org/2000/svg\" height=\"24px\"viewBox=\"0 0 24 24\"\n",
       "       width=\"24px\">\n",
       "    <path d=\"M0 0h24v24H0V0z\" fill=\"none\"/>\n",
       "    <path d=\"M18.56 5.44l.94 2.06.94-2.06 2.06-.94-2.06-.94-.94-2.06-.94 2.06-2.06.94zm-11 1L8.5 8.5l.94-2.06 2.06-.94-2.06-.94L8.5 2.5l-.94 2.06-2.06.94zm10 10l.94 2.06.94-2.06 2.06-.94-2.06-.94-.94-2.06-.94 2.06-2.06.94z\"/><path d=\"M17.41 7.96l-1.37-1.37c-.4-.4-.92-.59-1.43-.59-.52 0-1.04.2-1.43.59L10.3 9.45l-7.72 7.72c-.78.78-.78 2.05 0 2.83L4 21.41c.39.39.9.59 1.41.59.51 0 1.02-.2 1.41-.59l7.78-7.78 2.81-2.81c.8-.78.8-2.07 0-2.86zM5.41 20L4 18.59l7.72-7.72 1.47 1.35L5.41 20z\"/>\n",
       "  </svg>\n",
       "      </button>\n",
       "      \n",
       "  <style>\n",
       "    .colab-df-container {\n",
       "      display:flex;\n",
       "      flex-wrap:wrap;\n",
       "      gap: 12px;\n",
       "    }\n",
       "\n",
       "    .colab-df-convert {\n",
       "      background-color: #E8F0FE;\n",
       "      border: none;\n",
       "      border-radius: 50%;\n",
       "      cursor: pointer;\n",
       "      display: none;\n",
       "      fill: #1967D2;\n",
       "      height: 32px;\n",
       "      padding: 0 0 0 0;\n",
       "      width: 32px;\n",
       "    }\n",
       "\n",
       "    .colab-df-convert:hover {\n",
       "      background-color: #E2EBFA;\n",
       "      box-shadow: 0px 1px 2px rgba(60, 64, 67, 0.3), 0px 1px 3px 1px rgba(60, 64, 67, 0.15);\n",
       "      fill: #174EA6;\n",
       "    }\n",
       "\n",
       "    [theme=dark] .colab-df-convert {\n",
       "      background-color: #3B4455;\n",
       "      fill: #D2E3FC;\n",
       "    }\n",
       "\n",
       "    [theme=dark] .colab-df-convert:hover {\n",
       "      background-color: #434B5C;\n",
       "      box-shadow: 0px 1px 3px 1px rgba(0, 0, 0, 0.15);\n",
       "      filter: drop-shadow(0px 1px 2px rgba(0, 0, 0, 0.3));\n",
       "      fill: #FFFFFF;\n",
       "    }\n",
       "  </style>\n",
       "\n",
       "      <script>\n",
       "        const buttonEl =\n",
       "          document.querySelector('#df-d4302eb7-edad-4f2b-bc98-9a457fa32a84 button.colab-df-convert');\n",
       "        buttonEl.style.display =\n",
       "          google.colab.kernel.accessAllowed ? 'block' : 'none';\n",
       "\n",
       "        async function convertToInteractive(key) {\n",
       "          const element = document.querySelector('#df-d4302eb7-edad-4f2b-bc98-9a457fa32a84');\n",
       "          const dataTable =\n",
       "            await google.colab.kernel.invokeFunction('convertToInteractive',\n",
       "                                                     [key], {});\n",
       "          if (!dataTable) return;\n",
       "\n",
       "          const docLinkHtml = 'Like what you see? Visit the ' +\n",
       "            '<a target=\"_blank\" href=https://colab.research.google.com/notebooks/data_table.ipynb>data table notebook</a>'\n",
       "            + ' to learn more about interactive tables.';\n",
       "          element.innerHTML = '';\n",
       "          dataTable['output_type'] = 'display_data';\n",
       "          await google.colab.output.renderOutput(dataTable, element);\n",
       "          const docLink = document.createElement('div');\n",
       "          docLink.innerHTML = docLinkHtml;\n",
       "          element.appendChild(docLink);\n",
       "        }\n",
       "      </script>\n",
       "    </div>\n",
       "  </div>\n",
       "  "
      ],
      "text/plain": [
       "      CRIM    ZN  INDUS  CHAS    NOX     RM    AGE     DIS  RAD    TAX  \\\n",
       "0  0.00632  18.0   2.31   0.0  0.538  6.575   65.2  4.0900  1.0  296.0   \n",
       "1  0.02731   0.0   7.07   0.0  0.469  6.421   78.9  4.9671  2.0  242.0   \n",
       "2  0.02729   0.0   7.07   0.0  0.469  7.185   61.1  4.9671  2.0  242.0   \n",
       "3  0.03237   0.0   2.18   0.0  0.458  6.998   45.8  6.0622  3.0  222.0   \n",
       "4  0.06905   0.0   2.18   0.0  0.458  7.147   54.2  6.0622  3.0  222.0   \n",
       "5  0.02985   0.0   2.18   0.0  0.458  6.430   58.7  6.0622  3.0  222.0   \n",
       "6  0.08829  12.5   7.87   0.0  0.524  6.012   66.6  5.5605  5.0  311.0   \n",
       "7  0.14455  12.5   7.87   0.0  0.524  6.172   96.1  5.9505  5.0  311.0   \n",
       "8  0.21124  12.5   7.87   0.0  0.524  5.631  100.0  6.0821  5.0  311.0   \n",
       "9  0.17004  12.5   7.87   0.0  0.524  6.004   85.9  6.5921  5.0  311.0   \n",
       "\n",
       "   PTRATIO       B  LSTAT  target  \n",
       "0     15.3  396.90   4.98    24.0  \n",
       "1     17.8  396.90   9.14    21.6  \n",
       "2     17.8  392.83   4.03    34.7  \n",
       "3     18.7  394.63   2.94    33.4  \n",
       "4     18.7  396.90   5.33    36.2  \n",
       "5     18.7  394.12   5.21    28.7  \n",
       "6     15.2  395.60  12.43    22.9  \n",
       "7     15.2  396.90  19.15    27.1  \n",
       "8     15.2  386.63  29.93    16.5  \n",
       "9     15.2  386.71  17.10    18.9  "
      ]
     },
     "execution_count": 9,
     "metadata": {},
     "output_type": "execute_result"
    }
   ],
   "source": [
    "df.head(10)"
   ]
  },
  {
   "cell_type": "markdown",
   "id": "VhCIfWxbXwbI",
   "metadata": {
    "id": "VhCIfWxbXwbI"
   },
   "source": [
    "Проверим столбцы на наличие пропусков"
   ]
  },
  {
   "cell_type": "code",
   "execution_count": 10,
   "id": "roON3DN5-rYZ",
   "metadata": {
    "colab": {
     "base_uri": "https://localhost:8080/"
    },
    "id": "roON3DN5-rYZ",
    "outputId": "1124a79f-9010-4935-b3b1-5f1b315e307d"
   },
   "outputs": [
    {
     "data": {
      "text/plain": [
       "CRIM       0.0\n",
       "ZN         0.0\n",
       "INDUS      0.0\n",
       "CHAS       0.0\n",
       "NOX        0.0\n",
       "RM         0.0\n",
       "AGE        0.0\n",
       "DIS        0.0\n",
       "RAD        0.0\n",
       "TAX        0.0\n",
       "PTRATIO    0.0\n",
       "B          0.0\n",
       "LSTAT      0.0\n",
       "target     0.0\n",
       "dtype: float64"
      ]
     },
     "execution_count": 10,
     "metadata": {},
     "output_type": "execute_result"
    }
   ],
   "source": [
    "df.isna().mean()"
   ]
  },
  {
   "cell_type": "markdown",
   "id": "KD0P9H2lX5LY",
   "metadata": {
    "id": "KD0P9H2lX5LY"
   },
   "source": [
    "Пропусков нет\n",
    "\n",
    "Запишем признаки в переменную X, целевой признак в переменную y"
   ]
  },
  {
   "cell_type": "code",
   "execution_count": 11,
   "id": "y-0xtSFH-0bL",
   "metadata": {
    "id": "y-0xtSFH-0bL"
   },
   "outputs": [],
   "source": [
    "X = df.drop('target', axis=1)\n",
    "y = data.target"
   ]
  },
  {
   "cell_type": "markdown",
   "id": "lEGO3HDpYMTQ",
   "metadata": {
    "id": "lEGO3HDpYMTQ"
   },
   "source": [
    "Разделим датафрейм на обучающую и тестовую выборки в соотношении 70%:30%"
   ]
  },
  {
   "cell_type": "code",
   "execution_count": 12,
   "id": "I_loVRqu_5Ll",
   "metadata": {
    "id": "I_loVRqu_5Ll"
   },
   "outputs": [],
   "source": [
    "X_train, X_test, y_train, y_test = train_test_split(X, y , test_size=0.3, random_state=0)"
   ]
  },
  {
   "cell_type": "markdown",
   "id": "6LGj2nBb3VKQ",
   "metadata": {
    "id": "6LGj2nBb3VKQ"
   },
   "source": [
    "Инициализируем StandardScaler() для ремасштабирования количественных признаков"
   ]
  },
  {
   "cell_type": "code",
   "execution_count": 13,
   "id": "e8H8bOuBjZKk",
   "metadata": {
    "id": "e8H8bOuBjZKk"
   },
   "outputs": [],
   "source": [
    "scaler = StandardScaler()"
   ]
  },
  {
   "cell_type": "markdown",
   "id": "TVaRA7eh4C_0",
   "metadata": {
    "id": "TVaRA7eh4C_0"
   },
   "source": [
    "Обучим скейлер только на обучающей выборке"
   ]
  },
  {
   "cell_type": "code",
   "execution_count": 14,
   "id": "Zc9YoOnjjZKp",
   "metadata": {
    "colab": {
     "base_uri": "https://localhost:8080/"
    },
    "id": "Zc9YoOnjjZKp",
    "outputId": "b682710e-9c8e-42b8-c523-88189d0a4945"
   },
   "outputs": [
    {
     "data": {
      "text/plain": [
       "StandardScaler()"
      ]
     },
     "execution_count": 14,
     "metadata": {},
     "output_type": "execute_result"
    }
   ],
   "source": [
    "scaler.fit(X_train)"
   ]
  },
  {
   "cell_type": "markdown",
   "id": "BsWskGdx4I4c",
   "metadata": {
    "id": "BsWskGdx4I4c"
   },
   "source": [
    "Ремасштабируем признаки"
   ]
  },
  {
   "cell_type": "code",
   "execution_count": 15,
   "id": "apXCs17mjZKq",
   "metadata": {
    "id": "apXCs17mjZKq"
   },
   "outputs": [],
   "source": [
    "X_train = scaler.transform(X_train)\n",
    "X_test = scaler.transform(X_test)"
   ]
  },
  {
   "cell_type": "markdown",
   "id": "hW9LWDrnJv7o",
   "metadata": {
    "id": "hW9LWDrnJv7o"
   },
   "source": [
    "Выведем матрицу признаков после ремасштабирования"
   ]
  },
  {
   "cell_type": "code",
   "execution_count": 16,
   "id": "wrkXG-vPJZCZ",
   "metadata": {
    "colab": {
     "base_uri": "https://localhost:8080/",
     "height": 424
    },
    "id": "wrkXG-vPJZCZ",
    "outputId": "b67a12cd-3410-483c-9551-3c2e4dc6a6fa"
   },
   "outputs": [
    {
     "data": {
      "text/html": [
       "\n",
       "  <div id=\"df-8f2d6f35-f2b7-4be6-9db5-bf8e4ec80376\">\n",
       "    <div class=\"colab-df-container\">\n",
       "      <div>\n",
       "<style scoped>\n",
       "    .dataframe tbody tr th:only-of-type {\n",
       "        vertical-align: middle;\n",
       "    }\n",
       "\n",
       "    .dataframe tbody tr th {\n",
       "        vertical-align: top;\n",
       "    }\n",
       "\n",
       "    .dataframe thead th {\n",
       "        text-align: right;\n",
       "    }\n",
       "</style>\n",
       "<table border=\"1\" class=\"dataframe\">\n",
       "  <thead>\n",
       "    <tr style=\"text-align: right;\">\n",
       "      <th></th>\n",
       "      <th>CRIM</th>\n",
       "      <th>ZN</th>\n",
       "      <th>INDUS</th>\n",
       "      <th>CHAS</th>\n",
       "      <th>NOX</th>\n",
       "      <th>RM</th>\n",
       "      <th>AGE</th>\n",
       "      <th>DIS</th>\n",
       "      <th>RAD</th>\n",
       "      <th>TAX</th>\n",
       "      <th>PTRATIO</th>\n",
       "      <th>B</th>\n",
       "      <th>LSTAT</th>\n",
       "    </tr>\n",
       "  </thead>\n",
       "  <tbody>\n",
       "    <tr>\n",
       "      <th>0</th>\n",
       "      <td>-0.207356</td>\n",
       "      <td>-0.499979</td>\n",
       "      <td>1.548016</td>\n",
       "      <td>-0.263603</td>\n",
       "      <td>0.588213</td>\n",
       "      <td>-1.839367</td>\n",
       "      <td>1.107402</td>\n",
       "      <td>-1.125110</td>\n",
       "      <td>-0.618160</td>\n",
       "      <td>0.206735</td>\n",
       "      <td>1.227257</td>\n",
       "      <td>0.424543</td>\n",
       "      <td>3.108073</td>\n",
       "    </tr>\n",
       "    <tr>\n",
       "      <th>1</th>\n",
       "      <td>-0.388865</td>\n",
       "      <td>0.346774</td>\n",
       "      <td>-0.589747</td>\n",
       "      <td>-0.263603</td>\n",
       "      <td>-0.797821</td>\n",
       "      <td>0.327487</td>\n",
       "      <td>-0.367661</td>\n",
       "      <td>0.075090</td>\n",
       "      <td>-0.733637</td>\n",
       "      <td>-1.049493</td>\n",
       "      <td>0.056963</td>\n",
       "      <td>0.401853</td>\n",
       "      <td>-0.666430</td>\n",
       "    </tr>\n",
       "    <tr>\n",
       "      <th>2</th>\n",
       "      <td>-0.335735</td>\n",
       "      <td>-0.499979</td>\n",
       "      <td>1.548016</td>\n",
       "      <td>-0.263603</td>\n",
       "      <td>0.588213</td>\n",
       "      <td>0.037907</td>\n",
       "      <td>1.043114</td>\n",
       "      <td>-0.799984</td>\n",
       "      <td>-0.618160</td>\n",
       "      <td>0.206735</td>\n",
       "      <td>1.227257</td>\n",
       "      <td>0.398461</td>\n",
       "      <td>0.639367</td>\n",
       "    </tr>\n",
       "    <tr>\n",
       "      <th>3</th>\n",
       "      <td>-0.394852</td>\n",
       "      <td>2.463658</td>\n",
       "      <td>-1.265584</td>\n",
       "      <td>-0.263603</td>\n",
       "      <td>-1.352235</td>\n",
       "      <td>0.052172</td>\n",
       "      <td>-1.746292</td>\n",
       "      <td>1.968937</td>\n",
       "      <td>-0.502683</td>\n",
       "      <td>-0.257013</td>\n",
       "      <td>-1.653466</td>\n",
       "      <td>0.089342</td>\n",
       "      <td>-1.056896</td>\n",
       "    </tr>\n",
       "    <tr>\n",
       "      <th>4</th>\n",
       "      <td>-0.391456</td>\n",
       "      <td>-0.499979</td>\n",
       "      <td>2.086394</td>\n",
       "      <td>-0.263603</td>\n",
       "      <td>0.215716</td>\n",
       "      <td>-0.495604</td>\n",
       "      <td>0.853820</td>\n",
       "      <td>-0.811511</td>\n",
       "      <td>-0.849114</td>\n",
       "      <td>-1.254951</td>\n",
       "      <td>0.282020</td>\n",
       "      <td>0.204545</td>\n",
       "      <td>0.776596</td>\n",
       "    </tr>\n",
       "    <tr>\n",
       "      <th>...</th>\n",
       "      <td>...</td>\n",
       "      <td>...</td>\n",
       "      <td>...</td>\n",
       "      <td>...</td>\n",
       "      <td>...</td>\n",
       "      <td>...</td>\n",
       "      <td>...</td>\n",
       "      <td>...</td>\n",
       "      <td>...</td>\n",
       "      <td>...</td>\n",
       "      <td>...</td>\n",
       "      <td>...</td>\n",
       "      <td>...</td>\n",
       "    </tr>\n",
       "    <tr>\n",
       "      <th>349</th>\n",
       "      <td>-0.368566</td>\n",
       "      <td>-0.499979</td>\n",
       "      <td>-0.529609</td>\n",
       "      <td>-0.263603</td>\n",
       "      <td>-0.546603</td>\n",
       "      <td>-0.856509</td>\n",
       "      <td>0.189506</td>\n",
       "      <td>0.464292</td>\n",
       "      <td>-0.502683</td>\n",
       "      <td>-0.673799</td>\n",
       "      <td>0.507076</td>\n",
       "      <td>0.357058</td>\n",
       "      <td>-0.099123</td>\n",
       "    </tr>\n",
       "    <tr>\n",
       "      <th>350</th>\n",
       "      <td>-0.392217</td>\n",
       "      <td>1.405216</td>\n",
       "      <td>-1.093761</td>\n",
       "      <td>-0.263603</td>\n",
       "      <td>-1.031715</td>\n",
       "      <td>1.240447</td>\n",
       "      <td>-1.524854</td>\n",
       "      <td>1.316070</td>\n",
       "      <td>-0.502683</td>\n",
       "      <td>-0.022204</td>\n",
       "      <td>-1.473421</td>\n",
       "      <td>0.349573</td>\n",
       "      <td>-1.353990</td>\n",
       "    </tr>\n",
       "    <tr>\n",
       "      <th>351</th>\n",
       "      <td>-0.384504</td>\n",
       "      <td>-0.499979</td>\n",
       "      <td>-0.153031</td>\n",
       "      <td>-0.263603</td>\n",
       "      <td>-0.078816</td>\n",
       "      <td>-0.410014</td>\n",
       "      <td>0.485947</td>\n",
       "      <td>-0.491616</td>\n",
       "      <td>-0.387206</td>\n",
       "      <td>0.177384</td>\n",
       "      <td>-0.303127</td>\n",
       "      <td>0.396590</td>\n",
       "      <td>-0.302844</td>\n",
       "    </tr>\n",
       "    <tr>\n",
       "      <th>352</th>\n",
       "      <td>-0.375118</td>\n",
       "      <td>-0.499979</td>\n",
       "      <td>-0.596907</td>\n",
       "      <td>-0.263603</td>\n",
       "      <td>-0.936425</td>\n",
       "      <td>-0.397176</td>\n",
       "      <td>0.589523</td>\n",
       "      <td>0.933261</td>\n",
       "      <td>-0.733637</td>\n",
       "      <td>-0.990791</td>\n",
       "      <td>-0.258116</td>\n",
       "      <td>0.375888</td>\n",
       "      <td>0.899677</td>\n",
       "    </tr>\n",
       "    <tr>\n",
       "      <th>353</th>\n",
       "      <td>-0.385923</td>\n",
       "      <td>-0.499979</td>\n",
       "      <td>-1.006418</td>\n",
       "      <td>-0.263603</td>\n",
       "      <td>-0.399337</td>\n",
       "      <td>-1.050513</td>\n",
       "      <td>0.696670</td>\n",
       "      <td>-0.564894</td>\n",
       "      <td>-0.502683</td>\n",
       "      <td>-0.620967</td>\n",
       "      <td>-0.843263</td>\n",
       "      <td>0.424543</td>\n",
       "      <td>0.318223</td>\n",
       "    </tr>\n",
       "  </tbody>\n",
       "</table>\n",
       "<p>354 rows × 13 columns</p>\n",
       "</div>\n",
       "      <button class=\"colab-df-convert\" onclick=\"convertToInteractive('df-8f2d6f35-f2b7-4be6-9db5-bf8e4ec80376')\"\n",
       "              title=\"Convert this dataframe to an interactive table.\"\n",
       "              style=\"display:none;\">\n",
       "        \n",
       "  <svg xmlns=\"http://www.w3.org/2000/svg\" height=\"24px\"viewBox=\"0 0 24 24\"\n",
       "       width=\"24px\">\n",
       "    <path d=\"M0 0h24v24H0V0z\" fill=\"none\"/>\n",
       "    <path d=\"M18.56 5.44l.94 2.06.94-2.06 2.06-.94-2.06-.94-.94-2.06-.94 2.06-2.06.94zm-11 1L8.5 8.5l.94-2.06 2.06-.94-2.06-.94L8.5 2.5l-.94 2.06-2.06.94zm10 10l.94 2.06.94-2.06 2.06-.94-2.06-.94-.94-2.06-.94 2.06-2.06.94z\"/><path d=\"M17.41 7.96l-1.37-1.37c-.4-.4-.92-.59-1.43-.59-.52 0-1.04.2-1.43.59L10.3 9.45l-7.72 7.72c-.78.78-.78 2.05 0 2.83L4 21.41c.39.39.9.59 1.41.59.51 0 1.02-.2 1.41-.59l7.78-7.78 2.81-2.81c.8-.78.8-2.07 0-2.86zM5.41 20L4 18.59l7.72-7.72 1.47 1.35L5.41 20z\"/>\n",
       "  </svg>\n",
       "      </button>\n",
       "      \n",
       "  <style>\n",
       "    .colab-df-container {\n",
       "      display:flex;\n",
       "      flex-wrap:wrap;\n",
       "      gap: 12px;\n",
       "    }\n",
       "\n",
       "    .colab-df-convert {\n",
       "      background-color: #E8F0FE;\n",
       "      border: none;\n",
       "      border-radius: 50%;\n",
       "      cursor: pointer;\n",
       "      display: none;\n",
       "      fill: #1967D2;\n",
       "      height: 32px;\n",
       "      padding: 0 0 0 0;\n",
       "      width: 32px;\n",
       "    }\n",
       "\n",
       "    .colab-df-convert:hover {\n",
       "      background-color: #E2EBFA;\n",
       "      box-shadow: 0px 1px 2px rgba(60, 64, 67, 0.3), 0px 1px 3px 1px rgba(60, 64, 67, 0.15);\n",
       "      fill: #174EA6;\n",
       "    }\n",
       "\n",
       "    [theme=dark] .colab-df-convert {\n",
       "      background-color: #3B4455;\n",
       "      fill: #D2E3FC;\n",
       "    }\n",
       "\n",
       "    [theme=dark] .colab-df-convert:hover {\n",
       "      background-color: #434B5C;\n",
       "      box-shadow: 0px 1px 3px 1px rgba(0, 0, 0, 0.15);\n",
       "      filter: drop-shadow(0px 1px 2px rgba(0, 0, 0, 0.3));\n",
       "      fill: #FFFFFF;\n",
       "    }\n",
       "  </style>\n",
       "\n",
       "      <script>\n",
       "        const buttonEl =\n",
       "          document.querySelector('#df-8f2d6f35-f2b7-4be6-9db5-bf8e4ec80376 button.colab-df-convert');\n",
       "        buttonEl.style.display =\n",
       "          google.colab.kernel.accessAllowed ? 'block' : 'none';\n",
       "\n",
       "        async function convertToInteractive(key) {\n",
       "          const element = document.querySelector('#df-8f2d6f35-f2b7-4be6-9db5-bf8e4ec80376');\n",
       "          const dataTable =\n",
       "            await google.colab.kernel.invokeFunction('convertToInteractive',\n",
       "                                                     [key], {});\n",
       "          if (!dataTable) return;\n",
       "\n",
       "          const docLinkHtml = 'Like what you see? Visit the ' +\n",
       "            '<a target=\"_blank\" href=https://colab.research.google.com/notebooks/data_table.ipynb>data table notebook</a>'\n",
       "            + ' to learn more about interactive tables.';\n",
       "          element.innerHTML = '';\n",
       "          dataTable['output_type'] = 'display_data';\n",
       "          await google.colab.output.renderOutput(dataTable, element);\n",
       "          const docLink = document.createElement('div');\n",
       "          docLink.innerHTML = docLinkHtml;\n",
       "          element.appendChild(docLink);\n",
       "        }\n",
       "      </script>\n",
       "    </div>\n",
       "  </div>\n",
       "  "
      ],
      "text/plain": [
       "         CRIM        ZN     INDUS      CHAS       NOX        RM       AGE  \\\n",
       "0   -0.207356 -0.499979  1.548016 -0.263603  0.588213 -1.839367  1.107402   \n",
       "1   -0.388865  0.346774 -0.589747 -0.263603 -0.797821  0.327487 -0.367661   \n",
       "2   -0.335735 -0.499979  1.548016 -0.263603  0.588213  0.037907  1.043114   \n",
       "3   -0.394852  2.463658 -1.265584 -0.263603 -1.352235  0.052172 -1.746292   \n",
       "4   -0.391456 -0.499979  2.086394 -0.263603  0.215716 -0.495604  0.853820   \n",
       "..        ...       ...       ...       ...       ...       ...       ...   \n",
       "349 -0.368566 -0.499979 -0.529609 -0.263603 -0.546603 -0.856509  0.189506   \n",
       "350 -0.392217  1.405216 -1.093761 -0.263603 -1.031715  1.240447 -1.524854   \n",
       "351 -0.384504 -0.499979 -0.153031 -0.263603 -0.078816 -0.410014  0.485947   \n",
       "352 -0.375118 -0.499979 -0.596907 -0.263603 -0.936425 -0.397176  0.589523   \n",
       "353 -0.385923 -0.499979 -1.006418 -0.263603 -0.399337 -1.050513  0.696670   \n",
       "\n",
       "          DIS       RAD       TAX   PTRATIO         B     LSTAT  \n",
       "0   -1.125110 -0.618160  0.206735  1.227257  0.424543  3.108073  \n",
       "1    0.075090 -0.733637 -1.049493  0.056963  0.401853 -0.666430  \n",
       "2   -0.799984 -0.618160  0.206735  1.227257  0.398461  0.639367  \n",
       "3    1.968937 -0.502683 -0.257013 -1.653466  0.089342 -1.056896  \n",
       "4   -0.811511 -0.849114 -1.254951  0.282020  0.204545  0.776596  \n",
       "..        ...       ...       ...       ...       ...       ...  \n",
       "349  0.464292 -0.502683 -0.673799  0.507076  0.357058 -0.099123  \n",
       "350  1.316070 -0.502683 -0.022204 -1.473421  0.349573 -1.353990  \n",
       "351 -0.491616 -0.387206  0.177384 -0.303127  0.396590 -0.302844  \n",
       "352  0.933261 -0.733637 -0.990791 -0.258116  0.375888  0.899677  \n",
       "353 -0.564894 -0.502683 -0.620967 -0.843263  0.424543  0.318223  \n",
       "\n",
       "[354 rows x 13 columns]"
      ]
     },
     "execution_count": 16,
     "metadata": {},
     "output_type": "execute_result"
    }
   ],
   "source": [
    "pd.DataFrame(X_train, columns=data.feature_names)"
   ]
  },
  {
   "cell_type": "markdown",
   "id": "CEHMj_QFYlCz",
   "metadata": {
    "id": "CEHMj_QFYlCz"
   },
   "source": [
    "Сохраним экземпляр модели линейной регрессии в переменную model."
   ]
  },
  {
   "cell_type": "code",
   "execution_count": 17,
   "id": "oBf6j_I_AhrJ",
   "metadata": {
    "id": "oBf6j_I_AhrJ"
   },
   "outputs": [],
   "source": [
    "model = LinearRegression()"
   ]
  },
  {
   "cell_type": "markdown",
   "id": "b6d58YadLpI7",
   "metadata": {
    "id": "b6d58YadLpI7"
   },
   "source": [
    "Для обучения модели необходимо вызвать метод fit и передать в аргументах признаки, на которых модель должна обучиться, и правильные ответы"
   ]
  },
  {
   "cell_type": "code",
   "execution_count": 18,
   "id": "RnT9PQuwLpJA",
   "metadata": {
    "colab": {
     "base_uri": "https://localhost:8080/"
    },
    "id": "RnT9PQuwLpJA",
    "outputId": "31f23bf1-6a9f-4824-fb55-4c82d0e52c57"
   },
   "outputs": [
    {
     "data": {
      "text/plain": [
       "LinearRegression()"
      ]
     },
     "execution_count": 18,
     "metadata": {},
     "output_type": "execute_result"
    }
   ],
   "source": [
    "model.fit(X_train, y_train)"
   ]
  },
  {
   "cell_type": "markdown",
   "id": "WtI6ShVILpJA",
   "metadata": {
    "id": "WtI6ShVILpJA"
   },
   "source": [
    "Для получения предсказаний модели на тестовой выборке необходимо вызвать метод predict и передать признаки тестовой выборки. Предсказания модели сохраним в переменную y_pred и выведем на экран"
   ]
  },
  {
   "cell_type": "code",
   "execution_count": 19,
   "id": "DY9RX-_eLpJA",
   "metadata": {
    "colab": {
     "base_uri": "https://localhost:8080/"
    },
    "id": "DY9RX-_eLpJA",
    "outputId": "6b8db438-8b23-4242-9114-9ffdd1c3de9d"
   },
   "outputs": [
    {
     "data": {
      "text/plain": [
       "array([24.9357079 , 23.75163164, 29.32638296, 11.97534566, 21.37272478,\n",
       "       19.19148525, 20.5717479 , 21.21154015, 19.04572003, 20.35463238,\n",
       "        5.44119126, 16.93688709, 17.15482272,  5.3928209 , 40.20270696,\n",
       "       32.31327348, 22.46213268, 36.50124666, 31.03737014, 23.17124551,\n",
       "       24.74815321, 24.49939403, 20.6595791 , 30.4547583 , 22.32487164,\n",
       "       10.18932894, 17.44286422, 18.26103077, 35.63299326, 20.81960303,\n",
       "       18.27218007, 17.72047628, 19.33772473, 23.62254823, 28.97766856,\n",
       "       19.45036239, 11.13170639, 24.81843595, 18.05294835, 15.59712226,\n",
       "       26.21043403, 20.81140432, 22.17349382, 15.48367365, 22.62261604,\n",
       "       24.88561528, 19.74754478, 23.0465628 ,  9.84579105, 24.36378793,\n",
       "       21.47849008, 17.62118176, 24.39160873, 29.95102691, 13.57219422,\n",
       "       21.53645439, 20.53306273, 15.03433182, 14.3232289 , 22.11929299,\n",
       "       17.07321915, 21.54141094, 32.96766968, 31.371599  , 17.7860591 ,\n",
       "       32.75069556, 18.74795323, 19.21428022, 19.41970047, 23.08087809,\n",
       "       22.87732816, 24.06399098, 30.52824406, 28.71453508, 25.90763165,\n",
       "        5.17596718, 36.8709072 , 23.76983849, 27.26064379, 19.25849042,\n",
       "       28.41860517, 19.3008798 , 18.94922353, 38.00154059, 39.44096748,\n",
       "       23.72297885, 24.83722534, 16.52015743, 25.9970546 , 16.73997072,\n",
       "       15.48656983, 13.52825536, 24.12884363, 30.76919578, 22.18731163,\n",
       "       19.8848644 ,  0.42275479, 24.86785849, 16.05692   , 17.42486412,\n",
       "       25.49798527, 22.35171315, 32.66562689, 22.04428746, 27.29799885,\n",
       "       23.20302026,  6.86196574, 14.869251  , 22.31804948, 29.18125768,\n",
       "       33.22568234, 13.24392523, 19.67195771, 20.7502616 , 12.02271319,\n",
       "       23.50067006,  5.55662571, 19.87634689,  9.27059783, 44.81787339,\n",
       "       30.56017983, 12.44394048, 17.33192202, 21.48313292, 23.52664913,\n",
       "       20.49877266, 35.09161099, 13.22639935, 20.70321163, 35.35582833,\n",
       "       19.45050576, 13.81603561, 14.15654562, 23.03678503, 15.07521258,\n",
       "       30.9662041 , 25.23236632, 15.43763716, 24.06406534,  9.93080346,\n",
       "       15.01618901, 21.06098873, 32.87115732, 27.80927747, 25.91293794,\n",
       "       15.27877362, 30.97489404, 27.81107682, 14.5068157 ,  7.57369946,\n",
       "       28.3348068 , 25.04341153])"
      ]
     },
     "execution_count": 19,
     "metadata": {},
     "output_type": "execute_result"
    }
   ],
   "source": [
    "y_pred = model.predict(X_test)\n",
    "y_pred"
   ]
  },
  {
   "cell_type": "markdown",
   "id": "0LiPbhTQMQTX",
   "metadata": {
    "id": "0LiPbhTQMQTX"
   },
   "source": [
    "### Модель линейной регрессии"
   ]
  },
  {
   "cell_type": "markdown",
   "id": "E8NZAV-bMQTY",
   "metadata": {
    "id": "E8NZAV-bMQTY"
   },
   "source": [
    "В модели линейной регрессии предсказание записывается в виде линейной функции признаков:\n",
    "\n",
    "$$\n",
    "y = w_1 \\cdot x_1 + w_2 \\cdot x_2 + ... + w_n \\cdot x_n + w_0\n",
    "$$\n",
    "где y - целевая переменная (таргет),\n",
    "\n",
    "(x_1, x_2, ..., x_n) - вектор, соответствующий объекту выборки (вектор признаков),\n",
    "\n",
    "(w_1, w_2, ..., w_n) - параметры модели (вектор весов),\n",
    "\n",
    "w_0 - свободный коэффициент (сдвиг)."
   ]
  },
  {
   "cell_type": "markdown",
   "id": "-LVhziy6MQTY",
   "metadata": {
    "id": "-LVhziy6MQTY"
   },
   "source": [
    "Более компактно линейную модель можно записать в виде:\n",
    "$$\n",
    "y = (X, w) + w_0\n",
    "$$\n",
    "где y - вектор целевой переменной,\n",
    "\n",
    "(X, w) - скалярное произведение вектора весов на матрицу признаков,\n",
    "\n",
    "w_0 - свободный коэффициент (сдвиг)."
   ]
  },
  {
   "cell_type": "markdown",
   "id": "nzdxxUlUMQTY",
   "metadata": {
    "id": "nzdxxUlUMQTY"
   },
   "source": [
    "Обучение модели линейной регрессии сводится к поиску весов, при которых достигается минимум функции потерь (ошибки модели минимальны). Вектор весов, при которых ошибки минимальны, вычисляется следующим образом:\n",
    "$$\n",
    "w = (X^{T}X)^{-1}X^{T}y\n",
    "$$"
   ]
  },
  {
   "cell_type": "markdown",
   "id": "z2VjbaroMQTY",
   "metadata": {
    "id": "z2VjbaroMQTY"
   },
   "source": [
    "Создадим класс модели линейной регрессии с методами fit для обучения на обучающей выборке и predict для получения предсказаний на тестовой выборке."
   ]
  },
  {
   "cell_type": "code",
   "execution_count": 20,
   "id": "wxzyQHbZMQTY",
   "metadata": {
    "id": "wxzyQHbZMQTY"
   },
   "outputs": [],
   "source": [
    "class LinearRegression:\n",
    "    def fit(self, train_features, train_target):\n",
    "        X = np.concatenate((np.ones((train_features.shape[0], 1)), train_features), axis=1)\n",
    "        y = train_target\n",
    "        w = np.linalg.inv(X.T @ X) @ (X.T) @ y\n",
    "        self.w = w[1:]\n",
    "        self.w0 = w[0]\n",
    "\n",
    "    def predict(self, test_features):\n",
    "        return test_features.dot(self.w) + self.w0"
   ]
  },
  {
   "cell_type": "markdown",
   "id": "XEnwlMm9MQTY",
   "metadata": {
    "id": "XEnwlMm9MQTY"
   },
   "source": [
    "Чтобы каждый раз не тратить время на создание простых моделей, инженеры машинного обучения используют классы моделей из библиотеки sklearn."
   ]
  },
  {
   "cell_type": "markdown",
   "id": "bKQIFsKbovh8",
   "metadata": {
    "id": "bKQIFsKbovh8"
   },
   "source": [
    "### Оценка качества модели в задачах регрессии"
   ]
  },
  {
   "cell_type": "markdown",
   "id": "GO49xPWmpnwP",
   "metadata": {
    "id": "GO49xPWmpnwP"
   },
   "source": [
    "Наиболее типичными мерами качества в задачах регрессии являются:\n",
    "- MSE (Mean Squared Error, Средняя квадратичная ошибка)\n",
    "- MAE (Mean Absolute Error, Средняя абсолютная ошибка)\n",
    "- R2 (Коэффициент детерминации)\n",
    "- MAPE (Mean Absolute Percentage Error, Средняя абсолютная процентная ошибка)\n",
    "- RMSE (Root Mean Squared Error, Корень из средней квадратичной ошибки)"
   ]
  },
  {
   "cell_type": "markdown",
   "id": "VwglYmN8DVsm",
   "metadata": {
    "id": "VwglYmN8DVsm"
   },
   "source": [
    "#### MSE (Средняя квадратичная ошибка)\n",
    "$$\n",
    "MSE = \\frac{1}{N} \\sum_{i=1}^{N} (y_{true\\;i} - y_{pred\\;i})^{2}\n",
    "$$"
   ]
  },
  {
   "cell_type": "markdown",
   "id": "x1qFijaOr3g9",
   "metadata": {
    "id": "x1qFijaOr3g9"
   },
   "source": [
    "MSE применяется в ситуациях, когда необходимо подчеркнуть большие ошибки и выбрать модель, которая дает меньше больших ошибок прогноза. Грубые ошибки становятся заметнее за счет того, что ошибка прогноза возводится в квадрат.Среднеквадратичная ошибка подходит для сравнения моделей или для контроля качества во время обучения, но не позволяет сделать выводов насколько хорошо данная модель решает задачу."
   ]
  },
  {
   "cell_type": "code",
   "execution_count": 21,
   "id": "hu18ia-OA3Zg",
   "metadata": {
    "colab": {
     "base_uri": "https://localhost:8080/"
    },
    "id": "hu18ia-OA3Zg",
    "outputId": "5e89d8ed-9a5e-4ac8-d08e-bd5a7dcbd0a5"
   },
   "outputs": [
    {
     "data": {
      "text/plain": [
       "27.195965766883212"
      ]
     },
     "execution_count": 21,
     "metadata": {},
     "output_type": "execute_result"
    }
   ],
   "source": [
    "mean_squared_error(y_test, y_pred)"
   ]
  },
  {
   "cell_type": "markdown",
   "id": "3Z9A3EFwsJUw",
   "metadata": {
    "id": "3Z9A3EFwsJUw"
   },
   "source": [
    "#### MAE (Средняя абсолютная ошибка)\n",
    "$$\n",
    "MAE = \\frac{1}{N} \\sum_{i=1}^{N} |y_{true\\;i} - y_{pred\\;i}|\n",
    "$$"
   ]
  },
  {
   "cell_type": "markdown",
   "id": "RG6M2xRdsaAB",
   "metadata": {
    "id": "RG6M2xRdsaAB"
   },
   "source": [
    "Функция среднеабсолютной ошибки меньше штрафует за большие отклонения по сравнению со среднеквадратичной ошибкой и поэтому менее чувствительна к выбросам."
   ]
  },
  {
   "cell_type": "code",
   "execution_count": 22,
   "id": "wi9aL6rwsT8h",
   "metadata": {
    "colab": {
     "base_uri": "https://localhost:8080/"
    },
    "id": "wi9aL6rwsT8h",
    "outputId": "1c483f86-c641-458c-c04a-5e37341c6fc5"
   },
   "outputs": [
    {
     "data": {
      "text/plain": [
       "3.6099040603818127"
      ]
     },
     "execution_count": 22,
     "metadata": {},
     "output_type": "execute_result"
    }
   ],
   "source": [
    "mean_absolute_error(y_test, y_pred)"
   ]
  },
  {
   "cell_type": "markdown",
   "id": "8tG2YPI0s9vL",
   "metadata": {
    "id": "8tG2YPI0s9vL"
   },
   "source": [
    "#### R2 (Коэффициент детерминации)\n",
    "$$\n",
    "R^{2} = 1 - \\frac{\\sum_{i=1}^{N} (y_{true\\;i} - y_{pred\\;i})^{2}}{\\sum_{i=1}^{N} (y_{true\\;i} - \\bar{y})^{2}}\n",
    "$$"
   ]
  },
  {
   "cell_type": "markdown",
   "id": "C0eK2haYuYUQ",
   "metadata": {
    "id": "C0eK2haYuYUQ"
   },
   "source": [
    "Коэффициент детерминации измеряет долю дисперсии, объясненную моделью, в общей дисперсии целевой переменной. Фактически, данная мера качества — это нормированная среднеквадратичная ошибка. Если она близка к единице, то модель хорошо объясняет данные, если же она близка к нулю, то прогнозы сопоставимы по качеству с константным предсказанием."
   ]
  },
  {
   "cell_type": "code",
   "execution_count": 23,
   "id": "jjWkuTwZJx-z",
   "metadata": {
    "colab": {
     "base_uri": "https://localhost:8080/"
    },
    "id": "jjWkuTwZJx-z",
    "outputId": "35aa9f71-18ae-4396-efba-afa3efef0326"
   },
   "outputs": [
    {
     "data": {
      "text/plain": [
       "0.6733825506400195"
      ]
     },
     "execution_count": 23,
     "metadata": {},
     "output_type": "execute_result"
    }
   ],
   "source": [
    "r2_score(y_test, y_pred)"
   ]
  },
  {
   "cell_type": "markdown",
   "id": "HLA4fze9w6q2",
   "metadata": {
    "id": "HLA4fze9w6q2"
   },
   "source": [
    "#### MAPE (Средняя абсолютная процентная ошибка)\n",
    "$$\n",
    "MAPE = \\frac{1}{N} \\sum_{i=1}^{N} \\frac{|y_{true\\;i} - y_{pred\\;i}|}{|y_{true\\;i}|} \\cdot 100\\%\n",
    "$$"
   ]
  },
  {
   "cell_type": "markdown",
   "id": "AL7HPX0ryfiG",
   "metadata": {
    "id": "AL7HPX0ryfiG"
   },
   "source": [
    "Коэффициент, не имеющий размерности, с очень простой интерпретацией. Его можно измерять в долях или процентах. Если у вас получилось, например, что MAPE=11.4%, то это говорит о том, что ошибка составила 11,4% от фактических значений. Основная проблема данной ошибки — нестабильность."
   ]
  },
  {
   "cell_type": "code",
   "execution_count": 24,
   "id": "QuKqb_vNKXyT",
   "metadata": {
    "colab": {
     "base_uri": "https://localhost:8080/"
    },
    "id": "QuKqb_vNKXyT",
    "outputId": "8026fabe-41b5-4302-b279-c2abb2d95ffb"
   },
   "outputs": [
    {
     "data": {
      "text/plain": [
       "0.1811804728842403"
      ]
     },
     "execution_count": 24,
     "metadata": {},
     "output_type": "execute_result"
    }
   ],
   "source": [
    "mean_absolute_percentage_error(y_test, y_pred)"
   ]
  },
  {
   "cell_type": "markdown",
   "id": "zhgK_D_oyqjk",
   "metadata": {
    "id": "zhgK_D_oyqjk"
   },
   "source": [
    "#### RMSE (Корень из средней квадратичной ошибки)\n",
    "$$\n",
    "RMSE = \\sqrt{MSE} = \\sqrt{\\frac{1}{N} \\sum_{i=1}^{N} (y_{true\\;i} - y_{pred\\;i})^{2}}\n",
    "$$"
   ]
  },
  {
   "cell_type": "markdown",
   "id": "ZAwBgJHrzhX0",
   "metadata": {
    "id": "ZAwBgJHrzhX0"
   },
   "source": [
    "Чтобы ошибка MSE имела размерность исходных данных, из нее извлекают квадратный корень и получают показатель RMSE. Примерно такая же проблема, как и в MAPE: так как каждое отклонение возводится в квадрат, любое небольшое отклонение может значительно повлиять на показатель ошибки."
   ]
  },
  {
   "cell_type": "code",
   "execution_count": 25,
   "id": "UFNah0qKJa9d",
   "metadata": {
    "colab": {
     "base_uri": "https://localhost:8080/"
    },
    "id": "UFNah0qKJa9d",
    "outputId": "b1f3596c-c3a1-4149-d0ce-93e7d596c909"
   },
   "outputs": [
    {
     "data": {
      "text/plain": [
       "5.214975145375403"
      ]
     },
     "execution_count": 25,
     "metadata": {},
     "output_type": "execute_result"
    }
   ],
   "source": [
    "mean_squared_error(y_test, y_pred)**0.5"
   ]
  },
  {
   "cell_type": "markdown",
   "id": "oHWQDYKTnIXM",
   "metadata": {
    "id": "oHWQDYKTnIXM"
   },
   "source": [
    "## Задача классификации"
   ]
  },
  {
   "cell_type": "markdown",
   "id": "QezZUjaxqzra",
   "metadata": {
    "id": "QezZUjaxqzra"
   },
   "source": [
    "Задача: предсказать рак молочной железы у пациентов (категориальную переменную)\n",
    "\n",
    "У пациентов с злокачественной опухолью (рак есть) метка 1, у пациентов с доброкачественной опухолью (рака нет) метка 0"
   ]
  },
  {
   "cell_type": "markdown",
   "id": "1iwa1RYpN6Sv",
   "metadata": {
    "id": "1iwa1RYpN6Sv"
   },
   "source": [
    "Импортируем датасет load_breast_cancer из библиотеки sklearn"
   ]
  },
  {
   "cell_type": "code",
   "execution_count": 26,
   "id": "uJf3x6VcnInZ",
   "metadata": {
    "id": "uJf3x6VcnInZ"
   },
   "outputs": [],
   "source": [
    "from sklearn.datasets import load_breast_cancer"
   ]
  },
  {
   "cell_type": "markdown",
   "id": "LXo5E1inN_SX",
   "metadata": {
    "id": "LXo5E1inN_SX"
   },
   "source": [
    "Сохраним датасет в переменную data"
   ]
  },
  {
   "cell_type": "code",
   "execution_count": 27,
   "id": "9yZ8hCWtnhCT",
   "metadata": {
    "id": "9yZ8hCWtnhCT"
   },
   "outputs": [],
   "source": [
    "data = load_breast_cancer()"
   ]
  },
  {
   "cell_type": "markdown",
   "id": "mVhTJO8nOJ2_",
   "metadata": {
    "id": "mVhTJO8nOJ2_"
   },
   "source": [
    "Выведем описание датасета"
   ]
  },
  {
   "cell_type": "code",
   "execution_count": 28,
   "id": "dfjeifSUnrG8",
   "metadata": {
    "colab": {
     "base_uri": "https://localhost:8080/"
    },
    "id": "dfjeifSUnrG8",
    "outputId": "e7661f9f-e0fa-48ff-998d-5e357441e97a"
   },
   "outputs": [
    {
     "name": "stdout",
     "output_type": "stream",
     "text": [
      ".. _breast_cancer_dataset:\n",
      "\n",
      "Breast cancer wisconsin (diagnostic) dataset\n",
      "--------------------------------------------\n",
      "\n",
      "**Data Set Characteristics:**\n",
      "\n",
      "    :Number of Instances: 569\n",
      "\n",
      "    :Number of Attributes: 30 numeric, predictive attributes and the class\n",
      "\n",
      "    :Attribute Information:\n",
      "        - radius (mean of distances from center to points on the perimeter)\n",
      "        - texture (standard deviation of gray-scale values)\n",
      "        - perimeter\n",
      "        - area\n",
      "        - smoothness (local variation in radius lengths)\n",
      "        - compactness (perimeter^2 / area - 1.0)\n",
      "        - concavity (severity of concave portions of the contour)\n",
      "        - concave points (number of concave portions of the contour)\n",
      "        - symmetry\n",
      "        - fractal dimension (\"coastline approximation\" - 1)\n",
      "\n",
      "        The mean, standard error, and \"worst\" or largest (mean of the three\n",
      "        worst/largest values) of these features were computed for each image,\n",
      "        resulting in 30 features.  For instance, field 0 is Mean Radius, field\n",
      "        10 is Radius SE, field 20 is Worst Radius.\n",
      "\n",
      "        - class:\n",
      "                - WDBC-Malignant\n",
      "                - WDBC-Benign\n",
      "\n",
      "    :Summary Statistics:\n",
      "\n",
      "    ===================================== ====== ======\n",
      "                                           Min    Max\n",
      "    ===================================== ====== ======\n",
      "    radius (mean):                        6.981  28.11\n",
      "    texture (mean):                       9.71   39.28\n",
      "    perimeter (mean):                     43.79  188.5\n",
      "    area (mean):                          143.5  2501.0\n",
      "    smoothness (mean):                    0.053  0.163\n",
      "    compactness (mean):                   0.019  0.345\n",
      "    concavity (mean):                     0.0    0.427\n",
      "    concave points (mean):                0.0    0.201\n",
      "    symmetry (mean):                      0.106  0.304\n",
      "    fractal dimension (mean):             0.05   0.097\n",
      "    radius (standard error):              0.112  2.873\n",
      "    texture (standard error):             0.36   4.885\n",
      "    perimeter (standard error):           0.757  21.98\n",
      "    area (standard error):                6.802  542.2\n",
      "    smoothness (standard error):          0.002  0.031\n",
      "    compactness (standard error):         0.002  0.135\n",
      "    concavity (standard error):           0.0    0.396\n",
      "    concave points (standard error):      0.0    0.053\n",
      "    symmetry (standard error):            0.008  0.079\n",
      "    fractal dimension (standard error):   0.001  0.03\n",
      "    radius (worst):                       7.93   36.04\n",
      "    texture (worst):                      12.02  49.54\n",
      "    perimeter (worst):                    50.41  251.2\n",
      "    area (worst):                         185.2  4254.0\n",
      "    smoothness (worst):                   0.071  0.223\n",
      "    compactness (worst):                  0.027  1.058\n",
      "    concavity (worst):                    0.0    1.252\n",
      "    concave points (worst):               0.0    0.291\n",
      "    symmetry (worst):                     0.156  0.664\n",
      "    fractal dimension (worst):            0.055  0.208\n",
      "    ===================================== ====== ======\n",
      "\n",
      "    :Missing Attribute Values: None\n",
      "\n",
      "    :Class Distribution: 212 - Malignant, 357 - Benign\n",
      "\n",
      "    :Creator:  Dr. William H. Wolberg, W. Nick Street, Olvi L. Mangasarian\n",
      "\n",
      "    :Donor: Nick Street\n",
      "\n",
      "    :Date: November, 1995\n",
      "\n",
      "This is a copy of UCI ML Breast Cancer Wisconsin (Diagnostic) datasets.\n",
      "https://goo.gl/U2Uwz2\n",
      "\n",
      "Features are computed from a digitized image of a fine needle\n",
      "aspirate (FNA) of a breast mass.  They describe\n",
      "characteristics of the cell nuclei present in the image.\n",
      "\n",
      "Separating plane described above was obtained using\n",
      "Multisurface Method-Tree (MSM-T) [K. P. Bennett, \"Decision Tree\n",
      "Construction Via Linear Programming.\" Proceedings of the 4th\n",
      "Midwest Artificial Intelligence and Cognitive Science Society,\n",
      "pp. 97-101, 1992], a classification method which uses linear\n",
      "programming to construct a decision tree.  Relevant features\n",
      "were selected using an exhaustive search in the space of 1-4\n",
      "features and 1-3 separating planes.\n",
      "\n",
      "The actual linear program used to obtain the separating plane\n",
      "in the 3-dimensional space is that described in:\n",
      "[K. P. Bennett and O. L. Mangasarian: \"Robust Linear\n",
      "Programming Discrimination of Two Linearly Inseparable Sets\",\n",
      "Optimization Methods and Software 1, 1992, 23-34].\n",
      "\n",
      "This database is also available through the UW CS ftp server:\n",
      "\n",
      "ftp ftp.cs.wisc.edu\n",
      "cd math-prog/cpo-dataset/machine-learn/WDBC/\n",
      "\n",
      ".. topic:: References\n",
      "\n",
      "   - W.N. Street, W.H. Wolberg and O.L. Mangasarian. Nuclear feature extraction \n",
      "     for breast tumor diagnosis. IS&T/SPIE 1993 International Symposium on \n",
      "     Electronic Imaging: Science and Technology, volume 1905, pages 861-870,\n",
      "     San Jose, CA, 1993.\n",
      "   - O.L. Mangasarian, W.N. Street and W.H. Wolberg. Breast cancer diagnosis and \n",
      "     prognosis via linear programming. Operations Research, 43(4), pages 570-577, \n",
      "     July-August 1995.\n",
      "   - W.H. Wolberg, W.N. Street, and O.L. Mangasarian. Machine learning techniques\n",
      "     to diagnose breast cancer from fine-needle aspirates. Cancer Letters 77 (1994) \n",
      "     163-171.\n"
     ]
    }
   ],
   "source": [
    "print(data.DESCR)"
   ]
  },
  {
   "cell_type": "markdown",
   "id": "RCiIAI0nOr2g",
   "metadata": {
    "id": "RCiIAI0nOr2g"
   },
   "source": [
    "Объединим матрицу признаков и вектор целевой переменной в один датафрейм"
   ]
  },
  {
   "cell_type": "code",
   "execution_count": 29,
   "id": "-d-QZ49YoGcV",
   "metadata": {
    "id": "-d-QZ49YoGcV"
   },
   "outputs": [],
   "source": [
    "df = pd.DataFrame(data.data, columns=data.feature_names)\n",
    "df['target'] = data.target"
   ]
  },
  {
   "cell_type": "markdown",
   "id": "d-gRcmhZOxAl",
   "metadata": {
    "id": "d-gRcmhZOxAl"
   },
   "source": [
    "Выведем первые 10 строк"
   ]
  },
  {
   "cell_type": "code",
   "execution_count": 30,
   "id": "iXJVEwOxoj8v",
   "metadata": {
    "colab": {
     "base_uri": "https://localhost:8080/",
     "height": 491
    },
    "id": "iXJVEwOxoj8v",
    "outputId": "66d513ef-409c-47c9-b678-3111083a8ec9"
   },
   "outputs": [
    {
     "data": {
      "text/html": [
       "\n",
       "  <div id=\"df-fba33151-ce27-429b-a4c4-d616c84fe3a8\">\n",
       "    <div class=\"colab-df-container\">\n",
       "      <div>\n",
       "<style scoped>\n",
       "    .dataframe tbody tr th:only-of-type {\n",
       "        vertical-align: middle;\n",
       "    }\n",
       "\n",
       "    .dataframe tbody tr th {\n",
       "        vertical-align: top;\n",
       "    }\n",
       "\n",
       "    .dataframe thead th {\n",
       "        text-align: right;\n",
       "    }\n",
       "</style>\n",
       "<table border=\"1\" class=\"dataframe\">\n",
       "  <thead>\n",
       "    <tr style=\"text-align: right;\">\n",
       "      <th></th>\n",
       "      <th>mean radius</th>\n",
       "      <th>mean texture</th>\n",
       "      <th>mean perimeter</th>\n",
       "      <th>mean area</th>\n",
       "      <th>mean smoothness</th>\n",
       "      <th>mean compactness</th>\n",
       "      <th>mean concavity</th>\n",
       "      <th>mean concave points</th>\n",
       "      <th>mean symmetry</th>\n",
       "      <th>mean fractal dimension</th>\n",
       "      <th>...</th>\n",
       "      <th>worst texture</th>\n",
       "      <th>worst perimeter</th>\n",
       "      <th>worst area</th>\n",
       "      <th>worst smoothness</th>\n",
       "      <th>worst compactness</th>\n",
       "      <th>worst concavity</th>\n",
       "      <th>worst concave points</th>\n",
       "      <th>worst symmetry</th>\n",
       "      <th>worst fractal dimension</th>\n",
       "      <th>target</th>\n",
       "    </tr>\n",
       "  </thead>\n",
       "  <tbody>\n",
       "    <tr>\n",
       "      <th>0</th>\n",
       "      <td>17.99</td>\n",
       "      <td>10.38</td>\n",
       "      <td>122.80</td>\n",
       "      <td>1001.0</td>\n",
       "      <td>0.11840</td>\n",
       "      <td>0.27760</td>\n",
       "      <td>0.30010</td>\n",
       "      <td>0.14710</td>\n",
       "      <td>0.2419</td>\n",
       "      <td>0.07871</td>\n",
       "      <td>...</td>\n",
       "      <td>17.33</td>\n",
       "      <td>184.60</td>\n",
       "      <td>2019.0</td>\n",
       "      <td>0.1622</td>\n",
       "      <td>0.6656</td>\n",
       "      <td>0.7119</td>\n",
       "      <td>0.2654</td>\n",
       "      <td>0.4601</td>\n",
       "      <td>0.11890</td>\n",
       "      <td>0</td>\n",
       "    </tr>\n",
       "    <tr>\n",
       "      <th>1</th>\n",
       "      <td>20.57</td>\n",
       "      <td>17.77</td>\n",
       "      <td>132.90</td>\n",
       "      <td>1326.0</td>\n",
       "      <td>0.08474</td>\n",
       "      <td>0.07864</td>\n",
       "      <td>0.08690</td>\n",
       "      <td>0.07017</td>\n",
       "      <td>0.1812</td>\n",
       "      <td>0.05667</td>\n",
       "      <td>...</td>\n",
       "      <td>23.41</td>\n",
       "      <td>158.80</td>\n",
       "      <td>1956.0</td>\n",
       "      <td>0.1238</td>\n",
       "      <td>0.1866</td>\n",
       "      <td>0.2416</td>\n",
       "      <td>0.1860</td>\n",
       "      <td>0.2750</td>\n",
       "      <td>0.08902</td>\n",
       "      <td>0</td>\n",
       "    </tr>\n",
       "    <tr>\n",
       "      <th>2</th>\n",
       "      <td>19.69</td>\n",
       "      <td>21.25</td>\n",
       "      <td>130.00</td>\n",
       "      <td>1203.0</td>\n",
       "      <td>0.10960</td>\n",
       "      <td>0.15990</td>\n",
       "      <td>0.19740</td>\n",
       "      <td>0.12790</td>\n",
       "      <td>0.2069</td>\n",
       "      <td>0.05999</td>\n",
       "      <td>...</td>\n",
       "      <td>25.53</td>\n",
       "      <td>152.50</td>\n",
       "      <td>1709.0</td>\n",
       "      <td>0.1444</td>\n",
       "      <td>0.4245</td>\n",
       "      <td>0.4504</td>\n",
       "      <td>0.2430</td>\n",
       "      <td>0.3613</td>\n",
       "      <td>0.08758</td>\n",
       "      <td>0</td>\n",
       "    </tr>\n",
       "    <tr>\n",
       "      <th>3</th>\n",
       "      <td>11.42</td>\n",
       "      <td>20.38</td>\n",
       "      <td>77.58</td>\n",
       "      <td>386.1</td>\n",
       "      <td>0.14250</td>\n",
       "      <td>0.28390</td>\n",
       "      <td>0.24140</td>\n",
       "      <td>0.10520</td>\n",
       "      <td>0.2597</td>\n",
       "      <td>0.09744</td>\n",
       "      <td>...</td>\n",
       "      <td>26.50</td>\n",
       "      <td>98.87</td>\n",
       "      <td>567.7</td>\n",
       "      <td>0.2098</td>\n",
       "      <td>0.8663</td>\n",
       "      <td>0.6869</td>\n",
       "      <td>0.2575</td>\n",
       "      <td>0.6638</td>\n",
       "      <td>0.17300</td>\n",
       "      <td>0</td>\n",
       "    </tr>\n",
       "    <tr>\n",
       "      <th>4</th>\n",
       "      <td>20.29</td>\n",
       "      <td>14.34</td>\n",
       "      <td>135.10</td>\n",
       "      <td>1297.0</td>\n",
       "      <td>0.10030</td>\n",
       "      <td>0.13280</td>\n",
       "      <td>0.19800</td>\n",
       "      <td>0.10430</td>\n",
       "      <td>0.1809</td>\n",
       "      <td>0.05883</td>\n",
       "      <td>...</td>\n",
       "      <td>16.67</td>\n",
       "      <td>152.20</td>\n",
       "      <td>1575.0</td>\n",
       "      <td>0.1374</td>\n",
       "      <td>0.2050</td>\n",
       "      <td>0.4000</td>\n",
       "      <td>0.1625</td>\n",
       "      <td>0.2364</td>\n",
       "      <td>0.07678</td>\n",
       "      <td>0</td>\n",
       "    </tr>\n",
       "    <tr>\n",
       "      <th>5</th>\n",
       "      <td>12.45</td>\n",
       "      <td>15.70</td>\n",
       "      <td>82.57</td>\n",
       "      <td>477.1</td>\n",
       "      <td>0.12780</td>\n",
       "      <td>0.17000</td>\n",
       "      <td>0.15780</td>\n",
       "      <td>0.08089</td>\n",
       "      <td>0.2087</td>\n",
       "      <td>0.07613</td>\n",
       "      <td>...</td>\n",
       "      <td>23.75</td>\n",
       "      <td>103.40</td>\n",
       "      <td>741.6</td>\n",
       "      <td>0.1791</td>\n",
       "      <td>0.5249</td>\n",
       "      <td>0.5355</td>\n",
       "      <td>0.1741</td>\n",
       "      <td>0.3985</td>\n",
       "      <td>0.12440</td>\n",
       "      <td>0</td>\n",
       "    </tr>\n",
       "    <tr>\n",
       "      <th>6</th>\n",
       "      <td>18.25</td>\n",
       "      <td>19.98</td>\n",
       "      <td>119.60</td>\n",
       "      <td>1040.0</td>\n",
       "      <td>0.09463</td>\n",
       "      <td>0.10900</td>\n",
       "      <td>0.11270</td>\n",
       "      <td>0.07400</td>\n",
       "      <td>0.1794</td>\n",
       "      <td>0.05742</td>\n",
       "      <td>...</td>\n",
       "      <td>27.66</td>\n",
       "      <td>153.20</td>\n",
       "      <td>1606.0</td>\n",
       "      <td>0.1442</td>\n",
       "      <td>0.2576</td>\n",
       "      <td>0.3784</td>\n",
       "      <td>0.1932</td>\n",
       "      <td>0.3063</td>\n",
       "      <td>0.08368</td>\n",
       "      <td>0</td>\n",
       "    </tr>\n",
       "    <tr>\n",
       "      <th>7</th>\n",
       "      <td>13.71</td>\n",
       "      <td>20.83</td>\n",
       "      <td>90.20</td>\n",
       "      <td>577.9</td>\n",
       "      <td>0.11890</td>\n",
       "      <td>0.16450</td>\n",
       "      <td>0.09366</td>\n",
       "      <td>0.05985</td>\n",
       "      <td>0.2196</td>\n",
       "      <td>0.07451</td>\n",
       "      <td>...</td>\n",
       "      <td>28.14</td>\n",
       "      <td>110.60</td>\n",
       "      <td>897.0</td>\n",
       "      <td>0.1654</td>\n",
       "      <td>0.3682</td>\n",
       "      <td>0.2678</td>\n",
       "      <td>0.1556</td>\n",
       "      <td>0.3196</td>\n",
       "      <td>0.11510</td>\n",
       "      <td>0</td>\n",
       "    </tr>\n",
       "    <tr>\n",
       "      <th>8</th>\n",
       "      <td>13.00</td>\n",
       "      <td>21.82</td>\n",
       "      <td>87.50</td>\n",
       "      <td>519.8</td>\n",
       "      <td>0.12730</td>\n",
       "      <td>0.19320</td>\n",
       "      <td>0.18590</td>\n",
       "      <td>0.09353</td>\n",
       "      <td>0.2350</td>\n",
       "      <td>0.07389</td>\n",
       "      <td>...</td>\n",
       "      <td>30.73</td>\n",
       "      <td>106.20</td>\n",
       "      <td>739.3</td>\n",
       "      <td>0.1703</td>\n",
       "      <td>0.5401</td>\n",
       "      <td>0.5390</td>\n",
       "      <td>0.2060</td>\n",
       "      <td>0.4378</td>\n",
       "      <td>0.10720</td>\n",
       "      <td>0</td>\n",
       "    </tr>\n",
       "    <tr>\n",
       "      <th>9</th>\n",
       "      <td>12.46</td>\n",
       "      <td>24.04</td>\n",
       "      <td>83.97</td>\n",
       "      <td>475.9</td>\n",
       "      <td>0.11860</td>\n",
       "      <td>0.23960</td>\n",
       "      <td>0.22730</td>\n",
       "      <td>0.08543</td>\n",
       "      <td>0.2030</td>\n",
       "      <td>0.08243</td>\n",
       "      <td>...</td>\n",
       "      <td>40.68</td>\n",
       "      <td>97.65</td>\n",
       "      <td>711.4</td>\n",
       "      <td>0.1853</td>\n",
       "      <td>1.0580</td>\n",
       "      <td>1.1050</td>\n",
       "      <td>0.2210</td>\n",
       "      <td>0.4366</td>\n",
       "      <td>0.20750</td>\n",
       "      <td>0</td>\n",
       "    </tr>\n",
       "  </tbody>\n",
       "</table>\n",
       "<p>10 rows × 31 columns</p>\n",
       "</div>\n",
       "      <button class=\"colab-df-convert\" onclick=\"convertToInteractive('df-fba33151-ce27-429b-a4c4-d616c84fe3a8')\"\n",
       "              title=\"Convert this dataframe to an interactive table.\"\n",
       "              style=\"display:none;\">\n",
       "        \n",
       "  <svg xmlns=\"http://www.w3.org/2000/svg\" height=\"24px\"viewBox=\"0 0 24 24\"\n",
       "       width=\"24px\">\n",
       "    <path d=\"M0 0h24v24H0V0z\" fill=\"none\"/>\n",
       "    <path d=\"M18.56 5.44l.94 2.06.94-2.06 2.06-.94-2.06-.94-.94-2.06-.94 2.06-2.06.94zm-11 1L8.5 8.5l.94-2.06 2.06-.94-2.06-.94L8.5 2.5l-.94 2.06-2.06.94zm10 10l.94 2.06.94-2.06 2.06-.94-2.06-.94-.94-2.06-.94 2.06-2.06.94z\"/><path d=\"M17.41 7.96l-1.37-1.37c-.4-.4-.92-.59-1.43-.59-.52 0-1.04.2-1.43.59L10.3 9.45l-7.72 7.72c-.78.78-.78 2.05 0 2.83L4 21.41c.39.39.9.59 1.41.59.51 0 1.02-.2 1.41-.59l7.78-7.78 2.81-2.81c.8-.78.8-2.07 0-2.86zM5.41 20L4 18.59l7.72-7.72 1.47 1.35L5.41 20z\"/>\n",
       "  </svg>\n",
       "      </button>\n",
       "      \n",
       "  <style>\n",
       "    .colab-df-container {\n",
       "      display:flex;\n",
       "      flex-wrap:wrap;\n",
       "      gap: 12px;\n",
       "    }\n",
       "\n",
       "    .colab-df-convert {\n",
       "      background-color: #E8F0FE;\n",
       "      border: none;\n",
       "      border-radius: 50%;\n",
       "      cursor: pointer;\n",
       "      display: none;\n",
       "      fill: #1967D2;\n",
       "      height: 32px;\n",
       "      padding: 0 0 0 0;\n",
       "      width: 32px;\n",
       "    }\n",
       "\n",
       "    .colab-df-convert:hover {\n",
       "      background-color: #E2EBFA;\n",
       "      box-shadow: 0px 1px 2px rgba(60, 64, 67, 0.3), 0px 1px 3px 1px rgba(60, 64, 67, 0.15);\n",
       "      fill: #174EA6;\n",
       "    }\n",
       "\n",
       "    [theme=dark] .colab-df-convert {\n",
       "      background-color: #3B4455;\n",
       "      fill: #D2E3FC;\n",
       "    }\n",
       "\n",
       "    [theme=dark] .colab-df-convert:hover {\n",
       "      background-color: #434B5C;\n",
       "      box-shadow: 0px 1px 3px 1px rgba(0, 0, 0, 0.15);\n",
       "      filter: drop-shadow(0px 1px 2px rgba(0, 0, 0, 0.3));\n",
       "      fill: #FFFFFF;\n",
       "    }\n",
       "  </style>\n",
       "\n",
       "      <script>\n",
       "        const buttonEl =\n",
       "          document.querySelector('#df-fba33151-ce27-429b-a4c4-d616c84fe3a8 button.colab-df-convert');\n",
       "        buttonEl.style.display =\n",
       "          google.colab.kernel.accessAllowed ? 'block' : 'none';\n",
       "\n",
       "        async function convertToInteractive(key) {\n",
       "          const element = document.querySelector('#df-fba33151-ce27-429b-a4c4-d616c84fe3a8');\n",
       "          const dataTable =\n",
       "            await google.colab.kernel.invokeFunction('convertToInteractive',\n",
       "                                                     [key], {});\n",
       "          if (!dataTable) return;\n",
       "\n",
       "          const docLinkHtml = 'Like what you see? Visit the ' +\n",
       "            '<a target=\"_blank\" href=https://colab.research.google.com/notebooks/data_table.ipynb>data table notebook</a>'\n",
       "            + ' to learn more about interactive tables.';\n",
       "          element.innerHTML = '';\n",
       "          dataTable['output_type'] = 'display_data';\n",
       "          await google.colab.output.renderOutput(dataTable, element);\n",
       "          const docLink = document.createElement('div');\n",
       "          docLink.innerHTML = docLinkHtml;\n",
       "          element.appendChild(docLink);\n",
       "        }\n",
       "      </script>\n",
       "    </div>\n",
       "  </div>\n",
       "  "
      ],
      "text/plain": [
       "   mean radius  mean texture  mean perimeter  mean area  mean smoothness  \\\n",
       "0        17.99         10.38          122.80     1001.0          0.11840   \n",
       "1        20.57         17.77          132.90     1326.0          0.08474   \n",
       "2        19.69         21.25          130.00     1203.0          0.10960   \n",
       "3        11.42         20.38           77.58      386.1          0.14250   \n",
       "4        20.29         14.34          135.10     1297.0          0.10030   \n",
       "5        12.45         15.70           82.57      477.1          0.12780   \n",
       "6        18.25         19.98          119.60     1040.0          0.09463   \n",
       "7        13.71         20.83           90.20      577.9          0.11890   \n",
       "8        13.00         21.82           87.50      519.8          0.12730   \n",
       "9        12.46         24.04           83.97      475.9          0.11860   \n",
       "\n",
       "   mean compactness  mean concavity  mean concave points  mean symmetry  \\\n",
       "0           0.27760         0.30010              0.14710         0.2419   \n",
       "1           0.07864         0.08690              0.07017         0.1812   \n",
       "2           0.15990         0.19740              0.12790         0.2069   \n",
       "3           0.28390         0.24140              0.10520         0.2597   \n",
       "4           0.13280         0.19800              0.10430         0.1809   \n",
       "5           0.17000         0.15780              0.08089         0.2087   \n",
       "6           0.10900         0.11270              0.07400         0.1794   \n",
       "7           0.16450         0.09366              0.05985         0.2196   \n",
       "8           0.19320         0.18590              0.09353         0.2350   \n",
       "9           0.23960         0.22730              0.08543         0.2030   \n",
       "\n",
       "   mean fractal dimension  ...  worst texture  worst perimeter  worst area  \\\n",
       "0                 0.07871  ...          17.33           184.60      2019.0   \n",
       "1                 0.05667  ...          23.41           158.80      1956.0   \n",
       "2                 0.05999  ...          25.53           152.50      1709.0   \n",
       "3                 0.09744  ...          26.50            98.87       567.7   \n",
       "4                 0.05883  ...          16.67           152.20      1575.0   \n",
       "5                 0.07613  ...          23.75           103.40       741.6   \n",
       "6                 0.05742  ...          27.66           153.20      1606.0   \n",
       "7                 0.07451  ...          28.14           110.60       897.0   \n",
       "8                 0.07389  ...          30.73           106.20       739.3   \n",
       "9                 0.08243  ...          40.68            97.65       711.4   \n",
       "\n",
       "   worst smoothness  worst compactness  worst concavity  worst concave points  \\\n",
       "0            0.1622             0.6656           0.7119                0.2654   \n",
       "1            0.1238             0.1866           0.2416                0.1860   \n",
       "2            0.1444             0.4245           0.4504                0.2430   \n",
       "3            0.2098             0.8663           0.6869                0.2575   \n",
       "4            0.1374             0.2050           0.4000                0.1625   \n",
       "5            0.1791             0.5249           0.5355                0.1741   \n",
       "6            0.1442             0.2576           0.3784                0.1932   \n",
       "7            0.1654             0.3682           0.2678                0.1556   \n",
       "8            0.1703             0.5401           0.5390                0.2060   \n",
       "9            0.1853             1.0580           1.1050                0.2210   \n",
       "\n",
       "   worst symmetry  worst fractal dimension  target  \n",
       "0          0.4601                  0.11890       0  \n",
       "1          0.2750                  0.08902       0  \n",
       "2          0.3613                  0.08758       0  \n",
       "3          0.6638                  0.17300       0  \n",
       "4          0.2364                  0.07678       0  \n",
       "5          0.3985                  0.12440       0  \n",
       "6          0.3063                  0.08368       0  \n",
       "7          0.3196                  0.11510       0  \n",
       "8          0.4378                  0.10720       0  \n",
       "9          0.4366                  0.20750       0  \n",
       "\n",
       "[10 rows x 31 columns]"
      ]
     },
     "execution_count": 30,
     "metadata": {},
     "output_type": "execute_result"
    }
   ],
   "source": [
    "df.head(10)"
   ]
  },
  {
   "cell_type": "markdown",
   "id": "jEt1QhSkIn0d",
   "metadata": {
    "id": "jEt1QhSkIn0d"
   },
   "source": [
    "Проверим столбцы на наличие пропусков"
   ]
  },
  {
   "cell_type": "code",
   "execution_count": 31,
   "id": "IombC4XwIm7O",
   "metadata": {
    "colab": {
     "base_uri": "https://localhost:8080/"
    },
    "id": "IombC4XwIm7O",
    "outputId": "ad3d37ac-1123-4299-c711-56b155c2e62f"
   },
   "outputs": [
    {
     "data": {
      "text/plain": [
       "mean radius                0.0\n",
       "mean texture               0.0\n",
       "mean perimeter             0.0\n",
       "mean area                  0.0\n",
       "mean smoothness            0.0\n",
       "mean compactness           0.0\n",
       "mean concavity             0.0\n",
       "mean concave points        0.0\n",
       "mean symmetry              0.0\n",
       "mean fractal dimension     0.0\n",
       "radius error               0.0\n",
       "texture error              0.0\n",
       "perimeter error            0.0\n",
       "area error                 0.0\n",
       "smoothness error           0.0\n",
       "compactness error          0.0\n",
       "concavity error            0.0\n",
       "concave points error       0.0\n",
       "symmetry error             0.0\n",
       "fractal dimension error    0.0\n",
       "worst radius               0.0\n",
       "worst texture              0.0\n",
       "worst perimeter            0.0\n",
       "worst area                 0.0\n",
       "worst smoothness           0.0\n",
       "worst compactness          0.0\n",
       "worst concavity            0.0\n",
       "worst concave points       0.0\n",
       "worst symmetry             0.0\n",
       "worst fractal dimension    0.0\n",
       "target                     0.0\n",
       "dtype: float64"
      ]
     },
     "execution_count": 31,
     "metadata": {},
     "output_type": "execute_result"
    }
   ],
   "source": [
    "df.isna().mean()"
   ]
  },
  {
   "cell_type": "markdown",
   "id": "3m8IpQyqNOM5",
   "metadata": {
    "id": "3m8IpQyqNOM5"
   },
   "source": [
    "Пропусков нет\n",
    "\n",
    "Проверим баланс классов"
   ]
  },
  {
   "cell_type": "code",
   "execution_count": 32,
   "id": "fGGVzdlgNScL",
   "metadata": {
    "colab": {
     "base_uri": "https://localhost:8080/"
    },
    "id": "fGGVzdlgNScL",
    "outputId": "a91893f0-7e14-41e9-c544-09d896f09bbf"
   },
   "outputs": [
    {
     "data": {
      "text/plain": [
       "1    0.627417\n",
       "0    0.372583\n",
       "Name: target, dtype: float64"
      ]
     },
     "execution_count": 32,
     "metadata": {},
     "output_type": "execute_result"
    }
   ],
   "source": [
    "df['target'].value_counts(normalize=True)"
   ]
  },
  {
   "cell_type": "markdown",
   "id": "Tp77M_JvO4oc",
   "metadata": {
    "id": "Tp77M_JvO4oc"
   },
   "source": [
    "Присутствует дисбаланс классов (пациентов с злокачественной опухолью больше, чем с доброкачественной). Чтобы учесть дисбаланс классов, при разделении датафрейма на обучающую и тестовую выборки можно задать параметр stratify.\n",
    "\n",
    "Запишем признаки в переменную X, целевой признак в переменную y"
   ]
  },
  {
   "cell_type": "code",
   "execution_count": 33,
   "id": "VNlVL_8vqx73",
   "metadata": {
    "id": "VNlVL_8vqx73"
   },
   "outputs": [],
   "source": [
    "X = df.drop('target', axis=1)\n",
    "y = data.target"
   ]
  },
  {
   "cell_type": "markdown",
   "id": "bOgH22McPGno",
   "metadata": {
    "id": "bOgH22McPGno"
   },
   "source": [
    "Разделим датафрейм на обучающую и тестовую выборки в соотношении 70%:30%"
   ]
  },
  {
   "cell_type": "code",
   "execution_count": 34,
   "id": "EHm21qlOsJte",
   "metadata": {
    "id": "EHm21qlOsJte"
   },
   "outputs": [],
   "source": [
    "X_train, X_test, y_train, y_test = train_test_split(X, y, test_size=0.3, random_state=5, stratify=y)"
   ]
  },
  {
   "cell_type": "markdown",
   "id": "VXmOikG_4kXg",
   "metadata": {
    "id": "VXmOikG_4kXg"
   },
   "source": [
    "Инициализируем StandardScaler() для ремасштабирования количественных признаков"
   ]
  },
  {
   "cell_type": "code",
   "execution_count": 35,
   "id": "5t3i06Yt7lav",
   "metadata": {
    "id": "5t3i06Yt7lav"
   },
   "outputs": [],
   "source": [
    "scaler = StandardScaler()"
   ]
  },
  {
   "cell_type": "markdown",
   "id": "vUJGfijo4lpC",
   "metadata": {
    "id": "vUJGfijo4lpC"
   },
   "source": [
    "Обучим скейлер только на обучающей выборке"
   ]
  },
  {
   "cell_type": "code",
   "execution_count": 36,
   "id": "AiDQfbgA7tOj",
   "metadata": {
    "colab": {
     "base_uri": "https://localhost:8080/"
    },
    "id": "AiDQfbgA7tOj",
    "outputId": "d3cd75f8-8ff0-4e7a-b3da-02bfb085caf9"
   },
   "outputs": [
    {
     "data": {
      "text/plain": [
       "StandardScaler()"
      ]
     },
     "execution_count": 36,
     "metadata": {},
     "output_type": "execute_result"
    }
   ],
   "source": [
    "scaler.fit(X_train)"
   ]
  },
  {
   "cell_type": "markdown",
   "id": "N5GfOS3a4mLJ",
   "metadata": {
    "id": "N5GfOS3a4mLJ"
   },
   "source": [
    "Ремасштабируем признаки"
   ]
  },
  {
   "cell_type": "code",
   "execution_count": 37,
   "id": "uBEplL_47xtu",
   "metadata": {
    "id": "uBEplL_47xtu"
   },
   "outputs": [],
   "source": [
    "X_train = scaler.transform(X_train)\n",
    "X_test = scaler.transform(X_test)"
   ]
  },
  {
   "cell_type": "markdown",
   "id": "HdkCxPbcKo1Y",
   "metadata": {
    "id": "HdkCxPbcKo1Y"
   },
   "source": [
    "Выведем матрицу признаков после ремасштабирования"
   ]
  },
  {
   "cell_type": "code",
   "execution_count": 38,
   "id": "pSsMOQCNIxea",
   "metadata": {
    "colab": {
     "base_uri": "https://localhost:8080/",
     "height": 522
    },
    "id": "pSsMOQCNIxea",
    "outputId": "88c9d85e-acde-4891-b8ca-047ed810808d"
   },
   "outputs": [
    {
     "data": {
      "text/html": [
       "\n",
       "  <div id=\"df-b4962fc9-d60b-4b61-b94d-486699e1124a\">\n",
       "    <div class=\"colab-df-container\">\n",
       "      <div>\n",
       "<style scoped>\n",
       "    .dataframe tbody tr th:only-of-type {\n",
       "        vertical-align: middle;\n",
       "    }\n",
       "\n",
       "    .dataframe tbody tr th {\n",
       "        vertical-align: top;\n",
       "    }\n",
       "\n",
       "    .dataframe thead th {\n",
       "        text-align: right;\n",
       "    }\n",
       "</style>\n",
       "<table border=\"1\" class=\"dataframe\">\n",
       "  <thead>\n",
       "    <tr style=\"text-align: right;\">\n",
       "      <th></th>\n",
       "      <th>mean radius</th>\n",
       "      <th>mean texture</th>\n",
       "      <th>mean perimeter</th>\n",
       "      <th>mean area</th>\n",
       "      <th>mean smoothness</th>\n",
       "      <th>mean compactness</th>\n",
       "      <th>mean concavity</th>\n",
       "      <th>mean concave points</th>\n",
       "      <th>mean symmetry</th>\n",
       "      <th>mean fractal dimension</th>\n",
       "      <th>...</th>\n",
       "      <th>worst radius</th>\n",
       "      <th>worst texture</th>\n",
       "      <th>worst perimeter</th>\n",
       "      <th>worst area</th>\n",
       "      <th>worst smoothness</th>\n",
       "      <th>worst compactness</th>\n",
       "      <th>worst concavity</th>\n",
       "      <th>worst concave points</th>\n",
       "      <th>worst symmetry</th>\n",
       "      <th>worst fractal dimension</th>\n",
       "    </tr>\n",
       "  </thead>\n",
       "  <tbody>\n",
       "    <tr>\n",
       "      <th>0</th>\n",
       "      <td>-0.705242</td>\n",
       "      <td>-0.266998</td>\n",
       "      <td>-0.730084</td>\n",
       "      <td>-0.659447</td>\n",
       "      <td>0.283333</td>\n",
       "      <td>-0.858500</td>\n",
       "      <td>-0.793430</td>\n",
       "      <td>-0.369224</td>\n",
       "      <td>-0.670012</td>\n",
       "      <td>0.032241</td>\n",
       "      <td>...</td>\n",
       "      <td>-0.623206</td>\n",
       "      <td>-0.350128</td>\n",
       "      <td>-0.675999</td>\n",
       "      <td>-0.579646</td>\n",
       "      <td>-0.782376</td>\n",
       "      <td>-1.092989</td>\n",
       "      <td>-1.019854</td>\n",
       "      <td>-0.674841</td>\n",
       "      <td>-1.416699</td>\n",
       "      <td>-0.780716</td>\n",
       "    </tr>\n",
       "    <tr>\n",
       "      <th>1</th>\n",
       "      <td>-0.573635</td>\n",
       "      <td>0.187495</td>\n",
       "      <td>-0.544195</td>\n",
       "      <td>-0.596871</td>\n",
       "      <td>1.012021</td>\n",
       "      <td>0.227352</td>\n",
       "      <td>-0.088951</td>\n",
       "      <td>-0.722644</td>\n",
       "      <td>1.171042</td>\n",
       "      <td>0.878504</td>\n",
       "      <td>...</td>\n",
       "      <td>-0.664546</td>\n",
       "      <td>-0.221572</td>\n",
       "      <td>-0.675101</td>\n",
       "      <td>-0.645366</td>\n",
       "      <td>0.395174</td>\n",
       "      <td>-0.112375</td>\n",
       "      <td>0.423812</td>\n",
       "      <td>-0.528192</td>\n",
       "      <td>-0.251553</td>\n",
       "      <td>0.257527</td>\n",
       "    </tr>\n",
       "    <tr>\n",
       "      <th>2</th>\n",
       "      <td>0.516416</td>\n",
       "      <td>-0.896110</td>\n",
       "      <td>0.550761</td>\n",
       "      <td>0.370508</td>\n",
       "      <td>-0.067054</td>\n",
       "      <td>0.651543</td>\n",
       "      <td>0.407008</td>\n",
       "      <td>0.554542</td>\n",
       "      <td>-0.075771</td>\n",
       "      <td>-0.401346</td>\n",
       "      <td>...</td>\n",
       "      <td>0.492983</td>\n",
       "      <td>-0.582517</td>\n",
       "      <td>0.497093</td>\n",
       "      <td>0.306447</td>\n",
       "      <td>0.541813</td>\n",
       "      <td>1.285271</td>\n",
       "      <td>1.125641</td>\n",
       "      <td>1.324194</td>\n",
       "      <td>0.242558</td>\n",
       "      <td>0.411321</td>\n",
       "    </tr>\n",
       "    <tr>\n",
       "      <th>3</th>\n",
       "      <td>-1.151563</td>\n",
       "      <td>-0.424874</td>\n",
       "      <td>-1.143864</td>\n",
       "      <td>-0.972046</td>\n",
       "      <td>-1.122623</td>\n",
       "      <td>-0.859856</td>\n",
       "      <td>-0.397048</td>\n",
       "      <td>-1.009520</td>\n",
       "      <td>0.587738</td>\n",
       "      <td>0.071278</td>\n",
       "      <td>...</td>\n",
       "      <td>-1.011805</td>\n",
       "      <td>-0.172128</td>\n",
       "      <td>-0.966279</td>\n",
       "      <td>-0.836861</td>\n",
       "      <td>-1.601329</td>\n",
       "      <td>-0.705551</td>\n",
       "      <td>-0.371365</td>\n",
       "      <td>-1.241998</td>\n",
       "      <td>0.001878</td>\n",
       "      <td>-0.298289</td>\n",
       "    </tr>\n",
       "    <tr>\n",
       "      <th>4</th>\n",
       "      <td>1.815322</td>\n",
       "      <td>-0.355504</td>\n",
       "      <td>1.677739</td>\n",
       "      <td>1.886002</td>\n",
       "      <td>-0.814106</td>\n",
       "      <td>-0.480796</td>\n",
       "      <td>-0.022866</td>\n",
       "      <td>0.548255</td>\n",
       "      <td>0.033599</td>\n",
       "      <td>-0.832146</td>\n",
       "      <td>...</td>\n",
       "      <td>1.780734</td>\n",
       "      <td>-0.346832</td>\n",
       "      <td>1.529534</td>\n",
       "      <td>1.826740</td>\n",
       "      <td>-0.333574</td>\n",
       "      <td>-0.402501</td>\n",
       "      <td>-0.128861</td>\n",
       "      <td>1.132982</td>\n",
       "      <td>-0.186203</td>\n",
       "      <td>0.291523</td>\n",
       "    </tr>\n",
       "    <tr>\n",
       "      <th>...</th>\n",
       "      <td>...</td>\n",
       "      <td>...</td>\n",
       "      <td>...</td>\n",
       "      <td>...</td>\n",
       "      <td>...</td>\n",
       "      <td>...</td>\n",
       "      <td>...</td>\n",
       "      <td>...</td>\n",
       "      <td>...</td>\n",
       "      <td>...</td>\n",
       "      <td>...</td>\n",
       "      <td>...</td>\n",
       "      <td>...</td>\n",
       "      <td>...</td>\n",
       "      <td>...</td>\n",
       "      <td>...</td>\n",
       "      <td>...</td>\n",
       "      <td>...</td>\n",
       "      <td>...</td>\n",
       "      <td>...</td>\n",
       "      <td>...</td>\n",
       "    </tr>\n",
       "    <tr>\n",
       "      <th>393</th>\n",
       "      <td>-0.845433</td>\n",
       "      <td>-0.898502</td>\n",
       "      <td>-0.797453</td>\n",
       "      <td>-0.770663</td>\n",
       "      <td>-0.894173</td>\n",
       "      <td>0.153748</td>\n",
       "      <td>0.154216</td>\n",
       "      <td>-0.567810</td>\n",
       "      <td>0.026307</td>\n",
       "      <td>1.377617</td>\n",
       "      <td>...</td>\n",
       "      <td>-0.896052</td>\n",
       "      <td>-1.085202</td>\n",
       "      <td>-0.836700</td>\n",
       "      <td>-0.757414</td>\n",
       "      <td>-0.937902</td>\n",
       "      <td>0.206828</td>\n",
       "      <td>0.169948</td>\n",
       "      <td>-0.499116</td>\n",
       "      <td>-1.131390</td>\n",
       "      <td>1.116074</td>\n",
       "    </tr>\n",
       "    <tr>\n",
       "      <th>394</th>\n",
       "      <td>-0.565052</td>\n",
       "      <td>-0.314839</td>\n",
       "      <td>-0.594098</td>\n",
       "      <td>-0.576391</td>\n",
       "      <td>-0.681884</td>\n",
       "      <td>-0.710324</td>\n",
       "      <td>-0.639446</td>\n",
       "      <td>-0.679416</td>\n",
       "      <td>0.609612</td>\n",
       "      <td>-0.050015</td>\n",
       "      <td>...</td>\n",
       "      <td>-0.575665</td>\n",
       "      <td>-0.048517</td>\n",
       "      <td>-0.631110</td>\n",
       "      <td>-0.561458</td>\n",
       "      <td>-0.426889</td>\n",
       "      <td>-0.452902</td>\n",
       "      <td>-0.362475</td>\n",
       "      <td>-0.508755</td>\n",
       "      <td>0.392386</td>\n",
       "      <td>-0.123990</td>\n",
       "    </tr>\n",
       "    <tr>\n",
       "      <th>395</th>\n",
       "      <td>-1.137257</td>\n",
       "      <td>-0.735842</td>\n",
       "      <td>-1.082733</td>\n",
       "      <td>-0.963513</td>\n",
       "      <td>0.754923</td>\n",
       "      <td>0.147937</td>\n",
       "      <td>-0.274887</td>\n",
       "      <td>-0.251330</td>\n",
       "      <td>-0.217951</td>\n",
       "      <td>1.415260</td>\n",
       "      <td>...</td>\n",
       "      <td>-1.053146</td>\n",
       "      <td>-0.808313</td>\n",
       "      <td>-1.082092</td>\n",
       "      <td>-0.859682</td>\n",
       "      <td>0.395174</td>\n",
       "      <td>-0.083298</td>\n",
       "      <td>-0.384700</td>\n",
       "      <td>-0.266501</td>\n",
       "      <td>-0.412538</td>\n",
       "      <td>0.723225</td>\n",
       "    </tr>\n",
       "    <tr>\n",
       "      <th>396</th>\n",
       "      <td>0.010014</td>\n",
       "      <td>0.094204</td>\n",
       "      <td>0.219322</td>\n",
       "      <td>-0.093982</td>\n",
       "      <td>-1.282023</td>\n",
       "      <td>2.321191</td>\n",
       "      <td>2.715494</td>\n",
       "      <td>0.752866</td>\n",
       "      <td>-0.360132</td>\n",
       "      <td>2.098404</td>\n",
       "      <td>...</td>\n",
       "      <td>-0.222205</td>\n",
       "      <td>-0.294091</td>\n",
       "      <td>-0.020623</td>\n",
       "      <td>-0.312995</td>\n",
       "      <td>-1.858168</td>\n",
       "      <td>1.101115</td>\n",
       "      <td>2.027994</td>\n",
       "      <td>0.571988</td>\n",
       "      <td>-0.747258</td>\n",
       "      <td>1.326528</td>\n",
       "    </tr>\n",
       "    <tr>\n",
       "      <th>397</th>\n",
       "      <td>-1.482869</td>\n",
       "      <td>-0.085201</td>\n",
       "      <td>-1.350962</td>\n",
       "      <td>-1.190212</td>\n",
       "      <td>0.283333</td>\n",
       "      <td>1.815648</td>\n",
       "      <td>1.396359</td>\n",
       "      <td>-0.004276</td>\n",
       "      <td>1.922047</td>\n",
       "      <td>3.456328</td>\n",
       "      <td>...</td>\n",
       "      <td>-1.305322</td>\n",
       "      <td>-0.348480</td>\n",
       "      <td>-1.169176</td>\n",
       "      <td>-1.019776</td>\n",
       "      <td>-0.409115</td>\n",
       "      <td>0.813574</td>\n",
       "      <td>0.954259</td>\n",
       "      <td>0.003093</td>\n",
       "      <td>0.427452</td>\n",
       "      <td>1.180829</td>\n",
       "    </tr>\n",
       "  </tbody>\n",
       "</table>\n",
       "<p>398 rows × 30 columns</p>\n",
       "</div>\n",
       "      <button class=\"colab-df-convert\" onclick=\"convertToInteractive('df-b4962fc9-d60b-4b61-b94d-486699e1124a')\"\n",
       "              title=\"Convert this dataframe to an interactive table.\"\n",
       "              style=\"display:none;\">\n",
       "        \n",
       "  <svg xmlns=\"http://www.w3.org/2000/svg\" height=\"24px\"viewBox=\"0 0 24 24\"\n",
       "       width=\"24px\">\n",
       "    <path d=\"M0 0h24v24H0V0z\" fill=\"none\"/>\n",
       "    <path d=\"M18.56 5.44l.94 2.06.94-2.06 2.06-.94-2.06-.94-.94-2.06-.94 2.06-2.06.94zm-11 1L8.5 8.5l.94-2.06 2.06-.94-2.06-.94L8.5 2.5l-.94 2.06-2.06.94zm10 10l.94 2.06.94-2.06 2.06-.94-2.06-.94-.94-2.06-.94 2.06-2.06.94z\"/><path d=\"M17.41 7.96l-1.37-1.37c-.4-.4-.92-.59-1.43-.59-.52 0-1.04.2-1.43.59L10.3 9.45l-7.72 7.72c-.78.78-.78 2.05 0 2.83L4 21.41c.39.39.9.59 1.41.59.51 0 1.02-.2 1.41-.59l7.78-7.78 2.81-2.81c.8-.78.8-2.07 0-2.86zM5.41 20L4 18.59l7.72-7.72 1.47 1.35L5.41 20z\"/>\n",
       "  </svg>\n",
       "      </button>\n",
       "      \n",
       "  <style>\n",
       "    .colab-df-container {\n",
       "      display:flex;\n",
       "      flex-wrap:wrap;\n",
       "      gap: 12px;\n",
       "    }\n",
       "\n",
       "    .colab-df-convert {\n",
       "      background-color: #E8F0FE;\n",
       "      border: none;\n",
       "      border-radius: 50%;\n",
       "      cursor: pointer;\n",
       "      display: none;\n",
       "      fill: #1967D2;\n",
       "      height: 32px;\n",
       "      padding: 0 0 0 0;\n",
       "      width: 32px;\n",
       "    }\n",
       "\n",
       "    .colab-df-convert:hover {\n",
       "      background-color: #E2EBFA;\n",
       "      box-shadow: 0px 1px 2px rgba(60, 64, 67, 0.3), 0px 1px 3px 1px rgba(60, 64, 67, 0.15);\n",
       "      fill: #174EA6;\n",
       "    }\n",
       "\n",
       "    [theme=dark] .colab-df-convert {\n",
       "      background-color: #3B4455;\n",
       "      fill: #D2E3FC;\n",
       "    }\n",
       "\n",
       "    [theme=dark] .colab-df-convert:hover {\n",
       "      background-color: #434B5C;\n",
       "      box-shadow: 0px 1px 3px 1px rgba(0, 0, 0, 0.15);\n",
       "      filter: drop-shadow(0px 1px 2px rgba(0, 0, 0, 0.3));\n",
       "      fill: #FFFFFF;\n",
       "    }\n",
       "  </style>\n",
       "\n",
       "      <script>\n",
       "        const buttonEl =\n",
       "          document.querySelector('#df-b4962fc9-d60b-4b61-b94d-486699e1124a button.colab-df-convert');\n",
       "        buttonEl.style.display =\n",
       "          google.colab.kernel.accessAllowed ? 'block' : 'none';\n",
       "\n",
       "        async function convertToInteractive(key) {\n",
       "          const element = document.querySelector('#df-b4962fc9-d60b-4b61-b94d-486699e1124a');\n",
       "          const dataTable =\n",
       "            await google.colab.kernel.invokeFunction('convertToInteractive',\n",
       "                                                     [key], {});\n",
       "          if (!dataTable) return;\n",
       "\n",
       "          const docLinkHtml = 'Like what you see? Visit the ' +\n",
       "            '<a target=\"_blank\" href=https://colab.research.google.com/notebooks/data_table.ipynb>data table notebook</a>'\n",
       "            + ' to learn more about interactive tables.';\n",
       "          element.innerHTML = '';\n",
       "          dataTable['output_type'] = 'display_data';\n",
       "          await google.colab.output.renderOutput(dataTable, element);\n",
       "          const docLink = document.createElement('div');\n",
       "          docLink.innerHTML = docLinkHtml;\n",
       "          element.appendChild(docLink);\n",
       "        }\n",
       "      </script>\n",
       "    </div>\n",
       "  </div>\n",
       "  "
      ],
      "text/plain": [
       "     mean radius  mean texture  mean perimeter  mean area  mean smoothness  \\\n",
       "0      -0.705242     -0.266998       -0.730084  -0.659447         0.283333   \n",
       "1      -0.573635      0.187495       -0.544195  -0.596871         1.012021   \n",
       "2       0.516416     -0.896110        0.550761   0.370508        -0.067054   \n",
       "3      -1.151563     -0.424874       -1.143864  -0.972046        -1.122623   \n",
       "4       1.815322     -0.355504        1.677739   1.886002        -0.814106   \n",
       "..           ...           ...             ...        ...              ...   \n",
       "393    -0.845433     -0.898502       -0.797453  -0.770663        -0.894173   \n",
       "394    -0.565052     -0.314839       -0.594098  -0.576391        -0.681884   \n",
       "395    -1.137257     -0.735842       -1.082733  -0.963513         0.754923   \n",
       "396     0.010014      0.094204        0.219322  -0.093982        -1.282023   \n",
       "397    -1.482869     -0.085201       -1.350962  -1.190212         0.283333   \n",
       "\n",
       "     mean compactness  mean concavity  mean concave points  mean symmetry  \\\n",
       "0           -0.858500       -0.793430            -0.369224      -0.670012   \n",
       "1            0.227352       -0.088951            -0.722644       1.171042   \n",
       "2            0.651543        0.407008             0.554542      -0.075771   \n",
       "3           -0.859856       -0.397048            -1.009520       0.587738   \n",
       "4           -0.480796       -0.022866             0.548255       0.033599   \n",
       "..                ...             ...                  ...            ...   \n",
       "393          0.153748        0.154216            -0.567810       0.026307   \n",
       "394         -0.710324       -0.639446            -0.679416       0.609612   \n",
       "395          0.147937       -0.274887            -0.251330      -0.217951   \n",
       "396          2.321191        2.715494             0.752866      -0.360132   \n",
       "397          1.815648        1.396359            -0.004276       1.922047   \n",
       "\n",
       "     mean fractal dimension  ...  worst radius  worst texture  \\\n",
       "0                  0.032241  ...     -0.623206      -0.350128   \n",
       "1                  0.878504  ...     -0.664546      -0.221572   \n",
       "2                 -0.401346  ...      0.492983      -0.582517   \n",
       "3                  0.071278  ...     -1.011805      -0.172128   \n",
       "4                 -0.832146  ...      1.780734      -0.346832   \n",
       "..                      ...  ...           ...            ...   \n",
       "393                1.377617  ...     -0.896052      -1.085202   \n",
       "394               -0.050015  ...     -0.575665      -0.048517   \n",
       "395                1.415260  ...     -1.053146      -0.808313   \n",
       "396                2.098404  ...     -0.222205      -0.294091   \n",
       "397                3.456328  ...     -1.305322      -0.348480   \n",
       "\n",
       "     worst perimeter  worst area  worst smoothness  worst compactness  \\\n",
       "0          -0.675999   -0.579646         -0.782376          -1.092989   \n",
       "1          -0.675101   -0.645366          0.395174          -0.112375   \n",
       "2           0.497093    0.306447          0.541813           1.285271   \n",
       "3          -0.966279   -0.836861         -1.601329          -0.705551   \n",
       "4           1.529534    1.826740         -0.333574          -0.402501   \n",
       "..               ...         ...               ...                ...   \n",
       "393        -0.836700   -0.757414         -0.937902           0.206828   \n",
       "394        -0.631110   -0.561458         -0.426889          -0.452902   \n",
       "395        -1.082092   -0.859682          0.395174          -0.083298   \n",
       "396        -0.020623   -0.312995         -1.858168           1.101115   \n",
       "397        -1.169176   -1.019776         -0.409115           0.813574   \n",
       "\n",
       "     worst concavity  worst concave points  worst symmetry  \\\n",
       "0          -1.019854             -0.674841       -1.416699   \n",
       "1           0.423812             -0.528192       -0.251553   \n",
       "2           1.125641              1.324194        0.242558   \n",
       "3          -0.371365             -1.241998        0.001878   \n",
       "4          -0.128861              1.132982       -0.186203   \n",
       "..               ...                   ...             ...   \n",
       "393         0.169948             -0.499116       -1.131390   \n",
       "394        -0.362475             -0.508755        0.392386   \n",
       "395        -0.384700             -0.266501       -0.412538   \n",
       "396         2.027994              0.571988       -0.747258   \n",
       "397         0.954259              0.003093        0.427452   \n",
       "\n",
       "     worst fractal dimension  \n",
       "0                  -0.780716  \n",
       "1                   0.257527  \n",
       "2                   0.411321  \n",
       "3                  -0.298289  \n",
       "4                   0.291523  \n",
       "..                       ...  \n",
       "393                 1.116074  \n",
       "394                -0.123990  \n",
       "395                 0.723225  \n",
       "396                 1.326528  \n",
       "397                 1.180829  \n",
       "\n",
       "[398 rows x 30 columns]"
      ]
     },
     "execution_count": 38,
     "metadata": {},
     "output_type": "execute_result"
    }
   ],
   "source": [
    "pd.DataFrame(X_train, columns=data.feature_names)"
   ]
  },
  {
   "cell_type": "markdown",
   "id": "lztiOq8xPYtw",
   "metadata": {
    "id": "lztiOq8xPYtw"
   },
   "source": [
    "Создадим экземпляр модели логистической регрессии"
   ]
  },
  {
   "cell_type": "code",
   "execution_count": 39,
   "id": "qcmoR1X9sVAt",
   "metadata": {
    "id": "qcmoR1X9sVAt"
   },
   "outputs": [],
   "source": [
    "model = LogisticRegression()"
   ]
  },
  {
   "cell_type": "markdown",
   "id": "BvEc7GhyPb7o",
   "metadata": {
    "id": "BvEc7GhyPb7o"
   },
   "source": [
    "Обучим модель на обучающей выборке"
   ]
  },
  {
   "cell_type": "code",
   "execution_count": 40,
   "id": "lNJDjabhsdaz",
   "metadata": {
    "colab": {
     "base_uri": "https://localhost:8080/"
    },
    "id": "lNJDjabhsdaz",
    "outputId": "47e1b0cf-45b4-41c1-8850-67ebfddf667b"
   },
   "outputs": [
    {
     "data": {
      "text/plain": [
       "LogisticRegression()"
      ]
     },
     "execution_count": 40,
     "metadata": {},
     "output_type": "execute_result"
    }
   ],
   "source": [
    "model.fit(X_train, y_train)"
   ]
  },
  {
   "cell_type": "markdown",
   "id": "5-UsjvCZPp8h",
   "metadata": {
    "id": "5-UsjvCZPp8h"
   },
   "source": [
    "Предсказания модели сохраним в переменную y_pred и выведем на экран"
   ]
  },
  {
   "cell_type": "code",
   "execution_count": 41,
   "id": "LDWT7_kosjuL",
   "metadata": {
    "colab": {
     "base_uri": "https://localhost:8080/"
    },
    "id": "LDWT7_kosjuL",
    "outputId": "46b5c836-e7d4-494e-b801-1fe6f3f5d3ad"
   },
   "outputs": [
    {
     "data": {
      "text/plain": [
       "array([1, 0, 1, 0, 1, 0, 0, 0, 0, 0, 1, 1, 0, 0, 1, 1, 1, 0, 1, 1, 1, 0,\n",
       "       1, 1, 1, 0, 0, 1, 1, 1, 0, 0, 1, 1, 0, 1, 1, 1, 1, 1, 1, 0, 0, 0,\n",
       "       0, 0, 0, 1, 1, 0, 1, 0, 0, 1, 1, 1, 1, 1, 0, 1, 1, 1, 0, 1, 0, 1,\n",
       "       1, 0, 0, 0, 1, 1, 1, 1, 1, 0, 1, 1, 0, 1, 0, 1, 0, 0, 0, 0, 1, 0,\n",
       "       1, 0, 1, 1, 0, 0, 1, 1, 1, 1, 1, 1, 1, 0, 0, 1, 1, 1, 1, 1, 0, 1,\n",
       "       1, 1, 1, 1, 1, 1, 1, 1, 1, 1, 1, 1, 1, 0, 0, 1, 1, 0, 1, 0, 1, 0,\n",
       "       1, 1, 0, 1, 0, 1, 0, 1, 0, 0, 0, 1, 0, 0, 1, 1, 1, 1, 1, 0, 0, 1,\n",
       "       0, 0, 0, 1, 1, 1, 1, 0, 0, 1, 1, 1, 1, 1, 1, 0, 0])"
      ]
     },
     "execution_count": 41,
     "metadata": {},
     "output_type": "execute_result"
    }
   ],
   "source": [
    "y_pred = model.predict(X_test)\n",
    "y_pred"
   ]
  },
  {
   "cell_type": "markdown",
   "id": "Dwv1yeCqQGcC",
   "metadata": {
    "id": "Dwv1yeCqQGcC"
   },
   "source": [
    "### Оценка качества модели в задачах классификации"
   ]
  },
  {
   "cell_type": "markdown",
   "id": "R6v_wa1KQoQN",
   "metadata": {
    "id": "R6v_wa1KQoQN"
   },
   "source": [
    "#### Матрица ошибок"
   ]
  },
  {
   "cell_type": "markdown",
   "id": "cGmMqnDRRUzj",
   "metadata": {
    "id": "cGmMqnDRRUzj"
   },
   "source": [
    "В задаче бинарной классификации возможны 4 исхода:\n",
    "1. Объекту положительного класса предсказан положительный класс (TP - True Positive)\n",
    "2. Объекту отрицательного класса предсказан положительный класс (FP - False Positive)\n",
    "3. Объекту отрицательного класса предсказан отрицательный класс (TN - True Negative)\n",
    "4. Объекту положительного класса предсказан отрицательный класс (FN - False Negative)\n",
    "\n",
    "Для удобства эти 4 числа изображают в виде таблицы, которую называют матрицей ошибок\n",
    "![cm.png](data:image/png;base64,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)"
   ]
  },
  {
   "cell_type": "code",
   "execution_count": 42,
   "id": "c-XWoX2yRM-7",
   "metadata": {
    "colab": {
     "base_uri": "https://localhost:8080/",
     "height": 296
    },
    "id": "c-XWoX2yRM-7",
    "outputId": "78f29389-d076-482c-80cc-abe2a488b8f5"
   },
   "outputs": [
    {
     "data": {
      "text/plain": [
       "<sklearn.metrics._plot.confusion_matrix.ConfusionMatrixDisplay at 0x7f68dc7c6f90>"
      ]
     },
     "execution_count": 42,
     "metadata": {},
     "output_type": "execute_result"
    },
    {
     "data": {
      "image/png": "[encoded data removed]",
      "text/plain": [
       "<Figure size 432x288 with 2 Axes>"
      ]
     },
     "metadata": {
      "needs_background": "light"
     },
     "output_type": "display_data"
    }
   ],
   "source": [
    "ConfusionMatrixDisplay(confusion_matrix(y_test, y_pred)).plot()"
   ]
  },
  {
   "cell_type": "markdown",
   "id": "bQMOuKuqTCEK",
   "metadata": {
    "id": "bQMOuKuqTCEK"
   },
   "source": [
    "#### Accuracy"
   ]
  },
  {
   "cell_type": "markdown",
   "id": "vN_wfLfoC3TA",
   "metadata": {
    "id": "vN_wfLfoC3TA"
   },
   "source": [
    "$$\n",
    "Accuracy = \\frac{TP + TN}{TP + TN + FP + FN}\n",
    "$$"
   ]
  },
  {
   "cell_type": "markdown",
   "id": "gobEvnqLTRGm",
   "metadata": {
    "id": "gobEvnqLTRGm"
   },
   "source": [
    "Метрика accuracy - доля правильных ответов модели. Эта метрика используется редко, так как дает обманчивые результаты на несбалансированных выборках."
   ]
  },
  {
   "cell_type": "code",
   "execution_count": 43,
   "id": "F1iyxtOn-q88",
   "metadata": {
    "colab": {
     "base_uri": "https://localhost:8080/"
    },
    "id": "F1iyxtOn-q88",
    "outputId": "51e41907-af7a-4622-d9af-b3e24b4ab778"
   },
   "outputs": [
    {
     "data": {
      "text/plain": [
       "0.9824561403508771"
      ]
     },
     "execution_count": 43,
     "metadata": {},
     "output_type": "execute_result"
    }
   ],
   "source": [
    "accuracy_score(y_test, y_pred)"
   ]
  },
  {
   "cell_type": "markdown",
   "id": "p5gzLztQUQm6",
   "metadata": {
    "id": "p5gzLztQUQm6"
   },
   "source": [
    "#### Precision (точность)"
   ]
  },
  {
   "cell_type": "markdown",
   "id": "npbDwwLWDTVc",
   "metadata": {
    "id": "npbDwwLWDTVc"
   },
   "source": [
    "$$\n",
    "Precision = \\frac{TP}{TP + FP}\n",
    "$$"
   ]
  },
  {
   "cell_type": "markdown",
   "id": "bIHgubBmUyVE",
   "metadata": {
    "id": "bIHgubBmUyVE"
   },
   "source": [
    "Precision - доля истинноположительных ответов среди всех положительных предсказаний модели. Чем меньше ложноположительных ответов будет давать модель, тем больше будет ее точность."
   ]
  },
  {
   "cell_type": "code",
   "execution_count": 44,
   "id": "NQoCfmmR-7Sf",
   "metadata": {
    "colab": {
     "base_uri": "https://localhost:8080/"
    },
    "id": "NQoCfmmR-7Sf",
    "outputId": "b364b7b8-1c4c-4d71-c164-a584c78ac8ee"
   },
   "outputs": [
    {
     "data": {
      "text/plain": [
       "1.0"
      ]
     },
     "execution_count": 44,
     "metadata": {},
     "output_type": "execute_result"
    }
   ],
   "source": [
    "precision_score(y_test, y_pred)"
   ]
  },
  {
   "cell_type": "markdown",
   "id": "SFPi8m7HVb_9",
   "metadata": {
    "id": "SFPi8m7HVb_9"
   },
   "source": [
    "#### Recall (полнота)"
   ]
  },
  {
   "cell_type": "markdown",
   "id": "4WjC4-CGVio9",
   "metadata": {
    "id": "4WjC4-CGVio9"
   },
   "source": [
    "$$\n",
    "Recall = \\frac{TP}{TP + FN}\n",
    "$$"
   ]
  },
  {
   "cell_type": "markdown",
   "id": "C_dMJq1oVnbb",
   "metadata": {
    "id": "C_dMJq1oVnbb"
   },
   "source": [
    "Recall - доля истинноположительных ответов среди всех объектов положительного класса. Чем меньше ложноотрицательных ответов будет давать модель, тем больше будет ее полнота."
   ]
  },
  {
   "cell_type": "code",
   "execution_count": 45,
   "id": "xEYMq_8-_I22",
   "metadata": {
    "colab": {
     "base_uri": "https://localhost:8080/"
    },
    "id": "xEYMq_8-_I22",
    "outputId": "0d412610-e405-44d5-a26e-e4121fd384d0"
   },
   "outputs": [
    {
     "data": {
      "text/plain": [
       "0.9719626168224299"
      ]
     },
     "execution_count": 45,
     "metadata": {},
     "output_type": "execute_result"
    }
   ],
   "source": [
    "recall_score(y_test, y_pred)"
   ]
  },
  {
   "cell_type": "markdown",
   "id": "byZrIpoZatcZ",
   "metadata": {
    "id": "byZrIpoZatcZ"
   },
   "source": [
    "#### F1-мера"
   ]
  },
  {
   "cell_type": "markdown",
   "id": "l9JXFnxjfrF6",
   "metadata": {
    "id": "l9JXFnxjfrF6"
   },
   "source": [
    "$$\n",
    "F1 = \\frac{2}{\\frac{1}{Recall} + \\frac{1}{Precision}} = \\frac{2 \\cdot Recall \\cdot Precision}{Recall + Precision}\n",
    "$$"
   ]
  },
  {
   "cell_type": "markdown",
   "id": "MZ02jibjgakm",
   "metadata": {
    "id": "MZ02jibjgakm"
   },
   "source": [
    "F1-мера - среднее гармоническое recall и precision. Максимальное значение F1-меры равно единице, когда precision и recall равны единице, а наименьшее возможное значение равно 0, если либо precision, либо recall равны нулю."
   ]
  },
  {
   "cell_type": "code",
   "execution_count": 46,
   "id": "FlkAyAjk_iGH",
   "metadata": {
    "colab": {
     "base_uri": "https://localhost:8080/"
    },
    "id": "FlkAyAjk_iGH",
    "outputId": "8e489fdb-4b77-4174-c8dd-c22bb1d64bd3"
   },
   "outputs": [
    {
     "data": {
      "text/plain": [
       "0.985781990521327"
      ]
     },
     "execution_count": 46,
     "metadata": {},
     "output_type": "execute_result"
    }
   ],
   "source": [
    "f1_score(y_test, y_pred)"
   ]
  },
  {
   "cell_type": "markdown",
   "id": "fEDWxwkPTYhW",
   "metadata": {
    "id": "fEDWxwkPTYhW"
   },
   "source": [
    "Для создания отчета по классам можно воспользоваться функцией classification_report."
   ]
  },
  {
   "cell_type": "code",
   "execution_count": 47,
   "id": "AVs2zu2pSbGu",
   "metadata": {
    "id": "AVs2zu2pSbGu"
   },
   "outputs": [],
   "source": [
    "from sklearn.metrics import classification_report"
   ]
  },
  {
   "cell_type": "code",
   "execution_count": 48,
   "id": "iOcYH8YG4OtN",
   "metadata": {
    "colab": {
     "base_uri": "https://localhost:8080/"
    },
    "id": "iOcYH8YG4OtN",
    "outputId": "4fbb9bf8-8899-4b9e-e5e0-6887076e0554"
   },
   "outputs": [
    {
     "name": "stdout",
     "output_type": "stream",
     "text": [
      "              precision    recall  f1-score   support\n",
      "\n",
      "           0       0.96      1.00      0.98        64\n",
      "           1       1.00      0.97      0.99       107\n",
      "\n",
      "    accuracy                           0.98       171\n",
      "   macro avg       0.98      0.99      0.98       171\n",
      "weighted avg       0.98      0.98      0.98       171\n",
      "\n"
     ]
    }
   ],
   "source": [
    "print(classification_report(y_test, y_pred))"
   ]
  }
 ],
 "metadata": {
  "colab": {
   "collapsed_sections": [],
   "provenance": [],
   "toc_visible": true
  },
  "kernelspec": {
   "display_name": "Python 3 (ipykernel)",
   "language": "python",
   "name": "python3"
  },
  "language_info": {
   "codemirror_mode": {
    "name": "ipython",
    "version": 3
   },
   "file_extension": ".py",
   "mimetype": "text/x-python",
   "name": "python",
   "nbconvert_exporter": "python",
   "pygments_lexer": "ipython3",
   "version": "3.10.7"
  },
  "vscode": {
   "interpreter": {
    "hash": "31f2aee4e71d21fbe5cf8b01ff0e069b9275f58929596ceb00d14d90e3e16cd6"
   }
  }
 },
 "nbformat": 4,
 "nbformat_minor": 5
}
