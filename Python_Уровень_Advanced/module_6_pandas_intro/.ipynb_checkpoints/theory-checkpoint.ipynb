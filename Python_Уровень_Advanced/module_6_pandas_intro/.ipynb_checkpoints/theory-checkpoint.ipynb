{
 "cells": [
  {
   "cell_type": "code",
   "execution_count": null,
   "id": "9d6553cf",
   "metadata": {},
   "outputs": [],
   "source": [
    "!pip3 install pandas"
   ]
  },
  {
   "cell_type": "code",
   "execution_count": null,
   "id": "d1a95879",
   "metadata": {},
   "outputs": [],
   "source": [
    "import pandas as pd"
   ]
  },
  {
   "cell_type": "code",
   "execution_count": null,
   "id": "0e3526fc",
   "metadata": {},
   "outputs": [],
   "source": [
    "pd.__version__"
   ]
  },
  {
   "cell_type": "code",
   "execution_count": null,
   "id": "fde9a8bd",
   "metadata": {},
   "outputs": [],
   "source": [
    "print(pd.__name__)"
   ]
  },
  {
   "cell_type": "code",
   "execution_count": null,
   "id": "f2b78986",
   "metadata": {},
   "outputs": [],
   "source": [
    "# задание 2.4\n",
    "import pandas as pd\n",
    "\n",
    "def create_medications(names, counts):\n",
    "    \"\"\"\n",
    "    Напишите функцию create_mediactions(names, counts), которая  создает Series medications,\n",
    "    индексами которой являются названия лекарств names, а значениями - их количество в поставке counts\n",
    "    \"\"\"\n",
    "    \n",
    "    result = pd.Series(\n",
    "        data=counts,\n",
    "        index=names,\n",
    "        name='medications'\n",
    "    )\n",
    "    return result\n",
    "\n",
    "def get_percent(medications, name):\n",
    "    \"\"\"\n",
    "    А также напишите функцию get_percent(medications, name), которая возвращает долю количества товара\n",
    "    с именем name от общего количества товаров в поставке в процентах.\n",
    "    \"\"\"\n",
    "    \n",
    "    result = medications[name] / medications.sum() * 100\n",
    "    return result\n",
    "\n",
    "\n",
    "if __name__ == '__main__':\n",
    "    names=['chlorhexidine', 'cyntomycin', 'afobazol']\n",
    "    counts=[15, 18, 7]\n",
    "    medications = create_medications(names, counts)\n",
    "    print(get_percent(medications, \"chlorhexidine\")) #37.5"
   ]
  },
  {
   "cell_type": "code",
   "execution_count": null,
   "id": "91cb1de7",
   "metadata": {},
   "outputs": [],
   "source": [
    "# задание 3.5\n",
    "import pandas as pd\n",
    "\n",
    "\n",
    "def create_companyDF(incomes, expenses, years):\n",
    "    df = pd.DataFrame(\n",
    "        data={\n",
    "            'Incomes': incomes,\n",
    "            'Expenses': expenses,\n",
    "        },\n",
    "        index=years,\n",
    "    )\n",
    "    return df\n",
    "\n",
    "\n",
    "def get_profit(df, year):\n",
    "    profit = None\n",
    "    if year in df.index:\n",
    "        profit = df.loc[year, 'Incomes'] - df.loc[year, 'Expenses']\n",
    "    return profit\n",
    "\n",
    "\n",
    "if __name__ == '__main__':\n",
    "    expenses = [156, 130, 270]\n",
    "    incomes = [478, 512, 196]\n",
    "    years = [2018, 2019, 2020]\n",
    "    \n",
    "    scienceyou = create_companyDF(incomes, expenses, years)\n",
    "    print(get_profit(scienceyou, 2020)) #-74"
   ]
  },
  {
   "cell_type": "code",
   "execution_count": null,
   "id": "e2057e63",
   "metadata": {},
   "outputs": [],
   "source": [
    "countries_df = pd.DataFrame({\n",
    "    'country': ['Англия', 'Канада', 'США', 'Россия', 'Украина', 'Беларусь', 'Казахстан'],\n",
    "    'population': [56.29, 38.05, 322.28, 146.24, 45.5, 9.5, 17.04],\n",
    "    'square': [133396, 9984670, 9826630, 17125191, 603628, 207600, 2724902]\n",
    "})\n",
    "\n",
    "countries_df.to_csv('data/countries.csv', index=False, sep=';')"
   ]
  },
  {
   "cell_type": "code",
   "execution_count": null,
   "id": "f5de9032",
   "metadata": {},
   "outputs": [],
   "source": [
    "countries_data = pd.read_csv('data/countries.csv', sep=';')\n",
    "display(countries_data)"
   ]
  },
  {
   "cell_type": "code",
   "execution_count": null,
   "id": "4dbd082c",
   "metadata": {},
   "outputs": [],
   "source": [
    "data = pd.read_csv('https://raw.githubusercontent.com/esabunor/MLWorkspace/master/melb_data.csv')\n",
    "display(data)"
   ]
  },
  {
   "cell_type": "code",
   "execution_count": null,
   "id": "bb029c84",
   "metadata": {},
   "outputs": [],
   "source": []
  },
  {
   "cell_type": "code",
   "execution_count": null,
   "id": "59c407af",
   "metadata": {},
   "outputs": [],
   "source": [
    "melb_data = pd.read_csv('data/melb_data.csv', sep=',')"
   ]
  },
  {
   "cell_type": "code",
   "execution_count": null,
   "id": "f1037558",
   "metadata": {},
   "outputs": [],
   "source": [
    "melb_data.iloc[15]['Price']"
   ]
  },
  {
   "cell_type": "code",
   "execution_count": null,
   "id": "5d0827fb",
   "metadata": {},
   "outputs": [],
   "source": [
    "melb_data.iloc[90]['Date']"
   ]
  },
  {
   "cell_type": "code",
   "execution_count": null,
   "id": "6bfed4ae",
   "metadata": {},
   "outputs": [],
   "source": [
    "round(melb_data.iloc[3521]['Landsize'] / melb_data.iloc[1690]['Landsize'])"
   ]
  },
  {
   "cell_type": "code",
   "execution_count": null,
   "id": "a10c44d7",
   "metadata": {},
   "outputs": [],
   "source": [
    "display(melb_data.head())"
   ]
  },
  {
   "cell_type": "code",
   "execution_count": null,
   "id": "8a6289e8",
   "metadata": {},
   "outputs": [],
   "source": [
    "melb_data.tail(7)"
   ]
  },
  {
   "cell_type": "code",
   "execution_count": null,
   "id": "15985705",
   "metadata": {},
   "outputs": [],
   "source": [
    "melb_data.shape"
   ]
  },
  {
   "cell_type": "code",
   "execution_count": null,
   "id": "9344cf7c",
   "metadata": {},
   "outputs": [],
   "source": [
    "melb_data.info()"
   ]
  },
  {
   "cell_type": "code",
   "execution_count": null,
   "id": "81416702",
   "metadata": {},
   "outputs": [],
   "source": [
    "melb_data['Car'] = melb_data['Car'].astype('int64')\n",
    "melb_data['Bedroom'] = melb_data['Bedroom'].astype('int64')\n",
    "melb_data['Bathroom'] = melb_data['Bathroom'].astype('int64')\n",
    "melb_data['Propertycount'] = melb_data['Propertycount'].astype('int64')\n",
    "melb_data['YearBuilt'] = melb_data['YearBuilt'].astype('int64')\n",
    "melb_data.info()"
   ]
  },
  {
   "cell_type": "code",
   "execution_count": null,
   "id": "155ccd1b",
   "metadata": {},
   "outputs": [],
   "source": [
    "melb_data.describe().loc[:, ['Distance', 'BuildingArea' , 'Price']]"
   ]
  },
  {
   "cell_type": "code",
   "execution_count": null,
   "id": "d6a2d3c3",
   "metadata": {},
   "outputs": [],
   "source": [
    "melb_data.describe(include=['object'])"
   ]
  },
  {
   "cell_type": "code",
   "execution_count": null,
   "id": "86dac2cb",
   "metadata": {},
   "outputs": [],
   "source": [
    "melb_data['Regionname'].value_counts()"
   ]
  },
  {
   "cell_type": "code",
   "execution_count": null,
   "id": "989cb7ad",
   "metadata": {},
   "outputs": [],
   "source": [
    "melb_data['Regionname'].value_counts(normalize=True)"
   ]
  },
  {
   "cell_type": "code",
   "execution_count": null,
   "id": "8113e683",
   "metadata": {},
   "outputs": [],
   "source": [
    "data = pd.DataFrame([[0,1], [1, 0], [1, 1]], columns=['А', 'B'])\n",
    "print(data.shape)"
   ]
  },
  {
   "cell_type": "code",
   "execution_count": null,
   "id": "d6ccc9df",
   "metadata": {},
   "outputs": [],
   "source": [
    "13580 - 12211\n"
   ]
  },
  {
   "cell_type": "code",
   "execution_count": null,
   "id": "f766f0e7",
   "metadata": {},
   "outputs": [],
   "source": [
    "melb_data['Type'].value_counts(normalize=True) * 100"
   ]
  },
  {
   "cell_type": "code",
   "execution_count": null,
   "id": "c3f81f6f",
   "metadata": {},
   "outputs": [],
   "source": [
    "print(melb_data['Price'].mean())"
   ]
  },
  {
   "cell_type": "code",
   "execution_count": null,
   "id": "0d5090e4",
   "metadata": {},
   "outputs": [],
   "source": [
    "print(melb_data['Car'].max())"
   ]
  },
  {
   "cell_type": "code",
   "execution_count": null,
   "id": "20bf991f",
   "metadata": {},
   "outputs": [],
   "source": [
    "rate = 0.12\n",
    "income = melb_data['Price'].sum() * rate\n",
    "print('Total income of real estate agencies:', round(income, 2))"
   ]
  },
  {
   "cell_type": "code",
   "execution_count": null,
   "id": "dbd9a830",
   "metadata": {},
   "outputs": [],
   "source": [
    "landsize_median = melb_data['Landsize'].median() \n",
    "landsize_mean =  melb_data['Landsize'].mean()\n",
    "print(abs(landsize_median - landsize_mean)/landsize_mean)"
   ]
  },
  {
   "cell_type": "code",
   "execution_count": null,
   "id": "27b27710",
   "metadata": {},
   "outputs": [],
   "source": [
    "print(melb_data['Rooms'].mode())"
   ]
  },
  {
   "cell_type": "code",
   "execution_count": null,
   "id": "78bd7e7b",
   "metadata": {},
   "outputs": [],
   "source": [
    "melb_data['Regionname'].mode()"
   ]
  },
  {
   "cell_type": "code",
   "execution_count": null,
   "id": "91d3b051",
   "metadata": {},
   "outputs": [],
   "source": [
    "melb_data['Propertycount'].max()"
   ]
  },
  {
   "cell_type": "code",
   "execution_count": null,
   "id": "26f71066",
   "metadata": {},
   "outputs": [],
   "source": [
    "melb_data['Distance'].std()"
   ]
  },
  {
   "cell_type": "code",
   "execution_count": null,
   "id": "cdd657db",
   "metadata": {},
   "outputs": [],
   "source": [
    "(melb_data['BuildingArea'].median() - melb_data['BuildingArea'].mean()) / melb_data['BuildingArea'].median() * 100"
   ]
  },
  {
   "cell_type": "code",
   "execution_count": null,
   "id": "b6b08ee4",
   "metadata": {},
   "outputs": [],
   "source": [
    "melb_data['Bedroom'].mode()"
   ]
  },
  {
   "cell_type": "code",
   "execution_count": null,
   "id": "efbd2282",
   "metadata": {},
   "outputs": [],
   "source": [
    "mask = melb_data['Price'] > 2000000\n",
    "display(mask)"
   ]
  },
  {
   "cell_type": "code",
   "execution_count": null,
   "id": "07b82b6b",
   "metadata": {},
   "outputs": [],
   "source": [
    "display(melb_data[mask].head())"
   ]
  },
  {
   "cell_type": "code",
   "execution_count": null,
   "id": "42e84b1a",
   "metadata": {},
   "outputs": [],
   "source": [
    "melb_data[melb_data['Rooms'] == 3].shape[0]"
   ]
  },
  {
   "cell_type": "code",
   "execution_count": null,
   "id": "4d01ce78",
   "metadata": {},
   "outputs": [],
   "source": [
    "melb_data[(melb_data['Rooms'] == 3) & (melb_data['Price'] < 300000)].shape[0]"
   ]
  },
  {
   "cell_type": "code",
   "execution_count": null,
   "id": "6475db2f",
   "metadata": {},
   "outputs": [],
   "source": [
    "melb_data[((melb_data['Rooms'] == 3) | (melb_data['BuildingArea'] > 100)) & (melb_data['Price'] < 300000)].shape[0]"
   ]
  },
  {
   "cell_type": "code",
   "execution_count": null,
   "id": "a9efcb8c",
   "metadata": {},
   "outputs": [],
   "source": [
    "melb_data[melb_data['Type'] == 't']['Rooms'].max()"
   ]
  },
  {
   "cell_type": "code",
   "execution_count": null,
   "id": "4e4cdd5f",
   "metadata": {},
   "outputs": [],
   "source": [
    "mean_price = melb_data['Price'].mean()\n",
    "melb_data[melb_data['Price'] > mean_price]['BuildingArea'].median()"
   ]
  },
  {
   "cell_type": "code",
   "execution_count": null,
   "id": "e0875cfe",
   "metadata": {},
   "outputs": [],
   "source": [
    "melb_data[melb_data['Bathroom'] == 0].shape[0]"
   ]
  },
  {
   "cell_type": "code",
   "execution_count": null,
   "id": "9c0ecf52",
   "metadata": {},
   "outputs": [],
   "source": []
  },
  {
   "cell_type": "code",
   "execution_count": null,
   "id": "86fe3fb8",
   "metadata": {},
   "outputs": [],
   "source": [
    "df = pd.read_csv('data/students_performance.csv')"
   ]
  },
  {
   "cell_type": "code",
   "execution_count": null,
   "id": "6524b315",
   "metadata": {},
   "outputs": [],
   "source": [
    "df"
   ]
  },
  {
   "cell_type": "code",
   "execution_count": null,
   "id": "888f825e",
   "metadata": {},
   "outputs": [],
   "source": [
    "df.shape"
   ]
  },
  {
   "cell_type": "code",
   "execution_count": null,
   "id": "f75f848d",
   "metadata": {},
   "outputs": [],
   "source": [
    "df.iloc[155]"
   ]
  },
  {
   "cell_type": "code",
   "execution_count": null,
   "id": "e5f49600",
   "metadata": {},
   "outputs": [],
   "source": [
    "df.isna().sum()"
   ]
  },
  {
   "cell_type": "code",
   "execution_count": null,
   "id": "822e4f8c",
   "metadata": {},
   "outputs": [],
   "source": [
    "df.info()"
   ]
  },
  {
   "cell_type": "code",
   "execution_count": null,
   "id": "3317fd35",
   "metadata": {},
   "outputs": [],
   "source": [
    "df['math score'].mean()\n"
   ]
  },
  {
   "cell_type": "code",
   "execution_count": null,
   "id": "526b812a",
   "metadata": {},
   "outputs": [],
   "source": [
    "df['race/ethnicity'].value_counts()"
   ]
  },
  {
   "cell_type": "code",
   "execution_count": null,
   "id": "ad5ea464",
   "metadata": {},
   "outputs": [],
   "source": [
    "df[df['test preparation course'] == 'completed']['reading score'].mean()"
   ]
  },
  {
   "cell_type": "code",
   "execution_count": null,
   "id": "648a7247",
   "metadata": {},
   "outputs": [],
   "source": [
    "(df['math score'] == 0).sum()"
   ]
  },
  {
   "cell_type": "code",
   "execution_count": null,
   "id": "52baf335",
   "metadata": {},
   "outputs": [],
   "source": [
    "df[df['lunch'] == 'standard']['math score'].mean()"
   ]
  },
  {
   "cell_type": "code",
   "execution_count": null,
   "id": "58f65049",
   "metadata": {},
   "outputs": [],
   "source": [
    "df[df['lunch'] == 'free/reduced']['math score'].mean()"
   ]
  },
  {
   "cell_type": "code",
   "execution_count": null,
   "id": "b492dbcf",
   "metadata": {},
   "outputs": [],
   "source": [
    "df['parental level of education'].value_counts(normalize=True)"
   ]
  },
  {
   "cell_type": "code",
   "execution_count": null,
   "id": "9664be96",
   "metadata": {},
   "outputs": [],
   "source": [
    "df[df['race/ethnicity'] == 'group A']['writing score'].median() - df[df['race/ethnicity'] == 'group C']['writing score'].mean()"
   ]
  },
  {
   "cell_type": "code",
   "execution_count": null,
   "id": "3cb1b03a",
   "metadata": {},
   "outputs": [],
   "source": []
  }
 ],
 "metadata": {
  "kernelspec": {
   "display_name": "Python 3 (ipykernel)",
   "language": "python",
   "name": "python3"
  },
  "language_info": {
   "codemirror_mode": {
    "name": "ipython",
    "version": 3
   },
   "file_extension": ".py",
   "mimetype": "text/x-python",
   "name": "python",
   "nbconvert_exporter": "python",
   "pygments_lexer": "ipython3",
   "version": "3.10.6"
  }
 },
 "nbformat": 4,
 "nbformat_minor": 5
}
