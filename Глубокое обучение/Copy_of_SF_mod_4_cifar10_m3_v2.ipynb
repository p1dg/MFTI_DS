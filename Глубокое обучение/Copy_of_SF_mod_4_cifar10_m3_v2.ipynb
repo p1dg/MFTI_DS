{
  "nbformat": 4,
  "nbformat_minor": 0,
  "metadata": {
    "colab": {
      "provenance": []
    },
    "kernelspec": {
      "name": "python3",
      "display_name": "Python 3"
    },
    "accelerator": "GPU"
  },
  "cells": [
    {
      "cell_type": "markdown",
      "metadata": {
        "ExecuteTime": {
          "end_time": "2017-09-03T21:05:26.096298Z",
          "start_time": "2017-09-03T21:05:26.092498Z"
        },
        "id": "QqUJpyiXeS6R"
      },
      "source": [
        "# CIFAR-10 с трюками\n",
        "\n",
        "В этом задании мы продолжим работать с CIFAR-10, опробовав трюки, про которые мы узнали в 4 модуле.\n",
        "\n",
        "Датасет CIFAR-10 состоит из цветных картинок 32x32, разделенных на 10 классов: \n",
        "\n",
        "__airplane, automobile, bird, cat, deer, dog, frog, horse, ship, truck__"
      ]
    },
    {
      "cell_type": "markdown",
      "metadata": {
        "id": "2J7GNImieS6S"
      },
      "source": [
        "# Импорты"
      ]
    },
    {
      "cell_type": "code",
      "metadata": {
        "id": "eRPloRJDGBZA",
        "outputId": "7323bd26-e6ab-4fac-8e9e-dc4f67a337ca",
        "colab": {
          "base_uri": "https://localhost:8080/"
        }
      },
      "source": [
        "!pip install -q tensorflow==2.1"
      ],
      "execution_count": 1,
      "outputs": [
        {
          "output_type": "stream",
          "name": "stdout",
          "text": [
            "\u001b[31mERROR: Could not find a version that satisfies the requirement tensorflow==2.1 (from versions: 2.8.0rc0, 2.8.0rc1, 2.8.0, 2.8.1, 2.8.2, 2.8.3, 2.8.4, 2.9.0rc0, 2.9.0rc1, 2.9.0rc2, 2.9.0, 2.9.1, 2.9.2, 2.9.3, 2.10.0rc0, 2.10.0rc1, 2.10.0rc2, 2.10.0rc3, 2.10.0, 2.10.1, 2.11.0rc0, 2.11.0rc1, 2.11.0rc2, 2.11.0, 2.11.1, 2.12.0rc0, 2.12.0rc1, 2.12.0, 2.13.0rc0)\u001b[0m\u001b[31m\n",
            "\u001b[0m\u001b[31mERROR: No matching distribution found for tensorflow==2.1\u001b[0m\u001b[31m\n",
            "\u001b[0m"
          ]
        }
      ]
    },
    {
      "cell_type": "code",
      "metadata": {
        "ExecuteTime": {
          "end_time": "2017-10-29T18:51:58.907479Z",
          "start_time": "2017-10-29T18:51:42.206537Z"
        },
        "scrolled": true,
        "id": "LQIUU8LdeS6d",
        "outputId": "e5a7ecce-edaa-4b0f-901f-421ed54d1f8b",
        "colab": {
          "base_uri": "https://localhost:8080/"
        }
      },
      "source": [
        "import tensorflow as tf\n",
        "import tensorflow.keras as keras\n",
        "import tensorflow.keras.models as M\n",
        "import tensorflow.keras.layers as L\n",
        "import tensorflow.keras.backend as K\n",
        "import numpy as np\n",
        "%matplotlib inline\n",
        "import matplotlib.pyplot as plt\n",
        "print(tf.__version__)\n",
        "print(keras.__version__)"
      ],
      "execution_count": 2,
      "outputs": [
        {
          "output_type": "stream",
          "name": "stdout",
          "text": [
            "2.12.0\n",
            "2.12.0\n"
          ]
        }
      ]
    },
    {
      "cell_type": "markdown",
      "metadata": {
        "id": "sGYhZCO9eS6m"
      },
      "source": [
        "# Загружаем данные"
      ]
    },
    {
      "cell_type": "code",
      "metadata": {
        "ExecuteTime": {
          "end_time": "2017-09-03T23:44:40.870302Z",
          "start_time": "2017-09-03T23:44:39.221603Z"
        },
        "id": "PGXgRLxxeS6n",
        "outputId": "c57a461b-62f0-4e2f-b4ba-6541a93c43bf",
        "colab": {
          "base_uri": "https://localhost:8080/"
        }
      },
      "source": [
        "from tensorflow.keras.datasets import cifar10\n",
        "(x_train, y_train), (x_test, y_test) = cifar10.load_data()"
      ],
      "execution_count": 3,
      "outputs": [
        {
          "output_type": "stream",
          "name": "stdout",
          "text": [
            "Downloading data from https://www.cs.toronto.edu/~kriz/cifar-10-python.tar.gz\n",
            "170498071/170498071 [==============================] - 2s 0us/step\n"
          ]
        }
      ]
    },
    {
      "cell_type": "code",
      "metadata": {
        "ExecuteTime": {
          "end_time": "2017-09-04T00:27:41.648291Z",
          "start_time": "2017-09-04T00:27:41.644322Z"
        },
        "id": "x7J3FtvBeS6r",
        "outputId": "7114446f-7bab-4031-9667-efc88ffb5ed5",
        "colab": {
          "base_uri": "https://localhost:8080/"
        }
      },
      "source": [
        "print(\"Трейн:\", x_train.shape, y_train.shape)\n",
        "print(\"Тест:\", x_test.shape, y_test.shape)"
      ],
      "execution_count": 4,
      "outputs": [
        {
          "output_type": "stream",
          "name": "stdout",
          "text": [
            "Трейн: (50000, 32, 32, 3) (50000, 1)\n",
            "Тест: (10000, 32, 32, 3) (10000, 1)\n"
          ]
        }
      ]
    },
    {
      "cell_type": "code",
      "metadata": {
        "ExecuteTime": {
          "end_time": "2017-09-03T23:44:41.009639Z",
          "start_time": "2017-09-03T23:44:40.877013Z"
        },
        "id": "kA2RHYeveS6u"
      },
      "source": [
        "NUM_CLASSES = 10\n",
        "cifar10_classes = [\"airplane\", \"automobile\", \"bird\", \"cat\", \"deer\", \n",
        "                   \"dog\", \"frog\", \"horse\", \"ship\", \"truck\"]"
      ],
      "execution_count": 5,
      "outputs": []
    },
    {
      "cell_type": "code",
      "metadata": {
        "ExecuteTime": {
          "end_time": "2017-09-03T23:44:42.285830Z",
          "start_time": "2017-09-03T23:44:41.011216Z"
        },
        "id": "yfavHnQyeS6x",
        "outputId": "6b2073d3-6edb-435a-8f9e-c66c5e45741d",
        "colab": {
          "base_uri": "https://localhost:8080/",
          "height": 350
        }
      },
      "source": [
        "# посмотрим на примеры картинок\n",
        "cols = 8\n",
        "rows = 2\n",
        "fig = plt.figure(figsize=(2 * cols - 1, 2.5 * rows - 1))\n",
        "for i in range(cols):\n",
        "    for j in range(rows):\n",
        "        random_index = np.random.randint(0, len(y_train))\n",
        "        ax = fig.add_subplot(rows, cols, i * rows + j + 1)\n",
        "        ax.grid('off')\n",
        "        ax.axis('off')\n",
        "        ax.imshow(x_train[random_index, :])\n",
        "        ax.set_title(cifar10_classes[y_train[random_index, 0]])\n",
        "plt.show()"
      ],
      "execution_count": 6,
      "outputs": [
        {
          "output_type": "display_data",
          "data": {
            "text/plain": [
              "<Figure size 1500x400 with 16 Axes>"
            ],
            "image/png": "[encoded data removed]"
          },
          "metadata": {}
        }
      ]
    },
    {
      "cell_type": "markdown",
      "metadata": {
        "id": "nKv-XBsneS61"
      },
      "source": [
        "# Готовим данные"
      ]
    },
    {
      "cell_type": "markdown",
      "metadata": {
        "id": "baNUrgH_eS61"
      },
      "source": [
        "Не забудьте нормализовать картинки: $$x_{norm} = \\frac{x}{255} - 0.5$$\n",
        "\n",
        "А еще нужно превратить метки в one-hot вектора при помощи __keras.utils.to_categorical__."
      ]
    },
    {
      "cell_type": "code",
      "metadata": {
        "ExecuteTime": {
          "end_time": "2017-09-04T00:25:55.504781Z",
          "start_time": "2017-09-04T00:25:55.500823Z"
        },
        "id": "ibxYQzBNeS62"
      },
      "source": [
        "# нормализуем входы\n",
        "x_train2 = x_train.astype('float32') / 255 - 0.5\n",
        "x_test2 = x_test.astype('float32') / 255 - 0.5\n",
        "\n",
        "# конвертируем метки в np.array (?, NUM_CLASSES)\n",
        "y_train2 = keras.utils.to_categorical(y_train, NUM_CLASSES)\n",
        "y_test2 = keras.utils.to_categorical(y_test, NUM_CLASSES)"
      ],
      "execution_count": 7,
      "outputs": []
    },
    {
      "cell_type": "markdown",
      "metadata": {
        "id": "-HfEuXTOeS65"
      },
      "source": [
        "# Задаем *дефолтную* архитектуру сети"
      ]
    },
    {
      "cell_type": "code",
      "metadata": {
        "ExecuteTime": {
          "end_time": "2017-08-24T11:39:23.631230Z",
          "start_time": "2017-08-24T11:39:23.627975Z"
        },
        "id": "UbVJNxDweS66"
      },
      "source": [
        "# слои, которые нам пригодятся\n",
        "from tensorflow.keras.models import Sequential\n",
        "from tensorflow.keras.layers import Conv2D, MaxPooling2D, Flatten, Dense, Dropout, BatchNormalization"
      ],
      "execution_count": 8,
      "outputs": []
    },
    {
      "cell_type": "markdown",
      "metadata": {
        "id": "z-aSooUceS69"
      },
      "source": [
        "Нам понадобятся такие слои:\n",
        "- [Conv2D](https://keras.io/layers/convolutional/#conv2d) - сверточный слой:\n",
        "    - **filters**: количество фильтров на выходе; \n",
        "    - **kernel_size**: размер скользящего окна;\n",
        "    - **padding**: padding=\"same\" добивает нулями, чтобы ширина и высота на выходе не изменились, padding='valid' берет только окна, которые полностью помещаются в картинке;\n",
        "    - **activation**: \"relu\", \"tanh\", итд;\n",
        "    - **input_shape**: размер входа вида (W, H, C_in).\n",
        "- [MaxPooling2D](https://keras.io/layers/pooling/#maxpooling2d) - пулинг\n",
        "- [Flatten](https://keras.io/layers/core/#flatten) - все оси, кроме батча (первой) вытягиваются в один вектор.\n",
        "- [Dense](https://keras.io/layers/core/#dense) - плотный, активацию можно задать через activation=\"elu\" или activation=\"softmax\".\n",
        "- [Dropout](https://keras.io/layers/core/#dropout) - дропаут регуляризация (без нее сеть сильно переобучается), позже узнаем какой у нее смысл."
      ]
    },
    {
      "cell_type": "markdown",
      "metadata": {
        "ExecuteTime": {
          "end_time": "2017-09-03T23:48:59.567910Z",
          "start_time": "2017-09-03T23:48:59.564449Z"
        },
        "id": "ZArk-HgHeS69"
      },
      "source": [
        "Ваша модель должна принимать на вход цветную картинку __(None, 32, 32, 3)__ и предсказывать вероятности 10 классов __(None, 10)__.\n",
        "\n",
        "Добавьте __4__ сверточных слоя с окном __(3, 3)__ с нарастающим количеством фильтров: __(16, 32, 32, 64)__, используйте \"same\" паддинг.\n",
        "\n",
        "Добавьте __2x2__ макс пулинг после каждых 2 сверточных слоев (conv-conv-pool схема).\n",
        "\n",
        "Используйте __activation='relu'__ для всех слоев, где это нужно.\n",
        "\n",
        "Добавьте плотный слой из __256__ нейронов и еще один из __10__ нейронов для предсказания выходов. Не забудьте применить __Flatten__ перед первым плотным слоем!\n",
        "\n",
        "Для регуляризации сети вставьте Dropout после каждого пулинг слоя (с параметром** 0.25**) и между плотными слоями на выходе (с параметром **0.5**).\n",
        "\n",
        "В дальнейшем будем называть эту архитектуру **дефолтной** и будем исследовать небольшие изменения в ней!"
      ]
    },
    {
      "cell_type": "code",
      "metadata": {
        "ExecuteTime": {
          "end_time": "2017-08-24T11:39:23.739649Z",
          "start_time": "2017-08-24T11:39:23.632558Z"
        },
        "id": "KBdc7NJgeS6-"
      },
      "source": [
        "def make_default_model():\n",
        "    model = Sequential()\n",
        "    model.add(\n",
        "        Conv2D(filters=16, kernel_size=(3, 3), padding='same', activation=\"relu\", input_shape=(32, 32, 3))\n",
        "    )\n",
        "    model.add(\n",
        "        Conv2D(filters=32, kernel_size=(3, 3), padding='same', activation=\"relu\")\n",
        "    )\n",
        "    model.add(\n",
        "        MaxPooling2D(pool_size=(2, 2))\n",
        "    )\n",
        "    model.add(\n",
        "        Dropout(rate=0.25)\n",
        "    )\n",
        "    model.add(\n",
        "        Conv2D(filters=32, kernel_size=(3, 3), padding='same', activation=\"relu\")\n",
        "    )\n",
        "    model.add(\n",
        "        Conv2D(filters=54, kernel_size=(3, 3), padding='same', activation=\"relu\")\n",
        "    )\n",
        "    model.add(\n",
        "        MaxPooling2D(pool_size=(2, 2))\n",
        "    )\n",
        "    model.add(\n",
        "        Dropout(rate=0.25)\n",
        "    )\n",
        "    model.add(\n",
        "        Flatten()\n",
        "    )\n",
        "    model.add(\n",
        "        Dense(units=256, activation='relu')\n",
        "    )\n",
        "    model.add(\n",
        "        Dropout(rate=0.5)\n",
        "    )\n",
        "    model.add(\n",
        "        Dense(units=10, activation='softmax')\n",
        "    )\n",
        "    return model"
      ],
      "execution_count": 9,
      "outputs": []
    },
    {
      "cell_type": "code",
      "metadata": {
        "ExecuteTime": {
          "end_time": "2017-08-24T11:39:23.948546Z",
          "start_time": "2017-08-24T11:39:23.741012Z"
        },
        "id": "Ho-m53kLeS7A",
        "colab": {
          "base_uri": "https://localhost:8080/"
        },
        "outputId": "0674a119-b04d-40f6-b353-817acf53f56c"
      },
      "source": [
        "K.clear_session()\n",
        "model = make_default_model()\n",
        "model.summary()"
      ],
      "execution_count": 10,
      "outputs": [
        {
          "output_type": "stream",
          "name": "stdout",
          "text": [
            "Model: \"sequential\"\n",
            "_________________________________________________________________\n",
            " Layer (type)                Output Shape              Param #   \n",
            "=================================================================\n",
            " conv2d (Conv2D)             (None, 32, 32, 16)        448       \n",
            "                                                                 \n",
            " conv2d_1 (Conv2D)           (None, 32, 32, 32)        4640      \n",
            "                                                                 \n",
            " max_pooling2d (MaxPooling2D  (None, 16, 16, 32)       0         \n",
            " )                                                               \n",
            "                                                                 \n",
            " dropout (Dropout)           (None, 16, 16, 32)        0         \n",
            "                                                                 \n",
            " conv2d_2 (Conv2D)           (None, 16, 16, 32)        9248      \n",
            "                                                                 \n",
            " conv2d_3 (Conv2D)           (None, 16, 16, 54)        15606     \n",
            "                                                                 \n",
            " max_pooling2d_1 (MaxPooling  (None, 8, 8, 54)         0         \n",
            " 2D)                                                             \n",
            "                                                                 \n",
            " dropout_1 (Dropout)         (None, 8, 8, 54)          0         \n",
            "                                                                 \n",
            " flatten (Flatten)           (None, 3456)              0         \n",
            "                                                                 \n",
            " dense (Dense)               (None, 256)               884992    \n",
            "                                                                 \n",
            " dropout_2 (Dropout)         (None, 256)               0         \n",
            "                                                                 \n",
            " dense_1 (Dense)             (None, 10)                2570      \n",
            "                                                                 \n",
            "=================================================================\n",
            "Total params: 917,504\n",
            "Trainable params: 917,504\n",
            "Non-trainable params: 0\n",
            "_________________________________________________________________\n"
          ]
        }
      ]
    },
    {
      "cell_type": "markdown",
      "metadata": {
        "id": "H8IHeJHzeS7P"
      },
      "source": [
        "# Тренируем модель"
      ]
    },
    {
      "cell_type": "code",
      "metadata": {
        "ExecuteTime": {
          "end_time": "2017-08-24T12:18:39.059726Z",
          "start_time": "2017-08-24T11:39:23.949926Z"
        },
        "id": "Ko6qjH2HeS7Q"
      },
      "source": [
        "def train_model(make_model_func=make_default_model, optimizer=\"adam\"):\n",
        "  BATCH_SIZE = 32\n",
        "  EPOCHS = 10\n",
        "\n",
        "  K.clear_session()\n",
        "  model = make_model_func()\n",
        "\n",
        "  model.compile(\n",
        "      loss='categorical_crossentropy',\n",
        "      optimizer=optimizer,\n",
        "      metrics=['accuracy']\n",
        "  )\n",
        "\n",
        "  model.fit(\n",
        "      x_train2, y_train2,  # нормализованные данные\n",
        "      batch_size=BATCH_SIZE,\n",
        "      epochs=EPOCHS,\n",
        "      validation_data=(x_test2, y_test2),\n",
        "      shuffle=False\n",
        "  )\n",
        "  \n",
        "  return model"
      ],
      "execution_count": 11,
      "outputs": []
    },
    {
      "cell_type": "markdown",
      "metadata": {
        "id": "1AkfrVmdA6AP"
      },
      "source": [
        "Давайте посмотрим, что будет с дефолтной моделью (модель = make_default_model, оптимайзер = \"adam\"), если ее немного поменять:\n",
        "\n",
        "\n",
        "Часть 1 :\n",
        "1.   Какое качество (accuracy) на валидации дает **дефолтная архитектура**?\n",
        "\n",
        "Часть 2:\n",
        "2.   Измените в дефолтной архитектуре **relu активацию на sigmoid**, какое качество на валидации получили?\n",
        "3.   Измените в дефолтной архитектуре **adam оптимайзер на sgd**, какое качество на валидации получили?\n",
        "4.   Добавьте к дефолтной архитектуре **батч нормализацию** после каждого сверточного слоя и после перового полносвязного (model.add(BatchNormalization())), какое качество на валидации получили?\n",
        "5.   Добавьте к дефолтной архитектуре **батч нормализацию** и смените **relu активацию на sigmoid**,  какое качество на валидации получили?\n",
        "  \n",
        "*Рекомендуется завести свою функцию для каждого изменения архитектуры!*\n"
      ]
    },
    {
      "cell_type": "code",
      "metadata": {
        "id": "2zS3rW7S_D6j",
        "colab": {
          "base_uri": "https://localhost:8080/"
        },
        "outputId": "45715421-a70a-47f7-f28b-1f5dbf5256c2"
      },
      "source": [
        "# учим дефолтную архитектуру\n",
        "train_model()"
      ],
      "execution_count": 12,
      "outputs": [
        {
          "output_type": "stream",
          "name": "stdout",
          "text": [
            "Epoch 1/10\n",
            "1563/1563 [==============================] - 25s 7ms/step - loss: 1.4965 - accuracy: 0.4579 - val_loss: 1.0723 - val_accuracy: 0.6199\n",
            "Epoch 2/10\n",
            "1563/1563 [==============================] - 11s 7ms/step - loss: 1.1132 - accuracy: 0.6060 - val_loss: 0.9246 - val_accuracy: 0.6745\n",
            "Epoch 3/10\n",
            "1563/1563 [==============================] - 11s 7ms/step - loss: 0.9726 - accuracy: 0.6587 - val_loss: 0.8243 - val_accuracy: 0.7131\n",
            "Epoch 4/10\n",
            "1563/1563 [==============================] - 11s 7ms/step - loss: 0.8754 - accuracy: 0.6903 - val_loss: 0.7825 - val_accuracy: 0.7287\n",
            "Epoch 5/10\n",
            "1563/1563 [==============================] - 10s 7ms/step - loss: 0.8155 - accuracy: 0.7119 - val_loss: 0.7602 - val_accuracy: 0.7322\n",
            "Epoch 6/10\n",
            "1563/1563 [==============================] - 10s 7ms/step - loss: 0.7713 - accuracy: 0.7289 - val_loss: 0.7550 - val_accuracy: 0.7411\n",
            "Epoch 7/10\n",
            "1563/1563 [==============================] - 10s 6ms/step - loss: 0.7319 - accuracy: 0.7431 - val_loss: 0.7331 - val_accuracy: 0.7480\n",
            "Epoch 8/10\n",
            "1563/1563 [==============================] - 10s 6ms/step - loss: 0.7024 - accuracy: 0.7511 - val_loss: 0.7025 - val_accuracy: 0.7548\n",
            "Epoch 9/10\n",
            "1563/1563 [==============================] - 11s 7ms/step - loss: 0.6678 - accuracy: 0.7657 - val_loss: 0.6848 - val_accuracy: 0.7661\n",
            "Epoch 10/10\n",
            "1563/1563 [==============================] - 11s 7ms/step - loss: 0.6490 - accuracy: 0.7706 - val_loss: 0.6848 - val_accuracy: 0.7650\n"
          ]
        },
        {
          "output_type": "execute_result",
          "data": {
            "text/plain": [
              "<keras.engine.sequential.Sequential at 0x7f1b741e7430>"
            ]
          },
          "metadata": {},
          "execution_count": 12
        }
      ]
    },
    {
      "cell_type": "code",
      "metadata": {
        "id": "Ys7J_92qHYVN"
      },
      "source": [
        "def make_sigmoid_model():\n",
        "    model = Sequential()\n",
        "    model.add(\n",
        "        Conv2D(filters=16, kernel_size=(3, 3), padding='same', activation=\"sigmoid\", input_shape=(32, 32, 3))\n",
        "    )\n",
        "    model.add(\n",
        "        Conv2D(filters=32, kernel_size=(3, 3), padding='same', activation=\"sigmoid\")\n",
        "    )\n",
        "    model.add(\n",
        "        MaxPooling2D(pool_size=(2, 2))\n",
        "    )\n",
        "    model.add(\n",
        "        Dropout(rate=0.25)\n",
        "    )\n",
        "    model.add(\n",
        "        Conv2D(filters=32, kernel_size=(3, 3), padding='same', activation=\"sigmoid\")\n",
        "    )\n",
        "    model.add(\n",
        "        Conv2D(filters=54, kernel_size=(3, 3), padding='same', activation=\"sigmoid\")\n",
        "    )\n",
        "    model.add(\n",
        "        MaxPooling2D(pool_size=(2, 2))\n",
        "    )\n",
        "    model.add(\n",
        "        Dropout(rate=0.25)\n",
        "    )\n",
        "    model.add(\n",
        "        Flatten()\n",
        "    )\n",
        "    model.add(\n",
        "        Dense(units=256, activation='sigmoid')\n",
        "    )\n",
        "    model.add(\n",
        "        Dropout(rate=0.5)\n",
        "    )\n",
        "    model.add(\n",
        "        Dense(units=10, activation='softmax')\n",
        "    )\n",
        "    return model"
      ],
      "execution_count": 13,
      "outputs": []
    },
    {
      "cell_type": "code",
      "metadata": {
        "id": "W9lWbYckHwnU",
        "colab": {
          "base_uri": "https://localhost:8080/"
        },
        "outputId": "d8cc84d3-63c0-4357-b518-ac38ce5c0d76"
      },
      "source": [
        "# учим sigmoid\n",
        "train_model(make_sigmoid_model)"
      ],
      "execution_count": 14,
      "outputs": [
        {
          "output_type": "stream",
          "name": "stdout",
          "text": [
            "Epoch 1/10\n",
            "1563/1563 [==============================] - 14s 7ms/step - loss: 2.3174 - accuracy: 0.0969 - val_loss: 2.3026 - val_accuracy: 0.1000\n",
            "Epoch 2/10\n",
            "1563/1563 [==============================] - 11s 7ms/step - loss: 2.3033 - accuracy: 0.0965 - val_loss: 2.3027 - val_accuracy: 0.1000\n",
            "Epoch 3/10\n",
            "1563/1563 [==============================] - 10s 6ms/step - loss: 2.3036 - accuracy: 0.0983 - val_loss: 2.3029 - val_accuracy: 0.1000\n",
            "Epoch 4/10\n",
            "1563/1563 [==============================] - 11s 7ms/step - loss: 2.3034 - accuracy: 0.0978 - val_loss: 2.3028 - val_accuracy: 0.1000\n",
            "Epoch 5/10\n",
            "1563/1563 [==============================] - 11s 7ms/step - loss: 2.3033 - accuracy: 0.0982 - val_loss: 2.3035 - val_accuracy: 0.1000\n",
            "Epoch 6/10\n",
            "1563/1563 [==============================] - 11s 7ms/step - loss: 2.3036 - accuracy: 0.0990 - val_loss: 2.3028 - val_accuracy: 0.1000\n",
            "Epoch 7/10\n",
            "1563/1563 [==============================] - 10s 7ms/step - loss: 2.3034 - accuracy: 0.0998 - val_loss: 2.3030 - val_accuracy: 0.1000\n",
            "Epoch 8/10\n",
            "1563/1563 [==============================] - 10s 7ms/step - loss: 2.3034 - accuracy: 0.1009 - val_loss: 2.3029 - val_accuracy: 0.1000\n",
            "Epoch 9/10\n",
            "1563/1563 [==============================] - 11s 7ms/step - loss: 2.3035 - accuracy: 0.0969 - val_loss: 2.3030 - val_accuracy: 0.1000\n",
            "Epoch 10/10\n",
            "1563/1563 [==============================] - 10s 7ms/step - loss: 2.3036 - accuracy: 0.1006 - val_loss: 2.3039 - val_accuracy: 0.1000\n"
          ]
        },
        {
          "output_type": "execute_result",
          "data": {
            "text/plain": [
              "<keras.engine.sequential.Sequential at 0x7f1b74214a90>"
            ]
          },
          "metadata": {},
          "execution_count": 14
        }
      ]
    },
    {
      "cell_type": "code",
      "metadata": {
        "id": "aIlCmlnNH7d1",
        "colab": {
          "base_uri": "https://localhost:8080/"
        },
        "outputId": "6bf6bfb2-c82b-416c-d25d-690bcb9b1bba"
      },
      "source": [
        "# учим sgd\n",
        "train_model(optimizer=\"sgd\")"
      ],
      "execution_count": 15,
      "outputs": [
        {
          "output_type": "stream",
          "name": "stdout",
          "text": [
            "Epoch 1/10\n",
            "1563/1563 [==============================] - 13s 7ms/step - loss: 2.0828 - accuracy: 0.2361 - val_loss: 1.7616 - val_accuracy: 0.3780\n",
            "Epoch 2/10\n",
            "1563/1563 [==============================] - 10s 6ms/step - loss: 1.7043 - accuracy: 0.3777 - val_loss: 1.5121 - val_accuracy: 0.4584\n",
            "Epoch 3/10\n",
            "1563/1563 [==============================] - 10s 6ms/step - loss: 1.5407 - accuracy: 0.4365 - val_loss: 1.3736 - val_accuracy: 0.4975\n",
            "Epoch 4/10\n",
            "1563/1563 [==============================] - 10s 6ms/step - loss: 1.4246 - accuracy: 0.4834 - val_loss: 1.3050 - val_accuracy: 0.5323\n",
            "Epoch 5/10\n",
            "1563/1563 [==============================] - 10s 6ms/step - loss: 1.3331 - accuracy: 0.5188 - val_loss: 1.2085 - val_accuracy: 0.5618\n",
            "Epoch 6/10\n",
            "1563/1563 [==============================] - 10s 6ms/step - loss: 1.2606 - accuracy: 0.5466 - val_loss: 1.1271 - val_accuracy: 0.6051\n",
            "Epoch 7/10\n",
            "1563/1563 [==============================] - 9s 6ms/step - loss: 1.1970 - accuracy: 0.5710 - val_loss: 1.1099 - val_accuracy: 0.6025\n",
            "Epoch 8/10\n",
            "1563/1563 [==============================] - 9s 6ms/step - loss: 1.1394 - accuracy: 0.5920 - val_loss: 1.0243 - val_accuracy: 0.6366\n",
            "Epoch 9/10\n",
            "1563/1563 [==============================] - 10s 6ms/step - loss: 1.0931 - accuracy: 0.6112 - val_loss: 1.0152 - val_accuracy: 0.6431\n",
            "Epoch 10/10\n",
            "1563/1563 [==============================] - 10s 7ms/step - loss: 1.0452 - accuracy: 0.6282 - val_loss: 0.9411 - val_accuracy: 0.6715\n"
          ]
        },
        {
          "output_type": "execute_result",
          "data": {
            "text/plain": [
              "<keras.engine.sequential.Sequential at 0x7f1ae869d1e0>"
            ]
          },
          "metadata": {},
          "execution_count": 15
        }
      ]
    },
    {
      "cell_type": "code",
      "metadata": {
        "id": "2VFLuNi4ILXN"
      },
      "source": [
        "def make_bn_model():\n",
        "    model = Sequential()\n",
        "    model.add(\n",
        "        Conv2D(filters=16, kernel_size=(3, 3), padding='same', activation=\"relu\", input_shape=(32, 32, 3))\n",
        "    )\n",
        "    model.add(L.BatchNormalization())\n",
        "    model.add(\n",
        "        Conv2D(filters=32, kernel_size=(3, 3), padding='same', activation=\"relu\")\n",
        "    )\n",
        "    model.add(L.BatchNormalization())\n",
        "    model.add(\n",
        "        MaxPooling2D(pool_size=(2, 2))\n",
        "    )\n",
        "    model.add(\n",
        "        Dropout(rate=0.25)\n",
        "    )\n",
        "    model.add(\n",
        "        Conv2D(filters=32, kernel_size=(3, 3), padding='same', activation=\"relu\")\n",
        "    )\n",
        "    model.add(L.BatchNormalization())\n",
        "    model.add(\n",
        "        Conv2D(filters=54, kernel_size=(3, 3), padding='same', activation=\"relu\")\n",
        "    )\n",
        "    model.add(L.BatchNormalization())\n",
        "    model.add(\n",
        "        MaxPooling2D(pool_size=(2, 2))\n",
        "    )\n",
        "    model.add(\n",
        "        Dropout(rate=0.25)\n",
        "    )\n",
        "    model.add(\n",
        "        Flatten()\n",
        "    )\n",
        "    model.add(\n",
        "        Dense(units=256, activation='relu')\n",
        "    )\n",
        "    model.add(L.BatchNormalization())\n",
        "    model.add(\n",
        "        Dropout(rate=0.5)\n",
        "    )\n",
        "    model.add(\n",
        "        Dense(units=10, activation='softmax')\n",
        "    )\n",
        "    return model"
      ],
      "execution_count": 16,
      "outputs": []
    },
    {
      "cell_type": "code",
      "metadata": {
        "id": "8xX0p3Z0IiA3",
        "colab": {
          "base_uri": "https://localhost:8080/"
        },
        "outputId": "3a944004-b154-4240-a353-50443764e9ff"
      },
      "source": [
        "# учим bn\n",
        "train_model(make_bn_model)"
      ],
      "execution_count": 17,
      "outputs": [
        {
          "output_type": "stream",
          "name": "stdout",
          "text": [
            "Epoch 1/10\n",
            "1563/1563 [==============================] - 19s 9ms/step - loss: 1.4893 - accuracy: 0.4898 - val_loss: 0.9923 - val_accuracy: 0.6470\n",
            "Epoch 2/10\n",
            "1563/1563 [==============================] - 15s 10ms/step - loss: 1.0247 - accuracy: 0.6365 - val_loss: 0.8422 - val_accuracy: 0.7013\n",
            "Epoch 3/10\n",
            "1563/1563 [==============================] - 13s 8ms/step - loss: 0.8966 - accuracy: 0.6842 - val_loss: 0.7639 - val_accuracy: 0.7292\n",
            "Epoch 4/10\n",
            "1563/1563 [==============================] - 13s 8ms/step - loss: 0.8023 - accuracy: 0.7202 - val_loss: 0.7160 - val_accuracy: 0.7482\n",
            "Epoch 5/10\n",
            "1563/1563 [==============================] - 13s 8ms/step - loss: 0.7385 - accuracy: 0.7426 - val_loss: 0.6712 - val_accuracy: 0.7636\n",
            "Epoch 6/10\n",
            "1563/1563 [==============================] - 13s 8ms/step - loss: 0.6836 - accuracy: 0.7614 - val_loss: 0.6229 - val_accuracy: 0.7817\n",
            "Epoch 7/10\n",
            "1563/1563 [==============================] - 13s 8ms/step - loss: 0.6360 - accuracy: 0.7764 - val_loss: 0.6175 - val_accuracy: 0.7885\n",
            "Epoch 8/10\n",
            "1563/1563 [==============================] - 13s 8ms/step - loss: 0.5973 - accuracy: 0.7878 - val_loss: 0.6225 - val_accuracy: 0.7882\n",
            "Epoch 9/10\n",
            "1563/1563 [==============================] - 13s 9ms/step - loss: 0.5622 - accuracy: 0.8038 - val_loss: 0.6016 - val_accuracy: 0.7963\n",
            "Epoch 10/10\n",
            "1563/1563 [==============================] - 14s 9ms/step - loss: 0.5288 - accuracy: 0.8153 - val_loss: 0.5940 - val_accuracy: 0.7953\n"
          ]
        },
        {
          "output_type": "execute_result",
          "data": {
            "text/plain": [
              "<keras.engine.sequential.Sequential at 0x7f1b680e2830>"
            ]
          },
          "metadata": {},
          "execution_count": 17
        }
      ]
    },
    {
      "cell_type": "code",
      "metadata": {
        "id": "eXaGmu8XIkhk"
      },
      "source": [
        "def make_sigmoid_bn_model():\n",
        "    model = Sequential()\n",
        "    model.add(\n",
        "        Conv2D(filters=16, kernel_size=(3, 3), padding='same', activation=\"sigmoid\", input_shape=(32, 32, 3))\n",
        "    )\n",
        "    model.add(L.BatchNormalization())\n",
        "    model.add(\n",
        "        Conv2D(filters=32, kernel_size=(3, 3), padding='same', activation=\"sigmoid\")\n",
        "    )\n",
        "    model.add(L.BatchNormalization())\n",
        "    model.add(\n",
        "        MaxPooling2D(pool_size=(2, 2))\n",
        "    )\n",
        "    model.add(\n",
        "        Dropout(rate=0.25)\n",
        "    )\n",
        "    model.add(\n",
        "        Conv2D(filters=32, kernel_size=(3, 3), padding='same', activation=\"sigmoid\")\n",
        "    )\n",
        "    model.add(L.BatchNormalization())\n",
        "    model.add(\n",
        "        Conv2D(filters=54, kernel_size=(3, 3), padding='same', activation=\"sigmoid\")\n",
        "    )\n",
        "    model.add(L.BatchNormalization())\n",
        "    model.add(\n",
        "        MaxPooling2D(pool_size=(2, 2))\n",
        "    )\n",
        "    model.add(\n",
        "        Dropout(rate=0.25)\n",
        "    )\n",
        "    model.add(\n",
        "        Flatten()\n",
        "    )\n",
        "    model.add(\n",
        "        Dense(units=256, activation='sigmoid')\n",
        "    )\n",
        "    model.add(L.BatchNormalization())\n",
        "    model.add(\n",
        "        Dropout(rate=0.5)\n",
        "    )\n",
        "    model.add(\n",
        "        Dense(units=10, activation='softmax')\n",
        "    )\n",
        "    return model"
      ],
      "execution_count": 18,
      "outputs": []
    },
    {
      "cell_type": "code",
      "metadata": {
        "id": "9sp7EOkvLAkR",
        "colab": {
          "base_uri": "https://localhost:8080/"
        },
        "outputId": "fd6fa51e-f8d4-4868-f315-e9deb8e6fbcf"
      },
      "source": [
        "# учим sigmoid + bn\n",
        "train_model(make_sigmoid_bn_model)"
      ],
      "execution_count": null,
      "outputs": [
        {
          "output_type": "stream",
          "name": "stdout",
          "text": [
            "Epoch 1/10\n",
            "1563/1563 [==============================] - 20s 9ms/step - loss: 1.5520 - accuracy: 0.4514 - val_loss: 1.2175 - val_accuracy: 0.5772\n",
            "Epoch 2/10\n",
            "1563/1563 [==============================] - 14s 9ms/step - loss: 1.1708 - accuracy: 0.5857 - val_loss: 1.1057 - val_accuracy: 0.6300\n",
            "Epoch 3/10\n",
            "1563/1563 [==============================] - 14s 9ms/step - loss: 1.0476 - accuracy: 0.6341 - val_loss: 0.9265 - val_accuracy: 0.6781\n",
            "Epoch 4/10\n",
            "1563/1563 [==============================] - 17s 11ms/step - loss: 0.9672 - accuracy: 0.6646 - val_loss: 0.8377 - val_accuracy: 0.7051\n",
            "Epoch 5/10\n",
            "1563/1563 [==============================] - 14s 9ms/step - loss: 0.9061 - accuracy: 0.6842 - val_loss: 0.8470 - val_accuracy: 0.7099\n",
            "Epoch 6/10\n",
            "1563/1563 [==============================] - 14s 9ms/step - loss: 0.8559 - accuracy: 0.7005 - val_loss: 0.9534 - val_accuracy: 0.6895\n",
            "Epoch 7/10\n",
            "1563/1563 [==============================] - 13s 9ms/step - loss: 0.8252 - accuracy: 0.7136 - val_loss: 0.8246 - val_accuracy: 0.7217\n",
            "Epoch 8/10\n",
            "1563/1563 [==============================] - 14s 9ms/step - loss: 0.7891 - accuracy: 0.7263 - val_loss: 0.8716 - val_accuracy: 0.7176\n",
            "Epoch 9/10\n",
            "1563/1563 [==============================] - 14s 9ms/step - loss: 0.7651 - accuracy: 0.7352 - val_loss: 0.8642 - val_accuracy: 0.7215\n",
            "Epoch 10/10\n",
            "1563/1563 [==============================] - 13s 8ms/step - loss: 0.7362 - accuracy: 0.7443 - val_loss: 0.7700 - val_accuracy: 0.7393\n"
          ]
        }
      ]
    }
  ]
}